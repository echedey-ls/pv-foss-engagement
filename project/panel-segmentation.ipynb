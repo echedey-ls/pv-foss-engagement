{
 "cells": [
  {
   "cell_type": "markdown",
   "id": "9a51a013-8798-4327-bd2b-5aaf0427cda4",
   "metadata": {},
   "source": [
    "# Panel-Segmentation"
   ]
  },
  {
   "cell_type": "code",
   "execution_count": 1,
   "id": "50531b9f-821b-4f17-ae11-535b6241dee6",
   "metadata": {
    "execution": {
     "iopub.execute_input": "2023-10-27T13:17:49.969813Z",
     "iopub.status.busy": "2023-10-27T13:17:49.969379Z",
     "iopub.status.idle": "2023-10-27T13:17:50.550523Z",
     "shell.execute_reply": "2023-10-27T13:17:50.549815Z"
    }
   },
   "outputs": [],
   "source": [
    "import utils\n",
    "import pandas as pd\n",
    "import numpy as np\n",
    "import datetime\n",
    "\n",
    "from bokeh.plotting import figure, show\n",
    "from bokeh.models import HoverTool\n",
    "from bokeh.transform import jitter\n",
    "from bokeh.io import output_notebook"
   ]
  },
  {
   "cell_type": "code",
   "execution_count": 2,
   "id": "c987023b-ca0a-4ebf-9b9d-33793d3cf8f8",
   "metadata": {
    "execution": {
     "iopub.execute_input": "2023-10-27T13:17:50.554332Z",
     "iopub.status.busy": "2023-10-27T13:17:50.553725Z",
     "iopub.status.idle": "2023-10-27T13:17:50.566237Z",
     "shell.execute_reply": "2023-10-27T13:17:50.565618Z"
    }
   },
   "outputs": [
    {
     "data": {
      "text/html": [
       "<div class=\"bk-root\">\n",
       "        <a href=\"https://bokeh.org\" target=\"_blank\" class=\"bk-logo bk-logo-small bk-logo-notebook\"></a>\n",
       "        <span id=\"1002\">Loading BokehJS ...</span>\n",
       "    </div>\n"
      ]
     },
     "metadata": {},
     "output_type": "display_data"
    },
    {
     "data": {
      "application/javascript": [
       "(function(root) {\n",
       "  function now() {\n",
       "    return new Date();\n",
       "  }\n",
       "\n",
       "  const force = true;\n",
       "\n",
       "  if (typeof root._bokeh_onload_callbacks === \"undefined\" || force === true) {\n",
       "    root._bokeh_onload_callbacks = [];\n",
       "    root._bokeh_is_loading = undefined;\n",
       "  }\n",
       "\n",
       "const JS_MIME_TYPE = 'application/javascript';\n",
       "  const HTML_MIME_TYPE = 'text/html';\n",
       "  const EXEC_MIME_TYPE = 'application/vnd.bokehjs_exec.v0+json';\n",
       "  const CLASS_NAME = 'output_bokeh rendered_html';\n",
       "\n",
       "  /**\n",
       "   * Render data to the DOM node\n",
       "   */\n",
       "  function render(props, node) {\n",
       "    const script = document.createElement(\"script\");\n",
       "    node.appendChild(script);\n",
       "  }\n",
       "\n",
       "  /**\n",
       "   * Handle when an output is cleared or removed\n",
       "   */\n",
       "  function handleClearOutput(event, handle) {\n",
       "    const cell = handle.cell;\n",
       "\n",
       "    const id = cell.output_area._bokeh_element_id;\n",
       "    const server_id = cell.output_area._bokeh_server_id;\n",
       "    // Clean up Bokeh references\n",
       "    if (id != null && id in Bokeh.index) {\n",
       "      Bokeh.index[id].model.document.clear();\n",
       "      delete Bokeh.index[id];\n",
       "    }\n",
       "\n",
       "    if (server_id !== undefined) {\n",
       "      // Clean up Bokeh references\n",
       "      const cmd_clean = \"from bokeh.io.state import curstate; print(curstate().uuid_to_server['\" + server_id + \"'].get_sessions()[0].document.roots[0]._id)\";\n",
       "      cell.notebook.kernel.execute(cmd_clean, {\n",
       "        iopub: {\n",
       "          output: function(msg) {\n",
       "            const id = msg.content.text.trim();\n",
       "            if (id in Bokeh.index) {\n",
       "              Bokeh.index[id].model.document.clear();\n",
       "              delete Bokeh.index[id];\n",
       "            }\n",
       "          }\n",
       "        }\n",
       "      });\n",
       "      // Destroy server and session\n",
       "      const cmd_destroy = \"import bokeh.io.notebook as ion; ion.destroy_server('\" + server_id + \"')\";\n",
       "      cell.notebook.kernel.execute(cmd_destroy);\n",
       "    }\n",
       "  }\n",
       "\n",
       "  /**\n",
       "   * Handle when a new output is added\n",
       "   */\n",
       "  function handleAddOutput(event, handle) {\n",
       "    const output_area = handle.output_area;\n",
       "    const output = handle.output;\n",
       "\n",
       "    // limit handleAddOutput to display_data with EXEC_MIME_TYPE content only\n",
       "    if ((output.output_type != \"display_data\") || (!Object.prototype.hasOwnProperty.call(output.data, EXEC_MIME_TYPE))) {\n",
       "      return\n",
       "    }\n",
       "\n",
       "    const toinsert = output_area.element.find(\".\" + CLASS_NAME.split(' ')[0]);\n",
       "\n",
       "    if (output.metadata[EXEC_MIME_TYPE][\"id\"] !== undefined) {\n",
       "      toinsert[toinsert.length - 1].firstChild.textContent = output.data[JS_MIME_TYPE];\n",
       "      // store reference to embed id on output_area\n",
       "      output_area._bokeh_element_id = output.metadata[EXEC_MIME_TYPE][\"id\"];\n",
       "    }\n",
       "    if (output.metadata[EXEC_MIME_TYPE][\"server_id\"] !== undefined) {\n",
       "      const bk_div = document.createElement(\"div\");\n",
       "      bk_div.innerHTML = output.data[HTML_MIME_TYPE];\n",
       "      const script_attrs = bk_div.children[0].attributes;\n",
       "      for (let i = 0; i < script_attrs.length; i++) {\n",
       "        toinsert[toinsert.length - 1].firstChild.setAttribute(script_attrs[i].name, script_attrs[i].value);\n",
       "        toinsert[toinsert.length - 1].firstChild.textContent = bk_div.children[0].textContent\n",
       "      }\n",
       "      // store reference to server id on output_area\n",
       "      output_area._bokeh_server_id = output.metadata[EXEC_MIME_TYPE][\"server_id\"];\n",
       "    }\n",
       "  }\n",
       "\n",
       "  function register_renderer(events, OutputArea) {\n",
       "\n",
       "    function append_mime(data, metadata, element) {\n",
       "      // create a DOM node to render to\n",
       "      const toinsert = this.create_output_subarea(\n",
       "        metadata,\n",
       "        CLASS_NAME,\n",
       "        EXEC_MIME_TYPE\n",
       "      );\n",
       "      this.keyboard_manager.register_events(toinsert);\n",
       "      // Render to node\n",
       "      const props = {data: data, metadata: metadata[EXEC_MIME_TYPE]};\n",
       "      render(props, toinsert[toinsert.length - 1]);\n",
       "      element.append(toinsert);\n",
       "      return toinsert\n",
       "    }\n",
       "\n",
       "    /* Handle when an output is cleared or removed */\n",
       "    events.on('clear_output.CodeCell', handleClearOutput);\n",
       "    events.on('delete.Cell', handleClearOutput);\n",
       "\n",
       "    /* Handle when a new output is added */\n",
       "    events.on('output_added.OutputArea', handleAddOutput);\n",
       "\n",
       "    /**\n",
       "     * Register the mime type and append_mime function with output_area\n",
       "     */\n",
       "    OutputArea.prototype.register_mime_type(EXEC_MIME_TYPE, append_mime, {\n",
       "      /* Is output safe? */\n",
       "      safe: true,\n",
       "      /* Index of renderer in `output_area.display_order` */\n",
       "      index: 0\n",
       "    });\n",
       "  }\n",
       "\n",
       "  // register the mime type if in Jupyter Notebook environment and previously unregistered\n",
       "  if (root.Jupyter !== undefined) {\n",
       "    const events = require('base/js/events');\n",
       "    const OutputArea = require('notebook/js/outputarea').OutputArea;\n",
       "\n",
       "    if (OutputArea.prototype.mime_types().indexOf(EXEC_MIME_TYPE) == -1) {\n",
       "      register_renderer(events, OutputArea);\n",
       "    }\n",
       "  }\n",
       "  if (typeof (root._bokeh_timeout) === \"undefined\" || force === true) {\n",
       "    root._bokeh_timeout = Date.now() + 5000;\n",
       "    root._bokeh_failed_load = false;\n",
       "  }\n",
       "\n",
       "  const NB_LOAD_WARNING = {'data': {'text/html':\n",
       "     \"<div style='background-color: #fdd'>\\n\"+\n",
       "     \"<p>\\n\"+\n",
       "     \"BokehJS does not appear to have successfully loaded. If loading BokehJS from CDN, this \\n\"+\n",
       "     \"may be due to a slow or bad network connection. Possible fixes:\\n\"+\n",
       "     \"</p>\\n\"+\n",
       "     \"<ul>\\n\"+\n",
       "     \"<li>re-rerun `output_notebook()` to attempt to load from CDN again, or</li>\\n\"+\n",
       "     \"<li>use INLINE resources instead, as so:</li>\\n\"+\n",
       "     \"</ul>\\n\"+\n",
       "     \"<code>\\n\"+\n",
       "     \"from bokeh.resources import INLINE\\n\"+\n",
       "     \"output_notebook(resources=INLINE)\\n\"+\n",
       "     \"</code>\\n\"+\n",
       "     \"</div>\"}};\n",
       "\n",
       "  function display_loaded() {\n",
       "    const el = document.getElementById(\"1002\");\n",
       "    if (el != null) {\n",
       "      el.textContent = \"BokehJS is loading...\";\n",
       "    }\n",
       "    if (root.Bokeh !== undefined) {\n",
       "      if (el != null) {\n",
       "        el.textContent = \"BokehJS \" + root.Bokeh.version + \" successfully loaded.\";\n",
       "      }\n",
       "    } else if (Date.now() < root._bokeh_timeout) {\n",
       "      setTimeout(display_loaded, 100)\n",
       "    }\n",
       "  }\n",
       "\n",
       "  function run_callbacks() {\n",
       "    try {\n",
       "      root._bokeh_onload_callbacks.forEach(function(callback) {\n",
       "        if (callback != null)\n",
       "          callback();\n",
       "      });\n",
       "    } finally {\n",
       "      delete root._bokeh_onload_callbacks\n",
       "    }\n",
       "    console.debug(\"Bokeh: all callbacks have finished\");\n",
       "  }\n",
       "\n",
       "  function load_libs(css_urls, js_urls, callback) {\n",
       "    if (css_urls == null) css_urls = [];\n",
       "    if (js_urls == null) js_urls = [];\n",
       "\n",
       "    root._bokeh_onload_callbacks.push(callback);\n",
       "    if (root._bokeh_is_loading > 0) {\n",
       "      console.debug(\"Bokeh: BokehJS is being loaded, scheduling callback at\", now());\n",
       "      return null;\n",
       "    }\n",
       "    if (js_urls == null || js_urls.length === 0) {\n",
       "      run_callbacks();\n",
       "      return null;\n",
       "    }\n",
       "    console.debug(\"Bokeh: BokehJS not loaded, scheduling load and callback at\", now());\n",
       "    root._bokeh_is_loading = css_urls.length + js_urls.length;\n",
       "\n",
       "    function on_load() {\n",
       "      root._bokeh_is_loading--;\n",
       "      if (root._bokeh_is_loading === 0) {\n",
       "        console.debug(\"Bokeh: all BokehJS libraries/stylesheets loaded\");\n",
       "        run_callbacks()\n",
       "      }\n",
       "    }\n",
       "\n",
       "    function on_error(url) {\n",
       "      console.error(\"failed to load \" + url);\n",
       "    }\n",
       "\n",
       "    for (let i = 0; i < css_urls.length; i++) {\n",
       "      const url = css_urls[i];\n",
       "      const element = document.createElement(\"link\");\n",
       "      element.onload = on_load;\n",
       "      element.onerror = on_error.bind(null, url);\n",
       "      element.rel = \"stylesheet\";\n",
       "      element.type = \"text/css\";\n",
       "      element.href = url;\n",
       "      console.debug(\"Bokeh: injecting link tag for BokehJS stylesheet: \", url);\n",
       "      document.body.appendChild(element);\n",
       "    }\n",
       "\n",
       "    for (let i = 0; i < js_urls.length; i++) {\n",
       "      const url = js_urls[i];\n",
       "      const element = document.createElement('script');\n",
       "      element.onload = on_load;\n",
       "      element.onerror = on_error.bind(null, url);\n",
       "      element.async = false;\n",
       "      element.src = url;\n",
       "      console.debug(\"Bokeh: injecting script tag for BokehJS library: \", url);\n",
       "      document.head.appendChild(element);\n",
       "    }\n",
       "  };\n",
       "\n",
       "  function inject_raw_css(css) {\n",
       "    const element = document.createElement(\"style\");\n",
       "    element.appendChild(document.createTextNode(css));\n",
       "    document.body.appendChild(element);\n",
       "  }\n",
       "\n",
       "  const js_urls = [\"https://cdn.bokeh.org/bokeh/release/bokeh-2.4.3.min.js\", \"https://cdn.bokeh.org/bokeh/release/bokeh-gl-2.4.3.min.js\", \"https://cdn.bokeh.org/bokeh/release/bokeh-widgets-2.4.3.min.js\", \"https://cdn.bokeh.org/bokeh/release/bokeh-tables-2.4.3.min.js\", \"https://cdn.bokeh.org/bokeh/release/bokeh-mathjax-2.4.3.min.js\"];\n",
       "  const css_urls = [];\n",
       "\n",
       "  const inline_js = [    function(Bokeh) {\n",
       "      Bokeh.set_log_level(\"info\");\n",
       "    },\n",
       "function(Bokeh) {\n",
       "    }\n",
       "  ];\n",
       "\n",
       "  function run_inline_js() {\n",
       "    if (root.Bokeh !== undefined || force === true) {\n",
       "          for (let i = 0; i < inline_js.length; i++) {\n",
       "      inline_js[i].call(root, root.Bokeh);\n",
       "    }\n",
       "if (force === true) {\n",
       "        display_loaded();\n",
       "      }} else if (Date.now() < root._bokeh_timeout) {\n",
       "      setTimeout(run_inline_js, 100);\n",
       "    } else if (!root._bokeh_failed_load) {\n",
       "      console.log(\"Bokeh: BokehJS failed to load within specified timeout.\");\n",
       "      root._bokeh_failed_load = true;\n",
       "    } else if (force !== true) {\n",
       "      const cell = $(document.getElementById(\"1002\")).parents('.cell').data().cell;\n",
       "      cell.output_area.append_execute_result(NB_LOAD_WARNING)\n",
       "    }\n",
       "  }\n",
       "\n",
       "  if (root._bokeh_is_loading === 0) {\n",
       "    console.debug(\"Bokeh: BokehJS loaded, going straight to plotting\");\n",
       "    run_inline_js();\n",
       "  } else {\n",
       "    load_libs(css_urls, js_urls, function() {\n",
       "      console.debug(\"Bokeh: BokehJS plotting callback run at\", now());\n",
       "      run_inline_js();\n",
       "    });\n",
       "  }\n",
       "}(window));"
      ],
      "application/vnd.bokehjs_load.v0+json": "(function(root) {\n  function now() {\n    return new Date();\n  }\n\n  const force = true;\n\n  if (typeof root._bokeh_onload_callbacks === \"undefined\" || force === true) {\n    root._bokeh_onload_callbacks = [];\n    root._bokeh_is_loading = undefined;\n  }\n\n\n  if (typeof (root._bokeh_timeout) === \"undefined\" || force === true) {\n    root._bokeh_timeout = Date.now() + 5000;\n    root._bokeh_failed_load = false;\n  }\n\n  const NB_LOAD_WARNING = {'data': {'text/html':\n     \"<div style='background-color: #fdd'>\\n\"+\n     \"<p>\\n\"+\n     \"BokehJS does not appear to have successfully loaded. If loading BokehJS from CDN, this \\n\"+\n     \"may be due to a slow or bad network connection. Possible fixes:\\n\"+\n     \"</p>\\n\"+\n     \"<ul>\\n\"+\n     \"<li>re-rerun `output_notebook()` to attempt to load from CDN again, or</li>\\n\"+\n     \"<li>use INLINE resources instead, as so:</li>\\n\"+\n     \"</ul>\\n\"+\n     \"<code>\\n\"+\n     \"from bokeh.resources import INLINE\\n\"+\n     \"output_notebook(resources=INLINE)\\n\"+\n     \"</code>\\n\"+\n     \"</div>\"}};\n\n  function display_loaded() {\n    const el = document.getElementById(\"1002\");\n    if (el != null) {\n      el.textContent = \"BokehJS is loading...\";\n    }\n    if (root.Bokeh !== undefined) {\n      if (el != null) {\n        el.textContent = \"BokehJS \" + root.Bokeh.version + \" successfully loaded.\";\n      }\n    } else if (Date.now() < root._bokeh_timeout) {\n      setTimeout(display_loaded, 100)\n    }\n  }\n\n  function run_callbacks() {\n    try {\n      root._bokeh_onload_callbacks.forEach(function(callback) {\n        if (callback != null)\n          callback();\n      });\n    } finally {\n      delete root._bokeh_onload_callbacks\n    }\n    console.debug(\"Bokeh: all callbacks have finished\");\n  }\n\n  function load_libs(css_urls, js_urls, callback) {\n    if (css_urls == null) css_urls = [];\n    if (js_urls == null) js_urls = [];\n\n    root._bokeh_onload_callbacks.push(callback);\n    if (root._bokeh_is_loading > 0) {\n      console.debug(\"Bokeh: BokehJS is being loaded, scheduling callback at\", now());\n      return null;\n    }\n    if (js_urls == null || js_urls.length === 0) {\n      run_callbacks();\n      return null;\n    }\n    console.debug(\"Bokeh: BokehJS not loaded, scheduling load and callback at\", now());\n    root._bokeh_is_loading = css_urls.length + js_urls.length;\n\n    function on_load() {\n      root._bokeh_is_loading--;\n      if (root._bokeh_is_loading === 0) {\n        console.debug(\"Bokeh: all BokehJS libraries/stylesheets loaded\");\n        run_callbacks()\n      }\n    }\n\n    function on_error(url) {\n      console.error(\"failed to load \" + url);\n    }\n\n    for (let i = 0; i < css_urls.length; i++) {\n      const url = css_urls[i];\n      const element = document.createElement(\"link\");\n      element.onload = on_load;\n      element.onerror = on_error.bind(null, url);\n      element.rel = \"stylesheet\";\n      element.type = \"text/css\";\n      element.href = url;\n      console.debug(\"Bokeh: injecting link tag for BokehJS stylesheet: \", url);\n      document.body.appendChild(element);\n    }\n\n    for (let i = 0; i < js_urls.length; i++) {\n      const url = js_urls[i];\n      const element = document.createElement('script');\n      element.onload = on_load;\n      element.onerror = on_error.bind(null, url);\n      element.async = false;\n      element.src = url;\n      console.debug(\"Bokeh: injecting script tag for BokehJS library: \", url);\n      document.head.appendChild(element);\n    }\n  };\n\n  function inject_raw_css(css) {\n    const element = document.createElement(\"style\");\n    element.appendChild(document.createTextNode(css));\n    document.body.appendChild(element);\n  }\n\n  const js_urls = [\"https://cdn.bokeh.org/bokeh/release/bokeh-2.4.3.min.js\", \"https://cdn.bokeh.org/bokeh/release/bokeh-gl-2.4.3.min.js\", \"https://cdn.bokeh.org/bokeh/release/bokeh-widgets-2.4.3.min.js\", \"https://cdn.bokeh.org/bokeh/release/bokeh-tables-2.4.3.min.js\", \"https://cdn.bokeh.org/bokeh/release/bokeh-mathjax-2.4.3.min.js\"];\n  const css_urls = [];\n\n  const inline_js = [    function(Bokeh) {\n      Bokeh.set_log_level(\"info\");\n    },\nfunction(Bokeh) {\n    }\n  ];\n\n  function run_inline_js() {\n    if (root.Bokeh !== undefined || force === true) {\n          for (let i = 0; i < inline_js.length; i++) {\n      inline_js[i].call(root, root.Bokeh);\n    }\nif (force === true) {\n        display_loaded();\n      }} else if (Date.now() < root._bokeh_timeout) {\n      setTimeout(run_inline_js, 100);\n    } else if (!root._bokeh_failed_load) {\n      console.log(\"Bokeh: BokehJS failed to load within specified timeout.\");\n      root._bokeh_failed_load = true;\n    } else if (force !== true) {\n      const cell = $(document.getElementById(\"1002\")).parents('.cell').data().cell;\n      cell.output_area.append_execute_result(NB_LOAD_WARNING)\n    }\n  }\n\n  if (root._bokeh_is_loading === 0) {\n    console.debug(\"Bokeh: BokehJS loaded, going straight to plotting\");\n    run_inline_js();\n  } else {\n    load_libs(css_urls, js_urls, function() {\n      console.debug(\"Bokeh: BokehJS plotting callback run at\", now());\n      run_inline_js();\n    });\n  }\n}(window));"
     },
     "metadata": {},
     "output_type": "display_data"
    }
   ],
   "source": [
    "output_notebook()"
   ]
  },
  {
   "cell_type": "markdown",
   "id": "4135857c-1ed8-4a5e-a240-4707fe72f21c",
   "metadata": {},
   "source": [
    "## ReadTheDocs"
   ]
  },
  {
   "cell_type": "code",
   "execution_count": 3,
   "id": "6c7a30e9-97a4-4344-b832-ba526d2836e9",
   "metadata": {
    "execution": {
     "iopub.execute_input": "2023-10-27T13:17:50.569274Z",
     "iopub.status.busy": "2023-10-27T13:17:50.568840Z",
     "iopub.status.idle": "2023-10-27T13:17:50.621323Z",
     "shell.execute_reply": "2023-10-27T13:17:50.620616Z"
    }
   },
   "outputs": [],
   "source": [
    "df = utils.get_rtd_analytics_data('panel-segmentation')\n",
    "data_period = df['Date'].min().strftime('%Y-%m-%d') + ' to ' + df['Date'].max().strftime('%Y-%m-%d')"
   ]
  },
  {
   "cell_type": "code",
   "execution_count": 4,
   "id": "60c947c9-f9c2-4ccf-b5e7-c9c9f3359e05",
   "metadata": {
    "execution": {
     "iopub.execute_input": "2023-10-27T13:17:50.625002Z",
     "iopub.status.busy": "2023-10-27T13:17:50.624603Z",
     "iopub.status.idle": "2023-10-27T13:17:50.677498Z",
     "shell.execute_reply": "2023-10-27T13:17:50.676833Z"
    }
   },
   "outputs": [
    {
     "data": {
      "text/html": [
       "\n",
       "  <div class=\"bk-root\" id=\"105c7421-f510-41ef-87bc-d3929e4b5f36\" data-root-id=\"1003\"></div>\n"
      ]
     },
     "metadata": {},
     "output_type": "display_data"
    },
    {
     "data": {
      "application/javascript": [
       "(function(root) {\n",
       "  function embed_document(root) {\n",
       "  const docs_json = {\"8f67cc0e-55cc-4d07-b63a-cfe7e6a4561d\":{\"defs\":[],\"roots\":{\"references\":[{\"attributes\":{\"below\":[{\"id\":\"1014\"}],\"center\":[{\"id\":\"1016\"},{\"id\":\"1020\"}],\"height\":350,\"left\":[{\"id\":\"1017\"}],\"renderers\":[{\"id\":\"1042\"}],\"title\":{\"id\":\"1004\"},\"toolbar\":{\"id\":\"1029\"},\"x_range\":{\"id\":\"1006\"},\"x_scale\":{\"id\":\"1010\"},\"y_range\":{\"id\":\"1008\"},\"y_scale\":{\"id\":\"1012\"}},\"id\":\"1003\",\"subtype\":\"Figure\",\"type\":\"Plot\"},{\"attributes\":{\"tools\":[{\"id\":\"1021\"},{\"id\":\"1022\"},{\"id\":\"1023\"},{\"id\":\"1024\"},{\"id\":\"1025\"},{\"id\":\"1026\"},{\"id\":\"1028\"}]},\"id\":\"1029\",\"type\":\"Toolbar\"},{\"attributes\":{},\"id\":\"1050\",\"type\":\"AllLabels\"},{\"attributes\":{\"fill_alpha\":{\"value\":0.1},\"fill_color\":{\"value\":\"#1f77b4\"},\"hatch_alpha\":{\"value\":0.1},\"line_alpha\":{\"value\":0.1},\"line_color\":{\"value\":\"white\"},\"top\":{\"field\":\"Views\"},\"width\":{\"value\":0.75},\"x\":{\"field\":\"Version\"}},\"id\":\"1040\",\"type\":\"VBar\"},{\"attributes\":{\"axis\":{\"id\":\"1017\"},\"coordinates\":null,\"dimension\":1,\"group\":null,\"ticker\":null},\"id\":\"1020\",\"type\":\"Grid\"},{\"attributes\":{},\"id\":\"1022\",\"type\":\"WheelZoomTool\"},{\"attributes\":{},\"id\":\"1047\",\"type\":\"AllLabels\"},{\"attributes\":{\"data\":{\"Version\":[\"latest\",\"stable\"],\"Views\":[163,20],\"index\":[0,1]},\"selected\":{\"id\":\"1052\"},\"selection_policy\":{\"id\":\"1051\"}},\"id\":\"1037\",\"type\":\"ColumnDataSource\"},{\"attributes\":{},\"id\":\"1046\",\"type\":\"BasicTickFormatter\"},{\"attributes\":{},\"id\":\"1008\",\"type\":\"DataRange1d\"},{\"attributes\":{},\"id\":\"1049\",\"type\":\"CategoricalTickFormatter\"},{\"attributes\":{},\"id\":\"1051\",\"type\":\"UnionRenderers\"},{\"attributes\":{\"coordinates\":null,\"group\":null,\"text\":\"Page views by RTD version (2022-08-29 to 2023-10-05)\"},\"id\":\"1004\",\"type\":\"Title\"},{\"attributes\":{\"overlay\":{\"id\":\"1027\"}},\"id\":\"1023\",\"type\":\"BoxZoomTool\"},{\"attributes\":{\"fill_color\":{\"value\":\"#1f77b4\"},\"line_color\":{\"value\":\"white\"},\"top\":{\"field\":\"Views\"},\"width\":{\"value\":0.75},\"x\":{\"field\":\"Version\"}},\"id\":\"1039\",\"type\":\"VBar\"},{\"attributes\":{},\"id\":\"1025\",\"type\":\"ResetTool\"},{\"attributes\":{\"factors\":[\"latest\",\"stable\"]},\"id\":\"1006\",\"type\":\"FactorRange\"},{\"attributes\":{},\"id\":\"1015\",\"type\":\"CategoricalTicker\"},{\"attributes\":{\"axis\":{\"id\":\"1014\"},\"coordinates\":null,\"group\":null,\"ticker\":null},\"id\":\"1016\",\"type\":\"Grid\"},{\"attributes\":{},\"id\":\"1010\",\"type\":\"CategoricalScale\"},{\"attributes\":{\"fill_alpha\":{\"value\":0.2},\"fill_color\":{\"value\":\"#1f77b4\"},\"hatch_alpha\":{\"value\":0.2},\"line_alpha\":{\"value\":0.2},\"line_color\":{\"value\":\"white\"},\"top\":{\"field\":\"Views\"},\"width\":{\"value\":0.75},\"x\":{\"field\":\"Version\"}},\"id\":\"1041\",\"type\":\"VBar\"},{\"attributes\":{\"bottom_units\":\"screen\",\"coordinates\":null,\"fill_alpha\":0.5,\"fill_color\":\"lightgrey\",\"group\":null,\"left_units\":\"screen\",\"level\":\"overlay\",\"line_alpha\":1.0,\"line_color\":\"black\",\"line_dash\":[4,4],\"line_width\":2,\"right_units\":\"screen\",\"syncable\":false,\"top_units\":\"screen\"},\"id\":\"1027\",\"type\":\"BoxAnnotation\"},{\"attributes\":{\"axis_label\":\"Total page views\",\"coordinates\":null,\"formatter\":{\"id\":\"1046\"},\"group\":null,\"major_label_policy\":{\"id\":\"1047\"},\"ticker\":{\"id\":\"1018\"}},\"id\":\"1017\",\"type\":\"LinearAxis\"},{\"attributes\":{},\"id\":\"1018\",\"type\":\"BasicTicker\"},{\"attributes\":{\"source\":{\"id\":\"1037\"}},\"id\":\"1043\",\"type\":\"CDSView\"},{\"attributes\":{},\"id\":\"1026\",\"type\":\"HelpTool\"},{\"attributes\":{\"coordinates\":null,\"formatter\":{\"id\":\"1049\"},\"group\":null,\"major_label_orientation\":1.57,\"major_label_policy\":{\"id\":\"1050\"},\"ticker\":{\"id\":\"1015\"}},\"id\":\"1014\",\"type\":\"CategoricalAxis\"},{\"attributes\":{},\"id\":\"1012\",\"type\":\"LinearScale\"},{\"attributes\":{},\"id\":\"1052\",\"type\":\"Selection\"},{\"attributes\":{\"coordinates\":null,\"data_source\":{\"id\":\"1037\"},\"glyph\":{\"id\":\"1039\"},\"group\":null,\"hover_glyph\":null,\"muted_glyph\":{\"id\":\"1041\"},\"nonselection_glyph\":{\"id\":\"1040\"},\"view\":{\"id\":\"1043\"}},\"id\":\"1042\",\"type\":\"GlyphRenderer\"},{\"attributes\":{\"callback\":null,\"tooltips\":[[\"Version\",\"@Version\"],[\"Views\",\"@Views\"]]},\"id\":\"1028\",\"type\":\"HoverTool\"},{\"attributes\":{},\"id\":\"1021\",\"type\":\"PanTool\"},{\"attributes\":{},\"id\":\"1024\",\"type\":\"SaveTool\"}],\"root_ids\":[\"1003\"]},\"title\":\"Bokeh Application\",\"version\":\"2.4.3\"}};\n",
       "  const render_items = [{\"docid\":\"8f67cc0e-55cc-4d07-b63a-cfe7e6a4561d\",\"root_ids\":[\"1003\"],\"roots\":{\"1003\":\"105c7421-f510-41ef-87bc-d3929e4b5f36\"}}];\n",
       "  root.Bokeh.embed.embed_items_notebook(docs_json, render_items);\n",
       "  }\n",
       "  if (root.Bokeh !== undefined) {\n",
       "    embed_document(root);\n",
       "  } else {\n",
       "    let attempts = 0;\n",
       "    const timer = setInterval(function(root) {\n",
       "      if (root.Bokeh !== undefined) {\n",
       "        clearInterval(timer);\n",
       "        embed_document(root);\n",
       "      } else {\n",
       "        attempts++;\n",
       "        if (attempts > 100) {\n",
       "          clearInterval(timer);\n",
       "          console.log(\"Bokeh: ERROR: Unable to run BokehJS code because BokehJS library is missing\");\n",
       "        }\n",
       "      }\n",
       "    }, 10, root)\n",
       "  }\n",
       "})(window);"
      ],
      "application/vnd.bokehjs_exec.v0+json": ""
     },
     "metadata": {
      "application/vnd.bokehjs_exec.v0+json": {
       "id": "1003"
      }
     },
     "output_type": "display_data"
    }
   ],
   "source": [
    "total_by_version = df.groupby('Version')['Views'].sum().reset_index()\n",
    "\n",
    "p = figure(x_range=total_by_version['Version'], height=350, tooltips=[(\"Version\", \"@Version\"), (\"Views\", \"@Views\")],\n",
    "           title=f\"Page views by RTD version ({data_period})\",)\n",
    "p.vbar(x='Version', top='Views', width=0.75, source=total_by_version,\n",
    "       line_color='white')\n",
    "p.xaxis.major_label_orientation = 3.14/2\n",
    "p.yaxis.axis_label = 'Total page views'\n",
    "show(p)"
   ]
  },
  {
   "cell_type": "code",
   "execution_count": 5,
   "id": "2104961b-ff35-43b3-bf0b-dfdf7c932c55",
   "metadata": {
    "execution": {
     "iopub.execute_input": "2023-10-27T13:17:50.681073Z",
     "iopub.status.busy": "2023-10-27T13:17:50.680521Z",
     "iopub.status.idle": "2023-10-27T13:17:50.759217Z",
     "shell.execute_reply": "2023-10-27T13:17:50.758519Z"
    }
   },
   "outputs": [
    {
     "data": {
      "text/html": [
       "\n",
       "  <div class=\"bk-root\" id=\"cf6bf11d-7be3-4f69-b9de-9aba57be42a3\" data-root-id=\"1104\"></div>\n"
      ]
     },
     "metadata": {},
     "output_type": "display_data"
    },
    {
     "data": {
      "application/javascript": [
       "(function(root) {\n",
       "  function embed_document(root) {\n",
       "  const docs_json = {\"02c8d24d-a46b-453c-ac6d-b50121bb1aa1\":{\"defs\":[],\"roots\":{\"references\":[{\"attributes\":{\"below\":[{\"id\":\"1115\"}],\"center\":[{\"id\":\"1118\"},{\"id\":\"1122\"},{\"id\":\"1167\"}],\"height\":350,\"left\":[{\"id\":\"1119\"}],\"renderers\":[{\"id\":\"1143\"}],\"title\":{\"id\":\"1105\"},\"toolbar\":{\"id\":\"1130\"},\"x_range\":{\"id\":\"1107\"},\"x_scale\":{\"id\":\"1111\"},\"y_range\":{\"id\":\"1109\"},\"y_scale\":{\"id\":\"1113\"}},\"id\":\"1104\",\"subtype\":\"Figure\",\"type\":\"Plot\"},{\"attributes\":{},\"id\":\"1109\",\"type\":\"DataRange1d\"},{\"attributes\":{\"axis_label\":\"Daily page views\",\"coordinates\":null,\"formatter\":{\"id\":\"1147\"},\"group\":null,\"major_label_policy\":{\"id\":\"1148\"},\"ticker\":{\"id\":\"1120\"}},\"id\":\"1119\",\"type\":\"LinearAxis\"},{\"attributes\":{\"coordinates\":null,\"group\":null,\"text\":\"Daily views by RTD version\"},\"id\":\"1105\",\"type\":\"Title\"},{\"attributes\":{\"coordinates\":null,\"formatter\":{\"id\":\"1150\"},\"group\":null,\"major_label_policy\":{\"id\":\"1151\"},\"ticker\":{\"id\":\"1116\"}},\"id\":\"1115\",\"type\":\"DatetimeAxis\"},{\"attributes\":{},\"id\":\"1113\",\"type\":\"LinearScale\"},{\"attributes\":{\"line_color\":\"#ff7f0e\",\"x\":{\"field\":\"x\"},\"y\":{\"field\":\"y\"}},\"id\":\"1140\",\"type\":\"Line\"},{\"attributes\":{\"line_alpha\":0.1,\"line_color\":\"#ff7f0e\",\"x\":{\"field\":\"x\"},\"y\":{\"field\":\"y\"}},\"id\":\"1141\",\"type\":\"Line\"},{\"attributes\":{\"bottom_units\":\"screen\",\"coordinates\":null,\"fill_alpha\":0.5,\"fill_color\":\"lightgrey\",\"group\":null,\"left_units\":\"screen\",\"level\":\"overlay\",\"line_alpha\":1.0,\"line_color\":\"black\",\"line_dash\":[4,4],\"line_width\":2,\"right_units\":\"screen\",\"syncable\":false,\"top_units\":\"screen\"},\"id\":\"1129\",\"type\":\"BoxAnnotation\"},{\"attributes\":{},\"id\":\"1111\",\"type\":\"LinearScale\"},{\"attributes\":{\"line_alpha\":0.2,\"line_color\":\"#ff7f0e\",\"x\":{\"field\":\"x\"},\"y\":{\"field\":\"y\"}},\"id\":\"1142\",\"type\":\"Line\"},{\"attributes\":{},\"id\":\"1153\",\"type\":\"Selection\"},{\"attributes\":{\"mantissas\":[1,2,5],\"max_interval\":500.0,\"num_minor_ticks\":0},\"id\":\"1155\",\"type\":\"AdaptiveTicker\"},{\"attributes\":{},\"id\":\"1150\",\"type\":\"DatetimeTickFormatter\"},{\"attributes\":{\"data\":{\"x\":{\"__ndarray__\":\"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\",\"dtype\":\"float64\",\"order\":\"little\",\"shape\":[403]},\"y\":{\"__ndarray__\":\"AAAAAAAA8D8AAAAAAAAAAAAAAAAAAPA/AAAAAAAAAAAAAAAAAAAAAAAAAAAAAAAAAAAAAAAAAAAAAAAAAADwPwAAAAAAAAAAAAAAAAAAAAAAAAAAAAAAAAAAAAAAAAAAAAAAAAAAAAAAAAAAAAAAAAAAAAAAAAAAAAAAAAAAAAAAAAAAAAAAAAAAAAAAAAAAAAAAAAAAAAAAAAAAAAAAQAAAAAAAAPA/AAAAAAAAAAAAAAAAAAAAAAAAAAAAAPA/AAAAAAAAAAAAAAAAAAAAAAAAAAAAAAAAAAAAAAAAAAAAAAAAAAAAAAAAAAAAAAAAAAAAAAAAAAAAAAAAAAAAAAAAAAAAAAAAAAAAAAAAAAAAAAAAAADwPwAAAAAAAAAAAAAAAAAA8D8AAAAAAAAAAAAAAAAAAAAAAAAAAAAAAAAAAAAAAAAAAAAAAAAAAAAAAAAAAAAAAAAAAAAAAAAAAAAAAAAAAAAAAAAAAAAAAAAAAAAAAAAAAAAAAAAAAAAAAAAAAAAAAAAAAAAAAADwPwAAAAAAAAAAAAAAAAAAAAAAAAAAAAAAAAAAAAAAAAAAAAAAAAAA8D8AAAAAAAAAAAAAAAAAAAAAAAAAAAAAAAAAAAAAAADwPwAAAAAAAAAAAAAAAAAAAAAAAAAAAADwPwAAAAAAAAAAAAAAAAAAAAAAAAAAAAAAAAAAAAAAAAAAAAAAAAAAAAAAAAAAAAAAAAAAAAAAAPA/AAAAAAAAAAAAAAAAAAAAAAAAAAAAAAAAAAAAAAAAAEAAAAAAAAAAAAAAAAAAAAAAAAAAAAAAAAAAAAAAAAAAAAAAAAAAAAAAAAAAAAAA8D8AAAAAAAAAAAAAAAAAAAAAAAAAAAAAAEAAAAAAAAAAAAAAAAAAAAAAAAAAAAAAAAAAAAAAAAAAAAAAAAAAAAAAAAAAAAAAAAAAAAAAAAAAAAAAAAAAAAAAAAAAAAAAAAAAAAAAAAAAAAAAAAAAAPA/AAAAAAAAAAAAAAAAAAAAAAAAAAAAAAAAAAAAAAAAAAAAAAAAAAAAAAAAAAAAAAAAAAAAAAAAAAAAAAAAAADwPwAAAAAAAAAAAAAAAAAA8D8AAAAAAAAAAAAAAAAAAAAAAAAAAAAAAAAAAAAAAAAAAAAAAAAAAAAAAAAAAAAAAAAAAAAAAAAAAAAAAAAAAAAAAAAAAAAAAAAAAAAAAADwPwAAAAAAAAhAAAAAAAAAAAAAAAAAAAAAAAAAAAAAAPA/AAAAAAAAAAAAAAAAAAAAAAAAAAAAAAAAAAAAAAAAAAAAAAAAAAAAAAAAAAAAAPA/AAAAAAAAAAAAAAAAAAAAAAAAAAAAAAAAAAAAAAAA8D8AAAAAAADwPwAAAAAAAAAAAAAAAAAAAAAAAAAAAAAAAAAAAAAAAAAAAAAAAAAAAAAAAAAAAAAAAAAAAAAAAAAAAAAAAAAAAAAAAAAAAAAAAAAAAAAAAAAAAAAAAAAAAAAAAAAAAAAAAAAAAAAAAAAAAAAAAAAAAAAAAAAAAAAAAAAAAAAAAAAAAAAAAAAA8D8AAAAAAAAAAAAAAAAAAAAAAAAAAAAAAAAAAAAAAAAAAAAAAAAAAAAAAAAAAAAAAAAAAAAAAAAAAAAAAAAAAAAAAAAAAAAAAAAAAAAAAAAAAAAAAAAAAAAAAAAAAAAAAAAAAAAAAAAAAAAAAAAAAAAAAAAAAAAAAAAAAAAAAADwPwAAAAAAAAAAAAAAAAAAAAAAAAAAAAAAAAAAAAAAAAAAAAAAAAAAAAAAAAAAAAAAAAAAAAAAAAAAAAAAAAAAAAAAAAAAAADwPwAAAAAAAAAAAAAAAAAAAAAAAAAAAADwPwAAAAAAAAAAAAAAAAAAAAAAAAAAAAAAAAAAAAAAAAAAAAAAAAAAAAAAAAAAAAAAAAAAAAAAAAAAAAAAAAAAAAAAAAAAAAAAAAAAAAAAAAAAAAAAAAAAAAAAAAAAAAAAAAAAAAAAAAAAAAAAAAAA8D8AAAAAAAAAAAAAAAAAAAAAAAAAAAAAAAAAAAAAAAAAAAAAAAAAAAAAAAAAAAAAAAAAAAAAAAAAAAAAAAAAAPA/AAAAAAAAAAAAAAAAAAAAAAAAAAAAAAAAAAAAAAAAAAAAAAAAAAAAAAAAAAAAAAAAAAAAAAAAAAAAAAAAAAAAAAAAAAAAAAAAAAAAAAAAAAAAAAAAAAAAQAAAAAAAAAAAAAAAAAAAAAAAAAAAAADwPwAAAAAAAAAAAAAAAAAA8D8AAAAAAAAAAAAAAAAAAAAAAAAAAAAAAAAAAAAAAAAAAAAAAAAAAPA/AAAAAAAAAAAAAAAAAAAAAAAAAAAAAABAAAAAAAAAAAAAAAAAAAAAAAAAAAAAAAAAAAAAAAAA8D8AAAAAAAAAAAAAAAAAAPA/AAAAAAAA8D8AAAAAAAAAAAAAAAAAAAAAAAAAAAAA8D8AAAAAAAAAAAAAAAAAAAAAAAAAAAAAAAAAAAAAAAAcQAAAAAAAAAAAAAAAAAAAHEAAAAAAAAAAAAAAAAAAAPA/AAAAAAAA8D8AAAAAAADwPwAAAAAAAPA/AAAAAAAAAEAAAAAAAAAAQAAAAAAAAPA/AAAAAAAAAEAAAAAAAAAAAAAAAAAAAPA/AAAAAAAAAAAAAAAAAADwPwAAAAAAAAAAAAAAAAAAAAAAAAAAAAAAAAAAAAAAAAAAAAAAAAAAAAAAAAAAAAAAAAAAAAAAAPA/AAAAAAAAAEAAAAAAAAAIQAAAAAAAAAAAAAAAAAAA8D8AAAAAAAAAQAAAAAAAAPA/AAAAAAAA8D8AAAAAAAAAAAAAAAAAAPA/AAAAAAAA8D8AAAAAAAAAQAAAAAAAAAAAAAAAAAAAAAAAAAAAAAAAQAAAAAAAAAAAAAAAAAAAAAAAAAAAAADwPwAAAAAAAPA/AAAAAAAA8D8AAAAAAAAAAAAAAAAAAAAAAAAAAAAAAAAAAAAAAADwPwAAAAAAAAhAAAAAAAAAAAAAAAAAAAAAAAAAAAAAAAhAAAAAAAAAAAAAAAAAAAAAAAAAAAAAAPA/AAAAAAAAAAAAAAAAAADwPwAAAAAAAPA/AAAAAAAA8D8AAAAAAAAAAAAAAAAAAABAAAAAAAAACEAAAAAAAAAAAAAAAAAAAPA/AAAAAAAAAAAAAAAAAAAAAAAAAAAAAAAAAAAAAAAAAAAAAAAAAAAAAAAAAAAAAAAAAAAAAAAAAAAAAAAAAAAAAAAAAAAAAAAAAAAAAAAAAAAAAAAAAAAAAAAAAAAAAPA/AAAAAAAA8D8AAAAAAADwPwAAAAAAAPA/AAAAAAAAAAAAAAAAAAAIQAAAAAAAABBAAAAAAAAA8D8AAAAAAAAAQAAAAAAAAABAAAAAAAAAAAAAAAAAAAAAAAAAAAAAAPA/AAAAAAAAAAAAAAAAAADwPwAAAAAAAABAAAAAAAAAAAAAAAAAAAAAAAAAAAAAAAAAAAAAAAAAAAAAAAAAAAAAAAAAAAAAAAAAAAAAAAAAAAAAAAAAAAAAAAAAAAAAAAAAAAAAAAAAAAAAAAAAAAAAAAAAAAAAAAAAAAAAAAAAAAAAAAAAAAAAAAAAAAAAAAAAAAAAAAAA8D8AAAAAAADwPwAAAAAAAAAAAAAAAAAAAAAAAAAAAADwPwAAAAAAAAAAAAAAAAAAAAAAAAAAAADwPwAAAAAAAAAAAAAAAAAAAAAAAAAAAADwPwAAAAAAAAAAAAAAAAAA8D8AAAAAAAAAAAAAAAAAAPA/AAAAAAAAFEAAAAAAAAAAAAAAAAAAAAAAAAAAAAAAAAAAAAAAAAAAAAAAAAAAAAAAAAAAAAAAAAAAAAAAAAAAAAAAAAAAAAAAAAAAAAAAAAAAAAAAAAAkQAAAAAAAAAAAAAAAAAAAAAAAAAAAAAAAAAAAAAAAAPA/AAAAAAAAAAAAAAAAAAAAAAAAAAAAAAAAAAAAAAAAAAAAAAAAAAAAAAAAAAAAAPA/AAAAAAAA8D8AAAAAAAAQQAAAAAAAAPA/AAAAAAAAAAAAAAAAAAAAAAAAAAAAAAAAAAAAAAAAAAAAAAAAAAAAAAAAAAAAAAAAAAAAAAAAAAAAAAAAAAAAAAAAAAAAAAAAAAAAAAAAAAAAAAAAAAAAAAAAAAAAAAAAAAAAAAAAAAAAAAAAAAAAAAAAAAAAAAAAAAAAAAAAAAAAAAAAAAAAAAAAAAAAAAAAAAAAAAAAAAAAAAAAAAAAAAAAAAAAAAAAAAAAAAAAAAAAAAAAAAAAAAAAAAAAAAAAAAAAAAAAAAAAAAAAAADwPwAAAAAAAAAAAAAAAAAA8D8=\",\"dtype\":\"float64\",\"order\":\"little\",\"shape\":[403]}},\"selected\":{\"id\":\"1153\"},\"selection_policy\":{\"id\":\"1152\"}},\"id\":\"1139\",\"type\":\"ColumnDataSource\"},{\"attributes\":{\"coordinates\":null,\"group\":null,\"items\":[{\"id\":\"1168\"}]},\"id\":\"1167\",\"type\":\"Legend\"},{\"attributes\":{},\"id\":\"1107\",\"type\":\"DataRange1d\"},{\"attributes\":{},\"id\":\"1123\",\"type\":\"PanTool\"},{\"attributes\":{\"callback\":null,\"formatters\":{\"@x\":\"datetime\"},\"tooltips\":[[\"Date\",\"@x{%Y-%m-%d}\"],[\"Views\",\"@y\"]]},\"id\":\"1137\",\"type\":\"HoverTool\"},{\"attributes\":{\"base\":60,\"mantissas\":[1,2,5,10,15,20,30],\"max_interval\":1800000.0,\"min_interval\":1000.0,\"num_minor_ticks\":0},\"id\":\"1156\",\"type\":\"AdaptiveTicker\"},{\"attributes\":{},\"id\":\"1166\",\"type\":\"YearsTicker\"},{\"attributes\":{\"source\":{\"id\":\"1139\"}},\"id\":\"1144\",\"type\":\"CDSView\"},{\"attributes\":{\"base\":24,\"mantissas\":[1,2,4,6,8,12],\"max_interval\":43200000.0,\"min_interval\":3600000.0,\"num_minor_ticks\":0},\"id\":\"1157\",\"type\":\"AdaptiveTicker\"},{\"attributes\":{\"months\":[0,1,2,3,4,5,6,7,8,9,10,11]},\"id\":\"1162\",\"type\":\"MonthsTicker\"},{\"attributes\":{\"overlay\":{\"id\":\"1129\"}},\"id\":\"1125\",\"type\":\"BoxZoomTool\"},{\"attributes\":{},\"id\":\"1148\",\"type\":\"AllLabels\"},{\"attributes\":{\"days\":[1,15]},\"id\":\"1161\",\"type\":\"DaysTicker\"},{\"attributes\":{},\"id\":\"1126\",\"type\":\"SaveTool\"},{\"attributes\":{\"days\":[1,2,3,4,5,6,7,8,9,10,11,12,13,14,15,16,17,18,19,20,21,22,23,24,25,26,27,28,29,30,31]},\"id\":\"1158\",\"type\":\"DaysTicker\"},{\"attributes\":{},\"id\":\"1127\",\"type\":\"ResetTool\"},{\"attributes\":{\"days\":[1,4,7,10,13,16,19,22,25,28]},\"id\":\"1159\",\"type\":\"DaysTicker\"},{\"attributes\":{},\"id\":\"1147\",\"type\":\"BasicTickFormatter\"},{\"attributes\":{\"days\":[1,8,15,22]},\"id\":\"1160\",\"type\":\"DaysTicker\"},{\"attributes\":{\"months\":[0,6]},\"id\":\"1165\",\"type\":\"MonthsTicker\"},{\"attributes\":{\"months\":[0,2,4,6,8,10]},\"id\":\"1163\",\"type\":\"MonthsTicker\"},{\"attributes\":{},\"id\":\"1128\",\"type\":\"HelpTool\"},{\"attributes\":{\"months\":[0,4,8]},\"id\":\"1164\",\"type\":\"MonthsTicker\"},{\"attributes\":{\"axis\":{\"id\":\"1119\"},\"coordinates\":null,\"dimension\":1,\"group\":null,\"ticker\":null},\"id\":\"1122\",\"type\":\"Grid\"},{\"attributes\":{},\"id\":\"1124\",\"type\":\"WheelZoomTool\"},{\"attributes\":{\"coordinates\":null,\"data_source\":{\"id\":\"1139\"},\"glyph\":{\"id\":\"1140\"},\"group\":null,\"hover_glyph\":null,\"muted_glyph\":{\"id\":\"1142\"},\"nonselection_glyph\":{\"id\":\"1141\"},\"view\":{\"id\":\"1144\"}},\"id\":\"1143\",\"type\":\"GlyphRenderer\"},{\"attributes\":{},\"id\":\"1120\",\"type\":\"BasicTicker\"},{\"attributes\":{\"label\":{\"value\":\"latest\"},\"renderers\":[{\"id\":\"1143\"}]},\"id\":\"1168\",\"type\":\"LegendItem\"},{\"attributes\":{\"num_minor_ticks\":5,\"tickers\":[{\"id\":\"1155\"},{\"id\":\"1156\"},{\"id\":\"1157\"},{\"id\":\"1158\"},{\"id\":\"1159\"},{\"id\":\"1160\"},{\"id\":\"1161\"},{\"id\":\"1162\"},{\"id\":\"1163\"},{\"id\":\"1164\"},{\"id\":\"1165\"},{\"id\":\"1166\"}]},\"id\":\"1116\",\"type\":\"DatetimeTicker\"},{\"attributes\":{},\"id\":\"1151\",\"type\":\"AllLabels\"},{\"attributes\":{},\"id\":\"1152\",\"type\":\"UnionRenderers\"},{\"attributes\":{\"axis\":{\"id\":\"1115\"},\"coordinates\":null,\"group\":null,\"ticker\":null},\"id\":\"1118\",\"type\":\"Grid\"},{\"attributes\":{\"tools\":[{\"id\":\"1123\"},{\"id\":\"1124\"},{\"id\":\"1125\"},{\"id\":\"1126\"},{\"id\":\"1127\"},{\"id\":\"1128\"},{\"id\":\"1137\"}]},\"id\":\"1130\",\"type\":\"Toolbar\"}],\"root_ids\":[\"1104\"]},\"title\":\"Bokeh Application\",\"version\":\"2.4.3\"}};\n",
       "  const render_items = [{\"docid\":\"02c8d24d-a46b-453c-ac6d-b50121bb1aa1\",\"root_ids\":[\"1104\"],\"roots\":{\"1104\":\"cf6bf11d-7be3-4f69-b9de-9aba57be42a3\"}}];\n",
       "  root.Bokeh.embed.embed_items_notebook(docs_json, render_items);\n",
       "  }\n",
       "  if (root.Bokeh !== undefined) {\n",
       "    embed_document(root);\n",
       "  } else {\n",
       "    let attempts = 0;\n",
       "    const timer = setInterval(function(root) {\n",
       "      if (root.Bokeh !== undefined) {\n",
       "        clearInterval(timer);\n",
       "        embed_document(root);\n",
       "      } else {\n",
       "        attempts++;\n",
       "        if (attempts > 100) {\n",
       "          clearInterval(timer);\n",
       "          console.log(\"Bokeh: ERROR: Unable to run BokehJS code because BokehJS library is missing\");\n",
       "        }\n",
       "      }\n",
       "    }, 10, root)\n",
       "  }\n",
       "})(window);"
      ],
      "application/vnd.bokehjs_exec.v0+json": ""
     },
     "metadata": {
      "application/vnd.bokehjs_exec.v0+json": {
       "id": "1104"
      }
     },
     "output_type": "display_data"
    }
   ],
   "source": [
    "daily_views = df.pivot_table(values='Views', index='Date', columns='Version', aggfunc='sum')[['latest']]\n",
    "daily_views = daily_views.reindex(pd.date_range(daily_views.index[0], daily_views.index[-1], freq='d')).fillna(0)\n",
    "\n",
    "p = figure(x_axis_type=\"datetime\", height=350, title=f\"Daily views by RTD version\")\n",
    "hover_tool = HoverTool(tooltips=[('Date', '@x{%Y-%m-%d}'), ('Views', '@y')],\n",
    "                       formatters={'@x': 'datetime'})\n",
    "hover_tool.point_policy = 'snap_to_data'\n",
    "p.add_tools(hover_tool)\n",
    "p.line(daily_views.index, daily_views['latest'], legend_label='latest', color='#ff7f0e')\n",
    "p.yaxis.axis_label = 'Daily page views'\n",
    "show(p)"
   ]
  },
  {
   "cell_type": "code",
   "execution_count": 6,
   "id": "2413e533-b4fa-4b2b-b308-a4bd9a4254d0",
   "metadata": {
    "execution": {
     "iopub.execute_input": "2023-10-27T13:17:50.762812Z",
     "iopub.status.busy": "2023-10-27T13:17:50.762202Z",
     "iopub.status.idle": "2023-10-27T13:17:50.768531Z",
     "shell.execute_reply": "2023-10-27T13:17:50.767961Z"
    }
   },
   "outputs": [],
   "source": [
    "df2 = df.loc[df['Version'] == 'latest', :].copy()\n",
    "pathviews = df2.groupby('Path')['Views'].sum().reset_index()"
   ]
  },
  {
   "cell_type": "code",
   "execution_count": 7,
   "id": "29f9acd5-f445-4aa9-a0c8-aa80b7af611d",
   "metadata": {
    "execution": {
     "iopub.execute_input": "2023-10-27T13:17:50.771708Z",
     "iopub.status.busy": "2023-10-27T13:17:50.771267Z",
     "iopub.status.idle": "2023-10-27T13:17:50.829576Z",
     "shell.execute_reply": "2023-10-27T13:17:50.828853Z"
    }
   },
   "outputs": [
    {
     "data": {
      "text/html": [
       "\n",
       "  <div class=\"bk-root\" id=\"d9dbb4e7-74db-4617-9903-836a1db35913\" data-root-id=\"1311\"></div>\n"
      ]
     },
     "metadata": {},
     "output_type": "display_data"
    },
    {
     "data": {
      "application/javascript": [
       "(function(root) {\n",
       "  function embed_document(root) {\n",
       "  const docs_json = {\"8600ba9e-7d2c-41aa-81f1-a72bb2ce96f6\":{\"defs\":[],\"roots\":{\"references\":[{\"attributes\":{\"below\":[{\"id\":\"1322\"}],\"center\":[{\"id\":\"1325\"},{\"id\":\"1328\"}],\"height\":400,\"left\":[{\"id\":\"1326\"}],\"renderers\":[{\"id\":\"1350\"}],\"title\":{\"id\":\"1312\"},\"toolbar\":{\"id\":\"1337\"},\"width\":800,\"x_range\":{\"id\":\"1314\"},\"x_scale\":{\"id\":\"1318\"},\"y_range\":{\"id\":\"1316\"},\"y_scale\":{\"id\":\"1320\"}},\"id\":\"1311\",\"subtype\":\"Figure\",\"type\":\"Plot\"},{\"attributes\":{},\"id\":\"1387\",\"type\":\"AllLabels\"},{\"attributes\":{\"fill_alpha\":{\"value\":0.1},\"fill_color\":{\"value\":\"#1f77b4\"},\"hatch_alpha\":{\"value\":0.1},\"height\":{\"value\":0.75},\"line_alpha\":{\"value\":0.1},\"line_color\":{\"value\":\"white\"},\"right\":{\"field\":\"Views\"},\"y\":{\"field\":\"Path\"}},\"id\":\"1348\",\"type\":\"HBar\"},{\"attributes\":{\"bottom_units\":\"screen\",\"coordinates\":null,\"fill_alpha\":0.5,\"fill_color\":\"lightgrey\",\"group\":null,\"left_units\":\"screen\",\"level\":\"overlay\",\"line_alpha\":1.0,\"line_color\":\"black\",\"line_dash\":[4,4],\"line_width\":2,\"right_units\":\"screen\",\"syncable\":false,\"top_units\":\"screen\"},\"id\":\"1335\",\"type\":\"BoxAnnotation\"},{\"attributes\":{\"axis_label\":\"Total page views\",\"coordinates\":null,\"formatter\":{\"id\":\"1389\"},\"group\":null,\"major_label_policy\":{\"id\":\"1390\"},\"ticker\":{\"id\":\"1323\"}},\"id\":\"1322\",\"type\":\"LinearAxis\"},{\"attributes\":{\"fill_color\":{\"value\":\"#1f77b4\"},\"height\":{\"value\":0.75},\"line_color\":{\"value\":\"white\"},\"right\":{\"field\":\"Views\"},\"y\":{\"field\":\"Path\"}},\"id\":\"1347\",\"type\":\"HBar\"},{\"attributes\":{},\"id\":\"1323\",\"type\":\"BasicTicker\"},{\"attributes\":{},\"id\":\"1389\",\"type\":\"BasicTickFormatter\"},{\"attributes\":{},\"id\":\"1320\",\"type\":\"CategoricalScale\"},{\"attributes\":{},\"id\":\"1318\",\"type\":\"LinearScale\"},{\"attributes\":{},\"id\":\"1390\",\"type\":\"AllLabels\"},{\"attributes\":{},\"id\":\"1332\",\"type\":\"SaveTool\"},{\"attributes\":{\"factors\":[\"/api.html\",\"/index.html\",\"/getting_started.html\",\"/genindex.html\",\"/generated/panel_segmentation.panel_detection.PanelDetection.html\",\"/generated/panel_segmentation.panel_detection.PanelDetection.detectAzimuth.html\",\"/changelog.html\",\"/search.html\",\"/generated/panel_segmentation.panel_train.TrainPanelSegmentationModel.diceCoeff.html\",\"/generated/panel_segmentation.panel_train.TrainPanelSegmentationModel.trainMountingConfigClassifier.html\",\"/generated/panel_segmentation.panel_train.TrainPanelSegmentationModel.trainSegmentation.html\",\"/_modules/panel_segmentation/panel_detection.html\",\"/generated/panel_segmentation.panel_detection.PanelDetection.runSiteAnalysisPipeline.html\",\"/generated/panel_segmentation.panel_train.TrainPanelSegmentationModel.diceCoeffLoss.html\",\"/generated/panel_segmentation.panel_detection.PanelDetection.plotEdgeAz.html\",\"/generated/panel_segmentation.panel_detection.PanelDetection.classifyMountingConfiguration.html\",\"/generated/panel_segmentation.panel_detection.PanelDetection.testSingle.html\",\"/generated/panel_segmentation.panel_detection.PanelDetection.testBatch.html\",\"/generated/panel_segmentation.panel_train.TrainPanelSegmentationModel.loadImagesToNumpyArray.html\",\"/generated/panel_segmentation.panel_train.TrainPanelSegmentationModel.trainPanelClassifier.html\",\"/generated/panel_segmentation.panel_train.TrainPanelSegmentationModel.trainingStatistics.html\",\"/generated/panel_segmentation.panel_detection.PanelDetection.hasPanels.html\",\"/generated/panel_segmentation.panel_detection.PanelDetection.generateSatelliteImage.html\"]},\"id\":\"1316\",\"type\":\"FactorRange\"},{\"attributes\":{\"tools\":[{\"id\":\"1329\"},{\"id\":\"1330\"},{\"id\":\"1331\"},{\"id\":\"1332\"},{\"id\":\"1333\"},{\"id\":\"1334\"},{\"id\":\"1336\"}]},\"id\":\"1337\",\"type\":\"Toolbar\"},{\"attributes\":{\"axis\":{\"id\":\"1326\"},\"coordinates\":null,\"dimension\":1,\"group\":null,\"ticker\":null},\"id\":\"1328\",\"type\":\"Grid\"},{\"attributes\":{\"coordinates\":null,\"formatter\":{\"id\":\"1386\"},\"group\":null,\"major_label_policy\":{\"id\":\"1387\"},\"ticker\":{\"id\":\"1327\"}},\"id\":\"1326\",\"type\":\"CategoricalAxis\"},{\"attributes\":{},\"id\":\"1391\",\"type\":\"UnionRenderers\"},{\"attributes\":{\"coordinates\":null,\"group\":null,\"text\":\"Views by URL (2022-08-29 to 2023-10-05)\"},\"id\":\"1312\",\"type\":\"Title\"},{\"attributes\":{},\"id\":\"1327\",\"type\":\"CategoricalTicker\"},{\"attributes\":{},\"id\":\"1330\",\"type\":\"WheelZoomTool\"},{\"attributes\":{},\"id\":\"1386\",\"type\":\"CategoricalTickFormatter\"},{\"attributes\":{},\"id\":\"1392\",\"type\":\"Selection\"},{\"attributes\":{\"fill_alpha\":{\"value\":0.2},\"fill_color\":{\"value\":\"#1f77b4\"},\"hatch_alpha\":{\"value\":0.2},\"height\":{\"value\":0.75},\"line_alpha\":{\"value\":0.2},\"line_color\":{\"value\":\"white\"},\"right\":{\"field\":\"Views\"},\"y\":{\"field\":\"Path\"}},\"id\":\"1349\",\"type\":\"HBar\"},{\"attributes\":{},\"id\":\"1333\",\"type\":\"ResetTool\"},{\"attributes\":{\"overlay\":{\"id\":\"1335\"}},\"id\":\"1331\",\"type\":\"BoxZoomTool\"},{\"attributes\":{\"source\":{\"id\":\"1345\"}},\"id\":\"1351\",\"type\":\"CDSView\"},{\"attributes\":{\"axis\":{\"id\":\"1322\"},\"coordinates\":null,\"group\":null,\"ticker\":null},\"id\":\"1325\",\"type\":\"Grid\"},{\"attributes\":{},\"id\":\"1314\",\"type\":\"DataRange1d\"},{\"attributes\":{},\"id\":\"1334\",\"type\":\"HelpTool\"},{\"attributes\":{},\"id\":\"1329\",\"type\":\"PanTool\"},{\"attributes\":{\"callback\":null,\"tooltips\":[[\"URL\",\"@Path\"],[\"Views\",\"@Views\"]]},\"id\":\"1336\",\"type\":\"HoverTool\"},{\"attributes\":{\"data\":{\"Path\":[\"/api.html\",\"/index.html\",\"/getting_started.html\",\"/genindex.html\",\"/generated/panel_segmentation.panel_detection.PanelDetection.html\",\"/generated/panel_segmentation.panel_detection.PanelDetection.detectAzimuth.html\",\"/changelog.html\",\"/search.html\",\"/generated/panel_segmentation.panel_train.TrainPanelSegmentationModel.diceCoeff.html\",\"/generated/panel_segmentation.panel_train.TrainPanelSegmentationModel.trainMountingConfigClassifier.html\",\"/generated/panel_segmentation.panel_train.TrainPanelSegmentationModel.trainSegmentation.html\",\"/_modules/panel_segmentation/panel_detection.html\",\"/generated/panel_segmentation.panel_detection.PanelDetection.runSiteAnalysisPipeline.html\",\"/generated/panel_segmentation.panel_train.TrainPanelSegmentationModel.diceCoeffLoss.html\",\"/generated/panel_segmentation.panel_detection.PanelDetection.plotEdgeAz.html\",\"/generated/panel_segmentation.panel_detection.PanelDetection.classifyMountingConfiguration.html\",\"/generated/panel_segmentation.panel_detection.PanelDetection.testSingle.html\",\"/generated/panel_segmentation.panel_detection.PanelDetection.testBatch.html\",\"/generated/panel_segmentation.panel_train.TrainPanelSegmentationModel.loadImagesToNumpyArray.html\",\"/generated/panel_segmentation.panel_train.TrainPanelSegmentationModel.trainPanelClassifier.html\",\"/generated/panel_segmentation.panel_train.TrainPanelSegmentationModel.trainingStatistics.html\",\"/generated/panel_segmentation.panel_detection.PanelDetection.hasPanels.html\",\"/generated/panel_segmentation.panel_detection.PanelDetection.generateSatelliteImage.html\"],\"Views\":[46,26,17,14,9,8,6,5,5,4,3,3,3,2,2,2,2,1,1,1,1,1,1],\"index\":[1,21,20,19,7,4,2,22,12,15,17,0,9,13,8,3,11,10,14,16,18,6,5]},\"selected\":{\"id\":\"1392\"},\"selection_policy\":{\"id\":\"1391\"}},\"id\":\"1345\",\"type\":\"ColumnDataSource\"},{\"attributes\":{\"coordinates\":null,\"data_source\":{\"id\":\"1345\"},\"glyph\":{\"id\":\"1347\"},\"group\":null,\"hover_glyph\":null,\"muted_glyph\":{\"id\":\"1349\"},\"nonselection_glyph\":{\"id\":\"1348\"},\"view\":{\"id\":\"1351\"}},\"id\":\"1350\",\"type\":\"GlyphRenderer\"}],\"root_ids\":[\"1311\"]},\"title\":\"Bokeh Application\",\"version\":\"2.4.3\"}};\n",
       "  const render_items = [{\"docid\":\"8600ba9e-7d2c-41aa-81f1-a72bb2ce96f6\",\"root_ids\":[\"1311\"],\"roots\":{\"1311\":\"d9dbb4e7-74db-4617-9903-836a1db35913\"}}];\n",
       "  root.Bokeh.embed.embed_items_notebook(docs_json, render_items);\n",
       "  }\n",
       "  if (root.Bokeh !== undefined) {\n",
       "    embed_document(root);\n",
       "  } else {\n",
       "    let attempts = 0;\n",
       "    const timer = setInterval(function(root) {\n",
       "      if (root.Bokeh !== undefined) {\n",
       "        clearInterval(timer);\n",
       "        embed_document(root);\n",
       "      } else {\n",
       "        attempts++;\n",
       "        if (attempts > 100) {\n",
       "          clearInterval(timer);\n",
       "          console.log(\"Bokeh: ERROR: Unable to run BokehJS code because BokehJS library is missing\");\n",
       "        }\n",
       "      }\n",
       "    }, 10, root)\n",
       "  }\n",
       "})(window);"
      ],
      "application/vnd.bokehjs_exec.v0+json": ""
     },
     "metadata": {
      "application/vnd.bokehjs_exec.v0+json": {
       "id": "1311"
      }
     },
     "output_type": "display_data"
    }
   ],
   "source": [
    "subset = pathviews.sort_values('Views', ascending=False)\n",
    "p = figure(y_range=subset['Path'], width=800, height=400, tooltips=[(\"URL\", \"@Path\"), (\"Views\", \"@Views\")],\n",
    "           title=f\"Views by URL ({data_period})\")\n",
    "p.hbar(y='Path', right='Views', source=subset, height=0.75,\n",
    "       line_color='white')\n",
    "p.xaxis.axis_label = 'Total page views'\n",
    "show(p)"
   ]
  },
  {
   "cell_type": "markdown",
   "id": "36152502-af52-4671-a952-bdc5fa2db99e",
   "metadata": {},
   "source": [
    "## GitHub"
   ]
  },
  {
   "cell_type": "code",
   "execution_count": 8,
   "id": "0a7abd61-24ed-46e1-9686-4af7333fbf76",
   "metadata": {
    "execution": {
     "iopub.execute_input": "2023-10-27T13:17:50.833113Z",
     "iopub.status.busy": "2023-10-27T13:17:50.832663Z",
     "iopub.status.idle": "2023-10-27T13:17:51.000343Z",
     "shell.execute_reply": "2023-10-27T13:17:50.999575Z"
    }
   },
   "outputs": [],
   "source": [
    "gh = utils.get_github_stars('nrel/panel-segmentation')"
   ]
  },
  {
   "cell_type": "code",
   "execution_count": 9,
   "id": "dd48ae8a-4dd0-4310-a8fd-da70dbe61c81",
   "metadata": {
    "execution": {
     "iopub.execute_input": "2023-10-27T13:17:51.004481Z",
     "iopub.status.busy": "2023-10-27T13:17:51.003901Z",
     "iopub.status.idle": "2023-10-27T13:17:51.088582Z",
     "shell.execute_reply": "2023-10-27T13:17:51.087878Z"
    }
   },
   "outputs": [
    {
     "data": {
      "text/html": [
       "\n",
       "  <div class=\"bk-root\" id=\"db26e299-826d-4806-ae6a-f1498c9349df\" data-root-id=\"1444\"></div>\n"
      ]
     },
     "metadata": {},
     "output_type": "display_data"
    },
    {
     "data": {
      "application/javascript": [
       "(function(root) {\n",
       "  function embed_document(root) {\n",
       "  const docs_json = {\"1d992fe2-a503-4f4f-97ae-3e89bf0f256b\":{\"defs\":[],\"roots\":{\"references\":[{\"attributes\":{\"below\":[{\"id\":\"1453\"}],\"center\":[{\"id\":\"1456\"},{\"id\":\"1460\"}],\"height\":350,\"left\":[{\"id\":\"1457\"}],\"renderers\":[{\"id\":\"1481\"}],\"title\":{\"id\":\"1525\"},\"toolbar\":{\"id\":\"1468\"},\"x_range\":{\"id\":\"1445\"},\"x_scale\":{\"id\":\"1449\"},\"y_range\":{\"id\":\"1447\"},\"y_scale\":{\"id\":\"1451\"}},\"id\":\"1444\",\"subtype\":\"Figure\",\"type\":\"Plot\"},{\"attributes\":{\"tools\":[{\"id\":\"1461\"},{\"id\":\"1462\"},{\"id\":\"1463\"},{\"id\":\"1464\"},{\"id\":\"1465\"},{\"id\":\"1466\"},{\"id\":\"1475\"}]},\"id\":\"1468\",\"type\":\"Toolbar\"},{\"attributes\":{},\"id\":\"1528\",\"type\":\"BasicTickFormatter\"},{\"attributes\":{},\"id\":\"1529\",\"type\":\"AllLabels\"},{\"attributes\":{},\"id\":\"1461\",\"type\":\"PanTool\"},{\"attributes\":{\"overlay\":{\"id\":\"1467\"}},\"id\":\"1463\",\"type\":\"BoxZoomTool\"},{\"attributes\":{},\"id\":\"1465\",\"type\":\"ResetTool\"},{\"attributes\":{},\"id\":\"1531\",\"type\":\"DatetimeTickFormatter\"},{\"attributes\":{},\"id\":\"1462\",\"type\":\"WheelZoomTool\"},{\"attributes\":{},\"id\":\"1449\",\"type\":\"LinearScale\"},{\"attributes\":{\"mantissas\":[1,2,5],\"max_interval\":500.0,\"num_minor_ticks\":0},\"id\":\"1536\",\"type\":\"AdaptiveTicker\"},{\"attributes\":{},\"id\":\"1464\",\"type\":\"SaveTool\"},{\"attributes\":{},\"id\":\"1532\",\"type\":\"AllLabels\"},{\"attributes\":{\"base\":60,\"mantissas\":[1,2,5,10,15,20,30],\"max_interval\":1800000.0,\"min_interval\":1000.0,\"num_minor_ticks\":0},\"id\":\"1537\",\"type\":\"AdaptiveTicker\"},{\"attributes\":{\"axis\":{\"id\":\"1453\"},\"coordinates\":null,\"group\":null,\"ticker\":null},\"id\":\"1456\",\"type\":\"Grid\"},{\"attributes\":{\"data\":{\"x\":{\"__ndarray__\":\"AABAr/Rtd0IAAAAVR253QgAAwHqZbndCAACA4Otud0IAAEBGPm93QgAAAKyQb3dCAADAEeNvd0IAAIB3NXB3QgAAQN2HcHdCAAAAQ9pwd0IAAMCoLHF3QgAAgA5/cXdCAABAdNFxd0IAAADaI3J3QgAAwD92cndCAACApchyd0IAAEALG3N3QgAAAHFtc3dCAADA1r9zd0IAAIA8EnR3QgAAQKJkdHdCAAAACLd0d0IAAMBtCXV3QgAAgNNbdXdCAABAOa51d0IAAACfAHZ3QgAAwARTdndCAACAaqV2d0IAAEDQ93Z3QgAAADZKd3dCAADAm5x3d0IAAIAB73d3QgAAQGdBeHdCAAAAzZN4d0IAAMAy5nh3QgAAgJg4eXdCAABA/op5d0IAAABk3Xl3QgAAwMkvendCAACAL4J6d0IAAECV1Hp3QgAAAPsme3dCAADAYHl7d0IAAIDGy3t3QgAAQCwefHdCAAAAknB8d0IAAMD3wnx3QgAAgF0VfXdCAABAw2d9d0IAAAApun13QgAAwI4MfndCAACA9F5+d0IAAEBasX53QgAAAMADf3dCAADAJVZ/d0IAAICLqH93QgAAQPH6f3dCAAAAV02Ad0IAAMC8n4B3QgAAgCLygHdCAABAiESBd0IAAADuloF3QgAAwFPpgXdCAACAuTuCd0IAAEAfjoJ3QgAAAIXggndCAADA6jKDd0IAAIBQhYN3QgAAQLbXg3dCAAAAHCqEd0IAAMCBfIR3QgAAgOfOhHdCAABATSGFd0IAAACzc4V3QgAAwBjGhXdCAACAfhiGd0IAAEDkaoZ3QgAAAEq9hndCAADArw+Hd0IAAIAVYod3QgAAQHu0h3dCAAAA4QaId0IAAMBGWYh3QgAAgKyriHdCAABAEv6Id0IAAAB4UIl3QgAAwN2iiXdCAACAQ/WJd0IAAECpR4p3QgAAAA+aindCAADAdOyKd0IAAIDaPot3QgAAQECRi3dCAAAApuOLd0IAAMALNox3QgAAgHGIjHdCAABA19qMd0IAAAA9LY13QgAAwKJ/jXdCAACACNKNd0IAAEBuJI53QgAAANR2jndCAADAOcmOd0IAAICfG493QgAAQAVuj3dCAAAAa8CPd0IAAMDQEpB3QgAAgDZlkHdCAABAnLeQd0IAAAACCpF3QgAAwGdckXdCAACAza6Rd0IAAEAzAZJ3QgAAAJlTkndCAADA/qWSd0IAAIBk+JJ3QgAAQMpKk3dCAAAAMJ2Td0IAAMCV75N3QgAAgPtBlHdCAABAYZSUd0IAAADH5pR3QgAAwCw5lXdCAACAkouVd0IAAED43ZV3QgAAAF4wlndCAADAw4KWd0IAAIAp1ZZ3QgAAQI8nl3dCAAAA9XmXd0IAAMBazJd3QgAAgMAemHdCAABAJnGYd0IAAACMw5h3QgAAwPEVmXdCAACAV2iZd0IAAEC9upl3QgAAACMNmndCAADAiF+ad0IAAIDusZp3QgAAQFQEm3dCAAAAulabd0IAAMAfqZt3QgAAgIX7m3dCAABA602cd0IAAABRoJx3QgAAwLbynHdCAACAHEWdd0IAAECCl513QgAAAOjpnXdCAADATTyed0IAAICzjp53QgAAQBnhnndCAAAAfzOfd0IAAMDkhZ93QgAAgErYn3dCAABAsCqgd0IAAAAWfaB3QgAAwHvPoHdCAACA4SGhd0IAAEBHdKF3QgAAAK3GoXdCAADAEhmid0IAAIB4a6J3QgAAQN69ondCAAAARBCjd0IAAMCpYqN3QgAAgA+1o3dCAABAdQekd0IAAADbWaR3QgAAwECspHdCAACApv6kd0IAAEAMUaV3QgAAAHKjpXdCAADA1/Wld0IAAIA9SKZ3QgAAQKOapndCAAAACe2md0IAAMBuP6d3QgAAgNSRp3dCAABAOuSnd0IAAACgNqh3QgAAwAWJqHdCAACAa9uod0IAAEDRLal3QgAAADeAqXdCAADAnNKpd0IAAIACJap3QgAAQGh3qndCAAAAzsmqd0IAAMAzHKt3QgAAgJluq3dCAABA/8Crd0IAAABlE6x3QgAAwMplrHdCAACAMLisd0IAAECWCq13QgAAAPxcrXdCAADAYa+td0IAAIDHAa53QgAAQC1UrndCAAAAk6aud0IAAMD4+K53QgAAgF5Lr3dCAABAxJ2vd0IAAAAq8K93QgAAwI9CsHdCAACA9ZSwd0IAAEBb57B3QgAAAME5sXdCAADAJoyxd0IAAICM3rF3QgAAQPIwsndCAAAAWIOyd0IAAMC91bJ3QgAAgCMos3dCAABAiXqzd0IAAADvzLN3QgAAwFQftHdCAACAunG0d0IAAEAgxLR3QgAAAIYWtXdCAADA62i1d0IAAIBRu7V3QgAAQLcNtndCAAAAHWC2d0IAAMCCsrZ3QgAAgOgEt3dCAABATle3d0IAAAC0qbd3QgAAwBn8t3dCAACAf064d0IAAEDloLh3QgAAAEvzuHdCAADAsEW5d0IAAIAWmLl3QgAAQHzquXdCAAAA4jy6d0IAAMBHj7p3QgAAgK3hundCAABAEzS7d0IAAAB5hrt3QgAAwN7Yu3dCAACARCu8d0IAAECqfbx3QgAAABDQvHdCAADAdSK9d0IAAIDbdL13QgAAQEHHvXdCAAAApxm+d0IAAMAMbL53QgAAgHK+vndCAABA2BC/d0IAAAA+Y793QgAAwKO1v3dCAACACQjAd0IAAEBvWsB3QgAAANWswHdCAADAOv/Ad0IAAICgUcF3QgAAQAakwXdCAAAAbPbBd0IAAMDRSMJ3QgAAgDebwndCAABAne3Cd0IAAAADQMN3QgAAwGiSw3dCAACAzuTDd0IAAEA0N8R3QgAAAJqJxHdCAADA/9vEd0IAAIBlLsV3QgAAQMuAxXdCAAAAMdPFd0IAAMCWJcZ3QgAAgPx3xndCAABAYsrGd0IAAADIHMd3QgAAwC1vx3dCAACAk8HHd0IAAED5E8h3QgAAAF9myHdCAADAxLjId0IAAIAqC8l3QgAAQJBdyXdCAAAA9q/Jd0IAAMBbAsp3QgAAgMFUyndCAABAJ6fKd0IAAACN+cp3QgAAwPJLy3dCAACAWJ7Ld0IAAEC+8Mt3QgAAACRDzHdCAADAiZXMd0IAAIDv58x3QgAAQFU6zXdCAAAAu4zNd0IAAMAg3813QgAAgIYxzndCAABA7IPOd0IAAABS1s53QgAAwLcoz3dCAACAHXvPd0IAAECDzc93QgAAAOkf0HdCAADATnLQd0IAAIC0xNB3QgAAQBoX0XdCAAAAgGnRd0IAAMDlu9F3QgAAgEsO0ndCAABAsWDSd0IAAAAXs9J3QgAAwHwF03dCAACA4lfTd0IAAEBIqtN3QgAAAK7803dCAADAE0/Ud0IAAIB5odR3QgAAQN/z1HdCAAAARUbVd0IAAMCqmNV3QgAAgBDr1XdCAABAdj3Wd0IAAADcj9Z3QgAAwEHi1ndCAACApzTXd0IAAEANh9d3QgAAAHPZ13dCAADA2CvYd0IAAIA+fth3QgAAQKTQ2HdCAAAACiPZd0IAAMBvddl3QgAAgNXH2XdCAABAOxrad0IAAAChbNp3QgAAwAa/2ndCAACAbBHbd0IAAEDSY9t3QgAAADi223dCAADAnQjcd0IAAIADW9x3QgAAQGmt3HdCAAAAz//cd0IAAMA0Ut13QgAAgJqk3XdCAABAAPfdd0IAAABmSd53QgAAwMub3ndCAACAMe7ed0IAAECXQN93QgAAAP2S33dCAADAYuXfd0IAAIDIN+B3QgAAQC6K4HdCAAAAlNzgd0IAAMD5LuF3QgAAgF+B4XdCAABAxdPhd0IAAAArJuJ3QgAAwJB44ndCAACA9srid0IAAEBcHeN3QgAAAMJv43dCAADAJ8Ljd0IAAICNFOR3QgAAQPNm5HdCAAAAWbnkd0IAAMC+C+V3QgAAgCRe5XdCAABAirDld0IAAADwAuZ3QgAAwFVV5ndCAACAu6fmd0IAAEAh+uZ3QgAAAIdM53dCAADA7J7nd0IAAIBS8ed3QgAAQLhD6HdCAAAAHpbod0IAAMCD6Oh3QgAAgOk66XdCAABAT43pd0IAAAC13+l3QgAAwBoy6ndCAACAgITqd0IAAEDm1up3QgAAAEwp63dCAADAsXvrd0IAAIAXzut3QgAAQH0g7HdCAAAA43Lsd0IAAMBIxex3QgAAgK4X7XdCAABAFGrtd0IAAAB6vO13QgAAwN8O7ndCAACARWHud0IAAECrs+53QgAAABEG73dCAADAdljvd0IAAIDcqu93QgAAQEL973dCAAAAqE/wd0IAAMANovB3QgAAgHP08HdCAABA2Ubxd0IAAAA/mfF3QgAAwKTr8XdCAACACj7yd0IAAEBwkPJ3QgAAANbi8ndCAADAOzXzd0IAAIChh/N3QgAAQAfa83dCAAAAbSz0d0IAAMDSfvR3QgAAgDjR9HdCAABAniP1d0IAAAAEdvV3QgAAwGnI9XdCAACAzxr2d0IAAEA1bfZ3QgAAAJu/9ndCAADAABL3d0IAAIBmZPd3QgAAQMy293dCAAAAMgn4d0IAAMCXW/h3QgAAgP2t+HdCAABAYwD5d0IAAADJUvl3QgAAwC6l+XdCAACAlPf5d0IAAED6Sfp3QgAAAGCc+ndCAADAxe76d0IAAIArQft3QgAAQJGT+3dCAAAA9+X7d0IAAMBcOPx3QgAAgMKK/HdCAABAKN38d0IAAACOL/13QgAAwPOB/XdCAACAWdT9d0IAAEC/Jv53QgAAACV5/ndCAADAisv+d0IAAIDwHf93QgAAQFZw/3dCAAAAvML/d0IAAMAhFQB4QgAAgIdnAHhCAABA7bkAeEIAAABTDAF4QgAAwLheAXhCAACAHrEBeEIAAECEAwJ4QgAAAOpVAnhCAADAT6gCeEIAAIC1+gJ4QgAAQBtNA3hCAAAAgZ8DeEIAAMDm8QN4QgAAgExEBHhCAABAspYEeEIAAAAY6QR4QgAAwH07BXhCAACA440FeEIAAEBJ4AV4QgAAAK8yBnhCAADAFIUGeEIAAIB61wZ4QgAAQOApB3hCAAAARnwHeEIAAMCrzgd4QgAAgBEhCHhCAABAd3MIeEIAAADdxQh4QgAAwEIYCXhCAACAqGoJeEIAAEAOvQl4QgAAAHQPCnhCAADA2WEKeEIAAIA/tAp4QgAAQKUGC3hCAAAAC1kLeEIAAMBwqwt4QgAAgNb9C3hCAABAPFAMeEIAAACiogx4QgAAwAf1DHhCAACAbUcNeEIAAEDTmQ14QgAAADnsDXhCAADAnj4OeEIAAIAEkQ54QgAAQGrjDnhCAAAA0DUPeEIAAMA1iA94QgAAgJvaD3hCAABAAS0QeEIAAABnfxB4QgAAwMzREHhCAACAMiQReEIAAECYdhF4QgAAAP7IEXhCAADAYxsSeEIAAIDJbRJ4QgAAQC/AEnhCAAAAlRITeEIAAMD6ZBN4QgAAgGC3E3hCAABAxgkUeEIAAAAsXBR4QgAAwJGuFHhCAACA9wAVeEIAAEBdUxV4QgAAAMOlFXhCAADAKPgVeEIAAICOShZ4QgAAQPScFnhCAAAAWu8WeEIAAMC/QRd4QgAAgCWUF3hCAABAi+YXeEIAAADxOBh4QgAAwFaLGHhCAACAvN0YeEIAAEAiMBl4QgAAAIiCGXhCAADA7dQZeEIAAIBTJxp4QgAAQLl5GnhCAAAAH8waeEIAAMCEHht4QgAAgOpwG3hCAABAUMMbeEIAAAC2FRx4QgAAwBtoHHhCAACAgboceEIAAEDnDB14QgAAAE1fHXhCAADAsrEdeEIAAIAYBB54QgAAQH5WHnhCAAAA5KgeeEIAAMBJ+x54QgAAgK9NH3hCAABAFaAfeEIAAAB78h94QgAAwOBEIHhCAACARpcgeEIAAECs6SB4QgAAABI8IXhCAADAd44heEIAAIDd4CF4QgAAQEMzInhCAAAAqYUieEIAAMAO2CJ4QgAAgHQqI3hCAABA2nwjeEIAAABAzyN4QgAAwKUhJHhCAACAC3QkeEIAAEBxxiR4QgAAANcYJXhCAADAPGsleEIAAICivSV4QgAAQAgQJnhCAAAAbmImeEIAAMDTtCZ4QgAAgDkHJ3hCAABAn1kneEIAAAAFrCd4QgAAwGr+J3hCAACA0FAoeEIAAEA2oyh4QgAAAJz1KHhCAADAAUgpeEIAAIBnmil4QgAAQM3sKXhCAAAAMz8qeEIAAMCYkSp4QgAAgP7jKnhCAABAZDYreEIAAADKiCt4QgAAwC/bK3hCAACAlS0seEIAAED7fyx4QgAAAGHSLHhCAADAxiQteEIAAIAsdy14QgAAQJLJLXhCAAAA+BsueEIAAMBdbi54QgAAgMPALnhCAABAKRMveEIAAACPZS94QgAAwPS3L3hCAACAWgoweEIAAEDAXDB4QgAAACavMHhCAADAiwExeEIAAIDxUzF4QgAAQFemMXhCAAAAvfgxeEIAAMAiSzJ4QgAAgIidMnhCAABA7u8yeEIAAABUQjN4QgAAwLmUM3hCAACAH+czeEIAAECFOTR4QgAAAOuLNHhCAADAUN40eEIAAIC2MDV4QgAAQByDNXhCAAAAgtU1eEIAAMDnJzZ4QgAAgE16NnhCAABAs8w2eEIAAAAZHzd4QgAAwH5xN3hCAACA5MM3eEIAAEBKFjh4QgAAALBoOHhCAADAFbs4eEIAAIB7DTl4QgAAQOFfOXhCAAAAR7I5eEIAAMCsBDp4QgAAgBJXOnhCAABAeKk6eEIAAADe+zp4QgAAwENOO3hCAACAqaA7eEIAAEAP8zt4QgAAAHVFPHhCAADA2pc8eEIAAIBA6jx4QgAAQKY8PXhCAAAADI89eEIAAMBx4T14QgAAgNczPnhCAABAPYY+eEIAAACj2D54QgAAwAgrP3hCAACAbn0/eEIAAEDUzz94QgAAADoiQHhCAADAn3RAeEIAAIAFx0B4QgAAQGsZQXhCAAAA0WtBeEIAAMA2vkF4QgAAgJwQQnhCAABAAmNCeEIAAABotUJ4QgAAwM0HQ3hCAACAM1pDeEIAAECZrEN4QgAAAP/+Q3hCAADAZFFEeEIAAIDKo0R4QgAAQDD2RHhCAAAAlkhFeEIAAMD7mkV4QgAAgGHtRXhCAABAxz9GeEIAAAAtkkZ4QgAAwJLkRnhCAACA+DZHeEIAAEBeiUd4QgAAAMTbR3hCAADAKS5IeEIAAICPgEh4QgAAQPXSSHhCAAAAWyVJeEIAAMDAd0l4QgAAgCbKSXhCAABAjBxKeEIAAADybkp4QgAAwFfBSnhCAACAvRNLeEIAAEAjZkt4QgAAAIm4S3hCAADA7gpMeEIAAIBUXUx4QgAAQLqvTHhCAAAAIAJNeEIAAMCFVE14QgAAgOumTXhCAABAUflNeEIAAAC3S054QgAAwByeTnhCAACAgvBOeEIAAEDoQk94QgAAAE6VT3hCAADAs+dPeEIAAIAZOlB4QgAAQH+MUHhCAAAA5d5QeEIAAMBKMVF4QgAAgLCDUXhCAABAFtZReEIAAAB8KFJ4QgAAwOF6UnhCAACAR81SeEIAAECtH1N4QgAAABNyU3hCAADAeMRTeEIAAIDeFlR4QgAAQERpVHhCAAAAqrtUeEIAAMAPDlV4QgAAgHVgVXhCAABA27JVeEIAAABBBVZ4QgAAwKZXVnhCAACADKpWeEIAAEBy/FZ4QgAAANhOV3hCAADAPaFXeEIAAICj81d4QgAAQAlGWHhCAAAAb5hYeEIAAMDU6lh4QgAAgDo9WXhCAABAoI9ZeEIAAAAG4ll4QgAAwGs0WnhCAACA0YZaeEIAAEA32Vp4QgAAAJ0rW3hCAADAAn5beEIAAIBo0Ft4QgAAQM4iXHhCAAAANHVceEIAAMCZx1x4QgAAgP8ZXXhCAABAZWxdeEIAAADLvl14QgAAwDARXnhCAACAlmNeeEIAAED8tV54QgAAAGIIX3hCAADAx1pfeEIAAIAtrV94QgAAQJP/X3hCAAAA+VFgeEIAAMBepGB4QgAAgMT2YHhCAABAKklheEIAAACQm2F4QgAAwPXtYXhCAACAW0BieEIAAEDBkmJ4QgAAACflYnhCAADAjDdjeEIAAIDyiWN4QgAAQFjcY3hCAAAAvi5keEIAAMAjgWR4QgAAgInTZHhCAABA7yVleEIAAABVeGV4QgAAwLrKZXhCAACAIB1meEIAAECGb2Z4QgAAAOzBZnhCAADAURRneEIAAIC3Zmd4QgAAQB25Z3hCAAAAgwtoeEIAAMDoXWh4QgAAgE6waHhCAABAtAJpeEIAAAAaVWl4QgAAwH+naXhCAACA5flpeEIAAEBLTGp4QgAAALGeanhCAADAFvFqeEIAAIB8Q2t4QgAAQOKVa3hCAAAASOhreEIAAMCtOmx4QgAAgBONbHhCAABAed9seEIAAADfMW14QgAAwESEbXhCAACAqtZteEIAAEAQKW54QgAAAHZ7bnhCAADA281ueEIAAIBBIG94QgAAQKdyb3hCAAAADcVveEIAAMByF3B4QgAAgNhpcHhCAABAPrxweEIAAACkDnF4QgAAwAlhcXhCAACAb7NxeEIAAEDVBXJ4QgAAADtYcnhCAADAoKpyeEIAAIAG/XJ4QgAAQGxPc3hCAAAA0qFzeEIAAMA39HN4QgAAgJ1GdHhCAABAA5l0eEIAAABp63R4QgAAwM49dXhCAACANJB1eEIAAECa4nV4QgAAAAA1dnhCAADAZYd2eEIAAIDL2XZ4QgAAQDEsd3hCAAAAl353eEIAAMD80Hd4QgAAgGIjeHhCAABAyHV4eEIAAAAuyHh4QgAAwJMaeXhCAACA+Wx5eEIAAEBfv3l4QgAAAMURenhCAADAKmR6eEIAAICQtnp4QgAAQPYIe3hCAAAAXFt7eEIAAMDBrXt4QgAAgCcAfHhCAABAjVJ8eEIAAADzpHx4QgAAwFj3fHhCAACAvkl9eEIAAEAknH14QgAAAIrufXhCAADA70B+eEIAAIBVk354QgAAQLvlfnhCAAAAITh/eEIAAMCGin94QgAAgOzcf3hCAABAUi+AeEIAAAC4gYB4QgAAwB3UgHhCAACAgyaBeEIAAEDpeIF4QgAAAE/LgXhCAADAtB2CeEIAAIAacIJ4QgAAQIDCgnhCAAAA5hSDeEIAAMBLZ4N4QgAAgLG5g3hCAABAFwyEeEIAAAB9XoR4QgAAwOKwhHhCAACASAOFeEIAAECuVYV4QgAAABSohXhCAADAefqFeEIAAIDfTIZ4QgAAQEWfhnhCAAAAq/GGeEIAAMAQRId4QgAAgHaWh3hCAABA3OiHeEIAAABCO4h4QgAAwKeNiHhCAACADeCIeEIAAEBzMol4QgAAANmEiXhCAADAPteJeEIAAICkKYp4QgAAQAp8inhCAAAAcM6KeEIAAMDVIIt4QgAAgDtzi3hCAABAocWLeEIAAAAHGIx4QgAAwGxqjHhCAACA0ryMeEIAAEA4D414QgAAAJ5hjXhCAADAA7SNeEIAAIBpBo54QgAAQM9YjnhCAAAANauOeEIAAMCa/Y54QgAAgABQj3hCAABAZqKPeEIAAADM9I94QgAAwDFHkHhCAACAl5mQeEIAAED965B4QgAAAGM+kXhCAADAyJCReEIAAIAu45F4QgAAQJQ1knhCAAAA+oeSeEIAAMBf2pJ4QgAAgMUsk3hCAABAK3+TeEIAAACR0ZN4QgAAwPYjlHhCAACAXHaUeEIAAEDCyJR4QgAAACgblXhCAADAjW2VeEIAAIDzv5V4QgAAQFkSlnhCAAAAv2SWeEIAAMAkt5Z4QgAAgIoJl3hCAABA8FuXeEIAAABWrpd4QgAAwLsAmHhCAACAIVOYeEIAAECHpZh4QgAAAO33mHhCAADAUkqZeEIAAIC4nJl4QgAAQB7vmXhCAAAAhEGaeEIAAMDpk5p4QgAAgE/mmnhCAABAtTibeEIAAAAbi5t4QgAAwIDdm3hCAACA5i+ceEIAAEBMgpx4QgAAALLUnHhCAADAFyedeEIAAIB9eZ14QgAAQOPLnXhCAAAASR6eeEIAAMCucJ54QgAAgBTDnnhCAABAehWfeEIAAADgZ594QgAAwEW6n3hCAACAqwygeEIAAEARX6B4QgAAAHexoHhCAADA3AOheEIAAIBCVqF4QgAAQKiooXhCAAAADvuheEIAAMBzTaJ4QgAAgNmfonhCAABAP/KieEIAAAClRKN4QgAAwAqXo3hCAACAcOmjeEL4RwKLFLd4Qg==\",\"dtype\":\"float64\",\"order\":\"little\",\"shape\":[965]},\"y\":{\"__ndarray__\":\"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\",\"dtype\":\"float64\",\"order\":\"little\",\"shape\":[965]}},\"selected\":{\"id\":\"1534\"},\"selection_policy\":{\"id\":\"1533\"}},\"id\":\"1477\",\"type\":\"ColumnDataSource\"},{\"attributes\":{\"base\":24,\"mantissas\":[1,2,4,6,8,12],\"max_interval\":43200000.0,\"min_interval\":3600000.0,\"num_minor_ticks\":0},\"id\":\"1538\",\"type\":\"AdaptiveTicker\"},{\"attributes\":{\"bottom_units\":\"screen\",\"coordinates\":null,\"fill_alpha\":0.5,\"fill_color\":\"lightgrey\",\"group\":null,\"left_units\":\"screen\",\"level\":\"overlay\",\"line_alpha\":1.0,\"line_color\":\"black\",\"line_dash\":[4,4],\"line_width\":2,\"right_units\":\"screen\",\"syncable\":false,\"top_units\":\"screen\"},\"id\":\"1467\",\"type\":\"BoxAnnotation\"},{\"attributes\":{},\"id\":\"1547\",\"type\":\"YearsTicker\"},{\"attributes\":{\"months\":[0,1,2,3,4,5,6,7,8,9,10,11]},\"id\":\"1543\",\"type\":\"MonthsTicker\"},{\"attributes\":{},\"id\":\"1458\",\"type\":\"BasicTicker\"},{\"attributes\":{\"days\":[1,15]},\"id\":\"1542\",\"type\":\"DaysTicker\"},{\"attributes\":{},\"id\":\"1451\",\"type\":\"LinearScale\"},{\"attributes\":{\"days\":[1,2,3,4,5,6,7,8,9,10,11,12,13,14,15,16,17,18,19,20,21,22,23,24,25,26,27,28,29,30,31]},\"id\":\"1539\",\"type\":\"DaysTicker\"},{\"attributes\":{},\"id\":\"1466\",\"type\":\"HelpTool\"},{\"attributes\":{\"days\":[1,4,7,10,13,16,19,22,25,28]},\"id\":\"1540\",\"type\":\"DaysTicker\"},{\"attributes\":{\"days\":[1,8,15,22]},\"id\":\"1541\",\"type\":\"DaysTicker\"},{\"attributes\":{\"axis\":{\"id\":\"1457\"},\"coordinates\":null,\"dimension\":1,\"group\":null,\"ticker\":null},\"id\":\"1460\",\"type\":\"Grid\"},{\"attributes\":{\"months\":[0,6]},\"id\":\"1546\",\"type\":\"MonthsTicker\"},{\"attributes\":{\"months\":[0,2,4,6,8,10]},\"id\":\"1544\",\"type\":\"MonthsTicker\"},{\"attributes\":{\"callback\":null,\"formatters\":{\"@x\":\"datetime\"},\"tooltips\":[[\"Date\",\"@x{%Y-%m-%d}\"],[\"Total Stars\",\"@y\"]]},\"id\":\"1475\",\"type\":\"HoverTool\"},{\"attributes\":{},\"id\":\"1533\",\"type\":\"UnionRenderers\"},{\"attributes\":{\"source\":{\"id\":\"1477\"}},\"id\":\"1482\",\"type\":\"CDSView\"},{\"attributes\":{\"num_minor_ticks\":5,\"tickers\":[{\"id\":\"1536\"},{\"id\":\"1537\"},{\"id\":\"1538\"},{\"id\":\"1539\"},{\"id\":\"1540\"},{\"id\":\"1541\"},{\"id\":\"1542\"},{\"id\":\"1543\"},{\"id\":\"1544\"},{\"id\":\"1545\"},{\"id\":\"1546\"},{\"id\":\"1547\"}]},\"id\":\"1454\",\"type\":\"DatetimeTicker\"},{\"attributes\":{\"months\":[0,4,8]},\"id\":\"1545\",\"type\":\"MonthsTicker\"},{\"attributes\":{},\"id\":\"1534\",\"type\":\"Selection\"},{\"attributes\":{\"coordinates\":null,\"group\":null},\"id\":\"1525\",\"type\":\"Title\"},{\"attributes\":{},\"id\":\"1445\",\"type\":\"DataRange1d\"},{\"attributes\":{\"line_color\":\"#1f77b4\",\"x\":{\"field\":\"x\"},\"y\":{\"field\":\"y\"}},\"id\":\"1478\",\"type\":\"Line\"},{\"attributes\":{\"coordinates\":null,\"data_source\":{\"id\":\"1477\"},\"glyph\":{\"id\":\"1478\"},\"group\":null,\"hover_glyph\":null,\"muted_glyph\":{\"id\":\"1480\"},\"nonselection_glyph\":{\"id\":\"1479\"},\"view\":{\"id\":\"1482\"}},\"id\":\"1481\",\"type\":\"GlyphRenderer\"},{\"attributes\":{},\"id\":\"1447\",\"type\":\"DataRange1d\"},{\"attributes\":{\"line_alpha\":0.2,\"line_color\":\"#1f77b4\",\"x\":{\"field\":\"x\"},\"y\":{\"field\":\"y\"}},\"id\":\"1480\",\"type\":\"Line\"},{\"attributes\":{\"axis_label\":\"Total Stars\",\"coordinates\":null,\"formatter\":{\"id\":\"1528\"},\"group\":null,\"major_label_policy\":{\"id\":\"1529\"},\"ticker\":{\"id\":\"1458\"}},\"id\":\"1457\",\"type\":\"LinearAxis\"},{\"attributes\":{\"axis_label\":\"Date\",\"coordinates\":null,\"formatter\":{\"id\":\"1531\"},\"group\":null,\"major_label_policy\":{\"id\":\"1532\"},\"ticker\":{\"id\":\"1454\"}},\"id\":\"1453\",\"type\":\"DatetimeAxis\"},{\"attributes\":{\"line_alpha\":0.1,\"line_color\":\"#1f77b4\",\"x\":{\"field\":\"x\"},\"y\":{\"field\":\"y\"}},\"id\":\"1479\",\"type\":\"Line\"}],\"root_ids\":[\"1444\"]},\"title\":\"Bokeh Application\",\"version\":\"2.4.3\"}};\n",
       "  const render_items = [{\"docid\":\"1d992fe2-a503-4f4f-97ae-3e89bf0f256b\",\"root_ids\":[\"1444\"],\"roots\":{\"1444\":\"db26e299-826d-4806-ae6a-f1498c9349df\"}}];\n",
       "  root.Bokeh.embed.embed_items_notebook(docs_json, render_items);\n",
       "  }\n",
       "  if (root.Bokeh !== undefined) {\n",
       "    embed_document(root);\n",
       "  } else {\n",
       "    let attempts = 0;\n",
       "    const timer = setInterval(function(root) {\n",
       "      if (root.Bokeh !== undefined) {\n",
       "        clearInterval(timer);\n",
       "        embed_document(root);\n",
       "      } else {\n",
       "        attempts++;\n",
       "        if (attempts > 100) {\n",
       "          clearInterval(timer);\n",
       "          console.log(\"Bokeh: ERROR: Unable to run BokehJS code because BokehJS library is missing\");\n",
       "        }\n",
       "      }\n",
       "    }, 10, root)\n",
       "  }\n",
       "})(window);"
      ],
      "application/vnd.bokehjs_exec.v0+json": ""
     },
     "metadata": {
      "application/vnd.bokehjs_exec.v0+json": {
       "id": "1444"
      }
     },
     "output_type": "display_data"
    }
   ],
   "source": [
    "p = utils.plot_github_stars_timeseries(gh)\n",
    "show(p)"
   ]
  },
  {
   "cell_type": "code",
   "execution_count": 10,
   "id": "04bc51f2-d16e-4b7e-a463-99d0fe64a67c",
   "metadata": {
    "execution": {
     "iopub.execute_input": "2023-10-27T13:17:51.091902Z",
     "iopub.status.busy": "2023-10-27T13:17:51.091305Z",
     "iopub.status.idle": "2023-10-27T13:18:42.137646Z",
     "shell.execute_reply": "2023-10-27T13:18:42.136988Z"
    }
   },
   "outputs": [
    {
     "data": {
      "text/html": [
       "\n",
       "  <div class=\"bk-root\" id=\"1484af6a-a2a2-41bb-bbd0-941fa3545450\" data-root-id=\"1663\"></div>\n"
      ]
     },
     "metadata": {},
     "output_type": "display_data"
    },
    {
     "data": {
      "application/javascript": [
       "(function(root) {\n",
       "  function embed_document(root) {\n",
       "  const docs_json = {\"abf79411-20b2-42d1-aca2-94d0a94a5b18\":{\"defs\":[],\"roots\":{\"references\":[{\"attributes\":{\"below\":[{\"id\":\"1672\"}],\"center\":[{\"id\":\"1675\"},{\"id\":\"1679\"}],\"height\":350,\"left\":[{\"id\":\"1676\"}],\"renderers\":[{\"id\":\"1700\"}],\"title\":{\"id\":\"1767\"},\"toolbar\":{\"id\":\"1687\"},\"x_range\":{\"id\":\"1664\"},\"x_scale\":{\"id\":\"1668\"},\"y_range\":{\"id\":\"1666\"},\"y_scale\":{\"id\":\"1670\"}},\"id\":\"1663\",\"subtype\":\"Figure\",\"type\":\"Plot\"},{\"attributes\":{\"data\":{\"x\":{\"__ndarray__\":\"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\",\"dtype\":\"float64\",\"order\":\"little\",\"shape\":[527]},\"y\":{\"__ndarray__\":\"AAAAAAAAAEAAAAAAAAAAQAAAAAAAAABAAAAAAAAAAEAAAAAAAAAAQAAAAAAAAABAAAAAAAAAAEAAAAAAAAAAQAAAAAAAAABAAAAAAAAAAEAAAAAAAAAAQAAAAAAAAABAAAAAAAAAAEAAAAAAAAAAQAAAAAAAAABAAAAAAAAAAEAAAAAAAAAAQAAAAAAAAABAAAAAAAAAAEAAAAAAAAAAQAAAAAAAAABAAAAAAAAAAEAAAAAAAAAAQAAAAAAAAABAAAAAAAAAAEAAAAAAAAAAQAAAAAAAAABAAAAAAAAAAEAAAAAAAAAAQAAAAAAAAABAAAAAAAAAAEAAAAAAAAAAQAAAAAAAAABAAAAAAAAAAEAAAAAAAAAAQAAAAAAAAABAAAAAAAAAAEAAAAAAAAAAQAAAAAAAAABAAAAAAAAAAEAAAAAAAAAAQAAAAAAAAABAAAAAAAAAAEAAAAAAAAAAQAAAAAAAAABAAAAAAAAAAEAAAAAAAAAAQAAAAAAAAABAAAAAAAAAAEAAAAAAAAAAQAAAAAAAAABAAAAAAAAAAEAAAAAAAAAAQAAAAAAAAABAAAAAAAAAAEAAAAAAAAAAQAAAAAAAAABAAAAAAAAAAEAAAAAAAAAAQAAAAAAAAABAAAAAAAAAAEAAAAAAAAAAQAAAAAAAAABAAAAAAAAAAEAAAAAAAAAAQAAAAAAAAABAAAAAAAAAAEAAAAAAAAAAQAAAAAAAAABAAAAAAAAAAEAAAAAAAAAAQAAAAAAAAABAAAAAAAAAAEAAAAAAAAAAQAAAAAAAAABAAAAAAAAAAEAAAAAAAAAAQAAAAAAAAABAAAAAAAAAAEAAAAAAAAAAQAAAAAAAAABAAAAAAAAAAEAAAAAAAAAAQAAAAAAAAABAAAAAAAAAAEAAAAAAAAAAQAAAAAAAAABAAAAAAAAAAEAAAAAAAAAAQAAAAAAAAABAAAAAAAAAAEAAAAAAAAAAQAAAAAAAAABAAAAAAAAAAEAAAAAAAAAAQAAAAAAAAABAAAAAAAAAAEAAAAAAAAAAQAAAAAAAAABAAAAAAAAAAEAAAAAAAAAAQAAAAAAAAABAAAAAAAAAAEAAAAAAAAAAQAAAAAAAAABAAAAAAAAACEAAAAAAAAAIQAAAAAAAAAhAAAAAAAAACEAAAAAAAAAIQAAAAAAAAAhAAAAAAAAACEAAAAAAAAAIQAAAAAAAAAhAAAAAAAAACEAAAAAAAAAIQAAAAAAAAAhAAAAAAAAACEAAAAAAAAAIQAAAAAAAAAhAAAAAAAAACEAAAAAAAAAIQAAAAAAAAAhAAAAAAAAACEAAAAAAAAAIQAAAAAAAAAhAAAAAAAAACEAAAAAAAAAIQAAAAAAAAAhAAAAAAAAACEAAAAAAAAAIQAAAAAAAAAhAAAAAAAAACEAAAAAAAAAQQAAAAAAAABBAAAAAAAAAEEAAAAAAAAAQQAAAAAAAABBAAAAAAAAAEEAAAAAAAAAQQAAAAAAAABBAAAAAAAAAEEAAAAAAAAAQQAAAAAAAABBAAAAAAAAAEEAAAAAAAAAQQAAAAAAAABBAAAAAAAAAEEAAAAAAAAAQQAAAAAAAABBAAAAAAAAAEEAAAAAAAAAQQAAAAAAAABBAAAAAAAAAEEAAAAAAAAAQQAAAAAAAABBAAAAAAAAAEEAAAAAAAAAQQAAAAAAAABBAAAAAAAAAEEAAAAAAAAAQQAAAAAAAABBAAAAAAAAAEEAAAAAAAAAQQAAAAAAAABBAAAAAAAAAEEAAAAAAAAAQQAAAAAAAABBAAAAAAAAAEEAAAAAAAAAQQAAAAAAAABBAAAAAAAAAEEAAAAAAAAAQQAAAAAAAABBAAAAAAAAAEEAAAAAAAAAQQAAAAAAAABBAAAAAAAAAEEAAAAAAAAAQQAAAAAAAABBAAAAAAAAAEEAAAAAAAAAQQAAAAAAAABBAAAAAAAAAEEAAAAAAAAAQQAAAAAAAABBAAAAAAAAAEEAAAAAAAAAQQAAAAAAAABBAAAAAAAAAEEAAAAAAAAAQQAAAAAAAABBAAAAAAAAAEEAAAAAAAAAQQAAAAAAAABBAAAAAAAAAEEAAAAAAAAAQQAAAAAAAABBAAAAAAAAAEEAAAAAAAAAQQAAAAAAAABBAAAAAAAAAEEAAAAAAAAAQQAAAAAAAABBAAAAAAAAAEEAAAAAAAAAQQAAAAAAAABBAAAAAAAAAEEAAAAAAAAAQQAAAAAAAABBAAAAAAAAAEEAAAAAAAAAQQAAAAAAAABBAAAAAAAAAEEAAAAAAAAAQQAAAAAAAABBAAAAAAAAAEEAAAAAAAAAQQAAAAAAAABBAAAAAAAAAEEAAAAAAAAAQQAAAAAAAABBAAAAAAAAAEEAAAAAAAAAQQAAAAAAAABBAAAAAAAAAEEAAAAAAAAAQQAAAAAAAABBAAAAAAAAAEEAAAAAAAAAQQAAAAAAAABBAAAAAAAAAEEAAAAAAAAAQQAAAAAAAABBAAAAAAAAAEEAAAAAAAAAQQAAAAAAAABBAAAAAAAAAEEAAAAAAAAAQQAAAAAAAABBAAAAAAAAAEEAAAAAAAAAQQAAAAAAAABBAAAAAAAAAEEAAAAAAAAAQQAAAAAAAABBAAAAAAAAAEEAAAAAAAAAQQAAAAAAAABBAAAAAAAAAEEAAAAAAAAAQQAAAAAAAABBAAAAAAAAAEEAAAAAAAAAQQAAAAAAAABBAAAAAAAAAEEAAAAAAAAAQQAAAAAAAABBAAAAAAAAAEEAAAAAAAAAQQAAAAAAAABBAAAAAAAAAEEAAAAAAAAAQQAAAAAAAABBAAAAAAAAAEEAAAAAAAAAQQAAAAAAAABBAAAAAAAAAEEAAAAAAAAAQQAAAAAAAABBAAAAAAAAAEEAAAAAAAAAQQAAAAAAAABBAAAAAAAAAEEAAAAAAAAAQQAAAAAAAABBAAAAAAAAAEEAAAAAAAAAQQAAAAAAAABBAAAAAAAAAEEAAAAAAAAAQQAAAAAAAABBAAAAAAAAAEEAAAAAAAAAQQAAAAAAAABBAAAAAAAAAEEAAAAAAAAAQQAAAAAAAABBAAAAAAAAAEEAAAAAAAAAQQAAAAAAAABBAAAAAAAAAEEAAAAAAAAAQQAAAAAAAABBAAAAAAAAAEEAAAAAAAAAQQAAAAAAAABBAAAAAAAAAEEAAAAAAAAAQQAAAAAAAABBAAAAAAAAAEEAAAAAAAAAQQAAAAAAAABBAAAAAAAAAEEAAAAAAAAAQQAAAAAAAABBAAAAAAAAAEEAAAAAAAAAQQAAAAAAAABBAAAAAAAAAEEAAAAAAAAAQQAAAAAAAABBAAAAAAAAAEEAAAAAAAAAQQAAAAAAAABBAAAAAAAAAEEAAAAAAAAAQQAAAAAAAABBAAAAAAAAAEEAAAAAAAAAQQAAAAAAAABBAAAAAAAAAEEAAAAAAAAAQQAAAAAAAABBAAAAAAAAAEEAAAAAAAAAQQAAAAAAAABBAAAAAAAAAEEAAAAAAAAAQQAAAAAAAABBAAAAAAAAAEEAAAAAAAAAQQAAAAAAAABBAAAAAAAAAEEAAAAAAAAAQQAAAAAAAABBAAAAAAAAAEEAAAAAAAAAQQAAAAAAAABBAAAAAAAAAEEAAAAAAAAAQQAAAAAAAABBAAAAAAAAAEEAAAAAAAAAQQAAAAAAAABBAAAAAAAAAEEAAAAAAAAAQQAAAAAAAABBAAAAAAAAAEEAAAAAAAAAQQAAAAAAAABBAAAAAAAAAEEAAAAAAAAAQQAAAAAAAABBAAAAAAAAAEEAAAAAAAAAQQAAAAAAAABBAAAAAAAAAEEAAAAAAAAAQQAAAAAAAABBAAAAAAAAAEEAAAAAAAAAQQAAAAAAAABBAAAAAAAAAEEAAAAAAAAAQQAAAAAAAABBAAAAAAAAAEEAAAAAAAAAQQAAAAAAAABBAAAAAAAAAEEAAAAAAAAAQQAAAAAAAABBAAAAAAAAAEEAAAAAAAAAQQAAAAAAAABBAAAAAAAAAEEAAAAAAAAAQQAAAAAAAABBAAAAAAAAAEEAAAAAAAAAQQAAAAAAAABBAAAAAAAAAEEAAAAAAAAAQQAAAAAAAABBAAAAAAAAAEEAAAAAAAAAQQAAAAAAAABBAAAAAAAAAEEAAAAAAAAAQQAAAAAAAABBAAAAAAAAAEEAAAAAAAAAQQAAAAAAAABBAAAAAAAAAEEAAAAAAAAAQQAAAAAAAABBAAAAAAAAAEEAAAAAAAAAQQAAAAAAAABBAAAAAAAAAEEAAAAAAAAAQQAAAAAAAABBAAAAAAAAAEEAAAAAAAAAQQAAAAAAAABBAAAAAAAAAEEAAAAAAAAAQQAAAAAAAABBAAAAAAAAAEEAAAAAAAAAQQAAAAAAAABBAAAAAAAAAEEAAAAAAAAAQQAAAAAAAABBAAAAAAAAAEEAAAAAAAAAQQAAAAAAAABBAAAAAAAAAEEAAAAAAAAAQQAAAAAAAABBAAAAAAAAAEEAAAAAAAAAQQAAAAAAAABBAAAAAAAAAEEAAAAAAAAAQQAAAAAAAABBAAAAAAAAAEEAAAAAAAAAQQAAAAAAAABBAAAAAAAAAEEAAAAAAAAAQQAAAAAAAABBAAAAAAAAAEEAAAAAAAAAQQAAAAAAAABBAAAAAAAAAEEAAAAAAAAAQQAAAAAAAABBAAAAAAAAAEEAAAAAAAAAQQAAAAAAAABBAAAAAAAAAEEAAAAAAAAAQQAAAAAAAABBAAAAAAAAAEEAAAAAAAAAQQAAAAAAAABBAAAAAAAAAEEAAAAAAAAAQQAAAAAAAABBAAAAAAAAAEEAAAAAAAAAQQAAAAAAAABBAAAAAAAAAEEAAAAAAAAAQQAAAAAAAABBAAAAAAAAAEEAAAAAAAAAQQAAAAAAAABBAAAAAAAAAEEAAAAAAAAAQQAAAAAAAABBAAAAAAAAAEEAAAAAAAAAQQAAAAAAAABBAAAAAAAAAEEAAAAAAAAAQQAAAAAAAABBAAAAAAAAAEEAAAAAAAAAQQAAAAAAAABBAAAAAAAAAEEAAAAAAAAAQQAAAAAAAABBAAAAAAAAAEEAAAAAAAAAQQAAAAAAAABBAAAAAAAAAEEAAAAAAAAAQQAAAAAAAABBAAAAAAAAAEEAAAAAAAAAQQAAAAAAAABBAAAAAAAAAEEAAAAAAAAAQQAAAAAAAABBAAAAAAAAAEEAAAAAAAAAQQAAAAAAAABBAAAAAAAAAEEAAAAAAAAAQQAAAAAAAABBAAAAAAAAAEEAAAAAAAAAQQAAAAAAAABBAAAAAAAAAEEAAAAAAAAAQQAAAAAAAABBAAAAAAAAAEEAAAAAAAAAQQAAAAAAAABBAAAAAAAAAEEAAAAAAAAAQQAAAAAAAABBAAAAAAAAAEEAAAAAAAAAQQAAAAAAAABBAAAAAAAAAEEAAAAAAAAAQQAAAAAAAABBAAAAAAAAAEEAAAAAAAAAQQAAAAAAAABBAAAAAAAAAEEAAAAAAAAAQQAAAAAAAABBAAAAAAAAAEEAAAAAAAAAQQAAAAAAAABBAAAAAAAAAEEAAAAAAAAAQQAAAAAAAABBAAAAAAAAAEEAAAAAAAAAQQAAAAAAAABBAAAAAAAAAFEAAAAAAAAAUQA==\",\"dtype\":\"float64\",\"order\":\"little\",\"shape\":[527]}},\"selected\":{\"id\":\"1776\"},\"selection_policy\":{\"id\":\"1775\"}},\"id\":\"1696\",\"type\":\"ColumnDataSource\"},{\"attributes\":{},\"id\":\"1666\",\"type\":\"DataRange1d\"},{\"attributes\":{},\"id\":\"1685\",\"type\":\"HelpTool\"},{\"attributes\":{},\"id\":\"1670\",\"type\":\"LinearScale\"},{\"attributes\":{\"bottom_units\":\"screen\",\"coordinates\":null,\"fill_alpha\":0.5,\"fill_color\":\"lightgrey\",\"group\":null,\"left_units\":\"screen\",\"level\":\"overlay\",\"line_alpha\":1.0,\"line_color\":\"black\",\"line_dash\":[4,4],\"line_width\":2,\"right_units\":\"screen\",\"syncable\":false,\"top_units\":\"screen\"},\"id\":\"1686\",\"type\":\"BoxAnnotation\"},{\"attributes\":{},\"id\":\"1770\",\"type\":\"BasicTickFormatter\"},{\"attributes\":{\"line_alpha\":0.2,\"line_color\":\"#1f77b4\",\"x\":{\"field\":\"x\"},\"y\":{\"field\":\"y\"}},\"id\":\"1699\",\"type\":\"Line\"},{\"attributes\":{},\"id\":\"1771\",\"type\":\"AllLabels\"},{\"attributes\":{\"coordinates\":null,\"group\":null},\"id\":\"1767\",\"type\":\"Title\"},{\"attributes\":{},\"id\":\"1683\",\"type\":\"SaveTool\"},{\"attributes\":{},\"id\":\"1773\",\"type\":\"DatetimeTickFormatter\"},{\"attributes\":{\"mantissas\":[1,2,5],\"max_interval\":500.0,\"num_minor_ticks\":0},\"id\":\"1778\",\"type\":\"AdaptiveTicker\"},{\"attributes\":{\"num_minor_ticks\":5,\"tickers\":[{\"id\":\"1778\"},{\"id\":\"1779\"},{\"id\":\"1780\"},{\"id\":\"1781\"},{\"id\":\"1782\"},{\"id\":\"1783\"},{\"id\":\"1784\"},{\"id\":\"1785\"},{\"id\":\"1786\"},{\"id\":\"1787\"},{\"id\":\"1788\"},{\"id\":\"1789\"}]},\"id\":\"1673\",\"type\":\"DatetimeTicker\"},{\"attributes\":{},\"id\":\"1774\",\"type\":\"AllLabels\"},{\"attributes\":{\"overlay\":{\"id\":\"1686\"}},\"id\":\"1682\",\"type\":\"BoxZoomTool\"},{\"attributes\":{\"base\":60,\"mantissas\":[1,2,5,10,15,20,30],\"max_interval\":1800000.0,\"min_interval\":1000.0,\"num_minor_ticks\":0},\"id\":\"1779\",\"type\":\"AdaptiveTicker\"},{\"attributes\":{\"base\":24,\"mantissas\":[1,2,4,6,8,12],\"max_interval\":43200000.0,\"min_interval\":3600000.0,\"num_minor_ticks\":0},\"id\":\"1780\",\"type\":\"AdaptiveTicker\"},{\"attributes\":{\"callback\":null,\"formatters\":{\"@x\":\"datetime\"},\"tooltips\":[[\"Date\",\"@x{%Y-%m-%d}\"],[\"Total Contributors\",\"@y\"]]},\"id\":\"1694\",\"type\":\"HoverTool\"},{\"attributes\":{},\"id\":\"1789\",\"type\":\"YearsTicker\"},{\"attributes\":{},\"id\":\"1681\",\"type\":\"WheelZoomTool\"},{\"attributes\":{\"months\":[0,1,2,3,4,5,6,7,8,9,10,11]},\"id\":\"1785\",\"type\":\"MonthsTicker\"},{\"attributes\":{\"line_alpha\":0.1,\"line_color\":\"#1f77b4\",\"x\":{\"field\":\"x\"},\"y\":{\"field\":\"y\"}},\"id\":\"1698\",\"type\":\"Line\"},{\"attributes\":{\"axis_label\":\"Total Contributors\",\"coordinates\":null,\"formatter\":{\"id\":\"1770\"},\"group\":null,\"major_label_policy\":{\"id\":\"1771\"},\"ticker\":{\"id\":\"1677\"}},\"id\":\"1676\",\"type\":\"LinearAxis\"},{\"attributes\":{\"days\":[1,15]},\"id\":\"1784\",\"type\":\"DaysTicker\"},{\"attributes\":{\"days\":[1,2,3,4,5,6,7,8,9,10,11,12,13,14,15,16,17,18,19,20,21,22,23,24,25,26,27,28,29,30,31]},\"id\":\"1781\",\"type\":\"DaysTicker\"},{\"attributes\":{\"days\":[1,4,7,10,13,16,19,22,25,28]},\"id\":\"1782\",\"type\":\"DaysTicker\"},{\"attributes\":{\"days\":[1,8,15,22]},\"id\":\"1783\",\"type\":\"DaysTicker\"},{\"attributes\":{\"axis\":{\"id\":\"1676\"},\"coordinates\":null,\"dimension\":1,\"group\":null,\"ticker\":null},\"id\":\"1679\",\"type\":\"Grid\"},{\"attributes\":{\"months\":[0,6]},\"id\":\"1788\",\"type\":\"MonthsTicker\"},{\"attributes\":{\"coordinates\":null,\"data_source\":{\"id\":\"1696\"},\"glyph\":{\"id\":\"1697\"},\"group\":null,\"hover_glyph\":null,\"muted_glyph\":{\"id\":\"1699\"},\"nonselection_glyph\":{\"id\":\"1698\"},\"view\":{\"id\":\"1701\"}},\"id\":\"1700\",\"type\":\"GlyphRenderer\"},{\"attributes\":{\"months\":[0,2,4,6,8,10]},\"id\":\"1786\",\"type\":\"MonthsTicker\"},{\"attributes\":{},\"id\":\"1684\",\"type\":\"ResetTool\"},{\"attributes\":{},\"id\":\"1775\",\"type\":\"UnionRenderers\"},{\"attributes\":{},\"id\":\"1677\",\"type\":\"BasicTicker\"},{\"attributes\":{\"months\":[0,4,8]},\"id\":\"1787\",\"type\":\"MonthsTicker\"},{\"attributes\":{},\"id\":\"1776\",\"type\":\"Selection\"},{\"attributes\":{\"axis\":{\"id\":\"1672\"},\"coordinates\":null,\"group\":null,\"ticker\":null},\"id\":\"1675\",\"type\":\"Grid\"},{\"attributes\":{},\"id\":\"1668\",\"type\":\"LinearScale\"},{\"attributes\":{},\"id\":\"1680\",\"type\":\"PanTool\"},{\"attributes\":{\"tools\":[{\"id\":\"1680\"},{\"id\":\"1681\"},{\"id\":\"1682\"},{\"id\":\"1683\"},{\"id\":\"1684\"},{\"id\":\"1685\"},{\"id\":\"1694\"}]},\"id\":\"1687\",\"type\":\"Toolbar\"},{\"attributes\":{},\"id\":\"1664\",\"type\":\"DataRange1d\"},{\"attributes\":{\"axis_label\":\"Date\",\"coordinates\":null,\"formatter\":{\"id\":\"1773\"},\"group\":null,\"major_label_policy\":{\"id\":\"1774\"},\"ticker\":{\"id\":\"1673\"}},\"id\":\"1672\",\"type\":\"DatetimeAxis\"},{\"attributes\":{\"source\":{\"id\":\"1696\"}},\"id\":\"1701\",\"type\":\"CDSView\"},{\"attributes\":{\"line_color\":\"#1f77b4\",\"x\":{\"field\":\"x\"},\"y\":{\"field\":\"y\"}},\"id\":\"1697\",\"type\":\"Line\"}],\"root_ids\":[\"1663\"]},\"title\":\"Bokeh Application\",\"version\":\"2.4.3\"}};\n",
       "  const render_items = [{\"docid\":\"abf79411-20b2-42d1-aca2-94d0a94a5b18\",\"root_ids\":[\"1663\"],\"roots\":{\"1663\":\"1484af6a-a2a2-41bb-bbd0-941fa3545450\"}}];\n",
       "  root.Bokeh.embed.embed_items_notebook(docs_json, render_items);\n",
       "  }\n",
       "  if (root.Bokeh !== undefined) {\n",
       "    embed_document(root);\n",
       "  } else {\n",
       "    let attempts = 0;\n",
       "    const timer = setInterval(function(root) {\n",
       "      if (root.Bokeh !== undefined) {\n",
       "        clearInterval(timer);\n",
       "        embed_document(root);\n",
       "      } else {\n",
       "        attempts++;\n",
       "        if (attempts > 100) {\n",
       "          clearInterval(timer);\n",
       "          console.log(\"Bokeh: ERROR: Unable to run BokehJS code because BokehJS library is missing\");\n",
       "        }\n",
       "      }\n",
       "    }, 10, root)\n",
       "  }\n",
       "})(window);"
      ],
      "application/vnd.bokehjs_exec.v0+json": ""
     },
     "metadata": {
      "application/vnd.bokehjs_exec.v0+json": {
       "id": "1663"
      }
     },
     "output_type": "display_data"
    }
   ],
   "source": [
    "contributor_ts, _ = utils.get_github_contributor_timeseries(\"nrel/panel-segmentation\")\n",
    "p = utils.plot_github_contributors_timeseries(contributor_ts)\n",
    "show(p)"
   ]
  },
  {
   "cell_type": "code",
   "execution_count": 11,
   "id": "0af3555a-32a9-4b5f-a72c-1e4fe21928ec",
   "metadata": {
    "execution": {
     "iopub.execute_input": "2023-10-27T13:18:42.140941Z",
     "iopub.status.busy": "2023-10-27T13:18:42.140550Z",
     "iopub.status.idle": "2023-10-27T13:18:42.329788Z",
     "shell.execute_reply": "2023-10-27T13:18:42.329060Z"
    }
   },
   "outputs": [],
   "source": [
    "contributors = utils.get_github_contributors('nrel/panel-segmentation')"
   ]
  },
  {
   "cell_type": "code",
   "execution_count": 12,
   "id": "16ed8a93-1084-49dc-8c7b-5165a23907f7",
   "metadata": {
    "execution": {
     "iopub.execute_input": "2023-10-27T13:18:42.334275Z",
     "iopub.status.busy": "2023-10-27T13:18:42.333761Z",
     "iopub.status.idle": "2023-10-27T13:18:42.924734Z",
     "shell.execute_reply": "2023-10-27T13:18:42.923945Z"
    }
   },
   "outputs": [
    {
     "data": {
      "image/png": "[encoded data removed]",
      "text/plain": [
       "<PIL.Image.Image image mode=RGBA size=645x60>"
      ]
     },
     "execution_count": 12,
     "metadata": {},
     "output_type": "execute_result"
    }
   ],
   "source": [
    "mosaic = utils.make_github_contributors_mosaic(contributors)\n",
    "mosaic"
   ]
  },
  {
   "cell_type": "code",
   "execution_count": null,
   "id": "4041cdd5-dcba-4f1b-8b85-04e8b13a3dc2",
   "metadata": {},
   "outputs": [],
   "source": []
  }
 ],
 "metadata": {
  "kernelspec": {
   "display_name": "Python 3 (ipykernel)",
   "language": "python",
   "name": "python3"
  },
  "language_info": {
   "codemirror_mode": {
    "name": "ipython",
    "version": 3
   },
   "file_extension": ".py",
   "mimetype": "text/x-python",
   "name": "python",
   "nbconvert_exporter": "python",
   "pygments_lexer": "ipython3",
   "version": "3.9.18"
  }
 },
 "nbformat": 4,
 "nbformat_minor": 5
}

{
 "cells": [
  {
   "cell_type": "markdown",
   "id": "9a51a013-8798-4327-bd2b-5aaf0427cda4",
   "metadata": {},
   "source": [
    "# bifacialvf"
   ]
  },
  {
   "cell_type": "code",
   "execution_count": 1,
   "id": "50531b9f-821b-4f17-ae11-535b6241dee6",
   "metadata": {
    "execution": {
     "iopub.execute_input": "2023-04-04T18:31:46.198542Z",
     "iopub.status.busy": "2023-04-04T18:31:46.198026Z",
     "iopub.status.idle": "2023-04-04T18:31:46.768401Z",
     "shell.execute_reply": "2023-04-04T18:31:46.767675Z"
    }
   },
   "outputs": [],
   "source": [
    "import utils\n",
    "import pandas as pd\n",
    "\n",
    "from bokeh.plotting import figure, show\n",
    "from bokeh.models import HoverTool\n",
    "from bokeh.transform import jitter\n",
    "from bokeh.io import output_notebook"
   ]
  },
  {
   "cell_type": "code",
   "execution_count": 2,
   "id": "c987023b-ca0a-4ebf-9b9d-33793d3cf8f8",
   "metadata": {
    "execution": {
     "iopub.execute_input": "2023-04-04T18:31:46.771811Z",
     "iopub.status.busy": "2023-04-04T18:31:46.771270Z",
     "iopub.status.idle": "2023-04-04T18:31:46.782518Z",
     "shell.execute_reply": "2023-04-04T18:31:46.781939Z"
    }
   },
   "outputs": [
    {
     "data": {
      "text/html": [
       "<div class=\"bk-root\">\n",
       "        <a href=\"https://bokeh.org\" target=\"_blank\" class=\"bk-logo bk-logo-small bk-logo-notebook\"></a>\n",
       "        <span id=\"1002\">Loading BokehJS ...</span>\n",
       "    </div>\n"
      ]
     },
     "metadata": {},
     "output_type": "display_data"
    },
    {
     "data": {
      "application/javascript": [
       "(function(root) {\n",
       "  function now() {\n",
       "    return new Date();\n",
       "  }\n",
       "\n",
       "  const force = true;\n",
       "\n",
       "  if (typeof root._bokeh_onload_callbacks === \"undefined\" || force === true) {\n",
       "    root._bokeh_onload_callbacks = [];\n",
       "    root._bokeh_is_loading = undefined;\n",
       "  }\n",
       "\n",
       "const JS_MIME_TYPE = 'application/javascript';\n",
       "  const HTML_MIME_TYPE = 'text/html';\n",
       "  const EXEC_MIME_TYPE = 'application/vnd.bokehjs_exec.v0+json';\n",
       "  const CLASS_NAME = 'output_bokeh rendered_html';\n",
       "\n",
       "  /**\n",
       "   * Render data to the DOM node\n",
       "   */\n",
       "  function render(props, node) {\n",
       "    const script = document.createElement(\"script\");\n",
       "    node.appendChild(script);\n",
       "  }\n",
       "\n",
       "  /**\n",
       "   * Handle when an output is cleared or removed\n",
       "   */\n",
       "  function handleClearOutput(event, handle) {\n",
       "    const cell = handle.cell;\n",
       "\n",
       "    const id = cell.output_area._bokeh_element_id;\n",
       "    const server_id = cell.output_area._bokeh_server_id;\n",
       "    // Clean up Bokeh references\n",
       "    if (id != null && id in Bokeh.index) {\n",
       "      Bokeh.index[id].model.document.clear();\n",
       "      delete Bokeh.index[id];\n",
       "    }\n",
       "\n",
       "    if (server_id !== undefined) {\n",
       "      // Clean up Bokeh references\n",
       "      const cmd_clean = \"from bokeh.io.state import curstate; print(curstate().uuid_to_server['\" + server_id + \"'].get_sessions()[0].document.roots[0]._id)\";\n",
       "      cell.notebook.kernel.execute(cmd_clean, {\n",
       "        iopub: {\n",
       "          output: function(msg) {\n",
       "            const id = msg.content.text.trim();\n",
       "            if (id in Bokeh.index) {\n",
       "              Bokeh.index[id].model.document.clear();\n",
       "              delete Bokeh.index[id];\n",
       "            }\n",
       "          }\n",
       "        }\n",
       "      });\n",
       "      // Destroy server and session\n",
       "      const cmd_destroy = \"import bokeh.io.notebook as ion; ion.destroy_server('\" + server_id + \"')\";\n",
       "      cell.notebook.kernel.execute(cmd_destroy);\n",
       "    }\n",
       "  }\n",
       "\n",
       "  /**\n",
       "   * Handle when a new output is added\n",
       "   */\n",
       "  function handleAddOutput(event, handle) {\n",
       "    const output_area = handle.output_area;\n",
       "    const output = handle.output;\n",
       "\n",
       "    // limit handleAddOutput to display_data with EXEC_MIME_TYPE content only\n",
       "    if ((output.output_type != \"display_data\") || (!Object.prototype.hasOwnProperty.call(output.data, EXEC_MIME_TYPE))) {\n",
       "      return\n",
       "    }\n",
       "\n",
       "    const toinsert = output_area.element.find(\".\" + CLASS_NAME.split(' ')[0]);\n",
       "\n",
       "    if (output.metadata[EXEC_MIME_TYPE][\"id\"] !== undefined) {\n",
       "      toinsert[toinsert.length - 1].firstChild.textContent = output.data[JS_MIME_TYPE];\n",
       "      // store reference to embed id on output_area\n",
       "      output_area._bokeh_element_id = output.metadata[EXEC_MIME_TYPE][\"id\"];\n",
       "    }\n",
       "    if (output.metadata[EXEC_MIME_TYPE][\"server_id\"] !== undefined) {\n",
       "      const bk_div = document.createElement(\"div\");\n",
       "      bk_div.innerHTML = output.data[HTML_MIME_TYPE];\n",
       "      const script_attrs = bk_div.children[0].attributes;\n",
       "      for (let i = 0; i < script_attrs.length; i++) {\n",
       "        toinsert[toinsert.length - 1].firstChild.setAttribute(script_attrs[i].name, script_attrs[i].value);\n",
       "        toinsert[toinsert.length - 1].firstChild.textContent = bk_div.children[0].textContent\n",
       "      }\n",
       "      // store reference to server id on output_area\n",
       "      output_area._bokeh_server_id = output.metadata[EXEC_MIME_TYPE][\"server_id\"];\n",
       "    }\n",
       "  }\n",
       "\n",
       "  function register_renderer(events, OutputArea) {\n",
       "\n",
       "    function append_mime(data, metadata, element) {\n",
       "      // create a DOM node to render to\n",
       "      const toinsert = this.create_output_subarea(\n",
       "        metadata,\n",
       "        CLASS_NAME,\n",
       "        EXEC_MIME_TYPE\n",
       "      );\n",
       "      this.keyboard_manager.register_events(toinsert);\n",
       "      // Render to node\n",
       "      const props = {data: data, metadata: metadata[EXEC_MIME_TYPE]};\n",
       "      render(props, toinsert[toinsert.length - 1]);\n",
       "      element.append(toinsert);\n",
       "      return toinsert\n",
       "    }\n",
       "\n",
       "    /* Handle when an output is cleared or removed */\n",
       "    events.on('clear_output.CodeCell', handleClearOutput);\n",
       "    events.on('delete.Cell', handleClearOutput);\n",
       "\n",
       "    /* Handle when a new output is added */\n",
       "    events.on('output_added.OutputArea', handleAddOutput);\n",
       "\n",
       "    /**\n",
       "     * Register the mime type and append_mime function with output_area\n",
       "     */\n",
       "    OutputArea.prototype.register_mime_type(EXEC_MIME_TYPE, append_mime, {\n",
       "      /* Is output safe? */\n",
       "      safe: true,\n",
       "      /* Index of renderer in `output_area.display_order` */\n",
       "      index: 0\n",
       "    });\n",
       "  }\n",
       "\n",
       "  // register the mime type if in Jupyter Notebook environment and previously unregistered\n",
       "  if (root.Jupyter !== undefined) {\n",
       "    const events = require('base/js/events');\n",
       "    const OutputArea = require('notebook/js/outputarea').OutputArea;\n",
       "\n",
       "    if (OutputArea.prototype.mime_types().indexOf(EXEC_MIME_TYPE) == -1) {\n",
       "      register_renderer(events, OutputArea);\n",
       "    }\n",
       "  }\n",
       "  if (typeof (root._bokeh_timeout) === \"undefined\" || force === true) {\n",
       "    root._bokeh_timeout = Date.now() + 5000;\n",
       "    root._bokeh_failed_load = false;\n",
       "  }\n",
       "\n",
       "  const NB_LOAD_WARNING = {'data': {'text/html':\n",
       "     \"<div style='background-color: #fdd'>\\n\"+\n",
       "     \"<p>\\n\"+\n",
       "     \"BokehJS does not appear to have successfully loaded. If loading BokehJS from CDN, this \\n\"+\n",
       "     \"may be due to a slow or bad network connection. Possible fixes:\\n\"+\n",
       "     \"</p>\\n\"+\n",
       "     \"<ul>\\n\"+\n",
       "     \"<li>re-rerun `output_notebook()` to attempt to load from CDN again, or</li>\\n\"+\n",
       "     \"<li>use INLINE resources instead, as so:</li>\\n\"+\n",
       "     \"</ul>\\n\"+\n",
       "     \"<code>\\n\"+\n",
       "     \"from bokeh.resources import INLINE\\n\"+\n",
       "     \"output_notebook(resources=INLINE)\\n\"+\n",
       "     \"</code>\\n\"+\n",
       "     \"</div>\"}};\n",
       "\n",
       "  function display_loaded() {\n",
       "    const el = document.getElementById(\"1002\");\n",
       "    if (el != null) {\n",
       "      el.textContent = \"BokehJS is loading...\";\n",
       "    }\n",
       "    if (root.Bokeh !== undefined) {\n",
       "      if (el != null) {\n",
       "        el.textContent = \"BokehJS \" + root.Bokeh.version + \" successfully loaded.\";\n",
       "      }\n",
       "    } else if (Date.now() < root._bokeh_timeout) {\n",
       "      setTimeout(display_loaded, 100)\n",
       "    }\n",
       "  }\n",
       "\n",
       "  function run_callbacks() {\n",
       "    try {\n",
       "      root._bokeh_onload_callbacks.forEach(function(callback) {\n",
       "        if (callback != null)\n",
       "          callback();\n",
       "      });\n",
       "    } finally {\n",
       "      delete root._bokeh_onload_callbacks\n",
       "    }\n",
       "    console.debug(\"Bokeh: all callbacks have finished\");\n",
       "  }\n",
       "\n",
       "  function load_libs(css_urls, js_urls, callback) {\n",
       "    if (css_urls == null) css_urls = [];\n",
       "    if (js_urls == null) js_urls = [];\n",
       "\n",
       "    root._bokeh_onload_callbacks.push(callback);\n",
       "    if (root._bokeh_is_loading > 0) {\n",
       "      console.debug(\"Bokeh: BokehJS is being loaded, scheduling callback at\", now());\n",
       "      return null;\n",
       "    }\n",
       "    if (js_urls == null || js_urls.length === 0) {\n",
       "      run_callbacks();\n",
       "      return null;\n",
       "    }\n",
       "    console.debug(\"Bokeh: BokehJS not loaded, scheduling load and callback at\", now());\n",
       "    root._bokeh_is_loading = css_urls.length + js_urls.length;\n",
       "\n",
       "    function on_load() {\n",
       "      root._bokeh_is_loading--;\n",
       "      if (root._bokeh_is_loading === 0) {\n",
       "        console.debug(\"Bokeh: all BokehJS libraries/stylesheets loaded\");\n",
       "        run_callbacks()\n",
       "      }\n",
       "    }\n",
       "\n",
       "    function on_error(url) {\n",
       "      console.error(\"failed to load \" + url);\n",
       "    }\n",
       "\n",
       "    for (let i = 0; i < css_urls.length; i++) {\n",
       "      const url = css_urls[i];\n",
       "      const element = document.createElement(\"link\");\n",
       "      element.onload = on_load;\n",
       "      element.onerror = on_error.bind(null, url);\n",
       "      element.rel = \"stylesheet\";\n",
       "      element.type = \"text/css\";\n",
       "      element.href = url;\n",
       "      console.debug(\"Bokeh: injecting link tag for BokehJS stylesheet: \", url);\n",
       "      document.body.appendChild(element);\n",
       "    }\n",
       "\n",
       "    for (let i = 0; i < js_urls.length; i++) {\n",
       "      const url = js_urls[i];\n",
       "      const element = document.createElement('script');\n",
       "      element.onload = on_load;\n",
       "      element.onerror = on_error.bind(null, url);\n",
       "      element.async = false;\n",
       "      element.src = url;\n",
       "      console.debug(\"Bokeh: injecting script tag for BokehJS library: \", url);\n",
       "      document.head.appendChild(element);\n",
       "    }\n",
       "  };\n",
       "\n",
       "  function inject_raw_css(css) {\n",
       "    const element = document.createElement(\"style\");\n",
       "    element.appendChild(document.createTextNode(css));\n",
       "    document.body.appendChild(element);\n",
       "  }\n",
       "\n",
       "  const js_urls = [\"https://cdn.bokeh.org/bokeh/release/bokeh-2.4.3.min.js\", \"https://cdn.bokeh.org/bokeh/release/bokeh-gl-2.4.3.min.js\", \"https://cdn.bokeh.org/bokeh/release/bokeh-widgets-2.4.3.min.js\", \"https://cdn.bokeh.org/bokeh/release/bokeh-tables-2.4.3.min.js\", \"https://cdn.bokeh.org/bokeh/release/bokeh-mathjax-2.4.3.min.js\"];\n",
       "  const css_urls = [];\n",
       "\n",
       "  const inline_js = [    function(Bokeh) {\n",
       "      Bokeh.set_log_level(\"info\");\n",
       "    },\n",
       "function(Bokeh) {\n",
       "    }\n",
       "  ];\n",
       "\n",
       "  function run_inline_js() {\n",
       "    if (root.Bokeh !== undefined || force === true) {\n",
       "          for (let i = 0; i < inline_js.length; i++) {\n",
       "      inline_js[i].call(root, root.Bokeh);\n",
       "    }\n",
       "if (force === true) {\n",
       "        display_loaded();\n",
       "      }} else if (Date.now() < root._bokeh_timeout) {\n",
       "      setTimeout(run_inline_js, 100);\n",
       "    } else if (!root._bokeh_failed_load) {\n",
       "      console.log(\"Bokeh: BokehJS failed to load within specified timeout.\");\n",
       "      root._bokeh_failed_load = true;\n",
       "    } else if (force !== true) {\n",
       "      const cell = $(document.getElementById(\"1002\")).parents('.cell').data().cell;\n",
       "      cell.output_area.append_execute_result(NB_LOAD_WARNING)\n",
       "    }\n",
       "  }\n",
       "\n",
       "  if (root._bokeh_is_loading === 0) {\n",
       "    console.debug(\"Bokeh: BokehJS loaded, going straight to plotting\");\n",
       "    run_inline_js();\n",
       "  } else {\n",
       "    load_libs(css_urls, js_urls, function() {\n",
       "      console.debug(\"Bokeh: BokehJS plotting callback run at\", now());\n",
       "      run_inline_js();\n",
       "    });\n",
       "  }\n",
       "}(window));"
      ],
      "application/vnd.bokehjs_load.v0+json": "(function(root) {\n  function now() {\n    return new Date();\n  }\n\n  const force = true;\n\n  if (typeof root._bokeh_onload_callbacks === \"undefined\" || force === true) {\n    root._bokeh_onload_callbacks = [];\n    root._bokeh_is_loading = undefined;\n  }\n\n\n  if (typeof (root._bokeh_timeout) === \"undefined\" || force === true) {\n    root._bokeh_timeout = Date.now() + 5000;\n    root._bokeh_failed_load = false;\n  }\n\n  const NB_LOAD_WARNING = {'data': {'text/html':\n     \"<div style='background-color: #fdd'>\\n\"+\n     \"<p>\\n\"+\n     \"BokehJS does not appear to have successfully loaded. If loading BokehJS from CDN, this \\n\"+\n     \"may be due to a slow or bad network connection. Possible fixes:\\n\"+\n     \"</p>\\n\"+\n     \"<ul>\\n\"+\n     \"<li>re-rerun `output_notebook()` to attempt to load from CDN again, or</li>\\n\"+\n     \"<li>use INLINE resources instead, as so:</li>\\n\"+\n     \"</ul>\\n\"+\n     \"<code>\\n\"+\n     \"from bokeh.resources import INLINE\\n\"+\n     \"output_notebook(resources=INLINE)\\n\"+\n     \"</code>\\n\"+\n     \"</div>\"}};\n\n  function display_loaded() {\n    const el = document.getElementById(\"1002\");\n    if (el != null) {\n      el.textContent = \"BokehJS is loading...\";\n    }\n    if (root.Bokeh !== undefined) {\n      if (el != null) {\n        el.textContent = \"BokehJS \" + root.Bokeh.version + \" successfully loaded.\";\n      }\n    } else if (Date.now() < root._bokeh_timeout) {\n      setTimeout(display_loaded, 100)\n    }\n  }\n\n  function run_callbacks() {\n    try {\n      root._bokeh_onload_callbacks.forEach(function(callback) {\n        if (callback != null)\n          callback();\n      });\n    } finally {\n      delete root._bokeh_onload_callbacks\n    }\n    console.debug(\"Bokeh: all callbacks have finished\");\n  }\n\n  function load_libs(css_urls, js_urls, callback) {\n    if (css_urls == null) css_urls = [];\n    if (js_urls == null) js_urls = [];\n\n    root._bokeh_onload_callbacks.push(callback);\n    if (root._bokeh_is_loading > 0) {\n      console.debug(\"Bokeh: BokehJS is being loaded, scheduling callback at\", now());\n      return null;\n    }\n    if (js_urls == null || js_urls.length === 0) {\n      run_callbacks();\n      return null;\n    }\n    console.debug(\"Bokeh: BokehJS not loaded, scheduling load and callback at\", now());\n    root._bokeh_is_loading = css_urls.length + js_urls.length;\n\n    function on_load() {\n      root._bokeh_is_loading--;\n      if (root._bokeh_is_loading === 0) {\n        console.debug(\"Bokeh: all BokehJS libraries/stylesheets loaded\");\n        run_callbacks()\n      }\n    }\n\n    function on_error(url) {\n      console.error(\"failed to load \" + url);\n    }\n\n    for (let i = 0; i < css_urls.length; i++) {\n      const url = css_urls[i];\n      const element = document.createElement(\"link\");\n      element.onload = on_load;\n      element.onerror = on_error.bind(null, url);\n      element.rel = \"stylesheet\";\n      element.type = \"text/css\";\n      element.href = url;\n      console.debug(\"Bokeh: injecting link tag for BokehJS stylesheet: \", url);\n      document.body.appendChild(element);\n    }\n\n    for (let i = 0; i < js_urls.length; i++) {\n      const url = js_urls[i];\n      const element = document.createElement('script');\n      element.onload = on_load;\n      element.onerror = on_error.bind(null, url);\n      element.async = false;\n      element.src = url;\n      console.debug(\"Bokeh: injecting script tag for BokehJS library: \", url);\n      document.head.appendChild(element);\n    }\n  };\n\n  function inject_raw_css(css) {\n    const element = document.createElement(\"style\");\n    element.appendChild(document.createTextNode(css));\n    document.body.appendChild(element);\n  }\n\n  const js_urls = [\"https://cdn.bokeh.org/bokeh/release/bokeh-2.4.3.min.js\", \"https://cdn.bokeh.org/bokeh/release/bokeh-gl-2.4.3.min.js\", \"https://cdn.bokeh.org/bokeh/release/bokeh-widgets-2.4.3.min.js\", \"https://cdn.bokeh.org/bokeh/release/bokeh-tables-2.4.3.min.js\", \"https://cdn.bokeh.org/bokeh/release/bokeh-mathjax-2.4.3.min.js\"];\n  const css_urls = [];\n\n  const inline_js = [    function(Bokeh) {\n      Bokeh.set_log_level(\"info\");\n    },\nfunction(Bokeh) {\n    }\n  ];\n\n  function run_inline_js() {\n    if (root.Bokeh !== undefined || force === true) {\n          for (let i = 0; i < inline_js.length; i++) {\n      inline_js[i].call(root, root.Bokeh);\n    }\nif (force === true) {\n        display_loaded();\n      }} else if (Date.now() < root._bokeh_timeout) {\n      setTimeout(run_inline_js, 100);\n    } else if (!root._bokeh_failed_load) {\n      console.log(\"Bokeh: BokehJS failed to load within specified timeout.\");\n      root._bokeh_failed_load = true;\n    } else if (force !== true) {\n      const cell = $(document.getElementById(\"1002\")).parents('.cell').data().cell;\n      cell.output_area.append_execute_result(NB_LOAD_WARNING)\n    }\n  }\n\n  if (root._bokeh_is_loading === 0) {\n    console.debug(\"Bokeh: BokehJS loaded, going straight to plotting\");\n    run_inline_js();\n  } else {\n    load_libs(css_urls, js_urls, function() {\n      console.debug(\"Bokeh: BokehJS plotting callback run at\", now());\n      run_inline_js();\n    });\n  }\n}(window));"
     },
     "metadata": {},
     "output_type": "display_data"
    }
   ],
   "source": [
    "output_notebook()"
   ]
  },
  {
   "cell_type": "markdown",
   "id": "1db589f7-ccf2-435e-9d2d-409251dd9dc3",
   "metadata": {},
   "source": [
    "## ReadTheDocs"
   ]
  },
  {
   "cell_type": "code",
   "execution_count": 3,
   "id": "6a0f2b3d-1509-4dfb-89a7-6bf7ba0cb460",
   "metadata": {
    "execution": {
     "iopub.execute_input": "2023-04-04T18:31:46.785526Z",
     "iopub.status.busy": "2023-04-04T18:31:46.784979Z",
     "iopub.status.idle": "2023-04-04T18:31:46.820312Z",
     "shell.execute_reply": "2023-04-04T18:31:46.819659Z"
    }
   },
   "outputs": [],
   "source": [
    "df = utils.get_rtd_analytics_data('bifacialvf')\n",
    "data_period = df['Date'].min().strftime('%Y-%m-%d') + ' to ' + df['Date'].max().strftime('%Y-%m-%d')"
   ]
  },
  {
   "cell_type": "code",
   "execution_count": 4,
   "id": "8ca26c51-c832-414b-b747-52ef72b30a68",
   "metadata": {
    "execution": {
     "iopub.execute_input": "2023-04-04T18:31:46.823758Z",
     "iopub.status.busy": "2023-04-04T18:31:46.823173Z",
     "iopub.status.idle": "2023-04-04T18:31:46.875614Z",
     "shell.execute_reply": "2023-04-04T18:31:46.874959Z"
    }
   },
   "outputs": [
    {
     "data": {
      "text/html": [
       "\n",
       "  <div class=\"bk-root\" id=\"9e5b8aea-65b5-4be8-9273-71037131f07f\" data-root-id=\"1003\"></div>\n"
      ]
     },
     "metadata": {},
     "output_type": "display_data"
    },
    {
     "data": {
      "application/javascript": [
       "(function(root) {\n",
       "  function embed_document(root) {\n",
       "  const docs_json = {\"6d07f6dd-9515-4164-b248-01c7a7621118\":{\"defs\":[],\"roots\":{\"references\":[{\"attributes\":{\"below\":[{\"id\":\"1014\"}],\"center\":[{\"id\":\"1016\"},{\"id\":\"1020\"}],\"height\":350,\"left\":[{\"id\":\"1017\"}],\"renderers\":[{\"id\":\"1042\"}],\"title\":{\"id\":\"1004\"},\"toolbar\":{\"id\":\"1029\"},\"x_range\":{\"id\":\"1006\"},\"x_scale\":{\"id\":\"1010\"},\"y_range\":{\"id\":\"1008\"},\"y_scale\":{\"id\":\"1012\"}},\"id\":\"1003\",\"subtype\":\"Figure\",\"type\":\"Plot\"},{\"attributes\":{\"coordinates\":null,\"formatter\":{\"id\":\"1049\"},\"group\":null,\"major_label_orientation\":1.57,\"major_label_policy\":{\"id\":\"1050\"},\"ticker\":{\"id\":\"1015\"}},\"id\":\"1014\",\"type\":\"CategoricalAxis\"},{\"attributes\":{},\"id\":\"1022\",\"type\":\"WheelZoomTool\"},{\"attributes\":{},\"id\":\"1015\",\"type\":\"CategoricalTicker\"},{\"attributes\":{\"tools\":[{\"id\":\"1021\"},{\"id\":\"1022\"},{\"id\":\"1023\"},{\"id\":\"1024\"},{\"id\":\"1025\"},{\"id\":\"1026\"},{\"id\":\"1028\"}]},\"id\":\"1029\",\"type\":\"Toolbar\"},{\"attributes\":{},\"id\":\"1050\",\"type\":\"AllLabels\"},{\"attributes\":{\"fill_alpha\":{\"value\":0.1},\"fill_color\":{\"value\":\"#1f77b4\"},\"hatch_alpha\":{\"value\":0.1},\"line_alpha\":{\"value\":0.1},\"line_color\":{\"value\":\"white\"},\"top\":{\"field\":\"Views\"},\"width\":{\"value\":0.75},\"x\":{\"field\":\"Version\"}},\"id\":\"1040\",\"type\":\"VBar\"},{\"attributes\":{},\"id\":\"1026\",\"type\":\"HelpTool\"},{\"attributes\":{},\"id\":\"1018\",\"type\":\"BasicTicker\"},{\"attributes\":{},\"id\":\"1049\",\"type\":\"CategoricalTickFormatter\"},{\"attributes\":{},\"id\":\"1012\",\"type\":\"LinearScale\"},{\"attributes\":{\"axis\":{\"id\":\"1014\"},\"coordinates\":null,\"group\":null,\"ticker\":null},\"id\":\"1016\",\"type\":\"Grid\"},{\"attributes\":{\"fill_color\":{\"value\":\"#1f77b4\"},\"line_color\":{\"value\":\"white\"},\"top\":{\"field\":\"Views\"},\"width\":{\"value\":0.75},\"x\":{\"field\":\"Version\"}},\"id\":\"1039\",\"type\":\"VBar\"},{\"attributes\":{\"axis\":{\"id\":\"1017\"},\"coordinates\":null,\"dimension\":1,\"group\":null,\"ticker\":null},\"id\":\"1020\",\"type\":\"Grid\"},{\"attributes\":{},\"id\":\"1008\",\"type\":\"DataRange1d\"},{\"attributes\":{\"factors\":[\"latest\",\"stable\"]},\"id\":\"1006\",\"type\":\"FactorRange\"},{\"attributes\":{},\"id\":\"1051\",\"type\":\"UnionRenderers\"},{\"attributes\":{\"fill_alpha\":{\"value\":0.2},\"fill_color\":{\"value\":\"#1f77b4\"},\"hatch_alpha\":{\"value\":0.2},\"line_alpha\":{\"value\":0.2},\"line_color\":{\"value\":\"white\"},\"top\":{\"field\":\"Views\"},\"width\":{\"value\":0.75},\"x\":{\"field\":\"Version\"}},\"id\":\"1041\",\"type\":\"VBar\"},{\"attributes\":{},\"id\":\"1047\",\"type\":\"AllLabels\"},{\"attributes\":{\"source\":{\"id\":\"1037\"}},\"id\":\"1043\",\"type\":\"CDSView\"},{\"attributes\":{\"axis_label\":\"Total page views\",\"coordinates\":null,\"formatter\":{\"id\":\"1046\"},\"group\":null,\"major_label_policy\":{\"id\":\"1047\"},\"ticker\":{\"id\":\"1018\"}},\"id\":\"1017\",\"type\":\"LinearAxis\"},{\"attributes\":{\"bottom_units\":\"screen\",\"coordinates\":null,\"fill_alpha\":0.5,\"fill_color\":\"lightgrey\",\"group\":null,\"left_units\":\"screen\",\"level\":\"overlay\",\"line_alpha\":1.0,\"line_color\":\"black\",\"line_dash\":[4,4],\"line_width\":2,\"right_units\":\"screen\",\"syncable\":false,\"top_units\":\"screen\"},\"id\":\"1027\",\"type\":\"BoxAnnotation\"},{\"attributes\":{},\"id\":\"1052\",\"type\":\"Selection\"},{\"attributes\":{},\"id\":\"1046\",\"type\":\"BasicTickFormatter\"},{\"attributes\":{},\"id\":\"1010\",\"type\":\"CategoricalScale\"},{\"attributes\":{},\"id\":\"1025\",\"type\":\"ResetTool\"},{\"attributes\":{\"callback\":null,\"tooltips\":[[\"Version\",\"@Version\"],[\"Views\",\"@Views\"]]},\"id\":\"1028\",\"type\":\"HoverTool\"},{\"attributes\":{\"coordinates\":null,\"group\":null,\"text\":\"Page views by RTD version (2022-09-01 to 2023-04-04)\"},\"id\":\"1004\",\"type\":\"Title\"},{\"attributes\":{},\"id\":\"1024\",\"type\":\"SaveTool\"},{\"attributes\":{\"data\":{\"Version\":[\"latest\",\"stable\"],\"Views\":[361,40],\"index\":[0,1]},\"selected\":{\"id\":\"1052\"},\"selection_policy\":{\"id\":\"1051\"}},\"id\":\"1037\",\"type\":\"ColumnDataSource\"},{\"attributes\":{},\"id\":\"1021\",\"type\":\"PanTool\"},{\"attributes\":{\"coordinates\":null,\"data_source\":{\"id\":\"1037\"},\"glyph\":{\"id\":\"1039\"},\"group\":null,\"hover_glyph\":null,\"muted_glyph\":{\"id\":\"1041\"},\"nonselection_glyph\":{\"id\":\"1040\"},\"view\":{\"id\":\"1043\"}},\"id\":\"1042\",\"type\":\"GlyphRenderer\"},{\"attributes\":{\"overlay\":{\"id\":\"1027\"}},\"id\":\"1023\",\"type\":\"BoxZoomTool\"}],\"root_ids\":[\"1003\"]},\"title\":\"Bokeh Application\",\"version\":\"2.4.3\"}};\n",
       "  const render_items = [{\"docid\":\"6d07f6dd-9515-4164-b248-01c7a7621118\",\"root_ids\":[\"1003\"],\"roots\":{\"1003\":\"9e5b8aea-65b5-4be8-9273-71037131f07f\"}}];\n",
       "  root.Bokeh.embed.embed_items_notebook(docs_json, render_items);\n",
       "  }\n",
       "  if (root.Bokeh !== undefined) {\n",
       "    embed_document(root);\n",
       "  } else {\n",
       "    let attempts = 0;\n",
       "    const timer = setInterval(function(root) {\n",
       "      if (root.Bokeh !== undefined) {\n",
       "        clearInterval(timer);\n",
       "        embed_document(root);\n",
       "      } else {\n",
       "        attempts++;\n",
       "        if (attempts > 100) {\n",
       "          clearInterval(timer);\n",
       "          console.log(\"Bokeh: ERROR: Unable to run BokehJS code because BokehJS library is missing\");\n",
       "        }\n",
       "      }\n",
       "    }, 10, root)\n",
       "  }\n",
       "})(window);"
      ],
      "application/vnd.bokehjs_exec.v0+json": ""
     },
     "metadata": {
      "application/vnd.bokehjs_exec.v0+json": {
       "id": "1003"
      }
     },
     "output_type": "display_data"
    }
   ],
   "source": [
    "total_by_version = df.groupby('Version')['Views'].sum().reset_index()\n",
    "\n",
    "p = figure(x_range=total_by_version['Version'], height=350, tooltips=[(\"Version\", \"@Version\"), (\"Views\", \"@Views\")],\n",
    "           title=f\"Page views by RTD version ({data_period})\",)\n",
    "p.vbar(x='Version', top='Views', width=0.75, source=total_by_version,\n",
    "       line_color='white')\n",
    "p.xaxis.major_label_orientation = 3.14/2\n",
    "p.yaxis.axis_label = 'Total page views'\n",
    "show(p)"
   ]
  },
  {
   "cell_type": "code",
   "execution_count": 5,
   "id": "933d8564-055a-4880-986a-9ed8a8f06bcc",
   "metadata": {
    "execution": {
     "iopub.execute_input": "2023-04-04T18:31:46.878589Z",
     "iopub.status.busy": "2023-04-04T18:31:46.878149Z",
     "iopub.status.idle": "2023-04-04T18:31:46.964873Z",
     "shell.execute_reply": "2023-04-04T18:31:46.964207Z"
    }
   },
   "outputs": [
    {
     "data": {
      "text/html": [
       "\n",
       "  <div class=\"bk-root\" id=\"71f08056-09ae-4a3a-9f81-91c8cd084403\" data-root-id=\"1104\"></div>\n"
      ]
     },
     "metadata": {},
     "output_type": "display_data"
    },
    {
     "data": {
      "application/javascript": [
       "(function(root) {\n",
       "  function embed_document(root) {\n",
       "  const docs_json = {\"fc4fb8e4-671f-44da-9130-0f66490ed5f5\":{\"defs\":[],\"roots\":{\"references\":[{\"attributes\":{\"below\":[{\"id\":\"1115\"}],\"center\":[{\"id\":\"1118\"},{\"id\":\"1122\"},{\"id\":\"1167\"}],\"height\":350,\"left\":[{\"id\":\"1119\"}],\"renderers\":[{\"id\":\"1143\"},{\"id\":\"1173\"}],\"title\":{\"id\":\"1105\"},\"toolbar\":{\"id\":\"1130\"},\"x_range\":{\"id\":\"1107\"},\"x_scale\":{\"id\":\"1111\"},\"y_range\":{\"id\":\"1109\"},\"y_scale\":{\"id\":\"1113\"}},\"id\":\"1104\",\"subtype\":\"Figure\",\"type\":\"Plot\"},{\"attributes\":{\"coordinates\":null,\"group\":null,\"text\":\"Daily views by RTD version\"},\"id\":\"1105\",\"type\":\"Title\"},{\"attributes\":{\"overlay\":{\"id\":\"1129\"}},\"id\":\"1125\",\"type\":\"BoxZoomTool\"},{\"attributes\":{},\"id\":\"1126\",\"type\":\"SaveTool\"},{\"attributes\":{\"label\":{\"value\":\"stable\"},\"renderers\":[{\"id\":\"1143\"}]},\"id\":\"1168\",\"type\":\"LegendItem\"},{\"attributes\":{\"line_alpha\":0.1,\"line_color\":\"#1f77b4\",\"x\":{\"field\":\"x\"},\"y\":{\"field\":\"y\"}},\"id\":\"1141\",\"type\":\"Line\"},{\"attributes\":{\"line_alpha\":0.2,\"line_color\":\"#ff7f0e\",\"x\":{\"field\":\"x\"},\"y\":{\"field\":\"y\"}},\"id\":\"1172\",\"type\":\"Line\"},{\"attributes\":{\"bottom_units\":\"screen\",\"coordinates\":null,\"fill_alpha\":0.5,\"fill_color\":\"lightgrey\",\"group\":null,\"left_units\":\"screen\",\"level\":\"overlay\",\"line_alpha\":1.0,\"line_color\":\"black\",\"line_dash\":[4,4],\"line_width\":2,\"right_units\":\"screen\",\"syncable\":false,\"top_units\":\"screen\"},\"id\":\"1129\",\"type\":\"BoxAnnotation\"},{\"attributes\":{\"data\":{\"x\":{\"__ndarray__\":\"AAAAj2UveEIAAEDAXDB4QgAAACavMHhCAADAiwExeEIAAEBXpjF4QgAAwCJLMnhCAABA7u8yeEIAAIAf5zN4QgAAwFDeNHhCAACAtjA1eEIAAMDnJzZ4QgAAgHsNOXhCAADArAQ6eEIAAADe+zp4QgAAQA/zO3hCAAAAdUU8eEIAAMDalzx4QgAAgG59P3hCAADAn3RAeEIAAABotUJ4QgAAgDNaQ3hCAABAmaxDeEIAAIDKo0R4QgAAQDD2RHhCAAAAlkhFeEIAAMD7mkV4QgAAgGHtRXhCAABAxz9GeEIAAMCS5EZ4QgAAgPg2R3hCAADAKS5IeEIAAICPgEh4QgAAwMB3SXhCAACAJspJeEIAAMBXwUp4QgAAAIm4S3hCAABAuq9MeEIAAEBR+U14QgAAALdLTnhCAACAgvBOeEIAAEDoQk94QgAAgBk6UHhCAAAA5d5QeEIAAMBKMVF4QgAAgLCDUXhCAADA4XpSeEIAAIBHzVJ4QgAAQK0fU3hCAADAeMRTeEIAAIDeFlR4QgAAQERpVHhCAAAAqrtUeEIAAMAPDlV4QgAAQNuyVXhCAACADKpWeEIAAADYTld4QgAAwD2hV3hCAABAoI9ZeEIAAMBrNFp4QgAAgGjQW3hCAABAziJceEIAAAA0dVx4QgAAQPy1XnhCAABAk/9feEIAAAD5UWB4QgAAgMT2YHhCAABAKklheEIAAACQm2F4QgAAwPXtYXhCAACAW0BieEIAAEDBkmJ4QgAAACflYnhCAABAWNxjeEIAAMAjgWR4QgAAwLrKZXhCAABAhm9meEIAAADswWZ4QgAAgLdmZ3hCAABAHblneEIAAMDoXWh4QgAAABpVaXhCAADAf6dpeEIAAEBLTGp4QgAAgHxDa3hCAABA4pVreEIAAMCtOmx4QgAAgBONbHhCAABAed9seEIAAICq1m14QgAAQBApbnhCAAAAdntueEIAAMDbzW54QgAAgEEgb3hCAABAp3JveEIAAAANxW94QgAAwHIXcHhCAABAPrxweEIAAACkDnF4QgAAQNUFcnhCAAAAO1hyeEIAAIAG/XJ4QgAAQGxPc3hCAAAA0qFzeEIAAMA39HN4QgAAgJ1GdHhCAABAA5l0eEI=\",\"dtype\":\"float64\",\"order\":\"little\",\"shape\":[106]},\"y\":{\"__ndarray__\":\"AAAAAAAA8D8AAAAAAADwPwAAAAAAAPA/AAAAAAAA8D8AAAAAAADwPwAAAAAAAPA/AAAAAAAAAEAAAAAAAAAAQAAAAAAAABBAAAAAAAAAGEAAAAAAAADwPwAAAAAAAPA/AAAAAAAALEAAAAAAAADwPwAAAAAAAPA/AAAAAAAAFEAAAAAAAAAAAAAAAAAAAABAAAAAAAAA8D8AAAAAAAAUQAAAAAAAAPA/AAAAAAAA8D8AAAAAAAAAQAAAAAAAAAAAAAAAAAAAAAAAAAAAAAAUQAAAAAAAAPA/AAAAAAAAAAAAAAAAAADwPwAAAAAAAAAAAAAAAAAAAAAAAAAAAAAYQAAAAAAAACZAAAAAAAAA8D8AAAAAAADwPwAAAAAAAABAAAAAAAAACEAAAAAAAAAQQAAAAAAAABxAAAAAAAAA8D8AAAAAAADwPwAAAAAAAABAAAAAAAAA8D8AAAAAAAAAQAAAAAAAAABAAAAAAAAAFEAAAAAAAAAsQAAAAAAAADNAAAAAAAAAAEAAAAAAAAAIQAAAAAAAABBAAAAAAAAAEEAAAAAAAAAAAAAAAAAAAAAAAAAAAAAAAAAAAAAAAADwPwAAAAAAAABAAAAAAAAAGEAAAAAAAAAQQAAAAAAAAABAAAAAAAAAGEAAAAAAAADwPwAAAAAAAAhAAAAAAAAAAEAAAAAAAADwPwAAAAAAAAhAAAAAAAAA8D8AAAAAAAAgQAAAAAAAAAAAAAAAAAAAAEAAAAAAAAAAQAAAAAAAABBAAAAAAAAAAEAAAAAAAAAAAAAAAAAAAPA/AAAAAAAACEAAAAAAAAAQQAAAAAAAAABAAAAAAAAAJEAAAAAAAADwPwAAAAAAAPA/AAAAAAAAN0AAAAAAAADwPwAAAAAAABRAAAAAAAAAGEAAAAAAAAAcQAAAAAAAACRAAAAAAAAAJkAAAAAAAAAAQAAAAAAAAPA/AAAAAAAAGEAAAAAAAAAQQAAAAAAAABBAAAAAAAAAAAAAAAAAAAAYQAAAAAAAAAhAAAAAAAAALEAAAAAAAAAAQAAAAAAAAAhAAAAAAAAA8D8AAAAAAAAUQAAAAAAAAAAAAAAAAAAAAEAAAAAAAAAAQAAAAAAAAChAAAAAAAAAAEA=\",\"dtype\":\"float64\",\"order\":\"little\",\"shape\":[106]}},\"selected\":{\"id\":\"1185\"},\"selection_policy\":{\"id\":\"1184\"}},\"id\":\"1169\",\"type\":\"ColumnDataSource\"},{\"attributes\":{\"callback\":null,\"formatters\":{\"@x\":\"datetime\"},\"tooltips\":[[\"Date\",\"@x{%Y-%m-%d}\"],[\"Views\",\"@y\"]]},\"id\":\"1137\",\"type\":\"HoverTool\"},{\"attributes\":{\"coordinates\":null,\"data_source\":{\"id\":\"1169\"},\"glyph\":{\"id\":\"1170\"},\"group\":null,\"hover_glyph\":null,\"muted_glyph\":{\"id\":\"1172\"},\"nonselection_glyph\":{\"id\":\"1171\"},\"view\":{\"id\":\"1174\"}},\"id\":\"1173\",\"type\":\"GlyphRenderer\"},{\"attributes\":{},\"id\":\"1124\",\"type\":\"WheelZoomTool\"},{\"attributes\":{\"axis\":{\"id\":\"1119\"},\"coordinates\":null,\"dimension\":1,\"group\":null,\"ticker\":null},\"id\":\"1122\",\"type\":\"Grid\"},{\"attributes\":{\"line_alpha\":0.1,\"line_color\":\"#ff7f0e\",\"x\":{\"field\":\"x\"},\"y\":{\"field\":\"y\"}},\"id\":\"1171\",\"type\":\"Line\"},{\"attributes\":{},\"id\":\"1109\",\"type\":\"DataRange1d\"},{\"attributes\":{\"line_color\":\"#1f77b4\",\"x\":{\"field\":\"x\"},\"y\":{\"field\":\"y\"}},\"id\":\"1140\",\"type\":\"Line\"},{\"attributes\":{\"source\":{\"id\":\"1169\"}},\"id\":\"1174\",\"type\":\"CDSView\"},{\"attributes\":{},\"id\":\"1120\",\"type\":\"BasicTicker\"},{\"attributes\":{},\"id\":\"1147\",\"type\":\"BasicTickFormatter\"},{\"attributes\":{},\"id\":\"1123\",\"type\":\"PanTool\"},{\"attributes\":{},\"id\":\"1148\",\"type\":\"AllLabels\"},{\"attributes\":{\"line_color\":\"#ff7f0e\",\"x\":{\"field\":\"x\"},\"y\":{\"field\":\"y\"}},\"id\":\"1170\",\"type\":\"Line\"},{\"attributes\":{\"base\":60,\"mantissas\":[1,2,5,10,15,20,30],\"max_interval\":1800000.0,\"min_interval\":1000.0,\"num_minor_ticks\":0},\"id\":\"1156\",\"type\":\"AdaptiveTicker\"},{\"attributes\":{\"mantissas\":[1,2,5],\"max_interval\":500.0,\"num_minor_ticks\":0},\"id\":\"1155\",\"type\":\"AdaptiveTicker\"},{\"attributes\":{},\"id\":\"1150\",\"type\":\"DatetimeTickFormatter\"},{\"attributes\":{\"label\":{\"value\":\"latest\"},\"renderers\":[{\"id\":\"1173\"}]},\"id\":\"1199\",\"type\":\"LegendItem\"},{\"attributes\":{},\"id\":\"1166\",\"type\":\"YearsTicker\"},{\"attributes\":{},\"id\":\"1127\",\"type\":\"ResetTool\"},{\"attributes\":{\"base\":24,\"mantissas\":[1,2,4,6,8,12],\"max_interval\":43200000.0,\"min_interval\":3600000.0,\"num_minor_ticks\":0},\"id\":\"1157\",\"type\":\"AdaptiveTicker\"},{\"attributes\":{},\"id\":\"1184\",\"type\":\"UnionRenderers\"},{\"attributes\":{\"months\":[0,1,2,3,4,5,6,7,8,9,10,11]},\"id\":\"1162\",\"type\":\"MonthsTicker\"},{\"attributes\":{\"tools\":[{\"id\":\"1123\"},{\"id\":\"1124\"},{\"id\":\"1125\"},{\"id\":\"1126\"},{\"id\":\"1127\"},{\"id\":\"1128\"},{\"id\":\"1137\"}]},\"id\":\"1130\",\"type\":\"Toolbar\"},{\"attributes\":{},\"id\":\"1151\",\"type\":\"AllLabels\"},{\"attributes\":{\"days\":[1,15]},\"id\":\"1161\",\"type\":\"DaysTicker\"},{\"attributes\":{\"days\":[1,2,3,4,5,6,7,8,9,10,11,12,13,14,15,16,17,18,19,20,21,22,23,24,25,26,27,28,29,30,31]},\"id\":\"1158\",\"type\":\"DaysTicker\"},{\"attributes\":{},\"id\":\"1111\",\"type\":\"LinearScale\"},{\"attributes\":{\"axis_label\":\"Daily page views\",\"coordinates\":null,\"formatter\":{\"id\":\"1147\"},\"group\":null,\"major_label_policy\":{\"id\":\"1148\"},\"ticker\":{\"id\":\"1120\"}},\"id\":\"1119\",\"type\":\"LinearAxis\"},{\"attributes\":{},\"id\":\"1185\",\"type\":\"Selection\"},{\"attributes\":{\"days\":[1,4,7,10,13,16,19,22,25,28]},\"id\":\"1159\",\"type\":\"DaysTicker\"},{\"attributes\":{\"days\":[1,8,15,22]},\"id\":\"1160\",\"type\":\"DaysTicker\"},{\"attributes\":{\"months\":[0,6]},\"id\":\"1165\",\"type\":\"MonthsTicker\"},{\"attributes\":{\"line_alpha\":0.2,\"line_color\":\"#1f77b4\",\"x\":{\"field\":\"x\"},\"y\":{\"field\":\"y\"}},\"id\":\"1142\",\"type\":\"Line\"},{\"attributes\":{\"months\":[0,2,4,6,8,10]},\"id\":\"1163\",\"type\":\"MonthsTicker\"},{\"attributes\":{\"coordinates\":null,\"formatter\":{\"id\":\"1150\"},\"group\":null,\"major_label_policy\":{\"id\":\"1151\"},\"ticker\":{\"id\":\"1116\"}},\"id\":\"1115\",\"type\":\"DatetimeAxis\"},{\"attributes\":{\"coordinates\":null,\"data_source\":{\"id\":\"1139\"},\"glyph\":{\"id\":\"1140\"},\"group\":null,\"hover_glyph\":null,\"muted_glyph\":{\"id\":\"1142\"},\"nonselection_glyph\":{\"id\":\"1141\"},\"view\":{\"id\":\"1144\"}},\"id\":\"1143\",\"type\":\"GlyphRenderer\"},{\"attributes\":{\"months\":[0,4,8]},\"id\":\"1164\",\"type\":\"MonthsTicker\"},{\"attributes\":{\"source\":{\"id\":\"1139\"}},\"id\":\"1144\",\"type\":\"CDSView\"},{\"attributes\":{},\"id\":\"1128\",\"type\":\"HelpTool\"},{\"attributes\":{},\"id\":\"1152\",\"type\":\"UnionRenderers\"},{\"attributes\":{\"axis\":{\"id\":\"1115\"},\"coordinates\":null,\"group\":null,\"ticker\":null},\"id\":\"1118\",\"type\":\"Grid\"},{\"attributes\":{},\"id\":\"1107\",\"type\":\"DataRange1d\"},{\"attributes\":{\"num_minor_ticks\":5,\"tickers\":[{\"id\":\"1155\"},{\"id\":\"1156\"},{\"id\":\"1157\"},{\"id\":\"1158\"},{\"id\":\"1159\"},{\"id\":\"1160\"},{\"id\":\"1161\"},{\"id\":\"1162\"},{\"id\":\"1163\"},{\"id\":\"1164\"},{\"id\":\"1165\"},{\"id\":\"1166\"}]},\"id\":\"1116\",\"type\":\"DatetimeTicker\"},{\"attributes\":{},\"id\":\"1153\",\"type\":\"Selection\"},{\"attributes\":{},\"id\":\"1113\",\"type\":\"LinearScale\"},{\"attributes\":{\"data\":{\"x\":{\"__ndarray__\":\"AAAAj2UveEIAAEDAXDB4QgAAACavMHhCAADAiwExeEIAAEBXpjF4QgAAwCJLMnhCAABA7u8yeEIAAIAf5zN4QgAAwFDeNHhCAACAtjA1eEIAAMDnJzZ4QgAAgHsNOXhCAADArAQ6eEIAAADe+zp4QgAAQA/zO3hCAAAAdUU8eEIAAMDalzx4QgAAgG59P3hCAADAn3RAeEIAAABotUJ4QgAAgDNaQ3hCAABAmaxDeEIAAIDKo0R4QgAAQDD2RHhCAAAAlkhFeEIAAMD7mkV4QgAAgGHtRXhCAABAxz9GeEIAAMCS5EZ4QgAAgPg2R3hCAADAKS5IeEIAAICPgEh4QgAAwMB3SXhCAACAJspJeEIAAMBXwUp4QgAAAIm4S3hCAABAuq9MeEIAAEBR+U14QgAAALdLTnhCAACAgvBOeEIAAEDoQk94QgAAgBk6UHhCAAAA5d5QeEIAAMBKMVF4QgAAgLCDUXhCAADA4XpSeEIAAIBHzVJ4QgAAQK0fU3hCAADAeMRTeEIAAIDeFlR4QgAAQERpVHhCAAAAqrtUeEIAAMAPDlV4QgAAQNuyVXhCAACADKpWeEIAAADYTld4QgAAwD2hV3hCAABAoI9ZeEIAAMBrNFp4QgAAgGjQW3hCAABAziJceEIAAAA0dVx4QgAAQPy1XnhCAABAk/9feEIAAAD5UWB4QgAAgMT2YHhCAABAKklheEIAAACQm2F4QgAAwPXtYXhCAACAW0BieEIAAEDBkmJ4QgAAACflYnhCAABAWNxjeEIAAMAjgWR4QgAAwLrKZXhCAABAhm9meEIAAADswWZ4QgAAgLdmZ3hCAABAHblneEIAAMDoXWh4QgAAABpVaXhCAADAf6dpeEIAAEBLTGp4QgAAgHxDa3hCAABA4pVreEIAAMCtOmx4QgAAgBONbHhCAABAed9seEIAAICq1m14QgAAQBApbnhCAAAAdntueEIAAMDbzW54QgAAgEEgb3hCAABAp3JveEIAAAANxW94QgAAwHIXcHhCAABAPrxweEIAAACkDnF4QgAAQNUFcnhCAAAAO1hyeEIAAIAG/XJ4QgAAQGxPc3hCAAAA0qFzeEIAAMA39HN4QgAAgJ1GdHhCAABAA5l0eEI=\",\"dtype\":\"float64\",\"order\":\"little\",\"shape\":[106]},\"y\":{\"__ndarray__\":\"AAAAAAAAAAAAAAAAAAAAAAAAAAAAAAAAAAAAAAAAAAAAAAAAAAAAAAAAAAAAAAAAAAAAAAAAAAAAAAAAAAAAAAAAAAAAAAAAAAAAAAAAAAAAAAAAAAAAAAAAAAAAAAAAAAAAAAAAAAAAAAAAAAAAAAAAAAAAACBAAAAAAAAAAAAAAAAAAAAAQAAAAAAAAAAAAAAAAAAAAAAAAAAAAAAAQAAAAAAAAAAAAAAAAAAAAAAAAAAAAAAAAAAAAAAAAPA/AAAAAAAAAEAAAAAAAAAAQAAAAAAAAAAAAAAAAAAA8D8AAAAAAAAAQAAAAAAAAPA/AAAAAAAA8D8AAAAAAAAAAAAAAAAAAAAAAAAAAAAAAAAAAAAAAAAAAAAAAAAAAAAAAAAAAAAAAAAAAAAAAAAAAAAAAAAAAAAAAAAAAAAAAAAAAAAAAAAAAAAAAAAAAAAAAAAAAAAAAAAAAAAAAAAAAAAAAAAAAPA/AAAAAAAAAAAAAAAAAAAAAAAAAAAAAAAAAAAAAAAAAAAAAAAAAAAAAAAAAAAAAPA/AAAAAAAAAAAAAAAAAADwPwAAAAAAAPA/AAAAAAAA8D8AAAAAAAAAAAAAAAAAAAAAAAAAAAAAGEAAAAAAAAAAAAAAAAAAAAAAAAAAAAAAAAAAAAAAAAAAAAAAAAAAAAAAAAAAAAAAAAAAAAAAAAAAAAAAAAAAAAAAAAAAAAAAAAAAAAAAAAAAAAAAAAAAAPA/AAAAAAAAAAAAAAAAAAAAAAAAAAAAAAAAAAAAAAAAAAAAAAAAAADwPwAAAAAAAAAAAAAAAAAAAAAAAAAAAAAAAAAAAAAAAAAAAAAAAAAAAAAAAAAAAAAAAAAAAAAAAAAAAAAAAAAAAAAAAAAAAAAAAAAAAAAAAAAAAAAAAAAAAAAAAAAAAAAAAAAAAAAAAAAAAAAAAAAAAAAAAAAAAAAAAAAAAAAAAAAAAAAAAAAAAAAAAAAAAAAAAAAAAAAAAPA/AAAAAAAA8D8AAAAAAAAAAAAAAAAAAPA/AAAAAAAAAAAAAAAAAAAAAAAAAAAAAPA/AAAAAAAAAAAAAAAAAAAAAAAAAAAAAPA/AAAAAAAAAAAAAAAAAAAAAAAAAAAAAAAAAAAAAAAAAAA=\",\"dtype\":\"float64\",\"order\":\"little\",\"shape\":[106]}},\"selected\":{\"id\":\"1153\"},\"selection_policy\":{\"id\":\"1152\"}},\"id\":\"1139\",\"type\":\"ColumnDataSource\"},{\"attributes\":{\"coordinates\":null,\"group\":null,\"items\":[{\"id\":\"1168\"},{\"id\":\"1199\"}]},\"id\":\"1167\",\"type\":\"Legend\"}],\"root_ids\":[\"1104\"]},\"title\":\"Bokeh Application\",\"version\":\"2.4.3\"}};\n",
       "  const render_items = [{\"docid\":\"fc4fb8e4-671f-44da-9130-0f66490ed5f5\",\"root_ids\":[\"1104\"],\"roots\":{\"1104\":\"71f08056-09ae-4a3a-9f81-91c8cd084403\"}}];\n",
       "  root.Bokeh.embed.embed_items_notebook(docs_json, render_items);\n",
       "  }\n",
       "  if (root.Bokeh !== undefined) {\n",
       "    embed_document(root);\n",
       "  } else {\n",
       "    let attempts = 0;\n",
       "    const timer = setInterval(function(root) {\n",
       "      if (root.Bokeh !== undefined) {\n",
       "        clearInterval(timer);\n",
       "        embed_document(root);\n",
       "      } else {\n",
       "        attempts++;\n",
       "        if (attempts > 100) {\n",
       "          clearInterval(timer);\n",
       "          console.log(\"Bokeh: ERROR: Unable to run BokehJS code because BokehJS library is missing\");\n",
       "        }\n",
       "      }\n",
       "    }, 10, root)\n",
       "  }\n",
       "})(window);"
      ],
      "application/vnd.bokehjs_exec.v0+json": ""
     },
     "metadata": {
      "application/vnd.bokehjs_exec.v0+json": {
       "id": "1104"
      }
     },
     "output_type": "display_data"
    }
   ],
   "source": [
    "daily_views = df.pivot_table(values='Views', index='Date', columns='Version', aggfunc='sum')[['stable', 'latest']].fillna(0)\n",
    "\n",
    "p = figure(x_axis_type=\"datetime\", height=350, title=f\"Daily views by RTD version\")\n",
    "hover_tool = HoverTool(tooltips=[('Date', '@x{%Y-%m-%d}'), ('Views', '@y')],\n",
    "                       formatters={'@x': 'datetime'})\n",
    "hover_tool.point_policy = 'snap_to_data'\n",
    "p.add_tools(hover_tool)\n",
    "p.line(daily_views.index, daily_views['stable'], legend_label='stable')\n",
    "p.line(daily_views.index, daily_views['latest'], legend_label='latest', color='#ff7f0e')\n",
    "p.yaxis.axis_label = 'Daily page views'\n",
    "show(p)"
   ]
  },
  {
   "cell_type": "code",
   "execution_count": 6,
   "id": "2fc3e48f-70ad-4dfe-b97b-c0dcabb95f3f",
   "metadata": {
    "execution": {
     "iopub.execute_input": "2023-04-04T18:31:46.967989Z",
     "iopub.status.busy": "2023-04-04T18:31:46.967457Z",
     "iopub.status.idle": "2023-04-04T18:31:46.983738Z",
     "shell.execute_reply": "2023-04-04T18:31:46.975402Z"
    }
   },
   "outputs": [],
   "source": [
    "df2 = df.loc[(df['Version'] == 'latest'), :].copy()\n",
    "pathviews = df2.groupby('Path')['Views'].sum().reset_index()"
   ]
  },
  {
   "cell_type": "code",
   "execution_count": 7,
   "id": "9f762560-8244-4d28-9d47-678218206ccb",
   "metadata": {
    "execution": {
     "iopub.execute_input": "2023-04-04T18:31:46.986868Z",
     "iopub.status.busy": "2023-04-04T18:31:46.986285Z",
     "iopub.status.idle": "2023-04-04T18:31:47.054771Z",
     "shell.execute_reply": "2023-04-04T18:31:47.054101Z"
    }
   },
   "outputs": [
    {
     "data": {
      "text/html": [
       "\n",
       "  <div class=\"bk-root\" id=\"f9fe01df-6f5b-4f34-9226-43be7e9bea4e\" data-root-id=\"1354\"></div>\n"
      ]
     },
     "metadata": {},
     "output_type": "display_data"
    },
    {
     "data": {
      "application/javascript": [
       "(function(root) {\n",
       "  function embed_document(root) {\n",
       "  const docs_json = {\"e5dbc32c-77c2-4d24-a1f4-410171af20bd\":{\"defs\":[],\"roots\":{\"references\":[{\"attributes\":{\"below\":[{\"id\":\"1365\"}],\"center\":[{\"id\":\"1368\"},{\"id\":\"1371\"}],\"height\":400,\"left\":[{\"id\":\"1369\"}],\"renderers\":[{\"id\":\"1393\"}],\"title\":{\"id\":\"1355\"},\"toolbar\":{\"id\":\"1380\"},\"x_range\":{\"id\":\"1357\"},\"x_scale\":{\"id\":\"1361\"},\"y_range\":{\"id\":\"1359\"},\"y_scale\":{\"id\":\"1363\"}},\"id\":\"1354\",\"subtype\":\"Figure\",\"type\":\"Plot\"},{\"attributes\":{},\"id\":\"1436\",\"type\":\"UnionRenderers\"},{\"attributes\":{\"axis_label\":\"Total page views\",\"coordinates\":null,\"formatter\":{\"id\":\"1434\"},\"group\":null,\"major_label_policy\":{\"id\":\"1435\"},\"ticker\":{\"id\":\"1366\"}},\"id\":\"1365\",\"type\":\"LinearAxis\"},{\"attributes\":{\"coordinates\":null,\"group\":null,\"text\":\"Views by URL (2022-09-01 to 2023-04-04)\"},\"id\":\"1355\",\"type\":\"Title\"},{\"attributes\":{\"coordinates\":null,\"data_source\":{\"id\":\"1388\"},\"glyph\":{\"id\":\"1390\"},\"group\":null,\"hover_glyph\":null,\"muted_glyph\":{\"id\":\"1392\"},\"nonselection_glyph\":{\"id\":\"1391\"},\"view\":{\"id\":\"1394\"}},\"id\":\"1393\",\"type\":\"GlyphRenderer\"},{\"attributes\":{},\"id\":\"1437\",\"type\":\"Selection\"},{\"attributes\":{\"bottom_units\":\"screen\",\"coordinates\":null,\"fill_alpha\":0.5,\"fill_color\":\"lightgrey\",\"group\":null,\"left_units\":\"screen\",\"level\":\"overlay\",\"line_alpha\":1.0,\"line_color\":\"black\",\"line_dash\":[4,4],\"line_width\":2,\"right_units\":\"screen\",\"syncable\":false,\"top_units\":\"screen\"},\"id\":\"1378\",\"type\":\"BoxAnnotation\"},{\"attributes\":{\"callback\":null,\"tooltips\":[[\"URL\",\"@Path\"],[\"Views\",\"@Views\"]]},\"id\":\"1379\",\"type\":\"HoverTool\"},{\"attributes\":{},\"id\":\"1375\",\"type\":\"SaveTool\"},{\"attributes\":{},\"id\":\"1435\",\"type\":\"AllLabels\"},{\"attributes\":{\"overlay\":{\"id\":\"1378\"}},\"id\":\"1374\",\"type\":\"BoxZoomTool\"},{\"attributes\":{},\"id\":\"1361\",\"type\":\"LinearScale\"},{\"attributes\":{\"fill_color\":{\"value\":\"#1f77b4\"},\"height\":{\"value\":0.75},\"line_color\":{\"value\":\"white\"},\"right\":{\"field\":\"Views\"},\"y\":{\"field\":\"Path\"}},\"id\":\"1390\",\"type\":\"HBar\"},{\"attributes\":{},\"id\":\"1377\",\"type\":\"HelpTool\"},{\"attributes\":{\"tools\":[{\"id\":\"1372\"},{\"id\":\"1373\"},{\"id\":\"1374\"},{\"id\":\"1375\"},{\"id\":\"1376\"},{\"id\":\"1377\"},{\"id\":\"1379\"}]},\"id\":\"1380\",\"type\":\"Toolbar\"},{\"attributes\":{},\"id\":\"1370\",\"type\":\"CategoricalTicker\"},{\"attributes\":{\"fill_alpha\":{\"value\":0.2},\"fill_color\":{\"value\":\"#1f77b4\"},\"hatch_alpha\":{\"value\":0.2},\"height\":{\"value\":0.75},\"line_alpha\":{\"value\":0.2},\"line_color\":{\"value\":\"white\"},\"right\":{\"field\":\"Views\"},\"y\":{\"field\":\"Path\"}},\"id\":\"1392\",\"type\":\"HBar\"},{\"attributes\":{},\"id\":\"1434\",\"type\":\"BasicTickFormatter\"},{\"attributes\":{},\"id\":\"1357\",\"type\":\"DataRange1d\"},{\"attributes\":{\"axis\":{\"id\":\"1365\"},\"coordinates\":null,\"group\":null,\"ticker\":null},\"id\":\"1368\",\"type\":\"Grid\"},{\"attributes\":{},\"id\":\"1372\",\"type\":\"PanTool\"},{\"attributes\":{},\"id\":\"1432\",\"type\":\"AllLabels\"},{\"attributes\":{},\"id\":\"1373\",\"type\":\"WheelZoomTool\"},{\"attributes\":{},\"id\":\"1366\",\"type\":\"BasicTicker\"},{\"attributes\":{\"factors\":[\"/index.html\",\"/api.html\",\"/_modules/bifacialvf/vf.html\",\"/installation.html\",\"/whatsnew.html\",\"/search.html\",\"/genindex.html\",\"/_modules/index.html\",\"/py-modindex.html\"]},\"id\":\"1359\",\"type\":\"FactorRange\"},{\"attributes\":{\"source\":{\"id\":\"1388\"}},\"id\":\"1394\",\"type\":\"CDSView\"},{\"attributes\":{},\"id\":\"1431\",\"type\":\"CategoricalTickFormatter\"},{\"attributes\":{\"data\":{\"Path\":[\"/index.html\",\"/api.html\",\"/_modules/bifacialvf/vf.html\",\"/installation.html\",\"/whatsnew.html\",\"/search.html\",\"/genindex.html\",\"/_modules/index.html\",\"/py-modindex.html\"],\"Views\":[117,89,52,38,37,13,7,4,4],\"index\":[4,2,0,5,8,7,3,1,6]},\"selected\":{\"id\":\"1437\"},\"selection_policy\":{\"id\":\"1436\"}},\"id\":\"1388\",\"type\":\"ColumnDataSource\"},{\"attributes\":{},\"id\":\"1363\",\"type\":\"CategoricalScale\"},{\"attributes\":{\"coordinates\":null,\"formatter\":{\"id\":\"1431\"},\"group\":null,\"major_label_policy\":{\"id\":\"1432\"},\"ticker\":{\"id\":\"1370\"}},\"id\":\"1369\",\"type\":\"CategoricalAxis\"},{\"attributes\":{\"fill_alpha\":{\"value\":0.1},\"fill_color\":{\"value\":\"#1f77b4\"},\"hatch_alpha\":{\"value\":0.1},\"height\":{\"value\":0.75},\"line_alpha\":{\"value\":0.1},\"line_color\":{\"value\":\"white\"},\"right\":{\"field\":\"Views\"},\"y\":{\"field\":\"Path\"}},\"id\":\"1391\",\"type\":\"HBar\"},{\"attributes\":{\"axis\":{\"id\":\"1369\"},\"coordinates\":null,\"dimension\":1,\"group\":null,\"ticker\":null},\"id\":\"1371\",\"type\":\"Grid\"},{\"attributes\":{},\"id\":\"1376\",\"type\":\"ResetTool\"}],\"root_ids\":[\"1354\"]},\"title\":\"Bokeh Application\",\"version\":\"2.4.3\"}};\n",
       "  const render_items = [{\"docid\":\"e5dbc32c-77c2-4d24-a1f4-410171af20bd\",\"root_ids\":[\"1354\"],\"roots\":{\"1354\":\"f9fe01df-6f5b-4f34-9226-43be7e9bea4e\"}}];\n",
       "  root.Bokeh.embed.embed_items_notebook(docs_json, render_items);\n",
       "  }\n",
       "  if (root.Bokeh !== undefined) {\n",
       "    embed_document(root);\n",
       "  } else {\n",
       "    let attempts = 0;\n",
       "    const timer = setInterval(function(root) {\n",
       "      if (root.Bokeh !== undefined) {\n",
       "        clearInterval(timer);\n",
       "        embed_document(root);\n",
       "      } else {\n",
       "        attempts++;\n",
       "        if (attempts > 100) {\n",
       "          clearInterval(timer);\n",
       "          console.log(\"Bokeh: ERROR: Unable to run BokehJS code because BokehJS library is missing\");\n",
       "        }\n",
       "      }\n",
       "    }, 10, root)\n",
       "  }\n",
       "})(window);"
      ],
      "application/vnd.bokehjs_exec.v0+json": ""
     },
     "metadata": {
      "application/vnd.bokehjs_exec.v0+json": {
       "id": "1354"
      }
     },
     "output_type": "display_data"
    }
   ],
   "source": [
    "subset = pathviews.sort_values('Views', ascending=False)\n",
    "p = figure(y_range=subset['Path'], height=400, tooltips=[(\"URL\", \"@Path\"), (\"Views\", \"@Views\")],\n",
    "           title=f\"Views by URL ({data_period})\")\n",
    "p.hbar(y='Path', right='Views', source=subset, height=0.75,\n",
    "       line_color='white')\n",
    "p.xaxis.axis_label = 'Total page views'\n",
    "show(p)"
   ]
  },
  {
   "cell_type": "markdown",
   "id": "5c7aa143-21e7-4508-b326-4d29d815c3a0",
   "metadata": {},
   "source": [
    "## GitHub"
   ]
  },
  {
   "cell_type": "code",
   "execution_count": 8,
   "id": "0a7abd61-24ed-46e1-9686-4af7333fbf76",
   "metadata": {
    "execution": {
     "iopub.execute_input": "2023-04-04T18:31:47.058501Z",
     "iopub.status.busy": "2023-04-04T18:31:47.058102Z",
     "iopub.status.idle": "2023-04-04T18:31:47.559191Z",
     "shell.execute_reply": "2023-04-04T18:31:47.558484Z"
    }
   },
   "outputs": [
    {
     "ename": "TypeError",
     "evalue": "string indices must be integers",
     "output_type": "error",
     "traceback": [
      "\u001b[0;31m---------------------------------------------------------------------------\u001b[0m",
      "\u001b[0;31mTypeError\u001b[0m                                 Traceback (most recent call last)",
      "Cell \u001b[0;32mIn[8], line 1\u001b[0m\n\u001b[0;32m----> 1\u001b[0m gh \u001b[38;5;241m=\u001b[39m \u001b[43mutils\u001b[49m\u001b[38;5;241;43m.\u001b[39;49m\u001b[43mget_github_stars\u001b[49m\u001b[43m(\u001b[49m\u001b[38;5;124;43m'\u001b[39;49m\u001b[38;5;124;43mnrel/bifacialvf\u001b[39;49m\u001b[38;5;124;43m'\u001b[39;49m\u001b[43m)\u001b[49m\n",
      "File \u001b[0;32m~/work/pv-foss-engagement/pv-foss-engagement/sphinx/source/project/utils.py:84\u001b[0m, in \u001b[0;36mget_github_stars\u001b[0;34m(repo)\u001b[0m\n\u001b[1;32m     81\u001b[0m \u001b[38;5;28;01mfor\u001b[39;00m i \u001b[38;5;129;01min\u001b[39;00m \u001b[38;5;28mrange\u001b[39m(\u001b[38;5;241m2\u001b[39m, N\u001b[38;5;241m+\u001b[39m\u001b[38;5;241m1\u001b[39m):\n\u001b[1;32m     82\u001b[0m     data\u001b[38;5;241m.\u001b[39mextend(_fetch_gh_api(repo, i)[\u001b[38;5;241m0\u001b[39m])\n\u001b[0;32m---> 84\u001b[0m star_date \u001b[38;5;241m=\u001b[39m [d[\u001b[38;5;124m'\u001b[39m\u001b[38;5;124mstarred_at\u001b[39m\u001b[38;5;124m'\u001b[39m] \u001b[38;5;28;01mfor\u001b[39;00m d \u001b[38;5;129;01min\u001b[39;00m data]\n\u001b[1;32m     85\u001b[0m user_name \u001b[38;5;241m=\u001b[39m [d[\u001b[38;5;124m'\u001b[39m\u001b[38;5;124muser\u001b[39m\u001b[38;5;124m'\u001b[39m][\u001b[38;5;124m'\u001b[39m\u001b[38;5;124mlogin\u001b[39m\u001b[38;5;124m'\u001b[39m] \u001b[38;5;28;01mfor\u001b[39;00m d \u001b[38;5;129;01min\u001b[39;00m data]\n\u001b[1;32m     86\u001b[0m df \u001b[38;5;241m=\u001b[39m pd\u001b[38;5;241m.\u001b[39mDataFrame({\u001b[38;5;124m'\u001b[39m\u001b[38;5;124mstar_date\u001b[39m\u001b[38;5;124m'\u001b[39m: star_date, \u001b[38;5;124m'\u001b[39m\u001b[38;5;124muser_name\u001b[39m\u001b[38;5;124m'\u001b[39m: user_name})\n",
      "File \u001b[0;32m~/work/pv-foss-engagement/pv-foss-engagement/sphinx/source/project/utils.py:84\u001b[0m, in \u001b[0;36m<listcomp>\u001b[0;34m(.0)\u001b[0m\n\u001b[1;32m     81\u001b[0m \u001b[38;5;28;01mfor\u001b[39;00m i \u001b[38;5;129;01min\u001b[39;00m \u001b[38;5;28mrange\u001b[39m(\u001b[38;5;241m2\u001b[39m, N\u001b[38;5;241m+\u001b[39m\u001b[38;5;241m1\u001b[39m):\n\u001b[1;32m     82\u001b[0m     data\u001b[38;5;241m.\u001b[39mextend(_fetch_gh_api(repo, i)[\u001b[38;5;241m0\u001b[39m])\n\u001b[0;32m---> 84\u001b[0m star_date \u001b[38;5;241m=\u001b[39m [\u001b[43md\u001b[49m\u001b[43m[\u001b[49m\u001b[38;5;124;43m'\u001b[39;49m\u001b[38;5;124;43mstarred_at\u001b[39;49m\u001b[38;5;124;43m'\u001b[39;49m\u001b[43m]\u001b[49m \u001b[38;5;28;01mfor\u001b[39;00m d \u001b[38;5;129;01min\u001b[39;00m data]\n\u001b[1;32m     85\u001b[0m user_name \u001b[38;5;241m=\u001b[39m [d[\u001b[38;5;124m'\u001b[39m\u001b[38;5;124muser\u001b[39m\u001b[38;5;124m'\u001b[39m][\u001b[38;5;124m'\u001b[39m\u001b[38;5;124mlogin\u001b[39m\u001b[38;5;124m'\u001b[39m] \u001b[38;5;28;01mfor\u001b[39;00m d \u001b[38;5;129;01min\u001b[39;00m data]\n\u001b[1;32m     86\u001b[0m df \u001b[38;5;241m=\u001b[39m pd\u001b[38;5;241m.\u001b[39mDataFrame({\u001b[38;5;124m'\u001b[39m\u001b[38;5;124mstar_date\u001b[39m\u001b[38;5;124m'\u001b[39m: star_date, \u001b[38;5;124m'\u001b[39m\u001b[38;5;124muser_name\u001b[39m\u001b[38;5;124m'\u001b[39m: user_name})\n",
      "\u001b[0;31mTypeError\u001b[0m: string indices must be integers"
     ]
    }
   ],
   "source": [
    "gh = utils.get_github_stars('nrel/bifacialvf')"
   ]
  },
  {
   "cell_type": "code",
   "execution_count": 9,
   "id": "23ab6b53-3aa0-4912-a1e9-a72af06fa48e",
   "metadata": {
    "execution": {
     "iopub.execute_input": "2023-04-04T18:31:47.562618Z",
     "iopub.status.busy": "2023-04-04T18:31:47.562061Z",
     "iopub.status.idle": "2023-04-04T18:31:47.580876Z",
     "shell.execute_reply": "2023-04-04T18:31:47.580256Z"
    }
   },
   "outputs": [
    {
     "ename": "NameError",
     "evalue": "name 'gh' is not defined",
     "output_type": "error",
     "traceback": [
      "\u001b[0;31m---------------------------------------------------------------------------\u001b[0m",
      "\u001b[0;31mNameError\u001b[0m                                 Traceback (most recent call last)",
      "Cell \u001b[0;32mIn[9], line 1\u001b[0m\n\u001b[0;32m----> 1\u001b[0m p \u001b[38;5;241m=\u001b[39m utils\u001b[38;5;241m.\u001b[39mplot_github_stars_timeseries(\u001b[43mgh\u001b[49m)\n\u001b[1;32m      2\u001b[0m show(p)\n",
      "\u001b[0;31mNameError\u001b[0m: name 'gh' is not defined"
     ]
    }
   ],
   "source": [
    "p = utils.plot_github_stars_timeseries(gh)\n",
    "show(p)"
   ]
  },
  {
   "cell_type": "code",
   "execution_count": 10,
   "id": "d6dc5028-3553-4e9e-9e18-18f53bfa6e84",
   "metadata": {
    "execution": {
     "iopub.execute_input": "2023-04-04T18:31:47.583778Z",
     "iopub.status.busy": "2023-04-04T18:31:47.583430Z",
     "iopub.status.idle": "2023-04-04T18:32:08.475114Z",
     "shell.execute_reply": "2023-04-04T18:32:08.474398Z"
    }
   },
   "outputs": [
    {
     "data": {
      "text/html": [
       "\n",
       "  <div class=\"bk-root\" id=\"774a4855-3a9d-4154-a15b-a391ee9a968d\" data-root-id=\"1489\"></div>\n"
      ]
     },
     "metadata": {},
     "output_type": "display_data"
    },
    {
     "data": {
      "application/javascript": [
       "(function(root) {\n",
       "  function embed_document(root) {\n",
       "  const docs_json = {\"8dc15283-b73b-46b2-b204-b9acc6102d3d\":{\"defs\":[],\"roots\":{\"references\":[{\"attributes\":{\"below\":[{\"id\":\"1498\"}],\"center\":[{\"id\":\"1501\"},{\"id\":\"1505\"}],\"height\":350,\"left\":[{\"id\":\"1502\"}],\"renderers\":[{\"id\":\"1526\"}],\"title\":{\"id\":\"1572\"},\"toolbar\":{\"id\":\"1513\"},\"x_range\":{\"id\":\"1490\"},\"x_scale\":{\"id\":\"1494\"},\"y_range\":{\"id\":\"1492\"},\"y_scale\":{\"id\":\"1496\"}},\"id\":\"1489\",\"subtype\":\"Figure\",\"type\":\"Plot\"},{\"attributes\":{\"line_color\":\"#1f77b4\",\"x\":{\"field\":\"x\"},\"y\":{\"field\":\"y\"}},\"id\":\"1523\",\"type\":\"Line\"},{\"attributes\":{\"callback\":null,\"formatters\":{\"@x\":\"datetime\"},\"tooltips\":[[\"Date\",\"@x{%Y-%m-%d}\"],[\"Total Contributors\",\"@y\"]]},\"id\":\"1520\",\"type\":\"HoverTool\"},{\"attributes\":{\"axis_label\":\"Total Contributors\",\"coordinates\":null,\"formatter\":{\"id\":\"1575\"},\"group\":null,\"major_label_policy\":{\"id\":\"1576\"},\"ticker\":{\"id\":\"1503\"}},\"id\":\"1502\",\"type\":\"LinearAxis\"},{\"attributes\":{},\"id\":\"1575\",\"type\":\"BasicTickFormatter\"},{\"attributes\":{\"coordinates\":null,\"group\":null},\"id\":\"1572\",\"type\":\"Title\"},{\"attributes\":{\"coordinates\":null,\"data_source\":{\"id\":\"1522\"},\"glyph\":{\"id\":\"1523\"},\"group\":null,\"hover_glyph\":null,\"muted_glyph\":{\"id\":\"1525\"},\"nonselection_glyph\":{\"id\":\"1524\"},\"view\":{\"id\":\"1527\"}},\"id\":\"1526\",\"type\":\"GlyphRenderer\"},{\"attributes\":{\"overlay\":{\"id\":\"1512\"}},\"id\":\"1508\",\"type\":\"BoxZoomTool\"},{\"attributes\":{},\"id\":\"1503\",\"type\":\"BasicTicker\"},{\"attributes\":{\"data\":{\"x\":{\"__ndarray__\":\"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\",\"dtype\":\"float64\",\"order\":\"little\",\"shape\":[1304]},\"y\":{\"__ndarray__\":\"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\",\"dtype\":\"float64\",\"order\":\"little\",\"shape\":[1304]}},\"selected\":{\"id\":\"1581\"},\"selection_policy\":{\"id\":\"1580\"}},\"id\":\"1522\",\"type\":\"ColumnDataSource\"},{\"attributes\":{\"mantissas\":[1,2,5],\"max_interval\":500.0,\"num_minor_ticks\":0},\"id\":\"1583\",\"type\":\"AdaptiveTicker\"},{\"attributes\":{\"base\":60,\"mantissas\":[1,2,5,10,15,20,30],\"max_interval\":1800000.0,\"min_interval\":1000.0,\"num_minor_ticks\":0},\"id\":\"1584\",\"type\":\"AdaptiveTicker\"},{\"attributes\":{},\"id\":\"1580\",\"type\":\"UnionRenderers\"},{\"attributes\":{\"base\":24,\"mantissas\":[1,2,4,6,8,12],\"max_interval\":43200000.0,\"min_interval\":3600000.0,\"num_minor_ticks\":0},\"id\":\"1585\",\"type\":\"AdaptiveTicker\"},{\"attributes\":{\"days\":[1,4,7,10,13,16,19,22,25,28]},\"id\":\"1587\",\"type\":\"DaysTicker\"},{\"attributes\":{},\"id\":\"1494\",\"type\":\"LinearScale\"},{\"attributes\":{\"months\":[0,1,2,3,4,5,6,7,8,9,10,11]},\"id\":\"1590\",\"type\":\"MonthsTicker\"},{\"attributes\":{},\"id\":\"1581\",\"type\":\"Selection\"},{\"attributes\":{\"days\":[1,15]},\"id\":\"1589\",\"type\":\"DaysTicker\"},{\"attributes\":{},\"id\":\"1496\",\"type\":\"LinearScale\"},{\"attributes\":{\"days\":[1,2,3,4,5,6,7,8,9,10,11,12,13,14,15,16,17,18,19,20,21,22,23,24,25,26,27,28,29,30,31]},\"id\":\"1586\",\"type\":\"DaysTicker\"},{\"attributes\":{\"bottom_units\":\"screen\",\"coordinates\":null,\"fill_alpha\":0.5,\"fill_color\":\"lightgrey\",\"group\":null,\"left_units\":\"screen\",\"level\":\"overlay\",\"line_alpha\":1.0,\"line_color\":\"black\",\"line_dash\":[4,4],\"line_width\":2,\"right_units\":\"screen\",\"syncable\":false,\"top_units\":\"screen\"},\"id\":\"1512\",\"type\":\"BoxAnnotation\"},{\"attributes\":{\"days\":[1,8,15,22]},\"id\":\"1588\",\"type\":\"DaysTicker\"},{\"attributes\":{\"source\":{\"id\":\"1522\"}},\"id\":\"1527\",\"type\":\"CDSView\"},{\"attributes\":{},\"id\":\"1510\",\"type\":\"ResetTool\"},{\"attributes\":{\"axis\":{\"id\":\"1502\"},\"coordinates\":null,\"dimension\":1,\"group\":null,\"ticker\":null},\"id\":\"1505\",\"type\":\"Grid\"},{\"attributes\":{},\"id\":\"1576\",\"type\":\"AllLabels\"},{\"attributes\":{\"tools\":[{\"id\":\"1506\"},{\"id\":\"1507\"},{\"id\":\"1508\"},{\"id\":\"1509\"},{\"id\":\"1510\"},{\"id\":\"1511\"},{\"id\":\"1520\"}]},\"id\":\"1513\",\"type\":\"Toolbar\"},{\"attributes\":{},\"id\":\"1492\",\"type\":\"DataRange1d\"},{\"attributes\":{},\"id\":\"1578\",\"type\":\"DatetimeTickFormatter\"},{\"attributes\":{},\"id\":\"1594\",\"type\":\"YearsTicker\"},{\"attributes\":{\"num_minor_ticks\":5,\"tickers\":[{\"id\":\"1583\"},{\"id\":\"1584\"},{\"id\":\"1585\"},{\"id\":\"1586\"},{\"id\":\"1587\"},{\"id\":\"1588\"},{\"id\":\"1589\"},{\"id\":\"1590\"},{\"id\":\"1591\"},{\"id\":\"1592\"},{\"id\":\"1593\"},{\"id\":\"1594\"}]},\"id\":\"1499\",\"type\":\"DatetimeTicker\"},{\"attributes\":{},\"id\":\"1511\",\"type\":\"HelpTool\"},{\"attributes\":{\"months\":[0,6]},\"id\":\"1593\",\"type\":\"MonthsTicker\"},{\"attributes\":{},\"id\":\"1579\",\"type\":\"AllLabels\"},{\"attributes\":{\"months\":[0,2,4,6,8,10]},\"id\":\"1591\",\"type\":\"MonthsTicker\"},{\"attributes\":{\"axis\":{\"id\":\"1498\"},\"coordinates\":null,\"group\":null,\"ticker\":null},\"id\":\"1501\",\"type\":\"Grid\"},{\"attributes\":{},\"id\":\"1507\",\"type\":\"WheelZoomTool\"},{\"attributes\":{\"months\":[0,4,8]},\"id\":\"1592\",\"type\":\"MonthsTicker\"},{\"attributes\":{\"line_alpha\":0.1,\"line_color\":\"#1f77b4\",\"x\":{\"field\":\"x\"},\"y\":{\"field\":\"y\"}},\"id\":\"1524\",\"type\":\"Line\"},{\"attributes\":{\"line_alpha\":0.2,\"line_color\":\"#1f77b4\",\"x\":{\"field\":\"x\"},\"y\":{\"field\":\"y\"}},\"id\":\"1525\",\"type\":\"Line\"},{\"attributes\":{\"axis_label\":\"Date\",\"coordinates\":null,\"formatter\":{\"id\":\"1578\"},\"group\":null,\"major_label_policy\":{\"id\":\"1579\"},\"ticker\":{\"id\":\"1499\"}},\"id\":\"1498\",\"type\":\"DatetimeAxis\"},{\"attributes\":{},\"id\":\"1509\",\"type\":\"SaveTool\"},{\"attributes\":{},\"id\":\"1490\",\"type\":\"DataRange1d\"},{\"attributes\":{},\"id\":\"1506\",\"type\":\"PanTool\"}],\"root_ids\":[\"1489\"]},\"title\":\"Bokeh Application\",\"version\":\"2.4.3\"}};\n",
       "  const render_items = [{\"docid\":\"8dc15283-b73b-46b2-b204-b9acc6102d3d\",\"root_ids\":[\"1489\"],\"roots\":{\"1489\":\"774a4855-3a9d-4154-a15b-a391ee9a968d\"}}];\n",
       "  root.Bokeh.embed.embed_items_notebook(docs_json, render_items);\n",
       "  }\n",
       "  if (root.Bokeh !== undefined) {\n",
       "    embed_document(root);\n",
       "  } else {\n",
       "    let attempts = 0;\n",
       "    const timer = setInterval(function(root) {\n",
       "      if (root.Bokeh !== undefined) {\n",
       "        clearInterval(timer);\n",
       "        embed_document(root);\n",
       "      } else {\n",
       "        attempts++;\n",
       "        if (attempts > 100) {\n",
       "          clearInterval(timer);\n",
       "          console.log(\"Bokeh: ERROR: Unable to run BokehJS code because BokehJS library is missing\");\n",
       "        }\n",
       "      }\n",
       "    }, 10, root)\n",
       "  }\n",
       "})(window);"
      ],
      "application/vnd.bokehjs_exec.v0+json": ""
     },
     "metadata": {
      "application/vnd.bokehjs_exec.v0+json": {
       "id": "1489"
      }
     },
     "output_type": "display_data"
    }
   ],
   "source": [
    "contributor_ts, _ = utils.get_github_contributor_timeseries(\"nrel/bifacialvf\")\n",
    "p = utils.plot_github_contributors_timeseries(contributor_ts)\n",
    "show(p)"
   ]
  },
  {
   "cell_type": "code",
   "execution_count": 11,
   "id": "7bb362de-d900-48f8-bd7e-a69d08d18f76",
   "metadata": {
    "execution": {
     "iopub.execute_input": "2023-04-04T18:32:08.478129Z",
     "iopub.status.busy": "2023-04-04T18:32:08.477706Z",
     "iopub.status.idle": "2023-04-04T18:32:08.664760Z",
     "shell.execute_reply": "2023-04-04T18:32:08.663755Z"
    }
   },
   "outputs": [],
   "source": [
    "contributors = utils.get_github_contributors('nrel/bifacialvf')"
   ]
  },
  {
   "cell_type": "code",
   "execution_count": 12,
   "id": "b244773a-1c99-4329-aebd-36e8088480e7",
   "metadata": {
    "execution": {
     "iopub.execute_input": "2023-04-04T18:32:08.668370Z",
     "iopub.status.busy": "2023-04-04T18:32:08.667875Z",
     "iopub.status.idle": "2023-04-04T18:32:08.709601Z",
     "shell.execute_reply": "2023-04-04T18:32:08.708868Z"
    }
   },
   "outputs": [
    {
     "ename": "TypeError",
     "evalue": "string indices must be integers",
     "output_type": "error",
     "traceback": [
      "\u001b[0;31m---------------------------------------------------------------------------\u001b[0m",
      "\u001b[0;31mTypeError\u001b[0m                                 Traceback (most recent call last)",
      "Cell \u001b[0;32mIn[12], line 1\u001b[0m\n\u001b[0;32m----> 1\u001b[0m mosaic \u001b[38;5;241m=\u001b[39m \u001b[43mutils\u001b[49m\u001b[38;5;241;43m.\u001b[39;49m\u001b[43mmake_github_contributors_mosaic\u001b[49m\u001b[43m(\u001b[49m\u001b[43mcontributors\u001b[49m\u001b[43m)\u001b[49m\n\u001b[1;32m      2\u001b[0m mosaic\n",
      "File \u001b[0;32m~/work/pv-foss-engagement/pv-foss-engagement/sphinx/source/project/utils.py:126\u001b[0m, in \u001b[0;36mmake_github_contributors_mosaic\u001b[0;34m(contributor_data, n_wide, n_high)\u001b[0m\n\u001b[1;32m    124\u001b[0m images \u001b[38;5;241m=\u001b[39m []\n\u001b[1;32m    125\u001b[0m \u001b[38;5;28;01mfor\u001b[39;00m contributor \u001b[38;5;129;01min\u001b[39;00m contributor_data:\n\u001b[0;32m--> 126\u001b[0m     response \u001b[38;5;241m=\u001b[39m requests\u001b[38;5;241m.\u001b[39mget(\u001b[43mcontributor\u001b[49m\u001b[43m[\u001b[49m\u001b[38;5;124;43m'\u001b[39;49m\u001b[38;5;124;43mavatar_url\u001b[39;49m\u001b[38;5;124;43m'\u001b[39;49m\u001b[43m]\u001b[49m, stream\u001b[38;5;241m=\u001b[39m\u001b[38;5;28;01mTrue\u001b[39;00m)\n\u001b[1;32m    127\u001b[0m     images\u001b[38;5;241m.\u001b[39mappend(Image\u001b[38;5;241m.\u001b[39mopen(response\u001b[38;5;241m.\u001b[39mraw))\n\u001b[1;32m    129\u001b[0m \u001b[38;5;66;03m# randomize order\u001b[39;00m\n",
      "\u001b[0;31mTypeError\u001b[0m: string indices must be integers"
     ]
    }
   ],
   "source": [
    "mosaic = utils.make_github_contributors_mosaic(contributors)\n",
    "mosaic"
   ]
  },
  {
   "cell_type": "code",
   "execution_count": null,
   "id": "9d101941-d71b-4429-a3ac-f665b820f28c",
   "metadata": {},
   "outputs": [],
   "source": []
  }
 ],
 "metadata": {
  "kernelspec": {
   "display_name": "Python 3 (ipykernel)",
   "language": "python",
   "name": "python3"
  },
  "language_info": {
   "codemirror_mode": {
    "name": "ipython",
    "version": 3
   },
   "file_extension": ".py",
   "mimetype": "text/x-python",
   "name": "python",
   "nbconvert_exporter": "python",
   "pygments_lexer": "ipython3",
   "version": "3.9.16"
  }
 },
 "nbformat": 4,
 "nbformat_minor": 5
}

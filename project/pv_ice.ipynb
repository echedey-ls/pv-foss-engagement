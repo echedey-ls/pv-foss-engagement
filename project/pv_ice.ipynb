{
 "cells": [
  {
   "cell_type": "markdown",
   "id": "9a51a013-8798-4327-bd2b-5aaf0427cda4",
   "metadata": {},
   "source": [
    "# PV_ICE"
   ]
  },
  {
   "cell_type": "code",
   "execution_count": 1,
   "id": "50531b9f-821b-4f17-ae11-535b6241dee6",
   "metadata": {
    "execution": {
     "iopub.execute_input": "2023-02-17T21:39:14.498848Z",
     "iopub.status.busy": "2023-02-17T21:39:14.498643Z",
     "iopub.status.idle": "2023-02-17T21:39:15.015532Z",
     "shell.execute_reply": "2023-02-17T21:39:15.014881Z"
    }
   },
   "outputs": [],
   "source": [
    "import utils\n",
    "import pandas as pd\n",
    "\n",
    "from bokeh.plotting import figure, show\n",
    "from bokeh.models import HoverTool\n",
    "from bokeh.transform import jitter\n",
    "from bokeh.io import output_notebook"
   ]
  },
  {
   "cell_type": "code",
   "execution_count": 2,
   "id": "c987023b-ca0a-4ebf-9b9d-33793d3cf8f8",
   "metadata": {
    "execution": {
     "iopub.execute_input": "2023-02-17T21:39:15.018977Z",
     "iopub.status.busy": "2023-02-17T21:39:15.018377Z",
     "iopub.status.idle": "2023-02-17T21:39:15.028026Z",
     "shell.execute_reply": "2023-02-17T21:39:15.027408Z"
    }
   },
   "outputs": [
    {
     "data": {
      "text/html": [
       "<div class=\"bk-root\">\n",
       "        <a href=\"https://bokeh.org\" target=\"_blank\" class=\"bk-logo bk-logo-small bk-logo-notebook\"></a>\n",
       "        <span id=\"1002\">Loading BokehJS ...</span>\n",
       "    </div>\n"
      ]
     },
     "metadata": {},
     "output_type": "display_data"
    },
    {
     "data": {
      "application/javascript": [
       "(function(root) {\n",
       "  function now() {\n",
       "    return new Date();\n",
       "  }\n",
       "\n",
       "  const force = true;\n",
       "\n",
       "  if (typeof root._bokeh_onload_callbacks === \"undefined\" || force === true) {\n",
       "    root._bokeh_onload_callbacks = [];\n",
       "    root._bokeh_is_loading = undefined;\n",
       "  }\n",
       "\n",
       "const JS_MIME_TYPE = 'application/javascript';\n",
       "  const HTML_MIME_TYPE = 'text/html';\n",
       "  const EXEC_MIME_TYPE = 'application/vnd.bokehjs_exec.v0+json';\n",
       "  const CLASS_NAME = 'output_bokeh rendered_html';\n",
       "\n",
       "  /**\n",
       "   * Render data to the DOM node\n",
       "   */\n",
       "  function render(props, node) {\n",
       "    const script = document.createElement(\"script\");\n",
       "    node.appendChild(script);\n",
       "  }\n",
       "\n",
       "  /**\n",
       "   * Handle when an output is cleared or removed\n",
       "   */\n",
       "  function handleClearOutput(event, handle) {\n",
       "    const cell = handle.cell;\n",
       "\n",
       "    const id = cell.output_area._bokeh_element_id;\n",
       "    const server_id = cell.output_area._bokeh_server_id;\n",
       "    // Clean up Bokeh references\n",
       "    if (id != null && id in Bokeh.index) {\n",
       "      Bokeh.index[id].model.document.clear();\n",
       "      delete Bokeh.index[id];\n",
       "    }\n",
       "\n",
       "    if (server_id !== undefined) {\n",
       "      // Clean up Bokeh references\n",
       "      const cmd_clean = \"from bokeh.io.state import curstate; print(curstate().uuid_to_server['\" + server_id + \"'].get_sessions()[0].document.roots[0]._id)\";\n",
       "      cell.notebook.kernel.execute(cmd_clean, {\n",
       "        iopub: {\n",
       "          output: function(msg) {\n",
       "            const id = msg.content.text.trim();\n",
       "            if (id in Bokeh.index) {\n",
       "              Bokeh.index[id].model.document.clear();\n",
       "              delete Bokeh.index[id];\n",
       "            }\n",
       "          }\n",
       "        }\n",
       "      });\n",
       "      // Destroy server and session\n",
       "      const cmd_destroy = \"import bokeh.io.notebook as ion; ion.destroy_server('\" + server_id + \"')\";\n",
       "      cell.notebook.kernel.execute(cmd_destroy);\n",
       "    }\n",
       "  }\n",
       "\n",
       "  /**\n",
       "   * Handle when a new output is added\n",
       "   */\n",
       "  function handleAddOutput(event, handle) {\n",
       "    const output_area = handle.output_area;\n",
       "    const output = handle.output;\n",
       "\n",
       "    // limit handleAddOutput to display_data with EXEC_MIME_TYPE content only\n",
       "    if ((output.output_type != \"display_data\") || (!Object.prototype.hasOwnProperty.call(output.data, EXEC_MIME_TYPE))) {\n",
       "      return\n",
       "    }\n",
       "\n",
       "    const toinsert = output_area.element.find(\".\" + CLASS_NAME.split(' ')[0]);\n",
       "\n",
       "    if (output.metadata[EXEC_MIME_TYPE][\"id\"] !== undefined) {\n",
       "      toinsert[toinsert.length - 1].firstChild.textContent = output.data[JS_MIME_TYPE];\n",
       "      // store reference to embed id on output_area\n",
       "      output_area._bokeh_element_id = output.metadata[EXEC_MIME_TYPE][\"id\"];\n",
       "    }\n",
       "    if (output.metadata[EXEC_MIME_TYPE][\"server_id\"] !== undefined) {\n",
       "      const bk_div = document.createElement(\"div\");\n",
       "      bk_div.innerHTML = output.data[HTML_MIME_TYPE];\n",
       "      const script_attrs = bk_div.children[0].attributes;\n",
       "      for (let i = 0; i < script_attrs.length; i++) {\n",
       "        toinsert[toinsert.length - 1].firstChild.setAttribute(script_attrs[i].name, script_attrs[i].value);\n",
       "        toinsert[toinsert.length - 1].firstChild.textContent = bk_div.children[0].textContent\n",
       "      }\n",
       "      // store reference to server id on output_area\n",
       "      output_area._bokeh_server_id = output.metadata[EXEC_MIME_TYPE][\"server_id\"];\n",
       "    }\n",
       "  }\n",
       "\n",
       "  function register_renderer(events, OutputArea) {\n",
       "\n",
       "    function append_mime(data, metadata, element) {\n",
       "      // create a DOM node to render to\n",
       "      const toinsert = this.create_output_subarea(\n",
       "        metadata,\n",
       "        CLASS_NAME,\n",
       "        EXEC_MIME_TYPE\n",
       "      );\n",
       "      this.keyboard_manager.register_events(toinsert);\n",
       "      // Render to node\n",
       "      const props = {data: data, metadata: metadata[EXEC_MIME_TYPE]};\n",
       "      render(props, toinsert[toinsert.length - 1]);\n",
       "      element.append(toinsert);\n",
       "      return toinsert\n",
       "    }\n",
       "\n",
       "    /* Handle when an output is cleared or removed */\n",
       "    events.on('clear_output.CodeCell', handleClearOutput);\n",
       "    events.on('delete.Cell', handleClearOutput);\n",
       "\n",
       "    /* Handle when a new output is added */\n",
       "    events.on('output_added.OutputArea', handleAddOutput);\n",
       "\n",
       "    /**\n",
       "     * Register the mime type and append_mime function with output_area\n",
       "     */\n",
       "    OutputArea.prototype.register_mime_type(EXEC_MIME_TYPE, append_mime, {\n",
       "      /* Is output safe? */\n",
       "      safe: true,\n",
       "      /* Index of renderer in `output_area.display_order` */\n",
       "      index: 0\n",
       "    });\n",
       "  }\n",
       "\n",
       "  // register the mime type if in Jupyter Notebook environment and previously unregistered\n",
       "  if (root.Jupyter !== undefined) {\n",
       "    const events = require('base/js/events');\n",
       "    const OutputArea = require('notebook/js/outputarea').OutputArea;\n",
       "\n",
       "    if (OutputArea.prototype.mime_types().indexOf(EXEC_MIME_TYPE) == -1) {\n",
       "      register_renderer(events, OutputArea);\n",
       "    }\n",
       "  }\n",
       "  if (typeof (root._bokeh_timeout) === \"undefined\" || force === true) {\n",
       "    root._bokeh_timeout = Date.now() + 5000;\n",
       "    root._bokeh_failed_load = false;\n",
       "  }\n",
       "\n",
       "  const NB_LOAD_WARNING = {'data': {'text/html':\n",
       "     \"<div style='background-color: #fdd'>\\n\"+\n",
       "     \"<p>\\n\"+\n",
       "     \"BokehJS does not appear to have successfully loaded. If loading BokehJS from CDN, this \\n\"+\n",
       "     \"may be due to a slow or bad network connection. Possible fixes:\\n\"+\n",
       "     \"</p>\\n\"+\n",
       "     \"<ul>\\n\"+\n",
       "     \"<li>re-rerun `output_notebook()` to attempt to load from CDN again, or</li>\\n\"+\n",
       "     \"<li>use INLINE resources instead, as so:</li>\\n\"+\n",
       "     \"</ul>\\n\"+\n",
       "     \"<code>\\n\"+\n",
       "     \"from bokeh.resources import INLINE\\n\"+\n",
       "     \"output_notebook(resources=INLINE)\\n\"+\n",
       "     \"</code>\\n\"+\n",
       "     \"</div>\"}};\n",
       "\n",
       "  function display_loaded() {\n",
       "    const el = document.getElementById(\"1002\");\n",
       "    if (el != null) {\n",
       "      el.textContent = \"BokehJS is loading...\";\n",
       "    }\n",
       "    if (root.Bokeh !== undefined) {\n",
       "      if (el != null) {\n",
       "        el.textContent = \"BokehJS \" + root.Bokeh.version + \" successfully loaded.\";\n",
       "      }\n",
       "    } else if (Date.now() < root._bokeh_timeout) {\n",
       "      setTimeout(display_loaded, 100)\n",
       "    }\n",
       "  }\n",
       "\n",
       "  function run_callbacks() {\n",
       "    try {\n",
       "      root._bokeh_onload_callbacks.forEach(function(callback) {\n",
       "        if (callback != null)\n",
       "          callback();\n",
       "      });\n",
       "    } finally {\n",
       "      delete root._bokeh_onload_callbacks\n",
       "    }\n",
       "    console.debug(\"Bokeh: all callbacks have finished\");\n",
       "  }\n",
       "\n",
       "  function load_libs(css_urls, js_urls, callback) {\n",
       "    if (css_urls == null) css_urls = [];\n",
       "    if (js_urls == null) js_urls = [];\n",
       "\n",
       "    root._bokeh_onload_callbacks.push(callback);\n",
       "    if (root._bokeh_is_loading > 0) {\n",
       "      console.debug(\"Bokeh: BokehJS is being loaded, scheduling callback at\", now());\n",
       "      return null;\n",
       "    }\n",
       "    if (js_urls == null || js_urls.length === 0) {\n",
       "      run_callbacks();\n",
       "      return null;\n",
       "    }\n",
       "    console.debug(\"Bokeh: BokehJS not loaded, scheduling load and callback at\", now());\n",
       "    root._bokeh_is_loading = css_urls.length + js_urls.length;\n",
       "\n",
       "    function on_load() {\n",
       "      root._bokeh_is_loading--;\n",
       "      if (root._bokeh_is_loading === 0) {\n",
       "        console.debug(\"Bokeh: all BokehJS libraries/stylesheets loaded\");\n",
       "        run_callbacks()\n",
       "      }\n",
       "    }\n",
       "\n",
       "    function on_error(url) {\n",
       "      console.error(\"failed to load \" + url);\n",
       "    }\n",
       "\n",
       "    for (let i = 0; i < css_urls.length; i++) {\n",
       "      const url = css_urls[i];\n",
       "      const element = document.createElement(\"link\");\n",
       "      element.onload = on_load;\n",
       "      element.onerror = on_error.bind(null, url);\n",
       "      element.rel = \"stylesheet\";\n",
       "      element.type = \"text/css\";\n",
       "      element.href = url;\n",
       "      console.debug(\"Bokeh: injecting link tag for BokehJS stylesheet: \", url);\n",
       "      document.body.appendChild(element);\n",
       "    }\n",
       "\n",
       "    for (let i = 0; i < js_urls.length; i++) {\n",
       "      const url = js_urls[i];\n",
       "      const element = document.createElement('script');\n",
       "      element.onload = on_load;\n",
       "      element.onerror = on_error.bind(null, url);\n",
       "      element.async = false;\n",
       "      element.src = url;\n",
       "      console.debug(\"Bokeh: injecting script tag for BokehJS library: \", url);\n",
       "      document.head.appendChild(element);\n",
       "    }\n",
       "  };\n",
       "\n",
       "  function inject_raw_css(css) {\n",
       "    const element = document.createElement(\"style\");\n",
       "    element.appendChild(document.createTextNode(css));\n",
       "    document.body.appendChild(element);\n",
       "  }\n",
       "\n",
       "  const js_urls = [\"https://cdn.bokeh.org/bokeh/release/bokeh-2.4.3.min.js\", \"https://cdn.bokeh.org/bokeh/release/bokeh-gl-2.4.3.min.js\", \"https://cdn.bokeh.org/bokeh/release/bokeh-widgets-2.4.3.min.js\", \"https://cdn.bokeh.org/bokeh/release/bokeh-tables-2.4.3.min.js\", \"https://cdn.bokeh.org/bokeh/release/bokeh-mathjax-2.4.3.min.js\"];\n",
       "  const css_urls = [];\n",
       "\n",
       "  const inline_js = [    function(Bokeh) {\n",
       "      Bokeh.set_log_level(\"info\");\n",
       "    },\n",
       "function(Bokeh) {\n",
       "    }\n",
       "  ];\n",
       "\n",
       "  function run_inline_js() {\n",
       "    if (root.Bokeh !== undefined || force === true) {\n",
       "          for (let i = 0; i < inline_js.length; i++) {\n",
       "      inline_js[i].call(root, root.Bokeh);\n",
       "    }\n",
       "if (force === true) {\n",
       "        display_loaded();\n",
       "      }} else if (Date.now() < root._bokeh_timeout) {\n",
       "      setTimeout(run_inline_js, 100);\n",
       "    } else if (!root._bokeh_failed_load) {\n",
       "      console.log(\"Bokeh: BokehJS failed to load within specified timeout.\");\n",
       "      root._bokeh_failed_load = true;\n",
       "    } else if (force !== true) {\n",
       "      const cell = $(document.getElementById(\"1002\")).parents('.cell').data().cell;\n",
       "      cell.output_area.append_execute_result(NB_LOAD_WARNING)\n",
       "    }\n",
       "  }\n",
       "\n",
       "  if (root._bokeh_is_loading === 0) {\n",
       "    console.debug(\"Bokeh: BokehJS loaded, going straight to plotting\");\n",
       "    run_inline_js();\n",
       "  } else {\n",
       "    load_libs(css_urls, js_urls, function() {\n",
       "      console.debug(\"Bokeh: BokehJS plotting callback run at\", now());\n",
       "      run_inline_js();\n",
       "    });\n",
       "  }\n",
       "}(window));"
      ],
      "application/vnd.bokehjs_load.v0+json": "(function(root) {\n  function now() {\n    return new Date();\n  }\n\n  const force = true;\n\n  if (typeof root._bokeh_onload_callbacks === \"undefined\" || force === true) {\n    root._bokeh_onload_callbacks = [];\n    root._bokeh_is_loading = undefined;\n  }\n\n\n  if (typeof (root._bokeh_timeout) === \"undefined\" || force === true) {\n    root._bokeh_timeout = Date.now() + 5000;\n    root._bokeh_failed_load = false;\n  }\n\n  const NB_LOAD_WARNING = {'data': {'text/html':\n     \"<div style='background-color: #fdd'>\\n\"+\n     \"<p>\\n\"+\n     \"BokehJS does not appear to have successfully loaded. If loading BokehJS from CDN, this \\n\"+\n     \"may be due to a slow or bad network connection. Possible fixes:\\n\"+\n     \"</p>\\n\"+\n     \"<ul>\\n\"+\n     \"<li>re-rerun `output_notebook()` to attempt to load from CDN again, or</li>\\n\"+\n     \"<li>use INLINE resources instead, as so:</li>\\n\"+\n     \"</ul>\\n\"+\n     \"<code>\\n\"+\n     \"from bokeh.resources import INLINE\\n\"+\n     \"output_notebook(resources=INLINE)\\n\"+\n     \"</code>\\n\"+\n     \"</div>\"}};\n\n  function display_loaded() {\n    const el = document.getElementById(\"1002\");\n    if (el != null) {\n      el.textContent = \"BokehJS is loading...\";\n    }\n    if (root.Bokeh !== undefined) {\n      if (el != null) {\n        el.textContent = \"BokehJS \" + root.Bokeh.version + \" successfully loaded.\";\n      }\n    } else if (Date.now() < root._bokeh_timeout) {\n      setTimeout(display_loaded, 100)\n    }\n  }\n\n  function run_callbacks() {\n    try {\n      root._bokeh_onload_callbacks.forEach(function(callback) {\n        if (callback != null)\n          callback();\n      });\n    } finally {\n      delete root._bokeh_onload_callbacks\n    }\n    console.debug(\"Bokeh: all callbacks have finished\");\n  }\n\n  function load_libs(css_urls, js_urls, callback) {\n    if (css_urls == null) css_urls = [];\n    if (js_urls == null) js_urls = [];\n\n    root._bokeh_onload_callbacks.push(callback);\n    if (root._bokeh_is_loading > 0) {\n      console.debug(\"Bokeh: BokehJS is being loaded, scheduling callback at\", now());\n      return null;\n    }\n    if (js_urls == null || js_urls.length === 0) {\n      run_callbacks();\n      return null;\n    }\n    console.debug(\"Bokeh: BokehJS not loaded, scheduling load and callback at\", now());\n    root._bokeh_is_loading = css_urls.length + js_urls.length;\n\n    function on_load() {\n      root._bokeh_is_loading--;\n      if (root._bokeh_is_loading === 0) {\n        console.debug(\"Bokeh: all BokehJS libraries/stylesheets loaded\");\n        run_callbacks()\n      }\n    }\n\n    function on_error(url) {\n      console.error(\"failed to load \" + url);\n    }\n\n    for (let i = 0; i < css_urls.length; i++) {\n      const url = css_urls[i];\n      const element = document.createElement(\"link\");\n      element.onload = on_load;\n      element.onerror = on_error.bind(null, url);\n      element.rel = \"stylesheet\";\n      element.type = \"text/css\";\n      element.href = url;\n      console.debug(\"Bokeh: injecting link tag for BokehJS stylesheet: \", url);\n      document.body.appendChild(element);\n    }\n\n    for (let i = 0; i < js_urls.length; i++) {\n      const url = js_urls[i];\n      const element = document.createElement('script');\n      element.onload = on_load;\n      element.onerror = on_error.bind(null, url);\n      element.async = false;\n      element.src = url;\n      console.debug(\"Bokeh: injecting script tag for BokehJS library: \", url);\n      document.head.appendChild(element);\n    }\n  };\n\n  function inject_raw_css(css) {\n    const element = document.createElement(\"style\");\n    element.appendChild(document.createTextNode(css));\n    document.body.appendChild(element);\n  }\n\n  const js_urls = [\"https://cdn.bokeh.org/bokeh/release/bokeh-2.4.3.min.js\", \"https://cdn.bokeh.org/bokeh/release/bokeh-gl-2.4.3.min.js\", \"https://cdn.bokeh.org/bokeh/release/bokeh-widgets-2.4.3.min.js\", \"https://cdn.bokeh.org/bokeh/release/bokeh-tables-2.4.3.min.js\", \"https://cdn.bokeh.org/bokeh/release/bokeh-mathjax-2.4.3.min.js\"];\n  const css_urls = [];\n\n  const inline_js = [    function(Bokeh) {\n      Bokeh.set_log_level(\"info\");\n    },\nfunction(Bokeh) {\n    }\n  ];\n\n  function run_inline_js() {\n    if (root.Bokeh !== undefined || force === true) {\n          for (let i = 0; i < inline_js.length; i++) {\n      inline_js[i].call(root, root.Bokeh);\n    }\nif (force === true) {\n        display_loaded();\n      }} else if (Date.now() < root._bokeh_timeout) {\n      setTimeout(run_inline_js, 100);\n    } else if (!root._bokeh_failed_load) {\n      console.log(\"Bokeh: BokehJS failed to load within specified timeout.\");\n      root._bokeh_failed_load = true;\n    } else if (force !== true) {\n      const cell = $(document.getElementById(\"1002\")).parents('.cell').data().cell;\n      cell.output_area.append_execute_result(NB_LOAD_WARNING)\n    }\n  }\n\n  if (root._bokeh_is_loading === 0) {\n    console.debug(\"Bokeh: BokehJS loaded, going straight to plotting\");\n    run_inline_js();\n  } else {\n    load_libs(css_urls, js_urls, function() {\n      console.debug(\"Bokeh: BokehJS plotting callback run at\", now());\n      run_inline_js();\n    });\n  }\n}(window));"
     },
     "metadata": {},
     "output_type": "display_data"
    }
   ],
   "source": [
    "output_notebook()"
   ]
  },
  {
   "cell_type": "markdown",
   "id": "11dd389c-401e-4636-a047-b18272ec67c8",
   "metadata": {},
   "source": [
    "## ReadTheDocs"
   ]
  },
  {
   "cell_type": "code",
   "execution_count": 3,
   "id": "952b4d09-e858-4538-a5dd-dc14724b8df4",
   "metadata": {
    "execution": {
     "iopub.execute_input": "2023-02-17T21:39:15.030488Z",
     "iopub.status.busy": "2023-02-17T21:39:15.030165Z",
     "iopub.status.idle": "2023-02-17T21:39:15.055839Z",
     "shell.execute_reply": "2023-02-17T21:39:15.055252Z"
    }
   },
   "outputs": [],
   "source": [
    "df = utils.get_rtd_analytics_data('pv-ice')\n",
    "data_period = df['Date'].min().strftime('%Y-%m-%d') + ' to ' + df['Date'].max().strftime('%Y-%m-%d')"
   ]
  },
  {
   "cell_type": "code",
   "execution_count": 4,
   "id": "13dc41b1-e8b9-4fe4-8532-7c625ea1d158",
   "metadata": {
    "execution": {
     "iopub.execute_input": "2023-02-17T21:39:15.058354Z",
     "iopub.status.busy": "2023-02-17T21:39:15.058016Z",
     "iopub.status.idle": "2023-02-17T21:39:15.107228Z",
     "shell.execute_reply": "2023-02-17T21:39:15.106655Z"
    }
   },
   "outputs": [
    {
     "data": {
      "text/html": [
       "\n",
       "  <div class=\"bk-root\" id=\"f9714fe6-3b20-45c0-929b-6c50922e343b\" data-root-id=\"1003\"></div>\n"
      ]
     },
     "metadata": {},
     "output_type": "display_data"
    },
    {
     "data": {
      "application/javascript": [
       "(function(root) {\n",
       "  function embed_document(root) {\n",
       "  const docs_json = {\"222a25fc-8986-45a0-bddf-e78a0123b10a\":{\"defs\":[],\"roots\":{\"references\":[{\"attributes\":{\"below\":[{\"id\":\"1014\"}],\"center\":[{\"id\":\"1016\"},{\"id\":\"1020\"}],\"height\":350,\"left\":[{\"id\":\"1017\"}],\"renderers\":[{\"id\":\"1042\"}],\"title\":{\"id\":\"1004\"},\"toolbar\":{\"id\":\"1029\"},\"x_range\":{\"id\":\"1006\"},\"x_scale\":{\"id\":\"1010\"},\"y_range\":{\"id\":\"1008\"},\"y_scale\":{\"id\":\"1012\"}},\"id\":\"1003\",\"subtype\":\"Figure\",\"type\":\"Plot\"},{\"attributes\":{},\"id\":\"1010\",\"type\":\"CategoricalScale\"},{\"attributes\":{},\"id\":\"1018\",\"type\":\"BasicTicker\"},{\"attributes\":{},\"id\":\"1049\",\"type\":\"CategoricalTickFormatter\"},{\"attributes\":{},\"id\":\"1051\",\"type\":\"UnionRenderers\"},{\"attributes\":{\"fill_color\":{\"value\":\"#1f77b4\"},\"line_color\":{\"value\":\"white\"},\"top\":{\"field\":\"Views\"},\"width\":{\"value\":0.75},\"x\":{\"field\":\"Version\"}},\"id\":\"1039\",\"type\":\"VBar\"},{\"attributes\":{\"bottom_units\":\"screen\",\"coordinates\":null,\"fill_alpha\":0.5,\"fill_color\":\"lightgrey\",\"group\":null,\"left_units\":\"screen\",\"level\":\"overlay\",\"line_alpha\":1.0,\"line_color\":\"black\",\"line_dash\":[4,4],\"line_width\":2,\"right_units\":\"screen\",\"syncable\":false,\"top_units\":\"screen\"},\"id\":\"1027\",\"type\":\"BoxAnnotation\"},{\"attributes\":{},\"id\":\"1047\",\"type\":\"AllLabels\"},{\"attributes\":{\"coordinates\":null,\"group\":null,\"text\":\"Page views by RTD version (2022-08-31 to 2023-02-17)\"},\"id\":\"1004\",\"type\":\"Title\"},{\"attributes\":{\"coordinates\":null,\"formatter\":{\"id\":\"1049\"},\"group\":null,\"major_label_orientation\":1.57,\"major_label_policy\":{\"id\":\"1050\"},\"ticker\":{\"id\":\"1015\"}},\"id\":\"1014\",\"type\":\"CategoricalAxis\"},{\"attributes\":{},\"id\":\"1046\",\"type\":\"BasicTickFormatter\"},{\"attributes\":{},\"id\":\"1015\",\"type\":\"CategoricalTicker\"},{\"attributes\":{\"axis\":{\"id\":\"1017\"},\"coordinates\":null,\"dimension\":1,\"group\":null,\"ticker\":null},\"id\":\"1020\",\"type\":\"Grid\"},{\"attributes\":{\"fill_alpha\":{\"value\":0.2},\"fill_color\":{\"value\":\"#1f77b4\"},\"hatch_alpha\":{\"value\":0.2},\"line_alpha\":{\"value\":0.2},\"line_color\":{\"value\":\"white\"},\"top\":{\"field\":\"Views\"},\"width\":{\"value\":0.75},\"x\":{\"field\":\"Version\"}},\"id\":\"1041\",\"type\":\"VBar\"},{\"attributes\":{\"data\":{\"Version\":[\"latest\",\"stable\"],\"Views\":[518,52],\"index\":[0,1]},\"selected\":{\"id\":\"1052\"},\"selection_policy\":{\"id\":\"1051\"}},\"id\":\"1037\",\"type\":\"ColumnDataSource\"},{\"attributes\":{},\"id\":\"1025\",\"type\":\"ResetTool\"},{\"attributes\":{\"factors\":[\"latest\",\"stable\"]},\"id\":\"1006\",\"type\":\"FactorRange\"},{\"attributes\":{},\"id\":\"1008\",\"type\":\"DataRange1d\"},{\"attributes\":{\"tools\":[{\"id\":\"1021\"},{\"id\":\"1022\"},{\"id\":\"1023\"},{\"id\":\"1024\"},{\"id\":\"1025\"},{\"id\":\"1026\"},{\"id\":\"1028\"}]},\"id\":\"1029\",\"type\":\"Toolbar\"},{\"attributes\":{\"axis\":{\"id\":\"1014\"},\"coordinates\":null,\"group\":null,\"ticker\":null},\"id\":\"1016\",\"type\":\"Grid\"},{\"attributes\":{\"fill_alpha\":{\"value\":0.1},\"fill_color\":{\"value\":\"#1f77b4\"},\"hatch_alpha\":{\"value\":0.1},\"line_alpha\":{\"value\":0.1},\"line_color\":{\"value\":\"white\"},\"top\":{\"field\":\"Views\"},\"width\":{\"value\":0.75},\"x\":{\"field\":\"Version\"}},\"id\":\"1040\",\"type\":\"VBar\"},{\"attributes\":{},\"id\":\"1050\",\"type\":\"AllLabels\"},{\"attributes\":{},\"id\":\"1024\",\"type\":\"SaveTool\"},{\"attributes\":{\"overlay\":{\"id\":\"1027\"}},\"id\":\"1023\",\"type\":\"BoxZoomTool\"},{\"attributes\":{},\"id\":\"1021\",\"type\":\"PanTool\"},{\"attributes\":{\"axis_label\":\"Total page views\",\"coordinates\":null,\"formatter\":{\"id\":\"1046\"},\"group\":null,\"major_label_policy\":{\"id\":\"1047\"},\"ticker\":{\"id\":\"1018\"}},\"id\":\"1017\",\"type\":\"LinearAxis\"},{\"attributes\":{\"callback\":null,\"tooltips\":[[\"Version\",\"@Version\"],[\"Views\",\"@Views\"]]},\"id\":\"1028\",\"type\":\"HoverTool\"},{\"attributes\":{},\"id\":\"1012\",\"type\":\"LinearScale\"},{\"attributes\":{},\"id\":\"1026\",\"type\":\"HelpTool\"},{\"attributes\":{},\"id\":\"1022\",\"type\":\"WheelZoomTool\"},{\"attributes\":{},\"id\":\"1052\",\"type\":\"Selection\"},{\"attributes\":{\"coordinates\":null,\"data_source\":{\"id\":\"1037\"},\"glyph\":{\"id\":\"1039\"},\"group\":null,\"hover_glyph\":null,\"muted_glyph\":{\"id\":\"1041\"},\"nonselection_glyph\":{\"id\":\"1040\"},\"view\":{\"id\":\"1043\"}},\"id\":\"1042\",\"type\":\"GlyphRenderer\"},{\"attributes\":{\"source\":{\"id\":\"1037\"}},\"id\":\"1043\",\"type\":\"CDSView\"}],\"root_ids\":[\"1003\"]},\"title\":\"Bokeh Application\",\"version\":\"2.4.3\"}};\n",
       "  const render_items = [{\"docid\":\"222a25fc-8986-45a0-bddf-e78a0123b10a\",\"root_ids\":[\"1003\"],\"roots\":{\"1003\":\"f9714fe6-3b20-45c0-929b-6c50922e343b\"}}];\n",
       "  root.Bokeh.embed.embed_items_notebook(docs_json, render_items);\n",
       "  }\n",
       "  if (root.Bokeh !== undefined) {\n",
       "    embed_document(root);\n",
       "  } else {\n",
       "    let attempts = 0;\n",
       "    const timer = setInterval(function(root) {\n",
       "      if (root.Bokeh !== undefined) {\n",
       "        clearInterval(timer);\n",
       "        embed_document(root);\n",
       "      } else {\n",
       "        attempts++;\n",
       "        if (attempts > 100) {\n",
       "          clearInterval(timer);\n",
       "          console.log(\"Bokeh: ERROR: Unable to run BokehJS code because BokehJS library is missing\");\n",
       "        }\n",
       "      }\n",
       "    }, 10, root)\n",
       "  }\n",
       "})(window);"
      ],
      "application/vnd.bokehjs_exec.v0+json": ""
     },
     "metadata": {
      "application/vnd.bokehjs_exec.v0+json": {
       "id": "1003"
      }
     },
     "output_type": "display_data"
    }
   ],
   "source": [
    "total_by_version = df.groupby('Version')['Views'].sum().reset_index()\n",
    "\n",
    "p = figure(x_range=total_by_version['Version'], height=350, tooltips=[(\"Version\", \"@Version\"), (\"Views\", \"@Views\")],\n",
    "           title=f\"Page views by RTD version ({data_period})\",)\n",
    "p.vbar(x='Version', top='Views', width=0.75, source=total_by_version,\n",
    "       line_color='white')\n",
    "p.xaxis.major_label_orientation = 3.14/2\n",
    "p.yaxis.axis_label = 'Total page views'\n",
    "show(p)"
   ]
  },
  {
   "cell_type": "code",
   "execution_count": 5,
   "id": "5822541d-31a7-404a-914a-ecf00a9719a7",
   "metadata": {
    "execution": {
     "iopub.execute_input": "2023-02-17T21:39:15.109975Z",
     "iopub.status.busy": "2023-02-17T21:39:15.109472Z",
     "iopub.status.idle": "2023-02-17T21:39:15.191578Z",
     "shell.execute_reply": "2023-02-17T21:39:15.190932Z"
    }
   },
   "outputs": [
    {
     "data": {
      "text/html": [
       "\n",
       "  <div class=\"bk-root\" id=\"6be0a8ae-3f86-47c6-9e46-3803b36ac8bd\" data-root-id=\"1104\"></div>\n"
      ]
     },
     "metadata": {},
     "output_type": "display_data"
    },
    {
     "data": {
      "application/javascript": [
       "(function(root) {\n",
       "  function embed_document(root) {\n",
       "  const docs_json = {\"5ca47f2d-15c0-4388-a009-9655a541b9df\":{\"defs\":[],\"roots\":{\"references\":[{\"attributes\":{\"below\":[{\"id\":\"1115\"}],\"center\":[{\"id\":\"1118\"},{\"id\":\"1122\"},{\"id\":\"1167\"}],\"height\":350,\"left\":[{\"id\":\"1119\"}],\"renderers\":[{\"id\":\"1143\"},{\"id\":\"1173\"}],\"title\":{\"id\":\"1105\"},\"toolbar\":{\"id\":\"1130\"},\"x_range\":{\"id\":\"1107\"},\"x_scale\":{\"id\":\"1111\"},\"y_range\":{\"id\":\"1109\"},\"y_scale\":{\"id\":\"1113\"}},\"id\":\"1104\",\"subtype\":\"Figure\",\"type\":\"Plot\"},{\"attributes\":{\"line_alpha\":0.2,\"line_color\":\"#ff7f0e\",\"x\":{\"field\":\"x\"},\"y\":{\"field\":\"y\"}},\"id\":\"1172\",\"type\":\"Line\"},{\"attributes\":{},\"id\":\"1151\",\"type\":\"AllLabels\"},{\"attributes\":{\"data\":{\"x\":{\"__ndarray__\":\"AABAKRMveEIAAACPZS94QgAAwPS3L3hCAACAWgoweEIAAMCLATF4QgAAgPFTMXhCAABAV6YxeEIAAAC9+DF4QgAAwCJLMnhCAACAiJ0yeEIAAEDu7zJ4QgAAAFRCM3hCAADAuZQzeEIAAIAf5zN4QgAAQIU5NHhCAADAUN40eEIAAIC2MDV4QgAAQByDNXhCAADA5yc2eEIAAAAZHzd4QgAAwH5xN3hCAACA5MM3eEIAAEBKFjh4QgAAALBoOHhCAACAew05eEIAAEDhXzl4QgAAAEeyOXhCAADArAQ6eEIAAIASVzp4QgAAQHipOnhCAAAA3vs6eEIAAEAP8zt4QgAAAHVFPHhCAACAQOo8eEIAAMBx4T14QgAAgNczPnhCAAAAo9g+eEIAAMAIKz94QgAAgG59P3hCAABA1M8/eEIAAMCfdEB4QgAAgAXHQHhCAABAaxlBeEIAAADRa0F4QgAAwDa+QXhCAACAnBBCeEIAAABotUJ4QgAAwM0HQ3hCAACAM1pDeEIAAECZrEN4QgAAAP/+Q3hCAADAZFFEeEIAAIDKo0R4QgAAQDD2RHhCAADA+5pFeEIAAIBh7UV4QgAAQMc/RnhCAADAkuRGeEIAAID4Nkd4QgAAQF6JR3hCAAAAxNtHeEIAAMApLkh4QgAAgI+ASHhCAABA9dJIeEIAAABbJUl4QgAAwMB3SXhCAACAJspJeEIAAECMHEp4QgAAAPJuSnhCAADAV8FKeEIAAIC9E0t4QgAAQCNmS3hCAAAAibhLeEIAAMDuCkx4QgAAgFRdTHhCAABAuq9MeEIAAAAgAk14QgAAwIVUTXhCAACA66ZNeEIAAEBR+U14QgAAALdLTnhCAACAgvBOeEIAAEDoQk94QgAAwLPnT3hCAAAA5d5QeEIAAMBKMVF4QgAAgLCDUXhCAAAAfChSeEIAAMDhelJ4QgAAgEfNUnhCAABArR9TeEIAAAATclN4QgAAwHjEU3hCAACA3hZUeEIAAEBEaVR4QgAAAKq7VHhCAADADw5VeEIAAEDbslV4QgAAAEEFVnhCAADApldWeEIAAIAMqlZ4QgAAQHL8VnhCAAAA2E5XeEIAAMA9oVd4QgAAgKPzV3hCAABACUZYeEIAAABvmFh4QgAAwNTqWHhCAACAOj1ZeEIAAAAG4ll4QgAAwGs0WnhCAABAN9laeEIAAACdK1t4QgAAwAJ+W3hCAACAaNBbeEIAAEDOIlx4QgAAADR1XHhCAACA/xldeEIAAEBlbF14QgAAAMu+XXhCAADAMBFeeEIAAICWY154QgAAQPy1XnhCAAAAYghfeEIAAECT/194QgAAAPlRYHhCAACAxPZgeEIAAEAqSWF4QgAAAJCbYXhCAACAW0BieEIAAAAn5WJ4QgAAAL4uZHhCAADAI4FkeEIAAICJ02R4QgAAQO8lZXhCAAAAVXhleEIAAMC6ymV4Qg==\",\"dtype\":\"float64\",\"order\":\"little\",\"shape\":[137]},\"y\":{\"__ndarray__\":\"AAAAAAAAAEAAAAAAAAAkQAAAAAAAABRAAAAAAAAAFEAAAAAAAADwPwAAAAAAAAhAAAAAAAAAAEAAAAAAAAAqQAAAAAAAAPA/AAAAAAAAFEAAAAAAAADwPwAAAAAAAAhAAAAAAAAA8D8AAAAAAAAAAAAAAAAAAABAAAAAAAAAAEAAAAAAAAAUQAAAAAAAAPA/AAAAAAAA8D8AAAAAAAAxQAAAAAAAABxAAAAAAAAAIEAAAAAAAAAUQAAAAAAAAPA/AAAAAAAACEAAAAAAAADwPwAAAAAAABBAAAAAAAAAAEAAAAAAAAAAQAAAAAAAAPA/AAAAAAAA8D8AAAAAAAAQQAAAAAAAABBAAAAAAAAAFEAAAAAAAADwPwAAAAAAAPA/AAAAAAAA8D8AAAAAAAAUQAAAAAAAABRAAAAAAAAA8D8AAAAAAAAYQAAAAAAAAABAAAAAAAAAEEAAAAAAAAAUQAAAAAAAAPA/AAAAAAAAFEAAAAAAAAAIQAAAAAAAAABAAAAAAAAAAAAAAAAAAAAAQAAAAAAAABhAAAAAAAAAAEAAAAAAAAAYQAAAAAAAAAhAAAAAAAAACEAAAAAAAAAAQAAAAAAAABBAAAAAAAAA8D8AAAAAAAAAQAAAAAAAAAhAAAAAAAAAGEAAAAAAAAAQQAAAAAAAAPA/AAAAAAAACEAAAAAAAAAIQAAAAAAAAABAAAAAAAAA8D8AAAAAAAAQQAAAAAAAAPA/AAAAAAAAAEAAAAAAAAAIQAAAAAAAABhAAAAAAAAAAEAAAAAAAAAQQAAAAAAAAPA/AAAAAAAACEAAAAAAAAAAQAAAAAAAAAhAAAAAAAAA8D8AAAAAAAAsQAAAAAAAABBAAAAAAAAANUAAAAAAAAAiQAAAAAAAABhAAAAAAAAAMEAAAAAAAAAQQAAAAAAAABRAAAAAAAAA8D8AAAAAAAAAQAAAAAAAACRAAAAAAAAACEAAAAAAAAAYQAAAAAAAAPA/AAAAAAAAAEAAAAAAAAAIQAAAAAAAAAhAAAAAAAAA8D8AAAAAAADwPwAAAAAAAPA/AAAAAAAA8D8AAAAAAAAAQAAAAAAAAAAAAAAAAAAACEAAAAAAAAAUQAAAAAAAABBAAAAAAAAACEAAAAAAAADwPwAAAAAAAPA/AAAAAAAA8D8AAAAAAADwPwAAAAAAAPA/AAAAAAAAAEAAAAAAAAAIQAAAAAAAAPA/AAAAAAAACEAAAAAAAADwPwAAAAAAABRAAAAAAAAAEEAAAAAAAADwPwAAAAAAABxAAAAAAAAAFEAAAAAAAADwPwAAAAAAAABAAAAAAAAAEEAAAAAAAAAiQAAAAAAAACRAAAAAAAAAMUAAAAAAAADwPwAAAAAAAPA/AAAAAAAAIkAAAAAAAAAAQAAAAAAAAPA/AAAAAAAAKkAAAAAAAAAAQAAAAAAAAABAAAAAAAAAKkAAAAAAAAAcQA==\",\"dtype\":\"float64\",\"order\":\"little\",\"shape\":[137]}},\"selected\":{\"id\":\"1185\"},\"selection_policy\":{\"id\":\"1184\"}},\"id\":\"1169\",\"type\":\"ColumnDataSource\"},{\"attributes\":{\"axis\":{\"id\":\"1115\"},\"coordinates\":null,\"group\":null,\"ticker\":null},\"id\":\"1118\",\"type\":\"Grid\"},{\"attributes\":{\"coordinates\":null,\"data_source\":{\"id\":\"1169\"},\"glyph\":{\"id\":\"1170\"},\"group\":null,\"hover_glyph\":null,\"muted_glyph\":{\"id\":\"1172\"},\"nonselection_glyph\":{\"id\":\"1171\"},\"view\":{\"id\":\"1174\"}},\"id\":\"1173\",\"type\":\"GlyphRenderer\"},{\"attributes\":{},\"id\":\"1126\",\"type\":\"SaveTool\"},{\"attributes\":{\"coordinates\":null,\"group\":null,\"text\":\"Daily views by RTD version\"},\"id\":\"1105\",\"type\":\"Title\"},{\"attributes\":{\"line_alpha\":0.1,\"line_color\":\"#ff7f0e\",\"x\":{\"field\":\"x\"},\"y\":{\"field\":\"y\"}},\"id\":\"1171\",\"type\":\"Line\"},{\"attributes\":{\"source\":{\"id\":\"1169\"}},\"id\":\"1174\",\"type\":\"CDSView\"},{\"attributes\":{\"bottom_units\":\"screen\",\"coordinates\":null,\"fill_alpha\":0.5,\"fill_color\":\"lightgrey\",\"group\":null,\"left_units\":\"screen\",\"level\":\"overlay\",\"line_alpha\":1.0,\"line_color\":\"black\",\"line_dash\":[4,4],\"line_width\":2,\"right_units\":\"screen\",\"syncable\":false,\"top_units\":\"screen\"},\"id\":\"1129\",\"type\":\"BoxAnnotation\"},{\"attributes\":{\"axis_label\":\"Daily page views\",\"coordinates\":null,\"formatter\":{\"id\":\"1147\"},\"group\":null,\"major_label_policy\":{\"id\":\"1148\"},\"ticker\":{\"id\":\"1120\"}},\"id\":\"1119\",\"type\":\"LinearAxis\"},{\"attributes\":{},\"id\":\"1150\",\"type\":\"DatetimeTickFormatter\"},{\"attributes\":{},\"id\":\"1109\",\"type\":\"DataRange1d\"},{\"attributes\":{\"label\":{\"value\":\"stable\"},\"renderers\":[{\"id\":\"1143\"}]},\"id\":\"1168\",\"type\":\"LegendItem\"},{\"attributes\":{\"line_color\":\"#ff7f0e\",\"x\":{\"field\":\"x\"},\"y\":{\"field\":\"y\"}},\"id\":\"1170\",\"type\":\"Line\"},{\"attributes\":{\"base\":60,\"mantissas\":[1,2,5,10,15,20,30],\"max_interval\":1800000.0,\"min_interval\":1000.0,\"num_minor_ticks\":0},\"id\":\"1156\",\"type\":\"AdaptiveTicker\"},{\"attributes\":{\"mantissas\":[1,2,5],\"max_interval\":500.0,\"num_minor_ticks\":0},\"id\":\"1155\",\"type\":\"AdaptiveTicker\"},{\"attributes\":{},\"id\":\"1166\",\"type\":\"YearsTicker\"},{\"attributes\":{\"source\":{\"id\":\"1139\"}},\"id\":\"1144\",\"type\":\"CDSView\"},{\"attributes\":{},\"id\":\"1128\",\"type\":\"HelpTool\"},{\"attributes\":{\"label\":{\"value\":\"latest\"},\"renderers\":[{\"id\":\"1173\"}]},\"id\":\"1199\",\"type\":\"LegendItem\"},{\"attributes\":{\"base\":24,\"mantissas\":[1,2,4,6,8,12],\"max_interval\":43200000.0,\"min_interval\":3600000.0,\"num_minor_ticks\":0},\"id\":\"1157\",\"type\":\"AdaptiveTicker\"},{\"attributes\":{\"coordinates\":null,\"group\":null,\"items\":[{\"id\":\"1168\"},{\"id\":\"1199\"}]},\"id\":\"1167\",\"type\":\"Legend\"},{\"attributes\":{\"months\":[0,1,2,3,4,5,6,7,8,9,10,11]},\"id\":\"1162\",\"type\":\"MonthsTicker\"},{\"attributes\":{\"line_alpha\":0.1,\"line_color\":\"#1f77b4\",\"x\":{\"field\":\"x\"},\"y\":{\"field\":\"y\"}},\"id\":\"1141\",\"type\":\"Line\"},{\"attributes\":{\"days\":[1,15]},\"id\":\"1161\",\"type\":\"DaysTicker\"},{\"attributes\":{\"tools\":[{\"id\":\"1123\"},{\"id\":\"1124\"},{\"id\":\"1125\"},{\"id\":\"1126\"},{\"id\":\"1127\"},{\"id\":\"1128\"},{\"id\":\"1137\"}]},\"id\":\"1130\",\"type\":\"Toolbar\"},{\"attributes\":{\"num_minor_ticks\":5,\"tickers\":[{\"id\":\"1155\"},{\"id\":\"1156\"},{\"id\":\"1157\"},{\"id\":\"1158\"},{\"id\":\"1159\"},{\"id\":\"1160\"},{\"id\":\"1161\"},{\"id\":\"1162\"},{\"id\":\"1163\"},{\"id\":\"1164\"},{\"id\":\"1165\"},{\"id\":\"1166\"}]},\"id\":\"1116\",\"type\":\"DatetimeTicker\"},{\"attributes\":{},\"id\":\"1184\",\"type\":\"UnionRenderers\"},{\"attributes\":{\"days\":[1,2,3,4,5,6,7,8,9,10,11,12,13,14,15,16,17,18,19,20,21,22,23,24,25,26,27,28,29,30,31]},\"id\":\"1158\",\"type\":\"DaysTicker\"},{\"attributes\":{},\"id\":\"1124\",\"type\":\"WheelZoomTool\"},{\"attributes\":{\"days\":[1,4,7,10,13,16,19,22,25,28]},\"id\":\"1159\",\"type\":\"DaysTicker\"},{\"attributes\":{\"days\":[1,8,15,22]},\"id\":\"1160\",\"type\":\"DaysTicker\"},{\"attributes\":{},\"id\":\"1127\",\"type\":\"ResetTool\"},{\"attributes\":{\"line_alpha\":0.2,\"line_color\":\"#1f77b4\",\"x\":{\"field\":\"x\"},\"y\":{\"field\":\"y\"}},\"id\":\"1142\",\"type\":\"Line\"},{\"attributes\":{},\"id\":\"1147\",\"type\":\"BasicTickFormatter\"},{\"attributes\":{},\"id\":\"1153\",\"type\":\"Selection\"},{\"attributes\":{},\"id\":\"1185\",\"type\":\"Selection\"},{\"attributes\":{\"overlay\":{\"id\":\"1129\"}},\"id\":\"1125\",\"type\":\"BoxZoomTool\"},{\"attributes\":{\"months\":[0,2,4,6,8,10]},\"id\":\"1163\",\"type\":\"MonthsTicker\"},{\"attributes\":{\"months\":[0,6]},\"id\":\"1165\",\"type\":\"MonthsTicker\"},{\"attributes\":{},\"id\":\"1152\",\"type\":\"UnionRenderers\"},{\"attributes\":{\"months\":[0,4,8]},\"id\":\"1164\",\"type\":\"MonthsTicker\"},{\"attributes\":{\"axis\":{\"id\":\"1119\"},\"coordinates\":null,\"dimension\":1,\"group\":null,\"ticker\":null},\"id\":\"1122\",\"type\":\"Grid\"},{\"attributes\":{},\"id\":\"1107\",\"type\":\"DataRange1d\"},{\"attributes\":{\"coordinates\":null,\"formatter\":{\"id\":\"1150\"},\"group\":null,\"major_label_policy\":{\"id\":\"1151\"},\"ticker\":{\"id\":\"1116\"}},\"id\":\"1115\",\"type\":\"DatetimeAxis\"},{\"attributes\":{\"callback\":null,\"formatters\":{\"@x\":\"datetime\"},\"tooltips\":[[\"Date\",\"@x{%Y-%m-%d}\"],[\"Views\",\"@y\"]]},\"id\":\"1137\",\"type\":\"HoverTool\"},{\"attributes\":{\"data\":{\"x\":{\"__ndarray__\":\"AABAKRMveEIAAACPZS94QgAAwPS3L3hCAACAWgoweEIAAMCLATF4QgAAgPFTMXhCAABAV6YxeEIAAAC9+DF4QgAAwCJLMnhCAACAiJ0yeEIAAEDu7zJ4QgAAAFRCM3hCAADAuZQzeEIAAIAf5zN4QgAAQIU5NHhCAADAUN40eEIAAIC2MDV4QgAAQByDNXhCAADA5yc2eEIAAAAZHzd4QgAAwH5xN3hCAACA5MM3eEIAAEBKFjh4QgAAALBoOHhCAACAew05eEIAAEDhXzl4QgAAAEeyOXhCAADArAQ6eEIAAIASVzp4QgAAQHipOnhCAAAA3vs6eEIAAEAP8zt4QgAAAHVFPHhCAACAQOo8eEIAAMBx4T14QgAAgNczPnhCAAAAo9g+eEIAAMAIKz94QgAAgG59P3hCAABA1M8/eEIAAMCfdEB4QgAAgAXHQHhCAABAaxlBeEIAAADRa0F4QgAAwDa+QXhCAACAnBBCeEIAAABotUJ4QgAAwM0HQ3hCAACAM1pDeEIAAECZrEN4QgAAAP/+Q3hCAADAZFFEeEIAAIDKo0R4QgAAQDD2RHhCAADA+5pFeEIAAIBh7UV4QgAAQMc/RnhCAADAkuRGeEIAAID4Nkd4QgAAQF6JR3hCAAAAxNtHeEIAAMApLkh4QgAAgI+ASHhCAABA9dJIeEIAAABbJUl4QgAAwMB3SXhCAACAJspJeEIAAECMHEp4QgAAAPJuSnhCAADAV8FKeEIAAIC9E0t4QgAAQCNmS3hCAAAAibhLeEIAAMDuCkx4QgAAgFRdTHhCAABAuq9MeEIAAAAgAk14QgAAwIVUTXhCAACA66ZNeEIAAEBR+U14QgAAALdLTnhCAACAgvBOeEIAAEDoQk94QgAAwLPnT3hCAAAA5d5QeEIAAMBKMVF4QgAAgLCDUXhCAAAAfChSeEIAAMDhelJ4QgAAgEfNUnhCAABArR9TeEIAAAATclN4QgAAwHjEU3hCAACA3hZUeEIAAEBEaVR4QgAAAKq7VHhCAADADw5VeEIAAEDbslV4QgAAAEEFVnhCAADApldWeEIAAIAMqlZ4QgAAQHL8VnhCAAAA2E5XeEIAAMA9oVd4QgAAgKPzV3hCAABACUZYeEIAAABvmFh4QgAAwNTqWHhCAACAOj1ZeEIAAAAG4ll4QgAAwGs0WnhCAABAN9laeEIAAACdK1t4QgAAwAJ+W3hCAACAaNBbeEIAAEDOIlx4QgAAADR1XHhCAACA/xldeEIAAEBlbF14QgAAAMu+XXhCAADAMBFeeEIAAICWY154QgAAQPy1XnhCAAAAYghfeEIAAECT/194QgAAAPlRYHhCAACAxPZgeEIAAEAqSWF4QgAAAJCbYXhCAACAW0BieEIAAAAn5WJ4QgAAAL4uZHhCAADAI4FkeEIAAICJ02R4QgAAQO8lZXhCAAAAVXhleEIAAMC6ymV4Qg==\",\"dtype\":\"float64\",\"order\":\"little\",\"shape\":[137]},\"y\":{\"__ndarray__\":\"AAAAAAAAAAAAAAAAAAAAAAAAAAAAAAAAAAAAAAAAAAAAAAAAAAAAAAAAAAAAAAAAAAAAAAAAAAAAAAAAAAAAQAAAAAAAAAAAAAAAAAAAEEAAAAAAAAAAAAAAAAAAAAAAAAAAAAAA8D8AAAAAAAAQQAAAAAAAAAAAAAAAAAAAAAAAAAAAAAAAAAAAAAAAAAAAAAAAAAAAAAAAAAAAAAAAAAAAAAAAAAAAAAAAAAAAAAAAAAAAAAAAAAAAAAAAAAAAAAAAAAAAAAAAAAAAAAAAAAAAAAAAAAAAAAAAAAAACEAAAAAAAAAAAAAAAAAAAAAAAAAAAAAAAAAAAAAAAAAAAAAAAAAAAAhAAAAAAAAAAAAAAAAAAAAAAAAAAAAAAAAAAAAAAAAAAAAAAAAAAAAAAAAAAAAAAAAAAAAAAAAAAAAAAAAAAAAAAAAAAAAAAAAAAAAAAAAAAAAAAAAAAAAAAAAAAAAAAAAAAAAAAAAA8D8AAAAAAAAAAAAAAAAAAAAAAAAAAAAAFEAAAAAAAAAAAAAAAAAAAABAAAAAAAAAAAAAAAAAAAAAAAAAAAAAAAAAAAAAAAAAAAAAAAAAAAAAAAAAAAAAAAAAAAAAAAAAAAAAAAAAAAAAAAAAAAAAAAAAAAAAAAAAAAAAAAAAAAAAAAAAAAAAAAAAAAAAAAAAAAAAAAAAAAAAAAAAAAAAAAAAAAAAAAAAAAAAAAAAAAAAAAAAAAAAAAAAAAAAAAAAAEAAAAAAAADwPwAAAAAAAAAAAAAAAAAAAAAAAAAAAAAAAAAAAAAAAAAAAAAAAAAAEEAAAAAAAAAAAAAAAAAAAAAAAAAAAAAAAAAAAAAAAAAAAAAAAAAAAAAAAAAAAAAAAAAAAAAAAAAAAAAAAAAAAAAAAAAAAAAAAAAAAAAAAAAAAAAAAAAAAAAAAAAAAAAAAAAAAAAAAAAAAAAAAAAAAAAAAAAAAAAAAAAAAAAAAAAAAAAAAAAAAAAAAAAAAAAAAAAAAAAAAADwPwAAAAAAAAAAAAAAAAAAAAAAAAAAAAAAAAAAAAAAAAAAAAAAAAAAAAAAAAAAAADwPwAAAAAAAPA/AAAAAAAAAAAAAAAAAADwPwAAAAAAAPA/AAAAAAAAAAAAAAAAAAAAAAAAAAAAAAAAAAAAAAAAKEAAAAAAAAAAAAAAAAAAAAAAAAAAAAAAAAAAAAAAAAAAAAAAAAAAAAAAAAAAAAAAAAAAAAAAAAAAAAAAAAAAAAAAAAAAAAAAAAAAAAAAAAAAAAAAAAAAAAAAAAAAAAAAAAAAAAAAAAAAAAAAAAAAAAAAAAAAAAAAAAAAAAAAAAAAAAAAAAAAAAAAAAAAAAAACEAAAAAAAAAAAAAAAAAAAAAAAAAAAAAAAAAAAAAAAAAAAAAAAAAAAAAAAAAAAAAAAAAAAAAAAAAAAAAAAAAAAAAAAAAAAAAAAAAAAAAAAAAAAA==\",\"dtype\":\"float64\",\"order\":\"little\",\"shape\":[137]}},\"selected\":{\"id\":\"1153\"},\"selection_policy\":{\"id\":\"1152\"}},\"id\":\"1139\",\"type\":\"ColumnDataSource\"},{\"attributes\":{\"line_color\":\"#1f77b4\",\"x\":{\"field\":\"x\"},\"y\":{\"field\":\"y\"}},\"id\":\"1140\",\"type\":\"Line\"},{\"attributes\":{},\"id\":\"1123\",\"type\":\"PanTool\"},{\"attributes\":{\"coordinates\":null,\"data_source\":{\"id\":\"1139\"},\"glyph\":{\"id\":\"1140\"},\"group\":null,\"hover_glyph\":null,\"muted_glyph\":{\"id\":\"1142\"},\"nonselection_glyph\":{\"id\":\"1141\"},\"view\":{\"id\":\"1144\"}},\"id\":\"1143\",\"type\":\"GlyphRenderer\"},{\"attributes\":{},\"id\":\"1148\",\"type\":\"AllLabels\"},{\"attributes\":{},\"id\":\"1111\",\"type\":\"LinearScale\"},{\"attributes\":{},\"id\":\"1113\",\"type\":\"LinearScale\"},{\"attributes\":{},\"id\":\"1120\",\"type\":\"BasicTicker\"}],\"root_ids\":[\"1104\"]},\"title\":\"Bokeh Application\",\"version\":\"2.4.3\"}};\n",
       "  const render_items = [{\"docid\":\"5ca47f2d-15c0-4388-a009-9655a541b9df\",\"root_ids\":[\"1104\"],\"roots\":{\"1104\":\"6be0a8ae-3f86-47c6-9e46-3803b36ac8bd\"}}];\n",
       "  root.Bokeh.embed.embed_items_notebook(docs_json, render_items);\n",
       "  }\n",
       "  if (root.Bokeh !== undefined) {\n",
       "    embed_document(root);\n",
       "  } else {\n",
       "    let attempts = 0;\n",
       "    const timer = setInterval(function(root) {\n",
       "      if (root.Bokeh !== undefined) {\n",
       "        clearInterval(timer);\n",
       "        embed_document(root);\n",
       "      } else {\n",
       "        attempts++;\n",
       "        if (attempts > 100) {\n",
       "          clearInterval(timer);\n",
       "          console.log(\"Bokeh: ERROR: Unable to run BokehJS code because BokehJS library is missing\");\n",
       "        }\n",
       "      }\n",
       "    }, 10, root)\n",
       "  }\n",
       "})(window);"
      ],
      "application/vnd.bokehjs_exec.v0+json": ""
     },
     "metadata": {
      "application/vnd.bokehjs_exec.v0+json": {
       "id": "1104"
      }
     },
     "output_type": "display_data"
    }
   ],
   "source": [
    "daily_views = df.pivot_table(values='Views', index='Date', columns='Version', aggfunc='sum')[['stable', 'latest']].fillna(0)\n",
    "\n",
    "p = figure(x_axis_type=\"datetime\", height=350, title=f\"Daily views by RTD version\")\n",
    "hover_tool = HoverTool(tooltips=[('Date', '@x{%Y-%m-%d}'), ('Views', '@y')],\n",
    "                       formatters={'@x': 'datetime'})\n",
    "hover_tool.point_policy = 'snap_to_data'\n",
    "p.add_tools(hover_tool)\n",
    "p.line(daily_views.index, daily_views['stable'], legend_label='stable')\n",
    "p.line(daily_views.index, daily_views['latest'], legend_label='latest', color='#ff7f0e')\n",
    "p.yaxis.axis_label = 'Daily page views'\n",
    "show(p)"
   ]
  },
  {
   "cell_type": "code",
   "execution_count": 6,
   "id": "c8ff8f63-726a-4c45-855c-0f268f72454e",
   "metadata": {
    "execution": {
     "iopub.execute_input": "2023-02-17T21:39:15.194164Z",
     "iopub.status.busy": "2023-02-17T21:39:15.193800Z",
     "iopub.status.idle": "2023-02-17T21:39:15.199755Z",
     "shell.execute_reply": "2023-02-17T21:39:15.199134Z"
    }
   },
   "outputs": [],
   "source": [
    "df2 = df.loc[(df['Version'] == 'latest'), :].copy()\n",
    "pathviews = df2.groupby('Path')['Views'].sum().reset_index()"
   ]
  },
  {
   "cell_type": "code",
   "execution_count": 7,
   "id": "c03ced61-75e9-4e63-a87a-07c27adf77b2",
   "metadata": {
    "execution": {
     "iopub.execute_input": "2023-02-17T21:39:15.202077Z",
     "iopub.status.busy": "2023-02-17T21:39:15.201728Z",
     "iopub.status.idle": "2023-02-17T21:39:15.258171Z",
     "shell.execute_reply": "2023-02-17T21:39:15.257565Z"
    }
   },
   "outputs": [
    {
     "data": {
      "text/html": [
       "\n",
       "  <div class=\"bk-root\" id=\"f7b34300-ee44-44c8-b187-f8cdb859b42a\" data-root-id=\"1354\"></div>\n"
      ]
     },
     "metadata": {},
     "output_type": "display_data"
    },
    {
     "data": {
      "application/javascript": [
       "(function(root) {\n",
       "  function embed_document(root) {\n",
       "  const docs_json = {\"b1e256e8-55b5-4988-a1fb-6611bee13324\":{\"defs\":[],\"roots\":{\"references\":[{\"attributes\":{\"below\":[{\"id\":\"1365\"}],\"center\":[{\"id\":\"1368\"},{\"id\":\"1371\"}],\"height\":400,\"left\":[{\"id\":\"1369\"}],\"renderers\":[{\"id\":\"1393\"}],\"title\":{\"id\":\"1355\"},\"toolbar\":{\"id\":\"1380\"},\"x_range\":{\"id\":\"1357\"},\"x_scale\":{\"id\":\"1361\"},\"y_range\":{\"id\":\"1359\"},\"y_scale\":{\"id\":\"1363\"}},\"id\":\"1354\",\"subtype\":\"Figure\",\"type\":\"Plot\"},{\"attributes\":{},\"id\":\"1435\",\"type\":\"AllLabels\"},{\"attributes\":{\"axis\":{\"id\":\"1369\"},\"coordinates\":null,\"dimension\":1,\"group\":null,\"ticker\":null},\"id\":\"1371\",\"type\":\"Grid\"},{\"attributes\":{\"callback\":null,\"tooltips\":[[\"URL\",\"@Path\"],[\"Views\",\"@Views\"]]},\"id\":\"1379\",\"type\":\"HoverTool\"},{\"attributes\":{\"bottom_units\":\"screen\",\"coordinates\":null,\"fill_alpha\":0.5,\"fill_color\":\"lightgrey\",\"group\":null,\"left_units\":\"screen\",\"level\":\"overlay\",\"line_alpha\":1.0,\"line_color\":\"black\",\"line_dash\":[4,4],\"line_width\":2,\"right_units\":\"screen\",\"syncable\":false,\"top_units\":\"screen\"},\"id\":\"1378\",\"type\":\"BoxAnnotation\"},{\"attributes\":{\"tools\":[{\"id\":\"1372\"},{\"id\":\"1373\"},{\"id\":\"1374\"},{\"id\":\"1375\"},{\"id\":\"1376\"},{\"id\":\"1377\"},{\"id\":\"1379\"}]},\"id\":\"1380\",\"type\":\"Toolbar\"},{\"attributes\":{\"axis_label\":\"Total page views\",\"coordinates\":null,\"formatter\":{\"id\":\"1434\"},\"group\":null,\"major_label_policy\":{\"id\":\"1435\"},\"ticker\":{\"id\":\"1366\"}},\"id\":\"1365\",\"type\":\"LinearAxis\"},{\"attributes\":{},\"id\":\"1361\",\"type\":\"LinearScale\"},{\"attributes\":{},\"id\":\"1373\",\"type\":\"WheelZoomTool\"},{\"attributes\":{},\"id\":\"1436\",\"type\":\"UnionRenderers\"},{\"attributes\":{},\"id\":\"1437\",\"type\":\"Selection\"},{\"attributes\":{\"coordinates\":null,\"formatter\":{\"id\":\"1431\"},\"group\":null,\"major_label_policy\":{\"id\":\"1432\"},\"ticker\":{\"id\":\"1370\"}},\"id\":\"1369\",\"type\":\"CategoricalAxis\"},{\"attributes\":{\"fill_color\":{\"value\":\"#1f77b4\"},\"height\":{\"value\":0.75},\"line_color\":{\"value\":\"white\"},\"right\":{\"field\":\"Views\"},\"y\":{\"field\":\"Path\"}},\"id\":\"1390\",\"type\":\"HBar\"},{\"attributes\":{\"data\":{\"Path\":[\"/index.html\",\"/data.html\",\"/package_overview.html\",\"/installation.html\",\"/api.html\",\"/whatsnew.html\",\"/contributing.html\",\"/_modules/PV_ICE/main.html\",\"/search.html\",\"/py-modindex.html\",\"/genindex.html\"],\"Views\":[158,109,87,52,48,25,23,7,6,2,1],\"index\":[5,3,7,6,1,10,2,0,9,8,4]},\"selected\":{\"id\":\"1437\"},\"selection_policy\":{\"id\":\"1436\"}},\"id\":\"1388\",\"type\":\"ColumnDataSource\"},{\"attributes\":{},\"id\":\"1375\",\"type\":\"SaveTool\"},{\"attributes\":{},\"id\":\"1370\",\"type\":\"CategoricalTicker\"},{\"attributes\":{\"overlay\":{\"id\":\"1378\"}},\"id\":\"1374\",\"type\":\"BoxZoomTool\"},{\"attributes\":{},\"id\":\"1376\",\"type\":\"ResetTool\"},{\"attributes\":{},\"id\":\"1372\",\"type\":\"PanTool\"},{\"attributes\":{},\"id\":\"1366\",\"type\":\"BasicTicker\"},{\"attributes\":{\"fill_alpha\":{\"value\":0.1},\"fill_color\":{\"value\":\"#1f77b4\"},\"hatch_alpha\":{\"value\":0.1},\"height\":{\"value\":0.75},\"line_alpha\":{\"value\":0.1},\"line_color\":{\"value\":\"white\"},\"right\":{\"field\":\"Views\"},\"y\":{\"field\":\"Path\"}},\"id\":\"1391\",\"type\":\"HBar\"},{\"attributes\":{\"factors\":[\"/index.html\",\"/data.html\",\"/package_overview.html\",\"/installation.html\",\"/api.html\",\"/whatsnew.html\",\"/contributing.html\",\"/_modules/PV_ICE/main.html\",\"/search.html\",\"/py-modindex.html\",\"/genindex.html\"]},\"id\":\"1359\",\"type\":\"FactorRange\"},{\"attributes\":{},\"id\":\"1377\",\"type\":\"HelpTool\"},{\"attributes\":{\"axis\":{\"id\":\"1365\"},\"coordinates\":null,\"group\":null,\"ticker\":null},\"id\":\"1368\",\"type\":\"Grid\"},{\"attributes\":{\"source\":{\"id\":\"1388\"}},\"id\":\"1394\",\"type\":\"CDSView\"},{\"attributes\":{\"coordinates\":null,\"data_source\":{\"id\":\"1388\"},\"glyph\":{\"id\":\"1390\"},\"group\":null,\"hover_glyph\":null,\"muted_glyph\":{\"id\":\"1392\"},\"nonselection_glyph\":{\"id\":\"1391\"},\"view\":{\"id\":\"1394\"}},\"id\":\"1393\",\"type\":\"GlyphRenderer\"},{\"attributes\":{\"fill_alpha\":{\"value\":0.2},\"fill_color\":{\"value\":\"#1f77b4\"},\"hatch_alpha\":{\"value\":0.2},\"height\":{\"value\":0.75},\"line_alpha\":{\"value\":0.2},\"line_color\":{\"value\":\"white\"},\"right\":{\"field\":\"Views\"},\"y\":{\"field\":\"Path\"}},\"id\":\"1392\",\"type\":\"HBar\"},{\"attributes\":{},\"id\":\"1431\",\"type\":\"CategoricalTickFormatter\"},{\"attributes\":{},\"id\":\"1363\",\"type\":\"CategoricalScale\"},{\"attributes\":{\"coordinates\":null,\"group\":null,\"text\":\"Views by URL (2022-08-31 to 2023-02-17)\"},\"id\":\"1355\",\"type\":\"Title\"},{\"attributes\":{},\"id\":\"1432\",\"type\":\"AllLabels\"},{\"attributes\":{},\"id\":\"1434\",\"type\":\"BasicTickFormatter\"},{\"attributes\":{},\"id\":\"1357\",\"type\":\"DataRange1d\"}],\"root_ids\":[\"1354\"]},\"title\":\"Bokeh Application\",\"version\":\"2.4.3\"}};\n",
       "  const render_items = [{\"docid\":\"b1e256e8-55b5-4988-a1fb-6611bee13324\",\"root_ids\":[\"1354\"],\"roots\":{\"1354\":\"f7b34300-ee44-44c8-b187-f8cdb859b42a\"}}];\n",
       "  root.Bokeh.embed.embed_items_notebook(docs_json, render_items);\n",
       "  }\n",
       "  if (root.Bokeh !== undefined) {\n",
       "    embed_document(root);\n",
       "  } else {\n",
       "    let attempts = 0;\n",
       "    const timer = setInterval(function(root) {\n",
       "      if (root.Bokeh !== undefined) {\n",
       "        clearInterval(timer);\n",
       "        embed_document(root);\n",
       "      } else {\n",
       "        attempts++;\n",
       "        if (attempts > 100) {\n",
       "          clearInterval(timer);\n",
       "          console.log(\"Bokeh: ERROR: Unable to run BokehJS code because BokehJS library is missing\");\n",
       "        }\n",
       "      }\n",
       "    }, 10, root)\n",
       "  }\n",
       "})(window);"
      ],
      "application/vnd.bokehjs_exec.v0+json": ""
     },
     "metadata": {
      "application/vnd.bokehjs_exec.v0+json": {
       "id": "1354"
      }
     },
     "output_type": "display_data"
    }
   ],
   "source": [
    "subset = pathviews.sort_values('Views', ascending=False)\n",
    "p = figure(y_range=subset['Path'], height=400, tooltips=[(\"URL\", \"@Path\"), (\"Views\", \"@Views\")],\n",
    "           title=f\"Views by URL ({data_period})\")\n",
    "p.hbar(y='Path', right='Views', source=subset, height=0.75,\n",
    "       line_color='white')\n",
    "p.xaxis.axis_label = 'Total page views'\n",
    "show(p)"
   ]
  },
  {
   "cell_type": "markdown",
   "id": "1db589f7-ccf2-435e-9d2d-409251dd9dc3",
   "metadata": {},
   "source": [
    "## GitHub"
   ]
  },
  {
   "cell_type": "code",
   "execution_count": 8,
   "id": "0a7abd61-24ed-46e1-9686-4af7333fbf76",
   "metadata": {
    "execution": {
     "iopub.execute_input": "2023-02-17T21:39:15.261233Z",
     "iopub.status.busy": "2023-02-17T21:39:15.260670Z",
     "iopub.status.idle": "2023-02-17T21:39:15.570695Z",
     "shell.execute_reply": "2023-02-17T21:39:15.570043Z"
    }
   },
   "outputs": [],
   "source": [
    "gh = utils.get_github_stars('nrel/PV_ICE')"
   ]
  },
  {
   "cell_type": "code",
   "execution_count": 9,
   "id": "23ab6b53-3aa0-4912-a1e9-a72af06fa48e",
   "metadata": {
    "execution": {
     "iopub.execute_input": "2023-02-17T21:39:15.574117Z",
     "iopub.status.busy": "2023-02-17T21:39:15.573697Z",
     "iopub.status.idle": "2023-02-17T21:39:15.650585Z",
     "shell.execute_reply": "2023-02-17T21:39:15.649945Z"
    }
   },
   "outputs": [
    {
     "data": {
      "text/html": [
       "\n",
       "  <div class=\"bk-root\" id=\"05ab3180-fd52-42ea-8e3a-6ff4a3fa9013\" data-root-id=\"1489\"></div>\n"
      ]
     },
     "metadata": {},
     "output_type": "display_data"
    },
    {
     "data": {
      "application/javascript": [
       "(function(root) {\n",
       "  function embed_document(root) {\n",
       "  const docs_json = {\"1f7f09c0-3435-4adb-b991-bf6e82dd9b05\":{\"defs\":[],\"roots\":{\"references\":[{\"attributes\":{\"below\":[{\"id\":\"1498\"}],\"center\":[{\"id\":\"1501\"},{\"id\":\"1505\"}],\"height\":350,\"left\":[{\"id\":\"1502\"}],\"renderers\":[{\"id\":\"1526\"}],\"title\":{\"id\":\"1572\"},\"toolbar\":{\"id\":\"1513\"},\"x_range\":{\"id\":\"1490\"},\"x_scale\":{\"id\":\"1494\"},\"y_range\":{\"id\":\"1492\"},\"y_scale\":{\"id\":\"1496\"}},\"id\":\"1489\",\"subtype\":\"Figure\",\"type\":\"Plot\"},{\"attributes\":{\"days\":[1,8,15,22]},\"id\":\"1588\",\"type\":\"DaysTicker\"},{\"attributes\":{\"months\":[0,6]},\"id\":\"1593\",\"type\":\"MonthsTicker\"},{\"attributes\":{\"months\":[0,2,4,6,8,10]},\"id\":\"1591\",\"type\":\"MonthsTicker\"},{\"attributes\":{},\"id\":\"1580\",\"type\":\"UnionRenderers\"},{\"attributes\":{\"months\":[0,4,8]},\"id\":\"1592\",\"type\":\"MonthsTicker\"},{\"attributes\":{},\"id\":\"1581\",\"type\":\"Selection\"},{\"attributes\":{\"data\":{\"x\":{\"__ndarray__\":\"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\",\"dtype\":\"float64\",\"order\":\"little\",\"shape\":[973]},\"y\":{\"__ndarray__\":\"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\",\"dtype\":\"float64\",\"order\":\"little\",\"shape\":[973]}},\"selected\":{\"id\":\"1581\"},\"selection_policy\":{\"id\":\"1580\"}},\"id\":\"1522\",\"type\":\"ColumnDataSource\"},{\"attributes\":{},\"id\":\"1490\",\"type\":\"DataRange1d\"},{\"attributes\":{\"bottom_units\":\"screen\",\"coordinates\":null,\"fill_alpha\":0.5,\"fill_color\":\"lightgrey\",\"group\":null,\"left_units\":\"screen\",\"level\":\"overlay\",\"line_alpha\":1.0,\"line_color\":\"black\",\"line_dash\":[4,4],\"line_width\":2,\"right_units\":\"screen\",\"syncable\":false,\"top_units\":\"screen\"},\"id\":\"1512\",\"type\":\"BoxAnnotation\"},{\"attributes\":{\"axis_label\":\"Total Stars\",\"coordinates\":null,\"formatter\":{\"id\":\"1575\"},\"group\":null,\"major_label_policy\":{\"id\":\"1576\"},\"ticker\":{\"id\":\"1503\"}},\"id\":\"1502\",\"type\":\"LinearAxis\"},{\"attributes\":{},\"id\":\"1576\",\"type\":\"AllLabels\"},{\"attributes\":{\"source\":{\"id\":\"1522\"}},\"id\":\"1527\",\"type\":\"CDSView\"},{\"attributes\":{\"line_alpha\":0.2,\"line_color\":\"#1f77b4\",\"x\":{\"field\":\"x\"},\"y\":{\"field\":\"y\"}},\"id\":\"1525\",\"type\":\"Line\"},{\"attributes\":{},\"id\":\"1494\",\"type\":\"LinearScale\"},{\"attributes\":{},\"id\":\"1579\",\"type\":\"AllLabels\"},{\"attributes\":{\"coordinates\":null,\"data_source\":{\"id\":\"1522\"},\"glyph\":{\"id\":\"1523\"},\"group\":null,\"hover_glyph\":null,\"muted_glyph\":{\"id\":\"1525\"},\"nonselection_glyph\":{\"id\":\"1524\"},\"view\":{\"id\":\"1527\"}},\"id\":\"1526\",\"type\":\"GlyphRenderer\"},{\"attributes\":{\"num_minor_ticks\":5,\"tickers\":[{\"id\":\"1583\"},{\"id\":\"1584\"},{\"id\":\"1585\"},{\"id\":\"1586\"},{\"id\":\"1587\"},{\"id\":\"1588\"},{\"id\":\"1589\"},{\"id\":\"1590\"},{\"id\":\"1591\"},{\"id\":\"1592\"},{\"id\":\"1593\"},{\"id\":\"1594\"}]},\"id\":\"1499\",\"type\":\"DatetimeTicker\"},{\"attributes\":{\"days\":[1,4,7,10,13,16,19,22,25,28]},\"id\":\"1587\",\"type\":\"DaysTicker\"},{\"attributes\":{\"line_alpha\":0.1,\"line_color\":\"#1f77b4\",\"x\":{\"field\":\"x\"},\"y\":{\"field\":\"y\"}},\"id\":\"1524\",\"type\":\"Line\"},{\"attributes\":{},\"id\":\"1507\",\"type\":\"WheelZoomTool\"},{\"attributes\":{},\"id\":\"1496\",\"type\":\"LinearScale\"},{\"attributes\":{\"line_color\":\"#1f77b4\",\"x\":{\"field\":\"x\"},\"y\":{\"field\":\"y\"}},\"id\":\"1523\",\"type\":\"Line\"},{\"attributes\":{},\"id\":\"1575\",\"type\":\"BasicTickFormatter\"},{\"attributes\":{\"coordinates\":null,\"group\":null},\"id\":\"1572\",\"type\":\"Title\"},{\"attributes\":{\"axis_label\":\"Date\",\"coordinates\":null,\"formatter\":{\"id\":\"1578\"},\"group\":null,\"major_label_policy\":{\"id\":\"1579\"},\"ticker\":{\"id\":\"1499\"}},\"id\":\"1498\",\"type\":\"DatetimeAxis\"},{\"attributes\":{\"axis\":{\"id\":\"1502\"},\"coordinates\":null,\"dimension\":1,\"group\":null,\"ticker\":null},\"id\":\"1505\",\"type\":\"Grid\"},{\"attributes\":{},\"id\":\"1506\",\"type\":\"PanTool\"},{\"attributes\":{\"mantissas\":[1,2,5],\"max_interval\":500.0,\"num_minor_ticks\":0},\"id\":\"1583\",\"type\":\"AdaptiveTicker\"},{\"attributes\":{},\"id\":\"1511\",\"type\":\"HelpTool\"},{\"attributes\":{},\"id\":\"1503\",\"type\":\"BasicTicker\"},{\"attributes\":{},\"id\":\"1509\",\"type\":\"SaveTool\"},{\"attributes\":{},\"id\":\"1578\",\"type\":\"DatetimeTickFormatter\"},{\"attributes\":{\"overlay\":{\"id\":\"1512\"}},\"id\":\"1508\",\"type\":\"BoxZoomTool\"},{\"attributes\":{\"base\":60,\"mantissas\":[1,2,5,10,15,20,30],\"max_interval\":1800000.0,\"min_interval\":1000.0,\"num_minor_ticks\":0},\"id\":\"1584\",\"type\":\"AdaptiveTicker\"},{\"attributes\":{\"callback\":null,\"formatters\":{\"@x\":\"datetime\"},\"tooltips\":[[\"Date\",\"@x{%Y-%m-%d}\"],[\"Total Stars\",\"@y\"]]},\"id\":\"1520\",\"type\":\"HoverTool\"},{\"attributes\":{\"tools\":[{\"id\":\"1506\"},{\"id\":\"1507\"},{\"id\":\"1508\"},{\"id\":\"1509\"},{\"id\":\"1510\"},{\"id\":\"1511\"},{\"id\":\"1520\"}]},\"id\":\"1513\",\"type\":\"Toolbar\"},{\"attributes\":{\"base\":24,\"mantissas\":[1,2,4,6,8,12],\"max_interval\":43200000.0,\"min_interval\":3600000.0,\"num_minor_ticks\":0},\"id\":\"1585\",\"type\":\"AdaptiveTicker\"},{\"attributes\":{},\"id\":\"1594\",\"type\":\"YearsTicker\"},{\"attributes\":{},\"id\":\"1510\",\"type\":\"ResetTool\"},{\"attributes\":{\"months\":[0,1,2,3,4,5,6,7,8,9,10,11]},\"id\":\"1590\",\"type\":\"MonthsTicker\"},{\"attributes\":{\"days\":[1,15]},\"id\":\"1589\",\"type\":\"DaysTicker\"},{\"attributes\":{\"days\":[1,2,3,4,5,6,7,8,9,10,11,12,13,14,15,16,17,18,19,20,21,22,23,24,25,26,27,28,29,30,31]},\"id\":\"1586\",\"type\":\"DaysTicker\"},{\"attributes\":{\"axis\":{\"id\":\"1498\"},\"coordinates\":null,\"group\":null,\"ticker\":null},\"id\":\"1501\",\"type\":\"Grid\"},{\"attributes\":{},\"id\":\"1492\",\"type\":\"DataRange1d\"}],\"root_ids\":[\"1489\"]},\"title\":\"Bokeh Application\",\"version\":\"2.4.3\"}};\n",
       "  const render_items = [{\"docid\":\"1f7f09c0-3435-4adb-b991-bf6e82dd9b05\",\"root_ids\":[\"1489\"],\"roots\":{\"1489\":\"05ab3180-fd52-42ea-8e3a-6ff4a3fa9013\"}}];\n",
       "  root.Bokeh.embed.embed_items_notebook(docs_json, render_items);\n",
       "  }\n",
       "  if (root.Bokeh !== undefined) {\n",
       "    embed_document(root);\n",
       "  } else {\n",
       "    let attempts = 0;\n",
       "    const timer = setInterval(function(root) {\n",
       "      if (root.Bokeh !== undefined) {\n",
       "        clearInterval(timer);\n",
       "        embed_document(root);\n",
       "      } else {\n",
       "        attempts++;\n",
       "        if (attempts > 100) {\n",
       "          clearInterval(timer);\n",
       "          console.log(\"Bokeh: ERROR: Unable to run BokehJS code because BokehJS library is missing\");\n",
       "        }\n",
       "      }\n",
       "    }, 10, root)\n",
       "  }\n",
       "})(window);"
      ],
      "application/vnd.bokehjs_exec.v0+json": ""
     },
     "metadata": {
      "application/vnd.bokehjs_exec.v0+json": {
       "id": "1489"
      }
     },
     "output_type": "display_data"
    }
   ],
   "source": [
    "p = utils.plot_github_stars_timeseries(gh)\n",
    "show(p)"
   ]
  },
  {
   "cell_type": "code",
   "execution_count": 10,
   "id": "2c6f1c8c-09ec-4461-93f2-7493d6fe65c0",
   "metadata": {
    "execution": {
     "iopub.execute_input": "2023-02-17T21:39:15.653652Z",
     "iopub.status.busy": "2023-02-17T21:39:15.653154Z",
     "iopub.status.idle": "2023-02-17T21:40:28.009111Z",
     "shell.execute_reply": "2023-02-17T21:40:28.008516Z"
    }
   },
   "outputs": [
    {
     "data": {
      "text/html": [
       "\n",
       "  <div class=\"bk-root\" id=\"9b812e6a-dbe5-4358-bd85-67b730c42a79\" data-root-id=\"1710\"></div>\n"
      ]
     },
     "metadata": {},
     "output_type": "display_data"
    },
    {
     "data": {
      "application/javascript": [
       "(function(root) {\n",
       "  function embed_document(root) {\n",
       "  const docs_json = {\"d24297e0-a19a-407e-bbe7-276caa387545\":{\"defs\":[],\"roots\":{\"references\":[{\"attributes\":{\"below\":[{\"id\":\"1719\"}],\"center\":[{\"id\":\"1722\"},{\"id\":\"1726\"}],\"height\":350,\"left\":[{\"id\":\"1723\"}],\"renderers\":[{\"id\":\"1747\"}],\"title\":{\"id\":\"1816\"},\"toolbar\":{\"id\":\"1734\"},\"x_range\":{\"id\":\"1711\"},\"x_scale\":{\"id\":\"1715\"},\"y_range\":{\"id\":\"1713\"},\"y_scale\":{\"id\":\"1717\"}},\"id\":\"1710\",\"subtype\":\"Figure\",\"type\":\"Plot\"},{\"attributes\":{},\"id\":\"1838\",\"type\":\"YearsTicker\"},{\"attributes\":{\"months\":[0,1,2,3,4,5,6,7,8,9,10,11]},\"id\":\"1834\",\"type\":\"MonthsTicker\"},{\"attributes\":{\"days\":[1,15]},\"id\":\"1833\",\"type\":\"DaysTicker\"},{\"attributes\":{\"axis\":{\"id\":\"1719\"},\"coordinates\":null,\"group\":null,\"ticker\":null},\"id\":\"1722\",\"type\":\"Grid\"},{\"attributes\":{},\"id\":\"1819\",\"type\":\"BasicTickFormatter\"},{\"attributes\":{},\"id\":\"1822\",\"type\":\"DatetimeTickFormatter\"},{\"attributes\":{\"days\":[1,2,3,4,5,6,7,8,9,10,11,12,13,14,15,16,17,18,19,20,21,22,23,24,25,26,27,28,29,30,31]},\"id\":\"1830\",\"type\":\"DaysTicker\"},{\"attributes\":{\"days\":[1,4,7,10,13,16,19,22,25,28]},\"id\":\"1831\",\"type\":\"DaysTicker\"},{\"attributes\":{\"days\":[1,8,15,22]},\"id\":\"1832\",\"type\":\"DaysTicker\"},{\"attributes\":{\"source\":{\"id\":\"1743\"}},\"id\":\"1748\",\"type\":\"CDSView\"},{\"attributes\":{\"months\":[0,6]},\"id\":\"1837\",\"type\":\"MonthsTicker\"},{\"attributes\":{\"line_alpha\":0.1,\"line_color\":\"#1f77b4\",\"x\":{\"field\":\"x\"},\"y\":{\"field\":\"y\"}},\"id\":\"1745\",\"type\":\"Line\"},{\"attributes\":{\"months\":[0,2,4,6,8,10]},\"id\":\"1835\",\"type\":\"MonthsTicker\"},{\"attributes\":{\"months\":[0,4,8]},\"id\":\"1836\",\"type\":\"MonthsTicker\"},{\"attributes\":{\"tools\":[{\"id\":\"1727\"},{\"id\":\"1728\"},{\"id\":\"1729\"},{\"id\":\"1730\"},{\"id\":\"1731\"},{\"id\":\"1732\"},{\"id\":\"1741\"}]},\"id\":\"1734\",\"type\":\"Toolbar\"},{\"attributes\":{},\"id\":\"1824\",\"type\":\"UnionRenderers\"},{\"attributes\":{},\"id\":\"1717\",\"type\":\"LinearScale\"},{\"attributes\":{},\"id\":\"1711\",\"type\":\"DataRange1d\"},{\"attributes\":{},\"id\":\"1713\",\"type\":\"DataRange1d\"},{\"attributes\":{},\"id\":\"1825\",\"type\":\"Selection\"},{\"attributes\":{},\"id\":\"1728\",\"type\":\"WheelZoomTool\"},{\"attributes\":{},\"id\":\"1732\",\"type\":\"HelpTool\"},{\"attributes\":{\"data\":{\"x\":{\"__ndarray__\":\"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\",\"dtype\":\"float64\",\"order\":\"little\",\"shape\":[842]},\"y\":{\"__ndarray__\":\"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\",\"dtype\":\"float64\",\"order\":\"little\",\"shape\":[842]}},\"selected\":{\"id\":\"1825\"},\"selection_policy\":{\"id\":\"1824\"}},\"id\":\"1743\",\"type\":\"ColumnDataSource\"},{\"attributes\":{\"bottom_units\":\"screen\",\"coordinates\":null,\"fill_alpha\":0.5,\"fill_color\":\"lightgrey\",\"group\":null,\"left_units\":\"screen\",\"level\":\"overlay\",\"line_alpha\":1.0,\"line_color\":\"black\",\"line_dash\":[4,4],\"line_width\":2,\"right_units\":\"screen\",\"syncable\":false,\"top_units\":\"screen\"},\"id\":\"1733\",\"type\":\"BoxAnnotation\"},{\"attributes\":{\"axis_label\":\"Date\",\"coordinates\":null,\"formatter\":{\"id\":\"1822\"},\"group\":null,\"major_label_policy\":{\"id\":\"1823\"},\"ticker\":{\"id\":\"1720\"}},\"id\":\"1719\",\"type\":\"DatetimeAxis\"},{\"attributes\":{},\"id\":\"1823\",\"type\":\"AllLabels\"},{\"attributes\":{\"base\":60,\"mantissas\":[1,2,5,10,15,20,30],\"max_interval\":1800000.0,\"min_interval\":1000.0,\"num_minor_ticks\":0},\"id\":\"1828\",\"type\":\"AdaptiveTicker\"},{\"attributes\":{},\"id\":\"1820\",\"type\":\"AllLabels\"},{\"attributes\":{},\"id\":\"1727\",\"type\":\"PanTool\"},{\"attributes\":{},\"id\":\"1731\",\"type\":\"ResetTool\"},{\"attributes\":{\"callback\":null,\"formatters\":{\"@x\":\"datetime\"},\"tooltips\":[[\"Date\",\"@x{%Y-%m-%d}\"],[\"Total Contributors\",\"@y\"]]},\"id\":\"1741\",\"type\":\"HoverTool\"},{\"attributes\":{},\"id\":\"1724\",\"type\":\"BasicTicker\"},{\"attributes\":{\"line_alpha\":0.2,\"line_color\":\"#1f77b4\",\"x\":{\"field\":\"x\"},\"y\":{\"field\":\"y\"}},\"id\":\"1746\",\"type\":\"Line\"},{\"attributes\":{},\"id\":\"1730\",\"type\":\"SaveTool\"},{\"attributes\":{\"overlay\":{\"id\":\"1733\"}},\"id\":\"1729\",\"type\":\"BoxZoomTool\"},{\"attributes\":{\"coordinates\":null,\"data_source\":{\"id\":\"1743\"},\"glyph\":{\"id\":\"1744\"},\"group\":null,\"hover_glyph\":null,\"muted_glyph\":{\"id\":\"1746\"},\"nonselection_glyph\":{\"id\":\"1745\"},\"view\":{\"id\":\"1748\"}},\"id\":\"1747\",\"type\":\"GlyphRenderer\"},{\"attributes\":{\"coordinates\":null,\"group\":null},\"id\":\"1816\",\"type\":\"Title\"},{\"attributes\":{},\"id\":\"1715\",\"type\":\"LinearScale\"},{\"attributes\":{\"axis\":{\"id\":\"1723\"},\"coordinates\":null,\"dimension\":1,\"group\":null,\"ticker\":null},\"id\":\"1726\",\"type\":\"Grid\"},{\"attributes\":{\"line_color\":\"#1f77b4\",\"x\":{\"field\":\"x\"},\"y\":{\"field\":\"y\"}},\"id\":\"1744\",\"type\":\"Line\"},{\"attributes\":{\"mantissas\":[1,2,5],\"max_interval\":500.0,\"num_minor_ticks\":0},\"id\":\"1827\",\"type\":\"AdaptiveTicker\"},{\"attributes\":{\"num_minor_ticks\":5,\"tickers\":[{\"id\":\"1827\"},{\"id\":\"1828\"},{\"id\":\"1829\"},{\"id\":\"1830\"},{\"id\":\"1831\"},{\"id\":\"1832\"},{\"id\":\"1833\"},{\"id\":\"1834\"},{\"id\":\"1835\"},{\"id\":\"1836\"},{\"id\":\"1837\"},{\"id\":\"1838\"}]},\"id\":\"1720\",\"type\":\"DatetimeTicker\"},{\"attributes\":{\"axis_label\":\"Total Contributors\",\"coordinates\":null,\"formatter\":{\"id\":\"1819\"},\"group\":null,\"major_label_policy\":{\"id\":\"1820\"},\"ticker\":{\"id\":\"1724\"}},\"id\":\"1723\",\"type\":\"LinearAxis\"},{\"attributes\":{\"base\":24,\"mantissas\":[1,2,4,6,8,12],\"max_interval\":43200000.0,\"min_interval\":3600000.0,\"num_minor_ticks\":0},\"id\":\"1829\",\"type\":\"AdaptiveTicker\"}],\"root_ids\":[\"1710\"]},\"title\":\"Bokeh Application\",\"version\":\"2.4.3\"}};\n",
       "  const render_items = [{\"docid\":\"d24297e0-a19a-407e-bbe7-276caa387545\",\"root_ids\":[\"1710\"],\"roots\":{\"1710\":\"9b812e6a-dbe5-4358-bd85-67b730c42a79\"}}];\n",
       "  root.Bokeh.embed.embed_items_notebook(docs_json, render_items);\n",
       "  }\n",
       "  if (root.Bokeh !== undefined) {\n",
       "    embed_document(root);\n",
       "  } else {\n",
       "    let attempts = 0;\n",
       "    const timer = setInterval(function(root) {\n",
       "      if (root.Bokeh !== undefined) {\n",
       "        clearInterval(timer);\n",
       "        embed_document(root);\n",
       "      } else {\n",
       "        attempts++;\n",
       "        if (attempts > 100) {\n",
       "          clearInterval(timer);\n",
       "          console.log(\"Bokeh: ERROR: Unable to run BokehJS code because BokehJS library is missing\");\n",
       "        }\n",
       "      }\n",
       "    }, 10, root)\n",
       "  }\n",
       "})(window);"
      ],
      "application/vnd.bokehjs_exec.v0+json": ""
     },
     "metadata": {
      "application/vnd.bokehjs_exec.v0+json": {
       "id": "1710"
      }
     },
     "output_type": "display_data"
    }
   ],
   "source": [
    "contributor_ts, _ = utils.get_github_contributor_timeseries(\"nrel/pv_ice\")\n",
    "p = utils.plot_github_contributors_timeseries(contributor_ts)\n",
    "show(p)"
   ]
  },
  {
   "cell_type": "code",
   "execution_count": 11,
   "id": "716d8441-9acd-4db2-8266-299293f3d2a5",
   "metadata": {
    "execution": {
     "iopub.execute_input": "2023-02-17T21:40:28.011854Z",
     "iopub.status.busy": "2023-02-17T21:40:28.011354Z",
     "iopub.status.idle": "2023-02-17T21:40:28.399715Z",
     "shell.execute_reply": "2023-02-17T21:40:28.399053Z"
    }
   },
   "outputs": [],
   "source": [
    "contributors = utils.get_github_contributors('nrel/pv_ice')"
   ]
  },
  {
   "cell_type": "code",
   "execution_count": 12,
   "id": "cda1ab1f-ee46-43f9-af73-72829a185829",
   "metadata": {
    "execution": {
     "iopub.execute_input": "2023-02-17T21:40:28.402771Z",
     "iopub.status.busy": "2023-02-17T21:40:28.402398Z",
     "iopub.status.idle": "2023-02-17T21:40:30.133783Z",
     "shell.execute_reply": "2023-02-17T21:40:30.133145Z"
    }
   },
   "outputs": [
    {
     "data": {
      "image/png": "[encoded data removed]",
      "text/plain": [
       "<PIL.Image.Image image mode=RGBA size=645x60>"
      ]
     },
     "execution_count": 12,
     "metadata": {},
     "output_type": "execute_result"
    }
   ],
   "source": [
    "mosaic = utils.make_github_contributors_mosaic(contributors)\n",
    "mosaic"
   ]
  },
  {
   "cell_type": "code",
   "execution_count": null,
   "id": "dd54b334-62c7-4201-b9a2-5690fb43c3d7",
   "metadata": {},
   "outputs": [],
   "source": []
  }
 ],
 "metadata": {
  "kernelspec": {
   "display_name": "Python 3 (ipykernel)",
   "language": "python",
   "name": "python3"
  },
  "language_info": {
   "codemirror_mode": {
    "name": "ipython",
    "version": 3
   },
   "file_extension": ".py",
   "mimetype": "text/x-python",
   "name": "python",
   "nbconvert_exporter": "python",
   "pygments_lexer": "ipython3",
   "version": "3.9.16"
  }
 },
 "nbformat": 4,
 "nbformat_minor": 5
}

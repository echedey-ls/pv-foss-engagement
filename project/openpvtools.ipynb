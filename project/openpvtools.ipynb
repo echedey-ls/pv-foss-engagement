{
 "cells": [
  {
   "cell_type": "markdown",
   "id": "9a51a013-8798-4327-bd2b-5aaf0427cda4",
   "metadata": {},
   "source": [
    "# openpvtools"
   ]
  },
  {
   "cell_type": "code",
   "execution_count": 1,
   "id": "50531b9f-821b-4f17-ae11-535b6241dee6",
   "metadata": {
    "execution": {
     "iopub.execute_input": "2023-04-04T18:32:10.680959Z",
     "iopub.status.busy": "2023-04-04T18:32:10.680323Z",
     "iopub.status.idle": "2023-04-04T18:32:11.240035Z",
     "shell.execute_reply": "2023-04-04T18:32:11.239319Z"
    }
   },
   "outputs": [],
   "source": [
    "import utils\n",
    "from bokeh.plotting import figure, show\n",
    "from bokeh.models import HoverTool\n",
    "from bokeh.io import output_notebook"
   ]
  },
  {
   "cell_type": "code",
   "execution_count": 2,
   "id": "11b65211-a933-4aa2-bc65-e49a22a3d573",
   "metadata": {
    "execution": {
     "iopub.execute_input": "2023-04-04T18:32:11.243566Z",
     "iopub.status.busy": "2023-04-04T18:32:11.243103Z",
     "iopub.status.idle": "2023-04-04T18:32:11.254473Z",
     "shell.execute_reply": "2023-04-04T18:32:11.253906Z"
    }
   },
   "outputs": [
    {
     "data": {
      "text/html": [
       "<div class=\"bk-root\">\n",
       "        <a href=\"https://bokeh.org\" target=\"_blank\" class=\"bk-logo bk-logo-small bk-logo-notebook\"></a>\n",
       "        <span id=\"1002\">Loading BokehJS ...</span>\n",
       "    </div>\n"
      ]
     },
     "metadata": {},
     "output_type": "display_data"
    },
    {
     "data": {
      "application/javascript": [
       "(function(root) {\n",
       "  function now() {\n",
       "    return new Date();\n",
       "  }\n",
       "\n",
       "  const force = true;\n",
       "\n",
       "  if (typeof root._bokeh_onload_callbacks === \"undefined\" || force === true) {\n",
       "    root._bokeh_onload_callbacks = [];\n",
       "    root._bokeh_is_loading = undefined;\n",
       "  }\n",
       "\n",
       "const JS_MIME_TYPE = 'application/javascript';\n",
       "  const HTML_MIME_TYPE = 'text/html';\n",
       "  const EXEC_MIME_TYPE = 'application/vnd.bokehjs_exec.v0+json';\n",
       "  const CLASS_NAME = 'output_bokeh rendered_html';\n",
       "\n",
       "  /**\n",
       "   * Render data to the DOM node\n",
       "   */\n",
       "  function render(props, node) {\n",
       "    const script = document.createElement(\"script\");\n",
       "    node.appendChild(script);\n",
       "  }\n",
       "\n",
       "  /**\n",
       "   * Handle when an output is cleared or removed\n",
       "   */\n",
       "  function handleClearOutput(event, handle) {\n",
       "    const cell = handle.cell;\n",
       "\n",
       "    const id = cell.output_area._bokeh_element_id;\n",
       "    const server_id = cell.output_area._bokeh_server_id;\n",
       "    // Clean up Bokeh references\n",
       "    if (id != null && id in Bokeh.index) {\n",
       "      Bokeh.index[id].model.document.clear();\n",
       "      delete Bokeh.index[id];\n",
       "    }\n",
       "\n",
       "    if (server_id !== undefined) {\n",
       "      // Clean up Bokeh references\n",
       "      const cmd_clean = \"from bokeh.io.state import curstate; print(curstate().uuid_to_server['\" + server_id + \"'].get_sessions()[0].document.roots[0]._id)\";\n",
       "      cell.notebook.kernel.execute(cmd_clean, {\n",
       "        iopub: {\n",
       "          output: function(msg) {\n",
       "            const id = msg.content.text.trim();\n",
       "            if (id in Bokeh.index) {\n",
       "              Bokeh.index[id].model.document.clear();\n",
       "              delete Bokeh.index[id];\n",
       "            }\n",
       "          }\n",
       "        }\n",
       "      });\n",
       "      // Destroy server and session\n",
       "      const cmd_destroy = \"import bokeh.io.notebook as ion; ion.destroy_server('\" + server_id + \"')\";\n",
       "      cell.notebook.kernel.execute(cmd_destroy);\n",
       "    }\n",
       "  }\n",
       "\n",
       "  /**\n",
       "   * Handle when a new output is added\n",
       "   */\n",
       "  function handleAddOutput(event, handle) {\n",
       "    const output_area = handle.output_area;\n",
       "    const output = handle.output;\n",
       "\n",
       "    // limit handleAddOutput to display_data with EXEC_MIME_TYPE content only\n",
       "    if ((output.output_type != \"display_data\") || (!Object.prototype.hasOwnProperty.call(output.data, EXEC_MIME_TYPE))) {\n",
       "      return\n",
       "    }\n",
       "\n",
       "    const toinsert = output_area.element.find(\".\" + CLASS_NAME.split(' ')[0]);\n",
       "\n",
       "    if (output.metadata[EXEC_MIME_TYPE][\"id\"] !== undefined) {\n",
       "      toinsert[toinsert.length - 1].firstChild.textContent = output.data[JS_MIME_TYPE];\n",
       "      // store reference to embed id on output_area\n",
       "      output_area._bokeh_element_id = output.metadata[EXEC_MIME_TYPE][\"id\"];\n",
       "    }\n",
       "    if (output.metadata[EXEC_MIME_TYPE][\"server_id\"] !== undefined) {\n",
       "      const bk_div = document.createElement(\"div\");\n",
       "      bk_div.innerHTML = output.data[HTML_MIME_TYPE];\n",
       "      const script_attrs = bk_div.children[0].attributes;\n",
       "      for (let i = 0; i < script_attrs.length; i++) {\n",
       "        toinsert[toinsert.length - 1].firstChild.setAttribute(script_attrs[i].name, script_attrs[i].value);\n",
       "        toinsert[toinsert.length - 1].firstChild.textContent = bk_div.children[0].textContent\n",
       "      }\n",
       "      // store reference to server id on output_area\n",
       "      output_area._bokeh_server_id = output.metadata[EXEC_MIME_TYPE][\"server_id\"];\n",
       "    }\n",
       "  }\n",
       "\n",
       "  function register_renderer(events, OutputArea) {\n",
       "\n",
       "    function append_mime(data, metadata, element) {\n",
       "      // create a DOM node to render to\n",
       "      const toinsert = this.create_output_subarea(\n",
       "        metadata,\n",
       "        CLASS_NAME,\n",
       "        EXEC_MIME_TYPE\n",
       "      );\n",
       "      this.keyboard_manager.register_events(toinsert);\n",
       "      // Render to node\n",
       "      const props = {data: data, metadata: metadata[EXEC_MIME_TYPE]};\n",
       "      render(props, toinsert[toinsert.length - 1]);\n",
       "      element.append(toinsert);\n",
       "      return toinsert\n",
       "    }\n",
       "\n",
       "    /* Handle when an output is cleared or removed */\n",
       "    events.on('clear_output.CodeCell', handleClearOutput);\n",
       "    events.on('delete.Cell', handleClearOutput);\n",
       "\n",
       "    /* Handle when a new output is added */\n",
       "    events.on('output_added.OutputArea', handleAddOutput);\n",
       "\n",
       "    /**\n",
       "     * Register the mime type and append_mime function with output_area\n",
       "     */\n",
       "    OutputArea.prototype.register_mime_type(EXEC_MIME_TYPE, append_mime, {\n",
       "      /* Is output safe? */\n",
       "      safe: true,\n",
       "      /* Index of renderer in `output_area.display_order` */\n",
       "      index: 0\n",
       "    });\n",
       "  }\n",
       "\n",
       "  // register the mime type if in Jupyter Notebook environment and previously unregistered\n",
       "  if (root.Jupyter !== undefined) {\n",
       "    const events = require('base/js/events');\n",
       "    const OutputArea = require('notebook/js/outputarea').OutputArea;\n",
       "\n",
       "    if (OutputArea.prototype.mime_types().indexOf(EXEC_MIME_TYPE) == -1) {\n",
       "      register_renderer(events, OutputArea);\n",
       "    }\n",
       "  }\n",
       "  if (typeof (root._bokeh_timeout) === \"undefined\" || force === true) {\n",
       "    root._bokeh_timeout = Date.now() + 5000;\n",
       "    root._bokeh_failed_load = false;\n",
       "  }\n",
       "\n",
       "  const NB_LOAD_WARNING = {'data': {'text/html':\n",
       "     \"<div style='background-color: #fdd'>\\n\"+\n",
       "     \"<p>\\n\"+\n",
       "     \"BokehJS does not appear to have successfully loaded. If loading BokehJS from CDN, this \\n\"+\n",
       "     \"may be due to a slow or bad network connection. Possible fixes:\\n\"+\n",
       "     \"</p>\\n\"+\n",
       "     \"<ul>\\n\"+\n",
       "     \"<li>re-rerun `output_notebook()` to attempt to load from CDN again, or</li>\\n\"+\n",
       "     \"<li>use INLINE resources instead, as so:</li>\\n\"+\n",
       "     \"</ul>\\n\"+\n",
       "     \"<code>\\n\"+\n",
       "     \"from bokeh.resources import INLINE\\n\"+\n",
       "     \"output_notebook(resources=INLINE)\\n\"+\n",
       "     \"</code>\\n\"+\n",
       "     \"</div>\"}};\n",
       "\n",
       "  function display_loaded() {\n",
       "    const el = document.getElementById(\"1002\");\n",
       "    if (el != null) {\n",
       "      el.textContent = \"BokehJS is loading...\";\n",
       "    }\n",
       "    if (root.Bokeh !== undefined) {\n",
       "      if (el != null) {\n",
       "        el.textContent = \"BokehJS \" + root.Bokeh.version + \" successfully loaded.\";\n",
       "      }\n",
       "    } else if (Date.now() < root._bokeh_timeout) {\n",
       "      setTimeout(display_loaded, 100)\n",
       "    }\n",
       "  }\n",
       "\n",
       "  function run_callbacks() {\n",
       "    try {\n",
       "      root._bokeh_onload_callbacks.forEach(function(callback) {\n",
       "        if (callback != null)\n",
       "          callback();\n",
       "      });\n",
       "    } finally {\n",
       "      delete root._bokeh_onload_callbacks\n",
       "    }\n",
       "    console.debug(\"Bokeh: all callbacks have finished\");\n",
       "  }\n",
       "\n",
       "  function load_libs(css_urls, js_urls, callback) {\n",
       "    if (css_urls == null) css_urls = [];\n",
       "    if (js_urls == null) js_urls = [];\n",
       "\n",
       "    root._bokeh_onload_callbacks.push(callback);\n",
       "    if (root._bokeh_is_loading > 0) {\n",
       "      console.debug(\"Bokeh: BokehJS is being loaded, scheduling callback at\", now());\n",
       "      return null;\n",
       "    }\n",
       "    if (js_urls == null || js_urls.length === 0) {\n",
       "      run_callbacks();\n",
       "      return null;\n",
       "    }\n",
       "    console.debug(\"Bokeh: BokehJS not loaded, scheduling load and callback at\", now());\n",
       "    root._bokeh_is_loading = css_urls.length + js_urls.length;\n",
       "\n",
       "    function on_load() {\n",
       "      root._bokeh_is_loading--;\n",
       "      if (root._bokeh_is_loading === 0) {\n",
       "        console.debug(\"Bokeh: all BokehJS libraries/stylesheets loaded\");\n",
       "        run_callbacks()\n",
       "      }\n",
       "    }\n",
       "\n",
       "    function on_error(url) {\n",
       "      console.error(\"failed to load \" + url);\n",
       "    }\n",
       "\n",
       "    for (let i = 0; i < css_urls.length; i++) {\n",
       "      const url = css_urls[i];\n",
       "      const element = document.createElement(\"link\");\n",
       "      element.onload = on_load;\n",
       "      element.onerror = on_error.bind(null, url);\n",
       "      element.rel = \"stylesheet\";\n",
       "      element.type = \"text/css\";\n",
       "      element.href = url;\n",
       "      console.debug(\"Bokeh: injecting link tag for BokehJS stylesheet: \", url);\n",
       "      document.body.appendChild(element);\n",
       "    }\n",
       "\n",
       "    for (let i = 0; i < js_urls.length; i++) {\n",
       "      const url = js_urls[i];\n",
       "      const element = document.createElement('script');\n",
       "      element.onload = on_load;\n",
       "      element.onerror = on_error.bind(null, url);\n",
       "      element.async = false;\n",
       "      element.src = url;\n",
       "      console.debug(\"Bokeh: injecting script tag for BokehJS library: \", url);\n",
       "      document.head.appendChild(element);\n",
       "    }\n",
       "  };\n",
       "\n",
       "  function inject_raw_css(css) {\n",
       "    const element = document.createElement(\"style\");\n",
       "    element.appendChild(document.createTextNode(css));\n",
       "    document.body.appendChild(element);\n",
       "  }\n",
       "\n",
       "  const js_urls = [\"https://cdn.bokeh.org/bokeh/release/bokeh-2.4.3.min.js\", \"https://cdn.bokeh.org/bokeh/release/bokeh-gl-2.4.3.min.js\", \"https://cdn.bokeh.org/bokeh/release/bokeh-widgets-2.4.3.min.js\", \"https://cdn.bokeh.org/bokeh/release/bokeh-tables-2.4.3.min.js\", \"https://cdn.bokeh.org/bokeh/release/bokeh-mathjax-2.4.3.min.js\"];\n",
       "  const css_urls = [];\n",
       "\n",
       "  const inline_js = [    function(Bokeh) {\n",
       "      Bokeh.set_log_level(\"info\");\n",
       "    },\n",
       "function(Bokeh) {\n",
       "    }\n",
       "  ];\n",
       "\n",
       "  function run_inline_js() {\n",
       "    if (root.Bokeh !== undefined || force === true) {\n",
       "          for (let i = 0; i < inline_js.length; i++) {\n",
       "      inline_js[i].call(root, root.Bokeh);\n",
       "    }\n",
       "if (force === true) {\n",
       "        display_loaded();\n",
       "      }} else if (Date.now() < root._bokeh_timeout) {\n",
       "      setTimeout(run_inline_js, 100);\n",
       "    } else if (!root._bokeh_failed_load) {\n",
       "      console.log(\"Bokeh: BokehJS failed to load within specified timeout.\");\n",
       "      root._bokeh_failed_load = true;\n",
       "    } else if (force !== true) {\n",
       "      const cell = $(document.getElementById(\"1002\")).parents('.cell').data().cell;\n",
       "      cell.output_area.append_execute_result(NB_LOAD_WARNING)\n",
       "    }\n",
       "  }\n",
       "\n",
       "  if (root._bokeh_is_loading === 0) {\n",
       "    console.debug(\"Bokeh: BokehJS loaded, going straight to plotting\");\n",
       "    run_inline_js();\n",
       "  } else {\n",
       "    load_libs(css_urls, js_urls, function() {\n",
       "      console.debug(\"Bokeh: BokehJS plotting callback run at\", now());\n",
       "      run_inline_js();\n",
       "    });\n",
       "  }\n",
       "}(window));"
      ],
      "application/vnd.bokehjs_load.v0+json": "(function(root) {\n  function now() {\n    return new Date();\n  }\n\n  const force = true;\n\n  if (typeof root._bokeh_onload_callbacks === \"undefined\" || force === true) {\n    root._bokeh_onload_callbacks = [];\n    root._bokeh_is_loading = undefined;\n  }\n\n\n  if (typeof (root._bokeh_timeout) === \"undefined\" || force === true) {\n    root._bokeh_timeout = Date.now() + 5000;\n    root._bokeh_failed_load = false;\n  }\n\n  const NB_LOAD_WARNING = {'data': {'text/html':\n     \"<div style='background-color: #fdd'>\\n\"+\n     \"<p>\\n\"+\n     \"BokehJS does not appear to have successfully loaded. If loading BokehJS from CDN, this \\n\"+\n     \"may be due to a slow or bad network connection. Possible fixes:\\n\"+\n     \"</p>\\n\"+\n     \"<ul>\\n\"+\n     \"<li>re-rerun `output_notebook()` to attempt to load from CDN again, or</li>\\n\"+\n     \"<li>use INLINE resources instead, as so:</li>\\n\"+\n     \"</ul>\\n\"+\n     \"<code>\\n\"+\n     \"from bokeh.resources import INLINE\\n\"+\n     \"output_notebook(resources=INLINE)\\n\"+\n     \"</code>\\n\"+\n     \"</div>\"}};\n\n  function display_loaded() {\n    const el = document.getElementById(\"1002\");\n    if (el != null) {\n      el.textContent = \"BokehJS is loading...\";\n    }\n    if (root.Bokeh !== undefined) {\n      if (el != null) {\n        el.textContent = \"BokehJS \" + root.Bokeh.version + \" successfully loaded.\";\n      }\n    } else if (Date.now() < root._bokeh_timeout) {\n      setTimeout(display_loaded, 100)\n    }\n  }\n\n  function run_callbacks() {\n    try {\n      root._bokeh_onload_callbacks.forEach(function(callback) {\n        if (callback != null)\n          callback();\n      });\n    } finally {\n      delete root._bokeh_onload_callbacks\n    }\n    console.debug(\"Bokeh: all callbacks have finished\");\n  }\n\n  function load_libs(css_urls, js_urls, callback) {\n    if (css_urls == null) css_urls = [];\n    if (js_urls == null) js_urls = [];\n\n    root._bokeh_onload_callbacks.push(callback);\n    if (root._bokeh_is_loading > 0) {\n      console.debug(\"Bokeh: BokehJS is being loaded, scheduling callback at\", now());\n      return null;\n    }\n    if (js_urls == null || js_urls.length === 0) {\n      run_callbacks();\n      return null;\n    }\n    console.debug(\"Bokeh: BokehJS not loaded, scheduling load and callback at\", now());\n    root._bokeh_is_loading = css_urls.length + js_urls.length;\n\n    function on_load() {\n      root._bokeh_is_loading--;\n      if (root._bokeh_is_loading === 0) {\n        console.debug(\"Bokeh: all BokehJS libraries/stylesheets loaded\");\n        run_callbacks()\n      }\n    }\n\n    function on_error(url) {\n      console.error(\"failed to load \" + url);\n    }\n\n    for (let i = 0; i < css_urls.length; i++) {\n      const url = css_urls[i];\n      const element = document.createElement(\"link\");\n      element.onload = on_load;\n      element.onerror = on_error.bind(null, url);\n      element.rel = \"stylesheet\";\n      element.type = \"text/css\";\n      element.href = url;\n      console.debug(\"Bokeh: injecting link tag for BokehJS stylesheet: \", url);\n      document.body.appendChild(element);\n    }\n\n    for (let i = 0; i < js_urls.length; i++) {\n      const url = js_urls[i];\n      const element = document.createElement('script');\n      element.onload = on_load;\n      element.onerror = on_error.bind(null, url);\n      element.async = false;\n      element.src = url;\n      console.debug(\"Bokeh: injecting script tag for BokehJS library: \", url);\n      document.head.appendChild(element);\n    }\n  };\n\n  function inject_raw_css(css) {\n    const element = document.createElement(\"style\");\n    element.appendChild(document.createTextNode(css));\n    document.body.appendChild(element);\n  }\n\n  const js_urls = [\"https://cdn.bokeh.org/bokeh/release/bokeh-2.4.3.min.js\", \"https://cdn.bokeh.org/bokeh/release/bokeh-gl-2.4.3.min.js\", \"https://cdn.bokeh.org/bokeh/release/bokeh-widgets-2.4.3.min.js\", \"https://cdn.bokeh.org/bokeh/release/bokeh-tables-2.4.3.min.js\", \"https://cdn.bokeh.org/bokeh/release/bokeh-mathjax-2.4.3.min.js\"];\n  const css_urls = [];\n\n  const inline_js = [    function(Bokeh) {\n      Bokeh.set_log_level(\"info\");\n    },\nfunction(Bokeh) {\n    }\n  ];\n\n  function run_inline_js() {\n    if (root.Bokeh !== undefined || force === true) {\n          for (let i = 0; i < inline_js.length; i++) {\n      inline_js[i].call(root, root.Bokeh);\n    }\nif (force === true) {\n        display_loaded();\n      }} else if (Date.now() < root._bokeh_timeout) {\n      setTimeout(run_inline_js, 100);\n    } else if (!root._bokeh_failed_load) {\n      console.log(\"Bokeh: BokehJS failed to load within specified timeout.\");\n      root._bokeh_failed_load = true;\n    } else if (force !== true) {\n      const cell = $(document.getElementById(\"1002\")).parents('.cell').data().cell;\n      cell.output_area.append_execute_result(NB_LOAD_WARNING)\n    }\n  }\n\n  if (root._bokeh_is_loading === 0) {\n    console.debug(\"Bokeh: BokehJS loaded, going straight to plotting\");\n    run_inline_js();\n  } else {\n    load_libs(css_urls, js_urls, function() {\n      console.debug(\"Bokeh: BokehJS plotting callback run at\", now());\n      run_inline_js();\n    });\n  }\n}(window));"
     },
     "metadata": {},
     "output_type": "display_data"
    }
   ],
   "source": [
    "output_notebook()"
   ]
  },
  {
   "cell_type": "markdown",
   "id": "dd70b66b-fb79-4952-b1a0-f70cadf531c9",
   "metadata": {},
   "source": [
    "## ReadTheDocs"
   ]
  },
  {
   "cell_type": "code",
   "execution_count": 3,
   "id": "6c7a30e9-97a4-4344-b832-ba526d2836e9",
   "metadata": {
    "execution": {
     "iopub.execute_input": "2023-04-04T18:32:11.257056Z",
     "iopub.status.busy": "2023-04-04T18:32:11.256650Z",
     "iopub.status.idle": "2023-04-04T18:32:11.298651Z",
     "shell.execute_reply": "2023-04-04T18:32:11.297944Z"
    }
   },
   "outputs": [],
   "source": [
    "df = utils.get_rtd_analytics_data('openpvtools')\n",
    "data_period = df['Date'].min().strftime('%Y-%m-%d') + ' to ' + df['Date'].max().strftime('%Y-%m-%d')"
   ]
  },
  {
   "cell_type": "code",
   "execution_count": 4,
   "id": "a8f38d45-b7ff-4a18-872a-ff7fc68a0e0e",
   "metadata": {
    "execution": {
     "iopub.execute_input": "2023-04-04T18:32:11.301966Z",
     "iopub.status.busy": "2023-04-04T18:32:11.301507Z",
     "iopub.status.idle": "2023-04-04T18:32:11.371919Z",
     "shell.execute_reply": "2023-04-04T18:32:11.371254Z"
    }
   },
   "outputs": [
    {
     "data": {
      "text/html": [
       "\n",
       "  <div class=\"bk-root\" id=\"e8595bc0-39dd-437f-ac02-7d0571f0a741\" data-root-id=\"1003\"></div>\n"
      ]
     },
     "metadata": {},
     "output_type": "display_data"
    },
    {
     "data": {
      "application/javascript": [
       "(function(root) {\n",
       "  function embed_document(root) {\n",
       "  const docs_json = {\"01b9856d-848c-4f33-a7f6-69e04da91f8f\":{\"defs\":[],\"roots\":{\"references\":[{\"attributes\":{\"below\":[{\"id\":\"1014\"}],\"center\":[{\"id\":\"1017\"},{\"id\":\"1021\"},{\"id\":\"1066\"}],\"height\":350,\"left\":[{\"id\":\"1018\"}],\"renderers\":[{\"id\":\"1042\"}],\"title\":{\"id\":\"1004\"},\"toolbar\":{\"id\":\"1029\"},\"x_range\":{\"id\":\"1006\"},\"x_scale\":{\"id\":\"1010\"},\"y_range\":{\"id\":\"1008\"},\"y_scale\":{\"id\":\"1012\"}},\"id\":\"1003\",\"subtype\":\"Figure\",\"type\":\"Plot\"},{\"attributes\":{},\"id\":\"1065\",\"type\":\"YearsTicker\"},{\"attributes\":{\"coordinates\":null,\"group\":null,\"items\":[{\"id\":\"1067\"}]},\"id\":\"1066\",\"type\":\"Legend\"},{\"attributes\":{},\"id\":\"1026\",\"type\":\"ResetTool\"},{\"attributes\":{\"line_alpha\":0.2,\"line_color\":\"#1f77b4\",\"x\":{\"field\":\"x\"},\"y\":{\"field\":\"y\"}},\"id\":\"1041\",\"type\":\"Line\"},{\"attributes\":{\"coordinates\":null,\"group\":null,\"text\":\"Daily views by RTD version\"},\"id\":\"1004\",\"type\":\"Title\"},{\"attributes\":{},\"id\":\"1027\",\"type\":\"HelpTool\"},{\"attributes\":{},\"id\":\"1025\",\"type\":\"SaveTool\"},{\"attributes\":{},\"id\":\"1051\",\"type\":\"UnionRenderers\"},{\"attributes\":{\"axis_label\":\"Daily page views\",\"coordinates\":null,\"formatter\":{\"id\":\"1046\"},\"group\":null,\"major_label_policy\":{\"id\":\"1047\"},\"ticker\":{\"id\":\"1019\"}},\"id\":\"1018\",\"type\":\"LinearAxis\"},{\"attributes\":{\"data\":{\"x\":{\"__ndarray__\":\"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\",\"dtype\":\"float64\",\"order\":\"little\",\"shape\":[224]},\"y\":[27,15,18,6,6,20,12,13,11,19,12,21,9,35,15,27,8,11,4,12,30,26,21,17,17,22,20,31,14,7,9,3,17,51,19,10,17,13,8,18,23,16,7,16,16,12,17,17,16,7,15,24,16,16,10,24,6,10,16,12,9,6,12,20,12,14,10,8,25,5,15,35,17,8,17,12,3,22,13,18,9,15,6,11,23,6,24,2,6,9,20,17,9,9,6,20,19,5,15,5,12,9,22,15,11,11,19,25,4,5,9,17,11,10,17,11,2,5,17,6,7,11,14,5,10,4,7,15,3,8,5,13,13,10,25,13,18,11,10,18,9,14,18,12,11,9,18,11,27,21,8,22,9,10,10,8,7,8,13,15,4,21,11,20,18,15,13,11,8,7,9,6,13,18,17,5,31,14,19,7,19,26,10,19,32,8,9,7,40,4,14,8,6,9,19,8,9,5,11,13,15,20,22,12,13,17,5,13,18,15,24,7,17,14,12,24,33,5,16,15,21,12,15,19]},\"selected\":{\"id\":\"1052\"},\"selection_policy\":{\"id\":\"1051\"}},\"id\":\"1038\",\"type\":\"ColumnDataSource\"},{\"attributes\":{\"tools\":[{\"id\":\"1022\"},{\"id\":\"1023\"},{\"id\":\"1024\"},{\"id\":\"1025\"},{\"id\":\"1026\"},{\"id\":\"1027\"},{\"id\":\"1036\"}]},\"id\":\"1029\",\"type\":\"Toolbar\"},{\"attributes\":{},\"id\":\"1019\",\"type\":\"BasicTicker\"},{\"attributes\":{\"overlay\":{\"id\":\"1028\"}},\"id\":\"1024\",\"type\":\"BoxZoomTool\"},{\"attributes\":{\"mantissas\":[1,2,5],\"max_interval\":500.0,\"num_minor_ticks\":0},\"id\":\"1054\",\"type\":\"AdaptiveTicker\"},{\"attributes\":{\"coordinates\":null,\"formatter\":{\"id\":\"1049\"},\"group\":null,\"major_label_policy\":{\"id\":\"1050\"},\"ticker\":{\"id\":\"1015\"}},\"id\":\"1014\",\"type\":\"DatetimeAxis\"},{\"attributes\":{\"axis\":{\"id\":\"1014\"},\"coordinates\":null,\"group\":null,\"ticker\":null},\"id\":\"1017\",\"type\":\"Grid\"},{\"attributes\":{\"num_minor_ticks\":5,\"tickers\":[{\"id\":\"1054\"},{\"id\":\"1055\"},{\"id\":\"1056\"},{\"id\":\"1057\"},{\"id\":\"1058\"},{\"id\":\"1059\"},{\"id\":\"1060\"},{\"id\":\"1061\"},{\"id\":\"1062\"},{\"id\":\"1063\"},{\"id\":\"1064\"},{\"id\":\"1065\"}]},\"id\":\"1015\",\"type\":\"DatetimeTicker\"},{\"attributes\":{},\"id\":\"1012\",\"type\":\"LinearScale\"},{\"attributes\":{\"line_color\":\"#1f77b4\",\"x\":{\"field\":\"x\"},\"y\":{\"field\":\"y\"}},\"id\":\"1039\",\"type\":\"Line\"},{\"attributes\":{\"base\":60,\"mantissas\":[1,2,5,10,15,20,30],\"max_interval\":1800000.0,\"min_interval\":1000.0,\"num_minor_ticks\":0},\"id\":\"1055\",\"type\":\"AdaptiveTicker\"},{\"attributes\":{\"months\":[0,4,8]},\"id\":\"1063\",\"type\":\"MonthsTicker\"},{\"attributes\":{},\"id\":\"1023\",\"type\":\"WheelZoomTool\"},{\"attributes\":{},\"id\":\"1049\",\"type\":\"DatetimeTickFormatter\"},{\"attributes\":{\"months\":[0,6]},\"id\":\"1064\",\"type\":\"MonthsTicker\"},{\"attributes\":{\"line_alpha\":0.1,\"line_color\":\"#1f77b4\",\"x\":{\"field\":\"x\"},\"y\":{\"field\":\"y\"}},\"id\":\"1040\",\"type\":\"Line\"},{\"attributes\":{},\"id\":\"1008\",\"type\":\"DataRange1d\"},{\"attributes\":{},\"id\":\"1047\",\"type\":\"AllLabels\"},{\"attributes\":{\"label\":{\"value\":\"latest\"},\"renderers\":[{\"id\":\"1042\"}]},\"id\":\"1067\",\"type\":\"LegendItem\"},{\"attributes\":{},\"id\":\"1052\",\"type\":\"Selection\"},{\"attributes\":{\"base\":24,\"mantissas\":[1,2,4,6,8,12],\"max_interval\":43200000.0,\"min_interval\":3600000.0,\"num_minor_ticks\":0},\"id\":\"1056\",\"type\":\"AdaptiveTicker\"},{\"attributes\":{\"months\":[0,1,2,3,4,5,6,7,8,9,10,11]},\"id\":\"1061\",\"type\":\"MonthsTicker\"},{\"attributes\":{},\"id\":\"1010\",\"type\":\"LinearScale\"},{\"attributes\":{},\"id\":\"1022\",\"type\":\"PanTool\"},{\"attributes\":{\"days\":[1,15]},\"id\":\"1060\",\"type\":\"DaysTicker\"},{\"attributes\":{\"days\":[1,2,3,4,5,6,7,8,9,10,11,12,13,14,15,16,17,18,19,20,21,22,23,24,25,26,27,28,29,30,31]},\"id\":\"1057\",\"type\":\"DaysTicker\"},{\"attributes\":{},\"id\":\"1050\",\"type\":\"AllLabels\"},{\"attributes\":{},\"id\":\"1046\",\"type\":\"BasicTickFormatter\"},{\"attributes\":{\"source\":{\"id\":\"1038\"}},\"id\":\"1043\",\"type\":\"CDSView\"},{\"attributes\":{\"days\":[1,4,7,10,13,16,19,22,25,28]},\"id\":\"1058\",\"type\":\"DaysTicker\"},{\"attributes\":{\"axis\":{\"id\":\"1018\"},\"coordinates\":null,\"dimension\":1,\"group\":null,\"ticker\":null},\"id\":\"1021\",\"type\":\"Grid\"},{\"attributes\":{\"days\":[1,8,15,22]},\"id\":\"1059\",\"type\":\"DaysTicker\"},{\"attributes\":{\"callback\":null,\"formatters\":{\"@x\":\"datetime\"},\"tooltips\":[[\"Date\",\"@x{%Y-%m-%d}\"],[\"Views\",\"@y\"]]},\"id\":\"1036\",\"type\":\"HoverTool\"},{\"attributes\":{\"bottom_units\":\"screen\",\"coordinates\":null,\"fill_alpha\":0.5,\"fill_color\":\"lightgrey\",\"group\":null,\"left_units\":\"screen\",\"level\":\"overlay\",\"line_alpha\":1.0,\"line_color\":\"black\",\"line_dash\":[4,4],\"line_width\":2,\"right_units\":\"screen\",\"syncable\":false,\"top_units\":\"screen\"},\"id\":\"1028\",\"type\":\"BoxAnnotation\"},{\"attributes\":{\"months\":[0,2,4,6,8,10]},\"id\":\"1062\",\"type\":\"MonthsTicker\"},{\"attributes\":{\"coordinates\":null,\"data_source\":{\"id\":\"1038\"},\"glyph\":{\"id\":\"1039\"},\"group\":null,\"hover_glyph\":null,\"muted_glyph\":{\"id\":\"1041\"},\"nonselection_glyph\":{\"id\":\"1040\"},\"view\":{\"id\":\"1043\"}},\"id\":\"1042\",\"type\":\"GlyphRenderer\"},{\"attributes\":{},\"id\":\"1006\",\"type\":\"DataRange1d\"}],\"root_ids\":[\"1003\"]},\"title\":\"Bokeh Application\",\"version\":\"2.4.3\"}};\n",
       "  const render_items = [{\"docid\":\"01b9856d-848c-4f33-a7f6-69e04da91f8f\",\"root_ids\":[\"1003\"],\"roots\":{\"1003\":\"e8595bc0-39dd-437f-ac02-7d0571f0a741\"}}];\n",
       "  root.Bokeh.embed.embed_items_notebook(docs_json, render_items);\n",
       "  }\n",
       "  if (root.Bokeh !== undefined) {\n",
       "    embed_document(root);\n",
       "  } else {\n",
       "    let attempts = 0;\n",
       "    const timer = setInterval(function(root) {\n",
       "      if (root.Bokeh !== undefined) {\n",
       "        clearInterval(timer);\n",
       "        embed_document(root);\n",
       "      } else {\n",
       "        attempts++;\n",
       "        if (attempts > 100) {\n",
       "          clearInterval(timer);\n",
       "          console.log(\"Bokeh: ERROR: Unable to run BokehJS code because BokehJS library is missing\");\n",
       "        }\n",
       "      }\n",
       "    }, 10, root)\n",
       "  }\n",
       "})(window);"
      ],
      "application/vnd.bokehjs_exec.v0+json": ""
     },
     "metadata": {
      "application/vnd.bokehjs_exec.v0+json": {
       "id": "1003"
      }
     },
     "output_type": "display_data"
    }
   ],
   "source": [
    "daily_views = df.pivot_table(values='Views', index='Date', columns='Version', aggfunc='sum')[['latest']].fillna(0)\n",
    "\n",
    "p = figure(x_axis_type=\"datetime\", height=350, title=f\"Daily views by RTD version\")\n",
    "hover_tool = HoverTool(tooltips=[('Date', '@x{%Y-%m-%d}'), ('Views', '@y')],\n",
    "                       formatters={'@x': 'datetime'})\n",
    "hover_tool.point_policy = 'snap_to_data'\n",
    "p.add_tools(hover_tool)\n",
    "p.line(daily_views.index, daily_views['latest'], legend_label='latest')\n",
    "p.yaxis.axis_label = 'Daily page views'\n",
    "show(p)"
   ]
  },
  {
   "cell_type": "code",
   "execution_count": 5,
   "id": "a0aa3c3b-740c-4a23-86de-08f892141293",
   "metadata": {
    "execution": {
     "iopub.execute_input": "2023-04-04T18:32:11.375026Z",
     "iopub.status.busy": "2023-04-04T18:32:11.374646Z",
     "iopub.status.idle": "2023-04-04T18:32:11.381567Z",
     "shell.execute_reply": "2023-04-04T18:32:11.380987Z"
    }
   },
   "outputs": [],
   "source": [
    "df2 = df.loc[(df['Version'] == 'latest'), :].copy()\n",
    "pathviews = df2.groupby('Path')['Views'].sum().reset_index()"
   ]
  },
  {
   "cell_type": "code",
   "execution_count": 6,
   "id": "f803c329-802f-4b0b-9a2c-01831927facf",
   "metadata": {
    "execution": {
     "iopub.execute_input": "2023-04-04T18:32:11.384152Z",
     "iopub.status.busy": "2023-04-04T18:32:11.383809Z",
     "iopub.status.idle": "2023-04-04T18:32:11.437159Z",
     "shell.execute_reply": "2023-04-04T18:32:11.435917Z"
    }
   },
   "outputs": [
    {
     "data": {
      "text/html": [
       "\n",
       "  <div class=\"bk-root\" id=\"6841c131-c30f-428d-b4b1-63f9ed9b2009\" data-root-id=\"1200\"></div>\n"
      ]
     },
     "metadata": {},
     "output_type": "display_data"
    },
    {
     "data": {
      "application/javascript": [
       "(function(root) {\n",
       "  function embed_document(root) {\n",
       "  const docs_json = {\"247b40ee-4575-427a-be25-509b0068e36e\":{\"defs\":[],\"roots\":{\"references\":[{\"attributes\":{\"below\":[{\"id\":\"1211\"}],\"center\":[{\"id\":\"1214\"},{\"id\":\"1217\"}],\"height\":400,\"left\":[{\"id\":\"1215\"}],\"renderers\":[{\"id\":\"1239\"}],\"title\":{\"id\":\"1201\"},\"toolbar\":{\"id\":\"1226\"},\"x_range\":{\"id\":\"1203\"},\"x_scale\":{\"id\":\"1207\"},\"y_range\":{\"id\":\"1205\"},\"y_scale\":{\"id\":\"1209\"}},\"id\":\"1200\",\"subtype\":\"Figure\",\"type\":\"Plot\"},{\"attributes\":{\"factors\":[\"/index.html\",\"/tools.html\",\"/introduction.html\",\"/funding.html\",\"/challengesopportunities.html\",\"/community.html\",\"/conclusions.html\",\"/references.html\",\"/search.html\"]},\"id\":\"1205\",\"type\":\"FactorRange\"},{\"attributes\":{},\"id\":\"1203\",\"type\":\"DataRange1d\"},{\"attributes\":{},\"id\":\"1221\",\"type\":\"SaveTool\"},{\"attributes\":{\"overlay\":{\"id\":\"1224\"}},\"id\":\"1220\",\"type\":\"BoxZoomTool\"},{\"attributes\":{},\"id\":\"1218\",\"type\":\"PanTool\"},{\"attributes\":{},\"id\":\"1219\",\"type\":\"WheelZoomTool\"},{\"attributes\":{},\"id\":\"1209\",\"type\":\"CategoricalScale\"},{\"attributes\":{\"fill_alpha\":{\"value\":0.2},\"fill_color\":{\"value\":\"#1f77b4\"},\"hatch_alpha\":{\"value\":0.2},\"height\":{\"value\":0.75},\"line_alpha\":{\"value\":0.2},\"line_color\":{\"value\":\"white\"},\"right\":{\"field\":\"Views\"},\"y\":{\"field\":\"Path\"}},\"id\":\"1238\",\"type\":\"HBar\"},{\"attributes\":{\"axis\":{\"id\":\"1211\"},\"coordinates\":null,\"group\":null,\"ticker\":null},\"id\":\"1214\",\"type\":\"Grid\"},{\"attributes\":{},\"id\":\"1212\",\"type\":\"BasicTicker\"},{\"attributes\":{\"bottom_units\":\"screen\",\"coordinates\":null,\"fill_alpha\":0.5,\"fill_color\":\"lightgrey\",\"group\":null,\"left_units\":\"screen\",\"level\":\"overlay\",\"line_alpha\":1.0,\"line_color\":\"black\",\"line_dash\":[4,4],\"line_width\":2,\"right_units\":\"screen\",\"syncable\":false,\"top_units\":\"screen\"},\"id\":\"1224\",\"type\":\"BoxAnnotation\"},{\"attributes\":{\"fill_color\":{\"value\":\"#1f77b4\"},\"height\":{\"value\":0.75},\"line_color\":{\"value\":\"white\"},\"right\":{\"field\":\"Views\"},\"y\":{\"field\":\"Path\"}},\"id\":\"1236\",\"type\":\"HBar\"},{\"attributes\":{},\"id\":\"1265\",\"type\":\"CategoricalTickFormatter\"},{\"attributes\":{\"coordinates\":null,\"data_source\":{\"id\":\"1234\"},\"glyph\":{\"id\":\"1236\"},\"group\":null,\"hover_glyph\":null,\"muted_glyph\":{\"id\":\"1238\"},\"nonselection_glyph\":{\"id\":\"1237\"},\"view\":{\"id\":\"1240\"}},\"id\":\"1239\",\"type\":\"GlyphRenderer\"},{\"attributes\":{},\"id\":\"1207\",\"type\":\"LinearScale\"},{\"attributes\":{},\"id\":\"1266\",\"type\":\"AllLabels\"},{\"attributes\":{\"source\":{\"id\":\"1234\"}},\"id\":\"1240\",\"type\":\"CDSView\"},{\"attributes\":{},\"id\":\"1268\",\"type\":\"BasicTickFormatter\"},{\"attributes\":{},\"id\":\"1222\",\"type\":\"ResetTool\"},{\"attributes\":{},\"id\":\"1269\",\"type\":\"AllLabels\"},{\"attributes\":{\"callback\":null,\"tooltips\":[[\"URL\",\"@Path\"],[\"Views\",\"@Views\"]]},\"id\":\"1225\",\"type\":\"HoverTool\"},{\"attributes\":{},\"id\":\"1223\",\"type\":\"HelpTool\"},{\"attributes\":{\"axis\":{\"id\":\"1215\"},\"coordinates\":null,\"dimension\":1,\"group\":null,\"ticker\":null},\"id\":\"1217\",\"type\":\"Grid\"},{\"attributes\":{\"coordinates\":null,\"formatter\":{\"id\":\"1265\"},\"group\":null,\"major_label_policy\":{\"id\":\"1266\"},\"ticker\":{\"id\":\"1216\"}},\"id\":\"1215\",\"type\":\"CategoricalAxis\"},{\"attributes\":{\"data\":{\"Path\":[\"/index.html\",\"/tools.html\",\"/introduction.html\",\"/funding.html\",\"/challengesopportunities.html\",\"/community.html\",\"/conclusions.html\",\"/references.html\",\"/search.html\"],\"Views\":[1722,549,281,164,114,113,90,86,10],\"index\":[4,8,5,3,0,1,2,6,7]},\"selected\":{\"id\":\"1271\"},\"selection_policy\":{\"id\":\"1270\"}},\"id\":\"1234\",\"type\":\"ColumnDataSource\"},{\"attributes\":{},\"id\":\"1216\",\"type\":\"CategoricalTicker\"},{\"attributes\":{\"tools\":[{\"id\":\"1218\"},{\"id\":\"1219\"},{\"id\":\"1220\"},{\"id\":\"1221\"},{\"id\":\"1222\"},{\"id\":\"1223\"},{\"id\":\"1225\"}]},\"id\":\"1226\",\"type\":\"Toolbar\"},{\"attributes\":{\"fill_alpha\":{\"value\":0.1},\"fill_color\":{\"value\":\"#1f77b4\"},\"hatch_alpha\":{\"value\":0.1},\"height\":{\"value\":0.75},\"line_alpha\":{\"value\":0.1},\"line_color\":{\"value\":\"white\"},\"right\":{\"field\":\"Views\"},\"y\":{\"field\":\"Path\"}},\"id\":\"1237\",\"type\":\"HBar\"},{\"attributes\":{\"coordinates\":null,\"group\":null,\"text\":\"Views by URL (Top 20, 2022-08-24 to 2023-04-04)\"},\"id\":\"1201\",\"type\":\"Title\"},{\"attributes\":{\"axis_label\":\"Total page views\",\"coordinates\":null,\"formatter\":{\"id\":\"1268\"},\"group\":null,\"major_label_policy\":{\"id\":\"1269\"},\"ticker\":{\"id\":\"1212\"}},\"id\":\"1211\",\"type\":\"LinearAxis\"},{\"attributes\":{},\"id\":\"1270\",\"type\":\"UnionRenderers\"},{\"attributes\":{},\"id\":\"1271\",\"type\":\"Selection\"}],\"root_ids\":[\"1200\"]},\"title\":\"Bokeh Application\",\"version\":\"2.4.3\"}};\n",
       "  const render_items = [{\"docid\":\"247b40ee-4575-427a-be25-509b0068e36e\",\"root_ids\":[\"1200\"],\"roots\":{\"1200\":\"6841c131-c30f-428d-b4b1-63f9ed9b2009\"}}];\n",
       "  root.Bokeh.embed.embed_items_notebook(docs_json, render_items);\n",
       "  }\n",
       "  if (root.Bokeh !== undefined) {\n",
       "    embed_document(root);\n",
       "  } else {\n",
       "    let attempts = 0;\n",
       "    const timer = setInterval(function(root) {\n",
       "      if (root.Bokeh !== undefined) {\n",
       "        clearInterval(timer);\n",
       "        embed_document(root);\n",
       "      } else {\n",
       "        attempts++;\n",
       "        if (attempts > 100) {\n",
       "          clearInterval(timer);\n",
       "          console.log(\"Bokeh: ERROR: Unable to run BokehJS code because BokehJS library is missing\");\n",
       "        }\n",
       "      }\n",
       "    }, 10, root)\n",
       "  }\n",
       "})(window);"
      ],
      "application/vnd.bokehjs_exec.v0+json": ""
     },
     "metadata": {
      "application/vnd.bokehjs_exec.v0+json": {
       "id": "1200"
      }
     },
     "output_type": "display_data"
    }
   ],
   "source": [
    "n = 20\n",
    "subset = pathviews.sort_values('Views', ascending=False)[:n]\n",
    "p = figure(y_range=subset['Path'], height=400, tooltips=[(\"URL\", \"@Path\"), (\"Views\", \"@Views\")],\n",
    "           title=f\"Views by URL (Top {n}, {data_period})\")\n",
    "p.hbar(y='Path', right='Views', source=subset, height=0.75,\n",
    "       line_color='white')\n",
    "p.xaxis.axis_label = 'Total page views'\n",
    "show(p)"
   ]
  },
  {
   "cell_type": "markdown",
   "id": "67303943-1c9a-435b-9927-a83ecb581000",
   "metadata": {},
   "source": [
    "## GitHub"
   ]
  },
  {
   "cell_type": "code",
   "execution_count": 7,
   "id": "5d8554e2-ab50-47d1-80e1-0e61669e223d",
   "metadata": {
    "execution": {
     "iopub.execute_input": "2023-04-04T18:32:11.440202Z",
     "iopub.status.busy": "2023-04-04T18:32:11.439729Z",
     "iopub.status.idle": "2023-04-04T18:32:11.967091Z",
     "shell.execute_reply": "2023-04-04T18:32:11.966378Z"
    }
   },
   "outputs": [
    {
     "ename": "TypeError",
     "evalue": "string indices must be integers",
     "output_type": "error",
     "traceback": [
      "\u001b[0;31m---------------------------------------------------------------------------\u001b[0m",
      "\u001b[0;31mTypeError\u001b[0m                                 Traceback (most recent call last)",
      "Cell \u001b[0;32mIn[7], line 1\u001b[0m\n\u001b[0;32m----> 1\u001b[0m gh \u001b[38;5;241m=\u001b[39m \u001b[43mutils\u001b[49m\u001b[38;5;241;43m.\u001b[39;49m\u001b[43mget_github_stars\u001b[49m\u001b[43m(\u001b[49m\u001b[38;5;124;43m'\u001b[39;49m\u001b[38;5;124;43mopenpvtools/openpvtools\u001b[39;49m\u001b[38;5;124;43m'\u001b[39;49m\u001b[43m)\u001b[49m\n",
      "File \u001b[0;32m~/work/pv-foss-engagement/pv-foss-engagement/sphinx/source/project/utils.py:84\u001b[0m, in \u001b[0;36mget_github_stars\u001b[0;34m(repo)\u001b[0m\n\u001b[1;32m     81\u001b[0m \u001b[38;5;28;01mfor\u001b[39;00m i \u001b[38;5;129;01min\u001b[39;00m \u001b[38;5;28mrange\u001b[39m(\u001b[38;5;241m2\u001b[39m, N\u001b[38;5;241m+\u001b[39m\u001b[38;5;241m1\u001b[39m):\n\u001b[1;32m     82\u001b[0m     data\u001b[38;5;241m.\u001b[39mextend(_fetch_gh_api(repo, i)[\u001b[38;5;241m0\u001b[39m])\n\u001b[0;32m---> 84\u001b[0m star_date \u001b[38;5;241m=\u001b[39m [d[\u001b[38;5;124m'\u001b[39m\u001b[38;5;124mstarred_at\u001b[39m\u001b[38;5;124m'\u001b[39m] \u001b[38;5;28;01mfor\u001b[39;00m d \u001b[38;5;129;01min\u001b[39;00m data]\n\u001b[1;32m     85\u001b[0m user_name \u001b[38;5;241m=\u001b[39m [d[\u001b[38;5;124m'\u001b[39m\u001b[38;5;124muser\u001b[39m\u001b[38;5;124m'\u001b[39m][\u001b[38;5;124m'\u001b[39m\u001b[38;5;124mlogin\u001b[39m\u001b[38;5;124m'\u001b[39m] \u001b[38;5;28;01mfor\u001b[39;00m d \u001b[38;5;129;01min\u001b[39;00m data]\n\u001b[1;32m     86\u001b[0m df \u001b[38;5;241m=\u001b[39m pd\u001b[38;5;241m.\u001b[39mDataFrame({\u001b[38;5;124m'\u001b[39m\u001b[38;5;124mstar_date\u001b[39m\u001b[38;5;124m'\u001b[39m: star_date, \u001b[38;5;124m'\u001b[39m\u001b[38;5;124muser_name\u001b[39m\u001b[38;5;124m'\u001b[39m: user_name})\n",
      "File \u001b[0;32m~/work/pv-foss-engagement/pv-foss-engagement/sphinx/source/project/utils.py:84\u001b[0m, in \u001b[0;36m<listcomp>\u001b[0;34m(.0)\u001b[0m\n\u001b[1;32m     81\u001b[0m \u001b[38;5;28;01mfor\u001b[39;00m i \u001b[38;5;129;01min\u001b[39;00m \u001b[38;5;28mrange\u001b[39m(\u001b[38;5;241m2\u001b[39m, N\u001b[38;5;241m+\u001b[39m\u001b[38;5;241m1\u001b[39m):\n\u001b[1;32m     82\u001b[0m     data\u001b[38;5;241m.\u001b[39mextend(_fetch_gh_api(repo, i)[\u001b[38;5;241m0\u001b[39m])\n\u001b[0;32m---> 84\u001b[0m star_date \u001b[38;5;241m=\u001b[39m [\u001b[43md\u001b[49m\u001b[43m[\u001b[49m\u001b[38;5;124;43m'\u001b[39;49m\u001b[38;5;124;43mstarred_at\u001b[39;49m\u001b[38;5;124;43m'\u001b[39;49m\u001b[43m]\u001b[49m \u001b[38;5;28;01mfor\u001b[39;00m d \u001b[38;5;129;01min\u001b[39;00m data]\n\u001b[1;32m     85\u001b[0m user_name \u001b[38;5;241m=\u001b[39m [d[\u001b[38;5;124m'\u001b[39m\u001b[38;5;124muser\u001b[39m\u001b[38;5;124m'\u001b[39m][\u001b[38;5;124m'\u001b[39m\u001b[38;5;124mlogin\u001b[39m\u001b[38;5;124m'\u001b[39m] \u001b[38;5;28;01mfor\u001b[39;00m d \u001b[38;5;129;01min\u001b[39;00m data]\n\u001b[1;32m     86\u001b[0m df \u001b[38;5;241m=\u001b[39m pd\u001b[38;5;241m.\u001b[39mDataFrame({\u001b[38;5;124m'\u001b[39m\u001b[38;5;124mstar_date\u001b[39m\u001b[38;5;124m'\u001b[39m: star_date, \u001b[38;5;124m'\u001b[39m\u001b[38;5;124muser_name\u001b[39m\u001b[38;5;124m'\u001b[39m: user_name})\n",
      "\u001b[0;31mTypeError\u001b[0m: string indices must be integers"
     ]
    }
   ],
   "source": [
    "gh = utils.get_github_stars('openpvtools/openpvtools')"
   ]
  },
  {
   "cell_type": "code",
   "execution_count": 8,
   "id": "73adb55d-8103-405f-85f3-aeb8c7e20380",
   "metadata": {
    "execution": {
     "iopub.execute_input": "2023-04-04T18:32:11.970487Z",
     "iopub.status.busy": "2023-04-04T18:32:11.970013Z",
     "iopub.status.idle": "2023-04-04T18:32:11.988232Z",
     "shell.execute_reply": "2023-04-04T18:32:11.987630Z"
    }
   },
   "outputs": [
    {
     "ename": "NameError",
     "evalue": "name 'gh' is not defined",
     "output_type": "error",
     "traceback": [
      "\u001b[0;31m---------------------------------------------------------------------------\u001b[0m",
      "\u001b[0;31mNameError\u001b[0m                                 Traceback (most recent call last)",
      "Cell \u001b[0;32mIn[8], line 1\u001b[0m\n\u001b[0;32m----> 1\u001b[0m p \u001b[38;5;241m=\u001b[39m utils\u001b[38;5;241m.\u001b[39mplot_github_stars_timeseries(\u001b[43mgh\u001b[49m)\n\u001b[1;32m      2\u001b[0m show(p)\n",
      "\u001b[0;31mNameError\u001b[0m: name 'gh' is not defined"
     ]
    }
   ],
   "source": [
    "p = utils.plot_github_stars_timeseries(gh)\n",
    "show(p)"
   ]
  },
  {
   "cell_type": "code",
   "execution_count": 9,
   "id": "fd2d2428-935d-458b-a949-f0c367dfaf0e",
   "metadata": {
    "execution": {
     "iopub.execute_input": "2023-04-04T18:32:11.991079Z",
     "iopub.status.busy": "2023-04-04T18:32:11.990731Z",
     "iopub.status.idle": "2023-04-04T18:33:03.339090Z",
     "shell.execute_reply": "2023-04-04T18:33:03.338418Z"
    }
   },
   "outputs": [
    {
     "data": {
      "text/html": [
       "\n",
       "  <div class=\"bk-root\" id=\"d6cb2904-58ad-45fe-b4ee-17a745ca3261\" data-root-id=\"1323\"></div>\n"
      ]
     },
     "metadata": {},
     "output_type": "display_data"
    },
    {
     "data": {
      "application/javascript": [
       "(function(root) {\n",
       "  function embed_document(root) {\n",
       "  const docs_json = {\"b5b45f54-2d5c-4e85-b46b-a32b0b91ca31\":{\"defs\":[],\"roots\":{\"references\":[{\"attributes\":{\"below\":[{\"id\":\"1332\"}],\"center\":[{\"id\":\"1335\"},{\"id\":\"1339\"}],\"height\":350,\"left\":[{\"id\":\"1336\"}],\"renderers\":[{\"id\":\"1360\"}],\"title\":{\"id\":\"1394\"},\"toolbar\":{\"id\":\"1347\"},\"x_range\":{\"id\":\"1324\"},\"x_scale\":{\"id\":\"1328\"},\"y_range\":{\"id\":\"1326\"},\"y_scale\":{\"id\":\"1330\"}},\"id\":\"1323\",\"subtype\":\"Figure\",\"type\":\"Plot\"},{\"attributes\":{\"axis\":{\"id\":\"1336\"},\"coordinates\":null,\"dimension\":1,\"group\":null,\"ticker\":null},\"id\":\"1339\",\"type\":\"Grid\"},{\"attributes\":{},\"id\":\"1397\",\"type\":\"BasicTickFormatter\"},{\"attributes\":{\"callback\":null,\"formatters\":{\"@x\":\"datetime\"},\"tooltips\":[[\"Date\",\"@x{%Y-%m-%d}\"],[\"Total Contributors\",\"@y\"]]},\"id\":\"1354\",\"type\":\"HoverTool\"},{\"attributes\":{},\"id\":\"1398\",\"type\":\"AllLabels\"},{\"attributes\":{},\"id\":\"1344\",\"type\":\"ResetTool\"},{\"attributes\":{\"line_alpha\":0.1,\"line_color\":\"#1f77b4\",\"x\":{\"field\":\"x\"},\"y\":{\"field\":\"y\"}},\"id\":\"1358\",\"type\":\"Line\"},{\"attributes\":{\"bottom_units\":\"screen\",\"coordinates\":null,\"fill_alpha\":0.5,\"fill_color\":\"lightgrey\",\"group\":null,\"left_units\":\"screen\",\"level\":\"overlay\",\"line_alpha\":1.0,\"line_color\":\"black\",\"line_dash\":[4,4],\"line_width\":2,\"right_units\":\"screen\",\"syncable\":false,\"top_units\":\"screen\"},\"id\":\"1346\",\"type\":\"BoxAnnotation\"},{\"attributes\":{},\"id\":\"1340\",\"type\":\"PanTool\"},{\"attributes\":{},\"id\":\"1416\",\"type\":\"YearsTicker\"},{\"attributes\":{\"tools\":[{\"id\":\"1340\"},{\"id\":\"1341\"},{\"id\":\"1342\"},{\"id\":\"1343\"},{\"id\":\"1344\"},{\"id\":\"1345\"},{\"id\":\"1354\"}]},\"id\":\"1347\",\"type\":\"Toolbar\"},{\"attributes\":{},\"id\":\"1401\",\"type\":\"AllLabels\"},{\"attributes\":{\"axis_label\":\"Date\",\"coordinates\":null,\"formatter\":{\"id\":\"1400\"},\"group\":null,\"major_label_policy\":{\"id\":\"1401\"},\"ticker\":{\"id\":\"1333\"}},\"id\":\"1332\",\"type\":\"DatetimeAxis\"},{\"attributes\":{\"overlay\":{\"id\":\"1346\"}},\"id\":\"1342\",\"type\":\"BoxZoomTool\"},{\"attributes\":{\"num_minor_ticks\":5,\"tickers\":[{\"id\":\"1405\"},{\"id\":\"1406\"},{\"id\":\"1407\"},{\"id\":\"1408\"},{\"id\":\"1409\"},{\"id\":\"1410\"},{\"id\":\"1411\"},{\"id\":\"1412\"},{\"id\":\"1413\"},{\"id\":\"1414\"},{\"id\":\"1415\"},{\"id\":\"1416\"}]},\"id\":\"1333\",\"type\":\"DatetimeTicker\"},{\"attributes\":{\"axis\":{\"id\":\"1332\"},\"coordinates\":null,\"group\":null,\"ticker\":null},\"id\":\"1335\",\"type\":\"Grid\"},{\"attributes\":{\"data\":{\"x\":{\"__ndarray__\":\"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\",\"dtype\":\"float64\",\"order\":\"little\",\"shape\":[1038]},\"y\":{\"__ndarray__\":\"AAAAAAAA8D8AAAAAAADwPwAAAAAAAPA/AAAAAAAA8D8AAAAAAADwPwAAAAAAAPA/AAAAAAAA8D8AAAAAAADwPwAAAAAAAPA/AAAAAAAA8D8AAAAAAADwPwAAAAAAAPA/AAAAAAAA8D8AAAAAAADwPwAAAAAAAPA/AAAAAAAA8D8AAAAAAADwPwAAAAAAAPA/AAAAAAAA8D8AAAAAAADwPwAAAAAAAPA/AAAAAAAA8D8AAAAAAADwPwAAAAAAAPA/AAAAAAAA8D8AAAAAAADwPwAAAAAAAPA/AAAAAAAA8D8AAAAAAADwPwAAAAAAAPA/AAAAAAAA8D8AAAAAAADwPwAAAAAAAPA/AAAAAAAA8D8AAAAAAADwPwAAAAAAAPA/AAAAAAAA8D8AAAAAAADwPwAAAAAAAPA/AAAAAAAA8D8AAAAAAADwPwAAAAAAAPA/AAAAAAAA8D8AAAAAAADwPwAAAAAAAPA/AAAAAAAA8D8AAAAAAADwPwAAAAAAAPA/AAAAAAAA8D8AAAAAAADwPwAAAAAAAPA/AAAAAAAA8D8AAAAAAADwPwAAAAAAAPA/AAAAAAAA8D8AAAAAAADwPwAAAAAAAPA/AAAAAAAA8D8AAAAAAADwPwAAAAAAAPA/AAAAAAAA8D8AAAAAAADwPwAAAAAAAPA/AAAAAAAA8D8AAAAAAADwPwAAAAAAAPA/AAAAAAAA8D8AAAAAAADwPwAAAAAAAPA/AAAAAAAA8D8AAAAAAADwPwAAAAAAAPA/AAAAAAAA8D8AAAAAAADwPwAAAAAAAPA/AAAAAAAA8D8AAAAAAADwPwAAAAAAAPA/AAAAAAAA8D8AAAAAAADwPwAAAAAAAPA/AAAAAAAA8D8AAAAAAADwPwAAAAAAAPA/AAAAAAAA8D8AAAAAAADwPwAAAAAAAPA/AAAAAAAA8D8AAAAAAADwPwAAAAAAAPA/AAAAAAAA8D8AAAAAAADwPwAAAAAAAPA/AAAAAAAA8D8AAAAAAADwPwAAAAAAAPA/AAAAAAAA8D8AAAAAAADwPwAAAAAAAPA/AAAAAAAA8D8AAAAAAADwPwAAAAAAAPA/AAAAAAAA8D8AAAAAAADwPwAAAAAAAPA/AAAAAAAA8D8AAAAAAADwPwAAAAAAAPA/AAAAAAAA8D8AAAAAAADwPwAAAAAAAPA/AAAAAAAA8D8AAAAAAAAAQAAAAAAAAABAAAAAAAAAAEAAAAAAAAAAQAAAAAAAAABAAAAAAAAAAEAAAAAAAAAAQAAAAAAAAABAAAAAAAAAAEAAAAAAAAAAQAAAAAAAAABAAAAAAAAAAEAAAAAAAAAAQAAAAAAAAABAAAAAAAAAAEAAAAAAAAAAQAAAAAAAAABAAAAAAAAAAEAAAAAAAAAAQAAAAAAAAABAAAAAAAAAAEAAAAAAAAAAQAAAAAAAAABAAAAAAAAAAEAAAAAAAAAAQAAAAAAAAABAAAAAAAAAAEAAAAAAAAAAQAAAAAAAAAhAAAAAAAAACEAAAAAAAAAIQAAAAAAAAAhAAAAAAAAACEAAAAAAAAAIQAAAAAAAAAhAAAAAAAAACEAAAAAAAAAIQAAAAAAAAAhAAAAAAAAACEAAAAAAAAAIQAAAAAAAAAhAAAAAAAAACEAAAAAAAAAIQAAAAAAAAAhAAAAAAAAACEAAAAAAAAAIQAAAAAAAAAhAAAAAAAAACEAAAAAAAAAIQAAAAAAAAAhAAAAAAAAACEAAAAAAAAAIQAAAAAAAAAhAAAAAAAAACEAAAAAAAAAIQAAAAAAAAAhAAAAAAAAACEAAAAAAAAAIQAAAAAAAAAhAAAAAAAAACEAAAAAAAAAIQAAAAAAAAAhAAAAAAAAACEAAAAAAAAAIQAAAAAAAAAhAAAAAAAAACEAAAAAAAAAIQAAAAAAAAAhAAAAAAAAACEAAAAAAAAAIQAAAAAAAAAhAAAAAAAAACEAAAAAAAAAIQAAAAAAAAAhAAAAAAAAACEAAAAAAAAAIQAAAAAAAAAhAAAAAAAAACEAAAAAAAAAIQAAAAAAAAAhAAAAAAAAACEAAAAAAAAAIQAAAAAAAAAhAAAAAAAAACEAAAAAAAAAIQAAAAAAAAAhAAAAAAAAACEAAAAAAAAAIQAAAAAAAAAhAAAAAAAAACEAAAAAAAAAIQAAAAAAAAAhAAAAAAAAACEAAAAAAAAAIQAAAAAAAAAhAAAAAAAAACEAAAAAAAAAIQAAAAAAAAAhAAAAAAAAACEAAAAAAAAAIQAAAAAAAAAhAAAAAAAAACEAAAAAAAAAIQAAAAAAAAAhAAAAAAAAACEAAAAAAAAAIQAAAAAAAAAhAAAAAAAAACEAAAAAAAAAIQAAAAAAAAAhAAAAAAAAACEAAAAAAAAAIQAAAAAAAAAhAAAAAAAAACEAAAAAAAAAIQAAAAAAAAAhAAAAAAAAACEAAAAAAAAAIQAAAAAAAAAhAAAAAAAAACEAAAAAAAAAIQAAAAAAAAAhAAAAAAAAACEAAAAAAAAAIQAAAAAAAAAhAAAAAAAAACEAAAAAAAAAIQAAAAAAAAAhAAAAAAAAACEAAAAAAAAAIQAAAAAAAAAhAAAAAAAAACEAAAAAAAAAIQAAAAAAAAAhAAAAAAAAACEAAAAAAAAAIQAAAAAAAAAhAAAAAAAAACEAAAAAAAAAIQAAAAAAAAAhAAAAAAAAACEAAAAAAAAAIQAAAAAAAAAhAAAAAAAAACEAAAAAAAAAIQAAAAAAAAAhAAAAAAAAACEAAAAAAAAAIQAAAAAAAAAhAAAAAAAAACEAAAAAAAAAIQAAAAAAAAAhAAAAAAAAACEAAAAAAAAAIQAAAAAAAAAhAAAAAAAAACEAAAAAAAAAIQAAAAAAAAAhAAAAAAAAACEAAAAAAAAAIQAAAAAAAAAhAAAAAAAAACEAAAAAAAAAIQAAAAAAAAAhAAAAAAAAACEAAAAAAAAAIQAAAAAAAAAhAAAAAAAAACEAAAAAAAAAIQAAAAAAAAAhAAAAAAAAACEAAAAAAAAAIQAAAAAAAAAhAAAAAAAAACEAAAAAAAAAIQAAAAAAAAAhAAAAAAAAACEAAAAAAAAAIQAAAAAAAAAhAAAAAAAAACEAAAAAAAAAIQAAAAAAAAAhAAAAAAAAACEAAAAAAAAAIQAAAAAAAAAhAAAAAAAAACEAAAAAAAAAIQAAAAAAAAAhAAAAAAAAACEAAAAAAAAAIQAAAAAAAAAhAAAAAAAAACEAAAAAAAAAIQAAAAAAAAAhAAAAAAAAACEAAAAAAAAAIQAAAAAAAAAhAAAAAAAAACEAAAAAAAAAIQAAAAAAAAAhAAAAAAAAACEAAAAAAAAAIQAAAAAAAAAhAAAAAAAAACEAAAAAAAAAIQAAAAAAAAAhAAAAAAAAACEAAAAAAAAAIQAAAAAAAAAhAAAAAAAAACEAAAAAAAAAIQAAAAAAAAAhAAAAAAAAACEAAAAAAAAAIQAAAAAAAAAhAAAAAAAAACEAAAAAAAAAIQAAAAAAAAAhAAAAAAAAACEAAAAAAAAAIQAAAAAAAAAhAAAAAAAAACEAAAAAAAAAIQAAAAAAAAAhAAAAAAAAACEAAAAAAAAAIQAAAAAAAAAhAAAAAAAAACEAAAAAAAAAIQAAAAAAAAAhAAAAAAAAACEAAAAAAAAAIQAAAAAAAAAhAAAAAAAAACEAAAAAAAAAIQAAAAAAAAAhAAAAAAAAACEAAAAAAAAAIQAAAAAAAAAhAAAAAAAAACEAAAAAAAAAIQAAAAAAAAAhAAAAAAAAACEAAAAAAAAAIQAAAAAAAAAhAAAAAAAAACEAAAAAAAAAIQAAAAAAAAAhAAAAAAAAACEAAAAAAAAAIQAAAAAAAAAhAAAAAAAAACEAAAAAAAAAIQAAAAAAAAAhAAAAAAAAACEAAAAAAAAAIQAAAAAAAAAhAAAAAAAAACEAAAAAAAAAIQAAAAAAAAAhAAAAAAAAACEAAAAAAAAAIQAAAAAAAAAhAAAAAAAAACEAAAAAAAAAIQAAAAAAAAAhAAAAAAAAACEAAAAAAAAAIQAAAAAAAAAhAAAAAAAAACEAAAAAAAAAIQAAAAAAAAAhAAAAAAAAACEAAAAAAAAAIQAAAAAAAAAhAAAAAAAAACEAAAAAAAAAIQAAAAAAAAAhAAAAAAAAACEAAAAAAAAAIQAAAAAAAAAhAAAAAAAAACEAAAAAAAAAIQAAAAAAAAAhAAAAAAAAACEAAAAAAAAAIQAAAAAAAAAhAAAAAAAAACEAAAAAAAAAIQAAAAAAAAAhAAAAAAAAACEAAAAAAAAAIQAAAAAAAAAhAAAAAAAAACEAAAAAAAAAIQAAAAAAAAAhAAAAAAAAACEAAAAAAAAAIQAAAAAAAAAhAAAAAAAAACEAAAAAAAAAIQAAAAAAAAAhAAAAAAAAACEAAAAAAAAAIQAAAAAAAAAhAAAAAAAAACEAAAAAAAAAIQAAAAAAAAAhAAAAAAAAACEAAAAAAAAAIQAAAAAAAAAhAAAAAAAAACEAAAAAAAAAIQAAAAAAAAAhAAAAAAAAACEAAAAAAAAAIQAAAAAAAAAhAAAAAAAAACEAAAAAAAAAIQAAAAAAAAAhAAAAAAAAACEAAAAAAAAAIQAAAAAAAAAhAAAAAAAAACEAAAAAAAAAIQAAAAAAAAAhAAAAAAAAACEAAAAAAAAAIQAAAAAAAAAhAAAAAAAAACEAAAAAAAAAIQAAAAAAAAAhAAAAAAAAACEAAAAAAAAAIQAAAAAAAAAhAAAAAAAAACEAAAAAAAAAIQAAAAAAAAAhAAAAAAAAACEAAAAAAAAAIQAAAAAAAAAhAAAAAAAAACEAAAAAAAAAIQAAAAAAAAAhAAAAAAAAACEAAAAAAAAAIQAAAAAAAAAhAAAAAAAAACEAAAAAAAAAIQAAAAAAAAAhAAAAAAAAACEAAAAAAAAAIQAAAAAAAAAhAAAAAAAAACEAAAAAAAAAIQAAAAAAAAAhAAAAAAAAACEAAAAAAAAAIQAAAAAAAAAhAAAAAAAAACEAAAAAAAAAIQAAAAAAAAAhAAAAAAAAACEAAAAAAAAAIQAAAAAAAAAhAAAAAAAAACEAAAAAAAAAIQAAAAAAAAAhAAAAAAAAACEAAAAAAAAAIQAAAAAAAAAhAAAAAAAAACEAAAAAAAAAIQAAAAAAAAAhAAAAAAAAACEAAAAAAAAAIQAAAAAAAAAhAAAAAAAAACEAAAAAAAAAIQAAAAAAAAAhAAAAAAAAACEAAAAAAAAAIQAAAAAAAAAhAAAAAAAAACEAAAAAAAAAIQAAAAAAAAAhAAAAAAAAACEAAAAAAAAAIQAAAAAAAAAhAAAAAAAAACEAAAAAAAAAIQAAAAAAAAAhAAAAAAAAACEAAAAAAAAAIQAAAAAAAAAhAAAAAAAAACEAAAAAAAAAIQAAAAAAAAAhAAAAAAAAACEAAAAAAAAAIQAAAAAAAAAhAAAAAAAAACEAAAAAAAAAIQAAAAAAAAAhAAAAAAAAACEAAAAAAAAAIQAAAAAAAAAhAAAAAAAAACEAAAAAAAAAIQAAAAAAAAAhAAAAAAAAACEAAAAAAAAAIQAAAAAAAAAhAAAAAAAAACEAAAAAAAAAIQAAAAAAAAAhAAAAAAAAACEAAAAAAAAAIQAAAAAAAAAhAAAAAAAAACEAAAAAAAAAIQAAAAAAAAAhAAAAAAAAACEAAAAAAAAAIQAAAAAAAAAhAAAAAAAAACEAAAAAAAAAIQAAAAAAAAAhAAAAAAAAACEAAAAAAAAAIQAAAAAAAAAhAAAAAAAAACEAAAAAAAAAIQAAAAAAAAAhAAAAAAAAACEAAAAAAAAAIQAAAAAAAAAhAAAAAAAAACEAAAAAAAAAIQAAAAAAAAAhAAAAAAAAACEAAAAAAAAAIQAAAAAAAAAhAAAAAAAAACEAAAAAAAAAIQAAAAAAAAAhAAAAAAAAACEAAAAAAAAAIQAAAAAAAAAhAAAAAAAAACEAAAAAAAAAIQAAAAAAAAAhAAAAAAAAACEAAAAAAAAAIQAAAAAAAAAhAAAAAAAAACEAAAAAAAAAIQAAAAAAAAAhAAAAAAAAACEAAAAAAAAAIQAAAAAAAAAhAAAAAAAAACEAAAAAAAAAIQAAAAAAAAAhAAAAAAAAACEAAAAAAAAAIQAAAAAAAAAhAAAAAAAAACEAAAAAAAAAIQAAAAAAAAAhAAAAAAAAACEAAAAAAAAAIQAAAAAAAAAhAAAAAAAAACEAAAAAAAAAIQAAAAAAAAAhAAAAAAAAACEAAAAAAAAAIQAAAAAAAAAhAAAAAAAAACEAAAAAAAAAIQAAAAAAAAAhAAAAAAAAACEAAAAAAAAAIQAAAAAAAAAhAAAAAAAAACEAAAAAAAAAIQAAAAAAAAAhAAAAAAAAACEAAAAAAAAAIQAAAAAAAAAhAAAAAAAAACEAAAAAAAAAIQAAAAAAAAAhAAAAAAAAACEAAAAAAAAAIQAAAAAAAAAhAAAAAAAAACEAAAAAAAAAIQAAAAAAAAAhAAAAAAAAACEAAAAAAAAAIQAAAAAAAAAhAAAAAAAAACEAAAAAAAAAIQAAAAAAAAAhAAAAAAAAACEAAAAAAAAAIQAAAAAAAAAhAAAAAAAAACEAAAAAAAAAIQAAAAAAAAAhAAAAAAAAACEAAAAAAAAAIQAAAAAAAAAhAAAAAAAAACEAAAAAAAAAIQAAAAAAAAAhAAAAAAAAACEAAAAAAAAAIQAAAAAAAAAhAAAAAAAAACEAAAAAAAAAIQAAAAAAAAAhAAAAAAAAACEAAAAAAAAAIQAAAAAAAAAhAAAAAAAAACEAAAAAAAAAIQAAAAAAAAAhAAAAAAAAACEAAAAAAAAAIQAAAAAAAAAhAAAAAAAAACEAAAAAAAAAIQAAAAAAAAAhAAAAAAAAACEAAAAAAAAAIQAAAAAAAAAhAAAAAAAAACEAAAAAAAAAIQAAAAAAAAAhAAAAAAAAACEAAAAAAAAAIQAAAAAAAAAhAAAAAAAAACEAAAAAAAAAIQAAAAAAAAAhAAAAAAAAACEAAAAAAAAAIQAAAAAAAAAhAAAAAAAAACEAAAAAAAAAIQAAAAAAAAAhAAAAAAAAACEAAAAAAAAAIQAAAAAAAAAhAAAAAAAAACEAAAAAAAAAIQAAAAAAAAAhAAAAAAAAACEAAAAAAAAAIQAAAAAAAAAhAAAAAAAAACEAAAAAAAAAIQAAAAAAAAAhAAAAAAAAACEAAAAAAAAAIQAAAAAAAAAhAAAAAAAAACEAAAAAAAAAIQAAAAAAAAAhAAAAAAAAACEAAAAAAAAAIQAAAAAAAAAhAAAAAAAAACEAAAAAAAAAIQAAAAAAAAAhAAAAAAAAACEAAAAAAAAAIQAAAAAAAAAhAAAAAAAAACEAAAAAAAAAIQAAAAAAAAAhAAAAAAAAACEAAAAAAAAAIQAAAAAAAAAhAAAAAAAAACEAAAAAAAAAIQAAAAAAAAAhAAAAAAAAACEAAAAAAAAAIQAAAAAAAAAhAAAAAAAAACEAAAAAAAAAIQAAAAAAAAAhAAAAAAAAACEAAAAAAAAAIQAAAAAAAAAhAAAAAAAAACEAAAAAAAAAIQAAAAAAAAAhAAAAAAAAACEAAAAAAAAAIQAAAAAAAAAhAAAAAAAAACEAAAAAAAAAIQAAAAAAAAAhAAAAAAAAACEAAAAAAAAAIQAAAAAAAAAhAAAAAAAAACEAAAAAAAAAIQAAAAAAAAAhAAAAAAAAACEAAAAAAAAAIQAAAAAAAAAhAAAAAAAAACEAAAAAAAAAIQAAAAAAAAAhAAAAAAAAACEAAAAAAAAAIQAAAAAAAAAhAAAAAAAAACEAAAAAAAAAIQAAAAAAAAAhAAAAAAAAACEAAAAAAAAAIQAAAAAAAAAhAAAAAAAAACEAAAAAAAAAIQAAAAAAAAAhAAAAAAAAACEAAAAAAAAAIQAAAAAAAAAhAAAAAAAAACEAAAAAAAAAIQAAAAAAAAAhAAAAAAAAACEAAAAAAAAAIQAAAAAAAAAhAAAAAAAAACEAAAAAAAAAIQAAAAAAAAAhAAAAAAAAACEAAAAAAAAAIQAAAAAAAAAhAAAAAAAAACEAAAAAAAAAIQAAAAAAAAAhAAAAAAAAACEAAAAAAAAAIQAAAAAAAAAhAAAAAAAAACEAAAAAAAAAIQAAAAAAAAAhAAAAAAAAACEAAAAAAAAAIQAAAAAAAAAhAAAAAAAAACEAAAAAAAAAIQAAAAAAAAAhAAAAAAAAACEAAAAAAAAAIQAAAAAAAAAhAAAAAAAAACEAAAAAAAAAIQAAAAAAAAAhAAAAAAAAACEAAAAAAAAAIQAAAAAAAAAhAAAAAAAAACEAAAAAAAAAIQAAAAAAAAAhAAAAAAAAACEAAAAAAAAAIQAAAAAAAAAhAAAAAAAAACEAAAAAAAAAIQAAAAAAAAAhAAAAAAAAACEAAAAAAAAAIQAAAAAAAAAhAAAAAAAAACEAAAAAAAAAIQAAAAAAAAAhAAAAAAAAACEAAAAAAAAAIQAAAAAAAAAhAAAAAAAAACEAAAAAAAAAIQAAAAAAAAAhAAAAAAAAACEAAAAAAAAAIQAAAAAAAAAhAAAAAAAAACEAAAAAAAAAIQAAAAAAAAAhAAAAAAAAACEAAAAAAAAAIQAAAAAAAAAhAAAAAAAAACEAAAAAAAAAIQAAAAAAAAAhAAAAAAAAACEAAAAAAAAAIQAAAAAAAAAhAAAAAAAAACEAAAAAAAAAIQAAAAAAAAAhAAAAAAAAACEAAAAAAAAAIQAAAAAAAAAhAAAAAAAAACEAAAAAAAAAIQAAAAAAAAAhAAAAAAAAACEAAAAAAAAAIQAAAAAAAAAhAAAAAAAAACEAAAAAAAAAIQAAAAAAAAAhAAAAAAAAACEAAAAAAAAAIQAAAAAAAAAhAAAAAAAAACEAAAAAAAAAIQAAAAAAAAAhAAAAAAAAACEAAAAAAAAAIQAAAAAAAAAhAAAAAAAAACEAAAAAAAAAIQAAAAAAAAAhAAAAAAAAACEAAAAAAAAAIQAAAAAAAAAhAAAAAAAAACEAAAAAAAAAIQAAAAAAAAAhAAAAAAAAACEAAAAAAAAAIQAAAAAAAAAhAAAAAAAAACEAAAAAAAAAIQAAAAAAAAAhAAAAAAAAACEAAAAAAAAAIQAAAAAAAAAhAAAAAAAAACEAAAAAAAAAIQAAAAAAAAAhAAAAAAAAACEAAAAAAAAAIQAAAAAAAAAhAAAAAAAAACEAAAAAAAAAIQAAAAAAAAAhAAAAAAAAACEAAAAAAAAAIQAAAAAAAAAhAAAAAAAAACEAAAAAAAAAIQAAAAAAAAAhAAAAAAAAACEAAAAAAAAAIQAAAAAAAAAhAAAAAAAAACEAAAAAAAAAIQAAAAAAAAAhAAAAAAAAACEAAAAAAAAAIQAAAAAAAAAhAAAAAAAAACEAAAAAAAAAIQAAAAAAAAAhAAAAAAAAACEAAAAAAAAAIQAAAAAAAAAhAAAAAAAAACEAAAAAAAAAIQAAAAAAAAAhAAAAAAAAACEAAAAAAAAAIQAAAAAAAAAhAAAAAAAAACEAAAAAAAAAIQAAAAAAAAAhAAAAAAAAACEAAAAAAAAAIQAAAAAAAAAhAAAAAAAAACEAAAAAAAAAIQAAAAAAAAAhAAAAAAAAACEAAAAAAAAAIQAAAAAAAAAhAAAAAAAAACEAAAAAAAAAIQAAAAAAAAAhAAAAAAAAACEAAAAAAAAAIQAAAAAAAAAhAAAAAAAAACEAAAAAAAAAIQAAAAAAAAAhAAAAAAAAACEAAAAAAAAAIQAAAAAAAAAhAAAAAAAAACEAAAAAAAAAIQAAAAAAAAAhAAAAAAAAACEAAAAAAAAAIQAAAAAAAAAhAAAAAAAAACEAAAAAAAAAIQAAAAAAAAAhAAAAAAAAACEAAAAAAAAAIQAAAAAAAAAhAAAAAAAAACEAAAAAAAAAIQAAAAAAAAAhAAAAAAAAACEAAAAAAAAAIQAAAAAAAAAhAAAAAAAAACEAAAAAAAAAIQAAAAAAAAAhAAAAAAAAACEAAAAAAAAAIQAAAAAAAAAhAAAAAAAAAEEAAAAAAAAAQQAAAAAAAABBAAAAAAAAAEEAAAAAAAAAQQAAAAAAAABBAAAAAAAAAEEAAAAAAAAAQQAAAAAAAABBAAAAAAAAAEEAAAAAAAAAQQAAAAAAAABBAAAAAAAAAEEAAAAAAAAAQQAAAAAAAABBAAAAAAAAAEEAAAAAAAAAQQAAAAAAAABBAAAAAAAAAEEAAAAAAAAAQQAAAAAAAABBAAAAAAAAAEEAAAAAAAAAQQAAAAAAAABBAAAAAAAAAEEAAAAAAAAAQQAAAAAAAABBAAAAAAAAAEEAAAAAAAAAQQAAAAAAAABBAAAAAAAAAEEAAAAAAAAAQQAAAAAAAABBAAAAAAAAAEEAAAAAAAAAQQAAAAAAAABBAAAAAAAAAEEAAAAAAAAAQQAAAAAAAABBAAAAAAAAAEEAAAAAAAAAQQAAAAAAAABBAAAAAAAAAEEAAAAAAAAAQQAAAAAAAABBAAAAAAAAAEEAAAAAAAAAQQAAAAAAAABBAAAAAAAAAEEAAAAAAAAAQQAAAAAAAABBAAAAAAAAAEEAAAAAAAAAQQAAAAAAAABBAAAAAAAAAEEAAAAAAAAAQQAAAAAAAABBAAAAAAAAAEEAAAAAAAAAQQAAAAAAAABBAAAAAAAAAEEAAAAAAAAAQQAAAAAAAABBAAAAAAAAAFEAAAAAAAAAUQAAAAAAAABRAAAAAAAAAFEAAAAAAAAAUQAAAAAAAABRAAAAAAAAAFEAAAAAAAAAUQAAAAAAAABRAAAAAAAAAFEAAAAAAAAAUQAAAAAAAABRAAAAAAAAAFEAAAAAAAAAUQAAAAAAAABRAAAAAAAAAFEAAAAAAAAAUQAAAAAAAABRAAAAAAAAAFEAAAAAAAAAUQAAAAAAAABRAAAAAAAAAFEAAAAAAAAAUQAAAAAAAABRAAAAAAAAAFEAAAAAAAAAUQAAAAAAAABRAAAAAAAAAFEAAAAAAAAAYQAAAAAAAABhA\",\"dtype\":\"float64\",\"order\":\"little\",\"shape\":[1038]}},\"selected\":{\"id\":\"1403\"},\"selection_policy\":{\"id\":\"1402\"}},\"id\":\"1356\",\"type\":\"ColumnDataSource\"},{\"attributes\":{},\"id\":\"1343\",\"type\":\"SaveTool\"},{\"attributes\":{},\"id\":\"1400\",\"type\":\"DatetimeTickFormatter\"},{\"attributes\":{},\"id\":\"1324\",\"type\":\"DataRange1d\"},{\"attributes\":{},\"id\":\"1345\",\"type\":\"HelpTool\"},{\"attributes\":{\"mantissas\":[1,2,5],\"max_interval\":500.0,\"num_minor_ticks\":0},\"id\":\"1405\",\"type\":\"AdaptiveTicker\"},{\"attributes\":{\"line_color\":\"#1f77b4\",\"x\":{\"field\":\"x\"},\"y\":{\"field\":\"y\"}},\"id\":\"1357\",\"type\":\"Line\"},{\"attributes\":{\"coordinates\":null,\"data_source\":{\"id\":\"1356\"},\"glyph\":{\"id\":\"1357\"},\"group\":null,\"hover_glyph\":null,\"muted_glyph\":{\"id\":\"1359\"},\"nonselection_glyph\":{\"id\":\"1358\"},\"view\":{\"id\":\"1361\"}},\"id\":\"1360\",\"type\":\"GlyphRenderer\"},{\"attributes\":{\"base\":60,\"mantissas\":[1,2,5,10,15,20,30],\"max_interval\":1800000.0,\"min_interval\":1000.0,\"num_minor_ticks\":0},\"id\":\"1406\",\"type\":\"AdaptiveTicker\"},{\"attributes\":{},\"id\":\"1402\",\"type\":\"UnionRenderers\"},{\"attributes\":{\"source\":{\"id\":\"1356\"}},\"id\":\"1361\",\"type\":\"CDSView\"},{\"attributes\":{\"base\":24,\"mantissas\":[1,2,4,6,8,12],\"max_interval\":43200000.0,\"min_interval\":3600000.0,\"num_minor_ticks\":0},\"id\":\"1407\",\"type\":\"AdaptiveTicker\"},{\"attributes\":{\"months\":[0,1,2,3,4,5,6,7,8,9,10,11]},\"id\":\"1412\",\"type\":\"MonthsTicker\"},{\"attributes\":{},\"id\":\"1403\",\"type\":\"Selection\"},{\"attributes\":{\"days\":[1,15]},\"id\":\"1411\",\"type\":\"DaysTicker\"},{\"attributes\":{\"days\":[1,2,3,4,5,6,7,8,9,10,11,12,13,14,15,16,17,18,19,20,21,22,23,24,25,26,27,28,29,30,31]},\"id\":\"1408\",\"type\":\"DaysTicker\"},{\"attributes\":{},\"id\":\"1337\",\"type\":\"BasicTicker\"},{\"attributes\":{\"days\":[1,4,7,10,13,16,19,22,25,28]},\"id\":\"1409\",\"type\":\"DaysTicker\"},{\"attributes\":{\"days\":[1,8,15,22]},\"id\":\"1410\",\"type\":\"DaysTicker\"},{\"attributes\":{\"axis_label\":\"Total Contributors\",\"coordinates\":null,\"formatter\":{\"id\":\"1397\"},\"group\":null,\"major_label_policy\":{\"id\":\"1398\"},\"ticker\":{\"id\":\"1337\"}},\"id\":\"1336\",\"type\":\"LinearAxis\"},{\"attributes\":{\"months\":[0,4,8]},\"id\":\"1414\",\"type\":\"MonthsTicker\"},{\"attributes\":{\"months\":[0,2,4,6,8,10]},\"id\":\"1413\",\"type\":\"MonthsTicker\"},{\"attributes\":{},\"id\":\"1341\",\"type\":\"WheelZoomTool\"},{\"attributes\":{\"months\":[0,6]},\"id\":\"1415\",\"type\":\"MonthsTicker\"},{\"attributes\":{\"coordinates\":null,\"group\":null},\"id\":\"1394\",\"type\":\"Title\"},{\"attributes\":{},\"id\":\"1326\",\"type\":\"DataRange1d\"},{\"attributes\":{\"line_alpha\":0.2,\"line_color\":\"#1f77b4\",\"x\":{\"field\":\"x\"},\"y\":{\"field\":\"y\"}},\"id\":\"1359\",\"type\":\"Line\"},{\"attributes\":{},\"id\":\"1328\",\"type\":\"LinearScale\"},{\"attributes\":{},\"id\":\"1330\",\"type\":\"LinearScale\"}],\"root_ids\":[\"1323\"]},\"title\":\"Bokeh Application\",\"version\":\"2.4.3\"}};\n",
       "  const render_items = [{\"docid\":\"b5b45f54-2d5c-4e85-b46b-a32b0b91ca31\",\"root_ids\":[\"1323\"],\"roots\":{\"1323\":\"d6cb2904-58ad-45fe-b4ee-17a745ca3261\"}}];\n",
       "  root.Bokeh.embed.embed_items_notebook(docs_json, render_items);\n",
       "  }\n",
       "  if (root.Bokeh !== undefined) {\n",
       "    embed_document(root);\n",
       "  } else {\n",
       "    let attempts = 0;\n",
       "    const timer = setInterval(function(root) {\n",
       "      if (root.Bokeh !== undefined) {\n",
       "        clearInterval(timer);\n",
       "        embed_document(root);\n",
       "      } else {\n",
       "        attempts++;\n",
       "        if (attempts > 100) {\n",
       "          clearInterval(timer);\n",
       "          console.log(\"Bokeh: ERROR: Unable to run BokehJS code because BokehJS library is missing\");\n",
       "        }\n",
       "      }\n",
       "    }, 10, root)\n",
       "  }\n",
       "})(window);"
      ],
      "application/vnd.bokehjs_exec.v0+json": ""
     },
     "metadata": {
      "application/vnd.bokehjs_exec.v0+json": {
       "id": "1323"
      }
     },
     "output_type": "display_data"
    }
   ],
   "source": [
    "contributor_ts, _ = utils.get_github_contributor_timeseries(\"openpvtools/openpvtools\")\n",
    "p = utils.plot_github_contributors_timeseries(contributor_ts)\n",
    "show(p)"
   ]
  },
  {
   "cell_type": "code",
   "execution_count": 10,
   "id": "76eb663c-d1d5-42b3-be2b-0a31e248e870",
   "metadata": {
    "execution": {
     "iopub.execute_input": "2023-04-04T18:33:03.342197Z",
     "iopub.status.busy": "2023-04-04T18:33:03.341727Z",
     "iopub.status.idle": "2023-04-04T18:33:03.551943Z",
     "shell.execute_reply": "2023-04-04T18:33:03.551171Z"
    }
   },
   "outputs": [],
   "source": [
    "contributors = utils.get_github_contributors('openpvtools/openpvtools')"
   ]
  },
  {
   "cell_type": "code",
   "execution_count": 11,
   "id": "498e81c9-9223-4a89-8601-dedb33d3cff7",
   "metadata": {
    "execution": {
     "iopub.execute_input": "2023-04-04T18:33:03.555381Z",
     "iopub.status.busy": "2023-04-04T18:33:03.554998Z",
     "iopub.status.idle": "2023-04-04T18:33:03.589084Z",
     "shell.execute_reply": "2023-04-04T18:33:03.588296Z"
    }
   },
   "outputs": [
    {
     "ename": "TypeError",
     "evalue": "string indices must be integers",
     "output_type": "error",
     "traceback": [
      "\u001b[0;31m---------------------------------------------------------------------------\u001b[0m",
      "\u001b[0;31mTypeError\u001b[0m                                 Traceback (most recent call last)",
      "Cell \u001b[0;32mIn[11], line 1\u001b[0m\n\u001b[0;32m----> 1\u001b[0m mosaic \u001b[38;5;241m=\u001b[39m \u001b[43mutils\u001b[49m\u001b[38;5;241;43m.\u001b[39;49m\u001b[43mmake_github_contributors_mosaic\u001b[49m\u001b[43m(\u001b[49m\u001b[43mcontributors\u001b[49m\u001b[43m)\u001b[49m\n\u001b[1;32m      2\u001b[0m mosaic\n",
      "File \u001b[0;32m~/work/pv-foss-engagement/pv-foss-engagement/sphinx/source/project/utils.py:126\u001b[0m, in \u001b[0;36mmake_github_contributors_mosaic\u001b[0;34m(contributor_data, n_wide, n_high)\u001b[0m\n\u001b[1;32m    124\u001b[0m images \u001b[38;5;241m=\u001b[39m []\n\u001b[1;32m    125\u001b[0m \u001b[38;5;28;01mfor\u001b[39;00m contributor \u001b[38;5;129;01min\u001b[39;00m contributor_data:\n\u001b[0;32m--> 126\u001b[0m     response \u001b[38;5;241m=\u001b[39m requests\u001b[38;5;241m.\u001b[39mget(\u001b[43mcontributor\u001b[49m\u001b[43m[\u001b[49m\u001b[38;5;124;43m'\u001b[39;49m\u001b[38;5;124;43mavatar_url\u001b[39;49m\u001b[38;5;124;43m'\u001b[39;49m\u001b[43m]\u001b[49m, stream\u001b[38;5;241m=\u001b[39m\u001b[38;5;28;01mTrue\u001b[39;00m)\n\u001b[1;32m    127\u001b[0m     images\u001b[38;5;241m.\u001b[39mappend(Image\u001b[38;5;241m.\u001b[39mopen(response\u001b[38;5;241m.\u001b[39mraw))\n\u001b[1;32m    129\u001b[0m \u001b[38;5;66;03m# randomize order\u001b[39;00m\n",
      "\u001b[0;31mTypeError\u001b[0m: string indices must be integers"
     ]
    }
   ],
   "source": [
    "mosaic = utils.make_github_contributors_mosaic(contributors)\n",
    "mosaic"
   ]
  },
  {
   "cell_type": "code",
   "execution_count": null,
   "id": "5338279e-a04e-4819-bb3f-7f89f15854ea",
   "metadata": {},
   "outputs": [],
   "source": []
  }
 ],
 "metadata": {
  "kernelspec": {
   "display_name": "Python 3 (ipykernel)",
   "language": "python",
   "name": "python3"
  },
  "language_info": {
   "codemirror_mode": {
    "name": "ipython",
    "version": 3
   },
   "file_extension": ".py",
   "mimetype": "text/x-python",
   "name": "python",
   "nbconvert_exporter": "python",
   "pygments_lexer": "ipython3",
   "version": "3.9.16"
  }
 },
 "nbformat": 4,
 "nbformat_minor": 5
}

{
 "cells": [
  {
   "cell_type": "markdown",
   "id": "9a51a013-8798-4327-bd2b-5aaf0427cda4",
   "metadata": {},
   "source": [
    "# pvanalytics"
   ]
  },
  {
   "cell_type": "code",
   "execution_count": 1,
   "id": "50531b9f-821b-4f17-ae11-535b6241dee6",
   "metadata": {
    "execution": {
     "iopub.execute_input": "2022-10-17T17:54:11.857317Z",
     "iopub.status.busy": "2022-10-17T17:54:11.856998Z",
     "iopub.status.idle": "2022-10-17T17:54:12.337836Z",
     "shell.execute_reply": "2022-10-17T17:54:12.337056Z"
    }
   },
   "outputs": [],
   "source": [
    "from utils import get_analytics_data\n",
    "import pandas as pd\n",
    "\n",
    "from bokeh.plotting import figure, show\n",
    "from bokeh.models import HoverTool\n",
    "from bokeh.transform import jitter\n",
    "from bokeh.io import output_notebook"
   ]
  },
  {
   "cell_type": "code",
   "execution_count": 2,
   "id": "c987023b-ca0a-4ebf-9b9d-33793d3cf8f8",
   "metadata": {
    "execution": {
     "iopub.execute_input": "2022-10-17T17:54:12.342074Z",
     "iopub.status.busy": "2022-10-17T17:54:12.341741Z",
     "iopub.status.idle": "2022-10-17T17:54:12.351990Z",
     "shell.execute_reply": "2022-10-17T17:54:12.351477Z"
    }
   },
   "outputs": [
    {
     "data": {
      "text/html": [
       "<div class=\"bk-root\">\n",
       "        <a href=\"https://bokeh.org\" target=\"_blank\" class=\"bk-logo bk-logo-small bk-logo-notebook\"></a>\n",
       "        <span id=\"1002\">Loading BokehJS ...</span>\n",
       "    </div>\n"
      ]
     },
     "metadata": {},
     "output_type": "display_data"
    },
    {
     "data": {
      "application/javascript": [
       "(function(root) {\n",
       "  function now() {\n",
       "    return new Date();\n",
       "  }\n",
       "\n",
       "  const force = true;\n",
       "\n",
       "  if (typeof root._bokeh_onload_callbacks === \"undefined\" || force === true) {\n",
       "    root._bokeh_onload_callbacks = [];\n",
       "    root._bokeh_is_loading = undefined;\n",
       "  }\n",
       "\n",
       "const JS_MIME_TYPE = 'application/javascript';\n",
       "  const HTML_MIME_TYPE = 'text/html';\n",
       "  const EXEC_MIME_TYPE = 'application/vnd.bokehjs_exec.v0+json';\n",
       "  const CLASS_NAME = 'output_bokeh rendered_html';\n",
       "\n",
       "  /**\n",
       "   * Render data to the DOM node\n",
       "   */\n",
       "  function render(props, node) {\n",
       "    const script = document.createElement(\"script\");\n",
       "    node.appendChild(script);\n",
       "  }\n",
       "\n",
       "  /**\n",
       "   * Handle when an output is cleared or removed\n",
       "   */\n",
       "  function handleClearOutput(event, handle) {\n",
       "    const cell = handle.cell;\n",
       "\n",
       "    const id = cell.output_area._bokeh_element_id;\n",
       "    const server_id = cell.output_area._bokeh_server_id;\n",
       "    // Clean up Bokeh references\n",
       "    if (id != null && id in Bokeh.index) {\n",
       "      Bokeh.index[id].model.document.clear();\n",
       "      delete Bokeh.index[id];\n",
       "    }\n",
       "\n",
       "    if (server_id !== undefined) {\n",
       "      // Clean up Bokeh references\n",
       "      const cmd_clean = \"from bokeh.io.state import curstate; print(curstate().uuid_to_server['\" + server_id + \"'].get_sessions()[0].document.roots[0]._id)\";\n",
       "      cell.notebook.kernel.execute(cmd_clean, {\n",
       "        iopub: {\n",
       "          output: function(msg) {\n",
       "            const id = msg.content.text.trim();\n",
       "            if (id in Bokeh.index) {\n",
       "              Bokeh.index[id].model.document.clear();\n",
       "              delete Bokeh.index[id];\n",
       "            }\n",
       "          }\n",
       "        }\n",
       "      });\n",
       "      // Destroy server and session\n",
       "      const cmd_destroy = \"import bokeh.io.notebook as ion; ion.destroy_server('\" + server_id + \"')\";\n",
       "      cell.notebook.kernel.execute(cmd_destroy);\n",
       "    }\n",
       "  }\n",
       "\n",
       "  /**\n",
       "   * Handle when a new output is added\n",
       "   */\n",
       "  function handleAddOutput(event, handle) {\n",
       "    const output_area = handle.output_area;\n",
       "    const output = handle.output;\n",
       "\n",
       "    // limit handleAddOutput to display_data with EXEC_MIME_TYPE content only\n",
       "    if ((output.output_type != \"display_data\") || (!Object.prototype.hasOwnProperty.call(output.data, EXEC_MIME_TYPE))) {\n",
       "      return\n",
       "    }\n",
       "\n",
       "    const toinsert = output_area.element.find(\".\" + CLASS_NAME.split(' ')[0]);\n",
       "\n",
       "    if (output.metadata[EXEC_MIME_TYPE][\"id\"] !== undefined) {\n",
       "      toinsert[toinsert.length - 1].firstChild.textContent = output.data[JS_MIME_TYPE];\n",
       "      // store reference to embed id on output_area\n",
       "      output_area._bokeh_element_id = output.metadata[EXEC_MIME_TYPE][\"id\"];\n",
       "    }\n",
       "    if (output.metadata[EXEC_MIME_TYPE][\"server_id\"] !== undefined) {\n",
       "      const bk_div = document.createElement(\"div\");\n",
       "      bk_div.innerHTML = output.data[HTML_MIME_TYPE];\n",
       "      const script_attrs = bk_div.children[0].attributes;\n",
       "      for (let i = 0; i < script_attrs.length; i++) {\n",
       "        toinsert[toinsert.length - 1].firstChild.setAttribute(script_attrs[i].name, script_attrs[i].value);\n",
       "        toinsert[toinsert.length - 1].firstChild.textContent = bk_div.children[0].textContent\n",
       "      }\n",
       "      // store reference to server id on output_area\n",
       "      output_area._bokeh_server_id = output.metadata[EXEC_MIME_TYPE][\"server_id\"];\n",
       "    }\n",
       "  }\n",
       "\n",
       "  function register_renderer(events, OutputArea) {\n",
       "\n",
       "    function append_mime(data, metadata, element) {\n",
       "      // create a DOM node to render to\n",
       "      const toinsert = this.create_output_subarea(\n",
       "        metadata,\n",
       "        CLASS_NAME,\n",
       "        EXEC_MIME_TYPE\n",
       "      );\n",
       "      this.keyboard_manager.register_events(toinsert);\n",
       "      // Render to node\n",
       "      const props = {data: data, metadata: metadata[EXEC_MIME_TYPE]};\n",
       "      render(props, toinsert[toinsert.length - 1]);\n",
       "      element.append(toinsert);\n",
       "      return toinsert\n",
       "    }\n",
       "\n",
       "    /* Handle when an output is cleared or removed */\n",
       "    events.on('clear_output.CodeCell', handleClearOutput);\n",
       "    events.on('delete.Cell', handleClearOutput);\n",
       "\n",
       "    /* Handle when a new output is added */\n",
       "    events.on('output_added.OutputArea', handleAddOutput);\n",
       "\n",
       "    /**\n",
       "     * Register the mime type and append_mime function with output_area\n",
       "     */\n",
       "    OutputArea.prototype.register_mime_type(EXEC_MIME_TYPE, append_mime, {\n",
       "      /* Is output safe? */\n",
       "      safe: true,\n",
       "      /* Index of renderer in `output_area.display_order` */\n",
       "      index: 0\n",
       "    });\n",
       "  }\n",
       "\n",
       "  // register the mime type if in Jupyter Notebook environment and previously unregistered\n",
       "  if (root.Jupyter !== undefined) {\n",
       "    const events = require('base/js/events');\n",
       "    const OutputArea = require('notebook/js/outputarea').OutputArea;\n",
       "\n",
       "    if (OutputArea.prototype.mime_types().indexOf(EXEC_MIME_TYPE) == -1) {\n",
       "      register_renderer(events, OutputArea);\n",
       "    }\n",
       "  }\n",
       "  if (typeof (root._bokeh_timeout) === \"undefined\" || force === true) {\n",
       "    root._bokeh_timeout = Date.now() + 5000;\n",
       "    root._bokeh_failed_load = false;\n",
       "  }\n",
       "\n",
       "  const NB_LOAD_WARNING = {'data': {'text/html':\n",
       "     \"<div style='background-color: #fdd'>\\n\"+\n",
       "     \"<p>\\n\"+\n",
       "     \"BokehJS does not appear to have successfully loaded. If loading BokehJS from CDN, this \\n\"+\n",
       "     \"may be due to a slow or bad network connection. Possible fixes:\\n\"+\n",
       "     \"</p>\\n\"+\n",
       "     \"<ul>\\n\"+\n",
       "     \"<li>re-rerun `output_notebook()` to attempt to load from CDN again, or</li>\\n\"+\n",
       "     \"<li>use INLINE resources instead, as so:</li>\\n\"+\n",
       "     \"</ul>\\n\"+\n",
       "     \"<code>\\n\"+\n",
       "     \"from bokeh.resources import INLINE\\n\"+\n",
       "     \"output_notebook(resources=INLINE)\\n\"+\n",
       "     \"</code>\\n\"+\n",
       "     \"</div>\"}};\n",
       "\n",
       "  function display_loaded() {\n",
       "    const el = document.getElementById(\"1002\");\n",
       "    if (el != null) {\n",
       "      el.textContent = \"BokehJS is loading...\";\n",
       "    }\n",
       "    if (root.Bokeh !== undefined) {\n",
       "      if (el != null) {\n",
       "        el.textContent = \"BokehJS \" + root.Bokeh.version + \" successfully loaded.\";\n",
       "      }\n",
       "    } else if (Date.now() < root._bokeh_timeout) {\n",
       "      setTimeout(display_loaded, 100)\n",
       "    }\n",
       "  }\n",
       "\n",
       "  function run_callbacks() {\n",
       "    try {\n",
       "      root._bokeh_onload_callbacks.forEach(function(callback) {\n",
       "        if (callback != null)\n",
       "          callback();\n",
       "      });\n",
       "    } finally {\n",
       "      delete root._bokeh_onload_callbacks\n",
       "    }\n",
       "    console.debug(\"Bokeh: all callbacks have finished\");\n",
       "  }\n",
       "\n",
       "  function load_libs(css_urls, js_urls, callback) {\n",
       "    if (css_urls == null) css_urls = [];\n",
       "    if (js_urls == null) js_urls = [];\n",
       "\n",
       "    root._bokeh_onload_callbacks.push(callback);\n",
       "    if (root._bokeh_is_loading > 0) {\n",
       "      console.debug(\"Bokeh: BokehJS is being loaded, scheduling callback at\", now());\n",
       "      return null;\n",
       "    }\n",
       "    if (js_urls == null || js_urls.length === 0) {\n",
       "      run_callbacks();\n",
       "      return null;\n",
       "    }\n",
       "    console.debug(\"Bokeh: BokehJS not loaded, scheduling load and callback at\", now());\n",
       "    root._bokeh_is_loading = css_urls.length + js_urls.length;\n",
       "\n",
       "    function on_load() {\n",
       "      root._bokeh_is_loading--;\n",
       "      if (root._bokeh_is_loading === 0) {\n",
       "        console.debug(\"Bokeh: all BokehJS libraries/stylesheets loaded\");\n",
       "        run_callbacks()\n",
       "      }\n",
       "    }\n",
       "\n",
       "    function on_error(url) {\n",
       "      console.error(\"failed to load \" + url);\n",
       "    }\n",
       "\n",
       "    for (let i = 0; i < css_urls.length; i++) {\n",
       "      const url = css_urls[i];\n",
       "      const element = document.createElement(\"link\");\n",
       "      element.onload = on_load;\n",
       "      element.onerror = on_error.bind(null, url);\n",
       "      element.rel = \"stylesheet\";\n",
       "      element.type = \"text/css\";\n",
       "      element.href = url;\n",
       "      console.debug(\"Bokeh: injecting link tag for BokehJS stylesheet: \", url);\n",
       "      document.body.appendChild(element);\n",
       "    }\n",
       "\n",
       "    for (let i = 0; i < js_urls.length; i++) {\n",
       "      const url = js_urls[i];\n",
       "      const element = document.createElement('script');\n",
       "      element.onload = on_load;\n",
       "      element.onerror = on_error.bind(null, url);\n",
       "      element.async = false;\n",
       "      element.src = url;\n",
       "      console.debug(\"Bokeh: injecting script tag for BokehJS library: \", url);\n",
       "      document.head.appendChild(element);\n",
       "    }\n",
       "  };\n",
       "\n",
       "  function inject_raw_css(css) {\n",
       "    const element = document.createElement(\"style\");\n",
       "    element.appendChild(document.createTextNode(css));\n",
       "    document.body.appendChild(element);\n",
       "  }\n",
       "\n",
       "  const js_urls = [\"https://cdn.bokeh.org/bokeh/release/bokeh-2.4.3.min.js\", \"https://cdn.bokeh.org/bokeh/release/bokeh-gl-2.4.3.min.js\", \"https://cdn.bokeh.org/bokeh/release/bokeh-widgets-2.4.3.min.js\", \"https://cdn.bokeh.org/bokeh/release/bokeh-tables-2.4.3.min.js\", \"https://cdn.bokeh.org/bokeh/release/bokeh-mathjax-2.4.3.min.js\"];\n",
       "  const css_urls = [];\n",
       "\n",
       "  const inline_js = [    function(Bokeh) {\n",
       "      Bokeh.set_log_level(\"info\");\n",
       "    },\n",
       "function(Bokeh) {\n",
       "    }\n",
       "  ];\n",
       "\n",
       "  function run_inline_js() {\n",
       "    if (root.Bokeh !== undefined || force === true) {\n",
       "          for (let i = 0; i < inline_js.length; i++) {\n",
       "      inline_js[i].call(root, root.Bokeh);\n",
       "    }\n",
       "if (force === true) {\n",
       "        display_loaded();\n",
       "      }} else if (Date.now() < root._bokeh_timeout) {\n",
       "      setTimeout(run_inline_js, 100);\n",
       "    } else if (!root._bokeh_failed_load) {\n",
       "      console.log(\"Bokeh: BokehJS failed to load within specified timeout.\");\n",
       "      root._bokeh_failed_load = true;\n",
       "    } else if (force !== true) {\n",
       "      const cell = $(document.getElementById(\"1002\")).parents('.cell').data().cell;\n",
       "      cell.output_area.append_execute_result(NB_LOAD_WARNING)\n",
       "    }\n",
       "  }\n",
       "\n",
       "  if (root._bokeh_is_loading === 0) {\n",
       "    console.debug(\"Bokeh: BokehJS loaded, going straight to plotting\");\n",
       "    run_inline_js();\n",
       "  } else {\n",
       "    load_libs(css_urls, js_urls, function() {\n",
       "      console.debug(\"Bokeh: BokehJS plotting callback run at\", now());\n",
       "      run_inline_js();\n",
       "    });\n",
       "  }\n",
       "}(window));"
      ],
      "application/vnd.bokehjs_load.v0+json": "(function(root) {\n  function now() {\n    return new Date();\n  }\n\n  const force = true;\n\n  if (typeof root._bokeh_onload_callbacks === \"undefined\" || force === true) {\n    root._bokeh_onload_callbacks = [];\n    root._bokeh_is_loading = undefined;\n  }\n\n\n  if (typeof (root._bokeh_timeout) === \"undefined\" || force === true) {\n    root._bokeh_timeout = Date.now() + 5000;\n    root._bokeh_failed_load = false;\n  }\n\n  const NB_LOAD_WARNING = {'data': {'text/html':\n     \"<div style='background-color: #fdd'>\\n\"+\n     \"<p>\\n\"+\n     \"BokehJS does not appear to have successfully loaded. If loading BokehJS from CDN, this \\n\"+\n     \"may be due to a slow or bad network connection. Possible fixes:\\n\"+\n     \"</p>\\n\"+\n     \"<ul>\\n\"+\n     \"<li>re-rerun `output_notebook()` to attempt to load from CDN again, or</li>\\n\"+\n     \"<li>use INLINE resources instead, as so:</li>\\n\"+\n     \"</ul>\\n\"+\n     \"<code>\\n\"+\n     \"from bokeh.resources import INLINE\\n\"+\n     \"output_notebook(resources=INLINE)\\n\"+\n     \"</code>\\n\"+\n     \"</div>\"}};\n\n  function display_loaded() {\n    const el = document.getElementById(\"1002\");\n    if (el != null) {\n      el.textContent = \"BokehJS is loading...\";\n    }\n    if (root.Bokeh !== undefined) {\n      if (el != null) {\n        el.textContent = \"BokehJS \" + root.Bokeh.version + \" successfully loaded.\";\n      }\n    } else if (Date.now() < root._bokeh_timeout) {\n      setTimeout(display_loaded, 100)\n    }\n  }\n\n  function run_callbacks() {\n    try {\n      root._bokeh_onload_callbacks.forEach(function(callback) {\n        if (callback != null)\n          callback();\n      });\n    } finally {\n      delete root._bokeh_onload_callbacks\n    }\n    console.debug(\"Bokeh: all callbacks have finished\");\n  }\n\n  function load_libs(css_urls, js_urls, callback) {\n    if (css_urls == null) css_urls = [];\n    if (js_urls == null) js_urls = [];\n\n    root._bokeh_onload_callbacks.push(callback);\n    if (root._bokeh_is_loading > 0) {\n      console.debug(\"Bokeh: BokehJS is being loaded, scheduling callback at\", now());\n      return null;\n    }\n    if (js_urls == null || js_urls.length === 0) {\n      run_callbacks();\n      return null;\n    }\n    console.debug(\"Bokeh: BokehJS not loaded, scheduling load and callback at\", now());\n    root._bokeh_is_loading = css_urls.length + js_urls.length;\n\n    function on_load() {\n      root._bokeh_is_loading--;\n      if (root._bokeh_is_loading === 0) {\n        console.debug(\"Bokeh: all BokehJS libraries/stylesheets loaded\");\n        run_callbacks()\n      }\n    }\n\n    function on_error(url) {\n      console.error(\"failed to load \" + url);\n    }\n\n    for (let i = 0; i < css_urls.length; i++) {\n      const url = css_urls[i];\n      const element = document.createElement(\"link\");\n      element.onload = on_load;\n      element.onerror = on_error.bind(null, url);\n      element.rel = \"stylesheet\";\n      element.type = \"text/css\";\n      element.href = url;\n      console.debug(\"Bokeh: injecting link tag for BokehJS stylesheet: \", url);\n      document.body.appendChild(element);\n    }\n\n    for (let i = 0; i < js_urls.length; i++) {\n      const url = js_urls[i];\n      const element = document.createElement('script');\n      element.onload = on_load;\n      element.onerror = on_error.bind(null, url);\n      element.async = false;\n      element.src = url;\n      console.debug(\"Bokeh: injecting script tag for BokehJS library: \", url);\n      document.head.appendChild(element);\n    }\n  };\n\n  function inject_raw_css(css) {\n    const element = document.createElement(\"style\");\n    element.appendChild(document.createTextNode(css));\n    document.body.appendChild(element);\n  }\n\n  const js_urls = [\"https://cdn.bokeh.org/bokeh/release/bokeh-2.4.3.min.js\", \"https://cdn.bokeh.org/bokeh/release/bokeh-gl-2.4.3.min.js\", \"https://cdn.bokeh.org/bokeh/release/bokeh-widgets-2.4.3.min.js\", \"https://cdn.bokeh.org/bokeh/release/bokeh-tables-2.4.3.min.js\", \"https://cdn.bokeh.org/bokeh/release/bokeh-mathjax-2.4.3.min.js\"];\n  const css_urls = [];\n\n  const inline_js = [    function(Bokeh) {\n      Bokeh.set_log_level(\"info\");\n    },\nfunction(Bokeh) {\n    }\n  ];\n\n  function run_inline_js() {\n    if (root.Bokeh !== undefined || force === true) {\n          for (let i = 0; i < inline_js.length; i++) {\n      inline_js[i].call(root, root.Bokeh);\n    }\nif (force === true) {\n        display_loaded();\n      }} else if (Date.now() < root._bokeh_timeout) {\n      setTimeout(run_inline_js, 100);\n    } else if (!root._bokeh_failed_load) {\n      console.log(\"Bokeh: BokehJS failed to load within specified timeout.\");\n      root._bokeh_failed_load = true;\n    } else if (force !== true) {\n      const cell = $(document.getElementById(\"1002\")).parents('.cell').data().cell;\n      cell.output_area.append_execute_result(NB_LOAD_WARNING)\n    }\n  }\n\n  if (root._bokeh_is_loading === 0) {\n    console.debug(\"Bokeh: BokehJS loaded, going straight to plotting\");\n    run_inline_js();\n  } else {\n    load_libs(css_urls, js_urls, function() {\n      console.debug(\"Bokeh: BokehJS plotting callback run at\", now());\n      run_inline_js();\n    });\n  }\n}(window));"
     },
     "metadata": {},
     "output_type": "display_data"
    }
   ],
   "source": [
    "output_notebook()"
   ]
  },
  {
   "cell_type": "code",
   "execution_count": 3,
   "id": "6c7a30e9-97a4-4344-b832-ba526d2836e9",
   "metadata": {
    "execution": {
     "iopub.execute_input": "2022-10-17T17:54:12.355236Z",
     "iopub.status.busy": "2022-10-17T17:54:12.355002Z",
     "iopub.status.idle": "2022-10-17T17:54:12.381157Z",
     "shell.execute_reply": "2022-10-17T17:54:12.380458Z"
    }
   },
   "outputs": [],
   "source": [
    "df = get_analytics_data('pvanalytics')\n",
    "data_period = df['Date'].min().strftime('%Y-%m-%d') + ' to ' + df['Date'].max().strftime('%Y-%m-%d')"
   ]
  },
  {
   "cell_type": "code",
   "execution_count": 4,
   "id": "60c947c9-f9c2-4ccf-b5e7-c9c9f3359e05",
   "metadata": {
    "execution": {
     "iopub.execute_input": "2022-10-17T17:54:12.385024Z",
     "iopub.status.busy": "2022-10-17T17:54:12.384782Z",
     "iopub.status.idle": "2022-10-17T17:54:12.434847Z",
     "shell.execute_reply": "2022-10-17T17:54:12.434102Z"
    }
   },
   "outputs": [
    {
     "data": {
      "text/html": [
       "\n",
       "  <div class=\"bk-root\" id=\"d51ef38e-7cae-496b-888c-82cde11c1ec8\" data-root-id=\"1003\"></div>\n"
      ]
     },
     "metadata": {},
     "output_type": "display_data"
    },
    {
     "data": {
      "application/javascript": [
       "(function(root) {\n",
       "  function embed_document(root) {\n",
       "  const docs_json = {\"5c12c748-73f4-488a-966c-9cc389ee06df\":{\"defs\":[],\"roots\":{\"references\":[{\"attributes\":{\"below\":[{\"id\":\"1014\"}],\"center\":[{\"id\":\"1016\"},{\"id\":\"1020\"}],\"height\":350,\"left\":[{\"id\":\"1017\"}],\"renderers\":[{\"id\":\"1042\"}],\"title\":{\"id\":\"1004\"},\"toolbar\":{\"id\":\"1029\"},\"x_range\":{\"id\":\"1006\"},\"x_scale\":{\"id\":\"1010\"},\"y_range\":{\"id\":\"1008\"},\"y_scale\":{\"id\":\"1012\"}},\"id\":\"1003\",\"subtype\":\"Figure\",\"type\":\"Plot\"},{\"attributes\":{\"fill_color\":{\"value\":\"#1f77b4\"},\"line_color\":{\"value\":\"white\"},\"top\":{\"field\":\"Views\"},\"width\":{\"value\":0.75},\"x\":{\"field\":\"Version\"}},\"id\":\"1039\",\"type\":\"VBar\"},{\"attributes\":{},\"id\":\"1047\",\"type\":\"AllLabels\"},{\"attributes\":{\"callback\":null,\"tooltips\":[[\"Version\",\"@Version\"],[\"Views\",\"@Views\"]]},\"id\":\"1028\",\"type\":\"HoverTool\"},{\"attributes\":{},\"id\":\"1046\",\"type\":\"BasicTickFormatter\"},{\"attributes\":{},\"id\":\"1018\",\"type\":\"BasicTicker\"},{\"attributes\":{},\"id\":\"1049\",\"type\":\"CategoricalTickFormatter\"},{\"attributes\":{},\"id\":\"1010\",\"type\":\"CategoricalScale\"},{\"attributes\":{\"fill_alpha\":{\"value\":0.1},\"fill_color\":{\"value\":\"#1f77b4\"},\"hatch_alpha\":{\"value\":0.1},\"line_alpha\":{\"value\":0.1},\"line_color\":{\"value\":\"white\"},\"top\":{\"field\":\"Views\"},\"width\":{\"value\":0.75},\"x\":{\"field\":\"Version\"}},\"id\":\"1040\",\"type\":\"VBar\"},{\"attributes\":{},\"id\":\"1052\",\"type\":\"Selection\"},{\"attributes\":{\"fill_alpha\":{\"value\":0.2},\"fill_color\":{\"value\":\"#1f77b4\"},\"hatch_alpha\":{\"value\":0.2},\"line_alpha\":{\"value\":0.2},\"line_color\":{\"value\":\"white\"},\"top\":{\"field\":\"Views\"},\"width\":{\"value\":0.75},\"x\":{\"field\":\"Version\"}},\"id\":\"1041\",\"type\":\"VBar\"},{\"attributes\":{\"coordinates\":null,\"data_source\":{\"id\":\"1037\"},\"glyph\":{\"id\":\"1039\"},\"group\":null,\"hover_glyph\":null,\"muted_glyph\":{\"id\":\"1041\"},\"nonselection_glyph\":{\"id\":\"1040\"},\"view\":{\"id\":\"1043\"}},\"id\":\"1042\",\"type\":\"GlyphRenderer\"},{\"attributes\":{},\"id\":\"1025\",\"type\":\"ResetTool\"},{\"attributes\":{},\"id\":\"1024\",\"type\":\"SaveTool\"},{\"attributes\":{\"overlay\":{\"id\":\"1027\"}},\"id\":\"1023\",\"type\":\"BoxZoomTool\"},{\"attributes\":{},\"id\":\"1021\",\"type\":\"PanTool\"},{\"attributes\":{},\"id\":\"1012\",\"type\":\"LinearScale\"},{\"attributes\":{\"source\":{\"id\":\"1037\"}},\"id\":\"1043\",\"type\":\"CDSView\"},{\"attributes\":{\"factors\":[\"latest\",\"stable\",\"v0.1.0\",\"v0.1.1\",\"v0.1.2\"]},\"id\":\"1006\",\"type\":\"FactorRange\"},{\"attributes\":{\"axis\":{\"id\":\"1014\"},\"coordinates\":null,\"group\":null,\"ticker\":null},\"id\":\"1016\",\"type\":\"Grid\"},{\"attributes\":{},\"id\":\"1026\",\"type\":\"HelpTool\"},{\"attributes\":{},\"id\":\"1022\",\"type\":\"WheelZoomTool\"},{\"attributes\":{},\"id\":\"1051\",\"type\":\"UnionRenderers\"},{\"attributes\":{},\"id\":\"1008\",\"type\":\"DataRange1d\"},{\"attributes\":{},\"id\":\"1050\",\"type\":\"AllLabels\"},{\"attributes\":{\"tools\":[{\"id\":\"1021\"},{\"id\":\"1022\"},{\"id\":\"1023\"},{\"id\":\"1024\"},{\"id\":\"1025\"},{\"id\":\"1026\"},{\"id\":\"1028\"}]},\"id\":\"1029\",\"type\":\"Toolbar\"},{\"attributes\":{\"coordinates\":null,\"formatter\":{\"id\":\"1049\"},\"group\":null,\"major_label_orientation\":1.57,\"major_label_policy\":{\"id\":\"1050\"},\"ticker\":{\"id\":\"1015\"}},\"id\":\"1014\",\"type\":\"CategoricalAxis\"},{\"attributes\":{},\"id\":\"1015\",\"type\":\"CategoricalTicker\"},{\"attributes\":{\"coordinates\":null,\"group\":null,\"text\":\"Page views by RTD version (2022-06-15 to 2022-10-17)\"},\"id\":\"1004\",\"type\":\"Title\"},{\"attributes\":{\"axis_label\":\"Total page views\",\"coordinates\":null,\"formatter\":{\"id\":\"1046\"},\"group\":null,\"major_label_policy\":{\"id\":\"1047\"},\"ticker\":{\"id\":\"1018\"}},\"id\":\"1017\",\"type\":\"LinearAxis\"},{\"attributes\":{\"data\":{\"Version\":[\"latest\",\"stable\",\"v0.1.0\",\"v0.1.1\",\"v0.1.2\"],\"Views\":[153,1863,11,9,29],\"index\":[0,1,2,3,4]},\"selected\":{\"id\":\"1052\"},\"selection_policy\":{\"id\":\"1051\"}},\"id\":\"1037\",\"type\":\"ColumnDataSource\"},{\"attributes\":{\"axis\":{\"id\":\"1017\"},\"coordinates\":null,\"dimension\":1,\"group\":null,\"ticker\":null},\"id\":\"1020\",\"type\":\"Grid\"},{\"attributes\":{\"bottom_units\":\"screen\",\"coordinates\":null,\"fill_alpha\":0.5,\"fill_color\":\"lightgrey\",\"group\":null,\"left_units\":\"screen\",\"level\":\"overlay\",\"line_alpha\":1.0,\"line_color\":\"black\",\"line_dash\":[4,4],\"line_width\":2,\"right_units\":\"screen\",\"syncable\":false,\"top_units\":\"screen\"},\"id\":\"1027\",\"type\":\"BoxAnnotation\"}],\"root_ids\":[\"1003\"]},\"title\":\"Bokeh Application\",\"version\":\"2.4.3\"}};\n",
       "  const render_items = [{\"docid\":\"5c12c748-73f4-488a-966c-9cc389ee06df\",\"root_ids\":[\"1003\"],\"roots\":{\"1003\":\"d51ef38e-7cae-496b-888c-82cde11c1ec8\"}}];\n",
       "  root.Bokeh.embed.embed_items_notebook(docs_json, render_items);\n",
       "  }\n",
       "  if (root.Bokeh !== undefined) {\n",
       "    embed_document(root);\n",
       "  } else {\n",
       "    let attempts = 0;\n",
       "    const timer = setInterval(function(root) {\n",
       "      if (root.Bokeh !== undefined) {\n",
       "        clearInterval(timer);\n",
       "        embed_document(root);\n",
       "      } else {\n",
       "        attempts++;\n",
       "        if (attempts > 100) {\n",
       "          clearInterval(timer);\n",
       "          console.log(\"Bokeh: ERROR: Unable to run BokehJS code because BokehJS library is missing\");\n",
       "        }\n",
       "      }\n",
       "    }, 10, root)\n",
       "  }\n",
       "})(window);"
      ],
      "application/vnd.bokehjs_exec.v0+json": ""
     },
     "metadata": {
      "application/vnd.bokehjs_exec.v0+json": {
       "id": "1003"
      }
     },
     "output_type": "display_data"
    }
   ],
   "source": [
    "total_by_version = df.groupby('Version')['Views'].sum().reset_index()\n",
    "\n",
    "p = figure(x_range=total_by_version['Version'], height=350, tooltips=[(\"Version\", \"@Version\"), (\"Views\", \"@Views\")],\n",
    "           title=f\"Page views by RTD version ({data_period})\",)\n",
    "p.vbar(x='Version', top='Views', width=0.75, source=total_by_version,\n",
    "       line_color='white')\n",
    "p.xaxis.major_label_orientation = 3.14/2\n",
    "p.yaxis.axis_label = 'Total page views'\n",
    "show(p)"
   ]
  },
  {
   "cell_type": "code",
   "execution_count": 5,
   "id": "2104961b-ff35-43b3-bf0b-dfdf7c932c55",
   "metadata": {
    "execution": {
     "iopub.execute_input": "2022-10-17T17:54:12.439362Z",
     "iopub.status.busy": "2022-10-17T17:54:12.439122Z",
     "iopub.status.idle": "2022-10-17T17:54:12.578237Z",
     "shell.execute_reply": "2022-10-17T17:54:12.577465Z"
    }
   },
   "outputs": [
    {
     "data": {
      "text/html": [
       "\n",
       "  <div class=\"bk-root\" id=\"eaf37010-71cc-496d-ab7a-0bb450e73cdc\" data-root-id=\"1104\"></div>\n"
      ]
     },
     "metadata": {},
     "output_type": "display_data"
    },
    {
     "data": {
      "application/javascript": [
       "(function(root) {\n",
       "  function embed_document(root) {\n",
       "  const docs_json = {\"7c35b814-1d63-4b2b-a0f7-c3c8da01f61e\":{\"defs\":[],\"roots\":{\"references\":[{\"attributes\":{\"below\":[{\"id\":\"1115\"}],\"center\":[{\"id\":\"1118\"},{\"id\":\"1122\"},{\"id\":\"1167\"}],\"height\":350,\"left\":[{\"id\":\"1119\"}],\"renderers\":[{\"id\":\"1143\"},{\"id\":\"1173\"}],\"title\":{\"id\":\"1105\"},\"toolbar\":{\"id\":\"1130\"},\"x_range\":{\"id\":\"1107\"},\"x_scale\":{\"id\":\"1111\"},\"y_range\":{\"id\":\"1109\"},\"y_scale\":{\"id\":\"1113\"}},\"id\":\"1104\",\"subtype\":\"Figure\",\"type\":\"Plot\"},{\"attributes\":{},\"id\":\"1123\",\"type\":\"PanTool\"},{\"attributes\":{\"months\":[0,1,2,3,4,5,6,7,8,9,10,11]},\"id\":\"1162\",\"type\":\"MonthsTicker\"},{\"attributes\":{\"coordinates\":null,\"data_source\":{\"id\":\"1139\"},\"glyph\":{\"id\":\"1140\"},\"group\":null,\"hover_glyph\":null,\"muted_glyph\":{\"id\":\"1142\"},\"nonselection_glyph\":{\"id\":\"1141\"},\"view\":{\"id\":\"1144\"}},\"id\":\"1143\",\"type\":\"GlyphRenderer\"},{\"attributes\":{},\"id\":\"1107\",\"type\":\"DataRange1d\"},{\"attributes\":{\"overlay\":{\"id\":\"1129\"}},\"id\":\"1125\",\"type\":\"BoxZoomTool\"},{\"attributes\":{\"days\":[1,8,15,22]},\"id\":\"1160\",\"type\":\"DaysTicker\"},{\"attributes\":{},\"id\":\"1109\",\"type\":\"DataRange1d\"},{\"attributes\":{},\"id\":\"1184\",\"type\":\"UnionRenderers\"},{\"attributes\":{\"days\":[1,15]},\"id\":\"1161\",\"type\":\"DaysTicker\"},{\"attributes\":{},\"id\":\"1166\",\"type\":\"YearsTicker\"},{\"attributes\":{\"months\":[0,6]},\"id\":\"1165\",\"type\":\"MonthsTicker\"},{\"attributes\":{\"line_alpha\":0.2,\"line_color\":\"#1f77b4\",\"x\":{\"field\":\"x\"},\"y\":{\"field\":\"y\"}},\"id\":\"1142\",\"type\":\"Line\"},{\"attributes\":{\"coordinates\":null,\"group\":null,\"items\":[{\"id\":\"1168\"},{\"id\":\"1199\"}]},\"id\":\"1167\",\"type\":\"Legend\"},{\"attributes\":{},\"id\":\"1148\",\"type\":\"AllLabels\"},{\"attributes\":{},\"id\":\"1153\",\"type\":\"Selection\"},{\"attributes\":{},\"id\":\"1147\",\"type\":\"BasicTickFormatter\"},{\"attributes\":{\"tools\":[{\"id\":\"1123\"},{\"id\":\"1124\"},{\"id\":\"1125\"},{\"id\":\"1126\"},{\"id\":\"1127\"},{\"id\":\"1128\"},{\"id\":\"1137\"}]},\"id\":\"1130\",\"type\":\"Toolbar\"},{\"attributes\":{},\"id\":\"1185\",\"type\":\"Selection\"},{\"attributes\":{\"months\":[0,4,8]},\"id\":\"1164\",\"type\":\"MonthsTicker\"},{\"attributes\":{},\"id\":\"1150\",\"type\":\"DatetimeTickFormatter\"},{\"attributes\":{},\"id\":\"1128\",\"type\":\"HelpTool\"},{\"attributes\":{\"callback\":null,\"formatters\":{\"@x\":\"datetime\"},\"tooltips\":[[\"Date\",\"@x{%Y-%m-%d}\"],[\"Views\",\"@y\"]]},\"id\":\"1137\",\"type\":\"HoverTool\"},{\"attributes\":{\"coordinates\":null,\"group\":null,\"text\":\"Daily views by RTD version\"},\"id\":\"1105\",\"type\":\"Title\"},{\"attributes\":{\"label\":{\"value\":\"stable\"},\"renderers\":[{\"id\":\"1143\"}]},\"id\":\"1168\",\"type\":\"LegendItem\"},{\"attributes\":{\"axis_label\":\"Daily page views\",\"coordinates\":null,\"formatter\":{\"id\":\"1147\"},\"group\":null,\"major_label_policy\":{\"id\":\"1148\"},\"ticker\":{\"id\":\"1120\"}},\"id\":\"1119\",\"type\":\"LinearAxis\"},{\"attributes\":{},\"id\":\"1151\",\"type\":\"AllLabels\"},{\"attributes\":{},\"id\":\"1113\",\"type\":\"LinearScale\"},{\"attributes\":{},\"id\":\"1152\",\"type\":\"UnionRenderers\"},{\"attributes\":{\"bottom_units\":\"screen\",\"coordinates\":null,\"fill_alpha\":0.5,\"fill_color\":\"lightgrey\",\"group\":null,\"left_units\":\"screen\",\"level\":\"overlay\",\"line_alpha\":1.0,\"line_color\":\"black\",\"line_dash\":[4,4],\"line_width\":2,\"right_units\":\"screen\",\"syncable\":false,\"top_units\":\"screen\"},\"id\":\"1129\",\"type\":\"BoxAnnotation\"},{\"attributes\":{},\"id\":\"1111\",\"type\":\"LinearScale\"},{\"attributes\":{\"num_minor_ticks\":5,\"tickers\":[{\"id\":\"1155\"},{\"id\":\"1156\"},{\"id\":\"1157\"},{\"id\":\"1158\"},{\"id\":\"1159\"},{\"id\":\"1160\"},{\"id\":\"1161\"},{\"id\":\"1162\"},{\"id\":\"1163\"},{\"id\":\"1164\"},{\"id\":\"1165\"},{\"id\":\"1166\"}]},\"id\":\"1116\",\"type\":\"DatetimeTicker\"},{\"attributes\":{\"days\":[1,2,3,4,5,6,7,8,9,10,11,12,13,14,15,16,17,18,19,20,21,22,23,24,25,26,27,28,29,30,31]},\"id\":\"1158\",\"type\":\"DaysTicker\"},{\"attributes\":{\"mantissas\":[1,2,5],\"max_interval\":500.0,\"num_minor_ticks\":0},\"id\":\"1155\",\"type\":\"AdaptiveTicker\"},{\"attributes\":{\"line_color\":\"#1f77b4\",\"x\":{\"field\":\"x\"},\"y\":{\"field\":\"y\"}},\"id\":\"1140\",\"type\":\"Line\"},{\"attributes\":{\"base\":24,\"mantissas\":[1,2,4,6,8,12],\"max_interval\":43200000.0,\"min_interval\":3600000.0,\"num_minor_ticks\":0},\"id\":\"1157\",\"type\":\"AdaptiveTicker\"},{\"attributes\":{\"months\":[0,2,4,6,8,10]},\"id\":\"1163\",\"type\":\"MonthsTicker\"},{\"attributes\":{\"data\":{\"x\":{\"__ndarray__\":\"AACAjkoWeEIAAABa7xZ4QgAAwL9BF3hCAACAJZQXeEIAAECL5hd4QgAAAPE4GHhCAACAvN0YeEIAAEAiMBl4QgAAwO3UGXhCAACAUycaeEIAAEC5eRp4QgAAAB/MGnhCAADAhB4beEIAAIDqcBt4QgAAQFDDG3hCAACAgboceEIAAEDnDB14QgAAAE1fHXhCAADAsrEdeEIAAIAYBB54QgAAQH5WHnhCAAAA5KgeeEIAAMBJ+x54QgAAgK9NH3hCAABAFaAfeEIAAAB78h94QgAAwOBEIHhCAACARpcgeEIAAECs6SB4QgAAABI8IXhCAADAd44heEIAAIDd4CF4QgAAQEMzInhCAADADtgieEIAAIB0KiN4QgAAQNp8I3hCAAAAQM8jeEIAAMClISR4QgAAgAt0JHhCAABAccYkeEIAAADXGCV4QgAAwDxrJXhCAACAor0leEIAAEAIECZ4QgAAAG5iJnhCAADA07QmeEIAAECfWSd4QgAAAAWsJ3hCAADAav4neEIAAIDQUCh4QgAAQDajKHhCAAAAnPUoeEIAAMABSCl4QgAAQM3sKXhCAAAAMz8qeEIAAMCYkSp4QgAAgP7jKnhCAABAZDYreEIAAADKiCt4QgAAwC/bK3hCAACAlS0seEIAAED7fyx4QgAAAGHSLHhCAADAxiQteEIAAIAsdy14QgAAQJLJLXhCAAAA+BsueEIAAMBdbi54QgAAgMPALnhCAABAKRMveEIAAACPZS94QgAAwPS3L3hCAACAWgoweEIAAEDAXDB4QgAAACavMHhCAADAiwExeEIAAIDxUzF4QgAAQFemMXhCAAAAvfgxeEIAAMAiSzJ4QgAAgIidMnhCAABA7u8yeEIAAABUQjN4QgAAwLmUM3hCAACAH+czeEIAAECFOTR4QgAAAOuLNHhCAADAUN40eEIAAIC2MDV4QgAAQByDNXhCAAAAgtU1eEIAAMDnJzZ4QgAAgE16NnhCAABAs8w2eEIAAAAZHzd4QgAAwH5xN3hCAACA5MM3eEIAAEBKFjh4QgAAALBoOHhCAADAFbs4eEIAAIB7DTl4QgAAQOFfOXhCAAAAR7I5eEIAAMCsBDp4QgAAgBJXOnhCAABAeKk6eEIAAADe+zp4QgAAwENOO3hCAACAqaA7eEIAAEAP8zt4QgAAAHVFPHhCAADA2pc8eEIAAIBA6jx4QgAAQKY8PXhCAAAADI89eEIAAMBx4T14QgAAgNczPnhC\",\"dtype\":\"float64\",\"order\":\"little\",\"shape\":[117]},\"y\":{\"__ndarray__\":\"AAAAAAAAGEAAAAAAAADwPwAAAAAAAAAAAAAAAAAAAAAAAAAAAAAAAAAAAAAAAAAAAAAAAAAA8D8AAAAAAAAAAAAAAAAAAAAAAAAAAAAAAAAAAAAAAAAAAAAAAAAAAAAAAAAAAAAAAAAAAAAAAADwPwAAAAAAAPA/AAAAAAAAIEAAAAAAAAAoQAAAAAAAAPA/AAAAAAAACEAAAAAAAADwPwAAAAAAAAAAAAAAAAAAEEAAAAAAAAAAAAAAAAAAABhAAAAAAAAAAAAAAAAAAADwPwAAAAAAAAAAAAAAAAAAAAAAAAAAAAAYQAAAAAAAAAAAAAAAAAAAAAAAAAAAAAAAAAAAAAAAAAAAAAAAAAAAAAAAAAAAAAAUQAAAAAAAAAAAAAAAAAAAAAAAAAAAAADwPwAAAAAAAAAAAAAAAAAA8D8AAAAAAAAAAAAAAAAAAAAAAAAAAAAACEAAAAAAAAAAAAAAAAAAAAAAAAAAAAAAAAAAAAAAAAAAAAAAAAAAAAAAAAAAAAAAAAAAAAAAAADwPwAAAAAAAPA/AAAAAAAAAAAAAAAAAAAAAAAAAAAAAABAAAAAAAAAAAAAAAAAAAAAAAAAAAAAAAAAAAAAAAAAAAAAAAAAAAAAAAAAAAAAAAAAAAAAAAAAAAAAAAAAAAAAAAAAAAAAAPA/AAAAAAAAAAAAAAAAAAAAAAAAAAAAAAAAAAAAAAAAAAAAAAAAAAAAAAAAAAAAAPA/AAAAAAAAAAAAAAAAAAAAAAAAAAAAAAAAAAAAAAAAAEAAAAAAAAAAAAAAAAAAAPA/AAAAAAAACEAAAAAAAAAAAAAAAAAAAABAAAAAAAAAAAAAAAAAAADwPwAAAAAAAPA/AAAAAAAAAAAAAAAAAAAAAAAAAAAAAAAAAAAAAAAAAAAAAAAAAAAAAAAAAAAAAAAAAAAAAAAAAAAAAAAAAAAcQAAAAAAAAABAAAAAAAAAGEAAAAAAAAAAAAAAAAAAAAAAAAAAAAAAAAAAAAAAAAAAAAAAAAAAAAAAAAAAAAAAAAAAAAAAAAAAAAAAAAAAgERAAAAAAAAAAAAAAAAAAAAAAAAAAAAAAPA/AAAAAAAA8D8AAAAAAAAAAAAAAAAAAAAAAAAAAAAAAAAAAAAAAADwPwAAAAAAAPA/AAAAAAAAAAAAAAAAAAAAAAAAAAAAAAAAAAAAAAAAKkAAAAAAAAAAAAAAAAAAAPA/AAAAAAAA8D8AAAAAAAAAAAAAAAAAAAAA\",\"dtype\":\"float64\",\"order\":\"little\",\"shape\":[117]}},\"selected\":{\"id\":\"1185\"},\"selection_policy\":{\"id\":\"1184\"}},\"id\":\"1169\",\"type\":\"ColumnDataSource\"},{\"attributes\":{\"base\":60,\"mantissas\":[1,2,5,10,15,20,30],\"max_interval\":1800000.0,\"min_interval\":1000.0,\"num_minor_ticks\":0},\"id\":\"1156\",\"type\":\"AdaptiveTicker\"},{\"attributes\":{\"axis\":{\"id\":\"1115\"},\"coordinates\":null,\"group\":null,\"ticker\":null},\"id\":\"1118\",\"type\":\"Grid\"},{\"attributes\":{},\"id\":\"1124\",\"type\":\"WheelZoomTool\"},{\"attributes\":{\"coordinates\":null,\"formatter\":{\"id\":\"1150\"},\"group\":null,\"major_label_policy\":{\"id\":\"1151\"},\"ticker\":{\"id\":\"1116\"}},\"id\":\"1115\",\"type\":\"DatetimeAxis\"},{\"attributes\":{\"coordinates\":null,\"data_source\":{\"id\":\"1169\"},\"glyph\":{\"id\":\"1170\"},\"group\":null,\"hover_glyph\":null,\"muted_glyph\":{\"id\":\"1172\"},\"nonselection_glyph\":{\"id\":\"1171\"},\"view\":{\"id\":\"1174\"}},\"id\":\"1173\",\"type\":\"GlyphRenderer\"},{\"attributes\":{\"axis\":{\"id\":\"1119\"},\"coordinates\":null,\"dimension\":1,\"group\":null,\"ticker\":null},\"id\":\"1122\",\"type\":\"Grid\"},{\"attributes\":{\"label\":{\"value\":\"latest\"},\"renderers\":[{\"id\":\"1173\"}]},\"id\":\"1199\",\"type\":\"LegendItem\"},{\"attributes\":{},\"id\":\"1120\",\"type\":\"BasicTicker\"},{\"attributes\":{\"data\":{\"x\":{\"__ndarray__\":\"AACAjkoWeEIAAABa7xZ4QgAAwL9BF3hCAACAJZQXeEIAAECL5hd4QgAAAPE4GHhCAACAvN0YeEIAAEAiMBl4QgAAwO3UGXhCAACAUycaeEIAAEC5eRp4QgAAAB/MGnhCAADAhB4beEIAAIDqcBt4QgAAQFDDG3hCAACAgboceEIAAEDnDB14QgAAAE1fHXhCAADAsrEdeEIAAIAYBB54QgAAQH5WHnhCAAAA5KgeeEIAAMBJ+x54QgAAgK9NH3hCAABAFaAfeEIAAAB78h94QgAAwOBEIHhCAACARpcgeEIAAECs6SB4QgAAABI8IXhCAADAd44heEIAAIDd4CF4QgAAQEMzInhCAADADtgieEIAAIB0KiN4QgAAQNp8I3hCAAAAQM8jeEIAAMClISR4QgAAgAt0JHhCAABAccYkeEIAAADXGCV4QgAAwDxrJXhCAACAor0leEIAAEAIECZ4QgAAAG5iJnhCAADA07QmeEIAAECfWSd4QgAAAAWsJ3hCAADAav4neEIAAIDQUCh4QgAAQDajKHhCAAAAnPUoeEIAAMABSCl4QgAAQM3sKXhCAAAAMz8qeEIAAMCYkSp4QgAAgP7jKnhCAABAZDYreEIAAADKiCt4QgAAwC/bK3hCAACAlS0seEIAAED7fyx4QgAAAGHSLHhCAADAxiQteEIAAIAsdy14QgAAQJLJLXhCAAAA+BsueEIAAMBdbi54QgAAgMPALnhCAABAKRMveEIAAACPZS94QgAAwPS3L3hCAACAWgoweEIAAEDAXDB4QgAAACavMHhCAADAiwExeEIAAIDxUzF4QgAAQFemMXhCAAAAvfgxeEIAAMAiSzJ4QgAAgIidMnhCAABA7u8yeEIAAABUQjN4QgAAwLmUM3hCAACAH+czeEIAAECFOTR4QgAAAOuLNHhCAADAUN40eEIAAIC2MDV4QgAAQByDNXhCAAAAgtU1eEIAAMDnJzZ4QgAAgE16NnhCAABAs8w2eEIAAAAZHzd4QgAAwH5xN3hCAACA5MM3eEIAAEBKFjh4QgAAALBoOHhCAADAFbs4eEIAAIB7DTl4QgAAQOFfOXhCAAAAR7I5eEIAAMCsBDp4QgAAgBJXOnhCAABAeKk6eEIAAADe+zp4QgAAwENOO3hCAACAqaA7eEIAAEAP8zt4QgAAAHVFPHhCAADA2pc8eEIAAIBA6jx4QgAAQKY8PXhCAAAADI89eEIAAMBx4T14QgAAgNczPnhC\",\"dtype\":\"float64\",\"order\":\"little\",\"shape\":[117]},\"y\":{\"__ndarray__\":\"AAAAAAAAGEAAAAAAAAAUQAAAAAAAAAhAAAAAAAAACEAAAAAAAAAAQAAAAAAAADBAAAAAAAAAIkAAAAAAAAAUQAAAAAAAAABAAAAAAAAAHEAAAAAAAAAsQAAAAAAAAEVAAAAAAAAAOkAAAAAAAAAAAAAAAAAAAAAAAAAAAAAAM0AAAAAAAAAkQAAAAAAAABhAAAAAAAAALkAAAAAAAADwPwAAAAAAAC5AAAAAAAAAHEAAAAAAAAAoQAAAAAAAACBAAAAAAAAAIEAAAAAAAADwPwAAAAAAAAhAAAAAAAAAFEAAAAAAAAAYQAAAAAAAADBAAAAAAAAACEAAAAAAAAAmQAAAAAAAACJAAAAAAAAAFEAAAAAAAABAQAAAAAAAABhAAAAAAAAAO0AAAAAAAAAYQAAAAAAAACJAAAAAAAAAFEAAAAAAAABDQAAAAAAAADxAAAAAAAAAKkAAAAAAAAAqQAAAAAAAAAhAAAAAAAAAGEAAAAAAAAAQQAAAAAAAABRAAAAAAAAASUAAAAAAAAAkQAAAAAAAABxAAAAAAAAAHEAAAAAAAAAAQAAAAAAAADhAAAAAAACAQkAAAAAAAABCQAAAAAAAACpAAAAAAAAARUAAAAAAAAAAQAAAAAAAAPA/AAAAAAAAGEAAAAAAAAAmQAAAAAAAQFNAAAAAAAAAQ0AAAAAAAIBOQAAAAAAAACZAAAAAAAAAJEAAAAAAAABGQAAAAAAAQFBAAAAAAABAU0AAAAAAAIBRQAAAAAAAADJAAAAAAAAAAAAAAAAAAAAIQAAAAAAAACRAAAAAAAAAMUAAAAAAAAAUQAAAAAAAAENAAAAAAAAAOUAAAAAAAAAAQAAAAAAAABBAAAAAAAAAQEAAAAAAAABCQAAAAAAAADFAAAAAAAAALkAAAAAAAAAAQAAAAAAAAAhAAAAAAAAAHEAAAAAAAAAmQAAAAAAAADBAAAAAAACASEAAAAAAAAA9QAAAAAAAADFAAAAAAAAAEEAAAAAAAADwPwAAAAAAABxAAAAAAAAANEAAAAAAAAA3QAAAAAAAACpAAAAAAAAAKkAAAAAAAAAIQAAAAAAAAPA/AAAAAAAAFEAAAAAAAABJQAAAAAAAACJAAAAAAAAAOEAAAAAAAAA1QAAAAAAAAAAAAAAAAAAA8D8AAAAAAAAqQAAAAAAAACZAAAAAAAAAJkAAAAAAAABEQAAAAAAAACxAAAAAAAAAIEAAAAAAAAAUQAAAAAAAACxA\",\"dtype\":\"float64\",\"order\":\"little\",\"shape\":[117]}},\"selected\":{\"id\":\"1153\"},\"selection_policy\":{\"id\":\"1152\"}},\"id\":\"1139\",\"type\":\"ColumnDataSource\"},{\"attributes\":{\"source\":{\"id\":\"1169\"}},\"id\":\"1174\",\"type\":\"CDSView\"},{\"attributes\":{\"line_alpha\":0.1,\"line_color\":\"#1f77b4\",\"x\":{\"field\":\"x\"},\"y\":{\"field\":\"y\"}},\"id\":\"1141\",\"type\":\"Line\"},{\"attributes\":{\"line_alpha\":0.1,\"line_color\":\"#ff7f0e\",\"x\":{\"field\":\"x\"},\"y\":{\"field\":\"y\"}},\"id\":\"1171\",\"type\":\"Line\"},{\"attributes\":{},\"id\":\"1126\",\"type\":\"SaveTool\"},{\"attributes\":{},\"id\":\"1127\",\"type\":\"ResetTool\"},{\"attributes\":{\"line_alpha\":0.2,\"line_color\":\"#ff7f0e\",\"x\":{\"field\":\"x\"},\"y\":{\"field\":\"y\"}},\"id\":\"1172\",\"type\":\"Line\"},{\"attributes\":{\"source\":{\"id\":\"1139\"}},\"id\":\"1144\",\"type\":\"CDSView\"},{\"attributes\":{\"line_color\":\"#ff7f0e\",\"x\":{\"field\":\"x\"},\"y\":{\"field\":\"y\"}},\"id\":\"1170\",\"type\":\"Line\"},{\"attributes\":{\"days\":[1,4,7,10,13,16,19,22,25,28]},\"id\":\"1159\",\"type\":\"DaysTicker\"}],\"root_ids\":[\"1104\"]},\"title\":\"Bokeh Application\",\"version\":\"2.4.3\"}};\n",
       "  const render_items = [{\"docid\":\"7c35b814-1d63-4b2b-a0f7-c3c8da01f61e\",\"root_ids\":[\"1104\"],\"roots\":{\"1104\":\"eaf37010-71cc-496d-ab7a-0bb450e73cdc\"}}];\n",
       "  root.Bokeh.embed.embed_items_notebook(docs_json, render_items);\n",
       "  }\n",
       "  if (root.Bokeh !== undefined) {\n",
       "    embed_document(root);\n",
       "  } else {\n",
       "    let attempts = 0;\n",
       "    const timer = setInterval(function(root) {\n",
       "      if (root.Bokeh !== undefined) {\n",
       "        clearInterval(timer);\n",
       "        embed_document(root);\n",
       "      } else {\n",
       "        attempts++;\n",
       "        if (attempts > 100) {\n",
       "          clearInterval(timer);\n",
       "          console.log(\"Bokeh: ERROR: Unable to run BokehJS code because BokehJS library is missing\");\n",
       "        }\n",
       "      }\n",
       "    }, 10, root)\n",
       "  }\n",
       "})(window);"
      ],
      "application/vnd.bokehjs_exec.v0+json": ""
     },
     "metadata": {
      "application/vnd.bokehjs_exec.v0+json": {
       "id": "1104"
      }
     },
     "output_type": "display_data"
    }
   ],
   "source": [
    "daily_views = df.pivot_table(values='Views', index='Date', columns='Version', aggfunc='sum')[['stable', 'latest']].fillna(0)\n",
    "\n",
    "p = figure(x_axis_type=\"datetime\", height=350, title=f\"Daily views by RTD version\")\n",
    "hover_tool = HoverTool(tooltips=[('Date', '@x{%Y-%m-%d}'), ('Views', '@y')],\n",
    "                       formatters={'@x': 'datetime'})\n",
    "hover_tool.point_policy = 'snap_to_data'\n",
    "p.add_tools(hover_tool)\n",
    "p.line(daily_views.index, daily_views['stable'], legend_label='stable')\n",
    "p.line(daily_views.index, daily_views['latest'], legend_label='latest', color='#ff7f0e')\n",
    "p.yaxis.axis_label = 'Daily page views'\n",
    "show(p)"
   ]
  },
  {
   "cell_type": "code",
   "execution_count": 6,
   "id": "2413e533-b4fa-4b2b-b308-a4bd9a4254d0",
   "metadata": {
    "execution": {
     "iopub.execute_input": "2022-10-17T17:54:12.582550Z",
     "iopub.status.busy": "2022-10-17T17:54:12.582296Z",
     "iopub.status.idle": "2022-10-17T17:54:12.588883Z",
     "shell.execute_reply": "2022-10-17T17:54:12.588268Z"
    }
   },
   "outputs": [],
   "source": [
    "df2 = df.loc[df['Version'] == 'stable', :].copy()\n",
    "pathviews = df2.groupby('Path')['Views'].sum().reset_index()"
   ]
  },
  {
   "cell_type": "code",
   "execution_count": 7,
   "id": "29f9acd5-f445-4aa9-a0c8-aa80b7af611d",
   "metadata": {
    "execution": {
     "iopub.execute_input": "2022-10-17T17:54:12.592219Z",
     "iopub.status.busy": "2022-10-17T17:54:12.591982Z",
     "iopub.status.idle": "2022-10-17T17:54:12.649124Z",
     "shell.execute_reply": "2022-10-17T17:54:12.648365Z"
    }
   },
   "outputs": [
    {
     "data": {
      "text/html": [
       "\n",
       "  <div class=\"bk-root\" id=\"e1c5b6cf-057a-4131-8977-470b660f3a2a\" data-root-id=\"1354\"></div>\n"
      ]
     },
     "metadata": {},
     "output_type": "display_data"
    },
    {
     "data": {
      "application/javascript": [
       "(function(root) {\n",
       "  function embed_document(root) {\n",
       "  const docs_json = {\"99b1b013-4bda-4ce1-9adf-a099243f31b4\":{\"defs\":[],\"roots\":{\"references\":[{\"attributes\":{\"below\":[{\"id\":\"1365\"}],\"center\":[{\"id\":\"1368\"},{\"id\":\"1371\"}],\"height\":400,\"left\":[{\"id\":\"1369\"}],\"renderers\":[{\"id\":\"1393\"}],\"title\":{\"id\":\"1355\"},\"toolbar\":{\"id\":\"1380\"},\"x_range\":{\"id\":\"1357\"},\"x_scale\":{\"id\":\"1361\"},\"y_range\":{\"id\":\"1359\"},\"y_scale\":{\"id\":\"1363\"}},\"id\":\"1354\",\"subtype\":\"Figure\",\"type\":\"Plot\"},{\"attributes\":{},\"id\":\"1372\",\"type\":\"PanTool\"},{\"attributes\":{},\"id\":\"1373\",\"type\":\"WheelZoomTool\"},{\"attributes\":{},\"id\":\"1437\",\"type\":\"Selection\"},{\"attributes\":{},\"id\":\"1370\",\"type\":\"CategoricalTicker\"},{\"attributes\":{\"fill_color\":{\"value\":\"#1f77b4\"},\"height\":{\"value\":0.75},\"line_color\":{\"value\":\"white\"},\"right\":{\"field\":\"Views\"},\"y\":{\"field\":\"Path\"}},\"id\":\"1390\",\"type\":\"HBar\"},{\"attributes\":{\"axis\":{\"id\":\"1369\"},\"coordinates\":null,\"dimension\":1,\"group\":null,\"ticker\":null},\"id\":\"1371\",\"type\":\"Grid\"},{\"attributes\":{\"data\":{\"Path\":[\"/index.html\",\"/api.html\",\"/generated/gallery/index.html\",\"/generated/gallery/clearsky-detection.html\",\"/generated/pvanalytics.quality.outliers.tukey.html\",\"/generated/pvanalytics.metrics.performance_ratio_nrel.html\",\"/generated/pvanalytics.quality.irradiance.check_ghi_limits_qcrad.html\",\"/generated/gallery/zscore-outlier-detection.html\",\"/generated/pvanalytics.features.shading.fixed.html\",\"/generated/pvanalytics.quality.irradiance.check_irradiance_limits_qcrad.html\",\"/generated/gallery/data-shifts.html\",\"/generated/gallery/tukey-outlier-detection.html\",\"/generated/gallery/stale-data.html\",\"/generated/gallery/clipping.html\",\"/generated/pvanalytics.quality.gaps.interpolation_diff.html\",\"/generated/pvanalytics.quality.irradiance.check_irradiance_consistency_qcrad.html\",\"/generated/pvanalytics.quality.outliers.zscore.html\",\"/generated/pvanalytics.metrics.variability_index.html\",\"/whatsnew/index.html\",\"/generated/gallery/data-completeness.html\"],\"Views\":[497,398,163,48,32,29,29,27,25,24,23,23,22,22,21,19,19,18,18,18],\"index\":[61,0,10,1,45,26,39,17,25,41,6,16,14,3,32,40,46,27,66,5]},\"selected\":{\"id\":\"1437\"},\"selection_policy\":{\"id\":\"1436\"}},\"id\":\"1388\",\"type\":\"ColumnDataSource\"},{\"attributes\":{\"callback\":null,\"tooltips\":[[\"URL\",\"@Path\"],[\"Views\",\"@Views\"]]},\"id\":\"1379\",\"type\":\"HoverTool\"},{\"attributes\":{},\"id\":\"1363\",\"type\":\"CategoricalScale\"},{\"attributes\":{},\"id\":\"1377\",\"type\":\"HelpTool\"},{\"attributes\":{},\"id\":\"1361\",\"type\":\"LinearScale\"},{\"attributes\":{\"axis\":{\"id\":\"1365\"},\"coordinates\":null,\"group\":null,\"ticker\":null},\"id\":\"1368\",\"type\":\"Grid\"},{\"attributes\":{\"axis_label\":\"Total page views\",\"coordinates\":null,\"formatter\":{\"id\":\"1434\"},\"group\":null,\"major_label_policy\":{\"id\":\"1435\"},\"ticker\":{\"id\":\"1366\"}},\"id\":\"1365\",\"type\":\"LinearAxis\"},{\"attributes\":{\"fill_alpha\":{\"value\":0.2},\"fill_color\":{\"value\":\"#1f77b4\"},\"hatch_alpha\":{\"value\":0.2},\"height\":{\"value\":0.75},\"line_alpha\":{\"value\":0.2},\"line_color\":{\"value\":\"white\"},\"right\":{\"field\":\"Views\"},\"y\":{\"field\":\"Path\"}},\"id\":\"1392\",\"type\":\"HBar\"},{\"attributes\":{\"coordinates\":null,\"data_source\":{\"id\":\"1388\"},\"glyph\":{\"id\":\"1390\"},\"group\":null,\"hover_glyph\":null,\"muted_glyph\":{\"id\":\"1392\"},\"nonselection_glyph\":{\"id\":\"1391\"},\"view\":{\"id\":\"1394\"}},\"id\":\"1393\",\"type\":\"GlyphRenderer\"},{\"attributes\":{},\"id\":\"1357\",\"type\":\"DataRange1d\"},{\"attributes\":{},\"id\":\"1431\",\"type\":\"CategoricalTickFormatter\"},{\"attributes\":{\"coordinates\":null,\"formatter\":{\"id\":\"1431\"},\"group\":null,\"major_label_policy\":{\"id\":\"1432\"},\"ticker\":{\"id\":\"1370\"}},\"id\":\"1369\",\"type\":\"CategoricalAxis\"},{\"attributes\":{\"factors\":[\"/index.html\",\"/api.html\",\"/generated/gallery/index.html\",\"/generated/gallery/clearsky-detection.html\",\"/generated/pvanalytics.quality.outliers.tukey.html\",\"/generated/pvanalytics.metrics.performance_ratio_nrel.html\",\"/generated/pvanalytics.quality.irradiance.check_ghi_limits_qcrad.html\",\"/generated/gallery/zscore-outlier-detection.html\",\"/generated/pvanalytics.features.shading.fixed.html\",\"/generated/pvanalytics.quality.irradiance.check_irradiance_limits_qcrad.html\",\"/generated/gallery/data-shifts.html\",\"/generated/gallery/tukey-outlier-detection.html\",\"/generated/gallery/stale-data.html\",\"/generated/gallery/clipping.html\",\"/generated/pvanalytics.quality.gaps.interpolation_diff.html\",\"/generated/pvanalytics.quality.irradiance.check_irradiance_consistency_qcrad.html\",\"/generated/pvanalytics.quality.outliers.zscore.html\",\"/generated/pvanalytics.metrics.variability_index.html\",\"/whatsnew/index.html\",\"/generated/gallery/data-completeness.html\"]},\"id\":\"1359\",\"type\":\"FactorRange\"},{\"attributes\":{},\"id\":\"1432\",\"type\":\"AllLabels\"},{\"attributes\":{},\"id\":\"1366\",\"type\":\"BasicTicker\"},{\"attributes\":{\"coordinates\":null,\"group\":null,\"text\":\"Views by URL (Top 20, 2022-06-15 to 2022-10-17)\"},\"id\":\"1355\",\"type\":\"Title\"},{\"attributes\":{\"source\":{\"id\":\"1388\"}},\"id\":\"1394\",\"type\":\"CDSView\"},{\"attributes\":{},\"id\":\"1434\",\"type\":\"BasicTickFormatter\"},{\"attributes\":{\"fill_alpha\":{\"value\":0.1},\"fill_color\":{\"value\":\"#1f77b4\"},\"hatch_alpha\":{\"value\":0.1},\"height\":{\"value\":0.75},\"line_alpha\":{\"value\":0.1},\"line_color\":{\"value\":\"white\"},\"right\":{\"field\":\"Views\"},\"y\":{\"field\":\"Path\"}},\"id\":\"1391\",\"type\":\"HBar\"},{\"attributes\":{},\"id\":\"1435\",\"type\":\"AllLabels\"},{\"attributes\":{},\"id\":\"1436\",\"type\":\"UnionRenderers\"},{\"attributes\":{\"tools\":[{\"id\":\"1372\"},{\"id\":\"1373\"},{\"id\":\"1374\"},{\"id\":\"1375\"},{\"id\":\"1376\"},{\"id\":\"1377\"},{\"id\":\"1379\"}]},\"id\":\"1380\",\"type\":\"Toolbar\"},{\"attributes\":{\"bottom_units\":\"screen\",\"coordinates\":null,\"fill_alpha\":0.5,\"fill_color\":\"lightgrey\",\"group\":null,\"left_units\":\"screen\",\"level\":\"overlay\",\"line_alpha\":1.0,\"line_color\":\"black\",\"line_dash\":[4,4],\"line_width\":2,\"right_units\":\"screen\",\"syncable\":false,\"top_units\":\"screen\"},\"id\":\"1378\",\"type\":\"BoxAnnotation\"},{\"attributes\":{},\"id\":\"1376\",\"type\":\"ResetTool\"},{\"attributes\":{},\"id\":\"1375\",\"type\":\"SaveTool\"},{\"attributes\":{\"overlay\":{\"id\":\"1378\"}},\"id\":\"1374\",\"type\":\"BoxZoomTool\"}],\"root_ids\":[\"1354\"]},\"title\":\"Bokeh Application\",\"version\":\"2.4.3\"}};\n",
       "  const render_items = [{\"docid\":\"99b1b013-4bda-4ce1-9adf-a099243f31b4\",\"root_ids\":[\"1354\"],\"roots\":{\"1354\":\"e1c5b6cf-057a-4131-8977-470b660f3a2a\"}}];\n",
       "  root.Bokeh.embed.embed_items_notebook(docs_json, render_items);\n",
       "  }\n",
       "  if (root.Bokeh !== undefined) {\n",
       "    embed_document(root);\n",
       "  } else {\n",
       "    let attempts = 0;\n",
       "    const timer = setInterval(function(root) {\n",
       "      if (root.Bokeh !== undefined) {\n",
       "        clearInterval(timer);\n",
       "        embed_document(root);\n",
       "      } else {\n",
       "        attempts++;\n",
       "        if (attempts > 100) {\n",
       "          clearInterval(timer);\n",
       "          console.log(\"Bokeh: ERROR: Unable to run BokehJS code because BokehJS library is missing\");\n",
       "        }\n",
       "      }\n",
       "    }, 10, root)\n",
       "  }\n",
       "})(window);"
      ],
      "application/vnd.bokehjs_exec.v0+json": ""
     },
     "metadata": {
      "application/vnd.bokehjs_exec.v0+json": {
       "id": "1354"
      }
     },
     "output_type": "display_data"
    }
   ],
   "source": [
    "n = 20\n",
    "subset = pathviews.sort_values('Views', ascending=False)[:n]\n",
    "p = figure(y_range=subset['Path'], height=400, tooltips=[(\"URL\", \"@Path\"), (\"Views\", \"@Views\")],\n",
    "           title=f\"Views by URL (Top {n}, {data_period})\")\n",
    "p.hbar(y='Path', right='Views', source=subset, height=0.75,\n",
    "       line_color='white')\n",
    "p.xaxis.axis_label = 'Total page views'\n",
    "show(p)"
   ]
  },
  {
   "cell_type": "code",
   "execution_count": 8,
   "id": "b5d056f6-793c-4423-9598-c97349def706",
   "metadata": {
    "execution": {
     "iopub.execute_input": "2022-10-17T17:54:12.653014Z",
     "iopub.status.busy": "2022-10-17T17:54:12.652389Z",
     "iopub.status.idle": "2022-10-17T17:54:12.718870Z",
     "shell.execute_reply": "2022-10-17T17:54:12.718105Z"
    }
   },
   "outputs": [
    {
     "data": {
      "text/html": [
       "\n",
       "  <div class=\"bk-root\" id=\"3c97ca76-b27b-453e-abbe-05ee816a8475\" data-root-id=\"1489\"></div>\n"
      ]
     },
     "metadata": {},
     "output_type": "display_data"
    },
    {
     "data": {
      "application/javascript": [
       "(function(root) {\n",
       "  function embed_document(root) {\n",
       "  const docs_json = {\"ba38f639-cdff-455f-9157-d19bf1c251fb\":{\"defs\":[],\"roots\":{\"references\":[{\"attributes\":{\"below\":[{\"id\":\"1500\"}],\"center\":[{\"id\":\"1502\"},{\"id\":\"1506\"}],\"height\":350,\"left\":[{\"id\":\"1503\"}],\"renderers\":[{\"id\":\"1528\"}],\"title\":{\"id\":\"1490\"},\"toolbar\":{\"id\":\"1515\"},\"x_range\":{\"id\":\"1492\"},\"x_scale\":{\"id\":\"1496\"},\"y_range\":{\"id\":\"1494\"},\"y_scale\":{\"id\":\"1498\"}},\"id\":\"1489\",\"subtype\":\"Figure\",\"type\":\"Plot\"},{\"attributes\":{},\"id\":\"1512\",\"type\":\"HelpTool\"},{\"attributes\":{},\"id\":\"1496\",\"type\":\"CategoricalScale\"},{\"attributes\":{\"axis\":{\"id\":\"1500\"},\"coordinates\":null,\"group\":null,\"ticker\":null},\"id\":\"1502\",\"type\":\"Grid\"},{\"attributes\":{},\"id\":\"1580\",\"type\":\"AllLabels\"},{\"attributes\":{\"overlay\":{\"id\":\"1513\"}},\"id\":\"1509\",\"type\":\"BoxZoomTool\"},{\"attributes\":{\"axis_label\":\"Total page views\",\"coordinates\":null,\"formatter\":{\"id\":\"1576\"},\"group\":null,\"major_label_policy\":{\"id\":\"1577\"},\"ticker\":{\"id\":\"1504\"}},\"id\":\"1503\",\"type\":\"LinearAxis\"},{\"attributes\":{\"callback\":null,\"tooltips\":[[\"Section\",\"@Prefix\"],[\"Views\",\"@Views\"]]},\"id\":\"1514\",\"type\":\"HoverTool\"},{\"attributes\":{},\"id\":\"1494\",\"type\":\"DataRange1d\"},{\"attributes\":{\"tools\":[{\"id\":\"1507\"},{\"id\":\"1508\"},{\"id\":\"1509\"},{\"id\":\"1510\"},{\"id\":\"1511\"},{\"id\":\"1512\"},{\"id\":\"1514\"}]},\"id\":\"1515\",\"type\":\"Toolbar\"},{\"attributes\":{},\"id\":\"1582\",\"type\":\"Selection\"},{\"attributes\":{},\"id\":\"1576\",\"type\":\"BasicTickFormatter\"},{\"attributes\":{},\"id\":\"1510\",\"type\":\"SaveTool\"},{\"attributes\":{},\"id\":\"1577\",\"type\":\"AllLabels\"},{\"attributes\":{},\"id\":\"1511\",\"type\":\"ResetTool\"},{\"attributes\":{},\"id\":\"1507\",\"type\":\"PanTool\"},{\"attributes\":{\"fill_alpha\":{\"value\":0.1},\"fill_color\":{\"value\":\"#1f77b4\"},\"hatch_alpha\":{\"value\":0.1},\"line_alpha\":{\"value\":0.1},\"line_color\":{\"value\":\"#1f77b4\"},\"top\":{\"field\":\"Views\"},\"width\":{\"value\":0.75},\"x\":{\"field\":\"Prefix\"}},\"id\":\"1526\",\"type\":\"VBar\"},{\"attributes\":{},\"id\":\"1501\",\"type\":\"CategoricalTicker\"},{\"attributes\":{\"bottom_units\":\"screen\",\"coordinates\":null,\"fill_alpha\":0.5,\"fill_color\":\"lightgrey\",\"group\":null,\"left_units\":\"screen\",\"level\":\"overlay\",\"line_alpha\":1.0,\"line_color\":\"black\",\"line_dash\":[4,4],\"line_width\":2,\"right_units\":\"screen\",\"syncable\":false,\"top_units\":\"screen\"},\"id\":\"1513\",\"type\":\"BoxAnnotation\"},{\"attributes\":{\"factors\":[\"/generated\",\"/generated/gallery\"]},\"id\":\"1492\",\"type\":\"FactorRange\"},{\"attributes\":{},\"id\":\"1498\",\"type\":\"LinearScale\"},{\"attributes\":{},\"id\":\"1504\",\"type\":\"BasicTicker\"},{\"attributes\":{\"data\":{\"Prefix\":[\"/generated\",\"/generated/gallery\"],\"Views\":[449,456],\"index\":[0,1]},\"selected\":{\"id\":\"1582\"},\"selection_policy\":{\"id\":\"1581\"}},\"id\":\"1523\",\"type\":\"ColumnDataSource\"},{\"attributes\":{},\"id\":\"1579\",\"type\":\"CategoricalTickFormatter\"},{\"attributes\":{},\"id\":\"1581\",\"type\":\"UnionRenderers\"},{\"attributes\":{\"fill_alpha\":{\"value\":0.2},\"fill_color\":{\"value\":\"#1f77b4\"},\"hatch_alpha\":{\"value\":0.2},\"line_alpha\":{\"value\":0.2},\"line_color\":{\"value\":\"#1f77b4\"},\"top\":{\"field\":\"Views\"},\"width\":{\"value\":0.75},\"x\":{\"field\":\"Prefix\"}},\"id\":\"1527\",\"type\":\"VBar\"},{\"attributes\":{\"coordinates\":null,\"formatter\":{\"id\":\"1579\"},\"group\":null,\"major_label_policy\":{\"id\":\"1580\"},\"ticker\":{\"id\":\"1501\"}},\"id\":\"1500\",\"type\":\"CategoricalAxis\"},{\"attributes\":{},\"id\":\"1508\",\"type\":\"WheelZoomTool\"},{\"attributes\":{\"axis\":{\"id\":\"1503\"},\"coordinates\":null,\"dimension\":1,\"group\":null,\"ticker\":null},\"id\":\"1506\",\"type\":\"Grid\"},{\"attributes\":{\"coordinates\":null,\"data_source\":{\"id\":\"1523\"},\"glyph\":{\"id\":\"1525\"},\"group\":null,\"hover_glyph\":null,\"muted_glyph\":{\"id\":\"1527\"},\"nonselection_glyph\":{\"id\":\"1526\"},\"view\":{\"id\":\"1529\"}},\"id\":\"1528\",\"type\":\"GlyphRenderer\"},{\"attributes\":{\"fill_color\":{\"value\":\"#1f77b4\"},\"line_color\":{\"value\":\"#1f77b4\"},\"top\":{\"field\":\"Views\"},\"width\":{\"value\":0.75},\"x\":{\"field\":\"Prefix\"}},\"id\":\"1525\",\"type\":\"VBar\"},{\"attributes\":{\"source\":{\"id\":\"1523\"}},\"id\":\"1529\",\"type\":\"CDSView\"},{\"attributes\":{\"coordinates\":null,\"group\":null,\"text\":\"Page views by docs section (2022-06-15 to 2022-10-17)\"},\"id\":\"1490\",\"type\":\"Title\"}],\"root_ids\":[\"1489\"]},\"title\":\"Bokeh Application\",\"version\":\"2.4.3\"}};\n",
       "  const render_items = [{\"docid\":\"ba38f639-cdff-455f-9157-d19bf1c251fb\",\"root_ids\":[\"1489\"],\"roots\":{\"1489\":\"3c97ca76-b27b-453e-abbe-05ee816a8475\"}}];\n",
       "  root.Bokeh.embed.embed_items_notebook(docs_json, render_items);\n",
       "  }\n",
       "  if (root.Bokeh !== undefined) {\n",
       "    embed_document(root);\n",
       "  } else {\n",
       "    let attempts = 0;\n",
       "    const timer = setInterval(function(root) {\n",
       "      if (root.Bokeh !== undefined) {\n",
       "        clearInterval(timer);\n",
       "        embed_document(root);\n",
       "      } else {\n",
       "        attempts++;\n",
       "        if (attempts > 100) {\n",
       "          clearInterval(timer);\n",
       "          console.log(\"Bokeh: ERROR: Unable to run BokehJS code because BokehJS library is missing\");\n",
       "        }\n",
       "      }\n",
       "    }, 10, root)\n",
       "  }\n",
       "})(window);"
      ],
      "application/vnd.bokehjs_exec.v0+json": ""
     },
     "metadata": {
      "application/vnd.bokehjs_exec.v0+json": {
       "id": "1489"
      }
     },
     "output_type": "display_data"
    }
   ],
   "source": [
    "prefixes = ['/generated', '/generated/gallery']\n",
    "pathviews['Prefix'] = pathviews['Path'].str.rsplit(\"/\", 1).str[0]\n",
    "groupviews = pathviews.loc[pathviews['Prefix'].isin(prefixes), :].groupby('Prefix')['Views'].sum().loc[prefixes].sort_values().reset_index()\n",
    "\n",
    "p = figure(x_range=groupviews['Prefix'], height=350, tooltips=[(\"Section\", \"@Prefix\"), (\"Views\", \"@Views\")],\n",
    "           title=f\"Page views by docs section ({data_period})\")\n",
    "p.vbar(x='Prefix', top='Views', width=0.75, source=groupviews)\n",
    "p.yaxis.axis_label = 'Total page views'\n",
    "show(p)"
   ]
  },
  {
   "cell_type": "code",
   "execution_count": 9,
   "id": "b9cd913d-b115-4212-880a-4d86dbe05d62",
   "metadata": {
    "execution": {
     "iopub.execute_input": "2022-10-17T17:54:12.722812Z",
     "iopub.status.busy": "2022-10-17T17:54:12.722230Z",
     "iopub.status.idle": "2022-10-17T17:54:12.791070Z",
     "shell.execute_reply": "2022-10-17T17:54:12.790340Z"
    }
   },
   "outputs": [
    {
     "data": {
      "text/html": [
       "\n",
       "  <div class=\"bk-root\" id=\"6d61e952-ade3-4ee8-847f-34f84c381c47\" data-root-id=\"1634\"></div>\n"
      ]
     },
     "metadata": {},
     "output_type": "display_data"
    },
    {
     "data": {
      "application/javascript": [
       "(function(root) {\n",
       "  function embed_document(root) {\n",
       "  const docs_json = {\"54440e4b-a217-4149-b836-a5b2b9b8d894\":{\"defs\":[],\"roots\":{\"references\":[{\"attributes\":{\"below\":[{\"id\":\"1645\"}],\"center\":[{\"id\":\"1647\"},{\"id\":\"1651\"}],\"height\":350,\"left\":[{\"id\":\"1648\"}],\"renderers\":[{\"id\":\"1674\"}],\"title\":{\"id\":\"1635\"},\"toolbar\":{\"id\":\"1660\"},\"x_range\":{\"id\":\"1637\"},\"x_scale\":{\"id\":\"1641\"},\"y_range\":{\"id\":\"1639\"},\"y_scale\":{\"id\":\"1643\"}},\"id\":\"1634\",\"subtype\":\"Figure\",\"type\":\"Plot\"},{\"attributes\":{},\"id\":\"1735\",\"type\":\"CategoricalTickFormatter\"},{\"attributes\":{},\"id\":\"1657\",\"type\":\"HelpTool\"},{\"attributes\":{},\"id\":\"1736\",\"type\":\"AllLabels\"},{\"attributes\":{\"fill_color\":{\"value\":\"#1f77b4\"},\"line_color\":{\"value\":\"#1f77b4\"},\"x\":{\"field\":\"Prefix\",\"transform\":{\"id\":\"1668\"}},\"y\":{\"field\":\"Views\"}},\"id\":\"1671\",\"type\":\"Scatter\"},{\"attributes\":{},\"id\":\"1641\",\"type\":\"CategoricalScale\"},{\"attributes\":{},\"id\":\"1732\",\"type\":\"BasicTickFormatter\"},{\"attributes\":{\"factors\":[\"/generated\",\"/generated/gallery\"]},\"id\":\"1637\",\"type\":\"FactorRange\"},{\"attributes\":{\"source\":{\"id\":\"1669\"}},\"id\":\"1675\",\"type\":\"CDSView\"},{\"attributes\":{\"axis_label\":\"Total page views\",\"coordinates\":null,\"formatter\":{\"id\":\"1732\"},\"group\":null,\"major_label_policy\":{\"id\":\"1733\"},\"ticker\":{\"id\":\"1649\"}},\"id\":\"1648\",\"type\":\"LinearAxis\"},{\"attributes\":{\"fill_alpha\":{\"value\":0.1},\"fill_color\":{\"value\":\"#1f77b4\"},\"hatch_alpha\":{\"value\":0.1},\"line_alpha\":{\"value\":0.1},\"line_color\":{\"value\":\"#1f77b4\"},\"x\":{\"field\":\"Prefix\",\"transform\":{\"id\":\"1668\"}},\"y\":{\"field\":\"Views\"}},\"id\":\"1672\",\"type\":\"Scatter\"},{\"attributes\":{\"coordinates\":null,\"data_source\":{\"id\":\"1669\"},\"glyph\":{\"id\":\"1671\"},\"group\":null,\"hover_glyph\":null,\"muted_glyph\":{\"id\":\"1673\"},\"nonselection_glyph\":{\"id\":\"1672\"},\"view\":{\"id\":\"1675\"}},\"id\":\"1674\",\"type\":\"GlyphRenderer\"},{\"attributes\":{},\"id\":\"1737\",\"type\":\"UnionRenderers\"},{\"attributes\":{\"bottom_units\":\"screen\",\"coordinates\":null,\"fill_alpha\":0.5,\"fill_color\":\"lightgrey\",\"group\":null,\"left_units\":\"screen\",\"level\":\"overlay\",\"line_alpha\":1.0,\"line_color\":\"black\",\"line_dash\":[4,4],\"line_width\":2,\"right_units\":\"screen\",\"syncable\":false,\"top_units\":\"screen\"},\"id\":\"1658\",\"type\":\"BoxAnnotation\"},{\"attributes\":{\"tools\":[{\"id\":\"1652\"},{\"id\":\"1653\"},{\"id\":\"1654\"},{\"id\":\"1655\"},{\"id\":\"1656\"},{\"id\":\"1657\"},{\"id\":\"1659\"}]},\"id\":\"1660\",\"type\":\"Toolbar\"},{\"attributes\":{\"data\":{\"Path\":[\"/generated/gallery/clearsky-detection.html\",\"/generated/gallery/clearsky-limits-irradiance.html\",\"/generated/gallery/clipping.html\",\"/generated/gallery/daily-insolation-limits-irradiance.html\",\"/generated/gallery/data-completeness.html\",\"/generated/gallery/data-shifts.html\",\"/generated/gallery/day-night-masking.html\",\"/generated/gallery/fixed-nrel.html\",\"/generated/gallery/hampel-outlier-detection.html\",\"/generated/gallery/index.html\",\"/generated/gallery/interpolated-periods.html\",\"/generated/gallery/qcrad-consistency-irradiance.html\",\"/generated/gallery/qcrad-limits-irradiance.html\",\"/generated/gallery/stale-data.html\",\"/generated/gallery/tracking-nrel.html\",\"/generated/gallery/tukey-outlier-detection.html\",\"/generated/gallery/zscore-outlier-detection.html\",\"/generated/pvanalytics.features.clearsky.reno.html\",\"/generated/pvanalytics.features.clipping.geometric.html\",\"/generated/pvanalytics.features.clipping.levels.html\",\"/generated/pvanalytics.features.clipping.threshold.html\",\"/generated/pvanalytics.features.daytime.power_or_irradiance.html\",\"/generated/pvanalytics.features.orientation.fixed_nrel.html\",\"/generated/pvanalytics.features.orientation.tracking_nrel.html\",\"/generated/pvanalytics.features.shading.fixed.html\",\"/generated/pvanalytics.metrics.performance_ratio_nrel.html\",\"/generated/pvanalytics.metrics.variability_index.html\",\"/generated/pvanalytics.quality.data_shifts.detect_data_shifts.html\",\"/generated/pvanalytics.quality.data_shifts.get_longest_shift_segment_dates.html\",\"/generated/pvanalytics.quality.gaps.complete.html\",\"/generated/pvanalytics.quality.gaps.completeness_score.html\",\"/generated/pvanalytics.quality.gaps.interpolation_diff.html\",\"/generated/pvanalytics.quality.gaps.stale_values_diff.html\",\"/generated/pvanalytics.quality.gaps.stale_values_round.html\",\"/generated/pvanalytics.quality.gaps.start_stop_dates.html\",\"/generated/pvanalytics.quality.gaps.trim_incomplete.html\",\"/generated/pvanalytics.quality.irradiance.check_dhi_limits_qcrad.html\",\"/generated/pvanalytics.quality.irradiance.check_dni_limits_qcrad.html\",\"/generated/pvanalytics.quality.irradiance.check_ghi_limits_qcrad.html\",\"/generated/pvanalytics.quality.irradiance.check_irradiance_consistency_qcrad.html\",\"/generated/pvanalytics.quality.irradiance.check_irradiance_limits_qcrad.html\",\"/generated/pvanalytics.quality.irradiance.clearsky_limits.html\",\"/generated/pvanalytics.quality.irradiance.daily_insolation_limits.html\",\"/generated/pvanalytics.quality.outliers.hampel.html\",\"/generated/pvanalytics.quality.outliers.tukey.html\",\"/generated/pvanalytics.quality.outliers.zscore.html\",\"/generated/pvanalytics.quality.time.has_dst.html\",\"/generated/pvanalytics.quality.time.shifts_ruptures.html\",\"/generated/pvanalytics.quality.time.spacing.html\",\"/generated/pvanalytics.quality.util.check_limits.html\",\"/generated/pvanalytics.quality.util.daily_min.html\",\"/generated/pvanalytics.quality.weather.module_temperature_check.html\",\"/generated/pvanalytics.quality.weather.relative_humidity_limits.html\",\"/generated/pvanalytics.quality.weather.temperature_limits.html\",\"/generated/pvanalytics.quality.weather.wind_limits.html\",\"/generated/pvanalytics.system.Tracker.html\",\"/generated/pvanalytics.system.infer_orientation_daily_peak.html\",\"/generated/pvanalytics.system.infer_orientation_fit_pvwatts.html\",\"/generated/pvanalytics.system.is_tracking_envelope.html\"],\"Prefix\":[\"/generated/gallery\",\"/generated/gallery\",\"/generated/gallery\",\"/generated/gallery\",\"/generated/gallery\",\"/generated/gallery\",\"/generated/gallery\",\"/generated/gallery\",\"/generated/gallery\",\"/generated/gallery\",\"/generated/gallery\",\"/generated/gallery\",\"/generated/gallery\",\"/generated/gallery\",\"/generated/gallery\",\"/generated/gallery\",\"/generated/gallery\",\"/generated\",\"/generated\",\"/generated\",\"/generated\",\"/generated\",\"/generated\",\"/generated\",\"/generated\",\"/generated\",\"/generated\",\"/generated\",\"/generated\",\"/generated\",\"/generated\",\"/generated\",\"/generated\",\"/generated\",\"/generated\",\"/generated\",\"/generated\",\"/generated\",\"/generated\",\"/generated\",\"/generated\",\"/generated\",\"/generated\",\"/generated\",\"/generated\",\"/generated\",\"/generated\",\"/generated\",\"/generated\",\"/generated\",\"/generated\",\"/generated\",\"/generated\",\"/generated\",\"/generated\",\"/generated\",\"/generated\",\"/generated\",\"/generated\"],\"Views\":[48,8,22,7,18,23,16,17,15,163,15,9,9,22,14,23,27,11,5,10,6,14,3,6,25,29,18,9,3,6,16,21,13,4,1,3,5,7,29,19,24,17,6,17,32,19,2,6,2,5,2,5,7,8,4,5,10,5,10],\"index\":[1,2,3,4,5,6,7,8,9,10,11,12,13,14,15,16,17,18,19,20,21,22,23,24,25,26,27,28,29,30,31,32,33,34,35,36,37,38,39,40,41,42,43,44,45,46,47,48,49,50,51,52,53,54,55,56,57,58,59]},\"selected\":{\"id\":\"1738\"},\"selection_policy\":{\"id\":\"1737\"}},\"id\":\"1669\",\"type\":\"ColumnDataSource\"},{\"attributes\":{},\"id\":\"1643\",\"type\":\"LinearScale\"},{\"attributes\":{},\"id\":\"1738\",\"type\":\"Selection\"},{\"attributes\":{\"coordinates\":null,\"group\":null,\"text\":\"Page views by docs page (2022-06-15 to 2022-10-17)\"},\"id\":\"1635\",\"type\":\"Title\"},{\"attributes\":{\"axis\":{\"id\":\"1645\"},\"coordinates\":null,\"group\":null,\"ticker\":null},\"id\":\"1647\",\"type\":\"Grid\"},{\"attributes\":{},\"id\":\"1656\",\"type\":\"ResetTool\"},{\"attributes\":{},\"id\":\"1653\",\"type\":\"WheelZoomTool\"},{\"attributes\":{},\"id\":\"1652\",\"type\":\"PanTool\"},{\"attributes\":{\"overlay\":{\"id\":\"1658\"}},\"id\":\"1654\",\"type\":\"BoxZoomTool\"},{\"attributes\":{},\"id\":\"1655\",\"type\":\"SaveTool\"},{\"attributes\":{\"distribution\":\"normal\",\"range\":{\"id\":\"1637\"},\"width\":0.1},\"id\":\"1668\",\"type\":\"Jitter\"},{\"attributes\":{},\"id\":\"1649\",\"type\":\"BasicTicker\"},{\"attributes\":{\"callback\":null,\"tooltips\":[[\"URL\",\"@Path\"],[\"Views\",\"@Views\"]]},\"id\":\"1659\",\"type\":\"HoverTool\"},{\"attributes\":{},\"id\":\"1733\",\"type\":\"AllLabels\"},{\"attributes\":{\"fill_alpha\":{\"value\":0.2},\"fill_color\":{\"value\":\"#1f77b4\"},\"hatch_alpha\":{\"value\":0.2},\"line_alpha\":{\"value\":0.2},\"line_color\":{\"value\":\"#1f77b4\"},\"x\":{\"field\":\"Prefix\",\"transform\":{\"id\":\"1668\"}},\"y\":{\"field\":\"Views\"}},\"id\":\"1673\",\"type\":\"Scatter\"},{\"attributes\":{},\"id\":\"1639\",\"type\":\"DataRange1d\"},{\"attributes\":{\"axis\":{\"id\":\"1648\"},\"coordinates\":null,\"dimension\":1,\"group\":null,\"ticker\":null},\"id\":\"1651\",\"type\":\"Grid\"},{\"attributes\":{\"coordinates\":null,\"formatter\":{\"id\":\"1735\"},\"group\":null,\"major_label_policy\":{\"id\":\"1736\"},\"ticker\":{\"id\":\"1646\"}},\"id\":\"1645\",\"type\":\"CategoricalAxis\"},{\"attributes\":{},\"id\":\"1646\",\"type\":\"CategoricalTicker\"}],\"root_ids\":[\"1634\"]},\"title\":\"Bokeh Application\",\"version\":\"2.4.3\"}};\n",
       "  const render_items = [{\"docid\":\"54440e4b-a217-4149-b836-a5b2b9b8d894\",\"root_ids\":[\"1634\"],\"roots\":{\"1634\":\"6d61e952-ade3-4ee8-847f-34f84c381c47\"}}];\n",
       "  root.Bokeh.embed.embed_items_notebook(docs_json, render_items);\n",
       "  }\n",
       "  if (root.Bokeh !== undefined) {\n",
       "    embed_document(root);\n",
       "  } else {\n",
       "    let attempts = 0;\n",
       "    const timer = setInterval(function(root) {\n",
       "      if (root.Bokeh !== undefined) {\n",
       "        clearInterval(timer);\n",
       "        embed_document(root);\n",
       "      } else {\n",
       "        attempts++;\n",
       "        if (attempts > 100) {\n",
       "          clearInterval(timer);\n",
       "          console.log(\"Bokeh: ERROR: Unable to run BokehJS code because BokehJS library is missing\");\n",
       "        }\n",
       "      }\n",
       "    }, 10, root)\n",
       "  }\n",
       "})(window);"
      ],
      "application/vnd.bokehjs_exec.v0+json": ""
     },
     "metadata": {
      "application/vnd.bokehjs_exec.v0+json": {
       "id": "1634"
      }
     },
     "output_type": "display_data"
    }
   ],
   "source": [
    "subset = pathviews.loc[pathviews['Prefix'].isin(prefixes), :]\n",
    "\n",
    "p = figure(x_range=prefixes, height=350, tooltips=[(\"URL\", \"@Path\"), (\"Views\", \"@Views\")],\n",
    "           title=f\"Page views by docs page ({data_period})\")\n",
    "p.scatter(x=jitter('Prefix', width=0.1, range=p.x_range, distribution='normal'),\n",
    "          y='Views', source=subset)\n",
    "p.yaxis.axis_label = 'Total page views'\n",
    "show(p)"
   ]
  },
  {
   "cell_type": "code",
   "execution_count": 10,
   "id": "a3ef457c-5c98-4250-9507-bff27d257b69",
   "metadata": {
    "execution": {
     "iopub.execute_input": "2022-10-17T17:54:12.794717Z",
     "iopub.status.busy": "2022-10-17T17:54:12.794237Z",
     "iopub.status.idle": "2022-10-17T17:54:12.945353Z",
     "shell.execute_reply": "2022-10-17T17:54:12.944677Z"
    }
   },
   "outputs": [
    {
     "data": {
      "text/html": [
       "\n",
       "  <div class=\"bk-root\" id=\"dbb5b5a7-9f70-46cb-a4a7-35693b2bdfbb\" data-root-id=\"1790\"></div>\n"
      ]
     },
     "metadata": {},
     "output_type": "display_data"
    },
    {
     "data": {
      "application/javascript": [
       "(function(root) {\n",
       "  function embed_document(root) {\n",
       "  const docs_json = {\"e1a4fb61-f80c-4b70-8e16-0eb8436bfde5\":{\"defs\":[],\"roots\":{\"references\":[{\"attributes\":{\"below\":[{\"id\":\"1801\"}],\"center\":[{\"id\":\"1804\"},{\"id\":\"1807\"}],\"height\":400,\"left\":[{\"id\":\"1805\"}],\"renderers\":[{\"id\":\"1829\"}],\"title\":{\"id\":\"1791\"},\"toolbar\":{\"id\":\"1816\"},\"width\":750,\"x_range\":{\"id\":\"1793\"},\"x_scale\":{\"id\":\"1797\"},\"y_range\":{\"id\":\"1795\"},\"y_scale\":{\"id\":\"1799\"}},\"id\":\"1790\",\"subtype\":\"Figure\",\"type\":\"Plot\"},{\"attributes\":{},\"id\":\"1897\",\"type\":\"CategoricalTickFormatter\"},{\"attributes\":{},\"id\":\"1811\",\"type\":\"SaveTool\"},{\"attributes\":{\"fill_color\":{\"value\":\"#1f77b4\"},\"height\":{\"value\":0.75},\"line_color\":{\"value\":\"white\"},\"right\":{\"field\":\"Views\"},\"y\":{\"field\":\"Path_Clean\"}},\"id\":\"1826\",\"type\":\"HBar\"},{\"attributes\":{\"bottom_units\":\"screen\",\"coordinates\":null,\"fill_alpha\":0.5,\"fill_color\":\"lightgrey\",\"group\":null,\"left_units\":\"screen\",\"level\":\"overlay\",\"line_alpha\":1.0,\"line_color\":\"black\",\"line_dash\":[4,4],\"line_width\":2,\"right_units\":\"screen\",\"syncable\":false,\"top_units\":\"screen\"},\"id\":\"1814\",\"type\":\"BoxAnnotation\"},{\"attributes\":{\"overlay\":{\"id\":\"1814\"}},\"id\":\"1810\",\"type\":\"BoxZoomTool\"},{\"attributes\":{},\"id\":\"1902\",\"type\":\"UnionRenderers\"},{\"attributes\":{},\"id\":\"1812\",\"type\":\"ResetTool\"},{\"attributes\":{\"fill_alpha\":{\"value\":0.1},\"fill_color\":{\"value\":\"#1f77b4\"},\"hatch_alpha\":{\"value\":0.1},\"height\":{\"value\":0.75},\"line_alpha\":{\"value\":0.1},\"line_color\":{\"value\":\"white\"},\"right\":{\"field\":\"Views\"},\"y\":{\"field\":\"Path_Clean\"}},\"id\":\"1827\",\"type\":\"HBar\"},{\"attributes\":{\"axis\":{\"id\":\"1801\"},\"coordinates\":null,\"group\":null,\"ticker\":null},\"id\":\"1804\",\"type\":\"Grid\"},{\"attributes\":{},\"id\":\"1903\",\"type\":\"Selection\"},{\"attributes\":{\"data\":{\"Path\":[\"/generated/pvanalytics.quality.outliers.tukey.html\",\"/generated/pvanalytics.quality.irradiance.check_ghi_limits_qcrad.html\",\"/generated/pvanalytics.metrics.performance_ratio_nrel.html\",\"/generated/pvanalytics.features.shading.fixed.html\",\"/generated/pvanalytics.quality.irradiance.check_irradiance_limits_qcrad.html\",\"/generated/pvanalytics.quality.gaps.interpolation_diff.html\",\"/generated/pvanalytics.quality.outliers.zscore.html\",\"/generated/pvanalytics.quality.irradiance.check_irradiance_consistency_qcrad.html\",\"/generated/pvanalytics.metrics.variability_index.html\",\"/generated/pvanalytics.quality.outliers.hampel.html\",\"/generated/pvanalytics.quality.irradiance.clearsky_limits.html\",\"/generated/pvanalytics.quality.gaps.completeness_score.html\",\"/generated/pvanalytics.features.daytime.power_or_irradiance.html\",\"/generated/pvanalytics.quality.gaps.stale_values_diff.html\",\"/generated/pvanalytics.features.clearsky.reno.html\",\"/generated/pvanalytics.features.clipping.levels.html\",\"/generated/pvanalytics.system.infer_orientation_daily_peak.html\",\"/generated/pvanalytics.system.is_tracking_envelope.html\",\"/generated/pvanalytics.quality.data_shifts.detect_data_shifts.html\",\"/generated/pvanalytics.quality.weather.temperature_limits.html\"],\"Path_Clean\":[\"pvanalytics.quality.outliers.tukey.html\",\"pvanalytics.quality.irradiance.check_ghi_limits_qcrad.html\",\"pvanalytics.metrics.performance_ratio_nrel.html\",\"pvanalytics.features.shading.fixed.html\",\"pvanalytics.quality.irradiance.check_irradiance_limits_qcrad.html\",\"pvanalytics.quality.gaps.interpolation_diff.html\",\"pvanalytics.quality.outliers.zscore.html\",\"pvanalytics.quality.irradiance.check_irradiance_consistency_qcrad.html\",\"pvanalytics.metrics.variability_index.html\",\"pvanalytics.quality.outliers.hampel.html\",\"pvanalytics.quality.irradiance.clearsky_limits.html\",\"pvanalytics.quality.gaps.completeness_score.html\",\"pvanalytics.features.daytime.power_or_irradiance.html\",\"pvanalytics.quality.gaps.stale_values_diff.html\",\"pvanalytics.features.clearsky.reno.html\",\"pvanalytics.features.clipping.levels.html\",\"pvanalytics.system.infer_orientation_daily_peak.html\",\"pvanalytics.system.is_tracking_envelope.html\",\"pvanalytics.quality.data_shifts.detect_data_shifts.html\",\"pvanalytics.quality.weather.temperature_limits.html\"],\"Prefix\":[\"/generated\",\"/generated\",\"/generated\",\"/generated\",\"/generated\",\"/generated\",\"/generated\",\"/generated\",\"/generated\",\"/generated\",\"/generated\",\"/generated\",\"/generated\",\"/generated\",\"/generated\",\"/generated\",\"/generated\",\"/generated\",\"/generated\",\"/generated\"],\"Views\":[32,29,29,25,24,21,19,19,18,17,17,16,14,13,11,10,10,10,9,8],\"index\":[45,39,26,25,41,32,46,40,27,44,42,31,22,33,18,20,57,59,28,54]},\"selected\":{\"id\":\"1903\"},\"selection_policy\":{\"id\":\"1902\"}},\"id\":\"1824\",\"type\":\"ColumnDataSource\"},{\"attributes\":{},\"id\":\"1797\",\"type\":\"LinearScale\"},{\"attributes\":{\"callback\":null,\"tooltips\":[[\"URL\",\"@Path\"],[\"Views\",\"@Views\"]]},\"id\":\"1815\",\"type\":\"HoverTool\"},{\"attributes\":{\"coordinates\":null,\"data_source\":{\"id\":\"1824\"},\"glyph\":{\"id\":\"1826\"},\"group\":null,\"hover_glyph\":null,\"muted_glyph\":{\"id\":\"1828\"},\"nonselection_glyph\":{\"id\":\"1827\"},\"view\":{\"id\":\"1830\"}},\"id\":\"1829\",\"type\":\"GlyphRenderer\"},{\"attributes\":{},\"id\":\"1809\",\"type\":\"WheelZoomTool\"},{\"attributes\":{},\"id\":\"1799\",\"type\":\"CategoricalScale\"},{\"attributes\":{\"coordinates\":null,\"formatter\":{\"id\":\"1897\"},\"group\":null,\"major_label_policy\":{\"id\":\"1898\"},\"ticker\":{\"id\":\"1806\"}},\"id\":\"1805\",\"type\":\"CategoricalAxis\"},{\"attributes\":{},\"id\":\"1898\",\"type\":\"AllLabels\"},{\"attributes\":{\"factors\":[\"pvanalytics.quality.outliers.tukey.html\",\"pvanalytics.quality.irradiance.check_ghi_limits_qcrad.html\",\"pvanalytics.metrics.performance_ratio_nrel.html\",\"pvanalytics.features.shading.fixed.html\",\"pvanalytics.quality.irradiance.check_irradiance_limits_qcrad.html\",\"pvanalytics.quality.gaps.interpolation_diff.html\",\"pvanalytics.quality.outliers.zscore.html\",\"pvanalytics.quality.irradiance.check_irradiance_consistency_qcrad.html\",\"pvanalytics.metrics.variability_index.html\",\"pvanalytics.quality.outliers.hampel.html\",\"pvanalytics.quality.irradiance.clearsky_limits.html\",\"pvanalytics.quality.gaps.completeness_score.html\",\"pvanalytics.features.daytime.power_or_irradiance.html\",\"pvanalytics.quality.gaps.stale_values_diff.html\",\"pvanalytics.features.clearsky.reno.html\",\"pvanalytics.features.clipping.levels.html\",\"pvanalytics.system.infer_orientation_daily_peak.html\",\"pvanalytics.system.is_tracking_envelope.html\",\"pvanalytics.quality.data_shifts.detect_data_shifts.html\",\"pvanalytics.quality.weather.temperature_limits.html\"]},\"id\":\"1795\",\"type\":\"FactorRange\"},{\"attributes\":{},\"id\":\"1806\",\"type\":\"CategoricalTicker\"},{\"attributes\":{\"axis\":{\"id\":\"1805\"},\"coordinates\":null,\"dimension\":1,\"group\":null,\"ticker\":null},\"id\":\"1807\",\"type\":\"Grid\"},{\"attributes\":{\"source\":{\"id\":\"1824\"}},\"id\":\"1830\",\"type\":\"CDSView\"},{\"attributes\":{},\"id\":\"1808\",\"type\":\"PanTool\"},{\"attributes\":{\"fill_alpha\":{\"value\":0.2},\"fill_color\":{\"value\":\"#1f77b4\"},\"hatch_alpha\":{\"value\":0.2},\"height\":{\"value\":0.75},\"line_alpha\":{\"value\":0.2},\"line_color\":{\"value\":\"white\"},\"right\":{\"field\":\"Views\"},\"y\":{\"field\":\"Path_Clean\"}},\"id\":\"1828\",\"type\":\"HBar\"},{\"attributes\":{},\"id\":\"1901\",\"type\":\"AllLabels\"},{\"attributes\":{},\"id\":\"1900\",\"type\":\"BasicTickFormatter\"},{\"attributes\":{\"coordinates\":null,\"group\":null,\"text\":\"/generated: Views by URL (Top 20, 2022-06-15 to 2022-10-17)\"},\"id\":\"1791\",\"type\":\"Title\"},{\"attributes\":{\"axis_label\":\"Total page views\",\"coordinates\":null,\"formatter\":{\"id\":\"1900\"},\"group\":null,\"major_label_policy\":{\"id\":\"1901\"},\"ticker\":{\"id\":\"1802\"}},\"id\":\"1801\",\"type\":\"LinearAxis\"},{\"attributes\":{},\"id\":\"1802\",\"type\":\"BasicTicker\"},{\"attributes\":{},\"id\":\"1793\",\"type\":\"DataRange1d\"},{\"attributes\":{},\"id\":\"1813\",\"type\":\"HelpTool\"},{\"attributes\":{\"tools\":[{\"id\":\"1808\"},{\"id\":\"1809\"},{\"id\":\"1810\"},{\"id\":\"1811\"},{\"id\":\"1812\"},{\"id\":\"1813\"},{\"id\":\"1815\"}]},\"id\":\"1816\",\"type\":\"Toolbar\"}],\"root_ids\":[\"1790\"]},\"title\":\"Bokeh Application\",\"version\":\"2.4.3\"}};\n",
       "  const render_items = [{\"docid\":\"e1a4fb61-f80c-4b70-8e16-0eb8436bfde5\",\"root_ids\":[\"1790\"],\"roots\":{\"1790\":\"dbb5b5a7-9f70-46cb-a4a7-35693b2bdfbb\"}}];\n",
       "  root.Bokeh.embed.embed_items_notebook(docs_json, render_items);\n",
       "  }\n",
       "  if (root.Bokeh !== undefined) {\n",
       "    embed_document(root);\n",
       "  } else {\n",
       "    let attempts = 0;\n",
       "    const timer = setInterval(function(root) {\n",
       "      if (root.Bokeh !== undefined) {\n",
       "        clearInterval(timer);\n",
       "        embed_document(root);\n",
       "      } else {\n",
       "        attempts++;\n",
       "        if (attempts > 100) {\n",
       "          clearInterval(timer);\n",
       "          console.log(\"Bokeh: ERROR: Unable to run BokehJS code because BokehJS library is missing\");\n",
       "        }\n",
       "      }\n",
       "    }, 10, root)\n",
       "  }\n",
       "})(window);"
      ],
      "application/vnd.bokehjs_exec.v0+json": ""
     },
     "metadata": {
      "application/vnd.bokehjs_exec.v0+json": {
       "id": "1790"
      }
     },
     "output_type": "display_data"
    },
    {
     "data": {
      "text/html": [
       "\n",
       "  <div class=\"bk-root\" id=\"9093060e-8d4f-49f5-8758-d613c4c8e18b\" data-root-id=\"1955\"></div>\n"
      ]
     },
     "metadata": {},
     "output_type": "display_data"
    },
    {
     "data": {
      "application/javascript": [
       "(function(root) {\n",
       "  function embed_document(root) {\n",
       "  const docs_json = {\"9cfdfcd7-dd5e-4b73-a262-5100d9fc134e\":{\"defs\":[],\"roots\":{\"references\":[{\"attributes\":{\"below\":[{\"id\":\"1966\"}],\"center\":[{\"id\":\"1969\"},{\"id\":\"1972\"}],\"height\":320,\"left\":[{\"id\":\"1970\"}],\"renderers\":[{\"id\":\"1994\"}],\"title\":{\"id\":\"1956\"},\"toolbar\":{\"id\":\"1981\"},\"width\":750,\"x_range\":{\"id\":\"1958\"},\"x_scale\":{\"id\":\"1962\"},\"y_range\":{\"id\":\"1960\"},\"y_scale\":{\"id\":\"1964\"}},\"id\":\"1955\",\"subtype\":\"Figure\",\"type\":\"Plot\"},{\"attributes\":{},\"id\":\"1967\",\"type\":\"BasicTicker\"},{\"attributes\":{\"axis_label\":\"Total page views\",\"coordinates\":null,\"formatter\":{\"id\":\"2075\"},\"group\":null,\"major_label_policy\":{\"id\":\"2076\"},\"ticker\":{\"id\":\"1967\"}},\"id\":\"1966\",\"type\":\"LinearAxis\"},{\"attributes\":{},\"id\":\"2072\",\"type\":\"CategoricalTickFormatter\"},{\"attributes\":{\"coordinates\":null,\"group\":null,\"text\":\"/generated/gallery: Views by URL (2022-06-15 to 2022-10-17)\"},\"id\":\"1956\",\"type\":\"Title\"},{\"attributes\":{\"tools\":[{\"id\":\"1973\"},{\"id\":\"1974\"},{\"id\":\"1975\"},{\"id\":\"1976\"},{\"id\":\"1977\"},{\"id\":\"1978\"},{\"id\":\"1980\"}]},\"id\":\"1981\",\"type\":\"Toolbar\"},{\"attributes\":{\"factors\":[\"clearsky-detection.html\",\"zscore-outlier-detection.html\",\"data-shifts.html\",\"tukey-outlier-detection.html\",\"clipping.html\",\"stale-data.html\",\"data-completeness.html\",\"fixed-nrel.html\",\"day-night-masking.html\",\"hampel-outlier-detection.html\",\"interpolated-periods.html\",\"tracking-nrel.html\",\"qcrad-consistency-irradiance.html\",\"qcrad-limits-irradiance.html\",\"clearsky-limits-irradiance.html\",\"daily-insolation-limits-irradiance.html\"]},\"id\":\"1960\",\"type\":\"FactorRange\"},{\"attributes\":{},\"id\":\"2076\",\"type\":\"AllLabels\"},{\"attributes\":{\"coordinates\":null,\"formatter\":{\"id\":\"2072\"},\"group\":null,\"major_label_policy\":{\"id\":\"2073\"},\"ticker\":{\"id\":\"1971\"}},\"id\":\"1970\",\"type\":\"CategoricalAxis\"},{\"attributes\":{\"axis\":{\"id\":\"1966\"},\"coordinates\":null,\"group\":null,\"ticker\":null},\"id\":\"1969\",\"type\":\"Grid\"},{\"attributes\":{},\"id\":\"1962\",\"type\":\"LinearScale\"},{\"attributes\":{\"fill_color\":{\"value\":\"#1f77b4\"},\"height\":{\"value\":0.75},\"line_color\":{\"value\":\"white\"},\"right\":{\"field\":\"Views\"},\"y\":{\"field\":\"Path_Clean\"}},\"id\":\"1991\",\"type\":\"HBar\"},{\"attributes\":{},\"id\":\"1978\",\"type\":\"HelpTool\"},{\"attributes\":{},\"id\":\"1964\",\"type\":\"CategoricalScale\"},{\"attributes\":{\"source\":{\"id\":\"1989\"}},\"id\":\"1995\",\"type\":\"CDSView\"},{\"attributes\":{\"fill_alpha\":{\"value\":0.2},\"fill_color\":{\"value\":\"#1f77b4\"},\"hatch_alpha\":{\"value\":0.2},\"height\":{\"value\":0.75},\"line_alpha\":{\"value\":0.2},\"line_color\":{\"value\":\"white\"},\"right\":{\"field\":\"Views\"},\"y\":{\"field\":\"Path_Clean\"}},\"id\":\"1993\",\"type\":\"HBar\"},{\"attributes\":{\"callback\":null,\"tooltips\":[[\"URL\",\"@Path\"],[\"Views\",\"@Views\"]]},\"id\":\"1980\",\"type\":\"HoverTool\"},{\"attributes\":{},\"id\":\"2078\",\"type\":\"Selection\"},{\"attributes\":{},\"id\":\"2075\",\"type\":\"BasicTickFormatter\"},{\"attributes\":{\"axis\":{\"id\":\"1970\"},\"coordinates\":null,\"dimension\":1,\"group\":null,\"ticker\":null},\"id\":\"1972\",\"type\":\"Grid\"},{\"attributes\":{},\"id\":\"2073\",\"type\":\"AllLabels\"},{\"attributes\":{},\"id\":\"1971\",\"type\":\"CategoricalTicker\"},{\"attributes\":{\"coordinates\":null,\"data_source\":{\"id\":\"1989\"},\"glyph\":{\"id\":\"1991\"},\"group\":null,\"hover_glyph\":null,\"muted_glyph\":{\"id\":\"1993\"},\"nonselection_glyph\":{\"id\":\"1992\"},\"view\":{\"id\":\"1995\"}},\"id\":\"1994\",\"type\":\"GlyphRenderer\"},{\"attributes\":{},\"id\":\"1974\",\"type\":\"WheelZoomTool\"},{\"attributes\":{},\"id\":\"1973\",\"type\":\"PanTool\"},{\"attributes\":{},\"id\":\"2077\",\"type\":\"UnionRenderers\"},{\"attributes\":{\"overlay\":{\"id\":\"1979\"}},\"id\":\"1975\",\"type\":\"BoxZoomTool\"},{\"attributes\":{},\"id\":\"1976\",\"type\":\"SaveTool\"},{\"attributes\":{\"fill_alpha\":{\"value\":0.1},\"fill_color\":{\"value\":\"#1f77b4\"},\"hatch_alpha\":{\"value\":0.1},\"height\":{\"value\":0.75},\"line_alpha\":{\"value\":0.1},\"line_color\":{\"value\":\"white\"},\"right\":{\"field\":\"Views\"},\"y\":{\"field\":\"Path_Clean\"}},\"id\":\"1992\",\"type\":\"HBar\"},{\"attributes\":{},\"id\":\"1977\",\"type\":\"ResetTool\"},{\"attributes\":{},\"id\":\"1958\",\"type\":\"DataRange1d\"},{\"attributes\":{\"bottom_units\":\"screen\",\"coordinates\":null,\"fill_alpha\":0.5,\"fill_color\":\"lightgrey\",\"group\":null,\"left_units\":\"screen\",\"level\":\"overlay\",\"line_alpha\":1.0,\"line_color\":\"black\",\"line_dash\":[4,4],\"line_width\":2,\"right_units\":\"screen\",\"syncable\":false,\"top_units\":\"screen\"},\"id\":\"1979\",\"type\":\"BoxAnnotation\"},{\"attributes\":{\"data\":{\"Path\":[\"/generated/gallery/clearsky-detection.html\",\"/generated/gallery/zscore-outlier-detection.html\",\"/generated/gallery/data-shifts.html\",\"/generated/gallery/tukey-outlier-detection.html\",\"/generated/gallery/clipping.html\",\"/generated/gallery/stale-data.html\",\"/generated/gallery/data-completeness.html\",\"/generated/gallery/fixed-nrel.html\",\"/generated/gallery/day-night-masking.html\",\"/generated/gallery/hampel-outlier-detection.html\",\"/generated/gallery/interpolated-periods.html\",\"/generated/gallery/tracking-nrel.html\",\"/generated/gallery/qcrad-consistency-irradiance.html\",\"/generated/gallery/qcrad-limits-irradiance.html\",\"/generated/gallery/clearsky-limits-irradiance.html\",\"/generated/gallery/daily-insolation-limits-irradiance.html\"],\"Path_Clean\":[\"clearsky-detection.html\",\"zscore-outlier-detection.html\",\"data-shifts.html\",\"tukey-outlier-detection.html\",\"clipping.html\",\"stale-data.html\",\"data-completeness.html\",\"fixed-nrel.html\",\"day-night-masking.html\",\"hampel-outlier-detection.html\",\"interpolated-periods.html\",\"tracking-nrel.html\",\"qcrad-consistency-irradiance.html\",\"qcrad-limits-irradiance.html\",\"clearsky-limits-irradiance.html\",\"daily-insolation-limits-irradiance.html\"],\"Prefix\":[\"/generated/gallery\",\"/generated/gallery\",\"/generated/gallery\",\"/generated/gallery\",\"/generated/gallery\",\"/generated/gallery\",\"/generated/gallery\",\"/generated/gallery\",\"/generated/gallery\",\"/generated/gallery\",\"/generated/gallery\",\"/generated/gallery\",\"/generated/gallery\",\"/generated/gallery\",\"/generated/gallery\",\"/generated/gallery\"],\"Views\":[48,27,23,23,22,22,18,17,16,15,15,14,9,9,8,7],\"index\":[1,17,6,16,3,14,5,8,7,9,11,15,12,13,2,4]},\"selected\":{\"id\":\"2078\"},\"selection_policy\":{\"id\":\"2077\"}},\"id\":\"1989\",\"type\":\"ColumnDataSource\"}],\"root_ids\":[\"1955\"]},\"title\":\"Bokeh Application\",\"version\":\"2.4.3\"}};\n",
       "  const render_items = [{\"docid\":\"9cfdfcd7-dd5e-4b73-a262-5100d9fc134e\",\"root_ids\":[\"1955\"],\"roots\":{\"1955\":\"9093060e-8d4f-49f5-8758-d613c4c8e18b\"}}];\n",
       "  root.Bokeh.embed.embed_items_notebook(docs_json, render_items);\n",
       "  }\n",
       "  if (root.Bokeh !== undefined) {\n",
       "    embed_document(root);\n",
       "  } else {\n",
       "    let attempts = 0;\n",
       "    const timer = setInterval(function(root) {\n",
       "      if (root.Bokeh !== undefined) {\n",
       "        clearInterval(timer);\n",
       "        embed_document(root);\n",
       "      } else {\n",
       "        attempts++;\n",
       "        if (attempts > 100) {\n",
       "          clearInterval(timer);\n",
       "          console.log(\"Bokeh: ERROR: Unable to run BokehJS code because BokehJS library is missing\");\n",
       "        }\n",
       "      }\n",
       "    }, 10, root)\n",
       "  }\n",
       "})(window);"
      ],
      "application/vnd.bokehjs_exec.v0+json": ""
     },
     "metadata": {
      "application/vnd.bokehjs_exec.v0+json": {
       "id": "1955"
      }
     },
     "output_type": "display_data"
    }
   ],
   "source": [
    "for prefix in prefixes:\n",
    "    subset = pathviews.loc[pathviews['Prefix'] == prefix, :]\n",
    "    subset = subset.loc[~subset['Path'].str.endswith('/index.html'), :]\n",
    "    subset = subset.sort_values('Views', ascending=False)[:n]\n",
    "    subset['Path_Clean'] = subset['Path'].str.replace('^'+prefix+'/', '', regex=True)\n",
    "\n",
    "    height = (400 // 20) * len(subset)\n",
    "    extra = f\"Top {n}, \" if len(subset) == n else ''\n",
    "    p = figure(y_range=subset['Path_Clean'], width=750, height=height, tooltips=[(\"URL\", \"@Path\"), (\"Views\", \"@Views\")],\n",
    "               title=f\"{prefix}: Views by URL ({extra}{data_period})\")\n",
    "    p.hbar(y='Path_Clean', right='Views', source=subset, height=0.75,\n",
    "           line_color='white')\n",
    "    p.xaxis.axis_label = 'Total page views'\n",
    "    show(p)"
   ]
  },
  {
   "cell_type": "code",
   "execution_count": null,
   "id": "0a7abd61-24ed-46e1-9686-4af7333fbf76",
   "metadata": {},
   "outputs": [],
   "source": []
  }
 ],
 "metadata": {
  "kernelspec": {
   "display_name": "Python 3 (ipykernel)",
   "language": "python",
   "name": "python3"
  },
  "language_info": {
   "codemirror_mode": {
    "name": "ipython",
    "version": 3
   },
   "file_extension": ".py",
   "mimetype": "text/x-python",
   "name": "python",
   "nbconvert_exporter": "python",
   "pygments_lexer": "ipython3",
   "version": "3.9.14"
  }
 },
 "nbformat": 4,
 "nbformat_minor": 5
}

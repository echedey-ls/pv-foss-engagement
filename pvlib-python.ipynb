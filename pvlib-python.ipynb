{
 "cells": [
  {
   "cell_type": "markdown",
   "id": "9a51a013-8798-4327-bd2b-5aaf0427cda4",
   "metadata": {},
   "source": [
    "# pvlib-python"
   ]
  },
  {
   "cell_type": "code",
   "execution_count": 1,
   "id": "7fd1c91b-b8c5-4523-b450-6ec20e325a20",
   "metadata": {
    "execution": {
     "iopub.execute_input": "2022-10-17T17:07:48.739152Z",
     "iopub.status.busy": "2022-10-17T17:07:48.738557Z",
     "iopub.status.idle": "2022-10-17T17:07:49.316682Z",
     "shell.execute_reply": "2022-10-17T17:07:49.315294Z"
    }
   },
   "outputs": [],
   "source": [
    "from utils import get_analytics_data\n",
    "import pandas as pd\n",
    "\n",
    "from bokeh.plotting import figure, show\n",
    "from bokeh.models import HoverTool\n",
    "from bokeh.transform import jitter\n",
    "from bokeh.io import output_notebook"
   ]
  },
  {
   "cell_type": "code",
   "execution_count": 2,
   "id": "c29a742f-afdc-4643-a075-05291935c913",
   "metadata": {
    "execution": {
     "iopub.execute_input": "2022-10-17T17:07:49.322834Z",
     "iopub.status.busy": "2022-10-17T17:07:49.321737Z",
     "iopub.status.idle": "2022-10-17T17:07:49.335280Z",
     "shell.execute_reply": "2022-10-17T17:07:49.334476Z"
    }
   },
   "outputs": [
    {
     "data": {
      "text/html": [
       "<div class=\"bk-root\">\n",
       "        <a href=\"https://bokeh.org\" target=\"_blank\" class=\"bk-logo bk-logo-small bk-logo-notebook\"></a>\n",
       "        <span id=\"1002\">Loading BokehJS ...</span>\n",
       "    </div>\n"
      ]
     },
     "metadata": {},
     "output_type": "display_data"
    },
    {
     "data": {
      "application/javascript": [
       "(function(root) {\n",
       "  function now() {\n",
       "    return new Date();\n",
       "  }\n",
       "\n",
       "  const force = true;\n",
       "\n",
       "  if (typeof root._bokeh_onload_callbacks === \"undefined\" || force === true) {\n",
       "    root._bokeh_onload_callbacks = [];\n",
       "    root._bokeh_is_loading = undefined;\n",
       "  }\n",
       "\n",
       "const JS_MIME_TYPE = 'application/javascript';\n",
       "  const HTML_MIME_TYPE = 'text/html';\n",
       "  const EXEC_MIME_TYPE = 'application/vnd.bokehjs_exec.v0+json';\n",
       "  const CLASS_NAME = 'output_bokeh rendered_html';\n",
       "\n",
       "  /**\n",
       "   * Render data to the DOM node\n",
       "   */\n",
       "  function render(props, node) {\n",
       "    const script = document.createElement(\"script\");\n",
       "    node.appendChild(script);\n",
       "  }\n",
       "\n",
       "  /**\n",
       "   * Handle when an output is cleared or removed\n",
       "   */\n",
       "  function handleClearOutput(event, handle) {\n",
       "    const cell = handle.cell;\n",
       "\n",
       "    const id = cell.output_area._bokeh_element_id;\n",
       "    const server_id = cell.output_area._bokeh_server_id;\n",
       "    // Clean up Bokeh references\n",
       "    if (id != null && id in Bokeh.index) {\n",
       "      Bokeh.index[id].model.document.clear();\n",
       "      delete Bokeh.index[id];\n",
       "    }\n",
       "\n",
       "    if (server_id !== undefined) {\n",
       "      // Clean up Bokeh references\n",
       "      const cmd_clean = \"from bokeh.io.state import curstate; print(curstate().uuid_to_server['\" + server_id + \"'].get_sessions()[0].document.roots[0]._id)\";\n",
       "      cell.notebook.kernel.execute(cmd_clean, {\n",
       "        iopub: {\n",
       "          output: function(msg) {\n",
       "            const id = msg.content.text.trim();\n",
       "            if (id in Bokeh.index) {\n",
       "              Bokeh.index[id].model.document.clear();\n",
       "              delete Bokeh.index[id];\n",
       "            }\n",
       "          }\n",
       "        }\n",
       "      });\n",
       "      // Destroy server and session\n",
       "      const cmd_destroy = \"import bokeh.io.notebook as ion; ion.destroy_server('\" + server_id + \"')\";\n",
       "      cell.notebook.kernel.execute(cmd_destroy);\n",
       "    }\n",
       "  }\n",
       "\n",
       "  /**\n",
       "   * Handle when a new output is added\n",
       "   */\n",
       "  function handleAddOutput(event, handle) {\n",
       "    const output_area = handle.output_area;\n",
       "    const output = handle.output;\n",
       "\n",
       "    // limit handleAddOutput to display_data with EXEC_MIME_TYPE content only\n",
       "    if ((output.output_type != \"display_data\") || (!Object.prototype.hasOwnProperty.call(output.data, EXEC_MIME_TYPE))) {\n",
       "      return\n",
       "    }\n",
       "\n",
       "    const toinsert = output_area.element.find(\".\" + CLASS_NAME.split(' ')[0]);\n",
       "\n",
       "    if (output.metadata[EXEC_MIME_TYPE][\"id\"] !== undefined) {\n",
       "      toinsert[toinsert.length - 1].firstChild.textContent = output.data[JS_MIME_TYPE];\n",
       "      // store reference to embed id on output_area\n",
       "      output_area._bokeh_element_id = output.metadata[EXEC_MIME_TYPE][\"id\"];\n",
       "    }\n",
       "    if (output.metadata[EXEC_MIME_TYPE][\"server_id\"] !== undefined) {\n",
       "      const bk_div = document.createElement(\"div\");\n",
       "      bk_div.innerHTML = output.data[HTML_MIME_TYPE];\n",
       "      const script_attrs = bk_div.children[0].attributes;\n",
       "      for (let i = 0; i < script_attrs.length; i++) {\n",
       "        toinsert[toinsert.length - 1].firstChild.setAttribute(script_attrs[i].name, script_attrs[i].value);\n",
       "        toinsert[toinsert.length - 1].firstChild.textContent = bk_div.children[0].textContent\n",
       "      }\n",
       "      // store reference to server id on output_area\n",
       "      output_area._bokeh_server_id = output.metadata[EXEC_MIME_TYPE][\"server_id\"];\n",
       "    }\n",
       "  }\n",
       "\n",
       "  function register_renderer(events, OutputArea) {\n",
       "\n",
       "    function append_mime(data, metadata, element) {\n",
       "      // create a DOM node to render to\n",
       "      const toinsert = this.create_output_subarea(\n",
       "        metadata,\n",
       "        CLASS_NAME,\n",
       "        EXEC_MIME_TYPE\n",
       "      );\n",
       "      this.keyboard_manager.register_events(toinsert);\n",
       "      // Render to node\n",
       "      const props = {data: data, metadata: metadata[EXEC_MIME_TYPE]};\n",
       "      render(props, toinsert[toinsert.length - 1]);\n",
       "      element.append(toinsert);\n",
       "      return toinsert\n",
       "    }\n",
       "\n",
       "    /* Handle when an output is cleared or removed */\n",
       "    events.on('clear_output.CodeCell', handleClearOutput);\n",
       "    events.on('delete.Cell', handleClearOutput);\n",
       "\n",
       "    /* Handle when a new output is added */\n",
       "    events.on('output_added.OutputArea', handleAddOutput);\n",
       "\n",
       "    /**\n",
       "     * Register the mime type and append_mime function with output_area\n",
       "     */\n",
       "    OutputArea.prototype.register_mime_type(EXEC_MIME_TYPE, append_mime, {\n",
       "      /* Is output safe? */\n",
       "      safe: true,\n",
       "      /* Index of renderer in `output_area.display_order` */\n",
       "      index: 0\n",
       "    });\n",
       "  }\n",
       "\n",
       "  // register the mime type if in Jupyter Notebook environment and previously unregistered\n",
       "  if (root.Jupyter !== undefined) {\n",
       "    const events = require('base/js/events');\n",
       "    const OutputArea = require('notebook/js/outputarea').OutputArea;\n",
       "\n",
       "    if (OutputArea.prototype.mime_types().indexOf(EXEC_MIME_TYPE) == -1) {\n",
       "      register_renderer(events, OutputArea);\n",
       "    }\n",
       "  }\n",
       "  if (typeof (root._bokeh_timeout) === \"undefined\" || force === true) {\n",
       "    root._bokeh_timeout = Date.now() + 5000;\n",
       "    root._bokeh_failed_load = false;\n",
       "  }\n",
       "\n",
       "  const NB_LOAD_WARNING = {'data': {'text/html':\n",
       "     \"<div style='background-color: #fdd'>\\n\"+\n",
       "     \"<p>\\n\"+\n",
       "     \"BokehJS does not appear to have successfully loaded. If loading BokehJS from CDN, this \\n\"+\n",
       "     \"may be due to a slow or bad network connection. Possible fixes:\\n\"+\n",
       "     \"</p>\\n\"+\n",
       "     \"<ul>\\n\"+\n",
       "     \"<li>re-rerun `output_notebook()` to attempt to load from CDN again, or</li>\\n\"+\n",
       "     \"<li>use INLINE resources instead, as so:</li>\\n\"+\n",
       "     \"</ul>\\n\"+\n",
       "     \"<code>\\n\"+\n",
       "     \"from bokeh.resources import INLINE\\n\"+\n",
       "     \"output_notebook(resources=INLINE)\\n\"+\n",
       "     \"</code>\\n\"+\n",
       "     \"</div>\"}};\n",
       "\n",
       "  function display_loaded() {\n",
       "    const el = document.getElementById(\"1002\");\n",
       "    if (el != null) {\n",
       "      el.textContent = \"BokehJS is loading...\";\n",
       "    }\n",
       "    if (root.Bokeh !== undefined) {\n",
       "      if (el != null) {\n",
       "        el.textContent = \"BokehJS \" + root.Bokeh.version + \" successfully loaded.\";\n",
       "      }\n",
       "    } else if (Date.now() < root._bokeh_timeout) {\n",
       "      setTimeout(display_loaded, 100)\n",
       "    }\n",
       "  }\n",
       "\n",
       "  function run_callbacks() {\n",
       "    try {\n",
       "      root._bokeh_onload_callbacks.forEach(function(callback) {\n",
       "        if (callback != null)\n",
       "          callback();\n",
       "      });\n",
       "    } finally {\n",
       "      delete root._bokeh_onload_callbacks\n",
       "    }\n",
       "    console.debug(\"Bokeh: all callbacks have finished\");\n",
       "  }\n",
       "\n",
       "  function load_libs(css_urls, js_urls, callback) {\n",
       "    if (css_urls == null) css_urls = [];\n",
       "    if (js_urls == null) js_urls = [];\n",
       "\n",
       "    root._bokeh_onload_callbacks.push(callback);\n",
       "    if (root._bokeh_is_loading > 0) {\n",
       "      console.debug(\"Bokeh: BokehJS is being loaded, scheduling callback at\", now());\n",
       "      return null;\n",
       "    }\n",
       "    if (js_urls == null || js_urls.length === 0) {\n",
       "      run_callbacks();\n",
       "      return null;\n",
       "    }\n",
       "    console.debug(\"Bokeh: BokehJS not loaded, scheduling load and callback at\", now());\n",
       "    root._bokeh_is_loading = css_urls.length + js_urls.length;\n",
       "\n",
       "    function on_load() {\n",
       "      root._bokeh_is_loading--;\n",
       "      if (root._bokeh_is_loading === 0) {\n",
       "        console.debug(\"Bokeh: all BokehJS libraries/stylesheets loaded\");\n",
       "        run_callbacks()\n",
       "      }\n",
       "    }\n",
       "\n",
       "    function on_error(url) {\n",
       "      console.error(\"failed to load \" + url);\n",
       "    }\n",
       "\n",
       "    for (let i = 0; i < css_urls.length; i++) {\n",
       "      const url = css_urls[i];\n",
       "      const element = document.createElement(\"link\");\n",
       "      element.onload = on_load;\n",
       "      element.onerror = on_error.bind(null, url);\n",
       "      element.rel = \"stylesheet\";\n",
       "      element.type = \"text/css\";\n",
       "      element.href = url;\n",
       "      console.debug(\"Bokeh: injecting link tag for BokehJS stylesheet: \", url);\n",
       "      document.body.appendChild(element);\n",
       "    }\n",
       "\n",
       "    for (let i = 0; i < js_urls.length; i++) {\n",
       "      const url = js_urls[i];\n",
       "      const element = document.createElement('script');\n",
       "      element.onload = on_load;\n",
       "      element.onerror = on_error.bind(null, url);\n",
       "      element.async = false;\n",
       "      element.src = url;\n",
       "      console.debug(\"Bokeh: injecting script tag for BokehJS library: \", url);\n",
       "      document.head.appendChild(element);\n",
       "    }\n",
       "  };\n",
       "\n",
       "  function inject_raw_css(css) {\n",
       "    const element = document.createElement(\"style\");\n",
       "    element.appendChild(document.createTextNode(css));\n",
       "    document.body.appendChild(element);\n",
       "  }\n",
       "\n",
       "  const js_urls = [\"https://cdn.bokeh.org/bokeh/release/bokeh-2.4.3.min.js\", \"https://cdn.bokeh.org/bokeh/release/bokeh-gl-2.4.3.min.js\", \"https://cdn.bokeh.org/bokeh/release/bokeh-widgets-2.4.3.min.js\", \"https://cdn.bokeh.org/bokeh/release/bokeh-tables-2.4.3.min.js\", \"https://cdn.bokeh.org/bokeh/release/bokeh-mathjax-2.4.3.min.js\"];\n",
       "  const css_urls = [];\n",
       "\n",
       "  const inline_js = [    function(Bokeh) {\n",
       "      Bokeh.set_log_level(\"info\");\n",
       "    },\n",
       "function(Bokeh) {\n",
       "    }\n",
       "  ];\n",
       "\n",
       "  function run_inline_js() {\n",
       "    if (root.Bokeh !== undefined || force === true) {\n",
       "          for (let i = 0; i < inline_js.length; i++) {\n",
       "      inline_js[i].call(root, root.Bokeh);\n",
       "    }\n",
       "if (force === true) {\n",
       "        display_loaded();\n",
       "      }} else if (Date.now() < root._bokeh_timeout) {\n",
       "      setTimeout(run_inline_js, 100);\n",
       "    } else if (!root._bokeh_failed_load) {\n",
       "      console.log(\"Bokeh: BokehJS failed to load within specified timeout.\");\n",
       "      root._bokeh_failed_load = true;\n",
       "    } else if (force !== true) {\n",
       "      const cell = $(document.getElementById(\"1002\")).parents('.cell').data().cell;\n",
       "      cell.output_area.append_execute_result(NB_LOAD_WARNING)\n",
       "    }\n",
       "  }\n",
       "\n",
       "  if (root._bokeh_is_loading === 0) {\n",
       "    console.debug(\"Bokeh: BokehJS loaded, going straight to plotting\");\n",
       "    run_inline_js();\n",
       "  } else {\n",
       "    load_libs(css_urls, js_urls, function() {\n",
       "      console.debug(\"Bokeh: BokehJS plotting callback run at\", now());\n",
       "      run_inline_js();\n",
       "    });\n",
       "  }\n",
       "}(window));"
      ],
      "application/vnd.bokehjs_load.v0+json": "(function(root) {\n  function now() {\n    return new Date();\n  }\n\n  const force = true;\n\n  if (typeof root._bokeh_onload_callbacks === \"undefined\" || force === true) {\n    root._bokeh_onload_callbacks = [];\n    root._bokeh_is_loading = undefined;\n  }\n\n\n  if (typeof (root._bokeh_timeout) === \"undefined\" || force === true) {\n    root._bokeh_timeout = Date.now() + 5000;\n    root._bokeh_failed_load = false;\n  }\n\n  const NB_LOAD_WARNING = {'data': {'text/html':\n     \"<div style='background-color: #fdd'>\\n\"+\n     \"<p>\\n\"+\n     \"BokehJS does not appear to have successfully loaded. If loading BokehJS from CDN, this \\n\"+\n     \"may be due to a slow or bad network connection. Possible fixes:\\n\"+\n     \"</p>\\n\"+\n     \"<ul>\\n\"+\n     \"<li>re-rerun `output_notebook()` to attempt to load from CDN again, or</li>\\n\"+\n     \"<li>use INLINE resources instead, as so:</li>\\n\"+\n     \"</ul>\\n\"+\n     \"<code>\\n\"+\n     \"from bokeh.resources import INLINE\\n\"+\n     \"output_notebook(resources=INLINE)\\n\"+\n     \"</code>\\n\"+\n     \"</div>\"}};\n\n  function display_loaded() {\n    const el = document.getElementById(\"1002\");\n    if (el != null) {\n      el.textContent = \"BokehJS is loading...\";\n    }\n    if (root.Bokeh !== undefined) {\n      if (el != null) {\n        el.textContent = \"BokehJS \" + root.Bokeh.version + \" successfully loaded.\";\n      }\n    } else if (Date.now() < root._bokeh_timeout) {\n      setTimeout(display_loaded, 100)\n    }\n  }\n\n  function run_callbacks() {\n    try {\n      root._bokeh_onload_callbacks.forEach(function(callback) {\n        if (callback != null)\n          callback();\n      });\n    } finally {\n      delete root._bokeh_onload_callbacks\n    }\n    console.debug(\"Bokeh: all callbacks have finished\");\n  }\n\n  function load_libs(css_urls, js_urls, callback) {\n    if (css_urls == null) css_urls = [];\n    if (js_urls == null) js_urls = [];\n\n    root._bokeh_onload_callbacks.push(callback);\n    if (root._bokeh_is_loading > 0) {\n      console.debug(\"Bokeh: BokehJS is being loaded, scheduling callback at\", now());\n      return null;\n    }\n    if (js_urls == null || js_urls.length === 0) {\n      run_callbacks();\n      return null;\n    }\n    console.debug(\"Bokeh: BokehJS not loaded, scheduling load and callback at\", now());\n    root._bokeh_is_loading = css_urls.length + js_urls.length;\n\n    function on_load() {\n      root._bokeh_is_loading--;\n      if (root._bokeh_is_loading === 0) {\n        console.debug(\"Bokeh: all BokehJS libraries/stylesheets loaded\");\n        run_callbacks()\n      }\n    }\n\n    function on_error(url) {\n      console.error(\"failed to load \" + url);\n    }\n\n    for (let i = 0; i < css_urls.length; i++) {\n      const url = css_urls[i];\n      const element = document.createElement(\"link\");\n      element.onload = on_load;\n      element.onerror = on_error.bind(null, url);\n      element.rel = \"stylesheet\";\n      element.type = \"text/css\";\n      element.href = url;\n      console.debug(\"Bokeh: injecting link tag for BokehJS stylesheet: \", url);\n      document.body.appendChild(element);\n    }\n\n    for (let i = 0; i < js_urls.length; i++) {\n      const url = js_urls[i];\n      const element = document.createElement('script');\n      element.onload = on_load;\n      element.onerror = on_error.bind(null, url);\n      element.async = false;\n      element.src = url;\n      console.debug(\"Bokeh: injecting script tag for BokehJS library: \", url);\n      document.head.appendChild(element);\n    }\n  };\n\n  function inject_raw_css(css) {\n    const element = document.createElement(\"style\");\n    element.appendChild(document.createTextNode(css));\n    document.body.appendChild(element);\n  }\n\n  const js_urls = [\"https://cdn.bokeh.org/bokeh/release/bokeh-2.4.3.min.js\", \"https://cdn.bokeh.org/bokeh/release/bokeh-gl-2.4.3.min.js\", \"https://cdn.bokeh.org/bokeh/release/bokeh-widgets-2.4.3.min.js\", \"https://cdn.bokeh.org/bokeh/release/bokeh-tables-2.4.3.min.js\", \"https://cdn.bokeh.org/bokeh/release/bokeh-mathjax-2.4.3.min.js\"];\n  const css_urls = [];\n\n  const inline_js = [    function(Bokeh) {\n      Bokeh.set_log_level(\"info\");\n    },\nfunction(Bokeh) {\n    }\n  ];\n\n  function run_inline_js() {\n    if (root.Bokeh !== undefined || force === true) {\n          for (let i = 0; i < inline_js.length; i++) {\n      inline_js[i].call(root, root.Bokeh);\n    }\nif (force === true) {\n        display_loaded();\n      }} else if (Date.now() < root._bokeh_timeout) {\n      setTimeout(run_inline_js, 100);\n    } else if (!root._bokeh_failed_load) {\n      console.log(\"Bokeh: BokehJS failed to load within specified timeout.\");\n      root._bokeh_failed_load = true;\n    } else if (force !== true) {\n      const cell = $(document.getElementById(\"1002\")).parents('.cell').data().cell;\n      cell.output_area.append_execute_result(NB_LOAD_WARNING)\n    }\n  }\n\n  if (root._bokeh_is_loading === 0) {\n    console.debug(\"Bokeh: BokehJS loaded, going straight to plotting\");\n    run_inline_js();\n  } else {\n    load_libs(css_urls, js_urls, function() {\n      console.debug(\"Bokeh: BokehJS plotting callback run at\", now());\n      run_inline_js();\n    });\n  }\n}(window));"
     },
     "metadata": {},
     "output_type": "display_data"
    }
   ],
   "source": [
    "output_notebook()"
   ]
  },
  {
   "cell_type": "code",
   "execution_count": 3,
   "id": "0a6b553d-bac9-4f1e-9ebd-f34ef6758344",
   "metadata": {
    "execution": {
     "iopub.execute_input": "2022-10-17T17:07:49.339452Z",
     "iopub.status.busy": "2022-10-17T17:07:49.338629Z",
     "iopub.status.idle": "2022-10-17T17:07:49.667200Z",
     "shell.execute_reply": "2022-10-17T17:07:49.666298Z"
    }
   },
   "outputs": [],
   "source": [
    "df = get_analytics_data('pvlib')\n",
    "data_period = df['Date'].min().strftime('%Y-%m-%d') + ' to ' + df['Date'].max().strftime('%Y-%m-%d')"
   ]
  },
  {
   "cell_type": "code",
   "execution_count": 4,
   "id": "69c1701b-f17a-40e1-9aaf-bef845e60569",
   "metadata": {
    "execution": {
     "iopub.execute_input": "2022-10-17T17:07:49.672018Z",
     "iopub.status.busy": "2022-10-17T17:07:49.671276Z",
     "iopub.status.idle": "2022-10-17T17:07:49.735287Z",
     "shell.execute_reply": "2022-10-17T17:07:49.734137Z"
    }
   },
   "outputs": [
    {
     "data": {
      "text/html": [
       "\n",
       "  <div class=\"bk-root\" id=\"bdf22a09-8a97-455a-aec1-8bd54a9335ba\" data-root-id=\"1003\"></div>\n"
      ]
     },
     "metadata": {},
     "output_type": "display_data"
    },
    {
     "data": {
      "application/javascript": [
       "(function(root) {\n",
       "  function embed_document(root) {\n",
       "  const docs_json = {\"ebb2ad9f-254a-4e18-afda-1683934f990d\":{\"defs\":[],\"roots\":{\"references\":[{\"attributes\":{\"below\":[{\"id\":\"1014\"}],\"center\":[{\"id\":\"1016\"},{\"id\":\"1020\"}],\"height\":350,\"left\":[{\"id\":\"1017\"}],\"renderers\":[{\"id\":\"1042\"}],\"title\":{\"id\":\"1004\"},\"toolbar\":{\"id\":\"1029\"},\"x_range\":{\"id\":\"1006\"},\"x_scale\":{\"id\":\"1010\"},\"y_range\":{\"id\":\"1008\"},\"y_scale\":{\"id\":\"1012\"}},\"id\":\"1003\",\"subtype\":\"Figure\",\"type\":\"Plot\"},{\"attributes\":{},\"id\":\"1021\",\"type\":\"PanTool\"},{\"attributes\":{},\"id\":\"1051\",\"type\":\"UnionRenderers\"},{\"attributes\":{},\"id\":\"1024\",\"type\":\"SaveTool\"},{\"attributes\":{},\"id\":\"1052\",\"type\":\"Selection\"},{\"attributes\":{},\"id\":\"1025\",\"type\":\"ResetTool\"},{\"attributes\":{\"overlay\":{\"id\":\"1027\"}},\"id\":\"1023\",\"type\":\"BoxZoomTool\"},{\"attributes\":{},\"id\":\"1022\",\"type\":\"WheelZoomTool\"},{\"attributes\":{},\"id\":\"1015\",\"type\":\"CategoricalTicker\"},{\"attributes\":{},\"id\":\"1050\",\"type\":\"AllLabels\"},{\"attributes\":{\"data\":{\"Version\":[\"latest\",\"stable\",\"v0.1\",\"v0.2.0\",\"v0.2.1\",\"v0.2.2\",\"v0.3.0\",\"v0.3.1\",\"v0.3.2\",\"v0.3.3\",\"v0.4.0\",\"v0.4.2\",\"v0.4.3\",\"v0.4.4\",\"v0.4.5\",\"v0.5.0\",\"v0.5.1\",\"v0.5.2\",\"v0.6.0\",\"v0.6.1\",\"v0.6.2\",\"v0.6.3\",\"v0.7.2\",\"v0.8.0\",\"v0.8.1\",\"v0.9.0\",\"v0.9.1\",\"v0.9.2\",\"v0.9.3\"],\"Views\":[7959,135806,697,614,417,357,2980,223,1299,127,879,1348,3464,758,157,161,931,179,2266,2238,2001,951,331,2733,658,14406,3790,1072,867],\"index\":[0,1,2,3,4,5,6,7,8,9,10,11,12,13,14,15,16,17,18,19,20,21,22,23,24,25,26,27,28]},\"selected\":{\"id\":\"1052\"},\"selection_policy\":{\"id\":\"1051\"}},\"id\":\"1037\",\"type\":\"ColumnDataSource\"},{\"attributes\":{\"axis\":{\"id\":\"1014\"},\"coordinates\":null,\"group\":null,\"ticker\":null},\"id\":\"1016\",\"type\":\"Grid\"},{\"attributes\":{\"fill_alpha\":{\"value\":0.1},\"fill_color\":{\"value\":\"#1f77b4\"},\"hatch_alpha\":{\"value\":0.1},\"line_alpha\":{\"value\":0.1},\"line_color\":{\"value\":\"white\"},\"top\":{\"field\":\"Views\"},\"width\":{\"value\":0.75},\"x\":{\"field\":\"Version\"}},\"id\":\"1040\",\"type\":\"VBar\"},{\"attributes\":{},\"id\":\"1012\",\"type\":\"LinearScale\"},{\"attributes\":{},\"id\":\"1026\",\"type\":\"HelpTool\"},{\"attributes\":{\"source\":{\"id\":\"1037\"}},\"id\":\"1043\",\"type\":\"CDSView\"},{\"attributes\":{\"coordinates\":null,\"group\":null,\"text\":\"Page views by RTD version (2022-06-15 to 2022-10-17)\"},\"id\":\"1004\",\"type\":\"Title\"},{\"attributes\":{\"bottom_units\":\"screen\",\"coordinates\":null,\"fill_alpha\":0.5,\"fill_color\":\"lightgrey\",\"group\":null,\"left_units\":\"screen\",\"level\":\"overlay\",\"line_alpha\":1.0,\"line_color\":\"black\",\"line_dash\":[4,4],\"line_width\":2,\"right_units\":\"screen\",\"syncable\":false,\"top_units\":\"screen\"},\"id\":\"1027\",\"type\":\"BoxAnnotation\"},{\"attributes\":{\"callback\":null,\"tooltips\":[[\"Version\",\"@Version\"],[\"Views\",\"@Views\"]]},\"id\":\"1028\",\"type\":\"HoverTool\"},{\"attributes\":{\"coordinates\":null,\"data_source\":{\"id\":\"1037\"},\"glyph\":{\"id\":\"1039\"},\"group\":null,\"hover_glyph\":null,\"muted_glyph\":{\"id\":\"1041\"},\"nonselection_glyph\":{\"id\":\"1040\"},\"view\":{\"id\":\"1043\"}},\"id\":\"1042\",\"type\":\"GlyphRenderer\"},{\"attributes\":{},\"id\":\"1049\",\"type\":\"CategoricalTickFormatter\"},{\"attributes\":{},\"id\":\"1008\",\"type\":\"DataRange1d\"},{\"attributes\":{},\"id\":\"1010\",\"type\":\"CategoricalScale\"},{\"attributes\":{\"fill_color\":{\"value\":\"#1f77b4\"},\"line_color\":{\"value\":\"white\"},\"top\":{\"field\":\"Views\"},\"width\":{\"value\":0.75},\"x\":{\"field\":\"Version\"}},\"id\":\"1039\",\"type\":\"VBar\"},{\"attributes\":{},\"id\":\"1047\",\"type\":\"AllLabels\"},{\"attributes\":{\"fill_alpha\":{\"value\":0.2},\"fill_color\":{\"value\":\"#1f77b4\"},\"hatch_alpha\":{\"value\":0.2},\"line_alpha\":{\"value\":0.2},\"line_color\":{\"value\":\"white\"},\"top\":{\"field\":\"Views\"},\"width\":{\"value\":0.75},\"x\":{\"field\":\"Version\"}},\"id\":\"1041\",\"type\":\"VBar\"},{\"attributes\":{\"factors\":[\"latest\",\"stable\",\"v0.1\",\"v0.2.0\",\"v0.2.1\",\"v0.2.2\",\"v0.3.0\",\"v0.3.1\",\"v0.3.2\",\"v0.3.3\",\"v0.4.0\",\"v0.4.2\",\"v0.4.3\",\"v0.4.4\",\"v0.4.5\",\"v0.5.0\",\"v0.5.1\",\"v0.5.2\",\"v0.6.0\",\"v0.6.1\",\"v0.6.2\",\"v0.6.3\",\"v0.7.2\",\"v0.8.0\",\"v0.8.1\",\"v0.9.0\",\"v0.9.1\",\"v0.9.2\",\"v0.9.3\"]},\"id\":\"1006\",\"type\":\"FactorRange\"},{\"attributes\":{},\"id\":\"1046\",\"type\":\"BasicTickFormatter\"},{\"attributes\":{},\"id\":\"1018\",\"type\":\"BasicTicker\"},{\"attributes\":{\"coordinates\":null,\"formatter\":{\"id\":\"1049\"},\"group\":null,\"major_label_orientation\":1.57,\"major_label_policy\":{\"id\":\"1050\"},\"ticker\":{\"id\":\"1015\"}},\"id\":\"1014\",\"type\":\"CategoricalAxis\"},{\"attributes\":{\"axis_label\":\"Total page views\",\"coordinates\":null,\"formatter\":{\"id\":\"1046\"},\"group\":null,\"major_label_policy\":{\"id\":\"1047\"},\"ticker\":{\"id\":\"1018\"}},\"id\":\"1017\",\"type\":\"LinearAxis\"},{\"attributes\":{\"tools\":[{\"id\":\"1021\"},{\"id\":\"1022\"},{\"id\":\"1023\"},{\"id\":\"1024\"},{\"id\":\"1025\"},{\"id\":\"1026\"},{\"id\":\"1028\"}]},\"id\":\"1029\",\"type\":\"Toolbar\"},{\"attributes\":{\"axis\":{\"id\":\"1017\"},\"coordinates\":null,\"dimension\":1,\"group\":null,\"ticker\":null},\"id\":\"1020\",\"type\":\"Grid\"}],\"root_ids\":[\"1003\"]},\"title\":\"Bokeh Application\",\"version\":\"2.4.3\"}};\n",
       "  const render_items = [{\"docid\":\"ebb2ad9f-254a-4e18-afda-1683934f990d\",\"root_ids\":[\"1003\"],\"roots\":{\"1003\":\"bdf22a09-8a97-455a-aec1-8bd54a9335ba\"}}];\n",
       "  root.Bokeh.embed.embed_items_notebook(docs_json, render_items);\n",
       "  }\n",
       "  if (root.Bokeh !== undefined) {\n",
       "    embed_document(root);\n",
       "  } else {\n",
       "    let attempts = 0;\n",
       "    const timer = setInterval(function(root) {\n",
       "      if (root.Bokeh !== undefined) {\n",
       "        clearInterval(timer);\n",
       "        embed_document(root);\n",
       "      } else {\n",
       "        attempts++;\n",
       "        if (attempts > 100) {\n",
       "          clearInterval(timer);\n",
       "          console.log(\"Bokeh: ERROR: Unable to run BokehJS code because BokehJS library is missing\");\n",
       "        }\n",
       "      }\n",
       "    }, 10, root)\n",
       "  }\n",
       "})(window);"
      ],
      "application/vnd.bokehjs_exec.v0+json": ""
     },
     "metadata": {
      "application/vnd.bokehjs_exec.v0+json": {
       "id": "1003"
      }
     },
     "output_type": "display_data"
    }
   ],
   "source": [
    "total_by_version = df.groupby('Version')['Views'].sum().reset_index()\n",
    "\n",
    "p = figure(x_range=total_by_version['Version'], height=350, tooltips=[(\"Version\", \"@Version\"), (\"Views\", \"@Views\")],\n",
    "           title=f\"Page views by RTD version ({data_period})\",)\n",
    "p.vbar(x='Version', top='Views', width=0.75, source=total_by_version,\n",
    "       line_color='white')\n",
    "p.xaxis.major_label_orientation = 3.14/2\n",
    "p.yaxis.axis_label = 'Total page views'\n",
    "show(p)"
   ]
  },
  {
   "cell_type": "code",
   "execution_count": 5,
   "id": "7736a53f-e345-4155-a9c5-121c01138262",
   "metadata": {
    "execution": {
     "iopub.execute_input": "2022-10-17T17:07:49.743711Z",
     "iopub.status.busy": "2022-10-17T17:07:49.743066Z",
     "iopub.status.idle": "2022-10-17T17:07:49.912830Z",
     "shell.execute_reply": "2022-10-17T17:07:49.911800Z"
    }
   },
   "outputs": [
    {
     "data": {
      "text/html": [
       "\n",
       "  <div class=\"bk-root\" id=\"829289c8-8b04-468f-99a6-6ce6e31181da\" data-root-id=\"1104\"></div>\n"
      ]
     },
     "metadata": {},
     "output_type": "display_data"
    },
    {
     "data": {
      "application/javascript": [
       "(function(root) {\n",
       "  function embed_document(root) {\n",
       "  const docs_json = {\"e8519372-fc65-4f31-9c9e-880f431d539d\":{\"defs\":[],\"roots\":{\"references\":[{\"attributes\":{\"below\":[{\"id\":\"1115\"}],\"center\":[{\"id\":\"1118\"},{\"id\":\"1122\"},{\"id\":\"1167\"}],\"height\":350,\"left\":[{\"id\":\"1119\"}],\"renderers\":[{\"id\":\"1143\"},{\"id\":\"1173\"}],\"title\":{\"id\":\"1105\"},\"toolbar\":{\"id\":\"1130\"},\"x_range\":{\"id\":\"1107\"},\"x_scale\":{\"id\":\"1111\"},\"y_range\":{\"id\":\"1109\"},\"y_scale\":{\"id\":\"1113\"}},\"id\":\"1104\",\"subtype\":\"Figure\",\"type\":\"Plot\"},{\"attributes\":{},\"id\":\"1153\",\"type\":\"Selection\"},{\"attributes\":{\"days\":[1,2,3,4,5,6,7,8,9,10,11,12,13,14,15,16,17,18,19,20,21,22,23,24,25,26,27,28,29,30,31]},\"id\":\"1158\",\"type\":\"DaysTicker\"},{\"attributes\":{},\"id\":\"1148\",\"type\":\"AllLabels\"},{\"attributes\":{\"coordinates\":null,\"group\":null,\"items\":[{\"id\":\"1168\"},{\"id\":\"1199\"}]},\"id\":\"1167\",\"type\":\"Legend\"},{\"attributes\":{},\"id\":\"1184\",\"type\":\"UnionRenderers\"},{\"attributes\":{\"base\":24,\"mantissas\":[1,2,4,6,8,12],\"max_interval\":43200000.0,\"min_interval\":3600000.0,\"num_minor_ticks\":0},\"id\":\"1157\",\"type\":\"AdaptiveTicker\"},{\"attributes\":{},\"id\":\"1166\",\"type\":\"YearsTicker\"},{\"attributes\":{\"months\":[0,6]},\"id\":\"1165\",\"type\":\"MonthsTicker\"},{\"attributes\":{},\"id\":\"1113\",\"type\":\"LinearScale\"},{\"attributes\":{\"months\":[0,4,8]},\"id\":\"1164\",\"type\":\"MonthsTicker\"},{\"attributes\":{},\"id\":\"1185\",\"type\":\"Selection\"},{\"attributes\":{\"months\":[0,1,2,3,4,5,6,7,8,9,10,11]},\"id\":\"1162\",\"type\":\"MonthsTicker\"},{\"attributes\":{\"label\":{\"value\":\"stable\"},\"renderers\":[{\"id\":\"1143\"}]},\"id\":\"1168\",\"type\":\"LegendItem\"},{\"attributes\":{},\"id\":\"1123\",\"type\":\"PanTool\"},{\"attributes\":{},\"id\":\"1120\",\"type\":\"BasicTicker\"},{\"attributes\":{\"overlay\":{\"id\":\"1129\"}},\"id\":\"1125\",\"type\":\"BoxZoomTool\"},{\"attributes\":{\"num_minor_ticks\":5,\"tickers\":[{\"id\":\"1155\"},{\"id\":\"1156\"},{\"id\":\"1157\"},{\"id\":\"1158\"},{\"id\":\"1159\"},{\"id\":\"1160\"},{\"id\":\"1161\"},{\"id\":\"1162\"},{\"id\":\"1163\"},{\"id\":\"1164\"},{\"id\":\"1165\"},{\"id\":\"1166\"}]},\"id\":\"1116\",\"type\":\"DatetimeTicker\"},{\"attributes\":{},\"id\":\"1109\",\"type\":\"DataRange1d\"},{\"attributes\":{},\"id\":\"1126\",\"type\":\"SaveTool\"},{\"attributes\":{},\"id\":\"1127\",\"type\":\"ResetTool\"},{\"attributes\":{\"coordinates\":null,\"group\":null,\"text\":\"Daily views by RTD version\"},\"id\":\"1105\",\"type\":\"Title\"},{\"attributes\":{\"axis\":{\"id\":\"1115\"},\"coordinates\":null,\"group\":null,\"ticker\":null},\"id\":\"1118\",\"type\":\"Grid\"},{\"attributes\":{\"coordinates\":null,\"data_source\":{\"id\":\"1139\"},\"glyph\":{\"id\":\"1140\"},\"group\":null,\"hover_glyph\":null,\"muted_glyph\":{\"id\":\"1142\"},\"nonselection_glyph\":{\"id\":\"1141\"},\"view\":{\"id\":\"1144\"}},\"id\":\"1143\",\"type\":\"GlyphRenderer\"},{\"attributes\":{},\"id\":\"1124\",\"type\":\"WheelZoomTool\"},{\"attributes\":{\"tools\":[{\"id\":\"1123\"},{\"id\":\"1124\"},{\"id\":\"1125\"},{\"id\":\"1126\"},{\"id\":\"1127\"},{\"id\":\"1128\"},{\"id\":\"1137\"}]},\"id\":\"1130\",\"type\":\"Toolbar\"},{\"attributes\":{\"data\":{\"x\":{\"__ndarray__\":\"AACAjkoWeEIAAED0nBZ4QgAAAFrvFnhCAADAv0EXeEIAAIAllBd4QgAAQIvmF3hCAAAA8TgYeEIAAMBWixh4QgAAgLzdGHhCAABAIjAZeEIAAACIghl4QgAAwO3UGXhCAACAUycaeEIAAEC5eRp4QgAAAB/MGnhCAADAhB4beEIAAIDqcBt4QgAAQFDDG3hCAAAAthUceEIAAMAbaBx4QgAAgIG6HHhCAABA5wwdeEIAAABNXx14QgAAwLKxHXhCAACAGAQeeEIAAEB+Vh54QgAAAOSoHnhCAADASfseeEIAAICvTR94QgAAQBWgH3hCAAAAe/IfeEIAAMDgRCB4QgAAgEaXIHhCAABArOkgeEIAAAASPCF4QgAAwHeOIXhCAACA3eAheEIAAEBDMyJ4QgAAAKmFInhCAADADtgieEIAAIB0KiN4QgAAQNp8I3hCAAAAQM8jeEIAAMClISR4QgAAgAt0JHhCAABAccYkeEIAAADXGCV4QgAAwDxrJXhCAACAor0leEIAAEAIECZ4QgAAAG5iJnhCAADA07QmeEIAAIA5Byd4QgAAQJ9ZJ3hCAAAABawneEIAAMBq/id4QgAAgNBQKHhCAABANqMoeEIAAACc9Sh4QgAAwAFIKXhCAACAZ5opeEIAAEDN7Cl4QgAAADM/KnhCAADAmJEqeEIAAID+4yp4QgAAQGQ2K3hCAAAAyogreEIAAMAv2yt4QgAAgJUtLHhCAABA+38seEIAAABh0ix4QgAAwMYkLXhCAACALHcteEIAAECSyS14QgAAAPgbLnhCAADAXW4ueEIAAIDDwC54QgAAQCkTL3hCAAAAj2UveEIAAMD0ty94QgAAgFoKMHhCAABAwFwweEIAAAAmrzB4QgAAwIsBMXhCAACA8VMxeEIAAEBXpjF4QgAAAL34MXhCAADAIksyeEIAAICInTJ4QgAAQO7vMnhCAAAAVEIzeEIAAMC5lDN4QgAAgB/nM3hCAABAhTk0eEIAAADrizR4QgAAwFDeNHhCAACAtjA1eEIAAEAcgzV4QgAAAILVNXhCAADA5yc2eEIAAIBNejZ4QgAAQLPMNnhCAAAAGR83eEIAAMB+cTd4QgAAgOTDN3hCAABAShY4eEIAAACwaDh4QgAAwBW7OHhCAACAew05eEIAAEDhXzl4QgAAAEeyOXhCAADArAQ6eEIAAIASVzp4QgAAQHipOnhCAAAA3vs6eEIAAMBDTjt4QgAAgKmgO3hCAABAD/M7eEIAAAB1RTx4QgAAwNqXPHhCAACAQOo8eEIAAECmPD14QgAAAAyPPXhCAADAceE9eEIAAIDXMz54Qg==\",\"dtype\":\"float64\",\"order\":\"little\",\"shape\":[125]},\"y\":{\"__ndarray__\":\"AAAAAABgmEAAAAAAACiUQAAAAAAAOJdAAAAAAACQfkAAAAAAAAB9QAAAAAAACJpAAAAAAACMmUAAAAAAAFiUQAAAAAAAgJBAAAAAAADckUAAAAAAAJCAQAAAAAAAAHlAAAAAAACYnEAAAAAAALygQAAAAAAA2JdAAAAAAAAQlUAAAAAAAISQQAAAAAAA8HpAAAAAAAAAgUAAAAAAAGiWQAAAAAAAfJdAAAAAAAAckkAAAAAAALiWQAAAAAAASJRAAAAAAAAge0AAAAAAAKB3QAAAAAAA5JVAAAAAAACIlEAAAAAAAICSQAAAAAAAwJZAAAAAAADoi0AAAAAAACB7QAAAAAAAwHRAAAAAAAB8k0AAAAAAAOyXQAAAAAAADJNAAAAAAAA0k0AAAAAAAIiPQAAAAAAAcH1AAAAAAABQf0AAAAAAAMSTQAAAAAAAkJZAAAAAAABAlEAAAAAAAOCUQAAAAAAAtJBAAAAAAADQeUAAAAAAAHCBQAAAAAAAuJZAAAAAAADIlUAAAAAAADCXQAAAAAAAkJhAAAAAAAAAkUAAAAAAAFiDQAAAAAAAAH5AAAAAAABklUAAAAAAAMCaQAAAAAAARJhAAAAAAAA4k0AAAAAAAMSSQAAAAAAAEHdAAAAAAADwdUAAAAAAALSSQAAAAAAA4JJAAAAAAADwm0AAAAAAAGCWQAAAAAAAqJVAAAAAAADIgEAAAAAAADiCQAAAAAAAWJdAAAAAAAAQl0AAAAAAAEibQAAAAAAA9JZAAAAAAACUk0AAAAAAAGiCQAAAAAAAUH5AAAAAAACslkAAAAAAAPyXQAAAAAAAjJVAAAAAAAC4l0AAAAAAAByUQAAAAAAAuIFAAAAAAABQekAAAAAAAEySQAAAAAAAcJhAAAAAAABwjEAAAAAAAGiRQAAAAAAAyI1AAAAAAABwd0AAAAAAAAiEQAAAAAAAuJBAAAAAAAA4lUAAAAAAAAyUQAAAAAAAjJNAAAAAAACskUAAAAAAAHiBQAAAAAAAgH5AAAAAAACIk0AAAAAAAOCWQAAAAAAAKJNAAAAAAAB8lUAAAAAAAOCLQAAAAAAAmIBAAAAAAABgeEAAAAAAAGSWQAAAAAAABJJAAAAAAACUl0AAAAAAAFSRQAAAAAAA0I9AAAAAAAAAeUAAAAAAAOB6QAAAAAAAYJFAAAAAAAAgl0AAAAAAAIiQQAAAAAAAMJJAAAAAAAAEkUAAAAAAAGB8QAAAAAAAaINAAAAAAABgk0AAAAAAACiVQAAAAAAAaJJAAAAAAADcmUAAAAAAAAyUQAAAAAAAwH5AAAAAAAAwiEAAAAAAADCOQA==\",\"dtype\":\"float64\",\"order\":\"little\",\"shape\":[125]}},\"selected\":{\"id\":\"1153\"},\"selection_policy\":{\"id\":\"1152\"}},\"id\":\"1139\",\"type\":\"ColumnDataSource\"},{\"attributes\":{\"axis\":{\"id\":\"1119\"},\"coordinates\":null,\"dimension\":1,\"group\":null,\"ticker\":null},\"id\":\"1122\",\"type\":\"Grid\"},{\"attributes\":{},\"id\":\"1150\",\"type\":\"DatetimeTickFormatter\"},{\"attributes\":{\"line_alpha\":0.2,\"line_color\":\"#1f77b4\",\"x\":{\"field\":\"x\"},\"y\":{\"field\":\"y\"}},\"id\":\"1142\",\"type\":\"Line\"},{\"attributes\":{\"days\":[1,8,15,22]},\"id\":\"1160\",\"type\":\"DaysTicker\"},{\"attributes\":{},\"id\":\"1128\",\"type\":\"HelpTool\"},{\"attributes\":{\"base\":60,\"mantissas\":[1,2,5,10,15,20,30],\"max_interval\":1800000.0,\"min_interval\":1000.0,\"num_minor_ticks\":0},\"id\":\"1156\",\"type\":\"AdaptiveTicker\"},{\"attributes\":{\"line_color\":\"#1f77b4\",\"x\":{\"field\":\"x\"},\"y\":{\"field\":\"y\"}},\"id\":\"1140\",\"type\":\"Line\"},{\"attributes\":{\"callback\":null,\"formatters\":{\"@x\":\"datetime\"},\"tooltips\":[[\"Date\",\"@x{%Y-%m-%d}\"],[\"Views\",\"@y\"]]},\"id\":\"1137\",\"type\":\"HoverTool\"},{\"attributes\":{\"months\":[0,2,4,6,8,10]},\"id\":\"1163\",\"type\":\"MonthsTicker\"},{\"attributes\":{\"coordinates\":null,\"formatter\":{\"id\":\"1150\"},\"group\":null,\"major_label_policy\":{\"id\":\"1151\"},\"ticker\":{\"id\":\"1116\"}},\"id\":\"1115\",\"type\":\"DatetimeAxis\"},{\"attributes\":{\"line_alpha\":0.2,\"line_color\":\"#ff7f0e\",\"x\":{\"field\":\"x\"},\"y\":{\"field\":\"y\"}},\"id\":\"1172\",\"type\":\"Line\"},{\"attributes\":{},\"id\":\"1152\",\"type\":\"UnionRenderers\"},{\"attributes\":{\"days\":[1,4,7,10,13,16,19,22,25,28]},\"id\":\"1159\",\"type\":\"DaysTicker\"},{\"attributes\":{\"data\":{\"x\":{\"__ndarray__\":\"AACAjkoWeEIAAED0nBZ4QgAAAFrvFnhCAADAv0EXeEIAAIAllBd4QgAAQIvmF3hCAAAA8TgYeEIAAMBWixh4QgAAgLzdGHhCAABAIjAZeEIAAACIghl4QgAAwO3UGXhCAACAUycaeEIAAEC5eRp4QgAAAB/MGnhCAADAhB4beEIAAIDqcBt4QgAAQFDDG3hCAAAAthUceEIAAMAbaBx4QgAAgIG6HHhCAABA5wwdeEIAAABNXx14QgAAwLKxHXhCAACAGAQeeEIAAEB+Vh54QgAAAOSoHnhCAADASfseeEIAAICvTR94QgAAQBWgH3hCAAAAe/IfeEIAAMDgRCB4QgAAgEaXIHhCAABArOkgeEIAAAASPCF4QgAAwHeOIXhCAACA3eAheEIAAEBDMyJ4QgAAAKmFInhCAADADtgieEIAAIB0KiN4QgAAQNp8I3hCAAAAQM8jeEIAAMClISR4QgAAgAt0JHhCAABAccYkeEIAAADXGCV4QgAAwDxrJXhCAACAor0leEIAAEAIECZ4QgAAAG5iJnhCAADA07QmeEIAAIA5Byd4QgAAQJ9ZJ3hCAAAABawneEIAAMBq/id4QgAAgNBQKHhCAABANqMoeEIAAACc9Sh4QgAAwAFIKXhCAACAZ5opeEIAAEDN7Cl4QgAAADM/KnhCAADAmJEqeEIAAID+4yp4QgAAQGQ2K3hCAAAAyogreEIAAMAv2yt4QgAAgJUtLHhCAABA+38seEIAAABh0ix4QgAAwMYkLXhCAACALHcteEIAAECSyS14QgAAAPgbLnhCAADAXW4ueEIAAIDDwC54QgAAQCkTL3hCAAAAj2UveEIAAMD0ty94QgAAgFoKMHhCAABAwFwweEIAAAAmrzB4QgAAwIsBMXhCAACA8VMxeEIAAEBXpjF4QgAAAL34MXhCAADAIksyeEIAAICInTJ4QgAAQO7vMnhCAAAAVEIzeEIAAMC5lDN4QgAAgB/nM3hCAABAhTk0eEIAAADrizR4QgAAwFDeNHhCAACAtjA1eEIAAEAcgzV4QgAAAILVNXhCAADA5yc2eEIAAIBNejZ4QgAAQLPMNnhCAAAAGR83eEIAAMB+cTd4QgAAgOTDN3hCAABAShY4eEIAAACwaDh4QgAAwBW7OHhCAACAew05eEIAAEDhXzl4QgAAAEeyOXhCAADArAQ6eEIAAIASVzp4QgAAQHipOnhCAAAA3vs6eEIAAMBDTjt4QgAAgKmgO3hCAABAD/M7eEIAAAB1RTx4QgAAwNqXPHhCAACAQOo8eEIAAECmPD14QgAAAAyPPXhCAADAceE9eEIAAIDXMz54Qg==\",\"dtype\":\"float64\",\"order\":\"little\",\"shape\":[125]},\"y\":{\"__ndarray__\":\"AAAAAADAZUAAAAAAAEBiQAAAAAAAAEpAAAAAAACATkAAAAAAAIBNQAAAAAAAQFFAAAAAAACgYEAAAAAAAEBUQAAAAAAAwGlAAAAAAAAgZUAAAAAAAAA/QAAAAAAAgFNAAAAAAAAAYEAAAAAAAOBmQAAAAAAAQFhAAAAAAADAVEAAAAAAAIBIQAAAAAAAADxAAAAAAACASUAAAAAAAIBMQAAAAAAAQGFAAAAAAADAUUAAAAAAAMBiQAAAAAAAQFpAAAAAAACAQEAAAAAAAABIQAAAAAAAgEZAAAAAAACAQkAAAAAAAAA2QAAAAAAAgE5AAAAAAACAT0AAAAAAAAA2QAAAAAAAAD1AAAAAAAAAMkAAAAAAAMBbQAAAAAAAgFFAAAAAAABAVEAAAAAAAABFQAAAAAAAAC5AAAAAAACASkAAAAAAAMBeQAAAAAAAAGRAAAAAAACAV0AAAAAAAEBSQAAAAAAAgEVAAAAAAAAAIEAAAAAAAIBFQAAAAAAAAExAAAAAAAAASUAAAAAAAABIQAAAAAAAgExAAAAAAABAU0AAAAAAAAAsQAAAAAAAADhAAAAAAACAU0AAAAAAAMBYQAAAAAAAQF1AAAAAAABAXkAAAAAAAEBYQAAAAAAAAEhAAAAAAABAUkAAAAAAAABMQAAAAAAAgFNAAAAAAAAAT0AAAAAAAIBSQAAAAAAAAF1AAAAAAAAAOEAAAAAAAAA9QAAAAAAAAEBAAAAAAACAUEAAAAAAAIBbQAAAAAAAgFRAAAAAAAAATkAAAAAAAAA5QAAAAAAAADJAAAAAAABAWEAAAAAAAABUQAAAAAAAAF1AAAAAAABAXEAAAAAAAABbQAAAAAAAAEJAAAAAAAAANUAAAAAAAIBPQAAAAAAAgGFAAAAAAAAAUUAAAAAAAABOQAAAAAAAAEBAAAAAAAAALkAAAAAAAAAqQAAAAAAAgEdAAAAAAACAQUAAAAAAAIBJQAAAAAAAAEVAAAAAAAAASUAAAAAAAAAoQAAAAAAAADdAAAAAAAAAR0AAAAAAAIBUQAAAAAAAAFBAAAAAAACATEAAAAAAAABFQAAAAAAAAEhAAAAAAAAAQUAAAAAAAAA/QAAAAAAAgFNAAAAAAACARkAAAAAAAIBMQAAAAAAAADdAAAAAAAAAJEAAAAAAAIBAQAAAAAAAAElAAAAAAAAAR0AAAAAAAABOQAAAAAAAAGFAAAAAAACAU0AAAAAAAAA0QAAAAAAAADBAAAAAAAAANUAAAAAAAAA2QAAAAAAAAEBAAAAAAAAASEAAAAAAAAA1QAAAAAAAAABAAAAAAAAANUAAAAAAAAA+QA==\",\"dtype\":\"float64\",\"order\":\"little\",\"shape\":[125]}},\"selected\":{\"id\":\"1185\"},\"selection_policy\":{\"id\":\"1184\"}},\"id\":\"1169\",\"type\":\"ColumnDataSource\"},{\"attributes\":{},\"id\":\"1151\",\"type\":\"AllLabels\"},{\"attributes\":{},\"id\":\"1107\",\"type\":\"DataRange1d\"},{\"attributes\":{\"source\":{\"id\":\"1139\"}},\"id\":\"1144\",\"type\":\"CDSView\"},{\"attributes\":{\"bottom_units\":\"screen\",\"coordinates\":null,\"fill_alpha\":0.5,\"fill_color\":\"lightgrey\",\"group\":null,\"left_units\":\"screen\",\"level\":\"overlay\",\"line_alpha\":1.0,\"line_color\":\"black\",\"line_dash\":[4,4],\"line_width\":2,\"right_units\":\"screen\",\"syncable\":false,\"top_units\":\"screen\"},\"id\":\"1129\",\"type\":\"BoxAnnotation\"},{\"attributes\":{\"coordinates\":null,\"data_source\":{\"id\":\"1169\"},\"glyph\":{\"id\":\"1170\"},\"group\":null,\"hover_glyph\":null,\"muted_glyph\":{\"id\":\"1172\"},\"nonselection_glyph\":{\"id\":\"1171\"},\"view\":{\"id\":\"1174\"}},\"id\":\"1173\",\"type\":\"GlyphRenderer\"},{\"attributes\":{\"days\":[1,15]},\"id\":\"1161\",\"type\":\"DaysTicker\"},{\"attributes\":{},\"id\":\"1111\",\"type\":\"LinearScale\"},{\"attributes\":{\"axis_label\":\"Daily page views\",\"coordinates\":null,\"formatter\":{\"id\":\"1147\"},\"group\":null,\"major_label_policy\":{\"id\":\"1148\"},\"ticker\":{\"id\":\"1120\"}},\"id\":\"1119\",\"type\":\"LinearAxis\"},{\"attributes\":{\"line_alpha\":0.1,\"line_color\":\"#ff7f0e\",\"x\":{\"field\":\"x\"},\"y\":{\"field\":\"y\"}},\"id\":\"1171\",\"type\":\"Line\"},{\"attributes\":{\"mantissas\":[1,2,5],\"max_interval\":500.0,\"num_minor_ticks\":0},\"id\":\"1155\",\"type\":\"AdaptiveTicker\"},{\"attributes\":{\"source\":{\"id\":\"1169\"}},\"id\":\"1174\",\"type\":\"CDSView\"},{\"attributes\":{},\"id\":\"1147\",\"type\":\"BasicTickFormatter\"},{\"attributes\":{\"line_alpha\":0.1,\"line_color\":\"#1f77b4\",\"x\":{\"field\":\"x\"},\"y\":{\"field\":\"y\"}},\"id\":\"1141\",\"type\":\"Line\"},{\"attributes\":{\"label\":{\"value\":\"latest\"},\"renderers\":[{\"id\":\"1173\"}]},\"id\":\"1199\",\"type\":\"LegendItem\"},{\"attributes\":{\"line_color\":\"#ff7f0e\",\"x\":{\"field\":\"x\"},\"y\":{\"field\":\"y\"}},\"id\":\"1170\",\"type\":\"Line\"}],\"root_ids\":[\"1104\"]},\"title\":\"Bokeh Application\",\"version\":\"2.4.3\"}};\n",
       "  const render_items = [{\"docid\":\"e8519372-fc65-4f31-9c9e-880f431d539d\",\"root_ids\":[\"1104\"],\"roots\":{\"1104\":\"829289c8-8b04-468f-99a6-6ce6e31181da\"}}];\n",
       "  root.Bokeh.embed.embed_items_notebook(docs_json, render_items);\n",
       "  }\n",
       "  if (root.Bokeh !== undefined) {\n",
       "    embed_document(root);\n",
       "  } else {\n",
       "    let attempts = 0;\n",
       "    const timer = setInterval(function(root) {\n",
       "      if (root.Bokeh !== undefined) {\n",
       "        clearInterval(timer);\n",
       "        embed_document(root);\n",
       "      } else {\n",
       "        attempts++;\n",
       "        if (attempts > 100) {\n",
       "          clearInterval(timer);\n",
       "          console.log(\"Bokeh: ERROR: Unable to run BokehJS code because BokehJS library is missing\");\n",
       "        }\n",
       "      }\n",
       "    }, 10, root)\n",
       "  }\n",
       "})(window);"
      ],
      "application/vnd.bokehjs_exec.v0+json": ""
     },
     "metadata": {
      "application/vnd.bokehjs_exec.v0+json": {
       "id": "1104"
      }
     },
     "output_type": "display_data"
    }
   ],
   "source": [
    "daily_views = df.pivot_table(values='Views', index='Date', columns='Version', aggfunc='sum')[['stable', 'latest']].fillna(0)\n",
    "\n",
    "p = figure(x_axis_type=\"datetime\", height=350, title=f\"Daily views by RTD version\")\n",
    "hover_tool = HoverTool(tooltips=[('Date', '@x{%Y-%m-%d}'), ('Views', '@y')],\n",
    "                       formatters={'@x': 'datetime'})\n",
    "hover_tool.point_policy = 'snap_to_data'\n",
    "p.add_tools(hover_tool)\n",
    "p.line(daily_views.index, daily_views['stable'], legend_label='stable')\n",
    "p.line(daily_views.index, daily_views['latest'], legend_label='latest', color='#ff7f0e')\n",
    "p.yaxis.axis_label = 'Daily page views'\n",
    "show(p)"
   ]
  },
  {
   "cell_type": "code",
   "execution_count": 6,
   "id": "2413e533-b4fa-4b2b-b308-a4bd9a4254d0",
   "metadata": {
    "execution": {
     "iopub.execute_input": "2022-10-17T17:07:49.917133Z",
     "iopub.status.busy": "2022-10-17T17:07:49.916555Z",
     "iopub.status.idle": "2022-10-17T17:07:49.933277Z",
     "shell.execute_reply": "2022-10-17T17:07:49.932483Z"
    }
   },
   "outputs": [],
   "source": [
    "# restrict to v0.9.1 and forward since that's when all the URLs changed\n",
    "df2 = df.loc[(df['Date'] > '2022-03-30') & (df['Version'] == 'stable'), :].copy()\n",
    "pathviews = df2.groupby('Path')['Views'].sum().reset_index()"
   ]
  },
  {
   "cell_type": "code",
   "execution_count": 7,
   "id": "ff4ef404-7d7b-4bd8-ad33-efcb98071d75",
   "metadata": {
    "execution": {
     "iopub.execute_input": "2022-10-17T17:07:49.937392Z",
     "iopub.status.busy": "2022-10-17T17:07:49.937092Z",
     "iopub.status.idle": "2022-10-17T17:07:50.014229Z",
     "shell.execute_reply": "2022-10-17T17:07:50.013105Z"
    }
   },
   "outputs": [
    {
     "data": {
      "text/html": [
       "\n",
       "  <div class=\"bk-root\" id=\"5e651fde-6988-4e3d-a6c0-5191750c9d5b\" data-root-id=\"1354\"></div>\n"
      ]
     },
     "metadata": {},
     "output_type": "display_data"
    },
    {
     "data": {
      "application/javascript": [
       "(function(root) {\n",
       "  function embed_document(root) {\n",
       "  const docs_json = {\"7c7ea3aa-c1fd-4350-a3fe-2d653c2be436\":{\"defs\":[],\"roots\":{\"references\":[{\"attributes\":{\"below\":[{\"id\":\"1365\"}],\"center\":[{\"id\":\"1368\"},{\"id\":\"1371\"}],\"height\":400,\"left\":[{\"id\":\"1369\"}],\"renderers\":[{\"id\":\"1393\"}],\"title\":{\"id\":\"1355\"},\"toolbar\":{\"id\":\"1380\"},\"x_range\":{\"id\":\"1357\"},\"x_scale\":{\"id\":\"1361\"},\"y_range\":{\"id\":\"1359\"},\"y_scale\":{\"id\":\"1363\"}},\"id\":\"1354\",\"subtype\":\"Figure\",\"type\":\"Plot\"},{\"attributes\":{},\"id\":\"1366\",\"type\":\"BasicTicker\"},{\"attributes\":{\"coordinates\":null,\"formatter\":{\"id\":\"1431\"},\"group\":null,\"major_label_policy\":{\"id\":\"1432\"},\"ticker\":{\"id\":\"1370\"}},\"id\":\"1369\",\"type\":\"CategoricalAxis\"},{\"attributes\":{\"factors\":[\"/index.html\",\"/search.html\",\"/user_guide/index.html\",\"/gallery/index.html\",\"/user_guide/pvsystem.html\",\"/user_guide/introtutorial.html\",\"/user_guide/installation.html\",\"/reference/index.html\",\"/user_guide/forecasts.html\",\"/user_guide/modelchain.html\",\"/user_guide/package_overview.html\",\"/reference/pv_modeling.html\",\"/gallery/irradiance-transposition/plot_ghi_transposition.html\",\"/user_guide/clearsky.html\",\"/_modules/pvlib/irradiance.html\",\"/reference/irradiance.html\",\"/whatsnew.html\",\"/gallery/solar-position/plot_sunpath_diagrams.html\",\"/reference/generated/pvlib.pvsystem.PVSystem.html\",\"/gallery/bifacial/plot_bifi_model_pvwatts.html\"]},\"id\":\"1359\",\"type\":\"FactorRange\"},{\"attributes\":{\"coordinates\":null,\"group\":null,\"text\":\"Views by URL (Top 20, 2022-06-15 to 2022-10-17)\"},\"id\":\"1355\",\"type\":\"Title\"},{\"attributes\":{\"axis_label\":\"Total page views\",\"coordinates\":null,\"formatter\":{\"id\":\"1434\"},\"group\":null,\"major_label_policy\":{\"id\":\"1435\"},\"ticker\":{\"id\":\"1366\"}},\"id\":\"1365\",\"type\":\"LinearAxis\"},{\"attributes\":{},\"id\":\"1431\",\"type\":\"CategoricalTickFormatter\"},{\"attributes\":{\"axis\":{\"id\":\"1365\"},\"coordinates\":null,\"group\":null,\"ticker\":null},\"id\":\"1368\",\"type\":\"Grid\"},{\"attributes\":{},\"id\":\"1361\",\"type\":\"LinearScale\"},{\"attributes\":{},\"id\":\"1377\",\"type\":\"HelpTool\"},{\"attributes\":{},\"id\":\"1432\",\"type\":\"AllLabels\"},{\"attributes\":{},\"id\":\"1363\",\"type\":\"CategoricalScale\"},{\"attributes\":{\"callback\":null,\"tooltips\":[[\"URL\",\"@Path\"],[\"Views\",\"@Views\"]]},\"id\":\"1379\",\"type\":\"HoverTool\"},{\"attributes\":{},\"id\":\"1434\",\"type\":\"BasicTickFormatter\"},{\"attributes\":{\"axis\":{\"id\":\"1369\"},\"coordinates\":null,\"dimension\":1,\"group\":null,\"ticker\":null},\"id\":\"1371\",\"type\":\"Grid\"},{\"attributes\":{\"data\":{\"Path\":[\"/index.html\",\"/search.html\",\"/user_guide/index.html\",\"/gallery/index.html\",\"/user_guide/pvsystem.html\",\"/user_guide/introtutorial.html\",\"/user_guide/installation.html\",\"/reference/index.html\",\"/user_guide/forecasts.html\",\"/user_guide/modelchain.html\",\"/user_guide/package_overview.html\",\"/reference/pv_modeling.html\",\"/gallery/irradiance-transposition/plot_ghi_transposition.html\",\"/user_guide/clearsky.html\",\"/_modules/pvlib/irradiance.html\",\"/reference/irradiance.html\",\"/whatsnew.html\",\"/gallery/solar-position/plot_sunpath_diagrams.html\",\"/reference/generated/pvlib.pvsystem.PVSystem.html\",\"/gallery/bifacial/plot_bifi_model_pvwatts.html\"],\"Views\":[15269,6205,5642,5086,3982,3959,3743,3729,2854,2380,2147,1957,1887,1879,1716,1382,1256,1243,1176,1175],\"index\":[85,550,556,45,561,558,557,541,555,559,560,546,47,553,20,543,565,63,414,43]},\"selected\":{\"id\":\"1437\"},\"selection_policy\":{\"id\":\"1436\"}},\"id\":\"1388\",\"type\":\"ColumnDataSource\"},{\"attributes\":{},\"id\":\"1370\",\"type\":\"CategoricalTicker\"},{\"attributes\":{},\"id\":\"1435\",\"type\":\"AllLabels\"},{\"attributes\":{},\"id\":\"1373\",\"type\":\"WheelZoomTool\"},{\"attributes\":{},\"id\":\"1372\",\"type\":\"PanTool\"},{\"attributes\":{\"overlay\":{\"id\":\"1378\"}},\"id\":\"1374\",\"type\":\"BoxZoomTool\"},{\"attributes\":{},\"id\":\"1375\",\"type\":\"SaveTool\"},{\"attributes\":{},\"id\":\"1376\",\"type\":\"ResetTool\"},{\"attributes\":{\"bottom_units\":\"screen\",\"coordinates\":null,\"fill_alpha\":0.5,\"fill_color\":\"lightgrey\",\"group\":null,\"left_units\":\"screen\",\"level\":\"overlay\",\"line_alpha\":1.0,\"line_color\":\"black\",\"line_dash\":[4,4],\"line_width\":2,\"right_units\":\"screen\",\"syncable\":false,\"top_units\":\"screen\"},\"id\":\"1378\",\"type\":\"BoxAnnotation\"},{\"attributes\":{},\"id\":\"1436\",\"type\":\"UnionRenderers\"},{\"attributes\":{\"fill_color\":{\"value\":\"#1f77b4\"},\"height\":{\"value\":0.75},\"line_color\":{\"value\":\"white\"},\"right\":{\"field\":\"Views\"},\"y\":{\"field\":\"Path\"}},\"id\":\"1390\",\"type\":\"HBar\"},{\"attributes\":{\"fill_alpha\":{\"value\":0.2},\"fill_color\":{\"value\":\"#1f77b4\"},\"hatch_alpha\":{\"value\":0.2},\"height\":{\"value\":0.75},\"line_alpha\":{\"value\":0.2},\"line_color\":{\"value\":\"white\"},\"right\":{\"field\":\"Views\"},\"y\":{\"field\":\"Path\"}},\"id\":\"1392\",\"type\":\"HBar\"},{\"attributes\":{\"source\":{\"id\":\"1388\"}},\"id\":\"1394\",\"type\":\"CDSView\"},{\"attributes\":{},\"id\":\"1437\",\"type\":\"Selection\"},{\"attributes\":{\"tools\":[{\"id\":\"1372\"},{\"id\":\"1373\"},{\"id\":\"1374\"},{\"id\":\"1375\"},{\"id\":\"1376\"},{\"id\":\"1377\"},{\"id\":\"1379\"}]},\"id\":\"1380\",\"type\":\"Toolbar\"},{\"attributes\":{\"fill_alpha\":{\"value\":0.1},\"fill_color\":{\"value\":\"#1f77b4\"},\"hatch_alpha\":{\"value\":0.1},\"height\":{\"value\":0.75},\"line_alpha\":{\"value\":0.1},\"line_color\":{\"value\":\"white\"},\"right\":{\"field\":\"Views\"},\"y\":{\"field\":\"Path\"}},\"id\":\"1391\",\"type\":\"HBar\"},{\"attributes\":{\"coordinates\":null,\"data_source\":{\"id\":\"1388\"},\"glyph\":{\"id\":\"1390\"},\"group\":null,\"hover_glyph\":null,\"muted_glyph\":{\"id\":\"1392\"},\"nonselection_glyph\":{\"id\":\"1391\"},\"view\":{\"id\":\"1394\"}},\"id\":\"1393\",\"type\":\"GlyphRenderer\"},{\"attributes\":{},\"id\":\"1357\",\"type\":\"DataRange1d\"}],\"root_ids\":[\"1354\"]},\"title\":\"Bokeh Application\",\"version\":\"2.4.3\"}};\n",
       "  const render_items = [{\"docid\":\"7c7ea3aa-c1fd-4350-a3fe-2d653c2be436\",\"root_ids\":[\"1354\"],\"roots\":{\"1354\":\"5e651fde-6988-4e3d-a6c0-5191750c9d5b\"}}];\n",
       "  root.Bokeh.embed.embed_items_notebook(docs_json, render_items);\n",
       "  }\n",
       "  if (root.Bokeh !== undefined) {\n",
       "    embed_document(root);\n",
       "  } else {\n",
       "    let attempts = 0;\n",
       "    const timer = setInterval(function(root) {\n",
       "      if (root.Bokeh !== undefined) {\n",
       "        clearInterval(timer);\n",
       "        embed_document(root);\n",
       "      } else {\n",
       "        attempts++;\n",
       "        if (attempts > 100) {\n",
       "          clearInterval(timer);\n",
       "          console.log(\"Bokeh: ERROR: Unable to run BokehJS code because BokehJS library is missing\");\n",
       "        }\n",
       "      }\n",
       "    }, 10, root)\n",
       "  }\n",
       "})(window);"
      ],
      "application/vnd.bokehjs_exec.v0+json": ""
     },
     "metadata": {
      "application/vnd.bokehjs_exec.v0+json": {
       "id": "1354"
      }
     },
     "output_type": "display_data"
    }
   ],
   "source": [
    "n = 20\n",
    "subset = pathviews.sort_values('Views', ascending=False)[:n]\n",
    "p = figure(y_range=subset['Path'], height=400, tooltips=[(\"URL\", \"@Path\"), (\"Views\", \"@Views\")],\n",
    "           title=f\"Views by URL (Top {n}, {data_period})\")\n",
    "p.hbar(y='Path', right='Views', source=subset, height=0.75,\n",
    "       line_color='white')\n",
    "p.xaxis.axis_label = 'Total page views'\n",
    "show(p)"
   ]
  },
  {
   "cell_type": "code",
   "execution_count": 8,
   "id": "7337d3f9-450a-48c4-aa2d-bc36ae69356e",
   "metadata": {
    "execution": {
     "iopub.execute_input": "2022-10-17T17:07:50.018348Z",
     "iopub.status.busy": "2022-10-17T17:07:50.017468Z",
     "iopub.status.idle": "2022-10-17T17:07:50.102085Z",
     "shell.execute_reply": "2022-10-17T17:07:50.101266Z"
    }
   },
   "outputs": [
    {
     "data": {
      "text/html": [
       "\n",
       "  <div class=\"bk-root\" id=\"87c4231b-557a-45ac-864a-2910f32eaa05\" data-root-id=\"1489\"></div>\n"
      ]
     },
     "metadata": {},
     "output_type": "display_data"
    },
    {
     "data": {
      "application/javascript": [
       "(function(root) {\n",
       "  function embed_document(root) {\n",
       "  const docs_json = {\"6ac2bf58-4576-481d-8570-71e60c1a0cd5\":{\"defs\":[],\"roots\":{\"references\":[{\"attributes\":{\"below\":[{\"id\":\"1500\"}],\"center\":[{\"id\":\"1502\"},{\"id\":\"1506\"}],\"height\":350,\"left\":[{\"id\":\"1503\"}],\"renderers\":[{\"id\":\"1528\"}],\"title\":{\"id\":\"1490\"},\"toolbar\":{\"id\":\"1515\"},\"x_range\":{\"id\":\"1492\"},\"x_scale\":{\"id\":\"1496\"},\"y_range\":{\"id\":\"1494\"},\"y_scale\":{\"id\":\"1498\"}},\"id\":\"1489\",\"subtype\":\"Figure\",\"type\":\"Plot\"},{\"attributes\":{},\"id\":\"1507\",\"type\":\"PanTool\"},{\"attributes\":{},\"id\":\"1580\",\"type\":\"AllLabels\"},{\"attributes\":{},\"id\":\"1581\",\"type\":\"UnionRenderers\"},{\"attributes\":{\"factors\":[\"gallery\",\"user_guide\",\"reference\"]},\"id\":\"1492\",\"type\":\"FactorRange\"},{\"attributes\":{},\"id\":\"1582\",\"type\":\"Selection\"},{\"attributes\":{},\"id\":\"1508\",\"type\":\"WheelZoomTool\"},{\"attributes\":{},\"id\":\"1504\",\"type\":\"BasicTicker\"},{\"attributes\":{},\"id\":\"1576\",\"type\":\"BasicTickFormatter\"},{\"attributes\":{},\"id\":\"1501\",\"type\":\"CategoricalTicker\"},{\"attributes\":{\"fill_alpha\":{\"value\":0.2},\"fill_color\":{\"value\":\"#1f77b4\"},\"hatch_alpha\":{\"value\":0.2},\"line_alpha\":{\"value\":0.2},\"line_color\":{\"value\":\"#1f77b4\"},\"top\":{\"field\":\"Views\"},\"width\":{\"value\":0.75},\"x\":{\"field\":\"Prefix\"}},\"id\":\"1527\",\"type\":\"VBar\"},{\"attributes\":{\"callback\":null,\"tooltips\":[[\"Section\",\"@Prefix\"],[\"Views\",\"@Views\"]]},\"id\":\"1514\",\"type\":\"HoverTool\"},{\"attributes\":{\"fill_alpha\":{\"value\":0.1},\"fill_color\":{\"value\":\"#1f77b4\"},\"hatch_alpha\":{\"value\":0.1},\"line_alpha\":{\"value\":0.1},\"line_color\":{\"value\":\"#1f77b4\"},\"top\":{\"field\":\"Views\"},\"width\":{\"value\":0.75},\"x\":{\"field\":\"Prefix\"}},\"id\":\"1526\",\"type\":\"VBar\"},{\"attributes\":{\"coordinates\":null,\"formatter\":{\"id\":\"1579\"},\"group\":null,\"major_label_policy\":{\"id\":\"1580\"},\"ticker\":{\"id\":\"1501\"}},\"id\":\"1500\",\"type\":\"CategoricalAxis\"},{\"attributes\":{\"bottom_units\":\"screen\",\"coordinates\":null,\"fill_alpha\":0.5,\"fill_color\":\"lightgrey\",\"group\":null,\"left_units\":\"screen\",\"level\":\"overlay\",\"line_alpha\":1.0,\"line_color\":\"black\",\"line_dash\":[4,4],\"line_width\":2,\"right_units\":\"screen\",\"syncable\":false,\"top_units\":\"screen\"},\"id\":\"1513\",\"type\":\"BoxAnnotation\"},{\"attributes\":{\"axis\":{\"id\":\"1503\"},\"coordinates\":null,\"dimension\":1,\"group\":null,\"ticker\":null},\"id\":\"1506\",\"type\":\"Grid\"},{\"attributes\":{\"coordinates\":null,\"data_source\":{\"id\":\"1523\"},\"glyph\":{\"id\":\"1525\"},\"group\":null,\"hover_glyph\":null,\"muted_glyph\":{\"id\":\"1527\"},\"nonselection_glyph\":{\"id\":\"1526\"},\"view\":{\"id\":\"1529\"}},\"id\":\"1528\",\"type\":\"GlyphRenderer\"},{\"attributes\":{},\"id\":\"1577\",\"type\":\"AllLabels\"},{\"attributes\":{\"axis_label\":\"Total page views\",\"coordinates\":null,\"formatter\":{\"id\":\"1576\"},\"group\":null,\"major_label_policy\":{\"id\":\"1577\"},\"ticker\":{\"id\":\"1504\"}},\"id\":\"1503\",\"type\":\"LinearAxis\"},{\"attributes\":{},\"id\":\"1498\",\"type\":\"LinearScale\"},{\"attributes\":{\"coordinates\":null,\"group\":null,\"text\":\"Page views by docs section (2022-06-15 to 2022-10-17)\"},\"id\":\"1490\",\"type\":\"Title\"},{\"attributes\":{},\"id\":\"1494\",\"type\":\"DataRange1d\"},{\"attributes\":{\"axis\":{\"id\":\"1500\"},\"coordinates\":null,\"group\":null,\"ticker\":null},\"id\":\"1502\",\"type\":\"Grid\"},{\"attributes\":{\"data\":{\"Prefix\":[\"gallery\",\"user_guide\",\"reference\"],\"Views\":[21556,30530,50545],\"index\":[0,1,2]},\"selected\":{\"id\":\"1582\"},\"selection_policy\":{\"id\":\"1581\"}},\"id\":\"1523\",\"type\":\"ColumnDataSource\"},{\"attributes\":{\"source\":{\"id\":\"1523\"}},\"id\":\"1529\",\"type\":\"CDSView\"},{\"attributes\":{},\"id\":\"1512\",\"type\":\"HelpTool\"},{\"attributes\":{},\"id\":\"1496\",\"type\":\"CategoricalScale\"},{\"attributes\":{},\"id\":\"1579\",\"type\":\"CategoricalTickFormatter\"},{\"attributes\":{\"tools\":[{\"id\":\"1507\"},{\"id\":\"1508\"},{\"id\":\"1509\"},{\"id\":\"1510\"},{\"id\":\"1511\"},{\"id\":\"1512\"},{\"id\":\"1514\"}]},\"id\":\"1515\",\"type\":\"Toolbar\"},{\"attributes\":{\"overlay\":{\"id\":\"1513\"}},\"id\":\"1509\",\"type\":\"BoxZoomTool\"},{\"attributes\":{},\"id\":\"1510\",\"type\":\"SaveTool\"},{\"attributes\":{},\"id\":\"1511\",\"type\":\"ResetTool\"},{\"attributes\":{\"fill_color\":{\"value\":\"#1f77b4\"},\"line_color\":{\"value\":\"#1f77b4\"},\"top\":{\"field\":\"Views\"},\"width\":{\"value\":0.75},\"x\":{\"field\":\"Prefix\"}},\"id\":\"1525\",\"type\":\"VBar\"}],\"root_ids\":[\"1489\"]},\"title\":\"Bokeh Application\",\"version\":\"2.4.3\"}};\n",
       "  const render_items = [{\"docid\":\"6ac2bf58-4576-481d-8570-71e60c1a0cd5\",\"root_ids\":[\"1489\"],\"roots\":{\"1489\":\"87c4231b-557a-45ac-864a-2910f32eaa05\"}}];\n",
       "  root.Bokeh.embed.embed_items_notebook(docs_json, render_items);\n",
       "  }\n",
       "  if (root.Bokeh !== undefined) {\n",
       "    embed_document(root);\n",
       "  } else {\n",
       "    let attempts = 0;\n",
       "    const timer = setInterval(function(root) {\n",
       "      if (root.Bokeh !== undefined) {\n",
       "        clearInterval(timer);\n",
       "        embed_document(root);\n",
       "      } else {\n",
       "        attempts++;\n",
       "        if (attempts > 100) {\n",
       "          clearInterval(timer);\n",
       "          console.log(\"Bokeh: ERROR: Unable to run BokehJS code because BokehJS library is missing\");\n",
       "        }\n",
       "      }\n",
       "    }, 10, root)\n",
       "  }\n",
       "})(window);"
      ],
      "application/vnd.bokehjs_exec.v0+json": ""
     },
     "metadata": {
      "application/vnd.bokehjs_exec.v0+json": {
       "id": "1489"
      }
     },
     "output_type": "display_data"
    }
   ],
   "source": [
    "prefixes = ['gallery', 'reference', 'user_guide']\n",
    "pathviews['Prefix'] = pathviews['Path'].str.split(\"/\").str[1]\n",
    "groupviews = pathviews.loc[pathviews['Prefix'].isin(prefixes), :].groupby('Prefix')['Views'].sum().loc[prefixes].sort_values().reset_index()\n",
    "\n",
    "p = figure(x_range=groupviews['Prefix'], height=350, tooltips=[(\"Section\", \"@Prefix\"), (\"Views\", \"@Views\")],\n",
    "           title=f\"Page views by docs section ({data_period})\")\n",
    "p.vbar(x='Prefix', top='Views', width=0.75, source=groupviews)\n",
    "p.yaxis.axis_label = 'Total page views'\n",
    "show(p)"
   ]
  },
  {
   "cell_type": "code",
   "execution_count": 9,
   "id": "a342f421-5af7-4cb2-b884-d123818578d1",
   "metadata": {
    "execution": {
     "iopub.execute_input": "2022-10-17T17:07:50.106801Z",
     "iopub.status.busy": "2022-10-17T17:07:50.106057Z",
     "iopub.status.idle": "2022-10-17T17:07:50.197003Z",
     "shell.execute_reply": "2022-10-17T17:07:50.195496Z"
    }
   },
   "outputs": [
    {
     "data": {
      "text/html": [
       "\n",
       "  <div class=\"bk-root\" id=\"cea67ac8-a8ac-4a52-aad1-ae1a09542e6b\" data-root-id=\"1634\"></div>\n"
      ]
     },
     "metadata": {},
     "output_type": "display_data"
    },
    {
     "data": {
      "application/javascript": [
       "(function(root) {\n",
       "  function embed_document(root) {\n",
       "  const docs_json = {\"a977f588-4d9c-4d1c-bd35-c82b80ab7fbf\":{\"defs\":[],\"roots\":{\"references\":[{\"attributes\":{\"below\":[{\"id\":\"1645\"}],\"center\":[{\"id\":\"1647\"},{\"id\":\"1651\"}],\"height\":350,\"left\":[{\"id\":\"1648\"}],\"renderers\":[{\"id\":\"1674\"}],\"title\":{\"id\":\"1635\"},\"toolbar\":{\"id\":\"1660\"},\"x_range\":{\"id\":\"1637\"},\"x_scale\":{\"id\":\"1641\"},\"y_range\":{\"id\":\"1639\"},\"y_scale\":{\"id\":\"1643\"}},\"id\":\"1634\",\"subtype\":\"Figure\",\"type\":\"Plot\"},{\"attributes\":{\"tools\":[{\"id\":\"1652\"},{\"id\":\"1653\"},{\"id\":\"1654\"},{\"id\":\"1655\"},{\"id\":\"1656\"},{\"id\":\"1657\"},{\"id\":\"1659\"}]},\"id\":\"1660\",\"type\":\"Toolbar\"},{\"attributes\":{\"overlay\":{\"id\":\"1658\"}},\"id\":\"1654\",\"type\":\"BoxZoomTool\"},{\"attributes\":{},\"id\":\"1652\",\"type\":\"PanTool\"},{\"attributes\":{\"bottom_units\":\"screen\",\"coordinates\":null,\"fill_alpha\":0.5,\"fill_color\":\"lightgrey\",\"group\":null,\"left_units\":\"screen\",\"level\":\"overlay\",\"line_alpha\":1.0,\"line_color\":\"black\",\"line_dash\":[4,4],\"line_width\":2,\"right_units\":\"screen\",\"syncable\":false,\"top_units\":\"screen\"},\"id\":\"1658\",\"type\":\"BoxAnnotation\"},{\"attributes\":{\"source\":{\"id\":\"1669\"}},\"id\":\"1675\",\"type\":\"CDSView\"},{\"attributes\":{\"fill_alpha\":{\"value\":0.1},\"fill_color\":{\"value\":\"#1f77b4\"},\"hatch_alpha\":{\"value\":0.1},\"line_alpha\":{\"value\":0.1},\"line_color\":{\"value\":\"#1f77b4\"},\"x\":{\"field\":\"Prefix\",\"transform\":{\"id\":\"1668\"}},\"y\":{\"field\":\"Views\"}},\"id\":\"1672\",\"type\":\"Scatter\"},{\"attributes\":{\"fill_alpha\":{\"value\":0.2},\"fill_color\":{\"value\":\"#1f77b4\"},\"hatch_alpha\":{\"value\":0.2},\"line_alpha\":{\"value\":0.2},\"line_color\":{\"value\":\"#1f77b4\"},\"x\":{\"field\":\"Prefix\",\"transform\":{\"id\":\"1668\"}},\"y\":{\"field\":\"Views\"}},\"id\":\"1673\",\"type\":\"Scatter\"},{\"attributes\":{},\"id\":\"1735\",\"type\":\"CategoricalTickFormatter\"},{\"attributes\":{},\"id\":\"1653\",\"type\":\"WheelZoomTool\"},{\"attributes\":{},\"id\":\"1656\",\"type\":\"ResetTool\"},{\"attributes\":{},\"id\":\"1736\",\"type\":\"AllLabels\"},{\"attributes\":{\"callback\":null,\"tooltips\":[[\"URL\",\"@Path\"],[\"Views\",\"@Views\"]]},\"id\":\"1659\",\"type\":\"HoverTool\"},{\"attributes\":{},\"id\":\"1649\",\"type\":\"BasicTicker\"},{\"attributes\":{},\"id\":\"1733\",\"type\":\"AllLabels\"},{\"attributes\":{\"axis\":{\"id\":\"1648\"},\"coordinates\":null,\"dimension\":1,\"group\":null,\"ticker\":null},\"id\":\"1651\",\"type\":\"Grid\"},{\"attributes\":{},\"id\":\"1641\",\"type\":\"CategoricalScale\"},{\"attributes\":{\"fill_color\":{\"value\":\"#1f77b4\"},\"line_color\":{\"value\":\"#1f77b4\"},\"x\":{\"field\":\"Prefix\",\"transform\":{\"id\":\"1668\"}},\"y\":{\"field\":\"Views\"}},\"id\":\"1671\",\"type\":\"Scatter\"},{\"attributes\":{\"coordinates\":null,\"data_source\":{\"id\":\"1669\"},\"glyph\":{\"id\":\"1671\"},\"group\":null,\"hover_glyph\":null,\"muted_glyph\":{\"id\":\"1673\"},\"nonselection_glyph\":{\"id\":\"1672\"},\"view\":{\"id\":\"1675\"}},\"id\":\"1674\",\"type\":\"GlyphRenderer\"},{\"attributes\":{},\"id\":\"1646\",\"type\":\"CategoricalTicker\"},{\"attributes\":{},\"id\":\"1737\",\"type\":\"UnionRenderers\"},{\"attributes\":{\"axis_label\":\"Total page views\",\"coordinates\":null,\"formatter\":{\"id\":\"1732\"},\"group\":null,\"major_label_policy\":{\"id\":\"1733\"},\"ticker\":{\"id\":\"1649\"}},\"id\":\"1648\",\"type\":\"LinearAxis\"},{\"attributes\":{},\"id\":\"1738\",\"type\":\"Selection\"},{\"attributes\":{},\"id\":\"1639\",\"type\":\"DataRange1d\"},{\"attributes\":{\"axis\":{\"id\":\"1645\"},\"coordinates\":null,\"group\":null,\"ticker\":null},\"id\":\"1647\",\"type\":\"Grid\"},{\"attributes\":{\"factors\":[\"gallery\",\"reference\",\"user_guide\"]},\"id\":\"1637\",\"type\":\"FactorRange\"},{\"attributes\":{},\"id\":\"1643\",\"type\":\"LinearScale\"},{\"attributes\":{},\"id\":\"1657\",\"type\":\"HelpTool\"},{\"attributes\":{\"coordinates\":null,\"formatter\":{\"id\":\"1735\"},\"group\":null,\"major_label_policy\":{\"id\":\"1736\"},\"ticker\":{\"id\":\"1646\"}},\"id\":\"1645\",\"type\":\"CategoricalAxis\"},{\"attributes\":{},\"id\":\"1732\",\"type\":\"BasicTickFormatter\"},{\"attributes\":{\"data\":{\"Path\":[\"/gallery/bifacial/index.html\",\"/gallery/bifacial/plot_bifi_model_mc.html\",\"/gallery/bifacial/plot_bifi_model_pvwatts.html\",\"/gallery/bifacial/plot_pvfactors_fixed_tilt.html\",\"/gallery/index.html\",\"/gallery/irradiance-transposition/index.html\",\"/gallery/irradiance-transposition/plot_ghi_transposition.html\",\"/gallery/irradiance-transposition/plot_interval_transposition_error.html\",\"/gallery/irradiance-transposition/plot_mixed_orientation.html\",\"/gallery/irradiance-transposition/plot_seasonal_tilt.html\",\"/gallery/irradiance-transposition/plot_transposition_gain.html\",\"/gallery/iv-modeling/index.html\",\"/gallery/iv-modeling/plot_singlediode.html\",\"/gallery/reflections/index.html\",\"/gallery/reflections/plot_diffuse_aoi_correction.html\",\"/gallery/shading/index.html\",\"/gallery/shading/plot_partial_module_shading_simple.html\",\"/gallery/shading/plot_passias_diffuse_shading.html\",\"/gallery/soiling/index.html\",\"/gallery/soiling/plot_fig3A_hsu_soiling_example.html\",\"/gallery/soiling/plot_greensboro_kimber_soiling.html\",\"/gallery/solar-position/index.html\",\"/gallery/solar-position/plot_sunpath_diagrams.html\",\"/gallery/solar-tracking/index.html\",\"/gallery/solar-tracking/plot_discontinuous_tracking.html\",\"/gallery/solar-tracking/plot_dual_axis_tracking.html\",\"/gallery/solar-tracking/plot_single_axis_tracking.html\",\"/gallery/solar-tracking/plot_single_axis_tracking_on_sloped_terrain.html\",\"/gallery/spectrum/index.html\",\"/gallery/spectrum/plot_spectrl2_fig51A.html\",\"/gallery/spectrum/sg_execution_times.html\",\"/reference/airmass_atmospheric.html\",\"/reference/bifacial.html\",\"/reference/classes.html\",\"/reference/clearsky.html\",\"/reference/effects_on_pv_system_output.html\",\"/reference/forecasting.html\",\"/reference/generated/pvlib.atmosphere.alt2pres.html\",\"/reference/generated/pvlib.atmosphere.angstrom_alpha.html\",\"/reference/generated/pvlib.atmosphere.angstrom_aod_at_lambda.html\",\"/reference/generated/pvlib.atmosphere.bird_hulstrom80_aod_bb.html\",\"/reference/generated/pvlib.atmosphere.first_solar_spectral_correction.html\",\"/reference/generated/pvlib.atmosphere.get_absolute_airmass.html\",\"/reference/generated/pvlib.atmosphere.get_relative_airmass.html\",\"/reference/generated/pvlib.atmosphere.gueymard94_pw.html\",\"/reference/generated/pvlib.atmosphere.kasten96_lt.html\",\"/reference/generated/pvlib.atmosphere.pres2alt.html\",\"/reference/generated/pvlib.bifacial.infinite_sheds.get_irradiance.html\",\"/reference/generated/pvlib.bifacial.infinite_sheds.get_irradiance_poa.html\",\"/reference/generated/pvlib.bifacial.pvfactors.pvfactors_timeseries.html\",\"/reference/generated/pvlib.clearsky.bird.html\",\"/reference/generated/pvlib.clearsky.detect_clearsky.html\",\"/reference/generated/pvlib.clearsky.haurwitz.html\",\"/reference/generated/pvlib.clearsky.ineichen.html\",\"/reference/generated/pvlib.clearsky.lookup_linke_turbidity.html\",\"/reference/generated/pvlib.clearsky.simplified_solis.html\",\"/reference/generated/pvlib.forecast.ForecastModel.cloud_cover_to_ghi_linear.html\",\"/reference/generated/pvlib.forecast.ForecastModel.cloud_cover_to_irradiance.html\",\"/reference/generated/pvlib.forecast.ForecastModel.cloud_cover_to_irradiance_campbell_norman.html\",\"/reference/generated/pvlib.forecast.ForecastModel.cloud_cover_to_irradiance_clearsky_scaling.html\",\"/reference/generated/pvlib.forecast.ForecastModel.cloud_cover_to_transmittance_linear.html\",\"/reference/generated/pvlib.forecast.ForecastModel.get_data.html\",\"/reference/generated/pvlib.forecast.ForecastModel.get_processed_data.html\",\"/reference/generated/pvlib.forecast.ForecastModel.gust_to_speed.html\",\"/reference/generated/pvlib.forecast.ForecastModel.isobaric_to_ambient_temperature.html\",\"/reference/generated/pvlib.forecast.ForecastModel.kelvin_to_celsius.html\",\"/reference/generated/pvlib.forecast.ForecastModel.process_data.html\",\"/reference/generated/pvlib.forecast.ForecastModel.rename.html\",\"/reference/generated/pvlib.forecast.ForecastModel.set_dataset.html\",\"/reference/generated/pvlib.forecast.ForecastModel.set_location.html\",\"/reference/generated/pvlib.forecast.ForecastModel.set_query_latlon.html\",\"/reference/generated/pvlib.forecast.ForecastModel.set_time.html\",\"/reference/generated/pvlib.forecast.ForecastModel.uv_to_speed.html\",\"/reference/generated/pvlib.forecast.GFS.__init__.html\",\"/reference/generated/pvlib.forecast.GFS.cloud_cover_to_ghi_linear.html\",\"/reference/generated/pvlib.forecast.GFS.cloud_cover_to_irradiance.html\",\"/reference/generated/pvlib.forecast.GFS.cloud_cover_to_irradiance_campbell_norman.html\",\"/reference/generated/pvlib.forecast.GFS.cloud_cover_to_irradiance_clearsky_scaling.html\",\"/reference/generated/pvlib.forecast.GFS.cloud_cover_to_transmittance_linear.html\",\"/reference/generated/pvlib.forecast.GFS.connect_to_catalog.html\",\"/reference/generated/pvlib.forecast.GFS.get_data.html\",\"/reference/generated/pvlib.forecast.GFS.get_processed_data.html\",\"/reference/generated/pvlib.forecast.GFS.gust_to_speed.html\",\"/reference/generated/pvlib.forecast.GFS.html\",\"/reference/generated/pvlib.forecast.GFS.isobaric_to_ambient_temperature.html\",\"/reference/generated/pvlib.forecast.GFS.kelvin_to_celsius.html\",\"/reference/generated/pvlib.forecast.GFS.process_data.html\",\"/reference/generated/pvlib.forecast.GFS.rename.html\",\"/reference/generated/pvlib.forecast.GFS.set_dataset.html\",\"/reference/generated/pvlib.forecast.GFS.set_location.html\",\"/reference/generated/pvlib.forecast.GFS.set_query_latlon.html\",\"/reference/generated/pvlib.forecast.GFS.set_query_time_range.html\",\"/reference/generated/pvlib.forecast.GFS.set_time.html\",\"/reference/generated/pvlib.forecast.GFS.uv_to_speed.html\",\"/reference/generated/pvlib.forecast.HRRR.__init__.html\",\"/reference/generated/pvlib.forecast.HRRR.cloud_cover_to_ghi_linear.html\",\"/reference/generated/pvlib.forecast.HRRR.cloud_cover_to_irradiance.html\",\"/reference/generated/pvlib.forecast.HRRR.cloud_cover_to_irradiance_campbell_norman.html\",\"/reference/generated/pvlib.forecast.HRRR.cloud_cover_to_irradiance_clearsky_scaling.html\",\"/reference/generated/pvlib.forecast.HRRR.cloud_cover_to_transmittance_linear.html\",\"/reference/generated/pvlib.forecast.HRRR.connect_to_catalog.html\",\"/reference/generated/pvlib.forecast.HRRR.get_data.html\",\"/reference/generated/pvlib.forecast.HRRR.get_processed_data.html\",\"/reference/generated/pvlib.forecast.HRRR.gust_to_speed.html\",\"/reference/generated/pvlib.forecast.HRRR.html\",\"/reference/generated/pvlib.forecast.HRRR.isobaric_to_ambient_temperature.html\",\"/reference/generated/pvlib.forecast.HRRR.kelvin_to_celsius.html\",\"/reference/generated/pvlib.forecast.HRRR.process_data.html\",\"/reference/generated/pvlib.forecast.HRRR.rename.html\",\"/reference/generated/pvlib.forecast.HRRR.set_dataset.html\",\"/reference/generated/pvlib.forecast.HRRR.set_location.html\",\"/reference/generated/pvlib.forecast.HRRR.set_query_latlon.html\",\"/reference/generated/pvlib.forecast.HRRR.set_query_time_range.html\",\"/reference/generated/pvlib.forecast.HRRR.set_time.html\",\"/reference/generated/pvlib.forecast.HRRR.uv_to_speed.html\",\"/reference/generated/pvlib.forecast.HRRR_ESRL.__init__.html\",\"/reference/generated/pvlib.forecast.HRRR_ESRL.cloud_cover_to_ghi_linear.html\",\"/reference/generated/pvlib.forecast.HRRR_ESRL.cloud_cover_to_irradiance.html\",\"/reference/generated/pvlib.forecast.HRRR_ESRL.cloud_cover_to_irradiance_campbell_norman.html\",\"/reference/generated/pvlib.forecast.HRRR_ESRL.cloud_cover_to_irradiance_clearsky_scaling.html\",\"/reference/generated/pvlib.forecast.HRRR_ESRL.cloud_cover_to_transmittance_linear.html\",\"/reference/generated/pvlib.forecast.HRRR_ESRL.connect_to_catalog.html\",\"/reference/generated/pvlib.forecast.HRRR_ESRL.get_data.html\",\"/reference/generated/pvlib.forecast.HRRR_ESRL.get_processed_data.html\",\"/reference/generated/pvlib.forecast.HRRR_ESRL.gust_to_speed.html\",\"/reference/generated/pvlib.forecast.HRRR_ESRL.html\",\"/reference/generated/pvlib.forecast.HRRR_ESRL.isobaric_to_ambient_temperature.html\",\"/reference/generated/pvlib.forecast.HRRR_ESRL.kelvin_to_celsius.html\",\"/reference/generated/pvlib.forecast.HRRR_ESRL.process_data.html\",\"/reference/generated/pvlib.forecast.HRRR_ESRL.rename.html\",\"/reference/generated/pvlib.forecast.HRRR_ESRL.set_dataset.html\",\"/reference/generated/pvlib.forecast.HRRR_ESRL.set_location.html\",\"/reference/generated/pvlib.forecast.HRRR_ESRL.set_query_latlon.html\",\"/reference/generated/pvlib.forecast.HRRR_ESRL.set_query_time_range.html\",\"/reference/generated/pvlib.forecast.HRRR_ESRL.set_time.html\",\"/reference/generated/pvlib.forecast.HRRR_ESRL.uv_to_speed.html\",\"/reference/generated/pvlib.forecast.NAM.__init__.html\",\"/reference/generated/pvlib.forecast.NAM.cloud_cover_to_ghi_linear.html\",\"/reference/generated/pvlib.forecast.NAM.cloud_cover_to_irradiance.html\",\"/reference/generated/pvlib.forecast.NAM.cloud_cover_to_irradiance_campbell_norman.html\",\"/reference/generated/pvlib.forecast.NAM.cloud_cover_to_irradiance_clearsky_scaling.html\",\"/reference/generated/pvlib.forecast.NAM.cloud_cover_to_transmittance_linear.html\",\"/reference/generated/pvlib.forecast.NAM.connect_to_catalog.html\",\"/reference/generated/pvlib.forecast.NAM.get_data.html\",\"/reference/generated/pvlib.forecast.NAM.get_processed_data.html\",\"/reference/generated/pvlib.forecast.NAM.gust_to_speed.html\",\"/reference/generated/pvlib.forecast.NAM.html\",\"/reference/generated/pvlib.forecast.NAM.isobaric_to_ambient_temperature.html\",\"/reference/generated/pvlib.forecast.NAM.kelvin_to_celsius.html\",\"/reference/generated/pvlib.forecast.NAM.process_data.html\",\"/reference/generated/pvlib.forecast.NAM.rename.html\",\"/reference/generated/pvlib.forecast.NAM.set_dataset.html\",\"/reference/generated/pvlib.forecast.NAM.set_location.html\",\"/reference/generated/pvlib.forecast.NAM.set_query_latlon.html\",\"/reference/generated/pvlib.forecast.NAM.set_query_time_range.html\",\"/reference/generated/pvlib.forecast.NAM.set_time.html\",\"/reference/generated/pvlib.forecast.NAM.uv_to_speed.html\",\"/reference/generated/pvlib.forecast.NDFD.__init__.html\",\"/reference/generated/pvlib.forecast.NDFD.cloud_cover_to_ghi_linear.html\",\"/reference/generated/pvlib.forecast.NDFD.cloud_cover_to_irradiance.html\",\"/reference/generated/pvlib.forecast.NDFD.cloud_cover_to_irradiance_campbell_norman.html\",\"/reference/generated/pvlib.forecast.NDFD.cloud_cover_to_irradiance_clearsky_scaling.html\",\"/reference/generated/pvlib.forecast.NDFD.cloud_cover_to_transmittance_linear.html\",\"/reference/generated/pvlib.forecast.NDFD.connect_to_catalog.html\",\"/reference/generated/pvlib.forecast.NDFD.get_data.html\",\"/reference/generated/pvlib.forecast.NDFD.get_processed_data.html\",\"/reference/generated/pvlib.forecast.NDFD.gust_to_speed.html\",\"/reference/generated/pvlib.forecast.NDFD.html\",\"/reference/generated/pvlib.forecast.NDFD.isobaric_to_ambient_temperature.html\",\"/reference/generated/pvlib.forecast.NDFD.kelvin_to_celsius.html\",\"/reference/generated/pvlib.forecast.NDFD.process_data.html\",\"/reference/generated/pvlib.forecast.NDFD.rename.html\",\"/reference/generated/pvlib.forecast.NDFD.set_dataset.html\",\"/reference/generated/pvlib.forecast.NDFD.set_location.html\",\"/reference/generated/pvlib.forecast.NDFD.set_query_latlon.html\",\"/reference/generated/pvlib.forecast.NDFD.set_query_time_range.html\",\"/reference/generated/pvlib.forecast.NDFD.set_time.html\",\"/reference/generated/pvlib.forecast.NDFD.uv_to_speed.html\",\"/reference/generated/pvlib.forecast.RAP.__init__.html\",\"/reference/generated/pvlib.forecast.RAP.cloud_cover_to_ghi_linear.html\",\"/reference/generated/pvlib.forecast.RAP.cloud_cover_to_irradiance.html\",\"/reference/generated/pvlib.forecast.RAP.cloud_cover_to_irradiance_campbell_norman.html\",\"/reference/generated/pvlib.forecast.RAP.cloud_cover_to_irradiance_clearsky_scaling.html\",\"/reference/generated/pvlib.forecast.RAP.cloud_cover_to_transmittance_linear.html\",\"/reference/generated/pvlib.forecast.RAP.connect_to_catalog.html\",\"/reference/generated/pvlib.forecast.RAP.get_data.html\",\"/reference/generated/pvlib.forecast.RAP.get_processed_data.html\",\"/reference/generated/pvlib.forecast.RAP.gust_to_speed.html\",\"/reference/generated/pvlib.forecast.RAP.html\",\"/reference/generated/pvlib.forecast.RAP.isobaric_to_ambient_temperature.html\",\"/reference/generated/pvlib.forecast.RAP.kelvin_to_celsius.html\",\"/reference/generated/pvlib.forecast.RAP.process_data.html\",\"/reference/generated/pvlib.forecast.RAP.rename.html\",\"/reference/generated/pvlib.forecast.RAP.set_dataset.html\",\"/reference/generated/pvlib.forecast.RAP.set_location.html\",\"/reference/generated/pvlib.forecast.RAP.set_query_latlon.html\",\"/reference/generated/pvlib.forecast.RAP.set_query_time_range.html\",\"/reference/generated/pvlib.forecast.RAP.set_time.html\",\"/reference/generated/pvlib.forecast.RAP.uv_to_speed.html\",\"/reference/generated/pvlib.iam.ashrae.html\",\"/reference/generated/pvlib.iam.interp.html\",\"/reference/generated/pvlib.iam.marion_diffuse.html\",\"/reference/generated/pvlib.iam.marion_integrate.html\",\"/reference/generated/pvlib.iam.martin_ruiz.html\",\"/reference/generated/pvlib.iam.martin_ruiz_diffuse.html\",\"/reference/generated/pvlib.iam.physical.html\",\"/reference/generated/pvlib.iam.sapm.html\",\"/reference/generated/pvlib.inverter.adr.html\",\"/reference/generated/pvlib.inverter.fit_sandia.html\",\"/reference/generated/pvlib.inverter.pvwatts.html\",\"/reference/generated/pvlib.inverter.pvwatts_multi.html\",\"/reference/generated/pvlib.inverter.sandia.html\",\"/reference/generated/pvlib.inverter.sandia_multi.html\",\"/reference/generated/pvlib.iotools.get_bsrn.html\",\"/reference/generated/pvlib.iotools.get_cams.html\",\"/reference/generated/pvlib.iotools.get_ecmwf_macc.html\",\"/reference/generated/pvlib.iotools.get_psm3.html\",\"/reference/generated/pvlib.iotools.get_pvgis_hourly.html\",\"/reference/generated/pvlib.iotools.get_pvgis_tmy.html\",\"/reference/generated/pvlib.iotools.parse_bsrn.html\",\"/reference/generated/pvlib.iotools.parse_cams.html\",\"/reference/generated/pvlib.iotools.parse_epw.html\",\"/reference/generated/pvlib.iotools.parse_psm3.html\",\"/reference/generated/pvlib.iotools.read_bsrn.html\",\"/reference/generated/pvlib.iotools.read_cams.html\",\"/reference/generated/pvlib.iotools.read_crn.html\",\"/reference/generated/pvlib.iotools.read_ecmwf_macc.html\",\"/reference/generated/pvlib.iotools.read_epw.html\",\"/reference/generated/pvlib.iotools.read_midc.html\",\"/reference/generated/pvlib.iotools.read_midc_raw_data_from_nrel.html\",\"/reference/generated/pvlib.iotools.read_psm3.html\",\"/reference/generated/pvlib.iotools.read_pvgis_hourly.html\",\"/reference/generated/pvlib.iotools.read_pvgis_tmy.html\",\"/reference/generated/pvlib.iotools.read_solrad.html\",\"/reference/generated/pvlib.iotools.read_srml.html\",\"/reference/generated/pvlib.iotools.read_srml_month_from_solardat.html\",\"/reference/generated/pvlib.iotools.read_surfrad.html\",\"/reference/generated/pvlib.iotools.read_tmy2.html\",\"/reference/generated/pvlib.iotools.read_tmy3.html\",\"/reference/generated/pvlib.irradiance.aoi.html\",\"/reference/generated/pvlib.irradiance.aoi_projection.html\",\"/reference/generated/pvlib.irradiance.beam_component.html\",\"/reference/generated/pvlib.irradiance.campbell_norman.html\",\"/reference/generated/pvlib.irradiance.clearness_index.html\",\"/reference/generated/pvlib.irradiance.clearness_index_zenith_independent.html\",\"/reference/generated/pvlib.irradiance.clearsky_index.html\",\"/reference/generated/pvlib.irradiance.dirindex.html\",\"/reference/generated/pvlib.irradiance.dirint.html\",\"/reference/generated/pvlib.irradiance.disc.html\",\"/reference/generated/pvlib.irradiance.dni.html\",\"/reference/generated/pvlib.irradiance.erbs.html\",\"/reference/generated/pvlib.irradiance.get_extra_radiation.html\",\"/reference/generated/pvlib.irradiance.get_ground_diffuse.html\",\"/reference/generated/pvlib.irradiance.get_sky_diffuse.html\",\"/reference/generated/pvlib.irradiance.get_total_irradiance.html\",\"/reference/generated/pvlib.irradiance.gti_dirint.html\",\"/reference/generated/pvlib.irradiance.haydavies.html\",\"/reference/generated/pvlib.irradiance.isotropic.html\",\"/reference/generated/pvlib.irradiance.king.html\",\"/reference/generated/pvlib.irradiance.klucher.html\",\"/reference/generated/pvlib.irradiance.perez.html\",\"/reference/generated/pvlib.irradiance.poa_components.html\",\"/reference/generated/pvlib.irradiance.poa_horizontal_ratio.html\",\"/reference/generated/pvlib.irradiance.reindl.html\",\"/reference/generated/pvlib.ivtools.sde.fit_sandia_simple.html\",\"/reference/generated/pvlib.ivtools.sdm.fit_cec_sam.html\",\"/reference/generated/pvlib.ivtools.sdm.fit_desoto.html\",\"/reference/generated/pvlib.ivtools.sdm.fit_desoto_sandia.html\",\"/reference/generated/pvlib.ivtools.sdm.fit_pvsyst_sandia.html\",\"/reference/generated/pvlib.ivtools.sdm.pvsyst_temperature_coeff.html\",\"/reference/generated/pvlib.ivtools.utils.rectify_iv_curve.html\",\"/reference/generated/pvlib.location.Location.__init__.html\",\"/reference/generated/pvlib.location.Location.from_epw.html\",\"/reference/generated/pvlib.location.Location.from_tmy.html\",\"/reference/generated/pvlib.location.Location.get_airmass.html\",\"/reference/generated/pvlib.location.Location.get_clearsky.html\",\"/reference/generated/pvlib.location.Location.get_solarposition.html\",\"/reference/generated/pvlib.location.Location.get_sun_rise_set_transit.html\",\"/reference/generated/pvlib.location.Location.html\",\"/reference/generated/pvlib.location.lookup_altitude.html\",\"/reference/generated/pvlib.modelchain.ModelChain.__init__.html\",\"/reference/generated/pvlib.modelchain.ModelChain.ac_model.html\",\"/reference/generated/pvlib.modelchain.ModelChain.adr_inverter.html\",\"/reference/generated/pvlib.modelchain.ModelChain.aoi_model.html\",\"/reference/generated/pvlib.modelchain.ModelChain.ashrae_aoi_loss.html\",\"/reference/generated/pvlib.modelchain.ModelChain.cec.html\",\"/reference/generated/pvlib.modelchain.ModelChain.complete_irradiance.html\",\"/reference/generated/pvlib.modelchain.ModelChain.dc_model.html\",\"/reference/generated/pvlib.modelchain.ModelChain.dc_ohmic_model.html\",\"/reference/generated/pvlib.modelchain.ModelChain.dc_ohms_from_percent.html\",\"/reference/generated/pvlib.modelchain.ModelChain.desoto.html\",\"/reference/generated/pvlib.modelchain.ModelChain.effective_irradiance_model.html\",\"/reference/generated/pvlib.modelchain.ModelChain.faiman_temp.html\",\"/reference/generated/pvlib.modelchain.ModelChain.first_solar_spectral_loss.html\",\"/reference/generated/pvlib.modelchain.ModelChain.fuentes_temp.html\",\"/reference/generated/pvlib.modelchain.ModelChain.html\",\"/reference/generated/pvlib.modelchain.ModelChain.infer_ac_model.html\",\"/reference/generated/pvlib.modelchain.ModelChain.infer_aoi_model.html\",\"/reference/generated/pvlib.modelchain.ModelChain.infer_dc_model.html\",\"/reference/generated/pvlib.modelchain.ModelChain.infer_losses_model.html\",\"/reference/generated/pvlib.modelchain.ModelChain.infer_spectral_model.html\",\"/reference/generated/pvlib.modelchain.ModelChain.infer_temperature_model.html\",\"/reference/generated/pvlib.modelchain.ModelChain.losses_model.html\",\"/reference/generated/pvlib.modelchain.ModelChain.martin_ruiz_aoi_loss.html\",\"/reference/generated/pvlib.modelchain.ModelChain.no_aoi_loss.html\",\"/reference/generated/pvlib.modelchain.ModelChain.no_dc_ohmic_loss.html\",\"/reference/generated/pvlib.modelchain.ModelChain.no_extra_losses.html\",\"/reference/generated/pvlib.modelchain.ModelChain.no_spectral_loss.html\",\"/reference/generated/pvlib.modelchain.ModelChain.noct_sam_temp.html\",\"/reference/generated/pvlib.modelchain.ModelChain.physical_aoi_loss.html\",\"/reference/generated/pvlib.modelchain.ModelChain.prepare_inputs.html\",\"/reference/generated/pvlib.modelchain.ModelChain.prepare_inputs_from_poa.html\",\"/reference/generated/pvlib.modelchain.ModelChain.pvsyst.html\",\"/reference/generated/pvlib.modelchain.ModelChain.pvsyst_temp.html\",\"/reference/generated/pvlib.modelchain.ModelChain.pvwatts_dc.html\",\"/reference/generated/pvlib.modelchain.ModelChain.pvwatts_inverter.html\",\"/reference/generated/pvlib.modelchain.ModelChain.pvwatts_losses.html\",\"/reference/generated/pvlib.modelchain.ModelChain.run_model.html\",\"/reference/generated/pvlib.modelchain.ModelChain.run_model_from_effective_irradiance.html\",\"/reference/generated/pvlib.modelchain.ModelChain.run_model_from_poa.html\",\"/reference/generated/pvlib.modelchain.ModelChain.sandia_inverter.html\",\"/reference/generated/pvlib.modelchain.ModelChain.sapm.html\",\"/reference/generated/pvlib.modelchain.ModelChain.sapm_aoi_loss.html\",\"/reference/generated/pvlib.modelchain.ModelChain.sapm_spectral_loss.html\",\"/reference/generated/pvlib.modelchain.ModelChain.sapm_temp.html\",\"/reference/generated/pvlib.modelchain.ModelChain.spectral_model.html\",\"/reference/generated/pvlib.modelchain.ModelChain.temperature_model.html\",\"/reference/generated/pvlib.modelchain.ModelChain.with_pvwatts.html\",\"/reference/generated/pvlib.modelchain.ModelChain.with_sapm.html\",\"/reference/generated/pvlib.modelchain.ModelChainResult.__init__.html\",\"/reference/generated/pvlib.modelchain.ModelChainResult.html\",\"/reference/generated/pvlib.modelchain.basic_chain.html\",\"/reference/generated/pvlib.modelchain.get_orientation.html\",\"/reference/generated/pvlib.pvsystem.Array.__init__.html\",\"/reference/generated/pvlib.pvsystem.Array.dc_ohms_from_percent.html\",\"/reference/generated/pvlib.pvsystem.Array.get_aoi.html\",\"/reference/generated/pvlib.pvsystem.Array.get_cell_temperature.html\",\"/reference/generated/pvlib.pvsystem.Array.get_iam.html\",\"/reference/generated/pvlib.pvsystem.Array.get_irradiance.html\",\"/reference/generated/pvlib.pvsystem.Array.html\",\"/reference/generated/pvlib.pvsystem.FixedMount.__init__.html\",\"/reference/generated/pvlib.pvsystem.FixedMount.get_orientation.html\",\"/reference/generated/pvlib.pvsystem.FixedMount.html\",\"/reference/generated/pvlib.pvsystem.PVSystem.__init__.html\",\"/reference/generated/pvlib.pvsystem.PVSystem.adrinverter.html\",\"/reference/generated/pvlib.pvsystem.PVSystem.calcparams_cec.html\",\"/reference/generated/pvlib.pvsystem.PVSystem.calcparams_desoto.html\",\"/reference/generated/pvlib.pvsystem.PVSystem.calcparams_pvsyst.html\",\"/reference/generated/pvlib.pvsystem.PVSystem.dc_ohms_from_percent.html\",\"/reference/generated/pvlib.pvsystem.PVSystem.faiman_celltemp.html\",\"/reference/generated/pvlib.pvsystem.PVSystem.first_solar_spectral_loss.html\",\"/reference/generated/pvlib.pvsystem.PVSystem.fuentes_celltemp.html\",\"/reference/generated/pvlib.pvsystem.PVSystem.get_ac.html\",\"/reference/generated/pvlib.pvsystem.PVSystem.get_aoi.html\",\"/reference/generated/pvlib.pvsystem.PVSystem.get_cell_temperature.html\",\"/reference/generated/pvlib.pvsystem.PVSystem.get_iam.html\",\"/reference/generated/pvlib.pvsystem.PVSystem.get_irradiance.html\",\"/reference/generated/pvlib.pvsystem.PVSystem.html\",\"/reference/generated/pvlib.pvsystem.PVSystem.i_from_v.html\",\"/reference/generated/pvlib.pvsystem.PVSystem.noct_sam_celltemp.html\",\"/reference/generated/pvlib.pvsystem.PVSystem.pvsyst_celltemp.html\",\"/reference/generated/pvlib.pvsystem.PVSystem.pvwatts_ac.html\",\"/reference/generated/pvlib.pvsystem.PVSystem.pvwatts_dc.html\",\"/reference/generated/pvlib.pvsystem.PVSystem.pvwatts_losses.html\",\"/reference/generated/pvlib.pvsystem.PVSystem.sapm.html\",\"/reference/generated/pvlib.pvsystem.PVSystem.sapm_celltemp.html\",\"/reference/generated/pvlib.pvsystem.PVSystem.sapm_effective_irradiance.html\",\"/reference/generated/pvlib.pvsystem.PVSystem.sapm_spectral_loss.html\",\"/reference/generated/pvlib.pvsystem.PVSystem.scale_voltage_current_power.html\",\"/reference/generated/pvlib.pvsystem.PVSystem.singlediode.html\",\"/reference/generated/pvlib.pvsystem.PVSystem.snlinverter.html\",\"/reference/generated/pvlib.pvsystem.SingleAxisTrackerMount.__init__.html\",\"/reference/generated/pvlib.pvsystem.SingleAxisTrackerMount.get_orientation.html\",\"/reference/generated/pvlib.pvsystem.SingleAxisTrackerMount.html\",\"/reference/generated/pvlib.pvsystem.calcparams_cec.html\",\"/reference/generated/pvlib.pvsystem.calcparams_desoto.html\",\"/reference/generated/pvlib.pvsystem.calcparams_pvsyst.html\",\"/reference/generated/pvlib.pvsystem.combine_loss_factors.html\",\"/reference/generated/pvlib.pvsystem.dc_ohmic_losses.html\",\"/reference/generated/pvlib.pvsystem.dc_ohms_from_percent.html\",\"/reference/generated/pvlib.pvsystem.i_from_v.html\",\"/reference/generated/pvlib.pvsystem.max_power_point.html\",\"/reference/generated/pvlib.pvsystem.pvwatts_dc.html\",\"/reference/generated/pvlib.pvsystem.pvwatts_losses.html\",\"/reference/generated/pvlib.pvsystem.retrieve_sam.html\",\"/reference/generated/pvlib.pvsystem.sapm.html\",\"/reference/generated/pvlib.pvsystem.sapm_effective_irradiance.html\",\"/reference/generated/pvlib.pvsystem.sapm_spectral_loss.html\",\"/reference/generated/pvlib.pvsystem.scale_voltage_current_power.html\",\"/reference/generated/pvlib.pvsystem.singlediode.html\",\"/reference/generated/pvlib.pvsystem.v_from_i.html\",\"/reference/generated/pvlib.scaling.wvm.html\",\"/reference/generated/pvlib.shading.masking_angle.html\",\"/reference/generated/pvlib.shading.masking_angle_passias.html\",\"/reference/generated/pvlib.shading.sky_diffuse_passias.html\",\"/reference/generated/pvlib.singlediode.bishop88.html\",\"/reference/generated/pvlib.singlediode.bishop88_i_from_v.html\",\"/reference/generated/pvlib.singlediode.bishop88_mpp.html\",\"/reference/generated/pvlib.singlediode.bishop88_v_from_i.html\",\"/reference/generated/pvlib.singlediode.estimate_voc.html\",\"/reference/generated/pvlib.snow.coverage_nrel.html\",\"/reference/generated/pvlib.snow.dc_loss_nrel.html\",\"/reference/generated/pvlib.snow.fully_covered_nrel.html\",\"/reference/generated/pvlib.snow.loss_townsend.html\",\"/reference/generated/pvlib.soiling.hsu.html\",\"/reference/generated/pvlib.soiling.kimber.html\",\"/reference/generated/pvlib.solarposition.calc_time.html\",\"/reference/generated/pvlib.solarposition.declination_cooper69.html\",\"/reference/generated/pvlib.solarposition.declination_spencer71.html\",\"/reference/generated/pvlib.solarposition.ephemeris.html\",\"/reference/generated/pvlib.solarposition.equation_of_time_pvcdrom.html\",\"/reference/generated/pvlib.solarposition.equation_of_time_spencer71.html\",\"/reference/generated/pvlib.solarposition.get_solarposition.html\",\"/reference/generated/pvlib.solarposition.hour_angle.html\",\"/reference/generated/pvlib.solarposition.nrel_earthsun_distance.html\",\"/reference/generated/pvlib.solarposition.pyephem.html\",\"/reference/generated/pvlib.solarposition.pyephem_earthsun_distance.html\",\"/reference/generated/pvlib.solarposition.solar_azimuth_analytical.html\",\"/reference/generated/pvlib.solarposition.solar_zenith_analytical.html\",\"/reference/generated/pvlib.solarposition.spa_c.html\",\"/reference/generated/pvlib.solarposition.spa_python.html\",\"/reference/generated/pvlib.solarposition.sun_rise_set_transit_ephem.html\",\"/reference/generated/pvlib.solarposition.sun_rise_set_transit_geometric.html\",\"/reference/generated/pvlib.solarposition.sun_rise_set_transit_spa.html\",\"/reference/generated/pvlib.spa.calculate_deltat.html\",\"/reference/generated/pvlib.spa.html\",\"/reference/generated/pvlib.spectrum.calc_spectral_mismatch_field.html\",\"/reference/generated/pvlib.spectrum.get_am15g.html\",\"/reference/generated/pvlib.spectrum.get_example_spectral_response.html\",\"/reference/generated/pvlib.spectrum.spectrl2.html\",\"/reference/generated/pvlib.temperature.GenericLinearModel.__init__.html\",\"/reference/generated/pvlib.temperature.GenericLinearModel.get_generic_linear.html\",\"/reference/generated/pvlib.temperature.GenericLinearModel.html\",\"/reference/generated/pvlib.temperature.GenericLinearModel.to_faiman.html\",\"/reference/generated/pvlib.temperature.GenericLinearModel.to_noct_sam.html\",\"/reference/generated/pvlib.temperature.GenericLinearModel.to_pvsyst.html\",\"/reference/generated/pvlib.temperature.GenericLinearModel.to_sapm.html\",\"/reference/generated/pvlib.temperature.GenericLinearModel.use_faiman.html\",\"/reference/generated/pvlib.temperature.GenericLinearModel.use_noct_sam.html\",\"/reference/generated/pvlib.temperature.GenericLinearModel.use_pvsyst.html\",\"/reference/generated/pvlib.temperature.GenericLinearModel.use_sapm.html\",\"/reference/generated/pvlib.temperature.faiman.html\",\"/reference/generated/pvlib.temperature.fuentes.html\",\"/reference/generated/pvlib.temperature.generic_linear.html\",\"/reference/generated/pvlib.temperature.noct_sam.html\",\"/reference/generated/pvlib.temperature.prilliman.html\",\"/reference/generated/pvlib.temperature.pvsyst_cell.html\",\"/reference/generated/pvlib.temperature.ross.html\",\"/reference/generated/pvlib.temperature.sapm_cell.html\",\"/reference/generated/pvlib.temperature.sapm_cell_from_module.html\",\"/reference/generated/pvlib.temperature.sapm_module.html\",\"/reference/generated/pvlib.tracking.SingleAxisTracker.__init__.html\",\"/reference/generated/pvlib.tracking.SingleAxisTracker.adrinverter.html\",\"/reference/generated/pvlib.tracking.SingleAxisTracker.calcparams_cec.html\",\"/reference/generated/pvlib.tracking.SingleAxisTracker.calcparams_desoto.html\",\"/reference/generated/pvlib.tracking.SingleAxisTracker.calcparams_pvsyst.html\",\"/reference/generated/pvlib.tracking.SingleAxisTracker.dc_ohms_from_percent.html\",\"/reference/generated/pvlib.tracking.SingleAxisTracker.faiman_celltemp.html\",\"/reference/generated/pvlib.tracking.SingleAxisTracker.first_solar_spectral_loss.html\",\"/reference/generated/pvlib.tracking.SingleAxisTracker.fuentes_celltemp.html\",\"/reference/generated/pvlib.tracking.SingleAxisTracker.get_ac.html\",\"/reference/generated/pvlib.tracking.SingleAxisTracker.get_aoi.html\",\"/reference/generated/pvlib.tracking.SingleAxisTracker.get_cell_temperature.html\",\"/reference/generated/pvlib.tracking.SingleAxisTracker.get_iam.html\",\"/reference/generated/pvlib.tracking.SingleAxisTracker.get_irradiance.html\",\"/reference/generated/pvlib.tracking.SingleAxisTracker.html\",\"/reference/generated/pvlib.tracking.SingleAxisTracker.i_from_v.html\",\"/reference/generated/pvlib.tracking.SingleAxisTracker.noct_sam_celltemp.html\",\"/reference/generated/pvlib.tracking.SingleAxisTracker.pvsyst_celltemp.html\",\"/reference/generated/pvlib.tracking.SingleAxisTracker.pvwatts_ac.html\",\"/reference/generated/pvlib.tracking.SingleAxisTracker.pvwatts_dc.html\",\"/reference/generated/pvlib.tracking.SingleAxisTracker.pvwatts_losses.html\",\"/reference/generated/pvlib.tracking.SingleAxisTracker.sapm.html\",\"/reference/generated/pvlib.tracking.SingleAxisTracker.sapm_celltemp.html\",\"/reference/generated/pvlib.tracking.SingleAxisTracker.sapm_effective_irradiance.html\",\"/reference/generated/pvlib.tracking.SingleAxisTracker.sapm_spectral_loss.html\",\"/reference/generated/pvlib.tracking.SingleAxisTracker.scale_voltage_current_power.html\",\"/reference/generated/pvlib.tracking.SingleAxisTracker.singleaxis.html\",\"/reference/generated/pvlib.tracking.SingleAxisTracker.singlediode.html\",\"/reference/generated/pvlib.tracking.SingleAxisTracker.snlinverter.html\",\"/reference/generated/pvlib.tracking.calc_axis_tilt.html\",\"/reference/generated/pvlib.tracking.calc_cross_axis_tilt.html\",\"/reference/generated/pvlib.tracking.calc_surface_orientation.html\",\"/reference/generated/pvlib.tracking.singleaxis.html\",\"/reference/index.html\",\"/reference/iotools.html\",\"/reference/irradiance.html\",\"/reference/location.html\",\"/reference/modelchain.html\",\"/reference/pv_modeling.html\",\"/reference/scaling.html\",\"/reference/solarposition.html\",\"/reference/tracking.html\",\"/user_guide/bifacial.html\",\"/user_guide/clearsky.html\",\"/user_guide/comparison_pvlib_matlab.html\",\"/user_guide/forecasts.html\",\"/user_guide/index.html\",\"/user_guide/installation.html\",\"/user_guide/introtutorial.html\",\"/user_guide/modelchain.html\",\"/user_guide/package_overview.html\",\"/user_guide/pvsystem.html\",\"/user_guide/singlediode.html\",\"/user_guide/timetimezones.html\",\"/user_guide/variables_style_rules.html\"],\"Prefix\":[\"gallery\",\"gallery\",\"gallery\",\"gallery\",\"gallery\",\"gallery\",\"gallery\",\"gallery\",\"gallery\",\"gallery\",\"gallery\",\"gallery\",\"gallery\",\"gallery\",\"gallery\",\"gallery\",\"gallery\",\"gallery\",\"gallery\",\"gallery\",\"gallery\",\"gallery\",\"gallery\",\"gallery\",\"gallery\",\"gallery\",\"gallery\",\"gallery\",\"gallery\",\"gallery\",\"gallery\",\"reference\",\"reference\",\"reference\",\"reference\",\"reference\",\"reference\",\"reference\",\"reference\",\"reference\",\"reference\",\"reference\",\"reference\",\"reference\",\"reference\",\"reference\",\"reference\",\"reference\",\"reference\",\"reference\",\"reference\",\"reference\",\"reference\",\"reference\",\"reference\",\"reference\",\"reference\",\"reference\",\"reference\",\"reference\",\"reference\",\"reference\",\"reference\",\"reference\",\"reference\",\"reference\",\"reference\",\"reference\",\"reference\",\"reference\",\"reference\",\"reference\",\"reference\",\"reference\",\"reference\",\"reference\",\"reference\",\"reference\",\"reference\",\"reference\",\"reference\",\"reference\",\"reference\",\"reference\",\"reference\",\"reference\",\"reference\",\"reference\",\"reference\",\"reference\",\"reference\",\"reference\",\"reference\",\"reference\",\"reference\",\"reference\",\"reference\",\"reference\",\"reference\",\"reference\",\"reference\",\"reference\",\"reference\",\"reference\",\"reference\",\"reference\",\"reference\",\"reference\",\"reference\",\"reference\",\"reference\",\"reference\",\"reference\",\"reference\",\"reference\",\"reference\",\"reference\",\"reference\",\"reference\",\"reference\",\"reference\",\"reference\",\"reference\",\"reference\",\"reference\",\"reference\",\"reference\",\"reference\",\"reference\",\"reference\",\"reference\",\"reference\",\"reference\",\"reference\",\"reference\",\"reference\",\"reference\",\"reference\",\"reference\",\"reference\",\"reference\",\"reference\",\"reference\",\"reference\",\"reference\",\"reference\",\"reference\",\"reference\",\"reference\",\"reference\",\"reference\",\"reference\",\"reference\",\"reference\",\"reference\",\"reference\",\"reference\",\"reference\",\"reference\",\"reference\",\"reference\",\"reference\",\"reference\",\"reference\",\"reference\",\"reference\",\"reference\",\"reference\",\"reference\",\"reference\",\"reference\",\"reference\",\"reference\",\"reference\",\"reference\",\"reference\",\"reference\",\"reference\",\"reference\",\"reference\",\"reference\",\"reference\",\"reference\",\"reference\",\"reference\",\"reference\",\"reference\",\"reference\",\"reference\",\"reference\",\"reference\",\"reference\",\"reference\",\"reference\",\"reference\",\"reference\",\"reference\",\"reference\",\"reference\",\"reference\",\"reference\",\"reference\",\"reference\",\"reference\",\"reference\",\"reference\",\"reference\",\"reference\",\"reference\",\"reference\",\"reference\",\"reference\",\"reference\",\"reference\",\"reference\",\"reference\",\"reference\",\"reference\",\"reference\",\"reference\",\"reference\",\"reference\",\"reference\",\"reference\",\"reference\",\"reference\",\"reference\",\"reference\",\"reference\",\"reference\",\"reference\",\"reference\",\"reference\",\"reference\",\"reference\",\"reference\",\"reference\",\"reference\",\"reference\",\"reference\",\"reference\",\"reference\",\"reference\",\"reference\",\"reference\",\"reference\",\"reference\",\"reference\",\"reference\",\"reference\",\"reference\",\"reference\",\"reference\",\"reference\",\"reference\",\"reference\",\"reference\",\"reference\",\"reference\",\"reference\",\"reference\",\"reference\",\"reference\",\"reference\",\"reference\",\"reference\",\"reference\",\"reference\",\"reference\",\"reference\",\"reference\",\"reference\",\"reference\",\"reference\",\"reference\",\"reference\",\"reference\",\"reference\",\"reference\",\"reference\",\"reference\",\"reference\",\"reference\",\"reference\",\"reference\",\"reference\",\"reference\",\"reference\",\"reference\",\"reference\",\"reference\",\"reference\",\"reference\",\"reference\",\"reference\",\"reference\",\"reference\",\"reference\",\"reference\",\"reference\",\"reference\",\"reference\",\"reference\",\"reference\",\"reference\",\"reference\",\"reference\",\"reference\",\"reference\",\"reference\",\"reference\",\"reference\",\"reference\",\"reference\",\"reference\",\"reference\",\"reference\",\"reference\",\"reference\",\"reference\",\"reference\",\"reference\",\"reference\",\"reference\",\"reference\",\"reference\",\"reference\",\"reference\",\"reference\",\"reference\",\"reference\",\"reference\",\"reference\",\"reference\",\"reference\",\"reference\",\"reference\",\"reference\",\"reference\",\"reference\",\"reference\",\"reference\",\"reference\",\"reference\",\"reference\",\"reference\",\"reference\",\"reference\",\"reference\",\"reference\",\"reference\",\"reference\",\"reference\",\"reference\",\"reference\",\"reference\",\"reference\",\"reference\",\"reference\",\"reference\",\"reference\",\"reference\",\"reference\",\"reference\",\"reference\",\"reference\",\"reference\",\"reference\",\"reference\",\"reference\",\"reference\",\"reference\",\"reference\",\"reference\",\"reference\",\"reference\",\"reference\",\"reference\",\"reference\",\"reference\",\"reference\",\"reference\",\"reference\",\"reference\",\"reference\",\"reference\",\"reference\",\"reference\",\"reference\",\"reference\",\"reference\",\"reference\",\"reference\",\"reference\",\"reference\",\"reference\",\"reference\",\"reference\",\"reference\",\"reference\",\"reference\",\"reference\",\"reference\",\"reference\",\"reference\",\"reference\",\"reference\",\"reference\",\"reference\",\"reference\",\"reference\",\"reference\",\"reference\",\"reference\",\"reference\",\"reference\",\"reference\",\"reference\",\"reference\",\"reference\",\"reference\",\"reference\",\"reference\",\"reference\",\"reference\",\"reference\",\"reference\",\"reference\",\"reference\",\"reference\",\"reference\",\"reference\",\"reference\",\"reference\",\"reference\",\"reference\",\"reference\",\"reference\",\"reference\",\"reference\",\"reference\",\"reference\",\"reference\",\"reference\",\"reference\",\"reference\",\"reference\",\"reference\",\"reference\",\"reference\",\"reference\",\"reference\",\"reference\",\"reference\",\"reference\",\"reference\",\"reference\",\"reference\",\"reference\",\"reference\",\"reference\",\"reference\",\"reference\",\"reference\",\"reference\",\"reference\",\"reference\",\"reference\",\"reference\",\"reference\",\"reference\",\"reference\",\"reference\",\"reference\",\"reference\",\"reference\",\"reference\",\"reference\",\"reference\",\"reference\",\"reference\",\"reference\",\"reference\",\"reference\",\"reference\",\"reference\",\"reference\",\"reference\",\"reference\",\"reference\",\"reference\",\"reference\",\"reference\",\"user_guide\",\"user_guide\",\"user_guide\",\"user_guide\",\"user_guide\",\"user_guide\",\"user_guide\",\"user_guide\",\"user_guide\",\"user_guide\",\"user_guide\",\"user_guide\",\"user_guide\"],\"Views\":[300,881,1175,640,5086,336,1887,588,923,727,485,273,1004,147,429,215,635,520,167,342,410,270,1243,247,263,405,623,417,153,764,1,271,168,418,857,554,471,57,23,29,25,98,120,190,43,51,27,243,198,402,141,142,108,445,134,135,81,42,36,57,53,55,26,7,12,7,41,14,11,7,9,13,13,16,26,26,14,12,8,3,39,22,5,207,3,4,27,4,4,9,3,4,5,7,4,7,5,4,3,3,1,2,2,1,41,2,2,6,1,2,2,1,1,2,1,2,2,1,1,2,2,2,1,2,1,7,3,1,1,3,3,2,1,2,1,3,3,4,2,4,4,2,3,2,1,2,30,3,1,3,1,3,3,2,3,2,2,1,3,4,1,4,1,2,7,3,2,26,1,4,4,2,2,1,2,3,2,1,1,4,2,3,2,2,2,1,2,6,12,3,2,3,1,3,3,1,2,2,2,101,38,54,35,75,69,176,117,146,204,515,100,416,109,115,148,60,168,600,678,16,18,49,35,31,31,25,39,163,42,40,37,90,209,33,38,31,46,121,136,273,115,143,124,120,59,95,168,274,384,336,494,444,189,184,1147,197,312,164,122,112,547,247,85,107,117,396,113,55,89,43,49,119,90,112,190,1004,781,150,716,43,63,53,98,37,22,30,66,59,17,23,21,65,11,19,8,765,34,27,20,23,24,10,22,13,17,11,13,11,16,15,28,22,47,15,53,27,25,334,131,117,24,26,8,7,16,17,16,125,53,32,191,17,23,43,33,75,50,28,83,540,27,67,260,101,81,81,95,89,30,35,36,17,227,204,136,97,556,1176,36,24,32,111,205,121,79,34,80,15,46,68,28,35,48,238,195,243,219,123,61,76,69,85,542,180,543,294,164,73,56,529,32,62,171,140,115,89,23,21,14,46,132,171,78,63,284,184,58,52,67,107,55,64,814,123,24,97,18,60,115,53,209,60,39,70,23,60,52,12,18,134,3,2,32,2,9,4,4,2,6,2,3,198,95,44,103,62,358,75,573,122,221,19,8,15,6,4,3,2,7,4,9,20,9,9,130,271,7,8,4,7,7,4,6,4,8,3,4,69,8,6,71,85,35,283,3729,530,1382,40,432,1957,95,960,274,948,1879,566,2854,5642,3743,3959,2380,2147,3982,621,1038,771],\"index\":[41,42,43,44,45,46,47,48,49,50,51,52,53,54,55,56,57,58,59,60,61,62,63,64,65,66,67,68,69,70,71,88,89,90,91,92,93,94,95,96,97,98,99,100,101,102,103,104,105,106,107,108,109,110,111,112,113,114,115,116,117,118,119,120,121,122,123,124,125,126,127,128,129,130,131,132,133,134,135,136,137,138,139,140,141,142,143,144,145,146,147,148,149,150,151,152,153,154,155,156,157,158,159,160,161,162,163,164,165,166,167,168,169,170,171,172,173,174,175,176,177,178,179,180,181,182,183,184,185,186,187,188,189,190,191,192,193,194,195,196,197,198,199,200,201,202,203,204,205,206,207,208,209,210,211,212,213,214,215,216,217,218,219,220,221,222,223,224,225,226,227,228,229,230,231,232,233,234,235,236,237,238,239,240,241,242,243,244,245,246,247,248,249,250,251,252,253,254,255,256,257,258,259,260,261,262,263,264,265,266,267,268,269,270,271,272,273,274,275,276,277,278,279,280,281,282,283,284,285,286,287,288,289,290,291,292,293,294,295,296,297,298,299,300,301,302,303,304,305,306,307,308,309,310,311,312,313,314,315,316,317,318,319,320,321,322,323,324,325,326,327,328,329,330,331,332,333,334,335,336,337,338,339,340,341,342,343,344,345,346,347,348,349,350,351,352,353,354,355,356,357,358,359,360,361,362,363,364,365,366,367,368,369,370,371,372,373,374,375,376,377,378,379,380,381,382,383,384,385,386,387,388,389,390,391,392,393,394,395,396,397,398,399,400,401,402,403,404,405,406,407,408,409,410,411,412,413,414,415,416,417,418,419,420,421,422,423,424,425,426,427,428,429,430,431,432,433,434,435,436,437,438,439,440,441,442,443,444,445,446,447,448,449,450,451,452,453,454,455,456,457,458,459,460,461,462,463,464,465,466,467,468,469,470,471,472,473,474,475,476,477,478,479,480,481,482,483,484,485,486,487,488,489,490,491,492,493,494,495,496,497,498,499,500,501,502,503,504,505,506,507,508,509,510,511,512,513,514,515,516,517,518,519,520,521,522,523,524,525,526,527,528,529,530,531,532,533,534,535,536,537,538,539,540,541,542,543,544,545,546,547,548,549,552,553,554,555,556,557,558,559,560,561,562,563,564]},\"selected\":{\"id\":\"1738\"},\"selection_policy\":{\"id\":\"1737\"}},\"id\":\"1669\",\"type\":\"ColumnDataSource\"},{\"attributes\":{\"distribution\":\"normal\",\"range\":{\"id\":\"1637\"},\"width\":0.1},\"id\":\"1668\",\"type\":\"Jitter\"},{\"attributes\":{\"coordinates\":null,\"group\":null,\"text\":\"Page views by docs page (2022-06-15 to 2022-10-17)\"},\"id\":\"1635\",\"type\":\"Title\"},{\"attributes\":{},\"id\":\"1655\",\"type\":\"SaveTool\"}],\"root_ids\":[\"1634\"]},\"title\":\"Bokeh Application\",\"version\":\"2.4.3\"}};\n",
       "  const render_items = [{\"docid\":\"a977f588-4d9c-4d1c-bd35-c82b80ab7fbf\",\"root_ids\":[\"1634\"],\"roots\":{\"1634\":\"cea67ac8-a8ac-4a52-aad1-ae1a09542e6b\"}}];\n",
       "  root.Bokeh.embed.embed_items_notebook(docs_json, render_items);\n",
       "  }\n",
       "  if (root.Bokeh !== undefined) {\n",
       "    embed_document(root);\n",
       "  } else {\n",
       "    let attempts = 0;\n",
       "    const timer = setInterval(function(root) {\n",
       "      if (root.Bokeh !== undefined) {\n",
       "        clearInterval(timer);\n",
       "        embed_document(root);\n",
       "      } else {\n",
       "        attempts++;\n",
       "        if (attempts > 100) {\n",
       "          clearInterval(timer);\n",
       "          console.log(\"Bokeh: ERROR: Unable to run BokehJS code because BokehJS library is missing\");\n",
       "        }\n",
       "      }\n",
       "    }, 10, root)\n",
       "  }\n",
       "})(window);"
      ],
      "application/vnd.bokehjs_exec.v0+json": ""
     },
     "metadata": {
      "application/vnd.bokehjs_exec.v0+json": {
       "id": "1634"
      }
     },
     "output_type": "display_data"
    }
   ],
   "source": [
    "subset = pathviews.loc[pathviews['Prefix'].isin(prefixes), :]\n",
    "\n",
    "p = figure(x_range=prefixes, height=350, tooltips=[(\"URL\", \"@Path\"), (\"Views\", \"@Views\")],\n",
    "           title=f\"Page views by docs page ({data_period})\")\n",
    "p.scatter(x=jitter('Prefix', width=0.1, range=p.x_range, distribution='normal'),\n",
    "          y='Views', source=subset)\n",
    "p.yaxis.axis_label = 'Total page views'\n",
    "show(p)"
   ]
  },
  {
   "cell_type": "code",
   "execution_count": 10,
   "id": "972fdc7f-a1fd-41ae-b7e6-f0b6a6092b14",
   "metadata": {
    "execution": {
     "iopub.execute_input": "2022-10-17T17:07:50.203291Z",
     "iopub.status.busy": "2022-10-17T17:07:50.202959Z",
     "iopub.status.idle": "2022-10-17T17:07:50.482183Z",
     "shell.execute_reply": "2022-10-17T17:07:50.481356Z"
    }
   },
   "outputs": [
    {
     "data": {
      "text/html": [
       "\n",
       "  <div class=\"bk-root\" id=\"7ce45a54-6602-49c5-96b8-edadad7b42ba\" data-root-id=\"1790\"></div>\n"
      ]
     },
     "metadata": {},
     "output_type": "display_data"
    },
    {
     "data": {
      "application/javascript": [
       "(function(root) {\n",
       "  function embed_document(root) {\n",
       "  const docs_json = {\"9906f0b4-4e15-4e73-8f50-3c4625635cd5\":{\"defs\":[],\"roots\":{\"references\":[{\"attributes\":{\"below\":[{\"id\":\"1801\"}],\"center\":[{\"id\":\"1804\"},{\"id\":\"1807\"}],\"height\":400,\"left\":[{\"id\":\"1805\"}],\"renderers\":[{\"id\":\"1829\"}],\"title\":{\"id\":\"1791\"},\"toolbar\":{\"id\":\"1816\"},\"x_range\":{\"id\":\"1793\"},\"x_scale\":{\"id\":\"1797\"},\"y_range\":{\"id\":\"1795\"},\"y_scale\":{\"id\":\"1799\"}},\"id\":\"1790\",\"subtype\":\"Figure\",\"type\":\"Plot\"},{\"attributes\":{\"axis_label\":\"Total page views\",\"coordinates\":null,\"formatter\":{\"id\":\"1900\"},\"group\":null,\"major_label_policy\":{\"id\":\"1901\"},\"ticker\":{\"id\":\"1802\"}},\"id\":\"1801\",\"type\":\"LinearAxis\"},{\"attributes\":{\"callback\":null,\"tooltips\":[[\"URL\",\"@Path\"],[\"Views\",\"@Views\"]]},\"id\":\"1815\",\"type\":\"HoverTool\"},{\"attributes\":{\"source\":{\"id\":\"1824\"}},\"id\":\"1830\",\"type\":\"CDSView\"},{\"attributes\":{\"coordinates\":null,\"data_source\":{\"id\":\"1824\"},\"glyph\":{\"id\":\"1826\"},\"group\":null,\"hover_glyph\":null,\"muted_glyph\":{\"id\":\"1828\"},\"nonselection_glyph\":{\"id\":\"1827\"},\"view\":{\"id\":\"1830\"}},\"id\":\"1829\",\"type\":\"GlyphRenderer\"},{\"attributes\":{},\"id\":\"1901\",\"type\":\"AllLabels\"},{\"attributes\":{},\"id\":\"1902\",\"type\":\"UnionRenderers\"},{\"attributes\":{\"bottom_units\":\"screen\",\"coordinates\":null,\"fill_alpha\":0.5,\"fill_color\":\"lightgrey\",\"group\":null,\"left_units\":\"screen\",\"level\":\"overlay\",\"line_alpha\":1.0,\"line_color\":\"black\",\"line_dash\":[4,4],\"line_width\":2,\"right_units\":\"screen\",\"syncable\":false,\"top_units\":\"screen\"},\"id\":\"1814\",\"type\":\"BoxAnnotation\"},{\"attributes\":{},\"id\":\"1799\",\"type\":\"CategoricalScale\"},{\"attributes\":{},\"id\":\"1903\",\"type\":\"Selection\"},{\"attributes\":{\"factors\":[\"/gallery/irradiance-transposition/plot_ghi_transposition.html\",\"/gallery/solar-position/plot_sunpath_diagrams.html\",\"/gallery/bifacial/plot_bifi_model_pvwatts.html\",\"/gallery/iv-modeling/plot_singlediode.html\",\"/gallery/irradiance-transposition/plot_mixed_orientation.html\",\"/gallery/bifacial/plot_bifi_model_mc.html\",\"/gallery/spectrum/plot_spectrl2_fig51A.html\",\"/gallery/irradiance-transposition/plot_seasonal_tilt.html\",\"/gallery/bifacial/plot_pvfactors_fixed_tilt.html\",\"/gallery/shading/plot_partial_module_shading_simple.html\",\"/gallery/solar-tracking/plot_single_axis_tracking.html\",\"/gallery/irradiance-transposition/plot_interval_transposition_error.html\",\"/gallery/shading/plot_passias_diffuse_shading.html\",\"/gallery/irradiance-transposition/plot_transposition_gain.html\",\"/gallery/reflections/plot_diffuse_aoi_correction.html\",\"/gallery/solar-tracking/plot_single_axis_tracking_on_sloped_terrain.html\",\"/gallery/soiling/plot_greensboro_kimber_soiling.html\",\"/gallery/solar-tracking/plot_dual_axis_tracking.html\",\"/gallery/soiling/plot_fig3A_hsu_soiling_example.html\",\"/gallery/solar-tracking/plot_discontinuous_tracking.html\"]},\"id\":\"1795\",\"type\":\"FactorRange\"},{\"attributes\":{\"fill_color\":{\"value\":\"#1f77b4\"},\"height\":{\"value\":0.75},\"line_color\":{\"value\":\"white\"},\"right\":{\"field\":\"Views\"},\"y\":{\"field\":\"Path\"}},\"id\":\"1826\",\"type\":\"HBar\"},{\"attributes\":{},\"id\":\"1793\",\"type\":\"DataRange1d\"},{\"attributes\":{\"fill_alpha\":{\"value\":0.2},\"fill_color\":{\"value\":\"#1f77b4\"},\"hatch_alpha\":{\"value\":0.2},\"height\":{\"value\":0.75},\"line_alpha\":{\"value\":0.2},\"line_color\":{\"value\":\"white\"},\"right\":{\"field\":\"Views\"},\"y\":{\"field\":\"Path\"}},\"id\":\"1828\",\"type\":\"HBar\"},{\"attributes\":{\"axis\":{\"id\":\"1801\"},\"coordinates\":null,\"group\":null,\"ticker\":null},\"id\":\"1804\",\"type\":\"Grid\"},{\"attributes\":{},\"id\":\"1802\",\"type\":\"BasicTicker\"},{\"attributes\":{\"data\":{\"Path\":[\"/gallery/irradiance-transposition/plot_ghi_transposition.html\",\"/gallery/solar-position/plot_sunpath_diagrams.html\",\"/gallery/bifacial/plot_bifi_model_pvwatts.html\",\"/gallery/iv-modeling/plot_singlediode.html\",\"/gallery/irradiance-transposition/plot_mixed_orientation.html\",\"/gallery/bifacial/plot_bifi_model_mc.html\",\"/gallery/spectrum/plot_spectrl2_fig51A.html\",\"/gallery/irradiance-transposition/plot_seasonal_tilt.html\",\"/gallery/bifacial/plot_pvfactors_fixed_tilt.html\",\"/gallery/shading/plot_partial_module_shading_simple.html\",\"/gallery/solar-tracking/plot_single_axis_tracking.html\",\"/gallery/irradiance-transposition/plot_interval_transposition_error.html\",\"/gallery/shading/plot_passias_diffuse_shading.html\",\"/gallery/irradiance-transposition/plot_transposition_gain.html\",\"/gallery/reflections/plot_diffuse_aoi_correction.html\",\"/gallery/solar-tracking/plot_single_axis_tracking_on_sloped_terrain.html\",\"/gallery/soiling/plot_greensboro_kimber_soiling.html\",\"/gallery/solar-tracking/plot_dual_axis_tracking.html\",\"/gallery/soiling/plot_fig3A_hsu_soiling_example.html\",\"/gallery/solar-tracking/plot_discontinuous_tracking.html\"],\"Prefix\":[\"gallery\",\"gallery\",\"gallery\",\"gallery\",\"gallery\",\"gallery\",\"gallery\",\"gallery\",\"gallery\",\"gallery\",\"gallery\",\"gallery\",\"gallery\",\"gallery\",\"gallery\",\"gallery\",\"gallery\",\"gallery\",\"gallery\",\"gallery\"],\"Views\":[1887,1243,1175,1004,923,881,764,727,640,635,623,588,520,485,429,417,410,405,342,263],\"index\":[47,63,43,53,49,42,70,50,44,57,67,48,58,51,55,68,61,66,60,65]},\"selected\":{\"id\":\"1903\"},\"selection_policy\":{\"id\":\"1902\"}},\"id\":\"1824\",\"type\":\"ColumnDataSource\"},{\"attributes\":{\"fill_alpha\":{\"value\":0.1},\"fill_color\":{\"value\":\"#1f77b4\"},\"hatch_alpha\":{\"value\":0.1},\"height\":{\"value\":0.75},\"line_alpha\":{\"value\":0.1},\"line_color\":{\"value\":\"white\"},\"right\":{\"field\":\"Views\"},\"y\":{\"field\":\"Path\"}},\"id\":\"1827\",\"type\":\"HBar\"},{\"attributes\":{},\"id\":\"1797\",\"type\":\"LinearScale\"},{\"attributes\":{},\"id\":\"1806\",\"type\":\"CategoricalTicker\"},{\"attributes\":{\"tools\":[{\"id\":\"1808\"},{\"id\":\"1809\"},{\"id\":\"1810\"},{\"id\":\"1811\"},{\"id\":\"1812\"},{\"id\":\"1813\"},{\"id\":\"1815\"}]},\"id\":\"1816\",\"type\":\"Toolbar\"},{\"attributes\":{\"axis\":{\"id\":\"1805\"},\"coordinates\":null,\"dimension\":1,\"group\":null,\"ticker\":null},\"id\":\"1807\",\"type\":\"Grid\"},{\"attributes\":{},\"id\":\"1812\",\"type\":\"ResetTool\"},{\"attributes\":{},\"id\":\"1809\",\"type\":\"WheelZoomTool\"},{\"attributes\":{},\"id\":\"1811\",\"type\":\"SaveTool\"},{\"attributes\":{},\"id\":\"1897\",\"type\":\"CategoricalTickFormatter\"},{\"attributes\":{\"overlay\":{\"id\":\"1814\"}},\"id\":\"1810\",\"type\":\"BoxZoomTool\"},{\"attributes\":{},\"id\":\"1808\",\"type\":\"PanTool\"},{\"attributes\":{\"coordinates\":null,\"formatter\":{\"id\":\"1897\"},\"group\":null,\"major_label_policy\":{\"id\":\"1898\"},\"ticker\":{\"id\":\"1806\"}},\"id\":\"1805\",\"type\":\"CategoricalAxis\"},{\"attributes\":{},\"id\":\"1813\",\"type\":\"HelpTool\"},{\"attributes\":{},\"id\":\"1898\",\"type\":\"AllLabels\"},{\"attributes\":{},\"id\":\"1900\",\"type\":\"BasicTickFormatter\"},{\"attributes\":{\"coordinates\":null,\"group\":null,\"text\":\"gallery: Views by URL (Top 20, 2022-06-15 to 2022-10-17)\"},\"id\":\"1791\",\"type\":\"Title\"}],\"root_ids\":[\"1790\"]},\"title\":\"Bokeh Application\",\"version\":\"2.4.3\"}};\n",
       "  const render_items = [{\"docid\":\"9906f0b4-4e15-4e73-8f50-3c4625635cd5\",\"root_ids\":[\"1790\"],\"roots\":{\"1790\":\"7ce45a54-6602-49c5-96b8-edadad7b42ba\"}}];\n",
       "  root.Bokeh.embed.embed_items_notebook(docs_json, render_items);\n",
       "  }\n",
       "  if (root.Bokeh !== undefined) {\n",
       "    embed_document(root);\n",
       "  } else {\n",
       "    let attempts = 0;\n",
       "    const timer = setInterval(function(root) {\n",
       "      if (root.Bokeh !== undefined) {\n",
       "        clearInterval(timer);\n",
       "        embed_document(root);\n",
       "      } else {\n",
       "        attempts++;\n",
       "        if (attempts > 100) {\n",
       "          clearInterval(timer);\n",
       "          console.log(\"Bokeh: ERROR: Unable to run BokehJS code because BokehJS library is missing\");\n",
       "        }\n",
       "      }\n",
       "    }, 10, root)\n",
       "  }\n",
       "})(window);"
      ],
      "application/vnd.bokehjs_exec.v0+json": ""
     },
     "metadata": {
      "application/vnd.bokehjs_exec.v0+json": {
       "id": "1790"
      }
     },
     "output_type": "display_data"
    },
    {
     "data": {
      "text/html": [
       "\n",
       "  <div class=\"bk-root\" id=\"8b279cae-1a32-478e-84da-ec51fdb229c0\" data-root-id=\"1955\"></div>\n"
      ]
     },
     "metadata": {},
     "output_type": "display_data"
    },
    {
     "data": {
      "application/javascript": [
       "(function(root) {\n",
       "  function embed_document(root) {\n",
       "  const docs_json = {\"0a015502-c65b-4193-81f4-dfb123935c23\":{\"defs\":[],\"roots\":{\"references\":[{\"attributes\":{\"below\":[{\"id\":\"1966\"}],\"center\":[{\"id\":\"1969\"},{\"id\":\"1972\"}],\"height\":400,\"left\":[{\"id\":\"1970\"}],\"renderers\":[{\"id\":\"1994\"}],\"title\":{\"id\":\"1956\"},\"toolbar\":{\"id\":\"1981\"},\"x_range\":{\"id\":\"1958\"},\"x_scale\":{\"id\":\"1962\"},\"y_range\":{\"id\":\"1960\"},\"y_scale\":{\"id\":\"1964\"}},\"id\":\"1955\",\"subtype\":\"Figure\",\"type\":\"Plot\"},{\"attributes\":{\"coordinates\":null,\"formatter\":{\"id\":\"2072\"},\"group\":null,\"major_label_policy\":{\"id\":\"2073\"},\"ticker\":{\"id\":\"1971\"}},\"id\":\"1970\",\"type\":\"CategoricalAxis\"},{\"attributes\":{\"axis_label\":\"Total page views\",\"coordinates\":null,\"formatter\":{\"id\":\"2075\"},\"group\":null,\"major_label_policy\":{\"id\":\"2076\"},\"ticker\":{\"id\":\"1967\"}},\"id\":\"1966\",\"type\":\"LinearAxis\"},{\"attributes\":{\"axis\":{\"id\":\"1966\"},\"coordinates\":null,\"group\":null,\"ticker\":null},\"id\":\"1969\",\"type\":\"Grid\"},{\"attributes\":{},\"id\":\"2072\",\"type\":\"CategoricalTickFormatter\"},{\"attributes\":{},\"id\":\"1964\",\"type\":\"CategoricalScale\"},{\"attributes\":{},\"id\":\"2073\",\"type\":\"AllLabels\"},{\"attributes\":{\"axis\":{\"id\":\"1970\"},\"coordinates\":null,\"dimension\":1,\"group\":null,\"ticker\":null},\"id\":\"1972\",\"type\":\"Grid\"},{\"attributes\":{},\"id\":\"2075\",\"type\":\"BasicTickFormatter\"},{\"attributes\":{},\"id\":\"1971\",\"type\":\"CategoricalTicker\"},{\"attributes\":{\"tools\":[{\"id\":\"1973\"},{\"id\":\"1974\"},{\"id\":\"1975\"},{\"id\":\"1976\"},{\"id\":\"1977\"},{\"id\":\"1978\"},{\"id\":\"1980\"}]},\"id\":\"1981\",\"type\":\"Toolbar\"},{\"attributes\":{\"data\":{\"Path\":[\"/reference/pv_modeling.html\",\"/reference/irradiance.html\",\"/reference/generated/pvlib.pvsystem.PVSystem.html\",\"/reference/generated/pvlib.irradiance.get_total_irradiance.html\",\"/reference/generated/pvlib.location.Location.get_clearsky.html\",\"/reference/solarposition.html\",\"/reference/clearsky.html\",\"/reference/generated/pvlib.solarposition.get_solarposition.html\",\"/reference/generated/pvlib.location.Location.get_solarposition.html\",\"/reference/generated/pvlib.modelchain.ModelChain.html\",\"/reference/generated/pvlib.location.Location.html\",\"/reference/generated/pvlib.iotools.get_pvgis_tmy.html\",\"/reference/generated/pvlib.iotools.get_pvgis_hourly.html\",\"/reference/generated/pvlib.temperature.sapm_cell.html\",\"/reference/generated/pvlib.pvsystem.PVSystem.get_irradiance.html\",\"/reference/effects_on_pv_system_output.html\",\"/reference/generated/pvlib.irradiance.perez.html\",\"/reference/generated/pvlib.pvsystem.retrieve_sam.html\",\"/reference/generated/pvlib.pvsystem.pvwatts_dc.html\",\"/reference/generated/pvlib.pvsystem.Array.html\"],\"Prefix\":[\"reference\",\"reference\",\"reference\",\"reference\",\"reference\",\"reference\",\"reference\",\"reference\",\"reference\",\"reference\",\"reference\",\"reference\",\"reference\",\"reference\",\"reference\",\"reference\",\"reference\",\"reference\",\"reference\",\"reference\"],\"Views\":[1957,1382,1176,1147,1004,960,857,814,781,765,716,678,600,573,556,554,547,543,542,540],\"index\":[546,543,414,311,332,548,91,469,333,352,335,275,274,505,413,92,317,441,439,396]},\"selected\":{\"id\":\"2078\"},\"selection_policy\":{\"id\":\"2077\"}},\"id\":\"1989\",\"type\":\"ColumnDataSource\"},{\"attributes\":{},\"id\":\"2076\",\"type\":\"AllLabels\"},{\"attributes\":{},\"id\":\"1974\",\"type\":\"WheelZoomTool\"},{\"attributes\":{},\"id\":\"1973\",\"type\":\"PanTool\"},{\"attributes\":{\"overlay\":{\"id\":\"1979\"}},\"id\":\"1975\",\"type\":\"BoxZoomTool\"},{\"attributes\":{\"fill_alpha\":{\"value\":0.1},\"fill_color\":{\"value\":\"#1f77b4\"},\"hatch_alpha\":{\"value\":0.1},\"height\":{\"value\":0.75},\"line_alpha\":{\"value\":0.1},\"line_color\":{\"value\":\"white\"},\"right\":{\"field\":\"Views\"},\"y\":{\"field\":\"Path\"}},\"id\":\"1992\",\"type\":\"HBar\"},{\"attributes\":{},\"id\":\"1976\",\"type\":\"SaveTool\"},{\"attributes\":{\"fill_alpha\":{\"value\":0.2},\"fill_color\":{\"value\":\"#1f77b4\"},\"hatch_alpha\":{\"value\":0.2},\"height\":{\"value\":0.75},\"line_alpha\":{\"value\":0.2},\"line_color\":{\"value\":\"white\"},\"right\":{\"field\":\"Views\"},\"y\":{\"field\":\"Path\"}},\"id\":\"1993\",\"type\":\"HBar\"},{\"attributes\":{},\"id\":\"1977\",\"type\":\"ResetTool\"},{\"attributes\":{\"coordinates\":null,\"data_source\":{\"id\":\"1989\"},\"glyph\":{\"id\":\"1991\"},\"group\":null,\"hover_glyph\":null,\"muted_glyph\":{\"id\":\"1993\"},\"nonselection_glyph\":{\"id\":\"1992\"},\"view\":{\"id\":\"1995\"}},\"id\":\"1994\",\"type\":\"GlyphRenderer\"},{\"attributes\":{\"bottom_units\":\"screen\",\"coordinates\":null,\"fill_alpha\":0.5,\"fill_color\":\"lightgrey\",\"group\":null,\"left_units\":\"screen\",\"level\":\"overlay\",\"line_alpha\":1.0,\"line_color\":\"black\",\"line_dash\":[4,4],\"line_width\":2,\"right_units\":\"screen\",\"syncable\":false,\"top_units\":\"screen\"},\"id\":\"1979\",\"type\":\"BoxAnnotation\"},{\"attributes\":{},\"id\":\"2077\",\"type\":\"UnionRenderers\"},{\"attributes\":{},\"id\":\"2078\",\"type\":\"Selection\"},{\"attributes\":{\"factors\":[\"/reference/pv_modeling.html\",\"/reference/irradiance.html\",\"/reference/generated/pvlib.pvsystem.PVSystem.html\",\"/reference/generated/pvlib.irradiance.get_total_irradiance.html\",\"/reference/generated/pvlib.location.Location.get_clearsky.html\",\"/reference/solarposition.html\",\"/reference/clearsky.html\",\"/reference/generated/pvlib.solarposition.get_solarposition.html\",\"/reference/generated/pvlib.location.Location.get_solarposition.html\",\"/reference/generated/pvlib.modelchain.ModelChain.html\",\"/reference/generated/pvlib.location.Location.html\",\"/reference/generated/pvlib.iotools.get_pvgis_tmy.html\",\"/reference/generated/pvlib.iotools.get_pvgis_hourly.html\",\"/reference/generated/pvlib.temperature.sapm_cell.html\",\"/reference/generated/pvlib.pvsystem.PVSystem.get_irradiance.html\",\"/reference/effects_on_pv_system_output.html\",\"/reference/generated/pvlib.irradiance.perez.html\",\"/reference/generated/pvlib.pvsystem.retrieve_sam.html\",\"/reference/generated/pvlib.pvsystem.pvwatts_dc.html\",\"/reference/generated/pvlib.pvsystem.Array.html\"]},\"id\":\"1960\",\"type\":\"FactorRange\"},{\"attributes\":{},\"id\":\"1967\",\"type\":\"BasicTicker\"},{\"attributes\":{},\"id\":\"1958\",\"type\":\"DataRange1d\"},{\"attributes\":{},\"id\":\"1978\",\"type\":\"HelpTool\"},{\"attributes\":{\"fill_color\":{\"value\":\"#1f77b4\"},\"height\":{\"value\":0.75},\"line_color\":{\"value\":\"white\"},\"right\":{\"field\":\"Views\"},\"y\":{\"field\":\"Path\"}},\"id\":\"1991\",\"type\":\"HBar\"},{\"attributes\":{},\"id\":\"1962\",\"type\":\"LinearScale\"},{\"attributes\":{\"source\":{\"id\":\"1989\"}},\"id\":\"1995\",\"type\":\"CDSView\"},{\"attributes\":{\"coordinates\":null,\"group\":null,\"text\":\"reference: Views by URL (Top 20, 2022-06-15 to 2022-10-17)\"},\"id\":\"1956\",\"type\":\"Title\"},{\"attributes\":{\"callback\":null,\"tooltips\":[[\"URL\",\"@Path\"],[\"Views\",\"@Views\"]]},\"id\":\"1980\",\"type\":\"HoverTool\"}],\"root_ids\":[\"1955\"]},\"title\":\"Bokeh Application\",\"version\":\"2.4.3\"}};\n",
       "  const render_items = [{\"docid\":\"0a015502-c65b-4193-81f4-dfb123935c23\",\"root_ids\":[\"1955\"],\"roots\":{\"1955\":\"8b279cae-1a32-478e-84da-ec51fdb229c0\"}}];\n",
       "  root.Bokeh.embed.embed_items_notebook(docs_json, render_items);\n",
       "  }\n",
       "  if (root.Bokeh !== undefined) {\n",
       "    embed_document(root);\n",
       "  } else {\n",
       "    let attempts = 0;\n",
       "    const timer = setInterval(function(root) {\n",
       "      if (root.Bokeh !== undefined) {\n",
       "        clearInterval(timer);\n",
       "        embed_document(root);\n",
       "      } else {\n",
       "        attempts++;\n",
       "        if (attempts > 100) {\n",
       "          clearInterval(timer);\n",
       "          console.log(\"Bokeh: ERROR: Unable to run BokehJS code because BokehJS library is missing\");\n",
       "        }\n",
       "      }\n",
       "    }, 10, root)\n",
       "  }\n",
       "})(window);"
      ],
      "application/vnd.bokehjs_exec.v0+json": ""
     },
     "metadata": {
      "application/vnd.bokehjs_exec.v0+json": {
       "id": "1955"
      }
     },
     "output_type": "display_data"
    },
    {
     "data": {
      "text/html": [
       "\n",
       "  <div class=\"bk-root\" id=\"46893296-7c12-4a74-a832-0952189e7704\" data-root-id=\"2130\"></div>\n"
      ]
     },
     "metadata": {},
     "output_type": "display_data"
    },
    {
     "data": {
      "application/javascript": [
       "(function(root) {\n",
       "  function embed_document(root) {\n",
       "  const docs_json = {\"06487e21-5e63-4248-a917-b3702e03ddff\":{\"defs\":[],\"roots\":{\"references\":[{\"attributes\":{\"below\":[{\"id\":\"2141\"}],\"center\":[{\"id\":\"2144\"},{\"id\":\"2147\"}],\"height\":240,\"left\":[{\"id\":\"2145\"}],\"renderers\":[{\"id\":\"2169\"}],\"title\":{\"id\":\"2131\"},\"toolbar\":{\"id\":\"2156\"},\"x_range\":{\"id\":\"2133\"},\"x_scale\":{\"id\":\"2137\"},\"y_range\":{\"id\":\"2135\"},\"y_scale\":{\"id\":\"2139\"}},\"id\":\"2130\",\"subtype\":\"Figure\",\"type\":\"Plot\"},{\"attributes\":{\"coordinates\":null,\"formatter\":{\"id\":\"2257\"},\"group\":null,\"major_label_policy\":{\"id\":\"2258\"},\"ticker\":{\"id\":\"2146\"}},\"id\":\"2145\",\"type\":\"CategoricalAxis\"},{\"attributes\":{\"coordinates\":null,\"group\":null,\"text\":\"user_guide: Views by URL (2022-06-15 to 2022-10-17)\"},\"id\":\"2131\",\"type\":\"Title\"},{\"attributes\":{\"axis_label\":\"Total page views\",\"coordinates\":null,\"formatter\":{\"id\":\"2260\"},\"group\":null,\"major_label_policy\":{\"id\":\"2261\"},\"ticker\":{\"id\":\"2142\"}},\"id\":\"2141\",\"type\":\"LinearAxis\"},{\"attributes\":{},\"id\":\"2139\",\"type\":\"CategoricalScale\"},{\"attributes\":{},\"id\":\"2257\",\"type\":\"CategoricalTickFormatter\"},{\"attributes\":{\"factors\":[\"/user_guide/pvsystem.html\",\"/user_guide/introtutorial.html\",\"/user_guide/installation.html\",\"/user_guide/forecasts.html\",\"/user_guide/modelchain.html\",\"/user_guide/package_overview.html\",\"/user_guide/clearsky.html\",\"/user_guide/timetimezones.html\",\"/user_guide/bifacial.html\",\"/user_guide/variables_style_rules.html\",\"/user_guide/singlediode.html\",\"/user_guide/comparison_pvlib_matlab.html\"]},\"id\":\"2135\",\"type\":\"FactorRange\"},{\"attributes\":{\"axis\":{\"id\":\"2145\"},\"coordinates\":null,\"dimension\":1,\"group\":null,\"ticker\":null},\"id\":\"2147\",\"type\":\"Grid\"},{\"attributes\":{},\"id\":\"2146\",\"type\":\"CategoricalTicker\"},{\"attributes\":{},\"id\":\"2258\",\"type\":\"AllLabels\"},{\"attributes\":{\"tools\":[{\"id\":\"2148\"},{\"id\":\"2149\"},{\"id\":\"2150\"},{\"id\":\"2151\"},{\"id\":\"2152\"},{\"id\":\"2153\"},{\"id\":\"2155\"}]},\"id\":\"2156\",\"type\":\"Toolbar\"},{\"attributes\":{},\"id\":\"2149\",\"type\":\"WheelZoomTool\"},{\"attributes\":{},\"id\":\"2260\",\"type\":\"BasicTickFormatter\"},{\"attributes\":{},\"id\":\"2148\",\"type\":\"PanTool\"},{\"attributes\":{\"overlay\":{\"id\":\"2154\"}},\"id\":\"2150\",\"type\":\"BoxZoomTool\"},{\"attributes\":{},\"id\":\"2151\",\"type\":\"SaveTool\"},{\"attributes\":{},\"id\":\"2261\",\"type\":\"AllLabels\"},{\"attributes\":{},\"id\":\"2152\",\"type\":\"ResetTool\"},{\"attributes\":{\"fill_color\":{\"value\":\"#1f77b4\"},\"height\":{\"value\":0.75},\"line_color\":{\"value\":\"white\"},\"right\":{\"field\":\"Views\"},\"y\":{\"field\":\"Path\"}},\"id\":\"2166\",\"type\":\"HBar\"},{\"attributes\":{\"axis\":{\"id\":\"2141\"},\"coordinates\":null,\"group\":null,\"ticker\":null},\"id\":\"2144\",\"type\":\"Grid\"},{\"attributes\":{\"fill_alpha\":{\"value\":0.2},\"fill_color\":{\"value\":\"#1f77b4\"},\"hatch_alpha\":{\"value\":0.2},\"height\":{\"value\":0.75},\"line_alpha\":{\"value\":0.2},\"line_color\":{\"value\":\"white\"},\"right\":{\"field\":\"Views\"},\"y\":{\"field\":\"Path\"}},\"id\":\"2168\",\"type\":\"HBar\"},{\"attributes\":{\"bottom_units\":\"screen\",\"coordinates\":null,\"fill_alpha\":0.5,\"fill_color\":\"lightgrey\",\"group\":null,\"left_units\":\"screen\",\"level\":\"overlay\",\"line_alpha\":1.0,\"line_color\":\"black\",\"line_dash\":[4,4],\"line_width\":2,\"right_units\":\"screen\",\"syncable\":false,\"top_units\":\"screen\"},\"id\":\"2154\",\"type\":\"BoxAnnotation\"},{\"attributes\":{\"source\":{\"id\":\"2164\"}},\"id\":\"2170\",\"type\":\"CDSView\"},{\"attributes\":{},\"id\":\"2262\",\"type\":\"UnionRenderers\"},{\"attributes\":{},\"id\":\"2133\",\"type\":\"DataRange1d\"},{\"attributes\":{},\"id\":\"2263\",\"type\":\"Selection\"},{\"attributes\":{\"data\":{\"Path\":[\"/user_guide/pvsystem.html\",\"/user_guide/introtutorial.html\",\"/user_guide/installation.html\",\"/user_guide/forecasts.html\",\"/user_guide/modelchain.html\",\"/user_guide/package_overview.html\",\"/user_guide/clearsky.html\",\"/user_guide/timetimezones.html\",\"/user_guide/bifacial.html\",\"/user_guide/variables_style_rules.html\",\"/user_guide/singlediode.html\",\"/user_guide/comparison_pvlib_matlab.html\"],\"Prefix\":[\"user_guide\",\"user_guide\",\"user_guide\",\"user_guide\",\"user_guide\",\"user_guide\",\"user_guide\",\"user_guide\",\"user_guide\",\"user_guide\",\"user_guide\",\"user_guide\"],\"Views\":[3982,3959,3743,2854,2380,2147,1879,1038,948,771,621,566],\"index\":[561,558,557,555,559,560,553,563,552,564,562,554]},\"selected\":{\"id\":\"2263\"},\"selection_policy\":{\"id\":\"2262\"}},\"id\":\"2164\",\"type\":\"ColumnDataSource\"},{\"attributes\":{},\"id\":\"2142\",\"type\":\"BasicTicker\"},{\"attributes\":{\"coordinates\":null,\"data_source\":{\"id\":\"2164\"},\"glyph\":{\"id\":\"2166\"},\"group\":null,\"hover_glyph\":null,\"muted_glyph\":{\"id\":\"2168\"},\"nonselection_glyph\":{\"id\":\"2167\"},\"view\":{\"id\":\"2170\"}},\"id\":\"2169\",\"type\":\"GlyphRenderer\"},{\"attributes\":{\"callback\":null,\"tooltips\":[[\"URL\",\"@Path\"],[\"Views\",\"@Views\"]]},\"id\":\"2155\",\"type\":\"HoverTool\"},{\"attributes\":{\"fill_alpha\":{\"value\":0.1},\"fill_color\":{\"value\":\"#1f77b4\"},\"hatch_alpha\":{\"value\":0.1},\"height\":{\"value\":0.75},\"line_alpha\":{\"value\":0.1},\"line_color\":{\"value\":\"white\"},\"right\":{\"field\":\"Views\"},\"y\":{\"field\":\"Path\"}},\"id\":\"2167\",\"type\":\"HBar\"},{\"attributes\":{},\"id\":\"2137\",\"type\":\"LinearScale\"},{\"attributes\":{},\"id\":\"2153\",\"type\":\"HelpTool\"}],\"root_ids\":[\"2130\"]},\"title\":\"Bokeh Application\",\"version\":\"2.4.3\"}};\n",
       "  const render_items = [{\"docid\":\"06487e21-5e63-4248-a917-b3702e03ddff\",\"root_ids\":[\"2130\"],\"roots\":{\"2130\":\"46893296-7c12-4a74-a832-0952189e7704\"}}];\n",
       "  root.Bokeh.embed.embed_items_notebook(docs_json, render_items);\n",
       "  }\n",
       "  if (root.Bokeh !== undefined) {\n",
       "    embed_document(root);\n",
       "  } else {\n",
       "    let attempts = 0;\n",
       "    const timer = setInterval(function(root) {\n",
       "      if (root.Bokeh !== undefined) {\n",
       "        clearInterval(timer);\n",
       "        embed_document(root);\n",
       "      } else {\n",
       "        attempts++;\n",
       "        if (attempts > 100) {\n",
       "          clearInterval(timer);\n",
       "          console.log(\"Bokeh: ERROR: Unable to run BokehJS code because BokehJS library is missing\");\n",
       "        }\n",
       "      }\n",
       "    }, 10, root)\n",
       "  }\n",
       "})(window);"
      ],
      "application/vnd.bokehjs_exec.v0+json": ""
     },
     "metadata": {
      "application/vnd.bokehjs_exec.v0+json": {
       "id": "2130"
      }
     },
     "output_type": "display_data"
    }
   ],
   "source": [
    "for prefix in prefixes:\n",
    "    subset = pathviews.loc[pathviews['Prefix'] == prefix, :]\n",
    "    subset = subset.loc[~subset['Path'].str.endswith('/index.html'), :]\n",
    "    subset = subset.sort_values('Views', ascending=False)[:n]\n",
    "\n",
    "    height = (400 // 20) * len(subset)\n",
    "    extra = f\"Top {n}, \" if len(subset) == n else ''\n",
    "    p = figure(y_range=subset['Path'], height=height, tooltips=[(\"URL\", \"@Path\"), (\"Views\", \"@Views\")],\n",
    "               title=f\"{prefix}: Views by URL ({extra}{data_period})\")\n",
    "    p.hbar(y='Path', right='Views', source=subset, height=0.75,\n",
    "           line_color='white')\n",
    "    p.xaxis.axis_label = 'Total page views'\n",
    "    show(p)"
   ]
  },
  {
   "cell_type": "code",
   "execution_count": 11,
   "id": "fb866ea0-7fca-412b-88ce-07d2a1ab378b",
   "metadata": {
    "execution": {
     "iopub.execute_input": "2022-10-17T17:07:50.486738Z",
     "iopub.status.busy": "2022-10-17T17:07:50.486047Z",
     "iopub.status.idle": "2022-10-17T17:07:50.657283Z",
     "shell.execute_reply": "2022-10-17T17:07:50.656476Z"
    }
   },
   "outputs": [
    {
     "data": {
      "text/html": [
       "\n",
       "  <div class=\"bk-root\" id=\"8020433d-b667-46ba-bdcf-dd723a6417fc\" data-root-id=\"2315\"></div>\n"
      ]
     },
     "metadata": {},
     "output_type": "display_data"
    },
    {
     "data": {
      "application/javascript": [
       "(function(root) {\n",
       "  function embed_document(root) {\n",
       "  const docs_json = {\"a2f4f793-398b-43f9-b0df-a39843e862ce\":{\"defs\":[],\"roots\":{\"references\":[{\"attributes\":{\"below\":[{\"id\":\"2326\"}],\"center\":[{\"id\":\"2329\"},{\"id\":\"2333\"},{\"id\":\"2366\"}],\"height\":350,\"left\":[{\"id\":\"2330\"}],\"renderers\":[{\"id\":\"2354\"},{\"id\":\"2372\"},{\"id\":\"2391\"}],\"title\":{\"id\":\"2316\"},\"toolbar\":{\"id\":\"2341\"},\"x_range\":{\"id\":\"2318\"},\"x_scale\":{\"id\":\"2322\"},\"y_range\":{\"id\":\"2320\"},\"y_scale\":{\"id\":\"2324\"}},\"id\":\"2315\",\"subtype\":\"Figure\",\"type\":\"Plot\"},{\"attributes\":{},\"id\":\"2383\",\"type\":\"UnionRenderers\"},{\"attributes\":{\"coordinates\":null,\"group\":null,\"items\":[{\"id\":\"2367\"},{\"id\":\"2386\"},{\"id\":\"2407\"}],\"location\":\"top_left\"},\"id\":\"2366\",\"type\":\"Legend\"},{\"attributes\":{\"source\":{\"id\":\"2368\"}},\"id\":\"2373\",\"type\":\"CDSView\"},{\"attributes\":{},\"id\":\"2359\",\"type\":\"AllLabels\"},{\"attributes\":{\"callback\":null,\"tooltips\":[[\"Days since release\",\"@x\"],[\"Cumulative Views\",\"@y\"]]},\"id\":\"2348\",\"type\":\"HoverTool\"},{\"attributes\":{\"line_alpha\":0.2,\"line_color\":\"#1f77b4\",\"x\":{\"field\":\"x\"},\"y\":{\"field\":\"y\"}},\"id\":\"2353\",\"type\":\"Line\"},{\"attributes\":{\"data\":{\"x\":[0,1,2,3,4,5,6,7,8,9,10,11,12,13,14,15,16,17,18,19,20,21,22,23,24,25,26,27,28,29,30,31,32,33,34,35,36,37,38,39,40,41,42,43,44,45,46,47,48,49,50,51,52,53,54,55,56,57,58,59,78,79,80,81,82,83,84,85,86,87,88,89,90,91,92,93,94,95,96,97,98,99,100,101,102,103,104,105,106,107,108,109,110,111,112,113,114,115,116,117,118,119,120,121,122,123,124,125,126,127,128,129,130,131,132,133,134,135,136,137,138,139,140,141,142,143,144,145,146,147,148,149,150,151,152,153,154,155,156,157,158,159,160,161,162,163,164,165,166,167,168,169,170,171,172,173,174,175,176,177,178,179,180,181,182,183,184,185,186,187,188,189,190,191,192,193,194,195,196,197,198,199,200,201,202],\"y\":{\"__ndarray__\":\"AAAAAAColUAAAAAAAAyeQAAAAAAAlKNAAAAAAABAr0AAAAAAAGS1QAAAAAAANrxAAAAAAID5wEAAAAAAAGzDQAAAAACAksRAAAAAAACFxUAAAAAAgFrIQAAAAAAAWstAAAAAAIALzkAAAAAAQIHQQAAAAAAAw9FAAAAAAMBQ0kAAAAAAALrSQAAAAADA3tNAAAAAAMBl1UAAAAAAQEnWQAAAAADAX9dAAAAAAABO2EAAAAAAwKvYQAAAAAAATNlAAAAAAIBX2kAAAAAAAKvbQAAAAADA69xAAAAAAAAA+H8AAAAAAAD4fwAAAAAAAPh/AAAAAAAA+H8AAAAAAAD4fwAAAAAAAPh/AAAAAAAA+H8AAAAAAAD4fwAAAAAAAPh/AAAAAAAA+H8AAAAAAAD4fwAAAAAAAPh/AAAAAAAA+H8AAAAAAAD4fwAAAAAAAPh/AAAAAAAA+H8AAAAAAAD4fwAAAAAAAPh/AAAAAAAA+H8AAAAAAAD4fwAAAAAAAPh/AAAAAAAA+H8AAAAAAAD4fwAAAAAAAPh/AAAAAAAA+H8AAAAAAAD4fwAAAAAAAPh/AAAAAAAA+H8AAAAAAAD4fwAAAAAAAPh/AAAAAAAA+H8AAAAAAAD4fwAAAAAAAPh/AAAAAAAA+H8AAAAAAAD4fwAAAAAAAPh/AAAAAAAA+H8AAAAAAAD4fwAAAAAAAPh/AAAAAAAA+H8AAAAAAAD4fwAAAAAAAPh/AAAAAAAA+H8AAAAAAAD4fwAAAAAAAPh/AAAAAAAA+H8AAAAAAAD4fwAAAAAAAPh/AAAAAAAA+H8AAAAAAAD4fwAAAAAAAPh/AAAAAAAA+H8AAAAAAAD4fwAAAAAAAPh/AAAAAAAA+H8AAAAAAAD4fwAAAAAAAPh/AAAAAAAA+H8AAAAAAAD4fwAAAAAAAPh/AAAAAAAA+H8AAAAAAAD4fwAAAAAAAPh/AAAAAAAA+H8AAAAAAAD4fwAAAAAAAPh/AAAAAAAA+H8AAAAAAAD4fwAAAAAAAPh/AAAAAAAA+H8AAAAAAAD4fwAAAAAAAPh/AAAAAAAA+H8AAAAAAAD4fwAAAAAAAPh/AAAAAAAA+H8AAAAAAAD4fwAAAAAAAPh/AAAAAAAA+H8AAAAAAAD4fwAAAAAAAPh/AAAAAAAA+H8AAAAAAAD4fwAAAAAAAPh/AAAAAAAA+H8AAAAAAAD4fwAAAAAAAPh/AAAAAAAA+H8AAAAAAAD4fwAAAAAAAPh/AAAAAAAA+H8AAAAAAAD4fwAAAAAAAPh/AAAAAAAA+H8AAAAAAAD4fwAAAAAAAPh/AAAAAAAA+H8AAAAAAAD4fwAAAAAAAPh/AAAAAAAA+H8AAAAAAAD4fwAAAAAAAPh/AAAAAAAA+H8AAAAAAAD4fwAAAAAAAPh/AAAAAAAA+H8AAAAAAAD4fwAAAAAAAPh/AAAAAAAA+H8AAAAAAAD4fwAAAAAAAPh/AAAAAAAA+H8AAAAAAAD4fwAAAAAAAPh/AAAAAAAA+H8AAAAAAAD4fwAAAAAAAPh/AAAAAAAA+H8AAAAAAAD4fwAAAAAAAPh/AAAAAAAA+H8AAAAAAAD4fwAAAAAAAPh/AAAAAAAA+H8AAAAAAAD4fwAAAAAAAPh/AAAAAAAA+H8AAAAAAAD4fwAAAAAAAPh/AAAAAAAA+H8AAAAAAAD4fwAAAAAAAPh/AAAAAAAA+H8AAAAAAAD4fwAAAAAAAPh/AAAAAAAA+H8AAAAAAAD4fwAAAAAAAPh/AAAAAAAA+H8AAAAAAAD4fwAAAAAAAPh/AAAAAAAA+H8AAAAAAAD4fwAAAAAAAPh/AAAAAAAA+H8AAAAAAAD4fwAAAAAAAPh/AAAAAAAA+H8AAAAAAAD4fwAAAAAAAPh/AAAAAAAA+H8AAAAAAAD4fwAAAAAAAPh/AAAAAAAA+H8AAAAAAAD4fwAAAAAAAPh/AAAAAAAA+H8AAAAAAAD4fw==\",\"dtype\":\"float64\",\"order\":\"little\",\"shape\":[185]}},\"selected\":{\"id\":\"2384\"},\"selection_policy\":{\"id\":\"2383\"}},\"id\":\"2368\",\"type\":\"ColumnDataSource\"},{\"attributes\":{\"overlay\":{\"id\":\"2340\"}},\"id\":\"2336\",\"type\":\"BoxZoomTool\"},{\"attributes\":{},\"id\":\"2361\",\"type\":\"BasicTickFormatter\"},{\"attributes\":{\"line_alpha\":0.1,\"line_color\":\"#1f77b4\",\"x\":{\"field\":\"x\"},\"y\":{\"field\":\"y\"}},\"id\":\"2352\",\"type\":\"Line\"},{\"attributes\":{},\"id\":\"2384\",\"type\":\"Selection\"},{\"attributes\":{\"tools\":[{\"id\":\"2334\"},{\"id\":\"2335\"},{\"id\":\"2336\"},{\"id\":\"2337\"},{\"id\":\"2338\"},{\"id\":\"2339\"},{\"id\":\"2348\"}]},\"id\":\"2341\",\"type\":\"Toolbar\"},{\"attributes\":{\"data\":{\"x\":[0,1,2,3,4,5,6,7,8,9,10,11,12,13,14,15,16,17,18,19,20,21,22,23,24,25,26,27,28,29,30,31,32,33,34,35,36,37,38,39,40,41,42,43,44,45,46,47,48,49,50,51,52,53,54,55,56,57,58,59,78,79,80,81,82,83,84,85,86,87,88,89,90,91,92,93,94,95,96,97,98,99,100,101,102,103,104,105,106,107,108,109,110,111,112,113,114,115,116,117,118,119,120,121,122,123,124,125,126,127,128,129,130,131,132,133,134,135,136,137,138,139,140,141,142,143,144,145,146,147,148,149,150,151,152,153,154,155,156,157,158,159,160,161,162,163,164,165,166,167,168,169,170,171,172,173,174,175,176,177,178,179,180,181,182,183,184,185,186,187,188,189,190,191,192,193,194,195,196,197,198,199,200,201,202],\"y\":{\"__ndarray__\":\"AAAAAACMk0AAAAAAAJyiQAAAAAAA+qZAAAAAAADKqkAAAAAAAEeyQAAAAAAA/7dAAAAAAADJvEAAAAAAABTBQAAAAAAA0sJAAAAAAIDbw0AAAAAAgJ7EQAAAAAAAa8dAAAAAAICryUAAAAAAAJ7MQAAAAACAyM5AAAAAAMBi0EAAAAAAwMbQQAAAAABAMtFAAAAAAEBI0kAAAAAAQLrTQAAAAADAwtRAAAAAAMDl1UAAAAAAAPbWQAAAAACAZ9dAAAAAAMAC2EAAAAAAwDjZQAAAAABAi9pAAAAAAMCx20AAAAAAgE/dQAAAAABAkN5AAAAAAEAL30AAAAAAwMzfQAAAAAAgX+BAAAAAAAAA+H8AAAAAAAD4fwAAAAAAAPh/AAAAAAAA+H8AAAAAAAD4fwAAAAAAAPh/AAAAAAAA+H8AAAAAAAD4fwAAAAAAAPh/AAAAAAAA+H8AAAAAAAD4fwAAAAAAAPh/AAAAAAAA+H8AAAAAAAD4fwAAAAAAAPh/AAAAAAAA+H8AAAAAAAD4fwAAAAAAAPh/AAAAAAAA+H8AAAAAAAD4fwAAAAAAAPh/AAAAAAAA+H8AAAAAAAD4fwAAAAAAAPh/AAAAAAAA+H8AAAAAAAD4fwAAAAAAAPh/AAAAAAAA+H8AAAAAAAD4fwAAAAAAAPh/AAAAAAAA+H8AAAAAAAD4fwAAAAAAAPh/AAAAAAAA+H8AAAAAAAD4fwAAAAAAAPh/AAAAAAAA+H8AAAAAAAD4fwAAAAAAAPh/AAAAAAAA+H8AAAAAAAD4fwAAAAAAAPh/AAAAAAAA+H8AAAAAAAD4fwAAAAAAAPh/AAAAAAAA+H8AAAAAAAD4fwAAAAAAAPh/AAAAAAAA+H8AAAAAAAD4fwAAAAAAAPh/AAAAAAAA+H8AAAAAAAD4fwAAAAAAAPh/AAAAAAAA+H8AAAAAAAD4fwAAAAAAAPh/AAAAAAAA+H8AAAAAAAD4fwAAAAAAAPh/AAAAAAAA+H8AAAAAAAD4fwAAAAAAAPh/AAAAAAAA+H8AAAAAAAD4fwAAAAAAAPh/AAAAAAAA+H8AAAAAAAD4fwAAAAAAAPh/AAAAAAAA+H8AAAAAAAD4fwAAAAAAAPh/AAAAAAAA+H8AAAAAAAD4fwAAAAAAAPh/AAAAAAAA+H8AAAAAAAD4fwAAAAAAAPh/AAAAAAAA+H8AAAAAAAD4fwAAAAAAAPh/AAAAAAAA+H8AAAAAAAD4fwAAAAAAAPh/AAAAAAAA+H8AAAAAAAD4fwAAAAAAAPh/AAAAAAAA+H8AAAAAAAD4fwAAAAAAAPh/AAAAAAAA+H8AAAAAAAD4fwAAAAAAAPh/AAAAAAAA+H8AAAAAAAD4fwAAAAAAAPh/AAAAAAAA+H8AAAAAAAD4fwAAAAAAAPh/AAAAAAAA+H8AAAAAAAD4fwAAAAAAAPh/AAAAAAAA+H8AAAAAAAD4fwAAAAAAAPh/AAAAAAAA+H8AAAAAAAD4fwAAAAAAAPh/AAAAAAAA+H8AAAAAAAD4fwAAAAAAAPh/AAAAAAAA+H8AAAAAAAD4fwAAAAAAAPh/AAAAAAAA+H8AAAAAAAD4fwAAAAAAAPh/AAAAAAAA+H8AAAAAAAD4fwAAAAAAAPh/AAAAAAAA+H8AAAAAAAD4fwAAAAAAAPh/AAAAAAAA+H8AAAAAAAD4fwAAAAAAAPh/AAAAAAAA+H8AAAAAAAD4fwAAAAAAAPh/AAAAAAAA+H8AAAAAAAD4fwAAAAAAAPh/AAAAAAAA+H8AAAAAAAD4fwAAAAAAAPh/AAAAAAAA+H8AAAAAAAD4fwAAAAAAAPh/AAAAAAAA+H8AAAAAAAD4fwAAAAAAAPh/AAAAAAAA+H8AAAAAAAD4fwAAAAAAAPh/AAAAAAAA+H8AAAAAAAD4fwAAAAAAAPh/AAAAAAAA+H8AAAAAAAD4fwAAAAAAAPh/AAAAAAAA+H8AAAAAAAD4fw==\",\"dtype\":\"float64\",\"order\":\"little\",\"shape\":[185]}},\"selected\":{\"id\":\"2405\"},\"selection_policy\":{\"id\":\"2404\"}},\"id\":\"2387\",\"type\":\"ColumnDataSource\"},{\"attributes\":{},\"id\":\"2338\",\"type\":\"ResetTool\"},{\"attributes\":{\"axis\":{\"id\":\"2326\"},\"coordinates\":null,\"group\":null,\"ticker\":null},\"id\":\"2329\",\"type\":\"Grid\"},{\"attributes\":{},\"id\":\"2363\",\"type\":\"UnionRenderers\"},{\"attributes\":{\"line_color\":\"#1f77b4\",\"x\":{\"field\":\"x\"},\"y\":{\"field\":\"y\"}},\"id\":\"2351\",\"type\":\"Line\"},{\"attributes\":{\"coordinates\":null,\"data_source\":{\"id\":\"2387\"},\"glyph\":{\"id\":\"2388\"},\"group\":null,\"hover_glyph\":null,\"muted_glyph\":{\"id\":\"2390\"},\"nonselection_glyph\":{\"id\":\"2389\"},\"view\":{\"id\":\"2392\"}},\"id\":\"2391\",\"type\":\"GlyphRenderer\"},{\"attributes\":{},\"id\":\"2364\",\"type\":\"Selection\"},{\"attributes\":{\"line_color\":\"#ff7f0e\",\"x\":{\"field\":\"x\"},\"y\":{\"field\":\"y\"}},\"id\":\"2369\",\"type\":\"Line\"},{\"attributes\":{\"line_alpha\":0.2,\"line_color\":\"#2ca02c\",\"x\":{\"field\":\"x\"},\"y\":{\"field\":\"y\"}},\"id\":\"2390\",\"type\":\"Line\"},{\"attributes\":{},\"id\":\"2324\",\"type\":\"LinearScale\"},{\"attributes\":{\"source\":{\"id\":\"2387\"}},\"id\":\"2392\",\"type\":\"CDSView\"},{\"attributes\":{},\"id\":\"2335\",\"type\":\"WheelZoomTool\"},{\"attributes\":{},\"id\":\"2337\",\"type\":\"SaveTool\"},{\"attributes\":{\"line_alpha\":0.1,\"line_color\":\"#2ca02c\",\"x\":{\"field\":\"x\"},\"y\":{\"field\":\"y\"}},\"id\":\"2389\",\"type\":\"Line\"},{\"attributes\":{\"label\":{\"value\":\"v0.9.2\"},\"renderers\":[{\"id\":\"2372\"}]},\"id\":\"2386\",\"type\":\"LegendItem\"},{\"attributes\":{},\"id\":\"2404\",\"type\":\"UnionRenderers\"},{\"attributes\":{\"axis\":{\"id\":\"2330\"},\"coordinates\":null,\"dimension\":1,\"group\":null,\"ticker\":null},\"id\":\"2333\",\"type\":\"Grid\"},{\"attributes\":{\"line_color\":\"#2ca02c\",\"x\":{\"field\":\"x\"},\"y\":{\"field\":\"y\"}},\"id\":\"2388\",\"type\":\"Line\"},{\"attributes\":{\"axis_label\":\"Total page views\",\"coordinates\":null,\"formatter\":{\"id\":\"2358\"},\"group\":null,\"major_label_policy\":{\"id\":\"2359\"},\"ticker\":{\"id\":\"2331\"}},\"id\":\"2330\",\"type\":\"LinearAxis\"},{\"attributes\":{\"coordinates\":null,\"data_source\":{\"id\":\"2368\"},\"glyph\":{\"id\":\"2369\"},\"group\":null,\"hover_glyph\":null,\"muted_glyph\":{\"id\":\"2371\"},\"nonselection_glyph\":{\"id\":\"2370\"},\"view\":{\"id\":\"2373\"}},\"id\":\"2372\",\"type\":\"GlyphRenderer\"},{\"attributes\":{\"line_alpha\":0.2,\"line_color\":\"#ff7f0e\",\"x\":{\"field\":\"x\"},\"y\":{\"field\":\"y\"}},\"id\":\"2371\",\"type\":\"Line\"},{\"attributes\":{\"label\":{\"value\":\"v0.9.3\"},\"renderers\":[{\"id\":\"2391\"}]},\"id\":\"2407\",\"type\":\"LegendItem\"},{\"attributes\":{\"data\":{\"x\":[0,1,2,3,4,5,6,7,8,9,10,11,12,13,14,15,16,17,18,19,20,21,22,23,24,25,26,27,28,29,30,31,32,33,34,35,36,37,38,39,40,41,42,43,44,45,46,47,48,49,50,51,52,53,54,55,56,57,58,59,78,79,80,81,82,83,84,85,86,87,88,89,90,91,92,93,94,95,96,97,98,99,100,101,102,103,104,105,106,107,108,109,110,111,112,113,114,115,116,117,118,119,120,121,122,123,124,125,126,127,128,129,130,131,132,133,134,135,136,137,138,139,140,141,142,143,144,145,146,147,148,149,150,151,152,153,154,155,156,157,158,159,160,161,162,163,164,165,166,167,168,169,170,171,172,173,174,175,176,177,178,179,180,181,182,183,184,185,186,187,188,189,190,191,192,193,194,195,196,197,198,199,200,201,202],\"y\":{\"__ndarray__\":\"AAAAAAAA+H8AAAAAAAD4fwAAAAAAAPh/AAAAAAAA+H8AAAAAAAD4fwAAAAAAAPh/AAAAAAAA+H8AAAAAAAD4fwAAAAAAAPh/AAAAAAAA+H8AAAAAAAD4fwAAAAAAAPh/AAAAAAAA+H8AAAAAAAD4fwAAAAAAAPh/AAAAAAAA+H8AAAAAAAD4fwAAAAAAAPh/AAAAAAAA+H8AAAAAAAD4fwAAAAAAAPh/AAAAAAAA+H8AAAAAAAD4fwAAAAAAAPh/AAAAAAAA+H8AAAAAAAD4fwAAAAAAAPh/AAAAAAAA+H8AAAAAAAD4fwAAAAAAAPh/AAAAAAAA+H8AAAAAAAD4fwAAAAAAAPh/AAAAAAAA+H8AAAAAAAD4fwAAAAAAAPh/AAAAAAAA+H8AAAAAAAD4fwAAAAAAAPh/AAAAAAAA+H8AAAAAAAD4fwAAAAAAAPh/AAAAAAAA+H8AAAAAAAD4fwAAAAAAAPh/AAAAAAAA+H8AAAAAAAD4fwAAAAAAAPh/AAAAAAAA+H8AAAAAAAD4fwAAAAAAAPh/AAAAAAAA+H8AAAAAAAD4fwAAAAAAAPh/AAAAAAAA+H8AAAAAAAD4fwAAAAAAAPh/AAAAAAAA+H8AAAAAAAD4fwAAAAAAAPh/AAAAAABgmEAAAAAAAESmQAAAAAAA8LBAAAAAAADZskAAAAAAAKm0QAAAAAAAK7tAAAAAAADHwEAAAAAAAFLDQAAAAAAAYsVAAAAAAICdx0AAAAAAgKbIQAAAAACAbslAAAAAAIABzUAAAAAAQJjQQAAAAADAFdJAAAAAAMBm00AAAAAAAG/UQAAAAADA2tRAAAAAAMBi1UAAAAAAQMnWQAAAAAAAQdhAAAAAAMBi2UAAAAAAQM7aQAAAAADAEtxAAAAAAEB/3EAAAAAAwN3cQAAAAAAAPN5AAAAAAICE30AAAAAAQFbgQAAAAABADOFAAAAAAOB74UAAAAAAILLhQAAAAACg2+FAAAAAAIB34kAAAAAA4DbjQAAAAABAz+NAAAAAAOBo5EAAAAAAAOfkQAAAAADgIeVAAAAAAIBg5UAAAAAAoP7lQAAAAAAgs+ZAAAAAACBV50AAAAAAIPznQAAAAADAgehAAAAAAGC16EAAAAAAIPvoQAAAAADgsOlAAAAAACBf6kAAAAAAoBjrQAAAAAAg3etAAAAAACBl7EAAAAAAgLLsQAAAAACA7uxAAAAAAKCZ7UAAAAAAoG/uQAAAAADAMe9AAAAAAIDL70AAAAAA0DDwQAAAAADgR/BAAAAAANBd8EAAAAAAoKjwQAAAAAAg9PBAAAAAAOBj8UAAAAAAYL3xQAAAAAAAAPh/AAAAAAAA+H8AAAAAAAD4fwAAAAAAAPh/AAAAAAAA+H8AAAAAAAD4fwAAAAAAAPh/AAAAAAAA+H8AAAAAAAD4fwAAAAAAAPh/AAAAAAAA+H8AAAAAAAD4fwAAAAAAAPh/AAAAAAAA+H8AAAAAAAD4fwAAAAAAAPh/AAAAAAAA+H8AAAAAAAD4fwAAAAAAAPh/AAAAAAAA+H8AAAAAAAD4fwAAAAAAAPh/AAAAAAAA+H8AAAAAAAD4fwAAAAAAAPh/AAAAAAAA+H8AAAAAAAD4fwAAAAAAAPh/AAAAAAAA+H8AAAAAAAD4fwAAAAAAAPh/AAAAAAAA+H8AAAAAAAD4fwAAAAAAAPh/AAAAAAAA+H8AAAAAAAD4fwAAAAAAAPh/AAAAAAAA+H8AAAAAAAD4fwAAAAAAAPh/AAAAAAAA+H8AAAAAAAD4fwAAAAAAAPh/AAAAAAAA+H8AAAAAAAD4fwAAAAAAAPh/AAAAAAAA+H8AAAAAAAD4fwAAAAAAAPh/AAAAAAAA+H8AAAAAAAD4fwAAAAAAAPh/AAAAAAAA+H8AAAAAAAD4fwAAAAAAAPh/AAAAAAAA+H8AAAAAAAD4fwAAAAAAAPh/AAAAAAAA+H8AAAAAAAD4fw==\",\"dtype\":\"float64\",\"order\":\"little\",\"shape\":[185]}},\"selected\":{\"id\":\"2364\"},\"selection_policy\":{\"id\":\"2363\"}},\"id\":\"2350\",\"type\":\"ColumnDataSource\"},{\"attributes\":{},\"id\":\"2322\",\"type\":\"LinearScale\"},{\"attributes\":{},\"id\":\"2405\",\"type\":\"Selection\"},{\"attributes\":{},\"id\":\"2318\",\"type\":\"DataRange1d\"},{\"attributes\":{},\"id\":\"2334\",\"type\":\"PanTool\"},{\"attributes\":{\"coordinates\":null,\"formatter\":{\"id\":\"2361\"},\"group\":null,\"major_label_policy\":{\"id\":\"2362\"},\"ticker\":{\"id\":\"2327\"}},\"id\":\"2326\",\"type\":\"LinearAxis\"},{\"attributes\":{\"bottom_units\":\"screen\",\"coordinates\":null,\"fill_alpha\":0.5,\"fill_color\":\"lightgrey\",\"group\":null,\"left_units\":\"screen\",\"level\":\"overlay\",\"line_alpha\":1.0,\"line_color\":\"black\",\"line_dash\":[4,4],\"line_width\":2,\"right_units\":\"screen\",\"syncable\":false,\"top_units\":\"screen\"},\"id\":\"2340\",\"type\":\"BoxAnnotation\"},{\"attributes\":{},\"id\":\"2320\",\"type\":\"DataRange1d\"},{\"attributes\":{\"coordinates\":null,\"data_source\":{\"id\":\"2350\"},\"glyph\":{\"id\":\"2351\"},\"group\":null,\"hover_glyph\":null,\"muted_glyph\":{\"id\":\"2353\"},\"nonselection_glyph\":{\"id\":\"2352\"},\"view\":{\"id\":\"2355\"}},\"id\":\"2354\",\"type\":\"GlyphRenderer\"},{\"attributes\":{},\"id\":\"2339\",\"type\":\"HelpTool\"},{\"attributes\":{},\"id\":\"2358\",\"type\":\"BasicTickFormatter\"},{\"attributes\":{},\"id\":\"2327\",\"type\":\"BasicTicker\"},{\"attributes\":{\"label\":{\"value\":\"v0.9.1 (partial)\"},\"renderers\":[{\"id\":\"2354\"}]},\"id\":\"2367\",\"type\":\"LegendItem\"},{\"attributes\":{\"coordinates\":null,\"group\":null,\"text\":\"Cumulative views since release date (2022-06-15 to 2022-10-17)\"},\"id\":\"2316\",\"type\":\"Title\"},{\"attributes\":{},\"id\":\"2331\",\"type\":\"BasicTicker\"},{\"attributes\":{\"source\":{\"id\":\"2350\"}},\"id\":\"2355\",\"type\":\"CDSView\"},{\"attributes\":{\"line_alpha\":0.1,\"line_color\":\"#ff7f0e\",\"x\":{\"field\":\"x\"},\"y\":{\"field\":\"y\"}},\"id\":\"2370\",\"type\":\"Line\"},{\"attributes\":{},\"id\":\"2362\",\"type\":\"AllLabels\"}],\"root_ids\":[\"2315\"]},\"title\":\"Bokeh Application\",\"version\":\"2.4.3\"}};\n",
       "  const render_items = [{\"docid\":\"a2f4f793-398b-43f9-b0df-a39843e862ce\",\"root_ids\":[\"2315\"],\"roots\":{\"2315\":\"8020433d-b667-46ba-bdcf-dd723a6417fc\"}}];\n",
       "  root.Bokeh.embed.embed_items_notebook(docs_json, render_items);\n",
       "  }\n",
       "  if (root.Bokeh !== undefined) {\n",
       "    embed_document(root);\n",
       "  } else {\n",
       "    let attempts = 0;\n",
       "    const timer = setInterval(function(root) {\n",
       "      if (root.Bokeh !== undefined) {\n",
       "        clearInterval(timer);\n",
       "        embed_document(root);\n",
       "      } else {\n",
       "        attempts++;\n",
       "        if (attempts > 100) {\n",
       "          clearInterval(timer);\n",
       "          console.log(\"Bokeh: ERROR: Unable to run BokehJS code because BokehJS library is missing\");\n",
       "        }\n",
       "      }\n",
       "    }, 10, root)\n",
       "  }\n",
       "})(window);"
      ],
      "application/vnd.bokehjs_exec.v0+json": ""
     },
     "metadata": {
      "application/vnd.bokehjs_exec.v0+json": {
       "id": "2315"
      }
     },
     "output_type": "display_data"
    }
   ],
   "source": [
    "release_dates = {\n",
    "    'v0.9.1': '2022-03-29',\n",
    "    'v0.9.2': '2022-08-19',\n",
    "    'v0.9.3': '2022-09-15',\n",
    "}\n",
    "stable = df.loc[df['Version'] == 'stable', :].copy()\n",
    "stable['Real_Version'] = '?'\n",
    "for version, date in release_dates.items():\n",
    "    stable.loc[stable['Date'] >= date, 'Real_Version'] = version\n",
    "\n",
    "pivot = stable.pivot_table(values='Views', index='Date', columns='Real_Version', aggfunc='sum')\n",
    "realigned = pd.DataFrame({\n",
    "    version: pd.Series(pivot.loc[date:, version].values, index=(pivot.loc[date:, :].index - pd.to_datetime(date)).days)\n",
    "    for version, date in release_dates.items()\n",
    "}).cumsum()\n",
    "\n",
    "tab10 = ['#1f77b4', '#ff7f0e', '#2ca02c', '#d62728', '#9467bd', '#8c564b', '#e377c2', '#7f7f7f', '#bcbd22', '#17becf']\n",
    "\n",
    "p = figure(height=350, title=f\"Cumulative views since release date ({data_period})\")\n",
    "hover_tool = HoverTool(tooltips=[('Days since release', '@x'), ('Cumulative Views', '@y')])\n",
    "hover_tool.point_policy = 'snap_to_data'\n",
    "p.add_tools(hover_tool)\n",
    "\n",
    "for i, column in enumerate(realigned.columns):\n",
    "    label = column\n",
    "    if column == 'v0.9.1':\n",
    "        label = label + ' (partial)'\n",
    "    p.line(realigned.index, realigned[column], legend_label=label, color=tab10[i])\n",
    "\n",
    "p.yaxis.axis_label = 'Total page views'\n",
    "p.legend.location = \"top_left\"\n",
    "show(p)"
   ]
  },
  {
   "cell_type": "code",
   "execution_count": null,
   "id": "96bb65ea-a47a-419e-8d0e-7f50e01387dc",
   "metadata": {},
   "outputs": [],
   "source": []
  }
 ],
 "metadata": {
  "kernelspec": {
   "display_name": "Python 3 (ipykernel)",
   "language": "python",
   "name": "python3"
  },
  "language_info": {
   "codemirror_mode": {
    "name": "ipython",
    "version": 3
   },
   "file_extension": ".py",
   "mimetype": "text/x-python",
   "name": "python",
   "nbconvert_exporter": "python",
   "pygments_lexer": "ipython3",
   "version": "3.9.14"
  }
 },
 "nbformat": 4,
 "nbformat_minor": 5
}

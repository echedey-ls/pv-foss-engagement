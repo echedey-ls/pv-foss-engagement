{
 "cells": [
  {
   "cell_type": "markdown",
   "id": "9a51a013-8798-4327-bd2b-5aaf0427cda4",
   "metadata": {},
   "source": [
    "# pvlib-python"
   ]
  },
  {
   "cell_type": "code",
   "execution_count": 1,
   "id": "7fd1c91b-b8c5-4523-b450-6ec20e325a20",
   "metadata": {
    "execution": {
     "iopub.execute_input": "2022-10-14T19:43:53.231417Z",
     "iopub.status.busy": "2022-10-14T19:43:53.230887Z",
     "iopub.status.idle": "2022-10-14T19:43:53.829191Z",
     "shell.execute_reply": "2022-10-14T19:43:53.828243Z"
    }
   },
   "outputs": [],
   "source": [
    "from utils import get_analytics_data\n",
    "\n",
    "from bokeh.plotting import figure, show\n",
    "from bokeh.models import HoverTool\n",
    "from bokeh.transform import jitter\n",
    "from bokeh.io import output_notebook"
   ]
  },
  {
   "cell_type": "code",
   "execution_count": 2,
   "id": "c29a742f-afdc-4643-a075-05291935c913",
   "metadata": {
    "execution": {
     "iopub.execute_input": "2022-10-14T19:43:53.834470Z",
     "iopub.status.busy": "2022-10-14T19:43:53.834114Z",
     "iopub.status.idle": "2022-10-14T19:43:53.848865Z",
     "shell.execute_reply": "2022-10-14T19:43:53.847990Z"
    }
   },
   "outputs": [
    {
     "data": {
      "text/html": [
       "<div class=\"bk-root\">\n",
       "        <a href=\"https://bokeh.org\" target=\"_blank\" class=\"bk-logo bk-logo-small bk-logo-notebook\"></a>\n",
       "        <span id=\"1002\">Loading BokehJS ...</span>\n",
       "    </div>\n"
      ]
     },
     "metadata": {},
     "output_type": "display_data"
    },
    {
     "data": {
      "application/javascript": [
       "(function(root) {\n",
       "  function now() {\n",
       "    return new Date();\n",
       "  }\n",
       "\n",
       "  const force = true;\n",
       "\n",
       "  if (typeof root._bokeh_onload_callbacks === \"undefined\" || force === true) {\n",
       "    root._bokeh_onload_callbacks = [];\n",
       "    root._bokeh_is_loading = undefined;\n",
       "  }\n",
       "\n",
       "const JS_MIME_TYPE = 'application/javascript';\n",
       "  const HTML_MIME_TYPE = 'text/html';\n",
       "  const EXEC_MIME_TYPE = 'application/vnd.bokehjs_exec.v0+json';\n",
       "  const CLASS_NAME = 'output_bokeh rendered_html';\n",
       "\n",
       "  /**\n",
       "   * Render data to the DOM node\n",
       "   */\n",
       "  function render(props, node) {\n",
       "    const script = document.createElement(\"script\");\n",
       "    node.appendChild(script);\n",
       "  }\n",
       "\n",
       "  /**\n",
       "   * Handle when an output is cleared or removed\n",
       "   */\n",
       "  function handleClearOutput(event, handle) {\n",
       "    const cell = handle.cell;\n",
       "\n",
       "    const id = cell.output_area._bokeh_element_id;\n",
       "    const server_id = cell.output_area._bokeh_server_id;\n",
       "    // Clean up Bokeh references\n",
       "    if (id != null && id in Bokeh.index) {\n",
       "      Bokeh.index[id].model.document.clear();\n",
       "      delete Bokeh.index[id];\n",
       "    }\n",
       "\n",
       "    if (server_id !== undefined) {\n",
       "      // Clean up Bokeh references\n",
       "      const cmd_clean = \"from bokeh.io.state import curstate; print(curstate().uuid_to_server['\" + server_id + \"'].get_sessions()[0].document.roots[0]._id)\";\n",
       "      cell.notebook.kernel.execute(cmd_clean, {\n",
       "        iopub: {\n",
       "          output: function(msg) {\n",
       "            const id = msg.content.text.trim();\n",
       "            if (id in Bokeh.index) {\n",
       "              Bokeh.index[id].model.document.clear();\n",
       "              delete Bokeh.index[id];\n",
       "            }\n",
       "          }\n",
       "        }\n",
       "      });\n",
       "      // Destroy server and session\n",
       "      const cmd_destroy = \"import bokeh.io.notebook as ion; ion.destroy_server('\" + server_id + \"')\";\n",
       "      cell.notebook.kernel.execute(cmd_destroy);\n",
       "    }\n",
       "  }\n",
       "\n",
       "  /**\n",
       "   * Handle when a new output is added\n",
       "   */\n",
       "  function handleAddOutput(event, handle) {\n",
       "    const output_area = handle.output_area;\n",
       "    const output = handle.output;\n",
       "\n",
       "    // limit handleAddOutput to display_data with EXEC_MIME_TYPE content only\n",
       "    if ((output.output_type != \"display_data\") || (!Object.prototype.hasOwnProperty.call(output.data, EXEC_MIME_TYPE))) {\n",
       "      return\n",
       "    }\n",
       "\n",
       "    const toinsert = output_area.element.find(\".\" + CLASS_NAME.split(' ')[0]);\n",
       "\n",
       "    if (output.metadata[EXEC_MIME_TYPE][\"id\"] !== undefined) {\n",
       "      toinsert[toinsert.length - 1].firstChild.textContent = output.data[JS_MIME_TYPE];\n",
       "      // store reference to embed id on output_area\n",
       "      output_area._bokeh_element_id = output.metadata[EXEC_MIME_TYPE][\"id\"];\n",
       "    }\n",
       "    if (output.metadata[EXEC_MIME_TYPE][\"server_id\"] !== undefined) {\n",
       "      const bk_div = document.createElement(\"div\");\n",
       "      bk_div.innerHTML = output.data[HTML_MIME_TYPE];\n",
       "      const script_attrs = bk_div.children[0].attributes;\n",
       "      for (let i = 0; i < script_attrs.length; i++) {\n",
       "        toinsert[toinsert.length - 1].firstChild.setAttribute(script_attrs[i].name, script_attrs[i].value);\n",
       "        toinsert[toinsert.length - 1].firstChild.textContent = bk_div.children[0].textContent\n",
       "      }\n",
       "      // store reference to server id on output_area\n",
       "      output_area._bokeh_server_id = output.metadata[EXEC_MIME_TYPE][\"server_id\"];\n",
       "    }\n",
       "  }\n",
       "\n",
       "  function register_renderer(events, OutputArea) {\n",
       "\n",
       "    function append_mime(data, metadata, element) {\n",
       "      // create a DOM node to render to\n",
       "      const toinsert = this.create_output_subarea(\n",
       "        metadata,\n",
       "        CLASS_NAME,\n",
       "        EXEC_MIME_TYPE\n",
       "      );\n",
       "      this.keyboard_manager.register_events(toinsert);\n",
       "      // Render to node\n",
       "      const props = {data: data, metadata: metadata[EXEC_MIME_TYPE]};\n",
       "      render(props, toinsert[toinsert.length - 1]);\n",
       "      element.append(toinsert);\n",
       "      return toinsert\n",
       "    }\n",
       "\n",
       "    /* Handle when an output is cleared or removed */\n",
       "    events.on('clear_output.CodeCell', handleClearOutput);\n",
       "    events.on('delete.Cell', handleClearOutput);\n",
       "\n",
       "    /* Handle when a new output is added */\n",
       "    events.on('output_added.OutputArea', handleAddOutput);\n",
       "\n",
       "    /**\n",
       "     * Register the mime type and append_mime function with output_area\n",
       "     */\n",
       "    OutputArea.prototype.register_mime_type(EXEC_MIME_TYPE, append_mime, {\n",
       "      /* Is output safe? */\n",
       "      safe: true,\n",
       "      /* Index of renderer in `output_area.display_order` */\n",
       "      index: 0\n",
       "    });\n",
       "  }\n",
       "\n",
       "  // register the mime type if in Jupyter Notebook environment and previously unregistered\n",
       "  if (root.Jupyter !== undefined) {\n",
       "    const events = require('base/js/events');\n",
       "    const OutputArea = require('notebook/js/outputarea').OutputArea;\n",
       "\n",
       "    if (OutputArea.prototype.mime_types().indexOf(EXEC_MIME_TYPE) == -1) {\n",
       "      register_renderer(events, OutputArea);\n",
       "    }\n",
       "  }\n",
       "  if (typeof (root._bokeh_timeout) === \"undefined\" || force === true) {\n",
       "    root._bokeh_timeout = Date.now() + 5000;\n",
       "    root._bokeh_failed_load = false;\n",
       "  }\n",
       "\n",
       "  const NB_LOAD_WARNING = {'data': {'text/html':\n",
       "     \"<div style='background-color: #fdd'>\\n\"+\n",
       "     \"<p>\\n\"+\n",
       "     \"BokehJS does not appear to have successfully loaded. If loading BokehJS from CDN, this \\n\"+\n",
       "     \"may be due to a slow or bad network connection. Possible fixes:\\n\"+\n",
       "     \"</p>\\n\"+\n",
       "     \"<ul>\\n\"+\n",
       "     \"<li>re-rerun `output_notebook()` to attempt to load from CDN again, or</li>\\n\"+\n",
       "     \"<li>use INLINE resources instead, as so:</li>\\n\"+\n",
       "     \"</ul>\\n\"+\n",
       "     \"<code>\\n\"+\n",
       "     \"from bokeh.resources import INLINE\\n\"+\n",
       "     \"output_notebook(resources=INLINE)\\n\"+\n",
       "     \"</code>\\n\"+\n",
       "     \"</div>\"}};\n",
       "\n",
       "  function display_loaded() {\n",
       "    const el = document.getElementById(\"1002\");\n",
       "    if (el != null) {\n",
       "      el.textContent = \"BokehJS is loading...\";\n",
       "    }\n",
       "    if (root.Bokeh !== undefined) {\n",
       "      if (el != null) {\n",
       "        el.textContent = \"BokehJS \" + root.Bokeh.version + \" successfully loaded.\";\n",
       "      }\n",
       "    } else if (Date.now() < root._bokeh_timeout) {\n",
       "      setTimeout(display_loaded, 100)\n",
       "    }\n",
       "  }\n",
       "\n",
       "  function run_callbacks() {\n",
       "    try {\n",
       "      root._bokeh_onload_callbacks.forEach(function(callback) {\n",
       "        if (callback != null)\n",
       "          callback();\n",
       "      });\n",
       "    } finally {\n",
       "      delete root._bokeh_onload_callbacks\n",
       "    }\n",
       "    console.debug(\"Bokeh: all callbacks have finished\");\n",
       "  }\n",
       "\n",
       "  function load_libs(css_urls, js_urls, callback) {\n",
       "    if (css_urls == null) css_urls = [];\n",
       "    if (js_urls == null) js_urls = [];\n",
       "\n",
       "    root._bokeh_onload_callbacks.push(callback);\n",
       "    if (root._bokeh_is_loading > 0) {\n",
       "      console.debug(\"Bokeh: BokehJS is being loaded, scheduling callback at\", now());\n",
       "      return null;\n",
       "    }\n",
       "    if (js_urls == null || js_urls.length === 0) {\n",
       "      run_callbacks();\n",
       "      return null;\n",
       "    }\n",
       "    console.debug(\"Bokeh: BokehJS not loaded, scheduling load and callback at\", now());\n",
       "    root._bokeh_is_loading = css_urls.length + js_urls.length;\n",
       "\n",
       "    function on_load() {\n",
       "      root._bokeh_is_loading--;\n",
       "      if (root._bokeh_is_loading === 0) {\n",
       "        console.debug(\"Bokeh: all BokehJS libraries/stylesheets loaded\");\n",
       "        run_callbacks()\n",
       "      }\n",
       "    }\n",
       "\n",
       "    function on_error(url) {\n",
       "      console.error(\"failed to load \" + url);\n",
       "    }\n",
       "\n",
       "    for (let i = 0; i < css_urls.length; i++) {\n",
       "      const url = css_urls[i];\n",
       "      const element = document.createElement(\"link\");\n",
       "      element.onload = on_load;\n",
       "      element.onerror = on_error.bind(null, url);\n",
       "      element.rel = \"stylesheet\";\n",
       "      element.type = \"text/css\";\n",
       "      element.href = url;\n",
       "      console.debug(\"Bokeh: injecting link tag for BokehJS stylesheet: \", url);\n",
       "      document.body.appendChild(element);\n",
       "    }\n",
       "\n",
       "    for (let i = 0; i < js_urls.length; i++) {\n",
       "      const url = js_urls[i];\n",
       "      const element = document.createElement('script');\n",
       "      element.onload = on_load;\n",
       "      element.onerror = on_error.bind(null, url);\n",
       "      element.async = false;\n",
       "      element.src = url;\n",
       "      console.debug(\"Bokeh: injecting script tag for BokehJS library: \", url);\n",
       "      document.head.appendChild(element);\n",
       "    }\n",
       "  };\n",
       "\n",
       "  function inject_raw_css(css) {\n",
       "    const element = document.createElement(\"style\");\n",
       "    element.appendChild(document.createTextNode(css));\n",
       "    document.body.appendChild(element);\n",
       "  }\n",
       "\n",
       "  const js_urls = [\"https://cdn.bokeh.org/bokeh/release/bokeh-2.4.3.min.js\", \"https://cdn.bokeh.org/bokeh/release/bokeh-gl-2.4.3.min.js\", \"https://cdn.bokeh.org/bokeh/release/bokeh-widgets-2.4.3.min.js\", \"https://cdn.bokeh.org/bokeh/release/bokeh-tables-2.4.3.min.js\", \"https://cdn.bokeh.org/bokeh/release/bokeh-mathjax-2.4.3.min.js\"];\n",
       "  const css_urls = [];\n",
       "\n",
       "  const inline_js = [    function(Bokeh) {\n",
       "      Bokeh.set_log_level(\"info\");\n",
       "    },\n",
       "function(Bokeh) {\n",
       "    }\n",
       "  ];\n",
       "\n",
       "  function run_inline_js() {\n",
       "    if (root.Bokeh !== undefined || force === true) {\n",
       "          for (let i = 0; i < inline_js.length; i++) {\n",
       "      inline_js[i].call(root, root.Bokeh);\n",
       "    }\n",
       "if (force === true) {\n",
       "        display_loaded();\n",
       "      }} else if (Date.now() < root._bokeh_timeout) {\n",
       "      setTimeout(run_inline_js, 100);\n",
       "    } else if (!root._bokeh_failed_load) {\n",
       "      console.log(\"Bokeh: BokehJS failed to load within specified timeout.\");\n",
       "      root._bokeh_failed_load = true;\n",
       "    } else if (force !== true) {\n",
       "      const cell = $(document.getElementById(\"1002\")).parents('.cell').data().cell;\n",
       "      cell.output_area.append_execute_result(NB_LOAD_WARNING)\n",
       "    }\n",
       "  }\n",
       "\n",
       "  if (root._bokeh_is_loading === 0) {\n",
       "    console.debug(\"Bokeh: BokehJS loaded, going straight to plotting\");\n",
       "    run_inline_js();\n",
       "  } else {\n",
       "    load_libs(css_urls, js_urls, function() {\n",
       "      console.debug(\"Bokeh: BokehJS plotting callback run at\", now());\n",
       "      run_inline_js();\n",
       "    });\n",
       "  }\n",
       "}(window));"
      ],
      "application/vnd.bokehjs_load.v0+json": "(function(root) {\n  function now() {\n    return new Date();\n  }\n\n  const force = true;\n\n  if (typeof root._bokeh_onload_callbacks === \"undefined\" || force === true) {\n    root._bokeh_onload_callbacks = [];\n    root._bokeh_is_loading = undefined;\n  }\n\n\n  if (typeof (root._bokeh_timeout) === \"undefined\" || force === true) {\n    root._bokeh_timeout = Date.now() + 5000;\n    root._bokeh_failed_load = false;\n  }\n\n  const NB_LOAD_WARNING = {'data': {'text/html':\n     \"<div style='background-color: #fdd'>\\n\"+\n     \"<p>\\n\"+\n     \"BokehJS does not appear to have successfully loaded. If loading BokehJS from CDN, this \\n\"+\n     \"may be due to a slow or bad network connection. Possible fixes:\\n\"+\n     \"</p>\\n\"+\n     \"<ul>\\n\"+\n     \"<li>re-rerun `output_notebook()` to attempt to load from CDN again, or</li>\\n\"+\n     \"<li>use INLINE resources instead, as so:</li>\\n\"+\n     \"</ul>\\n\"+\n     \"<code>\\n\"+\n     \"from bokeh.resources import INLINE\\n\"+\n     \"output_notebook(resources=INLINE)\\n\"+\n     \"</code>\\n\"+\n     \"</div>\"}};\n\n  function display_loaded() {\n    const el = document.getElementById(\"1002\");\n    if (el != null) {\n      el.textContent = \"BokehJS is loading...\";\n    }\n    if (root.Bokeh !== undefined) {\n      if (el != null) {\n        el.textContent = \"BokehJS \" + root.Bokeh.version + \" successfully loaded.\";\n      }\n    } else if (Date.now() < root._bokeh_timeout) {\n      setTimeout(display_loaded, 100)\n    }\n  }\n\n  function run_callbacks() {\n    try {\n      root._bokeh_onload_callbacks.forEach(function(callback) {\n        if (callback != null)\n          callback();\n      });\n    } finally {\n      delete root._bokeh_onload_callbacks\n    }\n    console.debug(\"Bokeh: all callbacks have finished\");\n  }\n\n  function load_libs(css_urls, js_urls, callback) {\n    if (css_urls == null) css_urls = [];\n    if (js_urls == null) js_urls = [];\n\n    root._bokeh_onload_callbacks.push(callback);\n    if (root._bokeh_is_loading > 0) {\n      console.debug(\"Bokeh: BokehJS is being loaded, scheduling callback at\", now());\n      return null;\n    }\n    if (js_urls == null || js_urls.length === 0) {\n      run_callbacks();\n      return null;\n    }\n    console.debug(\"Bokeh: BokehJS not loaded, scheduling load and callback at\", now());\n    root._bokeh_is_loading = css_urls.length + js_urls.length;\n\n    function on_load() {\n      root._bokeh_is_loading--;\n      if (root._bokeh_is_loading === 0) {\n        console.debug(\"Bokeh: all BokehJS libraries/stylesheets loaded\");\n        run_callbacks()\n      }\n    }\n\n    function on_error(url) {\n      console.error(\"failed to load \" + url);\n    }\n\n    for (let i = 0; i < css_urls.length; i++) {\n      const url = css_urls[i];\n      const element = document.createElement(\"link\");\n      element.onload = on_load;\n      element.onerror = on_error.bind(null, url);\n      element.rel = \"stylesheet\";\n      element.type = \"text/css\";\n      element.href = url;\n      console.debug(\"Bokeh: injecting link tag for BokehJS stylesheet: \", url);\n      document.body.appendChild(element);\n    }\n\n    for (let i = 0; i < js_urls.length; i++) {\n      const url = js_urls[i];\n      const element = document.createElement('script');\n      element.onload = on_load;\n      element.onerror = on_error.bind(null, url);\n      element.async = false;\n      element.src = url;\n      console.debug(\"Bokeh: injecting script tag for BokehJS library: \", url);\n      document.head.appendChild(element);\n    }\n  };\n\n  function inject_raw_css(css) {\n    const element = document.createElement(\"style\");\n    element.appendChild(document.createTextNode(css));\n    document.body.appendChild(element);\n  }\n\n  const js_urls = [\"https://cdn.bokeh.org/bokeh/release/bokeh-2.4.3.min.js\", \"https://cdn.bokeh.org/bokeh/release/bokeh-gl-2.4.3.min.js\", \"https://cdn.bokeh.org/bokeh/release/bokeh-widgets-2.4.3.min.js\", \"https://cdn.bokeh.org/bokeh/release/bokeh-tables-2.4.3.min.js\", \"https://cdn.bokeh.org/bokeh/release/bokeh-mathjax-2.4.3.min.js\"];\n  const css_urls = [];\n\n  const inline_js = [    function(Bokeh) {\n      Bokeh.set_log_level(\"info\");\n    },\nfunction(Bokeh) {\n    }\n  ];\n\n  function run_inline_js() {\n    if (root.Bokeh !== undefined || force === true) {\n          for (let i = 0; i < inline_js.length; i++) {\n      inline_js[i].call(root, root.Bokeh);\n    }\nif (force === true) {\n        display_loaded();\n      }} else if (Date.now() < root._bokeh_timeout) {\n      setTimeout(run_inline_js, 100);\n    } else if (!root._bokeh_failed_load) {\n      console.log(\"Bokeh: BokehJS failed to load within specified timeout.\");\n      root._bokeh_failed_load = true;\n    } else if (force !== true) {\n      const cell = $(document.getElementById(\"1002\")).parents('.cell').data().cell;\n      cell.output_area.append_execute_result(NB_LOAD_WARNING)\n    }\n  }\n\n  if (root._bokeh_is_loading === 0) {\n    console.debug(\"Bokeh: BokehJS loaded, going straight to plotting\");\n    run_inline_js();\n  } else {\n    load_libs(css_urls, js_urls, function() {\n      console.debug(\"Bokeh: BokehJS plotting callback run at\", now());\n      run_inline_js();\n    });\n  }\n}(window));"
     },
     "metadata": {},
     "output_type": "display_data"
    }
   ],
   "source": [
    "output_notebook()"
   ]
  },
  {
   "cell_type": "code",
   "execution_count": 3,
   "id": "0a6b553d-bac9-4f1e-9ebd-f34ef6758344",
   "metadata": {
    "execution": {
     "iopub.execute_input": "2022-10-14T19:43:53.852877Z",
     "iopub.status.busy": "2022-10-14T19:43:53.852094Z",
     "iopub.status.idle": "2022-10-14T19:43:54.104340Z",
     "shell.execute_reply": "2022-10-14T19:43:54.103371Z"
    }
   },
   "outputs": [],
   "source": [
    "df = get_analytics_data('pvlib')\n",
    "data_period = df['Date'].min().strftime('%Y-%m-%d') + ' to ' + df['Date'].max().strftime('%Y-%m-%d')"
   ]
  },
  {
   "cell_type": "code",
   "execution_count": 4,
   "id": "69c1701b-f17a-40e1-9aaf-bef845e60569",
   "metadata": {
    "execution": {
     "iopub.execute_input": "2022-10-14T19:43:54.108928Z",
     "iopub.status.busy": "2022-10-14T19:43:54.108642Z",
     "iopub.status.idle": "2022-10-14T19:43:54.177991Z",
     "shell.execute_reply": "2022-10-14T19:43:54.177195Z"
    }
   },
   "outputs": [
    {
     "data": {
      "text/html": [
       "\n",
       "  <div class=\"bk-root\" id=\"245787dc-6718-421e-bd5a-2d0568ebfcd6\" data-root-id=\"1003\"></div>\n"
      ]
     },
     "metadata": {},
     "output_type": "display_data"
    },
    {
     "data": {
      "application/javascript": [
       "(function(root) {\n",
       "  function embed_document(root) {\n",
       "  const docs_json = {\"2923835c-d710-4d39-96db-9e17e33957f6\":{\"defs\":[],\"roots\":{\"references\":[{\"attributes\":{\"below\":[{\"id\":\"1014\"}],\"center\":[{\"id\":\"1016\"},{\"id\":\"1020\"}],\"height\":350,\"left\":[{\"id\":\"1017\"}],\"renderers\":[{\"id\":\"1042\"}],\"title\":{\"id\":\"1004\"},\"toolbar\":{\"id\":\"1029\"},\"x_range\":{\"id\":\"1006\"},\"x_scale\":{\"id\":\"1010\"},\"y_range\":{\"id\":\"1008\"},\"y_scale\":{\"id\":\"1012\"}},\"id\":\"1003\",\"subtype\":\"Figure\",\"type\":\"Plot\"},{\"attributes\":{},\"id\":\"1012\",\"type\":\"LinearScale\"},{\"attributes\":{\"fill_alpha\":{\"value\":0.2},\"fill_color\":{\"value\":\"#1f77b4\"},\"hatch_alpha\":{\"value\":0.2},\"line_alpha\":{\"value\":0.2},\"line_color\":{\"value\":\"white\"},\"top\":{\"field\":\"Views\"},\"width\":{\"value\":0.75},\"x\":{\"field\":\"Version\"}},\"id\":\"1041\",\"type\":\"VBar\"},{\"attributes\":{\"axis\":{\"id\":\"1014\"},\"coordinates\":null,\"group\":null,\"ticker\":null},\"id\":\"1016\",\"type\":\"Grid\"},{\"attributes\":{},\"id\":\"1025\",\"type\":\"ResetTool\"},{\"attributes\":{\"fill_alpha\":{\"value\":0.1},\"fill_color\":{\"value\":\"#1f77b4\"},\"hatch_alpha\":{\"value\":0.1},\"line_alpha\":{\"value\":0.1},\"line_color\":{\"value\":\"white\"},\"top\":{\"field\":\"Views\"},\"width\":{\"value\":0.75},\"x\":{\"field\":\"Version\"}},\"id\":\"1040\",\"type\":\"VBar\"},{\"attributes\":{\"data\":{\"Version\":[\"latest\",\"stable\",\"v0.1\",\"v0.2.0\",\"v0.2.1\",\"v0.2.2\",\"v0.3.0\",\"v0.3.1\",\"v0.3.2\",\"v0.3.3\",\"v0.4.0\",\"v0.4.2\",\"v0.4.3\",\"v0.4.4\",\"v0.4.5\",\"v0.5.0\",\"v0.5.1\",\"v0.5.2\",\"v0.6.0\",\"v0.6.1\",\"v0.6.2\",\"v0.6.3\",\"v0.7.2\",\"v0.8.0\",\"v0.8.1\",\"v0.9.0\",\"v0.9.1\",\"v0.9.2\",\"v0.9.3\"],\"Views\":[7882,132213,691,599,411,350,2892,214,1247,122,862,1318,3392,756,157,161,915,172,2229,2199,1968,924,322,2692,612,14104,3779,1068,758],\"index\":[0,1,2,3,4,5,6,7,8,9,10,11,12,13,14,15,16,17,18,19,20,21,22,23,24,25,26,27,28]},\"selected\":{\"id\":\"1052\"},\"selection_policy\":{\"id\":\"1051\"}},\"id\":\"1037\",\"type\":\"ColumnDataSource\"},{\"attributes\":{\"coordinates\":null,\"formatter\":{\"id\":\"1049\"},\"group\":null,\"major_label_orientation\":1.57,\"major_label_policy\":{\"id\":\"1050\"},\"ticker\":{\"id\":\"1015\"}},\"id\":\"1014\",\"type\":\"CategoricalAxis\"},{\"attributes\":{},\"id\":\"1024\",\"type\":\"SaveTool\"},{\"attributes\":{},\"id\":\"1051\",\"type\":\"UnionRenderers\"},{\"attributes\":{},\"id\":\"1026\",\"type\":\"HelpTool\"},{\"attributes\":{\"callback\":null,\"tooltips\":[[\"Version\",\"@Version\"],[\"Views\",\"@Views\"]]},\"id\":\"1028\",\"type\":\"HoverTool\"},{\"attributes\":{\"factors\":[\"latest\",\"stable\",\"v0.1\",\"v0.2.0\",\"v0.2.1\",\"v0.2.2\",\"v0.3.0\",\"v0.3.1\",\"v0.3.2\",\"v0.3.3\",\"v0.4.0\",\"v0.4.2\",\"v0.4.3\",\"v0.4.4\",\"v0.4.5\",\"v0.5.0\",\"v0.5.1\",\"v0.5.2\",\"v0.6.0\",\"v0.6.1\",\"v0.6.2\",\"v0.6.3\",\"v0.7.2\",\"v0.8.0\",\"v0.8.1\",\"v0.9.0\",\"v0.9.1\",\"v0.9.2\",\"v0.9.3\"]},\"id\":\"1006\",\"type\":\"FactorRange\"},{\"attributes\":{\"bottom_units\":\"screen\",\"coordinates\":null,\"fill_alpha\":0.5,\"fill_color\":\"lightgrey\",\"group\":null,\"left_units\":\"screen\",\"level\":\"overlay\",\"line_alpha\":1.0,\"line_color\":\"black\",\"line_dash\":[4,4],\"line_width\":2,\"right_units\":\"screen\",\"syncable\":false,\"top_units\":\"screen\"},\"id\":\"1027\",\"type\":\"BoxAnnotation\"},{\"attributes\":{},\"id\":\"1022\",\"type\":\"WheelZoomTool\"},{\"attributes\":{\"coordinates\":null,\"data_source\":{\"id\":\"1037\"},\"glyph\":{\"id\":\"1039\"},\"group\":null,\"hover_glyph\":null,\"muted_glyph\":{\"id\":\"1041\"},\"nonselection_glyph\":{\"id\":\"1040\"},\"view\":{\"id\":\"1043\"}},\"id\":\"1042\",\"type\":\"GlyphRenderer\"},{\"attributes\":{},\"id\":\"1008\",\"type\":\"DataRange1d\"},{\"attributes\":{},\"id\":\"1050\",\"type\":\"AllLabels\"},{\"attributes\":{},\"id\":\"1010\",\"type\":\"CategoricalScale\"},{\"attributes\":{\"tools\":[{\"id\":\"1021\"},{\"id\":\"1022\"},{\"id\":\"1023\"},{\"id\":\"1024\"},{\"id\":\"1025\"},{\"id\":\"1026\"},{\"id\":\"1028\"}]},\"id\":\"1029\",\"type\":\"Toolbar\"},{\"attributes\":{},\"id\":\"1021\",\"type\":\"PanTool\"},{\"attributes\":{\"axis_label\":\"Total page views\",\"coordinates\":null,\"formatter\":{\"id\":\"1046\"},\"group\":null,\"major_label_policy\":{\"id\":\"1047\"},\"ticker\":{\"id\":\"1018\"}},\"id\":\"1017\",\"type\":\"LinearAxis\"},{\"attributes\":{},\"id\":\"1052\",\"type\":\"Selection\"},{\"attributes\":{},\"id\":\"1015\",\"type\":\"CategoricalTicker\"},{\"attributes\":{\"overlay\":{\"id\":\"1027\"}},\"id\":\"1023\",\"type\":\"BoxZoomTool\"},{\"attributes\":{\"source\":{\"id\":\"1037\"}},\"id\":\"1043\",\"type\":\"CDSView\"},{\"attributes\":{},\"id\":\"1049\",\"type\":\"CategoricalTickFormatter\"},{\"attributes\":{\"coordinates\":null,\"group\":null,\"text\":\"Page views by RTD version (2022-06-15 to 2022-10-13)\"},\"id\":\"1004\",\"type\":\"Title\"},{\"attributes\":{},\"id\":\"1018\",\"type\":\"BasicTicker\"},{\"attributes\":{},\"id\":\"1046\",\"type\":\"BasicTickFormatter\"},{\"attributes\":{\"fill_color\":{\"value\":\"#1f77b4\"},\"line_color\":{\"value\":\"white\"},\"top\":{\"field\":\"Views\"},\"width\":{\"value\":0.75},\"x\":{\"field\":\"Version\"}},\"id\":\"1039\",\"type\":\"VBar\"},{\"attributes\":{},\"id\":\"1047\",\"type\":\"AllLabels\"},{\"attributes\":{\"axis\":{\"id\":\"1017\"},\"coordinates\":null,\"dimension\":1,\"group\":null,\"ticker\":null},\"id\":\"1020\",\"type\":\"Grid\"}],\"root_ids\":[\"1003\"]},\"title\":\"Bokeh Application\",\"version\":\"2.4.3\"}};\n",
       "  const render_items = [{\"docid\":\"2923835c-d710-4d39-96db-9e17e33957f6\",\"root_ids\":[\"1003\"],\"roots\":{\"1003\":\"245787dc-6718-421e-bd5a-2d0568ebfcd6\"}}];\n",
       "  root.Bokeh.embed.embed_items_notebook(docs_json, render_items);\n",
       "  }\n",
       "  if (root.Bokeh !== undefined) {\n",
       "    embed_document(root);\n",
       "  } else {\n",
       "    let attempts = 0;\n",
       "    const timer = setInterval(function(root) {\n",
       "      if (root.Bokeh !== undefined) {\n",
       "        clearInterval(timer);\n",
       "        embed_document(root);\n",
       "      } else {\n",
       "        attempts++;\n",
       "        if (attempts > 100) {\n",
       "          clearInterval(timer);\n",
       "          console.log(\"Bokeh: ERROR: Unable to run BokehJS code because BokehJS library is missing\");\n",
       "        }\n",
       "      }\n",
       "    }, 10, root)\n",
       "  }\n",
       "})(window);"
      ],
      "application/vnd.bokehjs_exec.v0+json": ""
     },
     "metadata": {
      "application/vnd.bokehjs_exec.v0+json": {
       "id": "1003"
      }
     },
     "output_type": "display_data"
    }
   ],
   "source": [
    "total_by_version = df.groupby('Version')['Views'].sum().reset_index()\n",
    "\n",
    "p = figure(x_range=total_by_version['Version'], height=350, tooltips=[(\"Version\", \"@Version\"), (\"Views\", \"@Views\")],\n",
    "           title=f\"Page views by RTD version ({data_period})\",)\n",
    "p.vbar(x='Version', top='Views', width=0.75, source=total_by_version,\n",
    "       line_color='white')\n",
    "p.xaxis.major_label_orientation = 3.14/2\n",
    "p.yaxis.axis_label = 'Total page views'\n",
    "show(p)"
   ]
  },
  {
   "cell_type": "code",
   "execution_count": 5,
   "id": "7736a53f-e345-4155-a9c5-121c01138262",
   "metadata": {
    "execution": {
     "iopub.execute_input": "2022-10-14T19:43:54.182294Z",
     "iopub.status.busy": "2022-10-14T19:43:54.182014Z",
     "iopub.status.idle": "2022-10-14T19:43:54.357644Z",
     "shell.execute_reply": "2022-10-14T19:43:54.356653Z"
    }
   },
   "outputs": [
    {
     "data": {
      "text/html": [
       "\n",
       "  <div class=\"bk-root\" id=\"6d200db5-b5c9-4e40-af9f-2bc9e095e80e\" data-root-id=\"1104\"></div>\n"
      ]
     },
     "metadata": {},
     "output_type": "display_data"
    },
    {
     "data": {
      "application/javascript": [
       "(function(root) {\n",
       "  function embed_document(root) {\n",
       "  const docs_json = {\"1fa7386f-cb37-4dc2-b67f-dab19bafb12d\":{\"defs\":[],\"roots\":{\"references\":[{\"attributes\":{\"below\":[{\"id\":\"1115\"}],\"center\":[{\"id\":\"1118\"},{\"id\":\"1122\"},{\"id\":\"1167\"}],\"height\":350,\"left\":[{\"id\":\"1119\"}],\"renderers\":[{\"id\":\"1143\"},{\"id\":\"1173\"}],\"title\":{\"id\":\"1105\"},\"toolbar\":{\"id\":\"1130\"},\"x_range\":{\"id\":\"1107\"},\"x_scale\":{\"id\":\"1111\"},\"y_range\":{\"id\":\"1109\"},\"y_scale\":{\"id\":\"1113\"}},\"id\":\"1104\",\"subtype\":\"Figure\",\"type\":\"Plot\"},{\"attributes\":{},\"id\":\"1184\",\"type\":\"UnionRenderers\"},{\"attributes\":{\"callback\":null,\"formatters\":{\"@x\":\"datetime\"},\"tooltips\":[[\"Date\",\"@x{%Y-%m-%d}\"],[\"Views\",\"@y\"]]},\"id\":\"1137\",\"type\":\"HoverTool\"},{\"attributes\":{\"coordinates\":null,\"data_source\":{\"id\":\"1139\"},\"glyph\":{\"id\":\"1140\"},\"group\":null,\"hover_glyph\":null,\"muted_glyph\":{\"id\":\"1142\"},\"nonselection_glyph\":{\"id\":\"1141\"},\"view\":{\"id\":\"1144\"}},\"id\":\"1143\",\"type\":\"GlyphRenderer\"},{\"attributes\":{},\"id\":\"1185\",\"type\":\"Selection\"},{\"attributes\":{},\"id\":\"1153\",\"type\":\"Selection\"},{\"attributes\":{},\"id\":\"1150\",\"type\":\"DatetimeTickFormatter\"},{\"attributes\":{\"base\":60,\"mantissas\":[1,2,5,10,15,20,30],\"max_interval\":1800000.0,\"min_interval\":1000.0,\"num_minor_ticks\":0},\"id\":\"1156\",\"type\":\"AdaptiveTicker\"},{\"attributes\":{\"axis_label\":\"Daily page views\",\"coordinates\":null,\"formatter\":{\"id\":\"1147\"},\"group\":null,\"major_label_policy\":{\"id\":\"1148\"},\"ticker\":{\"id\":\"1120\"}},\"id\":\"1119\",\"type\":\"LinearAxis\"},{\"attributes\":{},\"id\":\"1128\",\"type\":\"HelpTool\"},{\"attributes\":{\"overlay\":{\"id\":\"1129\"}},\"id\":\"1125\",\"type\":\"BoxZoomTool\"},{\"attributes\":{\"line_alpha\":0.2,\"line_color\":\"#1f77b4\",\"x\":{\"field\":\"x\"},\"y\":{\"field\":\"y\"}},\"id\":\"1142\",\"type\":\"Line\"},{\"attributes\":{},\"id\":\"1126\",\"type\":\"SaveTool\"},{\"attributes\":{},\"id\":\"1107\",\"type\":\"DataRange1d\"},{\"attributes\":{\"days\":[1,2,3,4,5,6,7,8,9,10,11,12,13,14,15,16,17,18,19,20,21,22,23,24,25,26,27,28,29,30,31]},\"id\":\"1158\",\"type\":\"DaysTicker\"},{\"attributes\":{},\"id\":\"1109\",\"type\":\"DataRange1d\"},{\"attributes\":{\"line_alpha\":0.1,\"line_color\":\"#1f77b4\",\"x\":{\"field\":\"x\"},\"y\":{\"field\":\"y\"}},\"id\":\"1141\",\"type\":\"Line\"},{\"attributes\":{},\"id\":\"1120\",\"type\":\"BasicTicker\"},{\"attributes\":{\"source\":{\"id\":\"1139\"}},\"id\":\"1144\",\"type\":\"CDSView\"},{\"attributes\":{\"base\":24,\"mantissas\":[1,2,4,6,8,12],\"max_interval\":43200000.0,\"min_interval\":3600000.0,\"num_minor_ticks\":0},\"id\":\"1157\",\"type\":\"AdaptiveTicker\"},{\"attributes\":{\"num_minor_ticks\":5,\"tickers\":[{\"id\":\"1155\"},{\"id\":\"1156\"},{\"id\":\"1157\"},{\"id\":\"1158\"},{\"id\":\"1159\"},{\"id\":\"1160\"},{\"id\":\"1161\"},{\"id\":\"1162\"},{\"id\":\"1163\"},{\"id\":\"1164\"},{\"id\":\"1165\"},{\"id\":\"1166\"}]},\"id\":\"1116\",\"type\":\"DatetimeTicker\"},{\"attributes\":{\"axis\":{\"id\":\"1115\"},\"coordinates\":null,\"group\":null,\"ticker\":null},\"id\":\"1118\",\"type\":\"Grid\"},{\"attributes\":{},\"id\":\"1113\",\"type\":\"LinearScale\"},{\"attributes\":{\"days\":[1,15]},\"id\":\"1161\",\"type\":\"DaysTicker\"},{\"attributes\":{\"coordinates\":null,\"group\":null,\"text\":\"Daily views by RTD version\"},\"id\":\"1105\",\"type\":\"Title\"},{\"attributes\":{\"line_alpha\":0.2,\"line_color\":\"#ff7f0e\",\"x\":{\"field\":\"x\"},\"y\":{\"field\":\"y\"}},\"id\":\"1172\",\"type\":\"Line\"},{\"attributes\":{},\"id\":\"1152\",\"type\":\"UnionRenderers\"},{\"attributes\":{\"days\":[1,8,15,22]},\"id\":\"1160\",\"type\":\"DaysTicker\"},{\"attributes\":{\"bottom_units\":\"screen\",\"coordinates\":null,\"fill_alpha\":0.5,\"fill_color\":\"lightgrey\",\"group\":null,\"left_units\":\"screen\",\"level\":\"overlay\",\"line_alpha\":1.0,\"line_color\":\"black\",\"line_dash\":[4,4],\"line_width\":2,\"right_units\":\"screen\",\"syncable\":false,\"top_units\":\"screen\"},\"id\":\"1129\",\"type\":\"BoxAnnotation\"},{\"attributes\":{\"data\":{\"x\":{\"__ndarray__\":\"AACAjkoWeEIAAED0nBZ4QgAAAFrvFnhCAADAv0EXeEIAAIAllBd4QgAAQIvmF3hCAAAA8TgYeEIAAMBWixh4QgAAgLzdGHhCAABAIjAZeEIAAACIghl4QgAAwO3UGXhCAACAUycaeEIAAEC5eRp4QgAAAB/MGnhCAADAhB4beEIAAIDqcBt4QgAAQFDDG3hCAAAAthUceEIAAMAbaBx4QgAAgIG6HHhCAABA5wwdeEIAAABNXx14QgAAwLKxHXhCAACAGAQeeEIAAEB+Vh54QgAAAOSoHnhCAADASfseeEIAAICvTR94QgAAQBWgH3hCAAAAe/IfeEIAAMDgRCB4QgAAgEaXIHhCAABArOkgeEIAAAASPCF4QgAAwHeOIXhCAACA3eAheEIAAEBDMyJ4QgAAAKmFInhCAADADtgieEIAAIB0KiN4QgAAQNp8I3hCAAAAQM8jeEIAAMClISR4QgAAgAt0JHhCAABAccYkeEIAAADXGCV4QgAAwDxrJXhCAACAor0leEIAAEAIECZ4QgAAAG5iJnhCAADA07QmeEIAAIA5Byd4QgAAQJ9ZJ3hCAAAABawneEIAAMBq/id4QgAAgNBQKHhCAABANqMoeEIAAACc9Sh4QgAAwAFIKXhCAACAZ5opeEIAAEDN7Cl4QgAAADM/KnhCAADAmJEqeEIAAID+4yp4QgAAQGQ2K3hCAAAAyogreEIAAMAv2yt4QgAAgJUtLHhCAABA+38seEIAAABh0ix4QgAAwMYkLXhCAACALHcteEIAAECSyS14QgAAAPgbLnhCAADAXW4ueEIAAIDDwC54QgAAQCkTL3hCAAAAj2UveEIAAMD0ty94QgAAgFoKMHhCAABAwFwweEIAAAAmrzB4QgAAwIsBMXhCAACA8VMxeEIAAEBXpjF4QgAAAL34MXhCAADAIksyeEIAAICInTJ4QgAAQO7vMnhCAAAAVEIzeEIAAMC5lDN4QgAAgB/nM3hCAABAhTk0eEIAAADrizR4QgAAwFDeNHhCAACAtjA1eEIAAEAcgzV4QgAAAILVNXhCAADA5yc2eEIAAIBNejZ4QgAAQLPMNnhCAAAAGR83eEIAAMB+cTd4QgAAgOTDN3hCAABAShY4eEIAAACwaDh4QgAAwBW7OHhCAACAew05eEIAAEDhXzl4QgAAAEeyOXhCAADArAQ6eEIAAIASVzp4QgAAQHipOnhCAAAA3vs6eEIAAMBDTjt4QgAAgKmgO3hCAABAD/M7eEIAAAB1RTx4QgAAwNqXPHhCAACAQOo8eEI=\",\"dtype\":\"float64\",\"order\":\"little\",\"shape\":[121]},\"y\":{\"__ndarray__\":\"AAAAAADAZUAAAAAAAEBiQAAAAAAAAEpAAAAAAACATkAAAAAAAIBNQAAAAAAAQFFAAAAAAACgYEAAAAAAAEBUQAAAAAAAwGlAAAAAAAAgZUAAAAAAAAA/QAAAAAAAgFNAAAAAAAAAYEAAAAAAAOBmQAAAAAAAQFhAAAAAAADAVEAAAAAAAIBIQAAAAAAAADxAAAAAAACASUAAAAAAAIBMQAAAAAAAQGFAAAAAAADAUUAAAAAAAMBiQAAAAAAAQFpAAAAAAACAQEAAAAAAAABIQAAAAAAAgEZAAAAAAACAQkAAAAAAAAA2QAAAAAAAgE5AAAAAAACAT0AAAAAAAAA2QAAAAAAAAD1AAAAAAAAAMkAAAAAAAMBbQAAAAAAAgFFAAAAAAABAVEAAAAAAAABFQAAAAAAAAC5AAAAAAACASkAAAAAAAMBeQAAAAAAAAGRAAAAAAACAV0AAAAAAAEBSQAAAAAAAgEVAAAAAAAAAIEAAAAAAAIBFQAAAAAAAAExAAAAAAAAASUAAAAAAAABIQAAAAAAAgExAAAAAAABAU0AAAAAAAAAsQAAAAAAAADhAAAAAAACAU0AAAAAAAMBYQAAAAAAAQF1AAAAAAABAXkAAAAAAAEBYQAAAAAAAAEhAAAAAAABAUkAAAAAAAABMQAAAAAAAgFNAAAAAAAAAT0AAAAAAAIBSQAAAAAAAAF1AAAAAAAAAOEAAAAAAAAA9QAAAAAAAAEBAAAAAAACAUEAAAAAAAIBbQAAAAAAAgFRAAAAAAAAATkAAAAAAAAA5QAAAAAAAADJAAAAAAABAWEAAAAAAAABUQAAAAAAAAF1AAAAAAABAXEAAAAAAAABbQAAAAAAAAEJAAAAAAAAANUAAAAAAAIBPQAAAAAAAgGFAAAAAAAAAUUAAAAAAAABOQAAAAAAAAEBAAAAAAAAALkAAAAAAAAAqQAAAAAAAgEdAAAAAAACAQUAAAAAAAIBJQAAAAAAAAEVAAAAAAAAASUAAAAAAAAAoQAAAAAAAADdAAAAAAAAAR0AAAAAAAIBUQAAAAAAAAFBAAAAAAACATEAAAAAAAABFQAAAAAAAAEhAAAAAAAAAQUAAAAAAAAA/QAAAAAAAgFNAAAAAAACARkAAAAAAAIBMQAAAAAAAADdAAAAAAAAAJEAAAAAAAIBAQAAAAAAAAElAAAAAAAAAR0AAAAAAAABOQAAAAAAAAGFAAAAAAACAU0AAAAAAAAA0QAAAAAAAADBAAAAAAAAANUAAAAAAAAA2QAAAAAAAAEBAAAAAAACARkA=\",\"dtype\":\"float64\",\"order\":\"little\",\"shape\":[121]}},\"selected\":{\"id\":\"1185\"},\"selection_policy\":{\"id\":\"1184\"}},\"id\":\"1169\",\"type\":\"ColumnDataSource\"},{\"attributes\":{},\"id\":\"1151\",\"type\":\"AllLabels\"},{\"attributes\":{},\"id\":\"1123\",\"type\":\"PanTool\"},{\"attributes\":{\"days\":[1,4,7,10,13,16,19,22,25,28]},\"id\":\"1159\",\"type\":\"DaysTicker\"},{\"attributes\":{\"months\":[0,1,2,3,4,5,6,7,8,9,10,11]},\"id\":\"1162\",\"type\":\"MonthsTicker\"},{\"attributes\":{\"coordinates\":null,\"data_source\":{\"id\":\"1169\"},\"glyph\":{\"id\":\"1170\"},\"group\":null,\"hover_glyph\":null,\"muted_glyph\":{\"id\":\"1172\"},\"nonselection_glyph\":{\"id\":\"1171\"},\"view\":{\"id\":\"1174\"}},\"id\":\"1173\",\"type\":\"GlyphRenderer\"},{\"attributes\":{\"label\":{\"value\":\"stable\"},\"renderers\":[{\"id\":\"1143\"}]},\"id\":\"1168\",\"type\":\"LegendItem\"},{\"attributes\":{\"coordinates\":null,\"group\":null,\"items\":[{\"id\":\"1168\"},{\"id\":\"1199\"}]},\"id\":\"1167\",\"type\":\"Legend\"},{\"attributes\":{\"line_alpha\":0.1,\"line_color\":\"#ff7f0e\",\"x\":{\"field\":\"x\"},\"y\":{\"field\":\"y\"}},\"id\":\"1171\",\"type\":\"Line\"},{\"attributes\":{\"source\":{\"id\":\"1169\"}},\"id\":\"1174\",\"type\":\"CDSView\"},{\"attributes\":{},\"id\":\"1124\",\"type\":\"WheelZoomTool\"},{\"attributes\":{\"line_color\":\"#1f77b4\",\"x\":{\"field\":\"x\"},\"y\":{\"field\":\"y\"}},\"id\":\"1140\",\"type\":\"Line\"},{\"attributes\":{},\"id\":\"1147\",\"type\":\"BasicTickFormatter\"},{\"attributes\":{\"tools\":[{\"id\":\"1123\"},{\"id\":\"1124\"},{\"id\":\"1125\"},{\"id\":\"1126\"},{\"id\":\"1127\"},{\"id\":\"1128\"},{\"id\":\"1137\"}]},\"id\":\"1130\",\"type\":\"Toolbar\"},{\"attributes\":{},\"id\":\"1148\",\"type\":\"AllLabels\"},{\"attributes\":{},\"id\":\"1111\",\"type\":\"LinearScale\"},{\"attributes\":{\"line_color\":\"#ff7f0e\",\"x\":{\"field\":\"x\"},\"y\":{\"field\":\"y\"}},\"id\":\"1170\",\"type\":\"Line\"},{\"attributes\":{},\"id\":\"1127\",\"type\":\"ResetTool\"},{\"attributes\":{\"axis\":{\"id\":\"1119\"},\"coordinates\":null,\"dimension\":1,\"group\":null,\"ticker\":null},\"id\":\"1122\",\"type\":\"Grid\"},{\"attributes\":{\"months\":[0,2,4,6,8,10]},\"id\":\"1163\",\"type\":\"MonthsTicker\"},{\"attributes\":{\"mantissas\":[1,2,5],\"max_interval\":500.0,\"num_minor_ticks\":0},\"id\":\"1155\",\"type\":\"AdaptiveTicker\"},{\"attributes\":{\"coordinates\":null,\"formatter\":{\"id\":\"1150\"},\"group\":null,\"major_label_policy\":{\"id\":\"1151\"},\"ticker\":{\"id\":\"1116\"}},\"id\":\"1115\",\"type\":\"DatetimeAxis\"},{\"attributes\":{\"data\":{\"x\":{\"__ndarray__\":\"AACAjkoWeEIAAED0nBZ4QgAAAFrvFnhCAADAv0EXeEIAAIAllBd4QgAAQIvmF3hCAAAA8TgYeEIAAMBWixh4QgAAgLzdGHhCAABAIjAZeEIAAACIghl4QgAAwO3UGXhCAACAUycaeEIAAEC5eRp4QgAAAB/MGnhCAADAhB4beEIAAIDqcBt4QgAAQFDDG3hCAAAAthUceEIAAMAbaBx4QgAAgIG6HHhCAABA5wwdeEIAAABNXx14QgAAwLKxHXhCAACAGAQeeEIAAEB+Vh54QgAAAOSoHnhCAADASfseeEIAAICvTR94QgAAQBWgH3hCAAAAe/IfeEIAAMDgRCB4QgAAgEaXIHhCAABArOkgeEIAAAASPCF4QgAAwHeOIXhCAACA3eAheEIAAEBDMyJ4QgAAAKmFInhCAADADtgieEIAAIB0KiN4QgAAQNp8I3hCAAAAQM8jeEIAAMClISR4QgAAgAt0JHhCAABAccYkeEIAAADXGCV4QgAAwDxrJXhCAACAor0leEIAAEAIECZ4QgAAAG5iJnhCAADA07QmeEIAAIA5Byd4QgAAQJ9ZJ3hCAAAABawneEIAAMBq/id4QgAAgNBQKHhCAABANqMoeEIAAACc9Sh4QgAAwAFIKXhCAACAZ5opeEIAAEDN7Cl4QgAAADM/KnhCAADAmJEqeEIAAID+4yp4QgAAQGQ2K3hCAAAAyogreEIAAMAv2yt4QgAAgJUtLHhCAABA+38seEIAAABh0ix4QgAAwMYkLXhCAACALHcteEIAAECSyS14QgAAAPgbLnhCAADAXW4ueEIAAIDDwC54QgAAQCkTL3hCAAAAj2UveEIAAMD0ty94QgAAgFoKMHhCAABAwFwweEIAAAAmrzB4QgAAwIsBMXhCAACA8VMxeEIAAEBXpjF4QgAAAL34MXhCAADAIksyeEIAAICInTJ4QgAAQO7vMnhCAAAAVEIzeEIAAMC5lDN4QgAAgB/nM3hCAABAhTk0eEIAAADrizR4QgAAwFDeNHhCAACAtjA1eEIAAEAcgzV4QgAAAILVNXhCAADA5yc2eEIAAIBNejZ4QgAAQLPMNnhCAAAAGR83eEIAAMB+cTd4QgAAgOTDN3hCAABAShY4eEIAAACwaDh4QgAAwBW7OHhCAACAew05eEIAAEDhXzl4QgAAAEeyOXhCAADArAQ6eEIAAIASVzp4QgAAQHipOnhCAAAA3vs6eEIAAMBDTjt4QgAAgKmgO3hCAABAD/M7eEIAAAB1RTx4QgAAwNqXPHhCAACAQOo8eEI=\",\"dtype\":\"float64\",\"order\":\"little\",\"shape\":[121]},\"y\":{\"__ndarray__\":\"AAAAAABgmEAAAAAAACiUQAAAAAAAOJdAAAAAAACQfkAAAAAAAAB9QAAAAAAACJpAAAAAAACMmUAAAAAAAFiUQAAAAAAAgJBAAAAAAADckUAAAAAAAJCAQAAAAAAAAHlAAAAAAACYnEAAAAAAALygQAAAAAAA2JdAAAAAAAAQlUAAAAAAAISQQAAAAAAA8HpAAAAAAAAAgUAAAAAAAGiWQAAAAAAAfJdAAAAAAAAckkAAAAAAALiWQAAAAAAASJRAAAAAAAAge0AAAAAAAKB3QAAAAAAA5JVAAAAAAACIlEAAAAAAAICSQAAAAAAAwJZAAAAAAADoi0AAAAAAACB7QAAAAAAAwHRAAAAAAAB8k0AAAAAAAOyXQAAAAAAADJNAAAAAAAA0k0AAAAAAAIiPQAAAAAAAcH1AAAAAAABQf0AAAAAAAMSTQAAAAAAAkJZAAAAAAABAlEAAAAAAAOCUQAAAAAAAtJBAAAAAAADQeUAAAAAAAHCBQAAAAAAAuJZAAAAAAADIlUAAAAAAADCXQAAAAAAAkJhAAAAAAAAAkUAAAAAAAFiDQAAAAAAAAH5AAAAAAABklUAAAAAAAMCaQAAAAAAARJhAAAAAAAA4k0AAAAAAAMSSQAAAAAAAEHdAAAAAAADwdUAAAAAAALSSQAAAAAAA4JJAAAAAAADwm0AAAAAAAGCWQAAAAAAAqJVAAAAAAADIgEAAAAAAADiCQAAAAAAAWJdAAAAAAAAQl0AAAAAAAEibQAAAAAAA9JZAAAAAAACUk0AAAAAAAGiCQAAAAAAAUH5AAAAAAACslkAAAAAAAPyXQAAAAAAAjJVAAAAAAAC4l0AAAAAAAByUQAAAAAAAuIFAAAAAAABQekAAAAAAAEySQAAAAAAAcJhAAAAAAABwjEAAAAAAAGiRQAAAAAAAyI1AAAAAAABwd0AAAAAAAAiEQAAAAAAAuJBAAAAAAAA4lUAAAAAAAAyUQAAAAAAAjJNAAAAAAACskUAAAAAAAHiBQAAAAAAAgH5AAAAAAACIk0AAAAAAAOCWQAAAAAAAKJNAAAAAAAB8lUAAAAAAAOCLQAAAAAAAmIBAAAAAAABgeEAAAAAAAGSWQAAAAAAABJJAAAAAAACUl0AAAAAAAFSRQAAAAAAA0I9AAAAAAAAAeUAAAAAAAOB6QAAAAAAAYJFAAAAAAAAgl0AAAAAAAIiQQAAAAAAAMJJAAAAAAAAEkUAAAAAAAGB8QAAAAAAAaINAAAAAAABgk0AAAAAAACiVQAAAAAAAaJJAAAAAAACkmEA=\",\"dtype\":\"float64\",\"order\":\"little\",\"shape\":[121]}},\"selected\":{\"id\":\"1153\"},\"selection_policy\":{\"id\":\"1152\"}},\"id\":\"1139\",\"type\":\"ColumnDataSource\"},{\"attributes\":{\"label\":{\"value\":\"latest\"},\"renderers\":[{\"id\":\"1173\"}]},\"id\":\"1199\",\"type\":\"LegendItem\"},{\"attributes\":{\"months\":[0,6]},\"id\":\"1165\",\"type\":\"MonthsTicker\"},{\"attributes\":{},\"id\":\"1166\",\"type\":\"YearsTicker\"},{\"attributes\":{\"months\":[0,4,8]},\"id\":\"1164\",\"type\":\"MonthsTicker\"}],\"root_ids\":[\"1104\"]},\"title\":\"Bokeh Application\",\"version\":\"2.4.3\"}};\n",
       "  const render_items = [{\"docid\":\"1fa7386f-cb37-4dc2-b67f-dab19bafb12d\",\"root_ids\":[\"1104\"],\"roots\":{\"1104\":\"6d200db5-b5c9-4e40-af9f-2bc9e095e80e\"}}];\n",
       "  root.Bokeh.embed.embed_items_notebook(docs_json, render_items);\n",
       "  }\n",
       "  if (root.Bokeh !== undefined) {\n",
       "    embed_document(root);\n",
       "  } else {\n",
       "    let attempts = 0;\n",
       "    const timer = setInterval(function(root) {\n",
       "      if (root.Bokeh !== undefined) {\n",
       "        clearInterval(timer);\n",
       "        embed_document(root);\n",
       "      } else {\n",
       "        attempts++;\n",
       "        if (attempts > 100) {\n",
       "          clearInterval(timer);\n",
       "          console.log(\"Bokeh: ERROR: Unable to run BokehJS code because BokehJS library is missing\");\n",
       "        }\n",
       "      }\n",
       "    }, 10, root)\n",
       "  }\n",
       "})(window);"
      ],
      "application/vnd.bokehjs_exec.v0+json": ""
     },
     "metadata": {
      "application/vnd.bokehjs_exec.v0+json": {
       "id": "1104"
      }
     },
     "output_type": "display_data"
    }
   ],
   "source": [
    "daily_views = df.pivot_table(values='Views', index='Date', columns='Version', aggfunc='sum')[['stable', 'latest']].fillna(0)\n",
    "\n",
    "p = figure(x_axis_type=\"datetime\", height=350, title=f\"Daily views by RTD version\")\n",
    "hover_tool = HoverTool(tooltips=[('Date', '@x{%Y-%m-%d}'), ('Views', '@y')],\n",
    "                       formatters={'@x': 'datetime'})\n",
    "hover_tool.point_policy = 'snap_to_data'\n",
    "p.add_tools(hover_tool)\n",
    "p.line(daily_views.index, daily_views['stable'], legend_label='stable')\n",
    "p.line(daily_views.index, daily_views['latest'], legend_label='latest', color='#ff7f0e')\n",
    "p.yaxis.axis_label = 'Daily page views'\n",
    "show(p)"
   ]
  },
  {
   "cell_type": "code",
   "execution_count": 6,
   "id": "2413e533-b4fa-4b2b-b308-a4bd9a4254d0",
   "metadata": {
    "execution": {
     "iopub.execute_input": "2022-10-14T19:43:54.361717Z",
     "iopub.status.busy": "2022-10-14T19:43:54.361437Z",
     "iopub.status.idle": "2022-10-14T19:43:54.377423Z",
     "shell.execute_reply": "2022-10-14T19:43:54.376440Z"
    }
   },
   "outputs": [],
   "source": [
    "# restrict to v0.9.1 and forward since that's when all the URLs changed\n",
    "df2 = df.loc[(df['Date'] > '2022-03-30') & (df['Version'] == 'stable'), :].copy()\n",
    "pathviews = df2.groupby('Path')['Views'].sum().reset_index()"
   ]
  },
  {
   "cell_type": "code",
   "execution_count": 7,
   "id": "ff4ef404-7d7b-4bd8-ad33-efcb98071d75",
   "metadata": {
    "execution": {
     "iopub.execute_input": "2022-10-14T19:43:54.380978Z",
     "iopub.status.busy": "2022-10-14T19:43:54.380697Z",
     "iopub.status.idle": "2022-10-14T19:43:54.453107Z",
     "shell.execute_reply": "2022-10-14T19:43:54.452191Z"
    }
   },
   "outputs": [
    {
     "data": {
      "text/html": [
       "\n",
       "  <div class=\"bk-root\" id=\"3f4d09cd-1fe3-4a8a-be29-28b2587f217f\" data-root-id=\"1354\"></div>\n"
      ]
     },
     "metadata": {},
     "output_type": "display_data"
    },
    {
     "data": {
      "application/javascript": [
       "(function(root) {\n",
       "  function embed_document(root) {\n",
       "  const docs_json = {\"0e655435-e338-467e-bba7-38c2686ecc48\":{\"defs\":[],\"roots\":{\"references\":[{\"attributes\":{\"below\":[{\"id\":\"1365\"}],\"center\":[{\"id\":\"1368\"},{\"id\":\"1371\"}],\"height\":400,\"left\":[{\"id\":\"1369\"}],\"renderers\":[{\"id\":\"1393\"}],\"title\":{\"id\":\"1355\"},\"toolbar\":{\"id\":\"1380\"},\"x_range\":{\"id\":\"1357\"},\"x_scale\":{\"id\":\"1361\"},\"y_range\":{\"id\":\"1359\"},\"y_scale\":{\"id\":\"1363\"}},\"id\":\"1354\",\"subtype\":\"Figure\",\"type\":\"Plot\"},{\"attributes\":{\"fill_alpha\":{\"value\":0.1},\"fill_color\":{\"value\":\"#1f77b4\"},\"hatch_alpha\":{\"value\":0.1},\"height\":{\"value\":0.75},\"line_alpha\":{\"value\":0.1},\"line_color\":{\"value\":\"white\"},\"right\":{\"field\":\"Views\"},\"y\":{\"field\":\"Path\"}},\"id\":\"1391\",\"type\":\"HBar\"},{\"attributes\":{},\"id\":\"1357\",\"type\":\"DataRange1d\"},{\"attributes\":{},\"id\":\"1366\",\"type\":\"BasicTicker\"},{\"attributes\":{\"coordinates\":null,\"formatter\":{\"id\":\"1431\"},\"group\":null,\"major_label_policy\":{\"id\":\"1432\"},\"ticker\":{\"id\":\"1370\"}},\"id\":\"1369\",\"type\":\"CategoricalAxis\"},{\"attributes\":{\"factors\":[\"/index.html\",\"/search.html\",\"/user_guide/index.html\",\"/gallery/index.html\",\"/user_guide/pvsystem.html\",\"/user_guide/introtutorial.html\",\"/reference/index.html\",\"/user_guide/installation.html\",\"/user_guide/forecasts.html\",\"/user_guide/modelchain.html\",\"/user_guide/package_overview.html\",\"/reference/pv_modeling.html\",\"/gallery/irradiance-transposition/plot_ghi_transposition.html\",\"/user_guide/clearsky.html\",\"/_modules/pvlib/irradiance.html\",\"/reference/irradiance.html\",\"/gallery/solar-position/plot_sunpath_diagrams.html\",\"/gallery/bifacial/plot_bifi_model_pvwatts.html\",\"/reference/generated/pvlib.pvsystem.PVSystem.html\",\"/whatsnew.html\"]},\"id\":\"1359\",\"type\":\"FactorRange\"},{\"attributes\":{\"coordinates\":null,\"group\":null,\"text\":\"Views by URL (Top 20, 2022-06-15 to 2022-10-13)\"},\"id\":\"1355\",\"type\":\"Title\"},{\"attributes\":{\"axis_label\":\"Total page views\",\"coordinates\":null,\"formatter\":{\"id\":\"1434\"},\"group\":null,\"major_label_policy\":{\"id\":\"1435\"},\"ticker\":{\"id\":\"1366\"}},\"id\":\"1365\",\"type\":\"LinearAxis\"},{\"attributes\":{\"axis\":{\"id\":\"1365\"},\"coordinates\":null,\"group\":null,\"ticker\":null},\"id\":\"1368\",\"type\":\"Grid\"},{\"attributes\":{},\"id\":\"1361\",\"type\":\"LinearScale\"},{\"attributes\":{},\"id\":\"1377\",\"type\":\"HelpTool\"},{\"attributes\":{},\"id\":\"1363\",\"type\":\"CategoricalScale\"},{\"attributes\":{},\"id\":\"1431\",\"type\":\"CategoricalTickFormatter\"},{\"attributes\":{\"callback\":null,\"tooltips\":[[\"URL\",\"@Path\"],[\"Views\",\"@Views\"]]},\"id\":\"1379\",\"type\":\"HoverTool\"},{\"attributes\":{},\"id\":\"1432\",\"type\":\"AllLabels\"},{\"attributes\":{\"axis\":{\"id\":\"1369\"},\"coordinates\":null,\"dimension\":1,\"group\":null,\"ticker\":null},\"id\":\"1371\",\"type\":\"Grid\"},{\"attributes\":{},\"id\":\"1370\",\"type\":\"CategoricalTicker\"},{\"attributes\":{},\"id\":\"1434\",\"type\":\"BasicTickFormatter\"},{\"attributes\":{\"data\":{\"Path\":[\"/index.html\",\"/search.html\",\"/user_guide/index.html\",\"/gallery/index.html\",\"/user_guide/pvsystem.html\",\"/user_guide/introtutorial.html\",\"/reference/index.html\",\"/user_guide/installation.html\",\"/user_guide/forecasts.html\",\"/user_guide/modelchain.html\",\"/user_guide/package_overview.html\",\"/reference/pv_modeling.html\",\"/gallery/irradiance-transposition/plot_ghi_transposition.html\",\"/user_guide/clearsky.html\",\"/_modules/pvlib/irradiance.html\",\"/reference/irradiance.html\",\"/gallery/solar-position/plot_sunpath_diagrams.html\",\"/gallery/bifacial/plot_bifi_model_pvwatts.html\",\"/reference/generated/pvlib.pvsystem.PVSystem.html\",\"/whatsnew.html\"],\"Views\":[14890,6038,5504,4949,3880,3860,3662,3656,2793,2316,2081,1902,1849,1828,1681,1360,1211,1148,1136,1134],\"index\":[85,550,556,45,561,558,541,557,555,559,560,546,47,553,20,543,63,43,414,565]},\"selected\":{\"id\":\"1437\"},\"selection_policy\":{\"id\":\"1436\"}},\"id\":\"1388\",\"type\":\"ColumnDataSource\"},{\"attributes\":{},\"id\":\"1373\",\"type\":\"WheelZoomTool\"},{\"attributes\":{},\"id\":\"1372\",\"type\":\"PanTool\"},{\"attributes\":{\"fill_alpha\":{\"value\":0.2},\"fill_color\":{\"value\":\"#1f77b4\"},\"hatch_alpha\":{\"value\":0.2},\"height\":{\"value\":0.75},\"line_alpha\":{\"value\":0.2},\"line_color\":{\"value\":\"white\"},\"right\":{\"field\":\"Views\"},\"y\":{\"field\":\"Path\"}},\"id\":\"1392\",\"type\":\"HBar\"},{\"attributes\":{},\"id\":\"1435\",\"type\":\"AllLabels\"},{\"attributes\":{\"overlay\":{\"id\":\"1378\"}},\"id\":\"1374\",\"type\":\"BoxZoomTool\"},{\"attributes\":{},\"id\":\"1375\",\"type\":\"SaveTool\"},{\"attributes\":{},\"id\":\"1376\",\"type\":\"ResetTool\"},{\"attributes\":{\"bottom_units\":\"screen\",\"coordinates\":null,\"fill_alpha\":0.5,\"fill_color\":\"lightgrey\",\"group\":null,\"left_units\":\"screen\",\"level\":\"overlay\",\"line_alpha\":1.0,\"line_color\":\"black\",\"line_dash\":[4,4],\"line_width\":2,\"right_units\":\"screen\",\"syncable\":false,\"top_units\":\"screen\"},\"id\":\"1378\",\"type\":\"BoxAnnotation\"},{\"attributes\":{\"fill_color\":{\"value\":\"#1f77b4\"},\"height\":{\"value\":0.75},\"line_color\":{\"value\":\"white\"},\"right\":{\"field\":\"Views\"},\"y\":{\"field\":\"Path\"}},\"id\":\"1390\",\"type\":\"HBar\"},{\"attributes\":{\"source\":{\"id\":\"1388\"}},\"id\":\"1394\",\"type\":\"CDSView\"},{\"attributes\":{\"coordinates\":null,\"data_source\":{\"id\":\"1388\"},\"glyph\":{\"id\":\"1390\"},\"group\":null,\"hover_glyph\":null,\"muted_glyph\":{\"id\":\"1392\"},\"nonselection_glyph\":{\"id\":\"1391\"},\"view\":{\"id\":\"1394\"}},\"id\":\"1393\",\"type\":\"GlyphRenderer\"},{\"attributes\":{},\"id\":\"1436\",\"type\":\"UnionRenderers\"},{\"attributes\":{\"tools\":[{\"id\":\"1372\"},{\"id\":\"1373\"},{\"id\":\"1374\"},{\"id\":\"1375\"},{\"id\":\"1376\"},{\"id\":\"1377\"},{\"id\":\"1379\"}]},\"id\":\"1380\",\"type\":\"Toolbar\"},{\"attributes\":{},\"id\":\"1437\",\"type\":\"Selection\"}],\"root_ids\":[\"1354\"]},\"title\":\"Bokeh Application\",\"version\":\"2.4.3\"}};\n",
       "  const render_items = [{\"docid\":\"0e655435-e338-467e-bba7-38c2686ecc48\",\"root_ids\":[\"1354\"],\"roots\":{\"1354\":\"3f4d09cd-1fe3-4a8a-be29-28b2587f217f\"}}];\n",
       "  root.Bokeh.embed.embed_items_notebook(docs_json, render_items);\n",
       "  }\n",
       "  if (root.Bokeh !== undefined) {\n",
       "    embed_document(root);\n",
       "  } else {\n",
       "    let attempts = 0;\n",
       "    const timer = setInterval(function(root) {\n",
       "      if (root.Bokeh !== undefined) {\n",
       "        clearInterval(timer);\n",
       "        embed_document(root);\n",
       "      } else {\n",
       "        attempts++;\n",
       "        if (attempts > 100) {\n",
       "          clearInterval(timer);\n",
       "          console.log(\"Bokeh: ERROR: Unable to run BokehJS code because BokehJS library is missing\");\n",
       "        }\n",
       "      }\n",
       "    }, 10, root)\n",
       "  }\n",
       "})(window);"
      ],
      "application/vnd.bokehjs_exec.v0+json": ""
     },
     "metadata": {
      "application/vnd.bokehjs_exec.v0+json": {
       "id": "1354"
      }
     },
     "output_type": "display_data"
    }
   ],
   "source": [
    "n = 20\n",
    "subset = pathviews.sort_values('Views', ascending=False)[:n]\n",
    "p = figure(y_range=subset['Path'], height=400, tooltips=[(\"URL\", \"@Path\"), (\"Views\", \"@Views\")],\n",
    "           title=f\"Views by URL (Top {n}, {data_period})\")\n",
    "p.hbar(y='Path', right='Views', source=subset, height=0.75,\n",
    "       line_color='white')\n",
    "p.xaxis.axis_label = 'Total page views'\n",
    "show(p)"
   ]
  },
  {
   "cell_type": "code",
   "execution_count": 8,
   "id": "7337d3f9-450a-48c4-aa2d-bc36ae69356e",
   "metadata": {
    "execution": {
     "iopub.execute_input": "2022-10-14T19:43:54.458537Z",
     "iopub.status.busy": "2022-10-14T19:43:54.457519Z",
     "iopub.status.idle": "2022-10-14T19:43:54.545006Z",
     "shell.execute_reply": "2022-10-14T19:43:54.543802Z"
    }
   },
   "outputs": [
    {
     "data": {
      "text/html": [
       "\n",
       "  <div class=\"bk-root\" id=\"88a5b7cb-b3db-48b6-82c2-183ac54e7f67\" data-root-id=\"1489\"></div>\n"
      ]
     },
     "metadata": {},
     "output_type": "display_data"
    },
    {
     "data": {
      "application/javascript": [
       "(function(root) {\n",
       "  function embed_document(root) {\n",
       "  const docs_json = {\"0b83f5de-881e-4a96-b31a-d9ac0ce37dda\":{\"defs\":[],\"roots\":{\"references\":[{\"attributes\":{\"below\":[{\"id\":\"1500\"}],\"center\":[{\"id\":\"1502\"},{\"id\":\"1506\"}],\"height\":350,\"left\":[{\"id\":\"1503\"}],\"renderers\":[{\"id\":\"1528\"}],\"title\":{\"id\":\"1490\"},\"toolbar\":{\"id\":\"1515\"},\"x_range\":{\"id\":\"1492\"},\"x_scale\":{\"id\":\"1496\"},\"y_range\":{\"id\":\"1494\"},\"y_scale\":{\"id\":\"1498\"}},\"id\":\"1489\",\"subtype\":\"Figure\",\"type\":\"Plot\"},{\"attributes\":{},\"id\":\"1580\",\"type\":\"AllLabels\"},{\"attributes\":{\"tools\":[{\"id\":\"1507\"},{\"id\":\"1508\"},{\"id\":\"1509\"},{\"id\":\"1510\"},{\"id\":\"1511\"},{\"id\":\"1512\"},{\"id\":\"1514\"}]},\"id\":\"1515\",\"type\":\"Toolbar\"},{\"attributes\":{},\"id\":\"1494\",\"type\":\"DataRange1d\"},{\"attributes\":{\"axis\":{\"id\":\"1500\"},\"coordinates\":null,\"group\":null,\"ticker\":null},\"id\":\"1502\",\"type\":\"Grid\"},{\"attributes\":{\"data\":{\"Prefix\":[\"gallery\",\"user_guide\",\"reference\"],\"Views\":[20903,29741,49303],\"index\":[0,1,2]},\"selected\":{\"id\":\"1582\"},\"selection_policy\":{\"id\":\"1581\"}},\"id\":\"1523\",\"type\":\"ColumnDataSource\"},{\"attributes\":{\"fill_alpha\":{\"value\":0.1},\"fill_color\":{\"value\":\"#1f77b4\"},\"hatch_alpha\":{\"value\":0.1},\"line_alpha\":{\"value\":0.1},\"line_color\":{\"value\":\"#1f77b4\"},\"top\":{\"field\":\"Views\"},\"width\":{\"value\":0.75},\"x\":{\"field\":\"Prefix\"}},\"id\":\"1526\",\"type\":\"VBar\"},{\"attributes\":{},\"id\":\"1512\",\"type\":\"HelpTool\"},{\"attributes\":{},\"id\":\"1581\",\"type\":\"UnionRenderers\"},{\"attributes\":{},\"id\":\"1582\",\"type\":\"Selection\"},{\"attributes\":{},\"id\":\"1577\",\"type\":\"AllLabels\"},{\"attributes\":{\"fill_color\":{\"value\":\"#1f77b4\"},\"line_color\":{\"value\":\"#1f77b4\"},\"top\":{\"field\":\"Views\"},\"width\":{\"value\":0.75},\"x\":{\"field\":\"Prefix\"}},\"id\":\"1525\",\"type\":\"VBar\"},{\"attributes\":{\"overlay\":{\"id\":\"1513\"}},\"id\":\"1509\",\"type\":\"BoxZoomTool\"},{\"attributes\":{},\"id\":\"1510\",\"type\":\"SaveTool\"},{\"attributes\":{\"bottom_units\":\"screen\",\"coordinates\":null,\"fill_alpha\":0.5,\"fill_color\":\"lightgrey\",\"group\":null,\"left_units\":\"screen\",\"level\":\"overlay\",\"line_alpha\":1.0,\"line_color\":\"black\",\"line_dash\":[4,4],\"line_width\":2,\"right_units\":\"screen\",\"syncable\":false,\"top_units\":\"screen\"},\"id\":\"1513\",\"type\":\"BoxAnnotation\"},{\"attributes\":{},\"id\":\"1511\",\"type\":\"ResetTool\"},{\"attributes\":{},\"id\":\"1507\",\"type\":\"PanTool\"},{\"attributes\":{},\"id\":\"1498\",\"type\":\"LinearScale\"},{\"attributes\":{\"coordinates\":null,\"data_source\":{\"id\":\"1523\"},\"glyph\":{\"id\":\"1525\"},\"group\":null,\"hover_glyph\":null,\"muted_glyph\":{\"id\":\"1527\"},\"nonselection_glyph\":{\"id\":\"1526\"},\"view\":{\"id\":\"1529\"}},\"id\":\"1528\",\"type\":\"GlyphRenderer\"},{\"attributes\":{},\"id\":\"1508\",\"type\":\"WheelZoomTool\"},{\"attributes\":{\"coordinates\":null,\"formatter\":{\"id\":\"1579\"},\"group\":null,\"major_label_policy\":{\"id\":\"1580\"},\"ticker\":{\"id\":\"1501\"}},\"id\":\"1500\",\"type\":\"CategoricalAxis\"},{\"attributes\":{\"fill_alpha\":{\"value\":0.2},\"fill_color\":{\"value\":\"#1f77b4\"},\"hatch_alpha\":{\"value\":0.2},\"line_alpha\":{\"value\":0.2},\"line_color\":{\"value\":\"#1f77b4\"},\"top\":{\"field\":\"Views\"},\"width\":{\"value\":0.75},\"x\":{\"field\":\"Prefix\"}},\"id\":\"1527\",\"type\":\"VBar\"},{\"attributes\":{},\"id\":\"1576\",\"type\":\"BasicTickFormatter\"},{\"attributes\":{\"axis_label\":\"Total page views\",\"coordinates\":null,\"formatter\":{\"id\":\"1576\"},\"group\":null,\"major_label_policy\":{\"id\":\"1577\"},\"ticker\":{\"id\":\"1504\"}},\"id\":\"1503\",\"type\":\"LinearAxis\"},{\"attributes\":{\"factors\":[\"gallery\",\"user_guide\",\"reference\"]},\"id\":\"1492\",\"type\":\"FactorRange\"},{\"attributes\":{},\"id\":\"1579\",\"type\":\"CategoricalTickFormatter\"},{\"attributes\":{},\"id\":\"1501\",\"type\":\"CategoricalTicker\"},{\"attributes\":{\"axis\":{\"id\":\"1503\"},\"coordinates\":null,\"dimension\":1,\"group\":null,\"ticker\":null},\"id\":\"1506\",\"type\":\"Grid\"},{\"attributes\":{},\"id\":\"1504\",\"type\":\"BasicTicker\"},{\"attributes\":{\"callback\":null,\"tooltips\":[[\"Section\",\"@Prefix\"],[\"Views\",\"@Views\"]]},\"id\":\"1514\",\"type\":\"HoverTool\"},{\"attributes\":{},\"id\":\"1496\",\"type\":\"CategoricalScale\"},{\"attributes\":{\"coordinates\":null,\"group\":null,\"text\":\"Page views by docs section (2022-06-15 to 2022-10-13)\"},\"id\":\"1490\",\"type\":\"Title\"},{\"attributes\":{\"source\":{\"id\":\"1523\"}},\"id\":\"1529\",\"type\":\"CDSView\"}],\"root_ids\":[\"1489\"]},\"title\":\"Bokeh Application\",\"version\":\"2.4.3\"}};\n",
       "  const render_items = [{\"docid\":\"0b83f5de-881e-4a96-b31a-d9ac0ce37dda\",\"root_ids\":[\"1489\"],\"roots\":{\"1489\":\"88a5b7cb-b3db-48b6-82c2-183ac54e7f67\"}}];\n",
       "  root.Bokeh.embed.embed_items_notebook(docs_json, render_items);\n",
       "  }\n",
       "  if (root.Bokeh !== undefined) {\n",
       "    embed_document(root);\n",
       "  } else {\n",
       "    let attempts = 0;\n",
       "    const timer = setInterval(function(root) {\n",
       "      if (root.Bokeh !== undefined) {\n",
       "        clearInterval(timer);\n",
       "        embed_document(root);\n",
       "      } else {\n",
       "        attempts++;\n",
       "        if (attempts > 100) {\n",
       "          clearInterval(timer);\n",
       "          console.log(\"Bokeh: ERROR: Unable to run BokehJS code because BokehJS library is missing\");\n",
       "        }\n",
       "      }\n",
       "    }, 10, root)\n",
       "  }\n",
       "})(window);"
      ],
      "application/vnd.bokehjs_exec.v0+json": ""
     },
     "metadata": {
      "application/vnd.bokehjs_exec.v0+json": {
       "id": "1489"
      }
     },
     "output_type": "display_data"
    }
   ],
   "source": [
    "prefixes = ['gallery', 'reference', 'user_guide']\n",
    "pathviews['Prefix'] = pathviews['Path'].str.split(\"/\").str[1]\n",
    "groupviews = pathviews.loc[pathviews['Prefix'].isin(prefixes), :].groupby('Prefix')['Views'].sum().loc[prefixes].sort_values().reset_index()\n",
    "\n",
    "p = figure(x_range=groupviews['Prefix'], height=350, tooltips=[(\"Section\", \"@Prefix\"), (\"Views\", \"@Views\")],\n",
    "           title=f\"Page views by docs section ({data_period})\")\n",
    "p.vbar(x='Prefix', top='Views', width=0.75, source=groupviews)\n",
    "p.yaxis.axis_label = 'Total page views'\n",
    "show(p)"
   ]
  },
  {
   "cell_type": "code",
   "execution_count": 9,
   "id": "a342f421-5af7-4cb2-b884-d123818578d1",
   "metadata": {
    "execution": {
     "iopub.execute_input": "2022-10-14T19:43:54.550050Z",
     "iopub.status.busy": "2022-10-14T19:43:54.549411Z",
     "iopub.status.idle": "2022-10-14T19:43:54.646599Z",
     "shell.execute_reply": "2022-10-14T19:43:54.645705Z"
    }
   },
   "outputs": [
    {
     "data": {
      "text/html": [
       "\n",
       "  <div class=\"bk-root\" id=\"6ec8f008-de28-4a26-83dd-b77ad0953283\" data-root-id=\"1634\"></div>\n"
      ]
     },
     "metadata": {},
     "output_type": "display_data"
    },
    {
     "data": {
      "application/javascript": [
       "(function(root) {\n",
       "  function embed_document(root) {\n",
       "  const docs_json = {\"a71b6d91-5bbe-4f76-8b14-1c3deac8f22b\":{\"defs\":[],\"roots\":{\"references\":[{\"attributes\":{\"below\":[{\"id\":\"1645\"}],\"center\":[{\"id\":\"1647\"},{\"id\":\"1651\"}],\"height\":350,\"left\":[{\"id\":\"1648\"}],\"renderers\":[{\"id\":\"1674\"}],\"title\":{\"id\":\"1635\"},\"toolbar\":{\"id\":\"1660\"},\"x_range\":{\"id\":\"1637\"},\"x_scale\":{\"id\":\"1641\"},\"y_range\":{\"id\":\"1639\"},\"y_scale\":{\"id\":\"1643\"}},\"id\":\"1634\",\"subtype\":\"Figure\",\"type\":\"Plot\"},{\"attributes\":{\"data\":{\"Path\":[\"/gallery/bifacial/index.html\",\"/gallery/bifacial/plot_bifi_model_mc.html\",\"/gallery/bifacial/plot_bifi_model_pvwatts.html\",\"/gallery/bifacial/plot_pvfactors_fixed_tilt.html\",\"/gallery/index.html\",\"/gallery/irradiance-transposition/index.html\",\"/gallery/irradiance-transposition/plot_ghi_transposition.html\",\"/gallery/irradiance-transposition/plot_interval_transposition_error.html\",\"/gallery/irradiance-transposition/plot_mixed_orientation.html\",\"/gallery/irradiance-transposition/plot_seasonal_tilt.html\",\"/gallery/irradiance-transposition/plot_transposition_gain.html\",\"/gallery/iv-modeling/index.html\",\"/gallery/iv-modeling/plot_singlediode.html\",\"/gallery/reflections/index.html\",\"/gallery/reflections/plot_diffuse_aoi_correction.html\",\"/gallery/shading/index.html\",\"/gallery/shading/plot_partial_module_shading_simple.html\",\"/gallery/shading/plot_passias_diffuse_shading.html\",\"/gallery/soiling/index.html\",\"/gallery/soiling/plot_fig3A_hsu_soiling_example.html\",\"/gallery/soiling/plot_greensboro_kimber_soiling.html\",\"/gallery/solar-position/index.html\",\"/gallery/solar-position/plot_sunpath_diagrams.html\",\"/gallery/solar-tracking/index.html\",\"/gallery/solar-tracking/plot_discontinuous_tracking.html\",\"/gallery/solar-tracking/plot_dual_axis_tracking.html\",\"/gallery/solar-tracking/plot_single_axis_tracking.html\",\"/gallery/solar-tracking/plot_single_axis_tracking_on_sloped_terrain.html\",\"/gallery/spectrum/index.html\",\"/gallery/spectrum/plot_spectrl2_fig51A.html\",\"/gallery/spectrum/sg_execution_times.html\",\"/reference/airmass_atmospheric.html\",\"/reference/bifacial.html\",\"/reference/classes.html\",\"/reference/clearsky.html\",\"/reference/effects_on_pv_system_output.html\",\"/reference/forecasting.html\",\"/reference/generated/pvlib.atmosphere.alt2pres.html\",\"/reference/generated/pvlib.atmosphere.angstrom_alpha.html\",\"/reference/generated/pvlib.atmosphere.angstrom_aod_at_lambda.html\",\"/reference/generated/pvlib.atmosphere.bird_hulstrom80_aod_bb.html\",\"/reference/generated/pvlib.atmosphere.first_solar_spectral_correction.html\",\"/reference/generated/pvlib.atmosphere.get_absolute_airmass.html\",\"/reference/generated/pvlib.atmosphere.get_relative_airmass.html\",\"/reference/generated/pvlib.atmosphere.gueymard94_pw.html\",\"/reference/generated/pvlib.atmosphere.kasten96_lt.html\",\"/reference/generated/pvlib.atmosphere.pres2alt.html\",\"/reference/generated/pvlib.bifacial.infinite_sheds.get_irradiance.html\",\"/reference/generated/pvlib.bifacial.infinite_sheds.get_irradiance_poa.html\",\"/reference/generated/pvlib.bifacial.pvfactors.pvfactors_timeseries.html\",\"/reference/generated/pvlib.clearsky.bird.html\",\"/reference/generated/pvlib.clearsky.detect_clearsky.html\",\"/reference/generated/pvlib.clearsky.haurwitz.html\",\"/reference/generated/pvlib.clearsky.ineichen.html\",\"/reference/generated/pvlib.clearsky.lookup_linke_turbidity.html\",\"/reference/generated/pvlib.clearsky.simplified_solis.html\",\"/reference/generated/pvlib.forecast.ForecastModel.cloud_cover_to_ghi_linear.html\",\"/reference/generated/pvlib.forecast.ForecastModel.cloud_cover_to_irradiance.html\",\"/reference/generated/pvlib.forecast.ForecastModel.cloud_cover_to_irradiance_campbell_norman.html\",\"/reference/generated/pvlib.forecast.ForecastModel.cloud_cover_to_irradiance_clearsky_scaling.html\",\"/reference/generated/pvlib.forecast.ForecastModel.cloud_cover_to_transmittance_linear.html\",\"/reference/generated/pvlib.forecast.ForecastModel.get_data.html\",\"/reference/generated/pvlib.forecast.ForecastModel.get_processed_data.html\",\"/reference/generated/pvlib.forecast.ForecastModel.gust_to_speed.html\",\"/reference/generated/pvlib.forecast.ForecastModel.isobaric_to_ambient_temperature.html\",\"/reference/generated/pvlib.forecast.ForecastModel.kelvin_to_celsius.html\",\"/reference/generated/pvlib.forecast.ForecastModel.process_data.html\",\"/reference/generated/pvlib.forecast.ForecastModel.rename.html\",\"/reference/generated/pvlib.forecast.ForecastModel.set_dataset.html\",\"/reference/generated/pvlib.forecast.ForecastModel.set_location.html\",\"/reference/generated/pvlib.forecast.ForecastModel.set_query_latlon.html\",\"/reference/generated/pvlib.forecast.ForecastModel.set_time.html\",\"/reference/generated/pvlib.forecast.ForecastModel.uv_to_speed.html\",\"/reference/generated/pvlib.forecast.GFS.__init__.html\",\"/reference/generated/pvlib.forecast.GFS.cloud_cover_to_ghi_linear.html\",\"/reference/generated/pvlib.forecast.GFS.cloud_cover_to_irradiance.html\",\"/reference/generated/pvlib.forecast.GFS.cloud_cover_to_irradiance_campbell_norman.html\",\"/reference/generated/pvlib.forecast.GFS.cloud_cover_to_irradiance_clearsky_scaling.html\",\"/reference/generated/pvlib.forecast.GFS.cloud_cover_to_transmittance_linear.html\",\"/reference/generated/pvlib.forecast.GFS.connect_to_catalog.html\",\"/reference/generated/pvlib.forecast.GFS.get_data.html\",\"/reference/generated/pvlib.forecast.GFS.get_processed_data.html\",\"/reference/generated/pvlib.forecast.GFS.gust_to_speed.html\",\"/reference/generated/pvlib.forecast.GFS.html\",\"/reference/generated/pvlib.forecast.GFS.isobaric_to_ambient_temperature.html\",\"/reference/generated/pvlib.forecast.GFS.kelvin_to_celsius.html\",\"/reference/generated/pvlib.forecast.GFS.process_data.html\",\"/reference/generated/pvlib.forecast.GFS.rename.html\",\"/reference/generated/pvlib.forecast.GFS.set_dataset.html\",\"/reference/generated/pvlib.forecast.GFS.set_location.html\",\"/reference/generated/pvlib.forecast.GFS.set_query_latlon.html\",\"/reference/generated/pvlib.forecast.GFS.set_query_time_range.html\",\"/reference/generated/pvlib.forecast.GFS.set_time.html\",\"/reference/generated/pvlib.forecast.GFS.uv_to_speed.html\",\"/reference/generated/pvlib.forecast.HRRR.__init__.html\",\"/reference/generated/pvlib.forecast.HRRR.cloud_cover_to_ghi_linear.html\",\"/reference/generated/pvlib.forecast.HRRR.cloud_cover_to_irradiance.html\",\"/reference/generated/pvlib.forecast.HRRR.cloud_cover_to_irradiance_campbell_norman.html\",\"/reference/generated/pvlib.forecast.HRRR.cloud_cover_to_irradiance_clearsky_scaling.html\",\"/reference/generated/pvlib.forecast.HRRR.cloud_cover_to_transmittance_linear.html\",\"/reference/generated/pvlib.forecast.HRRR.connect_to_catalog.html\",\"/reference/generated/pvlib.forecast.HRRR.get_data.html\",\"/reference/generated/pvlib.forecast.HRRR.get_processed_data.html\",\"/reference/generated/pvlib.forecast.HRRR.gust_to_speed.html\",\"/reference/generated/pvlib.forecast.HRRR.html\",\"/reference/generated/pvlib.forecast.HRRR.isobaric_to_ambient_temperature.html\",\"/reference/generated/pvlib.forecast.HRRR.kelvin_to_celsius.html\",\"/reference/generated/pvlib.forecast.HRRR.process_data.html\",\"/reference/generated/pvlib.forecast.HRRR.rename.html\",\"/reference/generated/pvlib.forecast.HRRR.set_dataset.html\",\"/reference/generated/pvlib.forecast.HRRR.set_location.html\",\"/reference/generated/pvlib.forecast.HRRR.set_query_latlon.html\",\"/reference/generated/pvlib.forecast.HRRR.set_query_time_range.html\",\"/reference/generated/pvlib.forecast.HRRR.set_time.html\",\"/reference/generated/pvlib.forecast.HRRR.uv_to_speed.html\",\"/reference/generated/pvlib.forecast.HRRR_ESRL.__init__.html\",\"/reference/generated/pvlib.forecast.HRRR_ESRL.cloud_cover_to_ghi_linear.html\",\"/reference/generated/pvlib.forecast.HRRR_ESRL.cloud_cover_to_irradiance.html\",\"/reference/generated/pvlib.forecast.HRRR_ESRL.cloud_cover_to_irradiance_campbell_norman.html\",\"/reference/generated/pvlib.forecast.HRRR_ESRL.cloud_cover_to_irradiance_clearsky_scaling.html\",\"/reference/generated/pvlib.forecast.HRRR_ESRL.cloud_cover_to_transmittance_linear.html\",\"/reference/generated/pvlib.forecast.HRRR_ESRL.connect_to_catalog.html\",\"/reference/generated/pvlib.forecast.HRRR_ESRL.get_data.html\",\"/reference/generated/pvlib.forecast.HRRR_ESRL.get_processed_data.html\",\"/reference/generated/pvlib.forecast.HRRR_ESRL.gust_to_speed.html\",\"/reference/generated/pvlib.forecast.HRRR_ESRL.html\",\"/reference/generated/pvlib.forecast.HRRR_ESRL.isobaric_to_ambient_temperature.html\",\"/reference/generated/pvlib.forecast.HRRR_ESRL.kelvin_to_celsius.html\",\"/reference/generated/pvlib.forecast.HRRR_ESRL.process_data.html\",\"/reference/generated/pvlib.forecast.HRRR_ESRL.rename.html\",\"/reference/generated/pvlib.forecast.HRRR_ESRL.set_dataset.html\",\"/reference/generated/pvlib.forecast.HRRR_ESRL.set_location.html\",\"/reference/generated/pvlib.forecast.HRRR_ESRL.set_query_latlon.html\",\"/reference/generated/pvlib.forecast.HRRR_ESRL.set_query_time_range.html\",\"/reference/generated/pvlib.forecast.HRRR_ESRL.set_time.html\",\"/reference/generated/pvlib.forecast.HRRR_ESRL.uv_to_speed.html\",\"/reference/generated/pvlib.forecast.NAM.__init__.html\",\"/reference/generated/pvlib.forecast.NAM.cloud_cover_to_ghi_linear.html\",\"/reference/generated/pvlib.forecast.NAM.cloud_cover_to_irradiance.html\",\"/reference/generated/pvlib.forecast.NAM.cloud_cover_to_irradiance_campbell_norman.html\",\"/reference/generated/pvlib.forecast.NAM.cloud_cover_to_irradiance_clearsky_scaling.html\",\"/reference/generated/pvlib.forecast.NAM.cloud_cover_to_transmittance_linear.html\",\"/reference/generated/pvlib.forecast.NAM.connect_to_catalog.html\",\"/reference/generated/pvlib.forecast.NAM.get_data.html\",\"/reference/generated/pvlib.forecast.NAM.get_processed_data.html\",\"/reference/generated/pvlib.forecast.NAM.gust_to_speed.html\",\"/reference/generated/pvlib.forecast.NAM.html\",\"/reference/generated/pvlib.forecast.NAM.isobaric_to_ambient_temperature.html\",\"/reference/generated/pvlib.forecast.NAM.kelvin_to_celsius.html\",\"/reference/generated/pvlib.forecast.NAM.process_data.html\",\"/reference/generated/pvlib.forecast.NAM.rename.html\",\"/reference/generated/pvlib.forecast.NAM.set_dataset.html\",\"/reference/generated/pvlib.forecast.NAM.set_location.html\",\"/reference/generated/pvlib.forecast.NAM.set_query_latlon.html\",\"/reference/generated/pvlib.forecast.NAM.set_query_time_range.html\",\"/reference/generated/pvlib.forecast.NAM.set_time.html\",\"/reference/generated/pvlib.forecast.NAM.uv_to_speed.html\",\"/reference/generated/pvlib.forecast.NDFD.__init__.html\",\"/reference/generated/pvlib.forecast.NDFD.cloud_cover_to_ghi_linear.html\",\"/reference/generated/pvlib.forecast.NDFD.cloud_cover_to_irradiance.html\",\"/reference/generated/pvlib.forecast.NDFD.cloud_cover_to_irradiance_campbell_norman.html\",\"/reference/generated/pvlib.forecast.NDFD.cloud_cover_to_irradiance_clearsky_scaling.html\",\"/reference/generated/pvlib.forecast.NDFD.cloud_cover_to_transmittance_linear.html\",\"/reference/generated/pvlib.forecast.NDFD.connect_to_catalog.html\",\"/reference/generated/pvlib.forecast.NDFD.get_data.html\",\"/reference/generated/pvlib.forecast.NDFD.get_processed_data.html\",\"/reference/generated/pvlib.forecast.NDFD.gust_to_speed.html\",\"/reference/generated/pvlib.forecast.NDFD.html\",\"/reference/generated/pvlib.forecast.NDFD.isobaric_to_ambient_temperature.html\",\"/reference/generated/pvlib.forecast.NDFD.kelvin_to_celsius.html\",\"/reference/generated/pvlib.forecast.NDFD.process_data.html\",\"/reference/generated/pvlib.forecast.NDFD.rename.html\",\"/reference/generated/pvlib.forecast.NDFD.set_dataset.html\",\"/reference/generated/pvlib.forecast.NDFD.set_location.html\",\"/reference/generated/pvlib.forecast.NDFD.set_query_latlon.html\",\"/reference/generated/pvlib.forecast.NDFD.set_query_time_range.html\",\"/reference/generated/pvlib.forecast.NDFD.set_time.html\",\"/reference/generated/pvlib.forecast.NDFD.uv_to_speed.html\",\"/reference/generated/pvlib.forecast.RAP.__init__.html\",\"/reference/generated/pvlib.forecast.RAP.cloud_cover_to_ghi_linear.html\",\"/reference/generated/pvlib.forecast.RAP.cloud_cover_to_irradiance.html\",\"/reference/generated/pvlib.forecast.RAP.cloud_cover_to_irradiance_campbell_norman.html\",\"/reference/generated/pvlib.forecast.RAP.cloud_cover_to_irradiance_clearsky_scaling.html\",\"/reference/generated/pvlib.forecast.RAP.cloud_cover_to_transmittance_linear.html\",\"/reference/generated/pvlib.forecast.RAP.connect_to_catalog.html\",\"/reference/generated/pvlib.forecast.RAP.get_data.html\",\"/reference/generated/pvlib.forecast.RAP.get_processed_data.html\",\"/reference/generated/pvlib.forecast.RAP.gust_to_speed.html\",\"/reference/generated/pvlib.forecast.RAP.html\",\"/reference/generated/pvlib.forecast.RAP.isobaric_to_ambient_temperature.html\",\"/reference/generated/pvlib.forecast.RAP.kelvin_to_celsius.html\",\"/reference/generated/pvlib.forecast.RAP.process_data.html\",\"/reference/generated/pvlib.forecast.RAP.rename.html\",\"/reference/generated/pvlib.forecast.RAP.set_dataset.html\",\"/reference/generated/pvlib.forecast.RAP.set_location.html\",\"/reference/generated/pvlib.forecast.RAP.set_query_latlon.html\",\"/reference/generated/pvlib.forecast.RAP.set_query_time_range.html\",\"/reference/generated/pvlib.forecast.RAP.set_time.html\",\"/reference/generated/pvlib.forecast.RAP.uv_to_speed.html\",\"/reference/generated/pvlib.iam.ashrae.html\",\"/reference/generated/pvlib.iam.interp.html\",\"/reference/generated/pvlib.iam.marion_diffuse.html\",\"/reference/generated/pvlib.iam.marion_integrate.html\",\"/reference/generated/pvlib.iam.martin_ruiz.html\",\"/reference/generated/pvlib.iam.martin_ruiz_diffuse.html\",\"/reference/generated/pvlib.iam.physical.html\",\"/reference/generated/pvlib.iam.sapm.html\",\"/reference/generated/pvlib.inverter.adr.html\",\"/reference/generated/pvlib.inverter.fit_sandia.html\",\"/reference/generated/pvlib.inverter.pvwatts.html\",\"/reference/generated/pvlib.inverter.pvwatts_multi.html\",\"/reference/generated/pvlib.inverter.sandia.html\",\"/reference/generated/pvlib.inverter.sandia_multi.html\",\"/reference/generated/pvlib.iotools.get_bsrn.html\",\"/reference/generated/pvlib.iotools.get_cams.html\",\"/reference/generated/pvlib.iotools.get_ecmwf_macc.html\",\"/reference/generated/pvlib.iotools.get_psm3.html\",\"/reference/generated/pvlib.iotools.get_pvgis_hourly.html\",\"/reference/generated/pvlib.iotools.get_pvgis_tmy.html\",\"/reference/generated/pvlib.iotools.parse_bsrn.html\",\"/reference/generated/pvlib.iotools.parse_cams.html\",\"/reference/generated/pvlib.iotools.parse_epw.html\",\"/reference/generated/pvlib.iotools.parse_psm3.html\",\"/reference/generated/pvlib.iotools.read_bsrn.html\",\"/reference/generated/pvlib.iotools.read_cams.html\",\"/reference/generated/pvlib.iotools.read_crn.html\",\"/reference/generated/pvlib.iotools.read_ecmwf_macc.html\",\"/reference/generated/pvlib.iotools.read_epw.html\",\"/reference/generated/pvlib.iotools.read_midc.html\",\"/reference/generated/pvlib.iotools.read_midc_raw_data_from_nrel.html\",\"/reference/generated/pvlib.iotools.read_psm3.html\",\"/reference/generated/pvlib.iotools.read_pvgis_hourly.html\",\"/reference/generated/pvlib.iotools.read_pvgis_tmy.html\",\"/reference/generated/pvlib.iotools.read_solrad.html\",\"/reference/generated/pvlib.iotools.read_srml.html\",\"/reference/generated/pvlib.iotools.read_srml_month_from_solardat.html\",\"/reference/generated/pvlib.iotools.read_surfrad.html\",\"/reference/generated/pvlib.iotools.read_tmy2.html\",\"/reference/generated/pvlib.iotools.read_tmy3.html\",\"/reference/generated/pvlib.irradiance.aoi.html\",\"/reference/generated/pvlib.irradiance.aoi_projection.html\",\"/reference/generated/pvlib.irradiance.beam_component.html\",\"/reference/generated/pvlib.irradiance.campbell_norman.html\",\"/reference/generated/pvlib.irradiance.clearness_index.html\",\"/reference/generated/pvlib.irradiance.clearness_index_zenith_independent.html\",\"/reference/generated/pvlib.irradiance.clearsky_index.html\",\"/reference/generated/pvlib.irradiance.dirindex.html\",\"/reference/generated/pvlib.irradiance.dirint.html\",\"/reference/generated/pvlib.irradiance.disc.html\",\"/reference/generated/pvlib.irradiance.dni.html\",\"/reference/generated/pvlib.irradiance.erbs.html\",\"/reference/generated/pvlib.irradiance.get_extra_radiation.html\",\"/reference/generated/pvlib.irradiance.get_ground_diffuse.html\",\"/reference/generated/pvlib.irradiance.get_sky_diffuse.html\",\"/reference/generated/pvlib.irradiance.get_total_irradiance.html\",\"/reference/generated/pvlib.irradiance.gti_dirint.html\",\"/reference/generated/pvlib.irradiance.haydavies.html\",\"/reference/generated/pvlib.irradiance.isotropic.html\",\"/reference/generated/pvlib.irradiance.king.html\",\"/reference/generated/pvlib.irradiance.klucher.html\",\"/reference/generated/pvlib.irradiance.perez.html\",\"/reference/generated/pvlib.irradiance.poa_components.html\",\"/reference/generated/pvlib.irradiance.poa_horizontal_ratio.html\",\"/reference/generated/pvlib.irradiance.reindl.html\",\"/reference/generated/pvlib.ivtools.sde.fit_sandia_simple.html\",\"/reference/generated/pvlib.ivtools.sdm.fit_cec_sam.html\",\"/reference/generated/pvlib.ivtools.sdm.fit_desoto.html\",\"/reference/generated/pvlib.ivtools.sdm.fit_desoto_sandia.html\",\"/reference/generated/pvlib.ivtools.sdm.fit_pvsyst_sandia.html\",\"/reference/generated/pvlib.ivtools.sdm.pvsyst_temperature_coeff.html\",\"/reference/generated/pvlib.ivtools.utils.rectify_iv_curve.html\",\"/reference/generated/pvlib.location.Location.__init__.html\",\"/reference/generated/pvlib.location.Location.from_epw.html\",\"/reference/generated/pvlib.location.Location.from_tmy.html\",\"/reference/generated/pvlib.location.Location.get_airmass.html\",\"/reference/generated/pvlib.location.Location.get_clearsky.html\",\"/reference/generated/pvlib.location.Location.get_solarposition.html\",\"/reference/generated/pvlib.location.Location.get_sun_rise_set_transit.html\",\"/reference/generated/pvlib.location.Location.html\",\"/reference/generated/pvlib.location.lookup_altitude.html\",\"/reference/generated/pvlib.modelchain.ModelChain.__init__.html\",\"/reference/generated/pvlib.modelchain.ModelChain.ac_model.html\",\"/reference/generated/pvlib.modelchain.ModelChain.adr_inverter.html\",\"/reference/generated/pvlib.modelchain.ModelChain.aoi_model.html\",\"/reference/generated/pvlib.modelchain.ModelChain.ashrae_aoi_loss.html\",\"/reference/generated/pvlib.modelchain.ModelChain.cec.html\",\"/reference/generated/pvlib.modelchain.ModelChain.complete_irradiance.html\",\"/reference/generated/pvlib.modelchain.ModelChain.dc_model.html\",\"/reference/generated/pvlib.modelchain.ModelChain.dc_ohmic_model.html\",\"/reference/generated/pvlib.modelchain.ModelChain.dc_ohms_from_percent.html\",\"/reference/generated/pvlib.modelchain.ModelChain.desoto.html\",\"/reference/generated/pvlib.modelchain.ModelChain.effective_irradiance_model.html\",\"/reference/generated/pvlib.modelchain.ModelChain.faiman_temp.html\",\"/reference/generated/pvlib.modelchain.ModelChain.first_solar_spectral_loss.html\",\"/reference/generated/pvlib.modelchain.ModelChain.fuentes_temp.html\",\"/reference/generated/pvlib.modelchain.ModelChain.html\",\"/reference/generated/pvlib.modelchain.ModelChain.infer_ac_model.html\",\"/reference/generated/pvlib.modelchain.ModelChain.infer_aoi_model.html\",\"/reference/generated/pvlib.modelchain.ModelChain.infer_dc_model.html\",\"/reference/generated/pvlib.modelchain.ModelChain.infer_losses_model.html\",\"/reference/generated/pvlib.modelchain.ModelChain.infer_spectral_model.html\",\"/reference/generated/pvlib.modelchain.ModelChain.infer_temperature_model.html\",\"/reference/generated/pvlib.modelchain.ModelChain.losses_model.html\",\"/reference/generated/pvlib.modelchain.ModelChain.martin_ruiz_aoi_loss.html\",\"/reference/generated/pvlib.modelchain.ModelChain.no_aoi_loss.html\",\"/reference/generated/pvlib.modelchain.ModelChain.no_dc_ohmic_loss.html\",\"/reference/generated/pvlib.modelchain.ModelChain.no_extra_losses.html\",\"/reference/generated/pvlib.modelchain.ModelChain.no_spectral_loss.html\",\"/reference/generated/pvlib.modelchain.ModelChain.noct_sam_temp.html\",\"/reference/generated/pvlib.modelchain.ModelChain.physical_aoi_loss.html\",\"/reference/generated/pvlib.modelchain.ModelChain.prepare_inputs.html\",\"/reference/generated/pvlib.modelchain.ModelChain.prepare_inputs_from_poa.html\",\"/reference/generated/pvlib.modelchain.ModelChain.pvsyst.html\",\"/reference/generated/pvlib.modelchain.ModelChain.pvsyst_temp.html\",\"/reference/generated/pvlib.modelchain.ModelChain.pvwatts_dc.html\",\"/reference/generated/pvlib.modelchain.ModelChain.pvwatts_inverter.html\",\"/reference/generated/pvlib.modelchain.ModelChain.pvwatts_losses.html\",\"/reference/generated/pvlib.modelchain.ModelChain.run_model.html\",\"/reference/generated/pvlib.modelchain.ModelChain.run_model_from_effective_irradiance.html\",\"/reference/generated/pvlib.modelchain.ModelChain.run_model_from_poa.html\",\"/reference/generated/pvlib.modelchain.ModelChain.sandia_inverter.html\",\"/reference/generated/pvlib.modelchain.ModelChain.sapm.html\",\"/reference/generated/pvlib.modelchain.ModelChain.sapm_aoi_loss.html\",\"/reference/generated/pvlib.modelchain.ModelChain.sapm_spectral_loss.html\",\"/reference/generated/pvlib.modelchain.ModelChain.sapm_temp.html\",\"/reference/generated/pvlib.modelchain.ModelChain.spectral_model.html\",\"/reference/generated/pvlib.modelchain.ModelChain.temperature_model.html\",\"/reference/generated/pvlib.modelchain.ModelChain.with_pvwatts.html\",\"/reference/generated/pvlib.modelchain.ModelChain.with_sapm.html\",\"/reference/generated/pvlib.modelchain.ModelChainResult.__init__.html\",\"/reference/generated/pvlib.modelchain.ModelChainResult.html\",\"/reference/generated/pvlib.modelchain.basic_chain.html\",\"/reference/generated/pvlib.modelchain.get_orientation.html\",\"/reference/generated/pvlib.pvsystem.Array.__init__.html\",\"/reference/generated/pvlib.pvsystem.Array.dc_ohms_from_percent.html\",\"/reference/generated/pvlib.pvsystem.Array.get_aoi.html\",\"/reference/generated/pvlib.pvsystem.Array.get_cell_temperature.html\",\"/reference/generated/pvlib.pvsystem.Array.get_iam.html\",\"/reference/generated/pvlib.pvsystem.Array.get_irradiance.html\",\"/reference/generated/pvlib.pvsystem.Array.html\",\"/reference/generated/pvlib.pvsystem.FixedMount.__init__.html\",\"/reference/generated/pvlib.pvsystem.FixedMount.get_orientation.html\",\"/reference/generated/pvlib.pvsystem.FixedMount.html\",\"/reference/generated/pvlib.pvsystem.PVSystem.__init__.html\",\"/reference/generated/pvlib.pvsystem.PVSystem.adrinverter.html\",\"/reference/generated/pvlib.pvsystem.PVSystem.calcparams_cec.html\",\"/reference/generated/pvlib.pvsystem.PVSystem.calcparams_desoto.html\",\"/reference/generated/pvlib.pvsystem.PVSystem.calcparams_pvsyst.html\",\"/reference/generated/pvlib.pvsystem.PVSystem.dc_ohms_from_percent.html\",\"/reference/generated/pvlib.pvsystem.PVSystem.faiman_celltemp.html\",\"/reference/generated/pvlib.pvsystem.PVSystem.first_solar_spectral_loss.html\",\"/reference/generated/pvlib.pvsystem.PVSystem.fuentes_celltemp.html\",\"/reference/generated/pvlib.pvsystem.PVSystem.get_ac.html\",\"/reference/generated/pvlib.pvsystem.PVSystem.get_aoi.html\",\"/reference/generated/pvlib.pvsystem.PVSystem.get_cell_temperature.html\",\"/reference/generated/pvlib.pvsystem.PVSystem.get_iam.html\",\"/reference/generated/pvlib.pvsystem.PVSystem.get_irradiance.html\",\"/reference/generated/pvlib.pvsystem.PVSystem.html\",\"/reference/generated/pvlib.pvsystem.PVSystem.i_from_v.html\",\"/reference/generated/pvlib.pvsystem.PVSystem.noct_sam_celltemp.html\",\"/reference/generated/pvlib.pvsystem.PVSystem.pvsyst_celltemp.html\",\"/reference/generated/pvlib.pvsystem.PVSystem.pvwatts_ac.html\",\"/reference/generated/pvlib.pvsystem.PVSystem.pvwatts_dc.html\",\"/reference/generated/pvlib.pvsystem.PVSystem.pvwatts_losses.html\",\"/reference/generated/pvlib.pvsystem.PVSystem.sapm.html\",\"/reference/generated/pvlib.pvsystem.PVSystem.sapm_celltemp.html\",\"/reference/generated/pvlib.pvsystem.PVSystem.sapm_effective_irradiance.html\",\"/reference/generated/pvlib.pvsystem.PVSystem.sapm_spectral_loss.html\",\"/reference/generated/pvlib.pvsystem.PVSystem.scale_voltage_current_power.html\",\"/reference/generated/pvlib.pvsystem.PVSystem.singlediode.html\",\"/reference/generated/pvlib.pvsystem.PVSystem.snlinverter.html\",\"/reference/generated/pvlib.pvsystem.SingleAxisTrackerMount.__init__.html\",\"/reference/generated/pvlib.pvsystem.SingleAxisTrackerMount.get_orientation.html\",\"/reference/generated/pvlib.pvsystem.SingleAxisTrackerMount.html\",\"/reference/generated/pvlib.pvsystem.calcparams_cec.html\",\"/reference/generated/pvlib.pvsystem.calcparams_desoto.html\",\"/reference/generated/pvlib.pvsystem.calcparams_pvsyst.html\",\"/reference/generated/pvlib.pvsystem.combine_loss_factors.html\",\"/reference/generated/pvlib.pvsystem.dc_ohmic_losses.html\",\"/reference/generated/pvlib.pvsystem.dc_ohms_from_percent.html\",\"/reference/generated/pvlib.pvsystem.i_from_v.html\",\"/reference/generated/pvlib.pvsystem.max_power_point.html\",\"/reference/generated/pvlib.pvsystem.pvwatts_dc.html\",\"/reference/generated/pvlib.pvsystem.pvwatts_losses.html\",\"/reference/generated/pvlib.pvsystem.retrieve_sam.html\",\"/reference/generated/pvlib.pvsystem.sapm.html\",\"/reference/generated/pvlib.pvsystem.sapm_effective_irradiance.html\",\"/reference/generated/pvlib.pvsystem.sapm_spectral_loss.html\",\"/reference/generated/pvlib.pvsystem.scale_voltage_current_power.html\",\"/reference/generated/pvlib.pvsystem.singlediode.html\",\"/reference/generated/pvlib.pvsystem.v_from_i.html\",\"/reference/generated/pvlib.scaling.wvm.html\",\"/reference/generated/pvlib.shading.masking_angle.html\",\"/reference/generated/pvlib.shading.masking_angle_passias.html\",\"/reference/generated/pvlib.shading.sky_diffuse_passias.html\",\"/reference/generated/pvlib.singlediode.bishop88.html\",\"/reference/generated/pvlib.singlediode.bishop88_i_from_v.html\",\"/reference/generated/pvlib.singlediode.bishop88_mpp.html\",\"/reference/generated/pvlib.singlediode.bishop88_v_from_i.html\",\"/reference/generated/pvlib.singlediode.estimate_voc.html\",\"/reference/generated/pvlib.snow.coverage_nrel.html\",\"/reference/generated/pvlib.snow.dc_loss_nrel.html\",\"/reference/generated/pvlib.snow.fully_covered_nrel.html\",\"/reference/generated/pvlib.snow.loss_townsend.html\",\"/reference/generated/pvlib.soiling.hsu.html\",\"/reference/generated/pvlib.soiling.kimber.html\",\"/reference/generated/pvlib.solarposition.calc_time.html\",\"/reference/generated/pvlib.solarposition.declination_cooper69.html\",\"/reference/generated/pvlib.solarposition.declination_spencer71.html\",\"/reference/generated/pvlib.solarposition.ephemeris.html\",\"/reference/generated/pvlib.solarposition.equation_of_time_pvcdrom.html\",\"/reference/generated/pvlib.solarposition.equation_of_time_spencer71.html\",\"/reference/generated/pvlib.solarposition.get_solarposition.html\",\"/reference/generated/pvlib.solarposition.hour_angle.html\",\"/reference/generated/pvlib.solarposition.nrel_earthsun_distance.html\",\"/reference/generated/pvlib.solarposition.pyephem.html\",\"/reference/generated/pvlib.solarposition.pyephem_earthsun_distance.html\",\"/reference/generated/pvlib.solarposition.solar_azimuth_analytical.html\",\"/reference/generated/pvlib.solarposition.solar_zenith_analytical.html\",\"/reference/generated/pvlib.solarposition.spa_c.html\",\"/reference/generated/pvlib.solarposition.spa_python.html\",\"/reference/generated/pvlib.solarposition.sun_rise_set_transit_ephem.html\",\"/reference/generated/pvlib.solarposition.sun_rise_set_transit_geometric.html\",\"/reference/generated/pvlib.solarposition.sun_rise_set_transit_spa.html\",\"/reference/generated/pvlib.spa.calculate_deltat.html\",\"/reference/generated/pvlib.spa.html\",\"/reference/generated/pvlib.spectrum.calc_spectral_mismatch_field.html\",\"/reference/generated/pvlib.spectrum.get_am15g.html\",\"/reference/generated/pvlib.spectrum.get_example_spectral_response.html\",\"/reference/generated/pvlib.spectrum.spectrl2.html\",\"/reference/generated/pvlib.temperature.GenericLinearModel.__init__.html\",\"/reference/generated/pvlib.temperature.GenericLinearModel.get_generic_linear.html\",\"/reference/generated/pvlib.temperature.GenericLinearModel.html\",\"/reference/generated/pvlib.temperature.GenericLinearModel.to_faiman.html\",\"/reference/generated/pvlib.temperature.GenericLinearModel.to_noct_sam.html\",\"/reference/generated/pvlib.temperature.GenericLinearModel.to_pvsyst.html\",\"/reference/generated/pvlib.temperature.GenericLinearModel.to_sapm.html\",\"/reference/generated/pvlib.temperature.GenericLinearModel.use_faiman.html\",\"/reference/generated/pvlib.temperature.GenericLinearModel.use_noct_sam.html\",\"/reference/generated/pvlib.temperature.GenericLinearModel.use_pvsyst.html\",\"/reference/generated/pvlib.temperature.GenericLinearModel.use_sapm.html\",\"/reference/generated/pvlib.temperature.faiman.html\",\"/reference/generated/pvlib.temperature.fuentes.html\",\"/reference/generated/pvlib.temperature.generic_linear.html\",\"/reference/generated/pvlib.temperature.noct_sam.html\",\"/reference/generated/pvlib.temperature.prilliman.html\",\"/reference/generated/pvlib.temperature.pvsyst_cell.html\",\"/reference/generated/pvlib.temperature.ross.html\",\"/reference/generated/pvlib.temperature.sapm_cell.html\",\"/reference/generated/pvlib.temperature.sapm_cell_from_module.html\",\"/reference/generated/pvlib.temperature.sapm_module.html\",\"/reference/generated/pvlib.tracking.SingleAxisTracker.__init__.html\",\"/reference/generated/pvlib.tracking.SingleAxisTracker.adrinverter.html\",\"/reference/generated/pvlib.tracking.SingleAxisTracker.calcparams_cec.html\",\"/reference/generated/pvlib.tracking.SingleAxisTracker.calcparams_desoto.html\",\"/reference/generated/pvlib.tracking.SingleAxisTracker.calcparams_pvsyst.html\",\"/reference/generated/pvlib.tracking.SingleAxisTracker.dc_ohms_from_percent.html\",\"/reference/generated/pvlib.tracking.SingleAxisTracker.faiman_celltemp.html\",\"/reference/generated/pvlib.tracking.SingleAxisTracker.first_solar_spectral_loss.html\",\"/reference/generated/pvlib.tracking.SingleAxisTracker.fuentes_celltemp.html\",\"/reference/generated/pvlib.tracking.SingleAxisTracker.get_ac.html\",\"/reference/generated/pvlib.tracking.SingleAxisTracker.get_aoi.html\",\"/reference/generated/pvlib.tracking.SingleAxisTracker.get_cell_temperature.html\",\"/reference/generated/pvlib.tracking.SingleAxisTracker.get_iam.html\",\"/reference/generated/pvlib.tracking.SingleAxisTracker.get_irradiance.html\",\"/reference/generated/pvlib.tracking.SingleAxisTracker.html\",\"/reference/generated/pvlib.tracking.SingleAxisTracker.i_from_v.html\",\"/reference/generated/pvlib.tracking.SingleAxisTracker.noct_sam_celltemp.html\",\"/reference/generated/pvlib.tracking.SingleAxisTracker.pvsyst_celltemp.html\",\"/reference/generated/pvlib.tracking.SingleAxisTracker.pvwatts_ac.html\",\"/reference/generated/pvlib.tracking.SingleAxisTracker.pvwatts_dc.html\",\"/reference/generated/pvlib.tracking.SingleAxisTracker.pvwatts_losses.html\",\"/reference/generated/pvlib.tracking.SingleAxisTracker.sapm.html\",\"/reference/generated/pvlib.tracking.SingleAxisTracker.sapm_celltemp.html\",\"/reference/generated/pvlib.tracking.SingleAxisTracker.sapm_effective_irradiance.html\",\"/reference/generated/pvlib.tracking.SingleAxisTracker.sapm_spectral_loss.html\",\"/reference/generated/pvlib.tracking.SingleAxisTracker.scale_voltage_current_power.html\",\"/reference/generated/pvlib.tracking.SingleAxisTracker.singleaxis.html\",\"/reference/generated/pvlib.tracking.SingleAxisTracker.singlediode.html\",\"/reference/generated/pvlib.tracking.SingleAxisTracker.snlinverter.html\",\"/reference/generated/pvlib.tracking.calc_axis_tilt.html\",\"/reference/generated/pvlib.tracking.calc_cross_axis_tilt.html\",\"/reference/generated/pvlib.tracking.calc_surface_orientation.html\",\"/reference/generated/pvlib.tracking.singleaxis.html\",\"/reference/index.html\",\"/reference/iotools.html\",\"/reference/irradiance.html\",\"/reference/location.html\",\"/reference/modelchain.html\",\"/reference/pv_modeling.html\",\"/reference/scaling.html\",\"/reference/solarposition.html\",\"/reference/tracking.html\",\"/user_guide/bifacial.html\",\"/user_guide/clearsky.html\",\"/user_guide/comparison_pvlib_matlab.html\",\"/user_guide/forecasts.html\",\"/user_guide/index.html\",\"/user_guide/installation.html\",\"/user_guide/introtutorial.html\",\"/user_guide/modelchain.html\",\"/user_guide/package_overview.html\",\"/user_guide/pvsystem.html\",\"/user_guide/singlediode.html\",\"/user_guide/timetimezones.html\",\"/user_guide/variables_style_rules.html\"],\"Prefix\":[\"gallery\",\"gallery\",\"gallery\",\"gallery\",\"gallery\",\"gallery\",\"gallery\",\"gallery\",\"gallery\",\"gallery\",\"gallery\",\"gallery\",\"gallery\",\"gallery\",\"gallery\",\"gallery\",\"gallery\",\"gallery\",\"gallery\",\"gallery\",\"gallery\",\"gallery\",\"gallery\",\"gallery\",\"gallery\",\"gallery\",\"gallery\",\"gallery\",\"gallery\",\"gallery\",\"gallery\",\"reference\",\"reference\",\"reference\",\"reference\",\"reference\",\"reference\",\"reference\",\"reference\",\"reference\",\"reference\",\"reference\",\"reference\",\"reference\",\"reference\",\"reference\",\"reference\",\"reference\",\"reference\",\"reference\",\"reference\",\"reference\",\"reference\",\"reference\",\"reference\",\"reference\",\"reference\",\"reference\",\"reference\",\"reference\",\"reference\",\"reference\",\"reference\",\"reference\",\"reference\",\"reference\",\"reference\",\"reference\",\"reference\",\"reference\",\"reference\",\"reference\",\"reference\",\"reference\",\"reference\",\"reference\",\"reference\",\"reference\",\"reference\",\"reference\",\"reference\",\"reference\",\"reference\",\"reference\",\"reference\",\"reference\",\"reference\",\"reference\",\"reference\",\"reference\",\"reference\",\"reference\",\"reference\",\"reference\",\"reference\",\"reference\",\"reference\",\"reference\",\"reference\",\"reference\",\"reference\",\"reference\",\"reference\",\"reference\",\"reference\",\"reference\",\"reference\",\"reference\",\"reference\",\"reference\",\"reference\",\"reference\",\"reference\",\"reference\",\"reference\",\"reference\",\"reference\",\"reference\",\"reference\",\"reference\",\"reference\",\"reference\",\"reference\",\"reference\",\"reference\",\"reference\",\"reference\",\"reference\",\"reference\",\"reference\",\"reference\",\"reference\",\"reference\",\"reference\",\"reference\",\"reference\",\"reference\",\"reference\",\"reference\",\"reference\",\"reference\",\"reference\",\"reference\",\"reference\",\"reference\",\"reference\",\"reference\",\"reference\",\"reference\",\"reference\",\"reference\",\"reference\",\"reference\",\"reference\",\"reference\",\"reference\",\"reference\",\"reference\",\"reference\",\"reference\",\"reference\",\"reference\",\"reference\",\"reference\",\"reference\",\"reference\",\"reference\",\"reference\",\"reference\",\"reference\",\"reference\",\"reference\",\"reference\",\"reference\",\"reference\",\"reference\",\"reference\",\"reference\",\"reference\",\"reference\",\"reference\",\"reference\",\"reference\",\"reference\",\"reference\",\"reference\",\"reference\",\"reference\",\"reference\",\"reference\",\"reference\",\"reference\",\"reference\",\"reference\",\"reference\",\"reference\",\"reference\",\"reference\",\"reference\",\"reference\",\"reference\",\"reference\",\"reference\",\"reference\",\"reference\",\"reference\",\"reference\",\"reference\",\"reference\",\"reference\",\"reference\",\"reference\",\"reference\",\"reference\",\"reference\",\"reference\",\"reference\",\"reference\",\"reference\",\"reference\",\"reference\",\"reference\",\"reference\",\"reference\",\"reference\",\"reference\",\"reference\",\"reference\",\"reference\",\"reference\",\"reference\",\"reference\",\"reference\",\"reference\",\"reference\",\"reference\",\"reference\",\"reference\",\"reference\",\"reference\",\"reference\",\"reference\",\"reference\",\"reference\",\"reference\",\"reference\",\"reference\",\"reference\",\"reference\",\"reference\",\"reference\",\"reference\",\"reference\",\"reference\",\"reference\",\"reference\",\"reference\",\"reference\",\"reference\",\"reference\",\"reference\",\"reference\",\"reference\",\"reference\",\"reference\",\"reference\",\"reference\",\"reference\",\"reference\",\"reference\",\"reference\",\"reference\",\"reference\",\"reference\",\"reference\",\"reference\",\"reference\",\"reference\",\"reference\",\"reference\",\"reference\",\"reference\",\"reference\",\"reference\",\"reference\",\"reference\",\"reference\",\"reference\",\"reference\",\"reference\",\"reference\",\"reference\",\"reference\",\"reference\",\"reference\",\"reference\",\"reference\",\"reference\",\"reference\",\"reference\",\"reference\",\"reference\",\"reference\",\"reference\",\"reference\",\"reference\",\"reference\",\"reference\",\"reference\",\"reference\",\"reference\",\"reference\",\"reference\",\"reference\",\"reference\",\"reference\",\"reference\",\"reference\",\"reference\",\"reference\",\"reference\",\"reference\",\"reference\",\"reference\",\"reference\",\"reference\",\"reference\",\"reference\",\"reference\",\"reference\",\"reference\",\"reference\",\"reference\",\"reference\",\"reference\",\"reference\",\"reference\",\"reference\",\"reference\",\"reference\",\"reference\",\"reference\",\"reference\",\"reference\",\"reference\",\"reference\",\"reference\",\"reference\",\"reference\",\"reference\",\"reference\",\"reference\",\"reference\",\"reference\",\"reference\",\"reference\",\"reference\",\"reference\",\"reference\",\"reference\",\"reference\",\"reference\",\"reference\",\"reference\",\"reference\",\"reference\",\"reference\",\"reference\",\"reference\",\"reference\",\"reference\",\"reference\",\"reference\",\"reference\",\"reference\",\"reference\",\"reference\",\"reference\",\"reference\",\"reference\",\"reference\",\"reference\",\"reference\",\"reference\",\"reference\",\"reference\",\"reference\",\"reference\",\"reference\",\"reference\",\"reference\",\"reference\",\"reference\",\"reference\",\"reference\",\"reference\",\"reference\",\"reference\",\"reference\",\"reference\",\"reference\",\"reference\",\"reference\",\"reference\",\"reference\",\"reference\",\"reference\",\"reference\",\"reference\",\"reference\",\"reference\",\"reference\",\"reference\",\"reference\",\"reference\",\"reference\",\"reference\",\"reference\",\"reference\",\"reference\",\"reference\",\"reference\",\"reference\",\"reference\",\"reference\",\"reference\",\"reference\",\"reference\",\"reference\",\"reference\",\"reference\",\"reference\",\"reference\",\"reference\",\"reference\",\"reference\",\"reference\",\"reference\",\"reference\",\"reference\",\"reference\",\"reference\",\"reference\",\"reference\",\"reference\",\"reference\",\"reference\",\"reference\",\"reference\",\"reference\",\"reference\",\"reference\",\"reference\",\"reference\",\"reference\",\"reference\",\"reference\",\"reference\",\"reference\",\"reference\",\"reference\",\"reference\",\"reference\",\"reference\",\"reference\",\"reference\",\"reference\",\"reference\",\"reference\",\"reference\",\"reference\",\"reference\",\"reference\",\"reference\",\"reference\",\"reference\",\"reference\",\"reference\",\"reference\",\"reference\",\"reference\",\"reference\",\"reference\",\"reference\",\"reference\",\"reference\",\"reference\",\"reference\",\"reference\",\"reference\",\"reference\",\"reference\",\"reference\",\"user_guide\",\"user_guide\",\"user_guide\",\"user_guide\",\"user_guide\",\"user_guide\",\"user_guide\",\"user_guide\",\"user_guide\",\"user_guide\",\"user_guide\",\"user_guide\",\"user_guide\"],\"Views\":[280,857,1148,599,4949,319,1849,574,903,718,480,254,965,137,419,195,615,509,155,336,400,253,1211,229,250,392,601,409,146,750,1,265,162,406,840,541,463,56,23,28,25,96,118,189,43,51,27,234,191,392,139,139,103,436,133,131,81,42,36,57,53,53,25,7,12,7,41,14,11,7,9,13,13,16,25,26,14,12,7,3,38,20,5,203,3,4,27,4,4,9,3,4,5,7,4,7,5,4,3,2,1,2,2,1,40,2,2,6,1,2,2,1,1,2,1,2,2,1,1,2,2,2,1,2,1,7,2,1,1,2,2,2,1,2,1,2,3,4,2,4,3,1,3,2,1,2,28,3,1,3,1,3,2,2,3,2,2,1,3,4,1,4,1,2,7,3,2,25,1,4,4,2,1,1,2,3,2,1,1,4,2,2,2,2,2,1,2,6,12,2,2,3,1,3,2,1,2,2,2,97,37,53,34,73,69,172,114,144,198,494,97,405,104,115,144,58,168,578,670,16,18,47,35,31,31,25,38,162,41,39,37,90,206,33,38,31,44,121,133,267,114,142,123,120,59,93,164,272,383,333,484,433,186,178,1123,195,309,159,121,109,537,241,82,105,116,386,110,54,86,42,48,116,88,108,187,976,759,150,699,26,60,52,96,37,21,30,66,57,17,21,19,65,11,18,8,742,34,27,18,23,24,10,22,12,16,11,12,10,15,14,28,22,45,14,51,27,25,326,126,114,24,26,8,7,16,17,16,120,53,32,186,16,22,43,31,72,49,28,82,525,27,67,254,99,80,79,95,87,30,35,36,16,224,200,135,97,548,1136,34,24,32,109,201,119,76,34,78,14,44,66,28,35,48,230,186,232,217,120,61,74,67,81,518,179,535,283,161,70,53,513,31,59,166,138,115,78,21,21,13,46,128,165,75,49,277,182,57,50,63,98,54,64,783,122,21,94,14,56,113,51,205,59,38,67,22,60,38,7,13,131,3,2,27,2,9,4,4,2,6,2,3,196,95,25,101,61,355,75,562,119,219,17,8,15,6,4,3,2,6,4,9,20,9,9,127,264,7,8,4,7,7,4,6,4,8,3,4,68,8,6,71,85,32,276,3662,522,1360,37,422,1902,92,919,265,923,1828,550,2793,5504,3656,3860,2316,2081,3880,596,1002,752],\"index\":[41,42,43,44,45,46,47,48,49,50,51,52,53,54,55,56,57,58,59,60,61,62,63,64,65,66,67,68,69,70,71,88,89,90,91,92,93,94,95,96,97,98,99,100,101,102,103,104,105,106,107,108,109,110,111,112,113,114,115,116,117,118,119,120,121,122,123,124,125,126,127,128,129,130,131,132,133,134,135,136,137,138,139,140,141,142,143,144,145,146,147,148,149,150,151,152,153,154,155,156,157,158,159,160,161,162,163,164,165,166,167,168,169,170,171,172,173,174,175,176,177,178,179,180,181,182,183,184,185,186,187,188,189,190,191,192,193,194,195,196,197,198,199,200,201,202,203,204,205,206,207,208,209,210,211,212,213,214,215,216,217,218,219,220,221,222,223,224,225,226,227,228,229,230,231,232,233,234,235,236,237,238,239,240,241,242,243,244,245,246,247,248,249,250,251,252,253,254,255,256,257,258,259,260,261,262,263,264,265,266,267,268,269,270,271,272,273,274,275,276,277,278,279,280,281,282,283,284,285,286,287,288,289,290,291,292,293,294,295,296,297,298,299,300,301,302,303,304,305,306,307,308,309,310,311,312,313,314,315,316,317,318,319,320,321,322,323,324,325,326,327,328,329,330,331,332,333,334,335,336,337,338,339,340,341,342,343,344,345,346,347,348,349,350,351,352,353,354,355,356,357,358,359,360,361,362,363,364,365,366,367,368,369,370,371,372,373,374,375,376,377,378,379,380,381,382,383,384,385,386,387,388,389,390,391,392,393,394,395,396,397,398,399,400,401,402,403,404,405,406,407,408,409,410,411,412,413,414,415,416,417,418,419,420,421,422,423,424,425,426,427,428,429,430,431,432,433,434,435,436,437,438,439,440,441,442,443,444,445,446,447,448,449,450,451,452,453,454,455,456,457,458,459,460,461,462,463,464,465,466,467,468,469,470,471,472,473,474,475,476,477,478,479,480,481,482,483,484,485,486,487,488,489,490,491,492,493,494,495,496,497,498,499,500,501,502,503,504,505,506,507,508,509,510,511,512,513,514,515,516,517,518,519,520,521,522,523,524,525,526,527,528,529,530,531,532,533,534,535,536,537,538,539,540,541,542,543,544,545,546,547,548,549,552,553,554,555,556,557,558,559,560,561,562,563,564]},\"selected\":{\"id\":\"1738\"},\"selection_policy\":{\"id\":\"1737\"}},\"id\":\"1669\",\"type\":\"ColumnDataSource\"},{\"attributes\":{\"distribution\":\"normal\",\"range\":{\"id\":\"1637\"},\"width\":0.1},\"id\":\"1668\",\"type\":\"Jitter\"},{\"attributes\":{\"fill_alpha\":{\"value\":0.2},\"fill_color\":{\"value\":\"#1f77b4\"},\"hatch_alpha\":{\"value\":0.2},\"line_alpha\":{\"value\":0.2},\"line_color\":{\"value\":\"#1f77b4\"},\"x\":{\"field\":\"Prefix\",\"transform\":{\"id\":\"1668\"}},\"y\":{\"field\":\"Views\"}},\"id\":\"1673\",\"type\":\"Scatter\"},{\"attributes\":{},\"id\":\"1655\",\"type\":\"SaveTool\"},{\"attributes\":{\"bottom_units\":\"screen\",\"coordinates\":null,\"fill_alpha\":0.5,\"fill_color\":\"lightgrey\",\"group\":null,\"left_units\":\"screen\",\"level\":\"overlay\",\"line_alpha\":1.0,\"line_color\":\"black\",\"line_dash\":[4,4],\"line_width\":2,\"right_units\":\"screen\",\"syncable\":false,\"top_units\":\"screen\"},\"id\":\"1658\",\"type\":\"BoxAnnotation\"},{\"attributes\":{},\"id\":\"1649\",\"type\":\"BasicTicker\"},{\"attributes\":{},\"id\":\"1732\",\"type\":\"BasicTickFormatter\"},{\"attributes\":{},\"id\":\"1735\",\"type\":\"CategoricalTickFormatter\"},{\"attributes\":{\"axis\":{\"id\":\"1648\"},\"coordinates\":null,\"dimension\":1,\"group\":null,\"ticker\":null},\"id\":\"1651\",\"type\":\"Grid\"},{\"attributes\":{},\"id\":\"1656\",\"type\":\"ResetTool\"},{\"attributes\":{},\"id\":\"1737\",\"type\":\"UnionRenderers\"},{\"attributes\":{\"coordinates\":null,\"formatter\":{\"id\":\"1735\"},\"group\":null,\"major_label_policy\":{\"id\":\"1736\"},\"ticker\":{\"id\":\"1646\"}},\"id\":\"1645\",\"type\":\"CategoricalAxis\"},{\"attributes\":{},\"id\":\"1736\",\"type\":\"AllLabels\"},{\"attributes\":{},\"id\":\"1641\",\"type\":\"CategoricalScale\"},{\"attributes\":{},\"id\":\"1643\",\"type\":\"LinearScale\"},{\"attributes\":{},\"id\":\"1646\",\"type\":\"CategoricalTicker\"},{\"attributes\":{},\"id\":\"1652\",\"type\":\"PanTool\"},{\"attributes\":{},\"id\":\"1653\",\"type\":\"WheelZoomTool\"},{\"attributes\":{\"axis\":{\"id\":\"1645\"},\"coordinates\":null,\"group\":null,\"ticker\":null},\"id\":\"1647\",\"type\":\"Grid\"},{\"attributes\":{},\"id\":\"1639\",\"type\":\"DataRange1d\"},{\"attributes\":{},\"id\":\"1657\",\"type\":\"HelpTool\"},{\"attributes\":{},\"id\":\"1733\",\"type\":\"AllLabels\"},{\"attributes\":{\"callback\":null,\"tooltips\":[[\"URL\",\"@Path\"],[\"Views\",\"@Views\"]]},\"id\":\"1659\",\"type\":\"HoverTool\"},{\"attributes\":{},\"id\":\"1738\",\"type\":\"Selection\"},{\"attributes\":{\"overlay\":{\"id\":\"1658\"}},\"id\":\"1654\",\"type\":\"BoxZoomTool\"},{\"attributes\":{\"tools\":[{\"id\":\"1652\"},{\"id\":\"1653\"},{\"id\":\"1654\"},{\"id\":\"1655\"},{\"id\":\"1656\"},{\"id\":\"1657\"},{\"id\":\"1659\"}]},\"id\":\"1660\",\"type\":\"Toolbar\"},{\"attributes\":{\"axis_label\":\"Total page views\",\"coordinates\":null,\"formatter\":{\"id\":\"1732\"},\"group\":null,\"major_label_policy\":{\"id\":\"1733\"},\"ticker\":{\"id\":\"1649\"}},\"id\":\"1648\",\"type\":\"LinearAxis\"},{\"attributes\":{\"source\":{\"id\":\"1669\"}},\"id\":\"1675\",\"type\":\"CDSView\"},{\"attributes\":{\"fill_color\":{\"value\":\"#1f77b4\"},\"line_color\":{\"value\":\"#1f77b4\"},\"x\":{\"field\":\"Prefix\",\"transform\":{\"id\":\"1668\"}},\"y\":{\"field\":\"Views\"}},\"id\":\"1671\",\"type\":\"Scatter\"},{\"attributes\":{\"coordinates\":null,\"data_source\":{\"id\":\"1669\"},\"glyph\":{\"id\":\"1671\"},\"group\":null,\"hover_glyph\":null,\"muted_glyph\":{\"id\":\"1673\"},\"nonselection_glyph\":{\"id\":\"1672\"},\"view\":{\"id\":\"1675\"}},\"id\":\"1674\",\"type\":\"GlyphRenderer\"},{\"attributes\":{\"fill_alpha\":{\"value\":0.1},\"fill_color\":{\"value\":\"#1f77b4\"},\"hatch_alpha\":{\"value\":0.1},\"line_alpha\":{\"value\":0.1},\"line_color\":{\"value\":\"#1f77b4\"},\"x\":{\"field\":\"Prefix\",\"transform\":{\"id\":\"1668\"}},\"y\":{\"field\":\"Views\"}},\"id\":\"1672\",\"type\":\"Scatter\"},{\"attributes\":{\"coordinates\":null,\"group\":null,\"text\":\"Page views by docs page (2022-06-15 to 2022-10-13)\"},\"id\":\"1635\",\"type\":\"Title\"},{\"attributes\":{\"factors\":[\"gallery\",\"reference\",\"user_guide\"]},\"id\":\"1637\",\"type\":\"FactorRange\"}],\"root_ids\":[\"1634\"]},\"title\":\"Bokeh Application\",\"version\":\"2.4.3\"}};\n",
       "  const render_items = [{\"docid\":\"a71b6d91-5bbe-4f76-8b14-1c3deac8f22b\",\"root_ids\":[\"1634\"],\"roots\":{\"1634\":\"6ec8f008-de28-4a26-83dd-b77ad0953283\"}}];\n",
       "  root.Bokeh.embed.embed_items_notebook(docs_json, render_items);\n",
       "  }\n",
       "  if (root.Bokeh !== undefined) {\n",
       "    embed_document(root);\n",
       "  } else {\n",
       "    let attempts = 0;\n",
       "    const timer = setInterval(function(root) {\n",
       "      if (root.Bokeh !== undefined) {\n",
       "        clearInterval(timer);\n",
       "        embed_document(root);\n",
       "      } else {\n",
       "        attempts++;\n",
       "        if (attempts > 100) {\n",
       "          clearInterval(timer);\n",
       "          console.log(\"Bokeh: ERROR: Unable to run BokehJS code because BokehJS library is missing\");\n",
       "        }\n",
       "      }\n",
       "    }, 10, root)\n",
       "  }\n",
       "})(window);"
      ],
      "application/vnd.bokehjs_exec.v0+json": ""
     },
     "metadata": {
      "application/vnd.bokehjs_exec.v0+json": {
       "id": "1634"
      }
     },
     "output_type": "display_data"
    }
   ],
   "source": [
    "subset = pathviews.loc[pathviews['Prefix'].isin(prefixes), :]\n",
    "\n",
    "p = figure(x_range=prefixes, height=350, tooltips=[(\"URL\", \"@Path\"), (\"Views\", \"@Views\")],\n",
    "           title=f\"Page views by docs page ({data_period})\")\n",
    "p.scatter(x=jitter('Prefix', width=0.1, range=p.x_range, distribution='normal'),\n",
    "          y='Views', source=subset)\n",
    "p.yaxis.axis_label = 'Total page views'\n",
    "show(p)"
   ]
  }
 ],
 "metadata": {
  "kernelspec": {
   "display_name": "Python 3 (ipykernel)",
   "language": "python",
   "name": "python3"
  },
  "language_info": {
   "codemirror_mode": {
    "name": "ipython",
    "version": 3
   },
   "file_extension": ".py",
   "mimetype": "text/x-python",
   "name": "python",
   "nbconvert_exporter": "python",
   "pygments_lexer": "ipython3",
   "version": "3.9.14"
  }
 },
 "nbformat": 4,
 "nbformat_minor": 5
}
